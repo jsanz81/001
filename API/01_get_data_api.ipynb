{
 "cells": [
  {
   "attachments": {},
   "cell_type": "markdown",
   "metadata": {},
   "source": [
    "# API"
   ]
  },
  {
   "attachments": {},
   "cell_type": "markdown",
   "metadata": {},
   "source": [
    "* serializar  \n",
    "        dict/list -> json\n",
    "\n",
    "* deserializacion  \n",
    "        json -> diccionario/lista"
   ]
  },
  {
   "cell_type": "code",
   "execution_count": 1,
   "metadata": {},
   "outputs": [],
   "source": [
    "# diccionario\n",
    "\n",
    "dic_ejemplo={'nombre': 'maria',\n",
    "             'apellidos':{'apellido1':'perez', 'apellido2':'garcia'},\n",
    "            'edad':45,\n",
    "            'geoloc':(45.9, 18.9),\n",
    "            'mascotas':[{'perro':'chucky'},{'gato':'doraemon'}]\n",
    "            }"
   ]
  },
  {
   "cell_type": "code",
   "execution_count": 2,
   "metadata": {},
   "outputs": [
    {
     "data": {
      "text/plain": [
       "dict"
      ]
     },
     "execution_count": 2,
     "metadata": {},
     "output_type": "execute_result"
    }
   ],
   "source": [
    "type(dic_ejemplo)"
   ]
  },
  {
   "cell_type": "code",
   "execution_count": 3,
   "metadata": {},
   "outputs": [
    {
     "data": {
      "text/plain": [
       "{'nombre': 'maria',\n",
       " 'apellidos': {'apellido1': 'perez', 'apellido2': 'garcia'},\n",
       " 'edad': 45,\n",
       " 'geoloc': (45.9, 18.9),\n",
       " 'mascotas': [{'perro': 'chucky'}, {'gato': 'doraemon'}]}"
      ]
     },
     "execution_count": 3,
     "metadata": {},
     "output_type": "execute_result"
    }
   ],
   "source": [
    "dic_ejemplo"
   ]
  },
  {
   "cell_type": "code",
   "execution_count": 4,
   "metadata": {},
   "outputs": [
    {
     "data": {
      "text/plain": [
       "dict_keys(['nombre', 'apellidos', 'edad', 'geoloc', 'mascotas'])"
      ]
     },
     "execution_count": 4,
     "metadata": {},
     "output_type": "execute_result"
    }
   ],
   "source": [
    "dic_ejemplo.keys()"
   ]
  },
  {
   "cell_type": "code",
   "execution_count": 5,
   "metadata": {},
   "outputs": [
    {
     "data": {
      "text/plain": [
       "dict_values(['maria', {'apellido1': 'perez', 'apellido2': 'garcia'}, 45, (45.9, 18.9), [{'perro': 'chucky'}, {'gato': 'doraemon'}]])"
      ]
     },
     "execution_count": 5,
     "metadata": {},
     "output_type": "execute_result"
    }
   ],
   "source": [
    "dic_ejemplo.values()"
   ]
  },
  {
   "cell_type": "code",
   "execution_count": 6,
   "metadata": {},
   "outputs": [],
   "source": [
    "lista_ejemplo=['string', 15,8,9, [4,5,6], None]"
   ]
  },
  {
   "cell_type": "code",
   "execution_count": 7,
   "metadata": {},
   "outputs": [
    {
     "data": {
      "text/plain": [
       "list"
      ]
     },
     "execution_count": 7,
     "metadata": {},
     "output_type": "execute_result"
    }
   ],
   "source": [
    "type(lista_ejemplo)"
   ]
  },
  {
   "attachments": {},
   "cell_type": "markdown",
   "metadata": {},
   "source": [
    "### SERIALIZACION A JSON  \n",
    "##### javascript object anotation"
   ]
  },
  {
   "cell_type": "code",
   "execution_count": 8,
   "metadata": {},
   "outputs": [],
   "source": [
    "import json"
   ]
  },
  {
   "cell_type": "code",
   "execution_count": 9,
   "metadata": {},
   "outputs": [],
   "source": [
    "json_dict=json.dumps(dic_ejemplo)"
   ]
  },
  {
   "cell_type": "code",
   "execution_count": 10,
   "metadata": {},
   "outputs": [
    {
     "data": {
      "text/plain": [
       "str"
      ]
     },
     "execution_count": 10,
     "metadata": {},
     "output_type": "execute_result"
    }
   ],
   "source": [
    "type(json_dict)"
   ]
  },
  {
   "cell_type": "code",
   "execution_count": 11,
   "metadata": {},
   "outputs": [
    {
     "data": {
      "text/plain": [
       "'{\"nombre\": \"maria\", \"apellidos\": {\"apellido1\": \"perez\", \"apellido2\": \"garcia\"}, \"edad\": 45, \"geoloc\": [45.9, 18.9], \"mascotas\": [{\"perro\": \"chucky\"}, {\"gato\": \"doraemon\"}]}'"
      ]
     },
     "execution_count": 11,
     "metadata": {},
     "output_type": "execute_result"
    }
   ],
   "source": [
    "json_dict"
   ]
  },
  {
   "cell_type": "code",
   "execution_count": 12,
   "metadata": {},
   "outputs": [],
   "source": [
    "json_list=json.dumps(lista_ejemplo)"
   ]
  },
  {
   "cell_type": "code",
   "execution_count": 13,
   "metadata": {},
   "outputs": [
    {
     "data": {
      "text/plain": [
       "str"
      ]
     },
     "execution_count": 13,
     "metadata": {},
     "output_type": "execute_result"
    }
   ],
   "source": [
    "type(json_list)\n",
    "\n",
    "#es una cadena"
   ]
  },
  {
   "cell_type": "code",
   "execution_count": 14,
   "metadata": {},
   "outputs": [
    {
     "data": {
      "text/plain": [
       "'ring\", 15, 8, 9, [4, '"
      ]
     },
     "execution_count": 14,
     "metadata": {},
     "output_type": "execute_result"
    }
   ],
   "source": [
    "json_list[4:25]\n",
    "#devuelve de la posoicion 5 a la 24 de la cadena"
   ]
  },
  {
   "attachments": {},
   "cell_type": "markdown",
   "metadata": {},
   "source": [
    "### DESERIALIZACION DE JSON"
   ]
  },
  {
   "cell_type": "code",
   "execution_count": 15,
   "metadata": {},
   "outputs": [],
   "source": [
    "json_to_dict=json.loads(json_dict)"
   ]
  },
  {
   "cell_type": "code",
   "execution_count": 16,
   "metadata": {},
   "outputs": [
    {
     "data": {
      "text/plain": [
       "dict"
      ]
     },
     "execution_count": 16,
     "metadata": {},
     "output_type": "execute_result"
    }
   ],
   "source": [
    "type(json_to_dict)\n",
    "\n",
    "#vuelve a diccionario"
   ]
  },
  {
   "cell_type": "code",
   "execution_count": 17,
   "metadata": {},
   "outputs": [
    {
     "data": {
      "text/plain": [
       "{'nombre': 'maria',\n",
       " 'apellidos': {'apellido1': 'perez', 'apellido2': 'garcia'},\n",
       " 'edad': 45,\n",
       " 'geoloc': [45.9, 18.9],\n",
       " 'mascotas': [{'perro': 'chucky'}, {'gato': 'doraemon'}]}"
      ]
     },
     "execution_count": 17,
     "metadata": {},
     "output_type": "execute_result"
    }
   ],
   "source": [
    "json_to_dict"
   ]
  },
  {
   "cell_type": "code",
   "execution_count": 18,
   "metadata": {},
   "outputs": [],
   "source": [
    "json_to_list=json.loads(json_list)"
   ]
  },
  {
   "cell_type": "code",
   "execution_count": 19,
   "metadata": {},
   "outputs": [
    {
     "data": {
      "text/plain": [
       "list"
      ]
     },
     "execution_count": 19,
     "metadata": {},
     "output_type": "execute_result"
    }
   ],
   "source": [
    "type(json_to_list)"
   ]
  },
  {
   "attachments": {},
   "cell_type": "markdown",
   "metadata": {},
   "source": [
    "### CONEXION CON API/DB/Servidores"
   ]
  },
  {
   "cell_type": "code",
   "execution_count": 20,
   "metadata": {},
   "outputs": [],
   "source": [
    "# libreria con metodos GET y POST\n",
    "import requests\n",
    "import urllib\n",
    "import pandas as pd\n",
    "import numpy as np\n"
   ]
  },
  {
   "cell_type": "code",
   "execution_count": 39,
   "metadata": {},
   "outputs": [],
   "source": [
    "# estructura solicitud request\n",
    "\n",
    "api_url='http://api.postcodes.io/postcodes/'\n",
    "zipcode='NE30 1DP'\n",
    "\n",
    "# response recibe la información solcitada con GET (requests.get())\n",
    "r=requests.get(api_url+zipcode)"
   ]
  },
  {
   "cell_type": "code",
   "execution_count": 40,
   "metadata": {},
   "outputs": [
    {
     "name": "stdout",
     "output_type": "stream",
     "text": [
      "request OK\n"
     ]
    }
   ],
   "source": [
    "if r.status_code in range(200,300):\n",
    "    print(\"request OK\")\n",
    "    "
   ]
  },
  {
   "cell_type": "code",
   "execution_count": 41,
   "metadata": {},
   "outputs": [
    {
     "data": {
      "text/plain": [
       "{'Date': 'Sat, 10 Jun 2023 20:24:30 GMT', 'Content-Type': 'application/json; charset=utf-8', 'Transfer-Encoding': 'chunked', 'Connection': 'keep-alive', 'x-gnu': 'Michael J Blanchard', 'access-control-allow-origin': '*', 'etag': 'W/\"3b6-BrmR8ce2+HDRdMnRSvrjHypVDJE\"', 'CF-Cache-Status': 'HIT', 'Age': '8976', 'Report-To': '{\"endpoints\":[{\"url\":\"https:\\\\/\\\\/a.nel.cloudflare.com\\\\/report\\\\/v3?s=ltK1%2BWWdBMHDG1z6li%2Fofn4KRpLsyqzJpszKwAw13yahzyHxchTSb%2Ff5qYgHqBcb7BNosi627bxbapsqYRU1ecMt5dOAW0C%2B1itoWBYD2Fc3WrAqy8%2BfFqVoIbBYNuzp5Uo%3D\"}],\"group\":\"cf-nel\",\"max_age\":604800}', 'NEL': '{\"success_fraction\":0,\"report_to\":\"cf-nel\",\"max_age\":604800}', 'Vary': 'Accept-Encoding', 'Server': 'cloudflare', 'CF-RAY': '7d5456972e836689-MAD', 'Content-Encoding': 'gzip'}"
      ]
     },
     "execution_count": 41,
     "metadata": {},
     "output_type": "execute_result"
    }
   ],
   "source": [
    "# Cabcera del GET\n",
    "r.headers"
   ]
  },
  {
   "cell_type": "code",
   "execution_count": 42,
   "metadata": {},
   "outputs": [
    {
     "data": {
      "text/plain": [
       "'{\"status\":200,\"result\":{\"postcode\":\"NE30 1DP\",\"quality\":1,\"eastings\":435958,\"northings\":568671,\"country\":\"England\",\"nhs_ha\":\"North East\",\"longitude\":-1.439269,\"latitude\":55.011303,\"european_electoral_region\":\"North East\",\"primary_care_trust\":\"North Tyneside\",\"region\":\"North East\",\"lsoa\":\"North Tyneside 016C\",\"msoa\":\"North Tyneside 016\",\"incode\":\"1DP\",\"outcode\":\"NE30\",\"parliamentary_constituency\":\"Tynemouth\",\"admin_district\":\"North Tyneside\",\"parish\":\"North Tyneside, unparished area\",\"admin_county\":null,\"date_of_introduction\":\"201303\",\"admin_ward\":\"Tynemouth\",\"ced\":null,\"ccg\":\"NHS North East and North Cumbria\",\"nuts\":\"Tyneside\",\"pfa\":\"Northumbria\",\"codes\":{\"admin_district\":\"E08000022\",\"admin_county\":\"E99999999\",\"admin_ward\":\"E05001130\",\"parish\":\"E43000176\",\"parliamentary_constituency\":\"E14001006\",\"ccg\":\"E38000127\",\"ccg_id\":\"99C\",\"ced\":\"E99999999\",\"nuts\":\"TLC22\",\"lsoa\":\"E01008561\",\"msoa\":\"E02001753\",\"lau2\":\"E08000022\",\"pfa\":\"E23000007\"}}}'"
      ]
     },
     "execution_count": 42,
     "metadata": {},
     "output_type": "execute_result"
    }
   ],
   "source": [
    "# Información de la solicitud\n",
    "r.text"
   ]
  },
  {
   "attachments": {},
   "cell_type": "markdown",
   "metadata": {},
   "source": [
    "* estructura de la información  \n",
    "    > status y result\n",
    "\n",
    "'{\"status\":200,\"result\":{\"postcode\":\"NE30 1DP\",\"quality\":1,\"eastings\":435958,\"northings\":568671,\"country\":\"England\",\"nhs_ha\":\"North East\",\"longitude\":-1.439269,\"latitude\":55.011303,\"european_electoral_region\":\"North East\",\"primary_care_trust\":\"North Tyneside\",\"region\":\"North East\",\"lsoa\":\"North Tyneside 016C\",\"msoa\":\"North Tyneside 016\",\"incode\":\"1DP\",\"outcode\":\"NE30\",\"parliamentary_constituency\":\"Tynemouth\",\"admin_district\":\"North Tyneside\",\"parish\":\"North Tyneside, unparished area\",\"admin_county\":null,\"date_of_introduction\":\"201303\",\"admin_ward\":\"Tynemouth\",\"ced\":null,\"ccg\":\"NHS North East and North Cumbria\",\"nuts\":\"Tyneside\",\"pfa\":\"Northumbria\",\"codes\":{\"admin_district\":\"E08000022\",\"admin_county\":\"E99999999\",\"admin_ward\":\"E05001130\",\"parish\":\"E43000176\",\"parliamentary_constituency\":\"E14001006\",\"ccg\":\"E38000127\",\"ccg_id\":\"99C\",\"ced\":\"E99999999\",\"nuts\":\"TLC22\",\"lsoa\":\"E01008561\",\"msoa\":\"E02001753\",\"lau2\":\"E08000022\",\"pfa\":\"E23000007\"}}}'"
   ]
  },
  {
   "cell_type": "code",
   "execution_count": 43,
   "metadata": {},
   "outputs": [
    {
     "data": {
      "text/plain": [
       "'Sat, 10 Jun 2023 20:24:30 GMT'"
      ]
     },
     "execution_count": 43,
     "metadata": {},
     "output_type": "execute_result"
    }
   ],
   "source": [
    "r.headers[\"Date\"]"
   ]
  },
  {
   "cell_type": "code",
   "execution_count": 44,
   "metadata": {},
   "outputs": [
    {
     "data": {
      "text/plain": [
       "'http://api.postcodes.io/postcodes/NE30%201DP'"
      ]
     },
     "execution_count": 44,
     "metadata": {},
     "output_type": "execute_result"
    }
   ],
   "source": [
    "r.url"
   ]
  },
  {
   "cell_type": "code",
   "execution_count": 45,
   "metadata": {},
   "outputs": [
    {
     "data": {
      "text/plain": [
       "b'{\"status\":200,\"result\":{\"postcode\":\"NE30 1DP\",\"quality\":1,\"eastings\":435958,\"northings\":568671,\"country\":\"England\",\"nhs_ha\":\"North East\",\"longitude\":-1.439269,\"latitude\":55.011303,\"european_electoral_region\":\"North East\",\"primary_care_trust\":\"North Tyneside\",\"region\":\"North East\",\"lsoa\":\"North Tyneside 016C\",\"msoa\":\"North Tyneside 016\",\"incode\":\"1DP\",\"outcode\":\"NE30\",\"parliamentary_constituency\":\"Tynemouth\",\"admin_district\":\"North Tyneside\",\"parish\":\"North Tyneside, unparished area\",\"admin_county\":null,\"date_of_introduction\":\"201303\",\"admin_ward\":\"Tynemouth\",\"ced\":null,\"ccg\":\"NHS North East and North Cumbria\",\"nuts\":\"Tyneside\",\"pfa\":\"Northumbria\",\"codes\":{\"admin_district\":\"E08000022\",\"admin_county\":\"E99999999\",\"admin_ward\":\"E05001130\",\"parish\":\"E43000176\",\"parliamentary_constituency\":\"E14001006\",\"ccg\":\"E38000127\",\"ccg_id\":\"99C\",\"ced\":\"E99999999\",\"nuts\":\"TLC22\",\"lsoa\":\"E01008561\",\"msoa\":\"E02001753\",\"lau2\":\"E08000022\",\"pfa\":\"E23000007\"}}}'"
      ]
     },
     "execution_count": 45,
     "metadata": {},
     "output_type": "execute_result"
    }
   ],
   "source": [
    "r.content\n",
    "#tipo byte (b' al principio)"
   ]
  },
  {
   "cell_type": "code",
   "execution_count": 46,
   "metadata": {},
   "outputs": [
    {
     "data": {
      "text/plain": [
       "'{\"status\":200,\"result\":{\"postcode\":\"NE30 1DP\",\"quality\":1,\"eastings\":435958,\"northings\":568671,\"country\":\"England\",\"nhs_ha\":\"North East\",\"longitude\":-1.439269,\"latitude\":55.011303,\"european_electoral_region\":\"North East\",\"primary_care_trust\":\"North Tyneside\",\"region\":\"North East\",\"lsoa\":\"North Tyneside 016C\",\"msoa\":\"North Tyneside 016\",\"incode\":\"1DP\",\"outcode\":\"NE30\",\"parliamentary_constituency\":\"Tynemouth\",\"admin_district\":\"North Tyneside\",\"parish\":\"North Tyneside, unparished area\",\"admin_county\":null,\"date_of_introduction\":\"201303\",\"admin_ward\":\"Tynemouth\",\"ced\":null,\"ccg\":\"NHS North East and North Cumbria\",\"nuts\":\"Tyneside\",\"pfa\":\"Northumbria\",\"codes\":{\"admin_district\":\"E08000022\",\"admin_county\":\"E99999999\",\"admin_ward\":\"E05001130\",\"parish\":\"E43000176\",\"parliamentary_constituency\":\"E14001006\",\"ccg\":\"E38000127\",\"ccg_id\":\"99C\",\"ced\":\"E99999999\",\"nuts\":\"TLC22\",\"lsoa\":\"E01008561\",\"msoa\":\"E02001753\",\"lau2\":\"E08000022\",\"pfa\":\"E23000007\"}}}'"
      ]
     },
     "execution_count": 46,
     "metadata": {},
     "output_type": "execute_result"
    }
   ],
   "source": [
    "r.text\n",
    "#tipo string. Hay que serializarlo"
   ]
  },
  {
   "cell_type": "code",
   "execution_count": 57,
   "metadata": {},
   "outputs": [
    {
     "data": {
      "text/plain": [
       "{'status': 200,\n",
       " 'result': {'postcode': 'NE30 1DP',\n",
       "  'quality': 1,\n",
       "  'eastings': 435958,\n",
       "  'northings': 568671,\n",
       "  'country': 'England',\n",
       "  'nhs_ha': 'North East',\n",
       "  'longitude': -1.439269,\n",
       "  'latitude': 55.011303,\n",
       "  'european_electoral_region': 'North East',\n",
       "  'primary_care_trust': 'North Tyneside',\n",
       "  'region': 'North East',\n",
       "  'lsoa': 'North Tyneside 016C',\n",
       "  'msoa': 'North Tyneside 016',\n",
       "  'incode': '1DP',\n",
       "  'outcode': 'NE30',\n",
       "  'parliamentary_constituency': 'Tynemouth',\n",
       "  'admin_district': 'North Tyneside',\n",
       "  'parish': 'North Tyneside, unparished area',\n",
       "  'admin_county': None,\n",
       "  'date_of_introduction': '201303',\n",
       "  'admin_ward': 'Tynemouth',\n",
       "  'ced': None,\n",
       "  'ccg': 'NHS North East and North Cumbria',\n",
       "  'nuts': 'Tyneside',\n",
       "  'pfa': 'Northumbria',\n",
       "  'codes': {'admin_district': 'E08000022',\n",
       "   'admin_county': 'E99999999',\n",
       "   'admin_ward': 'E05001130',\n",
       "   'parish': 'E43000176',\n",
       "   'parliamentary_constituency': 'E14001006',\n",
       "   'ccg': 'E38000127',\n",
       "   'ccg_id': '99C',\n",
       "   'ced': 'E99999999',\n",
       "   'nuts': 'TLC22',\n",
       "   'lsoa': 'E01008561',\n",
       "   'msoa': 'E02001753',\n",
       "   'lau2': 'E08000022',\n",
       "   'pfa': 'E23000007'}}}"
      ]
     },
     "execution_count": 57,
     "metadata": {},
     "output_type": "execute_result"
    }
   ],
   "source": [
    "contenido=json.loads(r.text)\n",
    "contenido"
   ]
  },
  {
   "cell_type": "code",
   "execution_count": 48,
   "metadata": {},
   "outputs": [
    {
     "data": {
      "text/plain": [
       "dict_keys(['status', 'result'])"
      ]
     },
     "execution_count": 48,
     "metadata": {},
     "output_type": "execute_result"
    }
   ],
   "source": [
    "contenido.keys()"
   ]
  },
  {
   "cell_type": "code",
   "execution_count": 49,
   "metadata": {},
   "outputs": [
    {
     "data": {
      "text/plain": [
       "200"
      ]
     },
     "execution_count": 49,
     "metadata": {},
     "output_type": "execute_result"
    }
   ],
   "source": [
    "contenido['status']"
   ]
  },
  {
   "cell_type": "code",
   "execution_count": 50,
   "metadata": {},
   "outputs": [
    {
     "data": {
      "text/plain": [
       "{'postcode': 'NE30 1DP',\n",
       " 'quality': 1,\n",
       " 'eastings': 435958,\n",
       " 'northings': 568671,\n",
       " 'country': 'England',\n",
       " 'nhs_ha': 'North East',\n",
       " 'longitude': -1.439269,\n",
       " 'latitude': 55.011303,\n",
       " 'european_electoral_region': 'North East',\n",
       " 'primary_care_trust': 'North Tyneside',\n",
       " 'region': 'North East',\n",
       " 'lsoa': 'North Tyneside 016C',\n",
       " 'msoa': 'North Tyneside 016',\n",
       " 'incode': '1DP',\n",
       " 'outcode': 'NE30',\n",
       " 'parliamentary_constituency': 'Tynemouth',\n",
       " 'admin_district': 'North Tyneside',\n",
       " 'parish': 'North Tyneside, unparished area',\n",
       " 'admin_county': None,\n",
       " 'date_of_introduction': '201303',\n",
       " 'admin_ward': 'Tynemouth',\n",
       " 'ced': None,\n",
       " 'ccg': 'NHS North East and North Cumbria',\n",
       " 'nuts': 'Tyneside',\n",
       " 'pfa': 'Northumbria',\n",
       " 'codes': {'admin_district': 'E08000022',\n",
       "  'admin_county': 'E99999999',\n",
       "  'admin_ward': 'E05001130',\n",
       "  'parish': 'E43000176',\n",
       "  'parliamentary_constituency': 'E14001006',\n",
       "  'ccg': 'E38000127',\n",
       "  'ccg_id': '99C',\n",
       "  'ced': 'E99999999',\n",
       "  'nuts': 'TLC22',\n",
       "  'lsoa': 'E01008561',\n",
       "  'msoa': 'E02001753',\n",
       "  'lau2': 'E08000022',\n",
       "  'pfa': 'E23000007'}}"
      ]
     },
     "execution_count": 50,
     "metadata": {},
     "output_type": "execute_result"
    }
   ],
   "source": [
    "contenido['result']"
   ]
  },
  {
   "cell_type": "code",
   "execution_count": 51,
   "metadata": {},
   "outputs": [
    {
     "data": {
      "text/plain": [
       "dict_keys(['postcode', 'quality', 'eastings', 'northings', 'country', 'nhs_ha', 'longitude', 'latitude', 'european_electoral_region', 'primary_care_trust', 'region', 'lsoa', 'msoa', 'incode', 'outcode', 'parliamentary_constituency', 'admin_district', 'parish', 'admin_county', 'date_of_introduction', 'admin_ward', 'ced', 'ccg', 'nuts', 'pfa', 'codes'])"
      ]
     },
     "execution_count": 51,
     "metadata": {},
     "output_type": "execute_result"
    }
   ],
   "source": [
    "contenido['result'].keys()"
   ]
  },
  {
   "cell_type": "code",
   "execution_count": 52,
   "metadata": {},
   "outputs": [
    {
     "data": {
      "text/html": [
       "<div>\n",
       "<style scoped>\n",
       "    .dataframe tbody tr th:only-of-type {\n",
       "        vertical-align: middle;\n",
       "    }\n",
       "\n",
       "    .dataframe tbody tr th {\n",
       "        vertical-align: top;\n",
       "    }\n",
       "\n",
       "    .dataframe thead th {\n",
       "        text-align: right;\n",
       "    }\n",
       "</style>\n",
       "<table border=\"1\" class=\"dataframe\">\n",
       "  <thead>\n",
       "    <tr style=\"text-align: right;\">\n",
       "      <th></th>\n",
       "      <th>postcode</th>\n",
       "      <th>quality</th>\n",
       "      <th>eastings</th>\n",
       "      <th>northings</th>\n",
       "      <th>country</th>\n",
       "      <th>nhs_ha</th>\n",
       "      <th>longitude</th>\n",
       "      <th>latitude</th>\n",
       "      <th>european_electoral_region</th>\n",
       "      <th>primary_care_trust</th>\n",
       "      <th>...</th>\n",
       "      <th>admin_district</th>\n",
       "      <th>parish</th>\n",
       "      <th>admin_county</th>\n",
       "      <th>date_of_introduction</th>\n",
       "      <th>admin_ward</th>\n",
       "      <th>ced</th>\n",
       "      <th>ccg</th>\n",
       "      <th>nuts</th>\n",
       "      <th>pfa</th>\n",
       "      <th>codes</th>\n",
       "    </tr>\n",
       "  </thead>\n",
       "  <tbody>\n",
       "    <tr>\n",
       "      <th>admin_county</th>\n",
       "      <td>NE30 1DP</td>\n",
       "      <td>1</td>\n",
       "      <td>435958</td>\n",
       "      <td>568671</td>\n",
       "      <td>England</td>\n",
       "      <td>North East</td>\n",
       "      <td>-1.439269</td>\n",
       "      <td>55.011303</td>\n",
       "      <td>North East</td>\n",
       "      <td>North Tyneside</td>\n",
       "      <td>...</td>\n",
       "      <td>North Tyneside</td>\n",
       "      <td>North Tyneside, unparished area</td>\n",
       "      <td>None</td>\n",
       "      <td>201303</td>\n",
       "      <td>Tynemouth</td>\n",
       "      <td>None</td>\n",
       "      <td>NHS North East and North Cumbria</td>\n",
       "      <td>Tyneside</td>\n",
       "      <td>Northumbria</td>\n",
       "      <td>E99999999</td>\n",
       "    </tr>\n",
       "    <tr>\n",
       "      <th>admin_district</th>\n",
       "      <td>NE30 1DP</td>\n",
       "      <td>1</td>\n",
       "      <td>435958</td>\n",
       "      <td>568671</td>\n",
       "      <td>England</td>\n",
       "      <td>North East</td>\n",
       "      <td>-1.439269</td>\n",
       "      <td>55.011303</td>\n",
       "      <td>North East</td>\n",
       "      <td>North Tyneside</td>\n",
       "      <td>...</td>\n",
       "      <td>North Tyneside</td>\n",
       "      <td>North Tyneside, unparished area</td>\n",
       "      <td>None</td>\n",
       "      <td>201303</td>\n",
       "      <td>Tynemouth</td>\n",
       "      <td>None</td>\n",
       "      <td>NHS North East and North Cumbria</td>\n",
       "      <td>Tyneside</td>\n",
       "      <td>Northumbria</td>\n",
       "      <td>E08000022</td>\n",
       "    </tr>\n",
       "  </tbody>\n",
       "</table>\n",
       "<p>2 rows × 26 columns</p>\n",
       "</div>"
      ],
      "text/plain": [
       "                postcode  quality  eastings  northings  country      nhs_ha   \n",
       "admin_county    NE30 1DP        1    435958     568671  England  North East  \\\n",
       "admin_district  NE30 1DP        1    435958     568671  England  North East   \n",
       "\n",
       "                longitude   latitude european_electoral_region   \n",
       "admin_county    -1.439269  55.011303                North East  \\\n",
       "admin_district  -1.439269  55.011303                North East   \n",
       "\n",
       "               primary_care_trust  ...  admin_district   \n",
       "admin_county       North Tyneside  ...  North Tyneside  \\\n",
       "admin_district     North Tyneside  ...  North Tyneside   \n",
       "\n",
       "                                         parish admin_county   \n",
       "admin_county    North Tyneside, unparished area         None  \\\n",
       "admin_district  North Tyneside, unparished area         None   \n",
       "\n",
       "               date_of_introduction admin_ward   ced   \n",
       "admin_county                 201303  Tynemouth  None  \\\n",
       "admin_district               201303  Tynemouth  None   \n",
       "\n",
       "                                             ccg      nuts          pfa   \n",
       "admin_county    NHS North East and North Cumbria  Tyneside  Northumbria  \\\n",
       "admin_district  NHS North East and North Cumbria  Tyneside  Northumbria   \n",
       "\n",
       "                    codes  \n",
       "admin_county    E99999999  \n",
       "admin_district  E08000022  \n",
       "\n",
       "[2 rows x 26 columns]"
      ]
     },
     "execution_count": 52,
     "metadata": {},
     "output_type": "execute_result"
    }
   ],
   "source": [
    "pd.DataFrame(contenido['result']).head(2)"
   ]
  },
  {
   "cell_type": "code",
   "execution_count": 53,
   "metadata": {},
   "outputs": [
    {
     "data": {
      "text/plain": [
       "'North East'"
      ]
     },
     "execution_count": 53,
     "metadata": {},
     "output_type": "execute_result"
    }
   ],
   "source": [
    "contenido['result']['region']"
   ]
  },
  {
   "cell_type": "code",
   "execution_count": 54,
   "metadata": {},
   "outputs": [],
   "source": [
    "# sacar del diccionario solo los resultados que queramos y almacenarlos en un diccionario\n",
    "\n",
    "new_dict={\n",
    "    'zipcode':contenido['result']['postcode'],\n",
    "    'region':contenido['result']['region']\n",
    "}"
   ]
  },
  {
   "cell_type": "code",
   "execution_count": 55,
   "metadata": {},
   "outputs": [
    {
     "data": {
      "text/plain": [
       "{'zipcode': 'NE30 1DP', 'region': 'North East'}"
      ]
     },
     "execution_count": 55,
     "metadata": {},
     "output_type": "execute_result"
    }
   ],
   "source": [
    "new_dict"
   ]
  },
  {
   "cell_type": "code",
   "execution_count": 56,
   "metadata": {},
   "outputs": [
    {
     "data": {
      "text/html": [
       "<div>\n",
       "<style scoped>\n",
       "    .dataframe tbody tr th:only-of-type {\n",
       "        vertical-align: middle;\n",
       "    }\n",
       "\n",
       "    .dataframe tbody tr th {\n",
       "        vertical-align: top;\n",
       "    }\n",
       "\n",
       "    .dataframe thead th {\n",
       "        text-align: right;\n",
       "    }\n",
       "</style>\n",
       "<table border=\"1\" class=\"dataframe\">\n",
       "  <thead>\n",
       "    <tr style=\"text-align: right;\">\n",
       "      <th></th>\n",
       "      <th>zipcode</th>\n",
       "      <th>region</th>\n",
       "    </tr>\n",
       "  </thead>\n",
       "  <tbody>\n",
       "    <tr>\n",
       "      <th>0</th>\n",
       "      <td>NE30 1DP</td>\n",
       "      <td>North East</td>\n",
       "    </tr>\n",
       "  </tbody>\n",
       "</table>\n",
       "</div>"
      ],
      "text/plain": [
       "    zipcode      region\n",
       "0  NE30 1DP  North East"
      ]
     },
     "execution_count": 56,
     "metadata": {},
     "output_type": "execute_result"
    }
   ],
   "source": [
    "pd.DataFrame(new_dict, index=[0])"
   ]
  }
 ],
 "metadata": {
  "kernelspec": {
   "display_name": "ramp_up_py395",
   "language": "python",
   "name": "python3"
  },
  "language_info": {
   "codemirror_mode": {
    "name": "ipython",
    "version": 3
   },
   "file_extension": ".py",
   "mimetype": "text/x-python",
   "name": "python",
   "nbconvert_exporter": "python",
   "pygments_lexer": "ipython3",
   "version": "3.9.5"
  },
  "orig_nbformat": 4
 },
 "nbformat": 4,
 "nbformat_minor": 2
}
