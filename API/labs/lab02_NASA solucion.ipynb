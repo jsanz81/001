{
 "cells": [
  {
   "attachments": {},
   "cell_type": "markdown",
   "metadata": {
    "id": "YdIGXalSYQLH"
   },
   "source": [
    "### Ejercicio 2\n",
    "\n",
    "La [NASA](https://www.nasa.gov) mediante su [API](https://api.nasa.gov) publica cada día una imagen de astronomía.  Implementad una función para descargar y visualizar la imagen dentro del notebook."
   ]
  },
  {
   "cell_type": "code",
   "execution_count": 29,
   "metadata": {
    "id": "ZRmuR1oxX_V2"
   },
   "outputs": [],
   "source": [
    "# Respuesta\n",
    "import requests\n",
    "import json\n",
    "import IPython\n",
    "from matplotlib import pyplot as plt\n",
    "from io import BytesIO\n",
    "from PIL import Image"
   ]
  },
  {
   "cell_type": "code",
   "execution_count": null,
   "metadata": {},
   "outputs": [],
   "source": [
    "# USO DE PIL.Image\n",
    "\n",
    "# im = Image.open(\"image.png\")\n",
    "\n",
    "# im recibe la imagen imagepng que esta en el mismo directorio\n",
    "\n",
    "# print(im.format, im.size, im.mode)\n",
    "\n",
    "#imprime el formato de la imagen, tamaño en una tupla y modo de color\n",
    "\n"
   ]
  },
  {
   "attachments": {},
   "cell_type": "markdown",
   "metadata": {
    "id": "9mdD0NBEmzWr"
   },
   "source": [
    "# Alternativa A (muestra el grid)\n",
    "* tmp = imagen serializada -> requests.get(recurso)\n",
    "* img = Image.open(BytesIO(tmp.content) -> deserializar la imagen\n",
    "* plt.imshow(img)\n",
    "* plt.show()\n",
    "\n",
    "----\n",
    "# Alternativa B (muestra la imagen en la resolución)\n",
    "* IPython.display.Image(requests.get(recurso)"
   ]
  },
  {
   "cell_type": "code",
   "execution_count": 30,
   "metadata": {
    "id": "upmDdYQSrPUb"
   },
   "outputs": [],
   "source": [
    "import warnings\n",
    "warnings.simplefilter('ignore')"
   ]
  },
  {
   "cell_type": "code",
   "execution_count": 31,
   "metadata": {},
   "outputs": [],
   "source": [
    "endpoint = \"https://api.nasa.gov/planetary/apod?\"\n",
    "demo = \"DEMO_KEY\""
   ]
  },
  {
   "cell_type": "code",
   "execution_count": 32,
   "metadata": {},
   "outputs": [],
   "source": [
    "from creds import credsNASA\n",
    "api_key=credsNASA.values()"
   ]
  },
  {
   "cell_type": "code",
   "execution_count": 35,
   "metadata": {},
   "outputs": [
    {
     "name": "stdout",
     "output_type": "stream",
     "text": [
      "504\n",
      "Gateway Timeout\n"
     ]
    }
   ],
   "source": [
    "# request de la api\n",
    "# https://api.nasa.gov/planetary/apod?api_key={api_key}\n",
    "\n",
    "\n",
    "#urlApod=f\"{endpoint}api_key={demo}\"\n",
    "urlApod=f\"{endpoint}api_key=LlPgr6LdMKXe3AhD2Gg6rMXlWftOgAKi3TDctY8P\"\n",
    "urlApod\n",
    "r=requests.get(url=urlApod)\n",
    "print(r.status_code)\n",
    "print(r.reason)"
   ]
  }
 ],
 "metadata": {
  "kernelspec": {
   "display_name": "Python 3.9.5 ('the_bridge_22')",
   "language": "python",
   "name": "python3"
  },
  "language_info": {
   "codemirror_mode": {
    "name": "ipython",
    "version": 3
   },
   "file_extension": ".py",
   "mimetype": "text/x-python",
   "name": "python",
   "nbconvert_exporter": "python",
   "pygments_lexer": "ipython3",
   "version": "3.9.5"
  },
  "orig_nbformat": 4,
  "vscode": {
   "interpreter": {
    "hash": "1c79a6bee0cc3880bade9bffe4f2ea0bcfc562fd81915ef930f986f3657b2ce7"
   }
  }
 },
 "nbformat": 4,
 "nbformat_minor": 2
}
