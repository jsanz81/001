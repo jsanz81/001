{
  "cells": [
    {
      "attachments": {},
      "cell_type": "markdown",
      "metadata": {
        "id": "sH_nfcXzDl4B"
      },
      "source": [
        "# Lab. 01\n",
        "\n",
        "Ejercicio 1\n",
        "Programad una función que retorne el estado meteorológico actual en una cierta localización, definida por su código postal (zip code) y código de país (e.g: us, uk, es, fr, etc). La función debe devolver una lista de tuplas de dos elementos, correspondientes al resumen del estado actual del tiempo (weather.main) y a la descripción extendida (weather.description)"
      ]
    },
    {
      "cell_type": "code",
      "execution_count": 4,
      "metadata": {},
      "outputs": [],
      "source": [
        "import creds\n",
        "import json\n",
        "import requests"
      ]
    },
    {
      "cell_type": "code",
      "execution_count": 5,
      "metadata": {
        "id": "rhyS019KIE6T"
      },
      "outputs": [],
      "source": [
        "# Guardamos las variables del archivo creds.py\n",
        "user, apikey, urlweather, urlgeo = creds.creds_openweather.values()"
      ]
    },
    {
      "cell_type": "code",
      "execution_count": 7,
      "metadata": {},
      "outputs": [],
      "source": [
        "#creds.creds_openweather.items()\n",
        "\n",
        "# NO subir esta celda a github porque expones las claves"
      ]
    },
    {
      "cell_type": "code",
      "execution_count": 19,
      "metadata": {},
      "outputs": [
        {
          "name": "stdout",
          "output_type": "stream",
          "text": [
            "Código de estado de la petición es: 200\n"
          ]
        }
      ],
      "source": [
        "# hacemos un request a la api con lat=44.34&lon=10.99\n",
        "\n",
        "# url de la llamada para latitud/longitud de Tres Cantos\n",
        "\n",
        "url_lat = f\"{urlweather}lat=40.6108&lon=-3.7074&units=metric&appid={apikey}\"\n",
        "\n",
        "# r recibe info del GET\n",
        "r = requests.get(url=url_lat)\n",
        "\n",
        "# Imprimir estado de la petición\n",
        "print(f\"Código de estado de la petición es: {r.status_code}\")\n"
      ]
    },
    {
      "cell_type": "code",
      "execution_count": 20,
      "metadata": {
        "id": "uZ_fj4jhGdAq"
      },
      "outputs": [],
      "source": [
        "# funcion que comprueba si el estado de la petición es bueno\n",
        "\n",
        "def parse_response(response):\n",
        "  \n",
        "  estados_ok = ['200', '201', '202', '203', '204'] #o lista de estados en formato enteros\n",
        "\n",
        "  data = None\n",
        "  if str(response.status_code) in estados_ok:\n",
        "    # Los datos están formateados en str\n",
        "\n",
        "    # si el código es OK, deserializamos json a diccionario\n",
        "    data = json.loads(response.content)\n",
        "  else:\n",
        "    # si es otro código\n",
        "    raise Exception(f\"Error en la respuesta {response.status_code}, {response.reason}\")\n",
        "  return data # devuelve el diccionario\n",
        "  "
      ]
    },
    {
      "cell_type": "code",
      "execution_count": 21,
      "metadata": {},
      "outputs": [
        {
          "data": {
            "text/plain": [
              "{'coord': {'lon': -3.7074, 'lat': 40.6108},\n",
              " 'weather': [{'id': 802,\n",
              "   'main': 'Clouds',\n",
              "   'description': 'scattered clouds',\n",
              "   'icon': '03d'}],\n",
              " 'base': 'stations',\n",
              " 'main': {'temp': 19.24,\n",
              "  'feels_like': 19.05,\n",
              "  'temp_min': 18.05,\n",
              "  'temp_max': 20.85,\n",
              "  'pressure': 1014,\n",
              "  'humidity': 70},\n",
              " 'visibility': 10000,\n",
              " 'wind': {'speed': 0.51, 'deg': 0},\n",
              " 'clouds': {'all': 40},\n",
              " 'dt': 1686468904,\n",
              " 'sys': {'type': 2,\n",
              "  'id': 2003930,\n",
              "  'country': 'ES',\n",
              "  'sunrise': 1686458623,\n",
              "  'sunset': 1686512717},\n",
              " 'timezone': 7200,\n",
              " 'id': 6359405,\n",
              " 'name': 'Tres Cantos',\n",
              " 'cod': 200}"
            ]
          },
          "execution_count": 21,
          "metadata": {},
          "output_type": "execute_result"
        }
      ],
      "source": [
        "#comprbamos si la llamada es buena y devuelve el json si ha ido bien\n",
        "\n",
        "parse_response(r)"
      ]
    },
    {
      "attachments": {},
      "cell_type": "markdown",
      "metadata": {},
      "source": [
        "#####     **(URLs: todo junto sin espacios ni '-->')**\n",
        "\n",
        "* DEVUELVE EL TIEMPO ACTUAL  \n",
        "  \n",
        "  con latitud y longitud  \n",
        "  \n",
        "  \"https://api.openweathermap.org/data/2.5/weather?\" + --> lat={lat} & lon={lon} & units=metric & appid={API key}  \n",
        "  \n",
        "  \n",
        "* GEOCODIFICA\n",
        "\n",
        "  con ZIPCODE zipcode,pais&apikey  \n",
        "          \n",
        "  \"http://api.openweathermap.org/geo/1.0/\"  + -->  zip? zip=E14,GB & appid={API key}\n",
        "\n",
        "  REVERSE lat&long&limit&units&apykey\n",
        "  Dada latitud y longitud, devuelve el nombre de la localidad \n",
        "  (limit, nº de localidades que muestra si tienen la misma lat/long)  \n",
        "        \n",
        "  \"http://api.openweathermap.org/geo/1.0/\"  + --> reverse? lat={lat} & lon={lon} & limit={limit} & appid={API key}"
      ]
    },
    {
      "cell_type": "code",
      "execution_count": 37,
      "metadata": {},
      "outputs": [
        {
          "name": "stdout",
          "output_type": "stream",
          "text": [
            "https://api.openweathermap.org/data/2.5/weather?lat=40.6108long=-3.7074appid=f5e1fbeae91dfe997d0b99f72806f38a\n"
          ]
        },
        {
          "ename": "NameError",
          "evalue": "name 'none' is not defined",
          "output_type": "error",
          "traceback": [
            "\u001b[1;31m---------------------------------------------------------------------------\u001b[0m",
            "\u001b[1;31mNameError\u001b[0m                                 Traceback (most recent call last)",
            "Cell \u001b[1;32mIn[37], line 6\u001b[0m\n\u001b[0;32m      3\u001b[0m     \u001b[39mprint\u001b[39m(burl)\n\u001b[0;32m      4\u001b[0m     \u001b[39mreturn\u001b[39;00m none\n\u001b[1;32m----> 6\u001b[0m bbb(urlweather,\u001b[39m\"\u001b[39;49m\u001b[39m40.6108\u001b[39;49m\u001b[39m\"\u001b[39;49m,\u001b[39m\"\u001b[39;49m\u001b[39m-3.7074\u001b[39;49m\u001b[39m\"\u001b[39;49m,\u001b[39m\"\u001b[39;49m\u001b[39mf5e1fbeae91dfe997d0b99f72806f38a\u001b[39;49m\u001b[39m\"\u001b[39;49m)\n",
            "Cell \u001b[1;32mIn[37], line 4\u001b[0m, in \u001b[0;36mbbb\u001b[1;34m(u, la, lo, ap)\u001b[0m\n\u001b[0;32m      2\u001b[0m burl\u001b[39m=\u001b[39mu\u001b[39m+\u001b[39m\u001b[39m\"\u001b[39m\u001b[39mlat=\u001b[39m\u001b[39m\"\u001b[39m\u001b[39m+\u001b[39mla\u001b[39m+\u001b[39m\u001b[39m\"\u001b[39m\u001b[39mlong=\u001b[39m\u001b[39m\"\u001b[39m\u001b[39m+\u001b[39mlo\u001b[39m+\u001b[39m\u001b[39m\"\u001b[39m\u001b[39mappid=\u001b[39m\u001b[39m\"\u001b[39m\u001b[39m+\u001b[39map\n\u001b[0;32m      3\u001b[0m \u001b[39mprint\u001b[39m(burl)\n\u001b[1;32m----> 4\u001b[0m \u001b[39mreturn\u001b[39;00m none\n",
            "\u001b[1;31mNameError\u001b[0m: name 'none' is not defined"
          ]
        }
      ],
      "source": [
        "def bbb(u,la,lo,ap):\n",
        "    burl=u+\"lat=\"+la+\"long=\"+lo+\"appid=\"+ap\n",
        "    print(burl)\n",
        "    return none\n",
        "\n",
        "bbb(urlweather,\"40.6108\",\"-3.7074\",\"f5e1fbeae91dfe997d0b99f72806f38a\")"
      ]
    },
    {
      "cell_type": "code",
      "execution_count": 28,
      "metadata": {
        "id": "MRW5ZxVpG_Bx"
      },
      "outputs": [],
      "source": [
        "# Recogemos los datos del tiempo para un determinado código postal\n",
        "# \n",
        "def get_weather_latlong(url, lat, long, api_key):\n",
        "  \n",
        "  # Creamos la base_url\n",
        "  base_url = url + \"lat=\"+lat + \"long=\" + long + \"&\" + \"appid=\" + api_key\n",
        "\n",
        "  # Enviamos la petición get\n",
        "  response = requests.get(url=base_url)\n",
        "\n",
        "  # Verificamos la respuesta\n",
        "  data = parse_response(response)\n",
        "\n",
        "  # Verificamos los datos\n",
        "  if data:\n",
        "    weather = data.get('weather')\n",
        "    \n",
        "    r = [(w.get('main'), w.get('description')) for w in weather]\n",
        "\n",
        "  else:\n",
        "    raise Exception(\" No es posibile recoger la información.\")\n",
        "  return r #diccionario con los campos weather y description pedidos"
      ]
    },
    {
      "cell_type": "code",
      "execution_count": 14,
      "metadata": {},
      "outputs": [
        {
          "data": {
            "text/plain": [
              "<Response [200]>"
            ]
          },
          "execution_count": 14,
          "metadata": {},
          "output_type": "execute_result"
        }
      ],
      "source": []
    },
    {
      "cell_type": "code",
      "execution_count": null,
      "metadata": {},
      "outputs": [],
      "source": [
        "'''\n",
        "    Respuesta esperada del json \n",
        "\n",
        "     \"weather\": [\n",
        "       {\n",
        "         \"id\": 800,\n",
        "         \"main\": \"Clear\",\n",
        "         \"description\": \"clear sky\",\n",
        "         \"icon\": \"01d\"\n",
        "       }\n",
        "     ]\n",
        "\n",
        "    Acceso\n",
        "\n",
        "  weather['main']\n",
        "  \n",
        "    for w in weather:\n",
        "        r = (w.get('main'), w.get('description'))\n",
        "'''"
      ]
    },
    {
      "cell_type": "code",
      "execution_count": 29,
      "metadata": {},
      "outputs": [
        {
          "ename": "Exception",
          "evalue": "Error en la respuesta 400, Bad Request",
          "output_type": "error",
          "traceback": [
            "\u001b[1;31m---------------------------------------------------------------------------\u001b[0m",
            "\u001b[1;31mException\u001b[0m                                 Traceback (most recent call last)",
            "Cell \u001b[1;32mIn[29], line 2\u001b[0m\n\u001b[0;32m      1\u001b[0m \u001b[39m# Llamamos a la funcion con datos de Tres Cantos\u001b[39;00m\n\u001b[1;32m----> 2\u001b[0m tiempo\u001b[39m=\u001b[39mget_weather_latlong(urlweather,\u001b[39m\"\u001b[39;49m\u001b[39m40.6108\u001b[39;49m\u001b[39m\"\u001b[39;49m,\u001b[39m\"\u001b[39;49m\u001b[39m-3.7074\u001b[39;49m\u001b[39m\"\u001b[39;49m, apikey)\n",
            "Cell \u001b[1;32mIn[28], line 12\u001b[0m, in \u001b[0;36mget_weather_latlong\u001b[1;34m(url, lat, long, api_key)\u001b[0m\n\u001b[0;32m      9\u001b[0m response \u001b[39m=\u001b[39m requests\u001b[39m.\u001b[39mget(url\u001b[39m=\u001b[39mbase_url)\n\u001b[0;32m     11\u001b[0m \u001b[39m# Verificamos la respuesta\u001b[39;00m\n\u001b[1;32m---> 12\u001b[0m data \u001b[39m=\u001b[39m parse_response(response)\n\u001b[0;32m     14\u001b[0m \u001b[39m# Verificamos los datos\u001b[39;00m\n\u001b[0;32m     15\u001b[0m \u001b[39mif\u001b[39;00m data:\n",
            "Cell \u001b[1;32mIn[20], line 15\u001b[0m, in \u001b[0;36mparse_response\u001b[1;34m(response)\u001b[0m\n\u001b[0;32m     12\u001b[0m   data \u001b[39m=\u001b[39m json\u001b[39m.\u001b[39mloads(response\u001b[39m.\u001b[39mcontent)\n\u001b[0;32m     13\u001b[0m \u001b[39melse\u001b[39;00m:\n\u001b[0;32m     14\u001b[0m   \u001b[39m# si es otro código\u001b[39;00m\n\u001b[1;32m---> 15\u001b[0m   \u001b[39mraise\u001b[39;00m \u001b[39mException\u001b[39;00m(\u001b[39mf\u001b[39m\u001b[39m\"\u001b[39m\u001b[39mError en la respuesta \u001b[39m\u001b[39m{\u001b[39;00mresponse\u001b[39m.\u001b[39mstatus_code\u001b[39m}\u001b[39;00m\u001b[39m, \u001b[39m\u001b[39m{\u001b[39;00mresponse\u001b[39m.\u001b[39mreason\u001b[39m}\u001b[39;00m\u001b[39m\"\u001b[39m)\n\u001b[0;32m     16\u001b[0m \u001b[39mreturn\u001b[39;00m data\n",
            "\u001b[1;31mException\u001b[0m: Error en la respuesta 400, Bad Request"
          ]
        }
      ],
      "source": [
        "# Llamamos a la funcion con datos de Tres Cantos\n",
        "tiempo=get_weather_latlong(urlweather,\"40.6108\",\"-3.7074\", apikey)"
      ]
    },
    {
      "cell_type": "code",
      "execution_count": 34,
      "metadata": {
        "id": "JXilIwnaO2Pe"
      },
      "outputs": [],
      "source": [
        "result_weather = [{\"weather\": [\n",
        "       {\n",
        "         \"id\": 800,\n",
        "         \"main\": \"Clear\",\n",
        "         \"description\": \"clear sky\",\n",
        "         \"icon\": \"01d\"\n",
        "       }\n",
        "     ]\n",
        "}]"
      ]
    },
    {
      "cell_type": "code",
      "execution_count": 35,
      "metadata": {
        "colab": {
          "base_uri": "https://localhost:8080/"
        },
        "id": "aqLBr_elO4dZ",
        "outputId": "8c20872a-8d15-4375-bc53-6509526e7b48"
      },
      "outputs": [
        {
          "data": {
            "text/plain": [
              "list"
            ]
          },
          "execution_count": 35,
          "metadata": {},
          "output_type": "execute_result"
        }
      ],
      "source": [
        "type(result_weather)"
      ]
    },
    {
      "cell_type": "code",
      "execution_count": 36,
      "metadata": {
        "colab": {
          "base_uri": "https://localhost:8080/",
          "height": 36
        },
        "id": "KkNagXuxO-W6",
        "outputId": "73c9cdd3-8543-4c4a-edeb-a33ace15ab40"
      },
      "outputs": [
        {
          "data": {
            "text/plain": [
              "'Clear'"
            ]
          },
          "execution_count": 36,
          "metadata": {},
          "output_type": "execute_result"
        }
      ],
      "source": [
        "result_weather[0]['weather'][0]['main']"
      ]
    },
    {
      "cell_type": "code",
      "execution_count": 37,
      "metadata": {
        "id": "3UY3wBW1QX5I"
      },
      "outputs": [],
      "source": [
        "country_code = \"es\"\n",
        "zip_code = \"08018\""
      ]
    },
    {
      "cell_type": "code",
      "execution_count": 38,
      "metadata": {
        "id": "J4OcKf1mRWGW"
      },
      "outputs": [
        {
          "ename": "NameError",
          "evalue": "name 'endpoint' is not defined",
          "output_type": "error",
          "traceback": [
            "\u001b[1;31m---------------------------------------------------------------------------\u001b[0m",
            "\u001b[1;31mNameError\u001b[0m                                 Traceback (most recent call last)",
            "Cell \u001b[1;32mIn[38], line 1\u001b[0m\n\u001b[1;32m----> 1\u001b[0m weather_data \u001b[39m=\u001b[39m get_weather_zip(zip_code, country_code, apikey)\n",
            "Cell \u001b[1;32mIn[33], line 6\u001b[0m, in \u001b[0;36mget_weather_zip\u001b[1;34m(zip_code, country, api_key)\u001b[0m\n\u001b[0;32m      3\u001b[0m \u001b[39mdef\u001b[39;00m \u001b[39mget_weather_zip\u001b[39m(zip_code, country, api_key):\n\u001b[0;32m      4\u001b[0m   \n\u001b[0;32m      5\u001b[0m   \u001b[39m# Creamos la base_url\u001b[39;00m\n\u001b[1;32m----> 6\u001b[0m   base_url \u001b[39m=\u001b[39m endpoint \u001b[39m+\u001b[39m \u001b[39m\"\u001b[39m\u001b[39mzip=\u001b[39m\u001b[39m\"\u001b[39m \u001b[39m+\u001b[39m zip_code \u001b[39m+\u001b[39m \u001b[39m\"\u001b[39m\u001b[39m,\u001b[39m\u001b[39m\"\u001b[39m \u001b[39m+\u001b[39m country \u001b[39m+\u001b[39m \u001b[39m\"\u001b[39m\u001b[39m&\u001b[39m\u001b[39m\"\u001b[39m \u001b[39m+\u001b[39m \u001b[39m\"\u001b[39m\u001b[39mappid=\u001b[39m\u001b[39m\"\u001b[39m \u001b[39m+\u001b[39m api_key\n\u001b[0;32m      8\u001b[0m   \u001b[39m# Enviamos la petición get\u001b[39;00m\n\u001b[0;32m      9\u001b[0m   response \u001b[39m=\u001b[39m requests\u001b[39m.\u001b[39mget(url\u001b[39m=\u001b[39mbase_url)\n",
            "\u001b[1;31mNameError\u001b[0m: name 'endpoint' is not defined"
          ]
        }
      ],
      "source": [
        "weather_data = get_weather_zip(zip_code, country_code, apikey)"
      ]
    },
    {
      "cell_type": "code",
      "execution_count": null,
      "metadata": {
        "colab": {
          "base_uri": "https://localhost:8080/"
        },
        "id": "rJA4NPcnRhLt",
        "outputId": "caa0638b-34e4-44bf-afb7-a8b5f3414894"
      },
      "outputs": [
        {
          "name": "stdout",
          "output_type": "stream",
          "text": [
            "[('Clouds', 'few clouds')]\n"
          ]
        }
      ],
      "source": [
        "print(weather_data)"
      ]
    },
    {
      "cell_type": "code",
      "execution_count": null,
      "metadata": {},
      "outputs": [],
      "source": [
        "import time\n",
        "time.sleep(60)"
      ]
    }
  ],
  "metadata": {
    "colab": {
      "name": "lab01_w11_API",
      "provenance": []
    },
    "kernelspec": {
      "display_name": "Python 3.9.5 ('the_bridge_22')",
      "language": "python",
      "name": "python3"
    },
    "language_info": {
      "codemirror_mode": {
        "name": "ipython",
        "version": 3
      },
      "file_extension": ".py",
      "mimetype": "text/x-python",
      "name": "python",
      "nbconvert_exporter": "python",
      "pygments_lexer": "ipython3",
      "version": "3.9.5"
    },
    "vscode": {
      "interpreter": {
        "hash": "1c79a6bee0cc3880bade9bffe4f2ea0bcfc562fd81915ef930f986f3657b2ce7"
      }
    }
  },
  "nbformat": 4,
  "nbformat_minor": 0
}
