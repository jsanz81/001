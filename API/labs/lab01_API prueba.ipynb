{
  "cells": [
    {
      "attachments": {},
      "cell_type": "markdown",
      "metadata": {
        "id": "sH_nfcXzDl4B"
      },
      "source": [
        "# Lab. 01\n",
        "\n",
        "Ejercicio 1\n",
        "Programad una función que retorne el estado meteorológico actual en una cierta localización, definida por su código postal (zip code) y código de país (e.g: us, uk, es, fr, etc). La función debe devolver una lista de tuplas de dos elementos, correspondientes al resumen del estado actual del tiempo (weather.main) y a la descripción extendida (weather.description).\n",
        "\n",
        "- GET (endpoint -- headers, params)\n",
        "- POST (endpoint -- headers, params, body)\n",
        "\n",
        "\n",
        "Utilizad la API de openweathermap para obtener las predicciones.Para utilizar la API necesitareis registraros y obtener una API key. Podéis registraros aquí y obtener vuestra API key aquí una vez registrados. Tened en cuenta que la API key puede tardar un rato en funcionar después de registraros, y la API os devolverá un error 401 conforme la clave no es valida:\n",
        "\n",
        "```{\"cod\":401, \"message\": \"Invalid API key. Please see http://openweathermap.org/faq#error401 for more info.\"}\n",
        "```\n",
        "\n",
        "Simplemente esperad un rato antes de utilizar la clave.Hints: \n",
        "Veréis que en general la API esta documentada sin incluir la API key, aun que esta es necesaria. \n",
        "\n",
        "Deberéis incluir la API key en la llamada como uno de los parámetros de la URL (&appid=your_api_key):  \n",
        "\n",
        "```\n",
        "http://example_url.com?param1=value1&param2=value2&appid=your_api_key\n",
        "```\n",
        "\n",
        "Os animamos a que paséis por el \n",
        "proceso de registro para que veáis de que trata y cómo se generan las API keys. \n",
        "\n",
        "Aún así, os proporcionamos una API key en caso de que tengáis problemas con el proceso.  \n",
        "\n",
        "owm_api_key = 'xxxxxxxxxxxxxxxxxxxxxxxxxxxxxxxxxxxxxxx'"
      ]
    },
    {
      "attachments": {},
      "cell_type": "markdown",
      "metadata": {
        "id": "owlyOCXzGIMf"
      },
      "source": [
        "## Respuesta\n",
        "\n",
        "Lo primero es revisar en general la documentación de la API para observar como realizar peticiones GET o POST con parámetros o sin.\n",
        "\n",
        "- http://example_url.com?param1=value1&param2=value2&appid=your_api_key"
      ]
    },
    {
      "attachments": {},
      "cell_type": "markdown",
      "metadata": {
        "id": "4Ao__HNaHcP1"
      },
      "source": [
        "estructura para las credenciales\n",
        "\n",
        "- creds.py\n",
        "- creds.json\n",
        "- .env\n",
        "\n",
        "```\n",
        "creds_openweath = \n",
        "{\n",
        "  \"user\" : \"nombre_usuario\",\n",
        "  \"pass\" : \"password web service\",\n",
        "  \"endpoint\" : \"ruta_url_api\"\n",
        "  ...\n",
        "}\n",
        "\n",
        "```"
      ]
    },
    {
      "cell_type": "code",
      "execution_count": 17,
      "metadata": {},
      "outputs": [],
      "source": [
        "import creds\n",
        "import json\n",
        "import requests"
      ]
    },
    {
      "cell_type": "code",
      "execution_count": 3,
      "metadata": {
        "id": "rhyS019KIE6T"
      },
      "outputs": [],
      "source": [
        "# Guardamos las variables del archivo creds.py\n",
        "user, pwd, apikey = creds.creds_openweather.values()"
      ]
    },
    {
      "cell_type": "code",
      "execution_count": 18,
      "metadata": {},
      "outputs": [
        {
          "data": {
            "text/plain": [
              "dict_items([('user', 'jsanz81'), ('pwd', 'Openweatherthebridge'), ('key', '6c5cc5cb237f65787a31b0d09e94a50d')])"
            ]
          },
          "execution_count": 18,
          "metadata": {},
          "output_type": "execute_result"
        }
      ],
      "source": [
        "creds.creds_openweather.items()\n",
        "\n",
        "# No subir esta celda a github porque expones las claves"
      ]
    },
    {
      "cell_type": "code",
      "execution_count": 9,
      "metadata": {},
      "outputs": [
        {
          "name": "stdout",
          "output_type": "stream",
          "text": [
            "Código de estado de la petición es: 200\n"
          ]
        }
      ],
      "source": [
        "# hacemos un request a la api con lat=44.34&lon=10.99\n",
        "\n",
        "#url de la llamada\n",
        "api_url = f\"https://api.openweathermap.org/data/2.5/weather?lat=44.34&lon=10.99&appid={apikey}\"\n",
        "\n",
        "# r recibe info del GET\n",
        "r = requests.get(url=api_url)\n",
        "\n",
        "#Imprimir estado de la petición\n",
        "print(f\"Código de estado de la petición es: {r.status_code}\")\n"
      ]
    },
    {
      "cell_type": "code",
      "execution_count": 8,
      "metadata": {},
      "outputs": [
        {
          "data": {
            "text/plain": [
              "int"
            ]
          },
          "execution_count": 8,
          "metadata": {},
          "output_type": "execute_result"
        }
      ],
      "source": [
        "type(r.status_code)"
      ]
    },
    {
      "cell_type": "code",
      "execution_count": 11,
      "metadata": {
        "id": "uZ_fj4jhGdAq"
      },
      "outputs": [],
      "source": [
        "# funcion que comprueba si el estado de la petición es bueno\n",
        "\n",
        "def parse_response(response):\n",
        "  \n",
        "  estados_ok = ['200', '201', '202', '203', '204'] # o lista de estados en formato enteros\n",
        "\n",
        "  data = None\n",
        "  if str(response.status_code) in estados_ok:\n",
        "    # Los datos están formateados en str\n",
        "\n",
        "    # si el código es OK, deserializamos json a diccionario\n",
        "    data = json.loads(response.content)\n",
        "  else:\n",
        "    # si es otro código\n",
        "    raise Exception(f\"Error en la respuesta {response.status_code}, {response.reason}\")\n",
        "  return data # devuelve el diccionario\n",
        "  "
      ]
    },
    {
      "cell_type": "code",
      "execution_count": 15,
      "metadata": {},
      "outputs": [
        {
          "data": {
            "text/plain": [
              "{'coord': {'lon': 10.99, 'lat': 44.34},\n",
              " 'weather': [{'id': 804,\n",
              "   'main': 'Clouds',\n",
              "   'description': 'overcast clouds',\n",
              "   'icon': '04n'}],\n",
              " 'base': 'stations',\n",
              " 'main': {'temp': 288.88,\n",
              "  'feels_like': 288.96,\n",
              "  'temp_min': 287.93,\n",
              "  'temp_max': 289.64,\n",
              "  'pressure': 1012,\n",
              "  'humidity': 94,\n",
              "  'sea_level': 1012,\n",
              "  'grnd_level': 927},\n",
              " 'visibility': 10000,\n",
              " 'wind': {'speed': 0.96, 'deg': 226, 'gust': 1.08},\n",
              " 'clouds': {'all': 95},\n",
              " 'dt': 1686428713,\n",
              " 'sys': {'type': 2,\n",
              "  'id': 2004688,\n",
              "  'country': 'IT',\n",
              "  'sunrise': 1686367919,\n",
              "  'sunset': 1686423543},\n",
              " 'timezone': 7200,\n",
              " 'id': 3163858,\n",
              " 'name': 'Zocca',\n",
              " 'cod': 200}"
            ]
          },
          "execution_count": 15,
          "metadata": {},
          "output_type": "execute_result"
        }
      ],
      "source": [
        "parse_response(r)"
      ]
    },
    {
      "attachments": {},
      "cell_type": "markdown",
      "metadata": {},
      "source": [
        "```\n",
        "https://api.openweathermap.org/data/2.5/weather' --> ? lat={lat}&lon={lon}&appid={API key}\n",
        "```"
      ]
    },
    {
      "attachments": {},
      "cell_type": "markdown",
      "metadata": {
        "id": "P7L6O06CLb3b"
      },
      "source": [
        "La estructura de la base_url\n",
        "- http://api.openweathermap.org/data/2.5/weather?zip=\"ZIP_CODE\",\"COUNTRY_CODE\"&appid=\"API_KEY\""
      ]
    },
    {
      "cell_type": "code",
      "execution_count": 19,
      "metadata": {
        "id": "MRW5ZxVpG_Bx"
      },
      "outputs": [],
      "source": [
        "# Recogemos los datos del tiempo para un determinado código postal ZIP Code\n",
        "\n",
        "def get_weather_zip(zip_code, country, api_key):\n",
        "  \n",
        "  # Creamos la base_url\n",
        "  base_url = endpoint + \"zip=\" + zip_code + \",\" + country + \"&\" + \"appid=\" + api_key\n",
        "\n",
        "  # Enviamos la petición get\n",
        "  response = requests.get(url=base_url)\n",
        "\n",
        "  # Verificamos la respuesta\n",
        "  data = parse_response(response)\n",
        "\n",
        "  # Verificamos los datos\n",
        "  if data:\n",
        "    weather = data.get('weather')\n",
        "    '''\n",
        "    La respuesta esperada del json será similar a esta estructura\n",
        "    ```\n",
        "     \"weather\": [\n",
        "       {\n",
        "         \"id\": 800,\n",
        "         \"main\": \"Clear\",\n",
        "         \"description\": \"clear sky\",\n",
        "         \"icon\": \"01d\"\n",
        "       }\n",
        "     ]\n",
        "\n",
        "    ```\n",
        "    '''\n",
        "    # weather['main']\n",
        "    # for w in weather:\n",
        "    #   r = (w.get('main'), w.get('description'))\n",
        "    r = [(w.get('main'), w.get('description')) for w in weather]\n",
        "  else:\n",
        "    raise Exception(\" No es posibile recoger la información.\")\n",
        "  return r"
      ]
    },
    {
      "cell_type": "code",
      "execution_count": 14,
      "metadata": {
        "id": "JXilIwnaO2Pe"
      },
      "outputs": [],
      "source": [
        "result_weather = [{\"weather\": [\n",
        "       {\n",
        "         \"id\": 800,\n",
        "         \"main\": \"Clear\",\n",
        "         \"description\": \"clear sky\",\n",
        "         \"icon\": \"01d\"\n",
        "       }\n",
        "     ]\n",
        "}]"
      ]
    },
    {
      "cell_type": "code",
      "execution_count": 15,
      "metadata": {
        "colab": {
          "base_uri": "https://localhost:8080/"
        },
        "id": "aqLBr_elO4dZ",
        "outputId": "8c20872a-8d15-4375-bc53-6509526e7b48"
      },
      "outputs": [
        {
          "data": {
            "text/plain": [
              "list"
            ]
          },
          "execution_count": 15,
          "metadata": {},
          "output_type": "execute_result"
        }
      ],
      "source": [
        "type(result_weather)"
      ]
    },
    {
      "cell_type": "code",
      "execution_count": 16,
      "metadata": {
        "colab": {
          "base_uri": "https://localhost:8080/",
          "height": 36
        },
        "id": "KkNagXuxO-W6",
        "outputId": "73c9cdd3-8543-4c4a-edeb-a33ace15ab40"
      },
      "outputs": [
        {
          "data": {
            "text/plain": [
              "'Clear'"
            ]
          },
          "execution_count": 16,
          "metadata": {},
          "output_type": "execute_result"
        }
      ],
      "source": [
        "result_weather[0]['weather'][0]['main']"
      ]
    },
    {
      "cell_type": "code",
      "execution_count": 17,
      "metadata": {
        "id": "3UY3wBW1QX5I"
      },
      "outputs": [],
      "source": [
        "country_code = \"es\"\n",
        "zip_code = \"08018\""
      ]
    },
    {
      "cell_type": "code",
      "execution_count": 18,
      "metadata": {
        "id": "J4OcKf1mRWGW"
      },
      "outputs": [
        {
          "ename": "NameError",
          "evalue": "name 'api_key' is not defined",
          "output_type": "error",
          "traceback": [
            "\u001b[1;31m---------------------------------------------------------------------------\u001b[0m",
            "\u001b[1;31mNameError\u001b[0m                                 Traceback (most recent call last)",
            "Cell \u001b[1;32mIn[18], line 1\u001b[0m\n\u001b[1;32m----> 1\u001b[0m weather_data \u001b[39m=\u001b[39m get_weather_zip(zip_code, country_code, api_key)\n",
            "\u001b[1;31mNameError\u001b[0m: name 'api_key' is not defined"
          ]
        }
      ],
      "source": [
        "weather_data = get_weather_zip(zip_code, country_code, api_key)"
      ]
    },
    {
      "cell_type": "code",
      "execution_count": null,
      "metadata": {
        "colab": {
          "base_uri": "https://localhost:8080/"
        },
        "id": "rJA4NPcnRhLt",
        "outputId": "caa0638b-34e4-44bf-afb7-a8b5f3414894"
      },
      "outputs": [
        {
          "name": "stdout",
          "output_type": "stream",
          "text": [
            "[('Clouds', 'few clouds')]\n"
          ]
        }
      ],
      "source": [
        "print(weather_data)"
      ]
    },
    {
      "cell_type": "code",
      "execution_count": null,
      "metadata": {},
      "outputs": [],
      "source": [
        "import time\n",
        "time.sleep(60)"
      ]
    }
  ],
  "metadata": {
    "colab": {
      "name": "lab01_w11_API",
      "provenance": []
    },
    "kernelspec": {
      "display_name": "Python 3.9.5 ('the_bridge_22')",
      "language": "python",
      "name": "python3"
    },
    "language_info": {
      "codemirror_mode": {
        "name": "ipython",
        "version": 3
      },
      "file_extension": ".py",
      "mimetype": "text/x-python",
      "name": "python",
      "nbconvert_exporter": "python",
      "pygments_lexer": "ipython3",
      "version": "3.9.5"
    },
    "vscode": {
      "interpreter": {
        "hash": "1c79a6bee0cc3880bade9bffe4f2ea0bcfc562fd81915ef930f986f3657b2ce7"
      }
    }
  },
  "nbformat": 4,
  "nbformat_minor": 0
}
