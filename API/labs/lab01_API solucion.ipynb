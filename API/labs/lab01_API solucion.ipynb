{
  "cells": [
    {
      "cell_type": "code",
      "execution_count": 3,
      "metadata": {},
      "outputs": [],
      "source": [
        "import creds\n",
        "import json\n",
        "import requests"
      ]
    },
    {
      "cell_type": "code",
      "execution_count": 4,
      "metadata": {
        "id": "rhyS019KIE6T"
      },
      "outputs": [],
      "source": [
        "# Guardamos las variables del archivo creds.py\n",
        "user, apikey, urlweather, urlgeo = creds.creds_openweather.values()"
      ]
    },
    {
      "cell_type": "code",
      "execution_count": 5,
      "metadata": {},
      "outputs": [],
      "source": [
        "#creds.creds_openweather.items()\n",
        "\n",
        "# NO subir esta celda ejecutada a github porque expones las claves"
      ]
    },
    {
      "cell_type": "code",
      "execution_count": 6,
      "metadata": {},
      "outputs": [
        {
          "name": "stdout",
          "output_type": "stream",
          "text": [
            "Código de estado de la petición es: 200\n"
          ]
        }
      ],
      "source": [
        "# hacemos un request a la api con lat=40.6108&lon=-3.7074\n",
        "\n",
        "# url de la llamada para latitud/longitud de Tres Cantos\n",
        "\n",
        "url_lat = f\"{urlweather}lat=40.6108&lon=-3.7074&units=metric&appid={apikey}\"\n",
        "\n",
        "# r recibe info del GET\n",
        "r = requests.get(url=url_lat)\n",
        "\n",
        "# Imprimir estado de la petición\n",
        "print(f\"Código de estado de la petición es: {r.status_code}\")\n"
      ]
    },
    {
      "cell_type": "code",
      "execution_count": 47,
      "metadata": {
        "id": "uZ_fj4jhGdAq"
      },
      "outputs": [],
      "source": [
        "# funcion que comprueba si el estado de la petición es bueno\n",
        "\n",
        "def parse_response(response):\n",
        "  \n",
        "  estados_ok = ['200', '201', '202', '203', '204'] #o lista de estados en formato enteros\n",
        "\n",
        "  data = None\n",
        "  if str(response.status_code) in estados_ok:\n",
        "    # Los datos están formateados en str\n",
        "\n",
        "    # si el código es OK, deserializamos json a diccionario\n",
        "    data = json.loads(response.content)\n",
        "  else:\n",
        "    # si es otro código\n",
        "    raise Exception(f\"Error en la respuesta {response.status_code}, {response.reason}\")\n",
        "  return data # devuelve el diccionario\n",
        "  "
      ]
    },
    {
      "cell_type": "code",
      "execution_count": 2,
      "metadata": {},
      "outputs": [
        {
          "ename": "NameError",
          "evalue": "name 'parse_response' is not defined",
          "output_type": "error",
          "traceback": [
            "\u001b[1;31m---------------------------------------------------------------------------\u001b[0m",
            "\u001b[1;31mNameError\u001b[0m                                 Traceback (most recent call last)",
            "Cell \u001b[1;32mIn[2], line 3\u001b[0m\n\u001b[0;32m      1\u001b[0m \u001b[39m#comprbamos si la llamada es buena y devuelve el diccionario si todo va bain\u001b[39;00m\n\u001b[1;32m----> 3\u001b[0m parse_response(r)\n",
            "\u001b[1;31mNameError\u001b[0m: name 'parse_response' is not defined"
          ]
        }
      ],
      "source": [
        "#comprbamos si la llamada es buena y devuelve el diccionario si todo va bain\n",
        "\n",
        "parse_response(r)"
      ]
    },
    {
      "attachments": {},
      "cell_type": "markdown",
      "metadata": {},
      "source": [
        "# Lab. 01\n",
        "\n",
        "Ejercicio 1\n",
        "Programad una función que retorne el estado meteorológico actual en una cierta localización, definida por su código postal (zip code) y código de país (e.g: us, uk, es, fr, etc). La función debe devolver una lista de tuplas de dos elementos, correspondientes al resumen del estado actual del tiempo (weather.main) y a la descripción extendida (weather.description)"
      ]
    },
    {
      "attachments": {},
      "cell_type": "markdown",
      "metadata": {},
      "source": [
        "#####     **(URLs: todo junto sin espacios ni '-->')**\n",
        "\n",
        "* DEVUELVE EL TIEMPO ACTUAL  \n",
        "  \n",
        "  con latitud y longitud  \n",
        "  \n",
        "  \"https://api.openweathermap.org/data/2.5/weather?\" + --> lat={lat} & lon={lon} & appid={API key}  \n",
        "\n",
        "  \"https://api.openweathermap.org/data/2.5/weather?\" + zip={zipcode},{pais} & appid={API key}\n",
        "  \n",
        "  \n",
        "* GEOCODIFICA\n",
        "\n",
        "  con ZIPCODE zipcode,pais&apikey  \n",
        "          \n",
        "  \"http://api.openweathermap.org/geo/1.0/\"  + -->  zip? zip=E14,GB & appid={API key}\n",
        "\n",
        "  REVERSE lat&long&limit&units&apykey\n",
        "  Dada latitud y longitud, devuelve el nombre de la localidad \n",
        "  (limit, nº de localidades que muestra si tienen la misma lat/long)  \n",
        "        \n",
        "  \"http://api.openweathermap.org/geo/1.0/\"  + --> reverse? lat={lat} & lon={lon} & limit={limit} & appid={API key}"
      ]
    },
    {
      "cell_type": "code",
      "execution_count": 28,
      "metadata": {
        "id": "MRW5ZxVpG_Bx"
      },
      "outputs": [],
      "source": [
        "# Recogemos los datos del tiempo para una latitud y longitu\n",
        "# \n",
        "def get_weather_latlong(url, lat, long, api_key):\n",
        "  \n",
        "  # Creamos la base_url\n",
        "  base_url = url + \"lat=\"+lat + \"long=\" + long + \"&\" + \"appid=\" + api_key\n",
        "\n",
        "  # Enviamos la petición get\n",
        "  response = requests.get(url=base_url)\n",
        "\n",
        "  # Verificamos la respuesta\n",
        "  data = parse_response(response)\n",
        "\n",
        "  # Verificamos los datos\n",
        "  if data:\n",
        "    weather = data.get('weather')\n",
        "    \n",
        "    r = [(w.get('main'), w.get('description')) for w in weather]\n",
        "\n",
        "  else:\n",
        "    raise Exception(\" No es posibile recoger la información.\")\n",
        "  return r #tupla con los campos weather y description pedidos"
      ]
    },
    {
      "cell_type": "code",
      "execution_count": 78,
      "metadata": {},
      "outputs": [],
      "source": [
        "# Datos del tiempo para una latitud y longitud\n",
        "\n",
        "def get_weather_zip(url, zip, country, api_key):\n",
        "  \n",
        "  # Creamos la base_url\n",
        "  base_url = url + \"zip=\"+ zip + \",\" + country + \"&appid=\" + api_key\n",
        "\n",
        "  # Enviamos la petición get\n",
        "  response = requests.get(url=base_url)\n",
        "\n",
        "  # Verificamos la respuesta y dictData recibe todo el diccionario\n",
        "  dict_data = parse_response(response)\n",
        "\n",
        "  # Verificamos los datos\n",
        "  if dict_data:\n",
        "    weather = dict_data.get('weather')\n",
        "    c=dict_data.get('name')\n",
        "    \n",
        "    r = [(w.get('main'), w.get('description')) for w in weather]\n",
        "\n",
        "  else:\n",
        "    raise Exception(\" No es posibile recoger la información.\")\n",
        "  return c,r #devuelve ciudad y tupla com  weather y description pedidos"
      ]
    },
    {
      "cell_type": "code",
      "execution_count": 79,
      "metadata": {},
      "outputs": [],
      "source": [
        "# Llamamos a la funcion con datos de Tres Cantos\n",
        "\n",
        "ciudad,tiempo=get_weather_zip(urlweather,\"28760\",\"ES\", apikey)"
      ]
    },
    {
      "cell_type": "code",
      "execution_count": 81,
      "metadata": {},
      "outputs": [
        {
          "name": "stdout",
          "output_type": "stream",
          "text": [
            "Actual weather in Castillo De Viñuelas: Clear, clear sky\n"
          ]
        }
      ],
      "source": [
        "print(f\"Actual weather in {ciudad}: {tiempo[0][0]}, {tiempo[0][1]}\")"
      ]
    },
    {
      "cell_type": "code",
      "execution_count": null,
      "metadata": {},
      "outputs": [],
      "source": [
        "# import time\n",
        "# time.sleep(60)"
      ]
    }
  ],
  "metadata": {
    "colab": {
      "name": "lab01_w11_API",
      "provenance": []
    },
    "kernelspec": {
      "display_name": "Python 3.9.5 ('the_bridge_22')",
      "language": "python",
      "name": "python3"
    },
    "language_info": {
      "codemirror_mode": {
        "name": "ipython",
        "version": 3
      },
      "file_extension": ".py",
      "mimetype": "text/x-python",
      "name": "python",
      "nbconvert_exporter": "python",
      "pygments_lexer": "ipython3",
      "version": "3.9.5"
    },
    "vscode": {
      "interpreter": {
        "hash": "1c79a6bee0cc3880bade9bffe4f2ea0bcfc562fd81915ef930f986f3657b2ce7"
      }
    }
  },
  "nbformat": 4,
  "nbformat_minor": 0
}
