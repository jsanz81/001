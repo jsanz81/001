{
 "cells": [
  {
   "attachments": {},
   "cell_type": "markdown",
   "metadata": {},
   "source": [
    "# Lab 04 CoinDesk\n",
    "\n",
    "Vamos a utilizar ahora una API de CoinDesk que ofrece informaci on sobre Bitcoin (BTC), una\n",
    "moneda digital descentralizada utilizada en todo el mundo. Un servicio que ofrece CoinDesk es el\n",
    " ́ındice de precios de Bitcoin (BPI). Estos datos de precios de Bitcoin se calculan cada minuto y se\n",
    "publican en USD, EUR y GBP. Los datos de BPI son accesibles a trav ́es de una API REST.\n",
    "\n",
    "URL de la API: https://api.coindesk.com/v1/bpi/currentprice.json"
   ]
  },
  {
   "attachments": {},
   "cell_type": "markdown",
   "metadata": {},
   "source": [
    "Objetivos:\n",
    "- crear una función para que vaya recogiendo y guardando en un fichero cada minuto el valor del BTC en una moneda (USD; EUR; GBP).\n",
    "- Representar gráficamente la tendencia después de n minutos.\n",
    "- Probamos 10 minutos / 30 minutos / 60 minutos / ---> 3hmax"
   ]
  },
  {
   "attachments": {},
   "cell_type": "markdown",
   "metadata": {},
   "source": [
    "time.sleep(60) ---> 60 segundos"
   ]
  },
  {
   "cell_type": "code",
   "execution_count": 160,
   "metadata": {},
   "outputs": [],
   "source": [
    "import time\n",
    "import requests\n",
    "import pandas as pd\n",
    "import json\n",
    "import datetime\n",
    "import matplotlib.pyplot as plt"
   ]
  },
  {
   "cell_type": "code",
   "execution_count": 161,
   "metadata": {},
   "outputs": [],
   "source": [
    "urlbc=\"https://api.coindesk.com/v1/bpi/currentprice.json\""
   ]
  },
  {
   "cell_type": "code",
   "execution_count": 172,
   "metadata": {},
   "outputs": [
    {
     "name": "stdout",
     "output_type": "stream",
     "text": [
      "  hora minuto     valorEUR     valorUSD     valorGBP\n",
      "0   16     23  25,784.8695  25,118.2275  21,545.6307\n",
      "0   16     24  25,777.2880  25,110.8420  21,539.2956\n",
      "0   16     25  25,776.8075  25,110.3739  21,538.8941\n",
      "0   16     26  25,771.2949  25,105.0038  21,534.2878\n",
      "0   16     27  25,775.2912  25,108.8968  21,537.6271\n",
      "0   16     28  25,778.4163  25,111.9412  21,540.2385\n",
      "0   16     29  25,778.7737  25,112.2893  21,540.5371\n",
      "0   16     30  25,760.2445  25,094.2391  21,525.0542\n",
      "0   16     31  25,761.5120  25,095.4739  21,526.1133\n",
      "0   16     32  25,755.0579  25,089.1866  21,520.7203\n"
     ]
    }
   ],
   "source": [
    "df_bc=pd.DataFrame(columns=[\"hora\", \"minuto\", \"valorEUR\", \"valorUSD\", \"valorGBP\"])\n",
    "\n",
    "for i in range(0,10):\n",
    "    bc_response=requests.get(url=urlbc)\n",
    "    bc=bc_response.json()\n",
    "\n",
    "    # recibe el valor de la hora y cambio usd, eur y gbb\n",
    "\n",
    "    t=dt.datetime.now()\n",
    "\n",
    "    # extrae hora:minutos\n",
    "    hora=t.hour\n",
    "    minuto=t.minute\n",
    "\n",
    "    usd=bc[\"bpi\"][\"USD\"]['rate']\n",
    "    eur=bc[\"bpi\"][\"EUR\"]['rate']\n",
    "    gbp=bc[\"bpi\"][\"GBP\"]['rate']\n",
    "\n",
    "    datos_bc=pd.DataFrame([[hora,minuto, usd,eur,gbp]], columns=[\"hora\", \"minuto\", \"valorEUR\", \"valorUSD\", \"valorGBP\"])\n",
    "   \n",
    "    # meterlo en el dataframe\n",
    "    df_bc=pd.concat([df_bc, datos_bc], axis=0)\n",
    "\n",
    "    #esperar 2 segundos antes de la siguiente petición\n",
    "    \n",
    "    time.sleep(60)\n",
    "\n",
    "\n",
    "# mostrar dataframe con datos recogidos\n",
    "\n",
    "print(df_bc)\n",
    "\n",
    "# Imprimir grafico con resultados de los 10 minutos\n",
    "\n",
    "#plt.plot(df_bc, x=df_bc[minuto]);"
   ]
  }
 ],
 "metadata": {
  "kernelspec": {
   "display_name": "Python 3.9.5 ('the_bridge_22')",
   "language": "python",
   "name": "python3"
  },
  "language_info": {
   "codemirror_mode": {
    "name": "ipython",
    "version": 3
   },
   "file_extension": ".py",
   "mimetype": "text/x-python",
   "name": "python",
   "nbconvert_exporter": "python",
   "pygments_lexer": "ipython3",
   "version": "3.9.5"
  },
  "orig_nbformat": 4,
  "vscode": {
   "interpreter": {
    "hash": "1c79a6bee0cc3880bade9bffe4f2ea0bcfc562fd81915ef930f986f3657b2ce7"
   }
  }
 },
 "nbformat": 4,
 "nbformat_minor": 2
}
