{
 "cells": [
  {
   "cell_type": "code",
   "execution_count": 21,
   "metadata": {},
   "outputs": [],
   "source": [
    "n=10000\n",
    "p=1/5000\n",
    "lamb=n*p\n",
    "\n"
   ]
  },
  {
   "cell_type": "code",
   "execution_count": 5,
   "metadata": {},
   "outputs": [],
   "source": [
    "from scipy.stats import binom"
   ]
  },
  {
   "cell_type": "code",
   "execution_count": 23,
   "metadata": {},
   "outputs": [],
   "source": [
    "X=binom(n,p)\n",
    "\n",
    "#binom es la funcion binomial, le pasas n y p"
   ]
  },
  {
   "cell_type": "code",
   "execution_count": 24,
   "metadata": {},
   "outputs": [
    {
     "data": {
      "text/plain": [
       "<scipy.stats._distn_infrastructure.rv_discrete_frozen at 0x2090b309540>"
      ]
     },
     "execution_count": 24,
     "metadata": {},
     "output_type": "execute_result"
    }
   ],
   "source": [
    "X"
   ]
  },
  {
   "cell_type": "code",
   "execution_count": 26,
   "metadata": {},
   "outputs": [
    {
     "data": {
      "text/plain": [
       "0.2706705646683939"
      ]
     },
     "execution_count": 26,
     "metadata": {},
     "output_type": "execute_result"
    }
   ],
   "source": [
    "# prob de pagar a 1\n",
    "\n",
    "X.pmf(1)"
   ]
  },
  {
   "cell_type": "code",
   "execution_count": 27,
   "metadata": {},
   "outputs": [
    {
     "data": {
      "text/plain": [
       "0.270697637139355"
      ]
     },
     "execution_count": 27,
     "metadata": {},
     "output_type": "execute_result"
    }
   ],
   "source": [
    "# prob de pagar a 2\n",
    "\n",
    "X.pmf(2)"
   ]
  },
  {
   "cell_type": "code",
   "execution_count": 28,
   "metadata": {},
   "outputs": [
    {
     "data": {
      "text/plain": [
       "0.13530821527774667"
      ]
     },
     "execution_count": 28,
     "metadata": {},
     "output_type": "execute_result"
    }
   ],
   "source": [
    "# prob de no pagar a ninguno\n",
    "\n",
    "X.pmf(0)"
   ]
  },
  {
   "cell_type": "code",
   "execution_count": 29,
   "metadata": {},
   "outputs": [
    {
     "data": {
      "text/plain": [
       "0.86469178472227"
      ]
     },
     "execution_count": 29,
     "metadata": {},
     "output_type": "execute_result"
    }
   ],
   "source": [
    "a_ninguno=0\n",
    "for i in range (1, n+1):\n",
    "    a_ninguno+=X.pmf(i)\n",
    "\n",
    "a_ninguno\n",
    "\n",
    "#REVISAR"
   ]
  },
  {
   "cell_type": "code",
   "execution_count": 30,
   "metadata": {},
   "outputs": [
    {
     "data": {
      "text/plain": [
       "0.8646917847222699"
      ]
     },
     "execution_count": 30,
     "metadata": {},
     "output_type": "execute_result"
    }
   ],
   "source": [
    "#igual a \n",
    "\n",
    "X.sf(0)  # prob de todo menos 0, pagar a 1 a 2 a 3 a .. hasta n"
   ]
  },
  {
   "cell_type": "code",
   "execution_count": 31,
   "metadata": {},
   "outputs": [],
   "source": [
    "# al menos a 10, usar cdf acumulado (10)\n",
    "\n",
    "# o la suma de pdf de 0 a 10"
   ]
  },
  {
   "attachments": {},
   "cell_type": "markdown",
   "metadata": {},
   "source": [
    "4% DVDs es defectuoso\n",
    "\n",
    "lote de 25DVDs\n",
    "\n",
    "numero esperado de DVDs defectuosos?\n",
    "\n",
    "Si encuentra 4 debe dudar de la afirmacion del vendedor?"
   ]
  },
  {
   "cell_type": "code",
   "execution_count": 2,
   "metadata": {},
   "outputs": [
    {
     "data": {
      "text/plain": [
       "1.0"
      ]
     },
     "execution_count": 2,
     "metadata": {},
     "output_type": "execute_result"
    }
   ],
   "source": [
    "p=0.04\n",
    "n=25\n",
    "\n",
    "p*n\n",
    "\n",
    "# si\n",
    "# lambda>5\n",
    "# n>25\n",
    "# aprox a la poisson\n",
    "# en este caso no se cumple. Seguimos con la binomial\n",
    "# media = n*p"
   ]
  },
  {
   "cell_type": "code",
   "execution_count": 6,
   "metadata": {},
   "outputs": [],
   "source": [
    "D=binom(n,p)"
   ]
  },
  {
   "cell_type": "code",
   "execution_count": 7,
   "metadata": {},
   "outputs": [
    {
     "data": {
      "text/plain": [
       "1.0"
      ]
     },
     "execution_count": 7,
     "metadata": {},
     "output_type": "execute_result"
    }
   ],
   "source": [
    "D.mean()"
   ]
  },
  {
   "cell_type": "code",
   "execution_count": 8,
   "metadata": {},
   "outputs": [
    {
     "name": "stdout",
     "output_type": "stream",
     "text": [
      "0.9972196795135848\n",
      "0.9972196795135848\n"
     ]
    }
   ],
   "source": [
    "# Si encuentra 4 debe dudar de la afirmacion del vendedor?\n",
    "\n",
    "# prob de encontrar 4 o menos\n",
    "\n",
    "print(D.pmf(0)+D.pmf(1)+D.pmf(2)+D.pmf(3)+D.pmf(4))\n",
    "\n",
    "# ó\n",
    "\n",
    "print(D.cdf(4))\n"
   ]
  },
  {
   "cell_type": "code",
   "execution_count": 9,
   "metadata": {},
   "outputs": [],
   "source": [
    "import matplotlib.pyplot as plt\n",
    "import numpy as np"
   ]
  },
  {
   "cell_type": "code",
   "execution_count": 10,
   "metadata": {},
   "outputs": [
    {
     "data": {
      "image/png": "[encoded data removed]",
      "text/plain": [
       "<Figure size 640x480 with 1 Axes>"
      ]
     },
     "metadata": {},
     "output_type": "display_data"
    }
   ],
   "source": [
    "vector=np.arange(n+1)\n",
    "plt.plot(D.pmf(vector), \"r*\");"
   ]
  },
  {
   "attachments": {},
   "cell_type": "markdown",
   "metadata": {},
   "source": [
    "<!-- * 20 PROFESORES. Se eligen 6 -->\n",
    "\n",
    "Poblacion es de 12 mujeres, 8 hombres\n",
    "\n",
    "Si se escogen aleatoriamente a 6, podemos decir que es aleatorio tener un hombre?"
   ]
  },
  {
   "cell_type": "code",
   "execution_count": 14,
   "metadata": {},
   "outputs": [],
   "source": [
    "N=20 #muestra/población\n",
    "x=6 # casos de éxito buscados (que de los elegidos 6 sean hombres)\n",
    "n=8 # 8 hombres de 20 profesores\n"
   ]
  },
  {
   "cell_type": "code",
   "execution_count": 11,
   "metadata": {},
   "outputs": [],
   "source": [
    "# hipergeometrica, porque no tiene reposición\n",
    "\n",
    "from scipy.stats import hypergeom"
   ]
  },
  {
   "cell_type": "code",
   "execution_count": 19,
   "metadata": {},
   "outputs": [],
   "source": [
    "C=hypergeom(N,x,n)"
   ]
  },
  {
   "cell_type": "code",
   "execution_count": 21,
   "metadata": {},
   "outputs": [
    {
     "data": {
      "text/plain": [
       "0.16346749226006194"
      ]
     },
     "execution_count": 21,
     "metadata": {},
     "output_type": "execute_result"
    }
   ],
   "source": [
    "C.pmf(1)"
   ]
  },
  {
   "cell_type": "code",
   "execution_count": 22,
   "metadata": {},
   "outputs": [
    {
     "data": {
      "text/plain": [
       "2.4"
      ]
     },
     "execution_count": 22,
     "metadata": {},
     "output_type": "execute_result"
    }
   ],
   "source": [
    "# lo esperado seria la media de la hipergeometrica.\n",
    "\n",
    "C.mean()"
   ]
  },
  {
   "attachments": {},
   "cell_type": "markdown",
   "metadata": {},
   "source": [
    "* Loteria, Prob de acertar 4 o mas"
   ]
  },
  {
   "cell_type": "code",
   "execution_count": 64,
   "metadata": {},
   "outputs": [],
   "source": [
    "# muestra = 1 al 49\n",
    "N=49 #poblacion\n",
    "x=6 #muestra que puedes coger\n",
    "p=6 # N * 6/N (probabilidad)\n",
    "\n",
    "lambda_2=N*p\n"
   ]
  },
  {
   "cell_type": "code",
   "execution_count": 61,
   "metadata": {},
   "outputs": [],
   "source": [
    "X=hypergeom(N,x,p)"
   ]
  },
  {
   "cell_type": "code",
   "execution_count": 63,
   "metadata": {},
   "outputs": [
    {
     "data": {
      "text/plain": [
       "0.0009871411351522362"
      ]
     },
     "execution_count": 63,
     "metadata": {},
     "output_type": "execute_result"
    }
   ],
   "source": [
    "X.sf(3)"
   ]
  },
  {
   "cell_type": "code",
   "execution_count": 65,
   "metadata": {},
   "outputs": [
    {
     "ename": "SyntaxError",
     "evalue": "invalid syntax (1836560699.py, line 10)",
     "output_type": "error",
     "traceback": [
      "\u001b[1;36m  Cell \u001b[1;32mIn[65], line 10\u001b[1;36m\u001b[0m\n\u001b[1;33m    x=\u001b[0m\n\u001b[1;37m      ^\u001b[0m\n\u001b[1;31mSyntaxError\u001b[0m\u001b[1;31m:\u001b[0m invalid syntax\n"
     ]
    }
   ],
   "source": [
    "# 12 bolas rojas\n",
    "# 18 bolas negras\n",
    "\n",
    "# de 7 sacadas\n",
    "\n",
    "# prob de sacar 3 negras: con remplazamiento binomial\n",
    "\n",
    "\n",
    "\n",
    "#                       : sin reemplazamiento hipergeometrica\n",
    "\n",
    "X=30\n",
    "x=\n",
    "n=\n",
    "\n",
    "\n",
    "# si importa el orden: Geométrica\n",
    "# ejemplo la 1, la 3 y la 7\n",
    "# reemplazo no reemplazo\n"
   ]
  },
  {
   "cell_type": "code",
   "execution_count": null,
   "metadata": {},
   "outputs": [],
   "source": [
    "# si\n",
    "# lambda>5\n",
    "# n>25\n",
    "# aprox a la poisson\n",
    "# en este caso no se cumple. Seguimos con la binomial\n",
    "# media = n*p"
   ]
  }
 ],
 "metadata": {
  "kernelspec": {
   "display_name": "ramp_up_py395",
   "language": "python",
   "name": "python3"
  },
  "language_info": {
   "codemirror_mode": {
    "name": "ipython",
    "version": 3
   },
   "file_extension": ".py",
   "mimetype": "text/x-python",
   "name": "python",
   "nbconvert_exporter": "python",
   "pygments_lexer": "ipython3",
   "version": "3.10.9"
  },
  "orig_nbformat": 4
 },
 "nbformat": 4,
 "nbformat_minor": 2
}
