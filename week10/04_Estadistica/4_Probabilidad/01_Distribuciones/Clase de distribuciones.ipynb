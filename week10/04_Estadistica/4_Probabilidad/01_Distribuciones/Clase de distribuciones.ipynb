{
 "cells": [
  {
   "attachments": {},
   "cell_type": "markdown",
   "metadata": {},
   "source": [
    "### Funciones\n",
    "* **cdf(x)** Función de distribución $F(x)$\n",
    "\n",
    "* **sf(x)** $1-F(x)$\n",
    "* **pmf(x)** Función masa de probabilidad (V.A. Discretas)\n",
    "* **pdf(x)** Función densidad de probabilidad (V.A. Continuas)\n",
    "* **ppf(x)** Función inversa de cdf(x)\n",
    "$$ppf(x) \\neq \\cfrac{1}{cdf(x)}$$\n",
    "\n",
    "la **ppf(x)** nos permite obtener el valor correspondeinte a una probabilidad"
   ]
  },
  {
   "attachments": {},
   "cell_type": "markdown",
   "metadata": {},
   "source": [
    "## Distribución Binomial"
   ]
  },
  {
   "cell_type": "code",
   "execution_count": 1,
   "metadata": {},
   "outputs": [],
   "source": [
    "import scipy.stats as ss\n",
    "import numpy as np\n",
    "import matplotlib.pyplot as plt"
   ]
  },
  {
   "cell_type": "code",
   "execution_count": 2,
   "metadata": {},
   "outputs": [],
   "source": [
    "#!pip install scipy"
   ]
  },
  {
   "attachments": {},
   "cell_type": "markdown",
   "metadata": {},
   "source": [
    "#### Ejemplo\n",
    "Estamos en clase 13 alumnos. se sabe por años anteriores que 1 de cada 5 alumnos prefiere clases online.\n",
    "* ¿Cuál será el valor esperado de alumnos que prefieran clases online?\n",
    "* ¿Cuál será la probabilidad de que como mucho no asistan presencial 5 alumnos el viernes?"
   ]
  },
  {
   "cell_type": "code",
   "execution_count": 3,
   "metadata": {},
   "outputs": [],
   "source": [
    "n=13\n",
    "p=1/5\n",
    "X=ss.binom(n,p)"
   ]
  },
  {
   "cell_type": "code",
   "execution_count": 4,
   "metadata": {},
   "outputs": [
    {
     "data": {
      "text/plain": [
       "2.6"
      ]
     },
     "execution_count": 4,
     "metadata": {},
     "output_type": "execute_result"
    }
   ],
   "source": [
    "## Media valor esperado de alumnos que prefiere clases online\n",
    "X.mean()"
   ]
  },
  {
   "cell_type": "code",
   "execution_count": 5,
   "metadata": {},
   "outputs": [
    {
     "data": {
      "text/plain": [
       "0.9699646767104"
      ]
     },
     "execution_count": 5,
     "metadata": {},
     "output_type": "execute_result"
    }
   ],
   "source": [
    "X.cdf(5)"
   ]
  },
  {
   "cell_type": "code",
   "execution_count": 7,
   "metadata": {},
   "outputs": [],
   "source": [
    "z=X.cdf(5)"
   ]
  },
  {
   "cell_type": "code",
   "execution_count": 8,
   "metadata": {},
   "outputs": [
    {
     "data": {
      "text/plain": [
       "5.0"
      ]
     },
     "execution_count": 8,
     "metadata": {},
     "output_type": "execute_result"
    }
   ],
   "source": [
    "X.ppf(z)"
   ]
  },
  {
   "attachments": {},
   "cell_type": "markdown",
   "metadata": {},
   "source": [
    "P[X=0]+P[X=1]+P[X=2]P[X=3]+P[X=4]\n"
   ]
  },
  {
   "cell_type": "code",
   "execution_count": 9,
   "metadata": {},
   "outputs": [
    {
     "data": {
      "text/plain": [
       "0.9699646767103999"
      ]
     },
     "execution_count": 9,
     "metadata": {},
     "output_type": "execute_result"
    }
   ],
   "source": [
    "sum(X.pmf(x) for x in range(6)) #[0,6)"
   ]
  },
  {
   "cell_type": "code",
   "execution_count": 11,
   "metadata": {},
   "outputs": [
    {
     "data": {
      "text/plain": [
       "0.9699646767104"
      ]
     },
     "execution_count": 11,
     "metadata": {},
     "output_type": "execute_result"
    }
   ],
   "source": [
    "1-X.sf(5)"
   ]
  },
  {
   "attachments": {},
   "cell_type": "markdown",
   "metadata": {},
   "source": [
    "Un jugador X encesta con probabilidad 0.55. Calcula la probablidad de que al tirar 100 veces enceste:\n",
    "* 50 veces\n",
    "* todas las veces\n",
    "* Enceste al menos 33\n",
    "* El valor esperado\n",
    "* ¿Cuantas canastas encestara con probabilidad  0.26? ## podrá salir un numero real\n"
   ]
  },
  {
   "attachments": {},
   "cell_type": "markdown",
   "metadata": {},
   "source": [
    "Apartado A\n",
    "$$P[X=50]={100 \\choose 50}  p^{50} (1-p)^{50} $$"
   ]
  },
  {
   "attachments": {},
   "cell_type": "markdown",
   "metadata": {},
   "source": [
    "$$P[X \\geq 33]= 1 -P[X<33]=1-P[X \\leq 32]$$"
   ]
  },
  {
   "cell_type": "code",
   "execution_count": 12,
   "metadata": {},
   "outputs": [],
   "source": [
    "n=100\n",
    "p=0.55\n",
    "X=ss.binom(n,p)"
   ]
  },
  {
   "cell_type": "code",
   "execution_count": 19,
   "metadata": {},
   "outputs": [
    {
     "data": {
      "text/plain": [
       "0.1827281846861457"
      ]
     },
     "execution_count": 19,
     "metadata": {},
     "output_type": "execute_result"
    }
   ],
   "source": [
    "X.cdf(50)"
   ]
  },
  {
   "cell_type": "code",
   "execution_count": 16,
   "metadata": {},
   "outputs": [
    {
     "data": {
      "text/plain": [
       "0.9999924350293264"
      ]
     },
     "execution_count": 16,
     "metadata": {},
     "output_type": "execute_result"
    }
   ],
   "source": [
    "1-X.cdf(33)"
   ]
  },
  {
   "cell_type": "code",
   "execution_count": 17,
   "metadata": {},
   "outputs": [
    {
     "data": {
      "text/plain": [
       "0.9999924350293264"
      ]
     },
     "execution_count": 17,
     "metadata": {},
     "output_type": "execute_result"
    }
   ],
   "source": [
    "X.sf(33)"
   ]
  },
  {
   "cell_type": "code",
   "execution_count": 21,
   "metadata": {},
   "outputs": [
    {
     "data": {
      "text/plain": [
       "55.00000000000001"
      ]
     },
     "execution_count": 21,
     "metadata": {},
     "output_type": "execute_result"
    }
   ],
   "source": [
    "X.mean()\n",
    "#valor esperado"
   ]
  },
  {
   "cell_type": "code",
   "execution_count": 25,
   "metadata": {},
   "outputs": [
    {
     "data": {
      "text/plain": [
       "52.0"
      ]
     },
     "execution_count": 25,
     "metadata": {},
     "output_type": "execute_result"
    }
   ],
   "source": [
    "X.ppf(0.26)"
   ]
  },
  {
   "attachments": {},
   "cell_type": "markdown",
   "metadata": {},
   "source": [
    "* 1."
   ]
  },
  {
   "cell_type": "code",
   "execution_count": 27,
   "metadata": {},
   "outputs": [],
   "source": [
    "n=13\n",
    "p=1/5\n",
    "X=ss.binom(n,p)"
   ]
  },
  {
   "cell_type": "code",
   "execution_count": 34,
   "metadata": {},
   "outputs": [
    {
     "data": {
      "image/png": "[encoded data removed]",
      "text/plain": [
       "<Figure size 800x800 with 1 Axes>"
      ]
     },
     "metadata": {},
     "output_type": "display_data"
    }
   ],
   "source": [
    "i= np.arange(13)\n",
    "plt.figure(figsize=(8,8))\n",
    "plt.title(\"Función masa de probabilidad\")\n",
    "plt.xlabel(\"valores\")\n",
    "plt.ylabel(\"Probabilidad\")\n",
    "plt.plot(i,X.pmf(i),\"w--\")\n",
    "plt.vlines(i,0,X.pmf(i),\"y\")\n",
    "plt.show();"
   ]
  },
  {
   "attachments": {},
   "cell_type": "markdown",
   "metadata": {},
   "source": [
    "## Distribución Hipergeometrica"
   ]
  },
  {
   "attachments": {},
   "cell_type": "markdown",
   "metadata": {},
   "source": [
    "$$ P[X=x]=\\cfrac{{Np \\choose n}{Nq \\choose n-x}}{{n \\choose x}} $$"
   ]
  },
  {
   "attachments": {},
   "cell_type": "markdown",
   "metadata": {},
   "source": [
    "En la academia hay 100 alumnos. Si de esos 100, 65 son mujeres. Si un dia vienen a a clase  10 personas y solo hay un hombre. ¿Cual es la probabilidad de que esto ocurra?"
   ]
  },
  {
   "cell_type": "code",
   "execution_count": 2,
   "metadata": {},
   "outputs": [],
   "source": [
    "H=ss.hypergeom(100,35,10)   ##(N,Np,x)"
   ]
  },
  {
   "cell_type": "code",
   "execution_count": 5,
   "metadata": {},
   "outputs": [
    {
     "data": {
      "text/plain": [
       "0.06463409846112005"
      ]
     },
     "execution_count": 5,
     "metadata": {},
     "output_type": "execute_result"
    }
   ],
   "source": [
    "H.pmf(1) # p de 1 hombre"
   ]
  },
  {
   "cell_type": "code",
   "execution_count": 7,
   "metadata": {},
   "outputs": [
    {
     "data": {
      "text/plain": [
       "0.06463409846112003"
      ]
     },
     "execution_count": 7,
     "metadata": {},
     "output_type": "execute_result"
    }
   ],
   "source": [
    "H1=ss.hypergeom(100,65,10)\n",
    "H1.pmf(9)  # Igual a prob de 9 mujeres"
   ]
  },
  {
   "cell_type": "code",
   "execution_count": 18,
   "metadata": {},
   "outputs": [
    {
     "data": {
      "text/plain": [
       "9.376234912646613"
      ]
     },
     "execution_count": 18,
     "metadata": {},
     "output_type": "execute_result"
    }
   ],
   "source": [
    "H1.mean()+2*H1.std()"
   ]
  },
  {
   "cell_type": "code",
   "execution_count": 19,
   "metadata": {},
   "outputs": [
    {
     "data": {
      "text/plain": [
       "3.6237650873533864"
      ]
     },
     "execution_count": 19,
     "metadata": {},
     "output_type": "execute_result"
    }
   ],
   "source": [
    "H1.mean()-2*H1.std()"
   ]
  },
  {
   "cell_type": "code",
   "execution_count": 21,
   "metadata": {},
   "outputs": [
    {
     "data": {
      "image/png": "[encoded data removed]",
      "text/plain": [
       "<Figure size 800x400 with 1 Axes>"
      ]
     },
     "metadata": {},
     "output_type": "display_data"
    }
   ],
   "source": [
    "i= np.arange(2,10)\n",
    "plt.figure(figsize=(8,4))\n",
    "plt.title(\"Función masa de probabilidad\")\n",
    "plt.xlabel(\"valores\")\n",
    "plt.ylabel(\"Probabilidad\")\n",
    "plt.plot(i,H1.pmf(i),\"ro\")#r b g y w \n",
    "plt.vlines(i,0,H1.pmf(i),\"y\")\n",
    "plt.plot(i,H1.cdf(i),color=\"orange\")#r b g y w \n",
    "plt.plot(i,H1.sf(i),color=\"gold\",lw=2)#r b g y w \n",
    "plt.xticks(rotation=45)\n",
    "plt.show();"
   ]
  },
  {
   "attachments": {},
   "cell_type": "markdown",
   "metadata": {},
   "source": [
    "Diez refrigeradores de cierto tipo han sido devueltos a un distribuidor debido al a presencia de un ruido oscilante agudo cuando el refrigerador está funcionando. Supongamos que 4 de estos 10 refrigeradores tienen compresores defectuosos y los otros 6 tienen problemas más leves. Si se examinan al azar 5 de estos 10 refrigeradores, y se define la variable aleatoria X: “el número entre los 5 examinados que tienen un compresor defectuoso”. Indicar:\n",
    "\n",
    "* La distribución de la variable aleatoria X\n",
    "* La probabilidad de que no todos tengan fallas leves\n",
    "* La probabilidad de que a lo sumo cuatro tengan fallas de compresor"
   ]
  },
  {
   "cell_type": "code",
   "execution_count": 27,
   "metadata": {},
   "outputs": [],
   "source": [
    "H3=ss.hypergeom(10,4,5)"
   ]
  },
  {
   "attachments": {},
   "cell_type": "markdown",
   "metadata": {},
   "source": [
    "P[X<5]= P[X = 0] + P[X = 1] + P[X=2] + P[X = 3] + P[X = 4]"
   ]
  },
  {
   "cell_type": "code",
   "execution_count": 28,
   "metadata": {},
   "outputs": [
    {
     "data": {
      "text/plain": [
       "1.0"
      ]
     },
     "execution_count": 28,
     "metadata": {},
     "output_type": "execute_result"
    }
   ],
   "source": [
    "H3.pmf(0) + H3.pmf(1) + H3.pmf(2) + H3.pmf(3) + H3.pmf(4)"
   ]
  },
  {
   "cell_type": "code",
   "execution_count": 29,
   "metadata": {},
   "outputs": [
    {
     "data": {
      "text/plain": [
       "1.0"
      ]
     },
     "execution_count": 29,
     "metadata": {},
     "output_type": "execute_result"
    }
   ],
   "source": [
    "H3.cdf(4)"
   ]
  },
  {
   "cell_type": "code",
   "execution_count": 30,
   "metadata": {},
   "outputs": [
    {
     "data": {
      "text/plain": [
       "1.0"
      ]
     },
     "execution_count": 30,
     "metadata": {},
     "output_type": "execute_result"
    }
   ],
   "source": [
    "1-H3.pmf(5)"
   ]
  },
  {
   "attachments": {},
   "cell_type": "markdown",
   "metadata": {},
   "source": [
    "* 6 de los 10 tienen problemas leves  \n",
    " * prob de que de los 5 no todos tengan problemas leves"
   ]
  },
  {
   "cell_type": "code",
   "execution_count": 38,
   "metadata": {},
   "outputs": [],
   "source": [
    "H4=ss.hypergeom(10,6,5)"
   ]
  },
  {
   "cell_type": "code",
   "execution_count": 39,
   "metadata": {},
   "outputs": [
    {
     "data": {
      "text/plain": [
       "0.9761904761904762"
      ]
     },
     "execution_count": 39,
     "metadata": {},
     "output_type": "execute_result"
    }
   ],
   "source": [
    "H4.cdf(4)"
   ]
  },
  {
   "attachments": {},
   "cell_type": "markdown",
   "metadata": {},
   "source": [
    "* La probabilidad de que a lo sumo cuatro tengan fallas de compresor\n",
    "\n",
    "P[defectuosas <= 4]"
   ]
  },
  {
   "cell_type": "code",
   "execution_count": 41,
   "metadata": {},
   "outputs": [],
   "source": [
    "H5=ss.hypergeom(10,4,5)"
   ]
  },
  {
   "cell_type": "code",
   "execution_count": 42,
   "metadata": {},
   "outputs": [
    {
     "data": {
      "text/plain": [
       "1.0"
      ]
     },
     "execution_count": 42,
     "metadata": {},
     "output_type": "execute_result"
    }
   ],
   "source": [
    "H5.cdf(4)"
   ]
  },
  {
   "attachments": {},
   "cell_type": "markdown",
   "metadata": {},
   "source": [
    "## Geometrica"
   ]
  },
  {
   "cell_type": "code",
   "execution_count": 44,
   "metadata": {},
   "outputs": [],
   "source": [
    "geo=ss.geom(0.3)"
   ]
  },
  {
   "cell_type": "code",
   "execution_count": 45,
   "metadata": {},
   "outputs": [
    {
     "data": {
      "text/plain": [
       "0.8319300000000001"
      ]
     },
     "execution_count": 45,
     "metadata": {},
     "output_type": "execute_result"
    }
   ],
   "source": [
    "geo.cdf(5)"
   ]
  },
  {
   "cell_type": "code",
   "execution_count": 46,
   "metadata": {},
   "outputs": [
    {
     "data": {
      "text/plain": [
       "array([ 1.,  2.,  3.,  4.,  5.,  6.,  7.,  8.,  9., 10., 11., 12., 13.,\n",
       "       14., 15., 16., 17., 18., 19., 20., 21., 22., 23., 24., 25., 26.,\n",
       "       27., 28., 29., 30., 31., 32., 33., 34., 35., 36., 37., 38.])"
      ]
     },
     "execution_count": 46,
     "metadata": {},
     "output_type": "execute_result"
    }
   ],
   "source": [
    "x=np.arange(geo.ppf(.1),geo.ppf(.999999))\n",
    "x"
   ]
  },
  {
   "cell_type": "code",
   "execution_count": 47,
   "metadata": {},
   "outputs": [
    {
     "data": {
      "image/png": "[encoded data removed]",
      "text/plain": [
       "<Figure size 640x480 with 1 Axes>"
      ]
     },
     "metadata": {},
     "output_type": "display_data"
    }
   ],
   "source": [
    "fpm=geo.pmf(x)\n",
    "plt.plot(x,fpm,\"r--\");"
   ]
  },
  {
   "cell_type": "code",
   "execution_count": 49,
   "metadata": {},
   "outputs": [],
   "source": [
    "PPP=ss.binom(10,900/6000)"
   ]
  },
  {
   "cell_type": "code",
   "execution_count": 51,
   "metadata": {},
   "outputs": [
    {
     "data": {
      "text/plain": [
       "0.19687440434072265"
      ]
     },
     "execution_count": 51,
     "metadata": {},
     "output_type": "execute_result"
    }
   ],
   "source": [
    "PPP.cdf(0)"
   ]
  },
  {
   "attachments": {},
   "cell_type": "markdown",
   "metadata": {},
   "source": [
    "Un proceso de fabricación produce un 1% de piezas defectuosas.  \n",
    "\n",
    "Las piezas se empaquetan en cajas de 20 unidades.  \n",
    "Cuál es la probabilidad de que si se seleccionan 5 cajas al azar, ninguna de ellas tenga piezas defectuosas?"
   ]
  },
  {
   "cell_type": "code",
   "execution_count": 52,
   "metadata": {},
   "outputs": [],
   "source": [
    "BB=ss.binom(20, 0.1)"
   ]
  },
  {
   "cell_type": "code",
   "execution_count": 68,
   "metadata": {},
   "outputs": [
    {
     "data": {
      "text/plain": [
       "0.3917469981251681"
      ]
     },
     "execution_count": 68,
     "metadata": {},
     "output_type": "execute_result"
    }
   ],
   "source": [
    "BB.cdf(1) # 1 caja de 20 unidades sin piezas defectuosas"
   ]
  },
  {
   "cell_type": "code",
   "execution_count": 66,
   "metadata": {},
   "outputs": [
    {
     "data": {
      "text/plain": [
       "0.8784233454094308"
      ]
     },
     "execution_count": 66,
     "metadata": {},
     "output_type": "execute_result"
    }
   ],
   "source": [
    "BB.sf(0)"
   ]
  },
  {
   "cell_type": "code",
   "execution_count": null,
   "metadata": {},
   "outputs": [],
   "source": [
    "BB2=ss.binom()"
   ]
  },
  {
   "attachments": {},
   "cell_type": "markdown",
   "metadata": {},
   "source": [
    "## Distribución Poisson\n",
    "\n",
    "\n",
    "Fallos en 1 hora= 1.5  \n",
    "prob de algun fallo en 1 hora  \n",
    "prob de algun fallo en 3horas\n"
   ]
  },
  {
   "cell_type": "code",
   "execution_count": 73,
   "metadata": {},
   "outputs": [],
   "source": [
    "P=ss.poisson(1.5)"
   ]
  },
  {
   "cell_type": "code",
   "execution_count": 81,
   "metadata": {},
   "outputs": [
    {
     "data": {
      "text/plain": [
       "0.7768698398515702"
      ]
     },
     "execution_count": 81,
     "metadata": {},
     "output_type": "execute_result"
    }
   ],
   "source": [
    "P.sf(0)  # 1 o mas fallos  == 1-cdf(0)"
   ]
  },
  {
   "cell_type": "code",
   "execution_count": 83,
   "metadata": {},
   "outputs": [],
   "source": [
    "# fallos en 3horas = 1,5 + 1,5 + 1,5= 4,5\n",
    "P2=ss.poisson(4.5)\n"
   ]
  },
  {
   "cell_type": "code",
   "execution_count": 82,
   "metadata": {},
   "outputs": [
    {
     "data": {
      "text/plain": [
       "0.9888910034617577"
      ]
     },
     "execution_count": 82,
     "metadata": {},
     "output_type": "execute_result"
    }
   ],
   "source": [
    "P2.sf(0)  # == 1-cdf(0)"
   ]
  },
  {
   "attachments": {},
   "cell_type": "markdown",
   "metadata": {},
   "source": [
    "### * binomial/poisson"
   ]
  },
  {
   "attachments": {},
   "cell_type": "markdown",
   "metadata": {},
   "source": [
    "La probabilidad de que un virus entre en el cuerpo humano es de 0.01%.  Si hay 20.000 virus por $cm^3$ de aire que respiramos. \n",
    "* ¿Cuál será la probabilidad de que 3 virus de esos 20.000 entren a una persona?\n",
    "\n",
    "* ¿Cual será la probabilidad de que al menos 10 virus de esos 20.000 entren a una persona?\n",
    "\n",
    "* ¿Cuantos virus entrarán en un persona con probabilidad 95.6%?\n",
    "\n",
    "\n",
    "\n",
    "\n",
    "\n"
   ]
  },
  {
   "cell_type": "code",
   "execution_count": 97,
   "metadata": {},
   "outputs": [],
   "source": [
    "N=20000\n",
    "p=0.01\n",
    "\n",
    "virus=ss.binom(N,p)"
   ]
  },
  {
   "cell_type": "code",
   "execution_count": 98,
   "metadata": {},
   "outputs": [
    {
     "data": {
      "text/plain": [
       "7.052217178757061e-82"
      ]
     },
     "execution_count": 98,
     "metadata": {},
     "output_type": "execute_result"
    }
   ],
   "source": [
    "virus.cdf(3)"
   ]
  },
  {
   "cell_type": "code",
   "execution_count": 132,
   "metadata": {},
   "outputs": [
    {
     "data": {
      "text/plain": [
       "1.6559263283929877e-71"
      ]
     },
     "execution_count": 132,
     "metadata": {},
     "output_type": "execute_result"
    }
   ],
   "source": [
    "virus.cdf(10)"
   ]
  },
  {
   "cell_type": "code",
   "execution_count": 131,
   "metadata": {},
   "outputs": [
    {
     "data": {
      "text/plain": [
       "224.0"
      ]
     },
     "execution_count": 131,
     "metadata": {},
     "output_type": "execute_result"
    }
   ],
   "source": [
    "virus.ppf(0.956)"
   ]
  },
  {
   "cell_type": "code",
   "execution_count": 99,
   "metadata": {},
   "outputs": [],
   "source": [
    "virusPoisson=ss.poisson(N*p)"
   ]
  },
  {
   "cell_type": "code",
   "execution_count": 100,
   "metadata": {},
   "outputs": [
    {
     "data": {
      "text/plain": [
       "1.8731514627189038e-81"
      ]
     },
     "execution_count": 100,
     "metadata": {},
     "output_type": "execute_result"
    }
   ],
   "source": [
    "virusPoisson.cdf(3)"
   ]
  },
  {
   "attachments": {},
   "cell_type": "markdown",
   "metadata": {},
   "source": [
    "Ejemplo 19.4  \n",
    " La probabilidad de que aparezca una pieza defectuosa en un\n",
    "proceso es 0,0001.  \n",
    "La producción de un año es de 36000 piezas.   \n",
    "Calcular la\n",
    "probabilidad de que en la producción anual el número de piezas defectuosas sea\n",
    "por lo menos dos."
   ]
  },
  {
   "cell_type": "code",
   "execution_count": 116,
   "metadata": {},
   "outputs": [],
   "source": [
    "NN=36000\n",
    "pp=0.0001\n",
    "\n",
    "D=ss.binom(NN,pp)\n",
    "D2=ss.poisson(NN*pp)"
   ]
  },
  {
   "cell_type": "code",
   "execution_count": 124,
   "metadata": {},
   "outputs": [
    {
     "data": {
      "text/plain": [
       "0.8743236645034738"
      ]
     },
     "execution_count": 124,
     "metadata": {},
     "output_type": "execute_result"
    }
   ],
   "source": [
    "D.sf(1) # al menos dos ==> 0 o 1"
   ]
  },
  {
   "cell_type": "code",
   "execution_count": 121,
   "metadata": {},
   "outputs": [
    {
     "data": {
      "text/plain": [
       "0.8743108767424542"
      ]
     },
     "execution_count": 121,
     "metadata": {},
     "output_type": "execute_result"
    }
   ],
   "source": [
    "D2.sf(1) # aproximacion poisson"
   ]
  },
  {
   "attachments": {},
   "cell_type": "markdown",
   "metadata": {},
   "source": [
    "## Variables Continuas"
   ]
  },
  {
   "attachments": {},
   "cell_type": "markdown",
   "metadata": {},
   "source": [
    "### Uniforme"
   ]
  },
  {
   "cell_type": "code",
   "execution_count": 125,
   "metadata": {},
   "outputs": [],
   "source": [
    "from scipy.stats import uniform\n",
    "#import scipy.stats as ss"
   ]
  },
  {
   "cell_type": "code",
   "execution_count": 126,
   "metadata": {},
   "outputs": [],
   "source": [
    "import matplotlib.pyplot as plt"
   ]
  },
  {
   "cell_type": "code",
   "execution_count": 127,
   "metadata": {},
   "outputs": [],
   "source": [
    "import numpy as np"
   ]
  },
  {
   "cell_type": "code",
   "execution_count": 128,
   "metadata": {},
   "outputs": [],
   "source": [
    "uniforme=uniform(0,120)"
   ]
  },
  {
   "cell_type": "code",
   "execution_count": 88,
   "metadata": {},
   "outputs": [],
   "source": [
    "x=np.linspace(0,120,2)"
   ]
  },
  {
   "cell_type": "code",
   "execution_count": 89,
   "metadata": {
    "scrolled": true
   },
   "outputs": [
    {
     "data": {
      "text/plain": [
       "[<matplotlib.lines.Line2D at 0x276b9415fd0>]"
      ]
     },
     "execution_count": 89,
     "metadata": {},
     "output_type": "execute_result"
    },
    {
     "data": {
      "image/png": "[encoded data removed]",
      "text/plain": [
       "<Figure size 640x480 with 1 Axes>"
      ]
     },
     "metadata": {},
     "output_type": "display_data"
    }
   ],
   "source": [
    "plt.plot(x,uniforme.pdf(x))"
   ]
  },
  {
   "cell_type": "code",
   "execution_count": 133,
   "metadata": {},
   "outputs": [],
   "source": [
    "media,var,asi,curtosis=uniforme.stats(moments=\"mvsk\")"
   ]
  },
  {
   "cell_type": "code",
   "execution_count": 134,
   "metadata": {},
   "outputs": [
    {
     "data": {
      "text/plain": [
       "60.0"
      ]
     },
     "execution_count": 134,
     "metadata": {},
     "output_type": "execute_result"
    }
   ],
   "source": [
    "media"
   ]
  },
  {
   "cell_type": "code",
   "execution_count": 135,
   "metadata": {},
   "outputs": [
    {
     "data": {
      "text/plain": [
       "1200.0"
      ]
     },
     "execution_count": 135,
     "metadata": {},
     "output_type": "execute_result"
    }
   ],
   "source": [
    "var"
   ]
  },
  {
   "cell_type": "code",
   "execution_count": 136,
   "metadata": {},
   "outputs": [
    {
     "data": {
      "text/plain": [
       "0.0"
      ]
     },
     "execution_count": 136,
     "metadata": {},
     "output_type": "execute_result"
    }
   ],
   "source": [
    "asi"
   ]
  },
  {
   "cell_type": "code",
   "execution_count": 137,
   "metadata": {},
   "outputs": [
    {
     "data": {
      "text/plain": [
       "-1.2"
      ]
     },
     "execution_count": 137,
     "metadata": {},
     "output_type": "execute_result"
    }
   ],
   "source": [
    "curtosis"
   ]
  },
  {
   "cell_type": "code",
   "execution_count": 138,
   "metadata": {},
   "outputs": [
    {
     "data": {
      "text/plain": [
       "[<matplotlib.lines.Line2D at 0x276b92753d0>]"
      ]
     },
     "execution_count": 138,
     "metadata": {},
     "output_type": "execute_result"
    },
    {
     "data": {
      "image/png": "[encoded data removed]",
      "text/plain": [
       "<Figure size 640x480 with 1 Axes>"
      ]
     },
     "metadata": {},
     "output_type": "display_data"
    }
   ],
   "source": [
    "plt.plot(x,uniforme.cdf(x))"
   ]
  },
  {
   "cell_type": "code",
   "execution_count": 139,
   "metadata": {},
   "outputs": [
    {
     "data": {
      "text/plain": [
       "60.0"
      ]
     },
     "execution_count": 139,
     "metadata": {},
     "output_type": "execute_result"
    }
   ],
   "source": [
    "uniforme.ppf(0.50)"
   ]
  },
  {
   "cell_type": "code",
   "execution_count": 140,
   "metadata": {},
   "outputs": [
    {
     "data": {
      "text/plain": [
       "118.8"
      ]
     },
     "execution_count": 140,
     "metadata": {},
     "output_type": "execute_result"
    }
   ],
   "source": [
    "uniforme.ppf(0.99)"
   ]
  },
  {
   "cell_type": "code",
   "execution_count": 141,
   "metadata": {},
   "outputs": [
    {
     "data": {
      "text/plain": [
       "0.99"
      ]
     },
     "execution_count": 141,
     "metadata": {},
     "output_type": "execute_result"
    }
   ],
   "source": [
    "uniforme.cdf(118.8)"
   ]
  },
  {
   "attachments": {},
   "cell_type": "markdown",
   "metadata": {},
   "source": [
    "Un metro pasa cada 2 minutos. ¿cuál será la probabilidad de que espere a un metro entre 30 y 80 segundo?"
   ]
  },
  {
   "cell_type": "code",
   "execution_count": 48,
   "metadata": {},
   "outputs": [
    {
     "data": {
      "text/plain": [
       "0.41666666666666663"
      ]
     },
     "execution_count": 48,
     "metadata": {},
     "output_type": "execute_result"
    }
   ],
   "source": [
    "uniforme.cdf(80)-uniforme.cdf(30)"
   ]
  },
  {
   "attachments": {},
   "cell_type": "markdown",
   "metadata": {},
   "source": [
    "Un laser dispara su rayo cada 24h, si estoy deseando ver como se lanza el rayo, y llego a una hora X, \n",
    "* ¿qué probabilidad tengo de esperar ver el rayo entre 4 y 6 horas despues de mi llegada?\n",
    "* ¿y entre 118 minutos y 243 minutos?\n",
    "* ¿y entre 145 segundos y 987 segundos?\n",
    "* ¿y qué sea superior a 890 minutos? "
   ]
  },
  {
   "cell_type": "code",
   "execution_count": 49,
   "metadata": {},
   "outputs": [
    {
     "data": {
      "text/plain": [
       "0.08333333333333334"
      ]
     },
     "execution_count": 49,
     "metadata": {},
     "output_type": "execute_result"
    }
   ],
   "source": [
    "a=0\n",
    "b=24*60*60\n",
    "x=uniform(a,b)\n",
    "x.cdf(6*60*60)-x.cdf(4*60*60)"
   ]
  },
  {
   "cell_type": "code",
   "execution_count": 50,
   "metadata": {},
   "outputs": [
    {
     "data": {
      "text/plain": [
       "0.08680555555555557"
      ]
     },
     "execution_count": 50,
     "metadata": {},
     "output_type": "execute_result"
    }
   ],
   "source": [
    "x.cdf(243*60)-x.cdf(118*60)"
   ]
  },
  {
   "cell_type": "code",
   "execution_count": 51,
   "metadata": {},
   "outputs": [
    {
     "data": {
      "text/plain": [
       "0.009745370370370371"
      ]
     },
     "execution_count": 51,
     "metadata": {},
     "output_type": "execute_result"
    }
   ],
   "source": [
    "x.cdf(987)-x.cdf(145)"
   ]
  },
  {
   "cell_type": "code",
   "execution_count": 52,
   "metadata": {},
   "outputs": [
    {
     "data": {
      "text/plain": [
       "0.3819444444444444"
      ]
     },
     "execution_count": 52,
     "metadata": {},
     "output_type": "execute_result"
    }
   ],
   "source": [
    "x.sf(890*60)"
   ]
  },
  {
   "cell_type": "code",
   "execution_count": 53,
   "metadata": {},
   "outputs": [
    {
     "data": {
      "text/plain": [
       "True"
      ]
     },
     "execution_count": 53,
     "metadata": {},
     "output_type": "execute_result"
    }
   ],
   "source": [
    "1-x.cdf(890*60)==x.sf(890*60)"
   ]
  },
  {
   "cell_type": "code",
   "execution_count": 54,
   "metadata": {},
   "outputs": [],
   "source": [
    "from scipy.stats import expon"
   ]
  },
  {
   "cell_type": "code",
   "execution_count": 55,
   "metadata": {},
   "outputs": [
    {
     "data": {
      "text/plain": [
       "<scipy.stats._distn_infrastructure.rv_frozen at 0x1495e35e198>"
      ]
     },
     "execution_count": 55,
     "metadata": {},
     "output_type": "execute_result"
    }
   ],
   "source": [
    "expon()"
   ]
  },
  {
   "cell_type": "code",
   "execution_count": 56,
   "metadata": {},
   "outputs": [],
   "source": [
    "x_Expo=np.linspace(expon(2).ppf(0.01),expon(2).ppf(0.9999),100)\n",
    "# x_Expo=np.linspace(2.6,5,100)"
   ]
  },
  {
   "cell_type": "code",
   "execution_count": 57,
   "metadata": {},
   "outputs": [
    {
     "data": {
      "text/plain": [
       "[<matplotlib.lines.Line2D at 0x1495e3b0f98>]"
      ]
     },
     "execution_count": 57,
     "metadata": {},
     "output_type": "execute_result"
    },
    {
     "data": {
      "image/png": "[encoded data removed]",
      "text/plain": [
       "<Figure size 432x288 with 1 Axes>"
      ]
     },
     "metadata": {
      "needs_background": "light"
     },
     "output_type": "display_data"
    }
   ],
   "source": [
    "plt.plot(x_Expo,expon(2).pdf(x_Expo))"
   ]
  },
  {
   "cell_type": "code",
   "execution_count": 58,
   "metadata": {},
   "outputs": [
    {
     "data": {
      "text/plain": [
       "array([ 2.01005034,  2.10298256,  2.19591478,  2.288847  ,  2.38177923,\n",
       "        2.47471145,  2.56764367,  2.66057589,  2.75350812,  2.84644034,\n",
       "        2.93937256,  3.03230478,  3.12523701,  3.21816923,  3.31110145,\n",
       "        3.40403367,  3.4969659 ,  3.58989812,  3.68283034,  3.77576257,\n",
       "        3.86869479,  3.96162701,  4.05455923,  4.14749146,  4.24042368,\n",
       "        4.3333559 ,  4.42628812,  4.51922035,  4.61215257,  4.70508479,\n",
       "        4.79801701,  4.89094924,  4.98388146,  5.07681368,  5.1697459 ,\n",
       "        5.26267813,  5.35561035,  5.44854257,  5.54147479,  5.63440702,\n",
       "        5.72733924,  5.82027146,  5.91320368,  6.00613591,  6.09906813,\n",
       "        6.19200035,  6.28493257,  6.3778648 ,  6.47079702,  6.56372924,\n",
       "        6.65666147,  6.74959369,  6.84252591,  6.93545813,  7.02839036,\n",
       "        7.12132258,  7.2142548 ,  7.30718702,  7.40011925,  7.49305147,\n",
       "        7.58598369,  7.67891591,  7.77184814,  7.86478036,  7.95771258,\n",
       "        8.0506448 ,  8.14357703,  8.23650925,  8.32944147,  8.42237369,\n",
       "        8.51530592,  8.60823814,  8.70117036,  8.79410258,  8.88703481,\n",
       "        8.97996703,  9.07289925,  9.16583148,  9.2587637 ,  9.35169592,\n",
       "        9.44462814,  9.53756037,  9.63049259,  9.72342481,  9.81635703,\n",
       "        9.90928926, 10.00222148, 10.0951537 , 10.18808592, 10.28101815,\n",
       "       10.37395037, 10.46688259, 10.55981481, 10.65274704, 10.74567926,\n",
       "       10.83861148, 10.9315437 , 11.02447593, 11.11740815, 11.21034037])"
      ]
     },
     "execution_count": 58,
     "metadata": {},
     "output_type": "execute_result"
    }
   ],
   "source": [
    "x_Expo"
   ]
  },
  {
   "cell_type": "code",
   "execution_count": 59,
   "metadata": {},
   "outputs": [],
   "source": [
    "media,var,asi,curtosis=expon(2).stats(moments=\"mvsk\")"
   ]
  },
  {
   "cell_type": "code",
   "execution_count": 60,
   "metadata": {},
   "outputs": [
    {
     "data": {
      "text/plain": [
       "array(3.)"
      ]
     },
     "execution_count": 60,
     "metadata": {},
     "output_type": "execute_result"
    }
   ],
   "source": [
    "media"
   ]
  },
  {
   "cell_type": "code",
   "execution_count": 61,
   "metadata": {},
   "outputs": [
    {
     "data": {
      "text/plain": [
       "array(1.)"
      ]
     },
     "execution_count": 61,
     "metadata": {},
     "output_type": "execute_result"
    }
   ],
   "source": [
    "var"
   ]
  },
  {
   "cell_type": "code",
   "execution_count": 62,
   "metadata": {},
   "outputs": [
    {
     "data": {
      "text/plain": [
       "array(2.)"
      ]
     },
     "execution_count": 62,
     "metadata": {},
     "output_type": "execute_result"
    }
   ],
   "source": [
    "asi"
   ]
  },
  {
   "attachments": {},
   "cell_type": "markdown",
   "metadata": {},
   "source": [
    "El tiempo de vida de una moto sigue una `distribución exponencial` con media 2 lustros y medio. se pide:\n",
    "* Probabilidad de que una moto comprada recientemente (de primera mano) dure más de 20 años.\n",
    "* Si la moto lleva funcionando cinco años ¿cuál será la probabilidad de que haya que cambiarla antes de 2 decadas y media?"
   ]
  },
  {
   "attachments": {},
   "cell_type": "markdown",
   "metadata": {},
   "source": [
    "$$P[X\\geq 20 ]=1-P[\\leq 20]=$$"
   ]
  },
  {
   "attachments": {},
   "cell_type": "markdown",
   "metadata": {},
   "source": [
    "$$P[x \\geq 25 / x \\geq 5] =1-P[x \\leq 25 / x \\geq 5]= 1-\\cfrac{P[x\\leq 25]-P[x \\leq 5]}{P[x \\geq 5]}=1-P[x \\leq 20]$$"
   ]
  },
  {
   "cell_type": "code",
   "execution_count": 63,
   "metadata": {},
   "outputs": [
    {
     "data": {
      "text/plain": [
       "0.9999999979388444"
      ]
     },
     "execution_count": 63,
     "metadata": {},
     "output_type": "execute_result"
    }
   ],
   "source": [
    "(expon(1/12.5).cdf(25)-expon(1/12.5).cdf(5))/(expon(1/12.5).sf(5))"
   ]
  },
  {
   "cell_type": "code",
   "execution_count": 64,
   "metadata": {},
   "outputs": [
    {
     "data": {
      "text/plain": [
       "0.999999997767179"
      ]
     },
     "execution_count": 64,
     "metadata": {},
     "output_type": "execute_result"
    }
   ],
   "source": [
    "expon(1/12.5).cdf(20)"
   ]
  },
  {
   "attachments": {},
   "cell_type": "markdown",
   "metadata": {},
   "source": [
    "# Distribución Normal"
   ]
  },
  {
   "cell_type": "code",
   "execution_count": 142,
   "metadata": {},
   "outputs": [],
   "source": [
    "mu=10\n",
    "sigma=5"
   ]
  },
  {
   "attachments": {},
   "cell_type": "markdown",
   "metadata": {},
   "source": [
    "* ejercicio 6"
   ]
  },
  {
   "cell_type": "code",
   "execution_count": 144,
   "metadata": {},
   "outputs": [],
   "source": [
    "# ejercicio 6\n",
    "\n",
    "# from scipy.stats import norm\n",
    "\n",
    "\n",
    "# media 10\n",
    "# varianza 25\n",
    "u=10\n",
    "s=25\n",
    "\n",
    "norm1=ss.norm(u,s)\n",
    "\n"
   ]
  },
  {
   "cell_type": "code",
   "execution_count": 146,
   "metadata": {},
   "outputs": [
    {
     "name": "stdout",
     "output_type": "stream",
     "text": [
      "Punto en el que el acumulado de la prob es 0.05: -31.12134067378682\n",
      "Punto en el que el acumulado de la prob es 0.95: 51.121340673786804\n",
      "Punto en el que el acumulado de la prob es 0.99: 68.15869685102102\n",
      "Punto en el que el acumulado de la prob es 0.01: -48.15869685102102\n"
     ]
    }
   ],
   "source": [
    "p=[0.05,0.95,0.99,0.01]\n",
    "\n",
    "for i in p:\n",
    "    print(\"Punto en el que el acumulado de la prob es {}: {}\".format(i, norm1.ppf(i)))\n",
    "\n",
    "\n",
    "# punto en el que el acumulado de la probabilidad es 0.05 norm1.ppf(0.05)\n",
    "\n",
    "# probabilidad en el punto x=3  --> norm1.pdf(3)\n",
    "\n",
    "# probabilidad acumulada en el punto 2.4 norm1.cdf(2.4)   De 0 a 2.4\n",
    "\n",
    "# probabilidad 1 - cdf --> norm1.sf(2.4)"
   ]
  },
  {
   "attachments": {},
   "cell_type": "markdown",
   "metadata": {},
   "source": [
    "Ejercicio 8  \n",
    "\n",
    "El gerente del hipermercado JC está preocupado por sus gastos en electricidad, que son este año de 57000€. La cadena de hipermercados tiene un gasto medio en electricidad de 55000€ y una desviación típica de 2000€. Suponiendo normalidad en dichos gastos, calcular:  \n",
    "\n",
    "a) El porcentaje de establecimientos de la cadena con menos gasto en electricidad que JC.  \n",
    "\n",
    "b) Comprobar si su gasto en electricidad está entre el 10% de los hipermercados de la cadena que más gastan.  \n",
    "\n",
    "c) ¿Cuánto ha de reducir su gasto en electricidad para estar entre el 25% de los de menor gasto?  \n"
   ]
  },
  {
   "cell_type": "code",
   "execution_count": 170,
   "metadata": {},
   "outputs": [],
   "source": [
    "u8=55000\n",
    "s8=2000\n",
    "\n",
    "Ej8=norm(u8,s8)"
   ]
  },
  {
   "cell_type": "code",
   "execution_count": 173,
   "metadata": {},
   "outputs": [
    {
     "data": {
      "text/plain": [
       "0.8413447460685429"
      ]
     },
     "execution_count": 173,
     "metadata": {},
     "output_type": "execute_result"
    }
   ],
   "source": [
    "Ej8.cdf(57000)"
   ]
  },
  {
   "cell_type": "code",
   "execution_count": 174,
   "metadata": {},
   "outputs": [
    {
     "data": {
      "text/plain": [
       "57563.1031310892"
      ]
     },
     "execution_count": 174,
     "metadata": {},
     "output_type": "execute_result"
    }
   ],
   "source": [
    "Ej8.ppf(0.9)"
   ]
  },
  {
   "cell_type": "code",
   "execution_count": 177,
   "metadata": {},
   "outputs": [
    {
     "data": {
      "text/plain": [
       "3348.979500392161"
      ]
     },
     "execution_count": 177,
     "metadata": {},
     "output_type": "execute_result"
    }
   ],
   "source": [
    "57000-Ej8.ppf(0.25)"
   ]
  },
  {
   "cell_type": "code",
   "execution_count": 147,
   "metadata": {},
   "outputs": [],
   "source": [
    "import matplotlib.pyplot as plt\n",
    "import numpy as np"
   ]
  },
  {
   "cell_type": "code",
   "execution_count": 148,
   "metadata": {},
   "outputs": [
    {
     "data": {
      "text/plain": [
       "<scipy.stats._distn_infrastructure.rv_continuous_frozen at 0x276b91b8370>"
      ]
     },
     "execution_count": 148,
     "metadata": {},
     "output_type": "execute_result"
    }
   ],
   "source": [
    "norm1"
   ]
  },
  {
   "cell_type": "code",
   "execution_count": 149,
   "metadata": {},
   "outputs": [
    {
     "data": {
      "text/plain": [
       "0.050000000000000024"
      ]
     },
     "execution_count": 149,
     "metadata": {},
     "output_type": "execute_result"
    }
   ],
   "source": [
    "norm1.cdf(norm1.ppf(0.05))\n",
    "\n",
    "#pdf de ppf??"
   ]
  },
  {
   "attachments": {},
   "cell_type": "markdown",
   "metadata": {},
   "source": [
    "* ejercicio 7"
   ]
  },
  {
   "attachments": {},
   "cell_type": "markdown",
   "metadata": {},
   "source": [
    "Ejercicio 7  \n",
    "\n",
    "La media de las calificaciones de un test es 400 y la desviación típica es 100.  \n",
    "\n",
    "Si las calificaciones siguen una distribución normal, calcular:  \n",
    "\n",
    "a) El porcentaje de la población que ha obtenido menos de 350 puntos.  \n",
    "\n",
    "b) El porcentaje de alumnos con calificaciones entre 300 y 500.  \n",
    "\n",
    "c) El porcentaje de alumnos con calificaciones superiores a 500 puntos."
   ]
  },
  {
   "cell_type": "code",
   "execution_count": 151,
   "metadata": {},
   "outputs": [
    {
     "name": "stdout",
     "output_type": "stream",
     "text": [
      "0.3085375387259869\n",
      "0.6826894921370859\n",
      "0.15865525393145707\n"
     ]
    }
   ],
   "source": [
    "u2=400\n",
    "s2=100\n",
    "\n",
    "norm2=ss.norm(400,100)\n",
    "\n",
    "print(norm2.cdf(350))  # acumulado hasta 350\n",
    "\n",
    "print(norm2.cdf(500)-norm2.cdf(300)) # acumulado hasta 500 - acumulado hasta 300\n",
    "\n",
    "print(norm2.sf(500)) # 1 -acumulado 500\n",
    "\n"
   ]
  },
  {
   "attachments": {},
   "cell_type": "markdown",
   "metadata": {},
   "source": [
    "d) La probabilidad de que elegido un alumno al azar su calificación difiera de la media 150 puntos como máximo.  \n",
    "\n"
   ]
  },
  {
   "attachments": {},
   "cell_type": "markdown",
   "metadata": {},
   "source": [
    "$ prob [X-u] <  150$"
   ]
  },
  {
   "cell_type": "code",
   "execution_count": null,
   "metadata": {},
   "outputs": [],
   "source": []
  },
  {
   "attachments": {},
   "cell_type": "markdown",
   "metadata": {},
   "source": [
    "e) Los límites del intervalo que contiene al 70% de la población más cercano a la media."
   ]
  },
  {
   "cell_type": "code",
   "execution_count": 152,
   "metadata": {},
   "outputs": [
    {
     "data": {
      "text/plain": [
       "296.356661050621"
      ]
     },
     "execution_count": 152,
     "metadata": {},
     "output_type": "execute_result"
    }
   ],
   "source": [
    "# limite inferior \n",
    "norm2.ppf(0.15)"
   ]
  },
  {
   "cell_type": "code",
   "execution_count": 153,
   "metadata": {},
   "outputs": [
    {
     "data": {
      "text/plain": [
       "503.643338949379"
      ]
     },
     "execution_count": 153,
     "metadata": {},
     "output_type": "execute_result"
    }
   ],
   "source": [
    "# limite superior \n",
    "norm2.ppf(0.85)"
   ]
  },
  {
   "attachments": {},
   "cell_type": "markdown",
   "metadata": {},
   "source": [
    "Ejercicio 9  \n",
    "\n",
    "Las horas productivas por mes de un departamento de administración se distribuyen mediante una Normal.  \n",
    "\n",
    "Se sabe que el 2.56% de los meses las horas productivas son menos de 1305 \n",
    "\n",
    "El 15.87% de los meses las horas productivas son más de 1600 \n",
    "\n",
    "a) ¿Cuál es el número de horas productivas por término medio?  \n",
    "\n",
    "b) ¿Cuál es la probabilidad de que en un mes se trabajen entre 1450 y 1550 horas?"
   ]
  },
  {
   "cell_type": "code",
   "execution_count": 154,
   "metadata": {},
   "outputs": [
    {
     "name": "stdout",
     "output_type": "stream",
     "text": [
      "-1.949799677735902\n",
      "0.999815093614744\n"
     ]
    }
   ],
   "source": [
    "norm3=ss.norm(0,1)\n",
    "\n",
    "print(norm3.ppf(0.0256))\n",
    "print(norm3.ppf(1-0.1587))"
   ]
  },
  {
   "cell_type": "code",
   "execution_count": 55,
   "metadata": {},
   "outputs": [],
   "source": [
    "# tipificar\n",
    "\n",
    "## -1.95 = 1305 - mu3  / sigma3\n",
    "\n",
    "## 0.999 = 1600 -mu3  / sigma3\n",
    "\n",
    "# despejar sistema ecuaciones \n"
   ]
  },
  {
   "cell_type": "code",
   "execution_count": 159,
   "metadata": {},
   "outputs": [],
   "source": [
    "from scipy.stats import norm"
   ]
  },
  {
   "cell_type": "code",
   "execution_count": 161,
   "metadata": {},
   "outputs": [],
   "source": [
    "normal=norm(mu,sigma)"
   ]
  },
  {
   "cell_type": "code",
   "execution_count": 162,
   "metadata": {},
   "outputs": [
    {
     "name": "stdout",
     "output_type": "stream",
     "text": [
      "10.0\n",
      "25.0\n",
      "0.0\n",
      "0.0\n"
     ]
    }
   ],
   "source": [
    "media, var, asi,curt=norm.stats(mu,sigma,moments='mvsk')\n",
    "print(media)\n",
    "print(var)\n",
    "print(asi)\n",
    "print(curt)"
   ]
  },
  {
   "cell_type": "code",
   "execution_count": 163,
   "metadata": {},
   "outputs": [
    {
     "data": {
      "text/plain": [
       "0.02218416693589111"
      ]
     },
     "execution_count": 163,
     "metadata": {},
     "output_type": "execute_result"
    }
   ],
   "source": [
    "normal.pdf(2)"
   ]
  },
  {
   "cell_type": "code",
   "execution_count": 164,
   "metadata": {},
   "outputs": [
    {
     "data": {
      "text/plain": [
       "0.02218416693589111"
      ]
     },
     "execution_count": 164,
     "metadata": {},
     "output_type": "execute_result"
    }
   ],
   "source": [
    "normal.pdf(18)"
   ]
  },
  {
   "cell_type": "code",
   "execution_count": 165,
   "metadata": {},
   "outputs": [
    {
     "name": "stdout",
     "output_type": "stream",
     "text": [
      "0.07365402806066466\n",
      "0.07365402806066466\n"
     ]
    }
   ],
   "source": [
    "print(normal.pdf(8))\n",
    "print(normal.pdf(12))"
   ]
  },
  {
   "cell_type": "code",
   "execution_count": 166,
   "metadata": {},
   "outputs": [],
   "source": [
    "x=np.linspace(normal.ppf(0.01),normal.ppf(0.99),100)"
   ]
  },
  {
   "cell_type": "code",
   "execution_count": 167,
   "metadata": {},
   "outputs": [
    {
     "data": {
      "image/png": "[encoded data removed]",
      "text/plain": [
       "<Figure size 640x480 with 1 Axes>"
      ]
     },
     "metadata": {},
     "output_type": "display_data"
    }
   ],
   "source": [
    "plt.plot(x,normal.pdf(x));"
   ]
  },
  {
   "attachments": {},
   "cell_type": "markdown",
   "metadata": {},
   "source": [
    "## Ejemplo clase\n",
    "Sabiendo que las ventas diarias de un comercio en una temporada determinada tienen una distribución normal de media 1500 euros y desviación típica 300 euros, supere los 1600 euros\n",
    "$P[X>1600]=\\ldots$"
   ]
  },
  {
   "attachments": {},
   "cell_type": "markdown",
   "metadata": {},
   "source": [
    "$\\chi^2$"
   ]
  },
  {
   "cell_type": "code",
   "execution_count": 168,
   "metadata": {},
   "outputs": [],
   "source": [
    "from scipy.stats import chi2\n",
    "gl=5\n",
    "chi_cuadrado=chi2(gl)"
   ]
  },
  {
   "cell_type": "code",
   "execution_count": 78,
   "metadata": {},
   "outputs": [
    {
     "data": {
      "text/plain": [
       "[<matplotlib.lines.Line2D at 0x1495e22a4a8>]"
      ]
     },
     "execution_count": 78,
     "metadata": {},
     "output_type": "execute_result"
    },
    {
     "data": {
      "image/png": "[encoded data removed]",
      "text/plain": [
       "<Figure size 432x288 with 1 Axes>"
      ]
     },
     "metadata": {
      "needs_background": "light"
     },
     "output_type": "display_data"
    }
   ],
   "source": [
    "x=np.linspace(chi_cuadrado.ppf(0.01),chi_cuadrado.ppf(0.99),100)\n",
    "plt.plot(x,chi_cuadrado.pdf(x))\n"
   ]
  },
  {
   "cell_type": "code",
   "execution_count": 90,
   "metadata": {},
   "outputs": [
    {
     "name": "stdout",
     "output_type": "stream",
     "text": [
      "5.0\n",
      "10.0\n",
      "1.2649110640673518\n",
      "2.4\n"
     ]
    }
   ],
   "source": [
    "media, var, asi,curt=chi2.stats(5,moments='mvsk')\n",
    "print(media)\n",
    "print(var)\n",
    "print(asi)\n",
    "print(curt)"
   ]
  },
  {
   "cell_type": "code",
   "execution_count": 79,
   "metadata": {},
   "outputs": [
    {
     "data": {
      "image/png": "[encoded data removed]",
      "text/plain": [
       "<Figure size 432x288 with 1 Axes>"
      ]
     },
     "metadata": {
      "needs_background": "light"
     },
     "output_type": "display_data"
    }
   ],
   "source": [
    "for i in range(5,100):\n",
    "    chi_cuadrado=chi2(i)\n",
    "    x=np.linspace(chi_cuadrado.ppf(0.01),chi_cuadrado.ppf(0.99),100)\n",
    "    plt.plot(x,chi_cuadrado.pdf(x))"
   ]
  },
  {
   "cell_type": "code",
   "execution_count": 80,
   "metadata": {},
   "outputs": [],
   "source": [
    "from scipy.stats import t"
   ]
  },
  {
   "cell_type": "code",
   "execution_count": 81,
   "metadata": {},
   "outputs": [],
   "source": [
    "tstudent=t(5)"
   ]
  },
  {
   "cell_type": "code",
   "execution_count": 82,
   "metadata": {},
   "outputs": [
    {
     "data": {
      "text/plain": [
       "[<matplotlib.lines.Line2D at 0x1495f56fb70>]"
      ]
     },
     "execution_count": 82,
     "metadata": {},
     "output_type": "execute_result"
    },
    {
     "data": {
      "image/png": "[encoded data removed]",
      "text/plain": [
       "<Figure size 432x288 with 1 Axes>"
      ]
     },
     "metadata": {
      "needs_background": "light"
     },
     "output_type": "display_data"
    }
   ],
   "source": [
    "x=np.linspace(tstudent.ppf(0.01),tstudent.ppf(0.99),100)\n",
    "plt.plot(x,tstudent.pdf(x))"
   ]
  },
  {
   "cell_type": "code",
   "execution_count": 85,
   "metadata": {},
   "outputs": [],
   "source": [
    "media, var, asi,curt=t.stats(5,moments='mvsk')"
   ]
  },
  {
   "cell_type": "code",
   "execution_count": 86,
   "metadata": {},
   "outputs": [
    {
     "data": {
      "text/plain": [
       "array(0.)"
      ]
     },
     "execution_count": 86,
     "metadata": {},
     "output_type": "execute_result"
    }
   ],
   "source": [
    "media"
   ]
  },
  {
   "cell_type": "code",
   "execution_count": 87,
   "metadata": {},
   "outputs": [
    {
     "data": {
      "text/plain": [
       "array(1.66666667)"
      ]
     },
     "execution_count": 87,
     "metadata": {},
     "output_type": "execute_result"
    }
   ],
   "source": [
    "var"
   ]
  },
  {
   "cell_type": "code",
   "execution_count": 88,
   "metadata": {},
   "outputs": [
    {
     "data": {
      "text/plain": [
       "array(0.)"
      ]
     },
     "execution_count": 88,
     "metadata": {},
     "output_type": "execute_result"
    }
   ],
   "source": [
    "asi"
   ]
  },
  {
   "cell_type": "code",
   "execution_count": 89,
   "metadata": {},
   "outputs": [
    {
     "data": {
      "text/plain": [
       "array(6.)"
      ]
     },
     "execution_count": 89,
     "metadata": {},
     "output_type": "execute_result"
    }
   ],
   "source": [
    "curt"
   ]
  },
  {
   "attachments": {},
   "cell_type": "markdown",
   "metadata": {},
   "source": [
    "## Chi cuadrado"
   ]
  },
  {
   "cell_type": "code",
   "execution_count": 111,
   "metadata": {},
   "outputs": [
    {
     "name": "stdout",
     "output_type": "stream",
     "text": [
      "1201\n"
     ]
    }
   ],
   "source": [
    "for i in range(4,95001):\n",
    "    curtosis=chi2.stats(i,moments='k')\n",
    "    if curtosis<0.01:\n",
    "        print(i)\n",
    "        break"
   ]
  },
  {
   "cell_type": "code",
   "execution_count": 112,
   "metadata": {},
   "outputs": [
    {
     "name": "stderr",
     "output_type": "stream",
     "text": [
      "C:\\Users\\Daniel Montes\\Anaconda3\\lib\\site-packages\\ipykernel_launcher.py:3: RuntimeWarning: invalid value encountered in less\n",
      "  This is separate from the ipykernel package so we can avoid doing imports until\n"
     ]
    },
    {
     "name": "stdout",
     "output_type": "stream",
     "text": [
      "605\n"
     ]
    }
   ],
   "source": [
    "for i in range(4,95001):\n",
    "    curtosis=t.stats(i,moments='k')\n",
    "    if curtosis<0.01:\n",
    "        print(i)\n",
    "        break"
   ]
  },
  {
   "cell_type": "code",
   "execution_count": 113,
   "metadata": {},
   "outputs": [],
   "source": [
    "from scipy.stats import f"
   ]
  },
  {
   "cell_type": "code",
   "execution_count": 114,
   "metadata": {},
   "outputs": [],
   "source": [
    "gln, gld= 29, 14"
   ]
  },
  {
   "cell_type": "code",
   "execution_count": 117,
   "metadata": {},
   "outputs": [
    {
     "data": {
      "image/png": "[encoded data removed]",
      "text/plain": [
       "<Figure size 432x288 with 1 Axes>"
      ]
     },
     "metadata": {
      "needs_background": "light"
     },
     "output_type": "display_data"
    }
   ],
   "source": [
    "x=np.linspace(f.ppf(0.01,gln,gld),\n",
    "             f.ppf(0.99,gln,gld),100)\n",
    "plt.plot(x,f.pdf(x,gln,gld));"
   ]
  },
  {
   "cell_type": "code",
   "execution_count": 118,
   "metadata": {
    "scrolled": true
   },
   "outputs": [
    {
     "data": {
      "image/png": "[encoded data removed]",
      "text/plain": [
       "<Figure size 432x288 with 1 Axes>"
      ]
     },
     "metadata": {
      "needs_background": "light"
     },
     "output_type": "display_data"
    }
   ],
   "source": [
    "x=np.linspace(f.ppf(0.01,gld,gln),\n",
    "             f.ppf(0.99,gld,gln),100)\n",
    "plt.plot(x,f.pdf(x,gld,gln));"
   ]
  },
  {
   "cell_type": "code",
   "execution_count": 119,
   "metadata": {},
   "outputs": [],
   "source": [
    "y=f.rvs(gln,gld,100)"
   ]
  },
  {
   "cell_type": "code",
   "execution_count": null,
   "metadata": {},
   "outputs": [],
   "source": [
    "plt."
   ]
  },
  {
   "cell_type": "code",
   "execution_count": null,
   "metadata": {},
   "outputs": [],
   "source": []
  },
  {
   "attachments": {},
   "cell_type": "markdown",
   "metadata": {},
   "source": [
    "$$X ~N(\\mu,\\sigma)$$\n",
    "$$P[X\\leq 1305]=0.0256$$\n",
    "$$P[X\\geq 1600]=0.1587$$\n",
    "Hago el cambio de variable\n",
    "$$Z=\\cfrac{X-\\mu}{\\sigma}$$"
   ]
  },
  {
   "attachments": {},
   "cell_type": "markdown",
   "metadata": {},
   "source": [
    "$$P[Z\\leq \\cfrac{1305-\\mu}{\\sigma}]=0.0256$$\n",
    "$$P[Z\\leq \\cfrac{1600-\\mu}{\\sigma}]=1-0.1587$$"
   ]
  },
  {
   "cell_type": "code",
   "execution_count": 121,
   "metadata": {},
   "outputs": [],
   "source": [
    "normal=norm(0,1)"
   ]
  },
  {
   "cell_type": "code",
   "execution_count": 122,
   "metadata": {},
   "outputs": [],
   "source": [
    "z_1=normal.ppf(0.0256)\n",
    "z_2=normal.ppf(1-0.1587)"
   ]
  },
  {
   "cell_type": "code",
   "execution_count": 123,
   "metadata": {},
   "outputs": [
    {
     "data": {
      "text/plain": [
       "-1.949799677735902"
      ]
     },
     "execution_count": 123,
     "metadata": {},
     "output_type": "execute_result"
    }
   ],
   "source": [
    "z_1"
   ]
  },
  {
   "cell_type": "code",
   "execution_count": 124,
   "metadata": {},
   "outputs": [
    {
     "data": {
      "text/plain": [
       "0.999815093614744"
      ]
     },
     "execution_count": 124,
     "metadata": {},
     "output_type": "execute_result"
    }
   ],
   "source": [
    "z_2"
   ]
  },
  {
   "attachments": {},
   "cell_type": "markdown",
   "metadata": {},
   "source": [
    "$$z_1 = \\cfrac{1305-\\mu}{\\sigma}$$\n",
    "$$z_2 = \\cfrac{1600-\\mu}{\\sigma}$$"
   ]
  },
  {
   "attachments": {},
   "cell_type": "markdown",
   "metadata": {},
   "source": [
    "$$z_1 \\times \\sigma +\\mu = 1305$$\n",
    "$$z_2 \\times \\sigma + \\mu =1600$$"
   ]
  },
  {
   "cell_type": "code",
   "execution_count": 128,
   "metadata": {},
   "outputs": [],
   "source": [
    "A=np.array([[z_1,1],[z_2,1]])\n",
    "b=np.array([1305,1600])"
   ]
  },
  {
   "cell_type": "code",
   "execution_count": 129,
   "metadata": {},
   "outputs": [],
   "source": [
    "x=np.linalg.solve(A,b)"
   ]
  },
  {
   "cell_type": "code",
   "execution_count": 131,
   "metadata": {},
   "outputs": [
    {
     "data": {
      "text/plain": [
       "1500.0054327496832"
      ]
     },
     "execution_count": 131,
     "metadata": {},
     "output_type": "execute_result"
    }
   ],
   "source": [
    "x[1]"
   ]
  },
  {
   "attachments": {},
   "cell_type": "markdown",
   "metadata": {},
   "source": [
    "$$P[1450\\leq X \\leq 1550]=P[X\\leq 1550]-P[X\\leq 1450]$$"
   ]
  },
  {
   "cell_type": "code",
   "execution_count": 132,
   "metadata": {},
   "outputs": [],
   "source": [
    "Normal=norm(x[1],x[0])"
   ]
  },
  {
   "cell_type": "code",
   "execution_count": 133,
   "metadata": {},
   "outputs": [
    {
     "data": {
      "text/plain": [
       "0.38287894648150667"
      ]
     },
     "execution_count": 133,
     "metadata": {},
     "output_type": "execute_result"
    }
   ],
   "source": [
    "Normal.cdf(1550)-Normal.cdf(1450)"
   ]
  },
  {
   "cell_type": "code",
   "execution_count": 135,
   "metadata": {},
   "outputs": [
    {
     "name": "stdout",
     "output_type": "stream",
     "text": [
      "La probabilidad de que un trabajador trabaje .. es: 38.29%\n"
     ]
    }
   ],
   "source": [
    "print(\"La probabilidad de que un trabajador trabaje .. es: {0:0.2f}%\".\\\n",
    "      format((Normal.cdf(1550)-Normal.cdf(1450))*100))"
   ]
  },
  {
   "cell_type": "code",
   "execution_count": null,
   "metadata": {},
   "outputs": [],
   "source": []
  },
  {
   "cell_type": "code",
   "execution_count": null,
   "metadata": {},
   "outputs": [],
   "source": []
  },
  {
   "cell_type": "code",
   "execution_count": null,
   "metadata": {},
   "outputs": [],
   "source": []
  },
  {
   "cell_type": "code",
   "execution_count": 138,
   "metadata": {},
   "outputs": [],
   "source": [
    "gln, gld= 6, 8"
   ]
  },
  {
   "cell_type": "code",
   "execution_count": 143,
   "metadata": {},
   "outputs": [],
   "source": [
    "xx=np.array([0.01,0.025,0.05,0.10,0.90,0.95,0.975,0.99])\n",
    "f_snedecor=[]\n",
    "t_stdundent=[]\n",
    "chi_2=[]\n",
    "for i in xx:\n",
    "    f_snedecor.append(f.ppf(i,gln,gld))\n",
    "    t_stdundent.append(t(5).ppf(i))\n",
    "    chi_2.append(chi2(5).ppf(i))\n",
    "import pandas as pd\n",
    "rr=pd.DataFrame({\"Percentiles\":xx,\"F_Snedecor\":f_snedecor,\"t_Student\":t_stdundent,\"Chi2\":chi_2})"
   ]
  },
  {
   "cell_type": "code",
   "execution_count": 144,
   "metadata": {},
   "outputs": [
    {
     "data": {
      "text/html": [
       "<div>\n",
       "<style scoped>\n",
       "    .dataframe tbody tr th:only-of-type {\n",
       "        vertical-align: middle;\n",
       "    }\n",
       "\n",
       "    .dataframe tbody tr th {\n",
       "        vertical-align: top;\n",
       "    }\n",
       "\n",
       "    .dataframe thead th {\n",
       "        text-align: right;\n",
       "    }\n",
       "</style>\n",
       "<table border=\"1\" class=\"dataframe\">\n",
       "  <thead>\n",
       "    <tr style=\"text-align: right;\">\n",
       "      <th></th>\n",
       "      <th>F_Snedecor</th>\n",
       "      <th>t_Student</th>\n",
       "      <th>Chi2</th>\n",
       "    </tr>\n",
       "    <tr>\n",
       "      <th>Percentiles</th>\n",
       "      <th></th>\n",
       "      <th></th>\n",
       "      <th></th>\n",
       "    </tr>\n",
       "  </thead>\n",
       "  <tbody>\n",
       "    <tr>\n",
       "      <th>0.010</th>\n",
       "      <td>0.123432</td>\n",
       "      <td>-3.364930</td>\n",
       "      <td>0.554298</td>\n",
       "    </tr>\n",
       "    <tr>\n",
       "      <th>0.025</th>\n",
       "      <td>0.178583</td>\n",
       "      <td>-2.570582</td>\n",
       "      <td>0.831212</td>\n",
       "    </tr>\n",
       "    <tr>\n",
       "      <th>0.050</th>\n",
       "      <td>0.241150</td>\n",
       "      <td>-2.015048</td>\n",
       "      <td>1.145476</td>\n",
       "    </tr>\n",
       "    <tr>\n",
       "      <th>0.100</th>\n",
       "      <td>0.335229</td>\n",
       "      <td>-1.475884</td>\n",
       "      <td>1.610308</td>\n",
       "    </tr>\n",
       "    <tr>\n",
       "      <th>0.900</th>\n",
       "      <td>2.668335</td>\n",
       "      <td>1.475884</td>\n",
       "      <td>9.236357</td>\n",
       "    </tr>\n",
       "    <tr>\n",
       "      <th>0.950</th>\n",
       "      <td>3.580580</td>\n",
       "      <td>2.015048</td>\n",
       "      <td>11.070498</td>\n",
       "    </tr>\n",
       "    <tr>\n",
       "      <th>0.975</th>\n",
       "      <td>4.651696</td>\n",
       "      <td>2.570582</td>\n",
       "      <td>12.832502</td>\n",
       "    </tr>\n",
       "    <tr>\n",
       "      <th>0.990</th>\n",
       "      <td>6.370681</td>\n",
       "      <td>3.364930</td>\n",
       "      <td>15.086272</td>\n",
       "    </tr>\n",
       "  </tbody>\n",
       "</table>\n",
       "</div>"
      ],
      "text/plain": [
       "             F_Snedecor  t_Student       Chi2\n",
       "Percentiles                                  \n",
       "0.010          0.123432  -3.364930   0.554298\n",
       "0.025          0.178583  -2.570582   0.831212\n",
       "0.050          0.241150  -2.015048   1.145476\n",
       "0.100          0.335229  -1.475884   1.610308\n",
       "0.900          2.668335   1.475884   9.236357\n",
       "0.950          3.580580   2.015048  11.070498\n",
       "0.975          4.651696   2.570582  12.832502\n",
       "0.990          6.370681   3.364930  15.086272"
      ]
     },
     "execution_count": 144,
     "metadata": {},
     "output_type": "execute_result"
    }
   ],
   "source": [
    "rr.set_index(\"Percentiles\")"
   ]
  },
  {
   "cell_type": "code",
   "execution_count": null,
   "metadata": {},
   "outputs": [],
   "source": []
  },
  {
   "cell_type": "code",
   "execution_count": null,
   "metadata": {},
   "outputs": [],
   "source": []
  },
  {
   "cell_type": "code",
   "execution_count": null,
   "metadata": {},
   "outputs": [],
   "source": []
  },
  {
   "cell_type": "code",
   "execution_count": null,
   "metadata": {},
   "outputs": [],
   "source": []
  }
 ],
 "metadata": {
  "kernelspec": {
   "display_name": "Python 3 (ipykernel)",
   "language": "python",
   "name": "python3"
  },
  "language_info": {
   "codemirror_mode": {
    "name": "ipython",
    "version": 3
   },
   "file_extension": ".py",
   "mimetype": "text/x-python",
   "name": "python",
   "nbconvert_exporter": "python",
   "pygments_lexer": "ipython3",
   "version": "3.9.5"
  }
 },
 "nbformat": 4,
 "nbformat_minor": 2
}
