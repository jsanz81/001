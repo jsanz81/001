{
 "cells": [
  {
   "attachments": {},
   "cell_type": "markdown",
   "metadata": {},
   "source": [
    "# Distribuciones\n",
    "\n",
    "Juguemos con algunas distribuciones y sus funciones de Scipy para familiarizarnos con cómo invocarlas."
   ]
  },
  {
   "cell_type": "code",
   "execution_count": null,
   "metadata": {},
   "outputs": [],
   "source": [
    "import scipy.stats as st\n",
    "import matplotlib.pyplot as plt\n",
    "import numpy as np"
   ]
  },
  {
   "cell_type": "code",
   "execution_count": null,
   "metadata": {},
   "outputs": [],
   "source": [
    "xs = np.linspace(-5, 10, 2000)\n",
    "ks = np.arange(50)"
   ]
  },
  {
   "attachments": {},
   "cell_type": "markdown",
   "metadata": {},
   "source": [
    "### Distribuciones Discretas"
   ]
  },
  {
   "cell_type": "code",
   "execution_count": null,
   "metadata": {},
   "outputs": [],
   "source": [
    "### Lanzamiento de una moneda\n",
    "## la cara\n",
    "p=1/5\n",
    "N=30\n",
    "X=st.binom(N,p)"
   ]
  },
  {
   "cell_type": "code",
   "execution_count": null,
   "metadata": {},
   "outputs": [],
   "source": [
    "X.pmf(1)"
   ]
  },
  {
   "cell_type": "code",
   "execution_count": null,
   "metadata": {},
   "outputs": [],
   "source": [
    "X.pmf(2)"
   ]
  },
  {
   "cell_type": "code",
   "execution_count": null,
   "metadata": {},
   "outputs": [],
   "source": [
    "X.pmf(11)"
   ]
  },
  {
   "attachments": {},
   "cell_type": "markdown",
   "metadata": {},
   "source": [
    "<!-- $ P[X=x]=\\begin{tabular}[ll]\n",
    "0.009 & \\text{si x = 1}\\\\\n",
    "0.04 & \\text{si x = 2}\\\\\n",
    "\\ldots &\\ldots \\\\\n",
    " 0.009 & \\text{si x = 29}\n",
    "\\end{tabular}\n",
    "$ -->"
   ]
  },
  {
   "cell_type": "code",
   "execution_count": null,
   "metadata": {},
   "outputs": [],
   "source": [
    "exitos=np.arange(N+1)\n",
    "plt.figure(figsize=(10,5))\n",
    "plt.plot(exitos,X.pmf(exitos),\"m-^\")"
   ]
  },
  {
   "cell_type": "code",
   "execution_count": null,
   "metadata": {},
   "outputs": [],
   "source": [
    "X.cdf(10)"
   ]
  },
  {
   "cell_type": "code",
   "execution_count": null,
   "metadata": {},
   "outputs": [],
   "source": [
    "exitos=np.arange(N+1)\n",
    "plt.figure(figsize=(10,5))\n",
    "plt.plot(exitos,X.pmf(exitos),\"m-^\")\n",
    "plt.vlines(exitos,0,X.cdf(exitos),\"g\")\n",
    "plt.vlines(exitos,0,X.sf(exitos),\"b\")\n",
    "plt.vlines(exitos,0,1-X.cdf(exitos),\"c\")\n"
   ]
  },
  {
   "cell_type": "code",
   "execution_count": null,
   "metadata": {},
   "outputs": [],
   "source": [
    "pmf_binom = st.binom.pmf(ks, 50, 0.25)\n",
    "plt.bar(ks, pmf_binom, label=\"Binomial Ejemplo (dados)\", alpha=0.8)\n",
    "\n",
    "pmf_poisson = st.poisson.pmf(ks, 30)\n",
    "plt.bar(ks, pmf_poisson, label=\"Poisson Ejemplo (rotura coches)\", alpha=0.8)\n",
    "plt.legend();\n",
    "\n",
    "print(st.binom.pmf(10, 50, 0.25))\n",
    "print(st.poisson.pmf(50, 30))"
   ]
  },
  {
   "attachments": {},
   "cell_type": "markdown",
   "metadata": {},
   "source": [
    "> Ejercicios\n",
    "\n",
    "### Ejercicio 1\n",
    "Una ciudad est ́a dividida en dos barrios (A y B). El n ́umero de\n",
    "apagones que se producen en el barrio A sigue una distribuci ́on de Poisson con\n",
    "media dos apagones por mes. Siendo en el barrio B la media de un apag ́on por\n",
    "mes. Calcule la probabilidad de que en un mes:\n",
    "* Haya alg ́un apag ́on en el barrio A.\n",
    "* Hayan, a lo sumo, dos apagones en la ciudad."
   ]
  },
  {
   "cell_type": "code",
   "execution_count": null,
   "metadata": {},
   "outputs": [],
   "source": [
    "# A ~P(2)\n",
    "poisson = st.poisson(2)"
   ]
  },
  {
   "cell_type": "code",
   "execution_count": null,
   "metadata": {},
   "outputs": [],
   "source": [
    "1-poisson.pmf(0)"
   ]
  },
  {
   "attachments": {},
   "cell_type": "markdown",
   "metadata": {},
   "source": [
    "Ciudad=A+B~P(2+1)"
   ]
  },
  {
   "cell_type": "code",
   "execution_count": null,
   "metadata": {},
   "outputs": [],
   "source": [
    "poisson = st.poisson(3)\n",
    "poisson.cdf(2)"
   ]
  },
  {
   "attachments": {},
   "cell_type": "markdown",
   "metadata": {},
   "source": [
    "ES una distribución Binomial\n",
    "X~B(10000,1/5000)"
   ]
  },
  {
   "cell_type": "code",
   "execution_count": null,
   "metadata": {},
   "outputs": [],
   "source": [
    "# n>30\n",
    "# np<5\n",
    "Binomial=st.binom(10000,1/5000)"
   ]
  },
  {
   "cell_type": "code",
   "execution_count": null,
   "metadata": {},
   "outputs": [],
   "source": [
    "1-Binomial.pmf(0)"
   ]
  },
  {
   "cell_type": "code",
   "execution_count": null,
   "metadata": {},
   "outputs": [],
   "source": [
    "Binomial.sf(0)"
   ]
  },
  {
   "cell_type": "code",
   "execution_count": null,
   "metadata": {},
   "outputs": [],
   "source": [
    "Poisson=st.poisson(2)\n",
    "Poisson.sf(0)"
   ]
  },
  {
   "cell_type": "code",
   "execution_count": null,
   "metadata": {},
   "outputs": [],
   "source": [
    "p=1000/10000\n",
    "Y=st.binom(20,p)\n",
    "print(1-Y.pmf(0))\n",
    "print(Y.sf(0))\n"
   ]
  },
  {
   "cell_type": "code",
   "execution_count": null,
   "metadata": {},
   "outputs": [],
   "source": []
  },
  {
   "cell_type": "code",
   "execution_count": null,
   "metadata": {},
   "outputs": [],
   "source": [
    "a=np.array([1,2,3,4,5,6])\n",
    "a.mean()"
   ]
  },
  {
   "attachments": {},
   "cell_type": "markdown",
   "metadata": {},
   "source": [
    "### Distribuciones Continuas\n",
    "\n",
    "Uniforme, normal, exponencial, t-student, log-normal, asimetrico-normal."
   ]
  },
  {
   "cell_type": "code",
   "execution_count": null,
   "metadata": {},
   "outputs": [],
   "source": [
    "pdf_uniform = st.uniform.pdf(xs, -4, 10)\n",
    "plt.plot(xs, pdf_uniform, label=\"Uniforme(-4,6)\")\n",
    "\n",
    "pdf_normal = st.norm.pdf(xs, loc=5, scale=2)\n",
    "plt.plot(xs, pdf_normal, label=\"Normal(5, 2)\")\n",
    "\n",
    "# pdf_exponential = st.expon.pdf(xs, loc=-2, scale=2)\n",
    "# plt.plot(xs, pdf_exponential, label=\"Exponencial(0.5)\")\n",
    "\n",
    "pdf_studentt = st.t(5).pdf(xs)\n",
    "plt.plot(xs, pdf_studentt, label=\"t-Student(1)\")\n",
    "\n",
    "pdf_lognorm = st.lognorm.pdf(xs, 1)\n",
    "plt.plot(xs, pdf_lognorm, label=\"Lognorm(1)\")\n",
    "\n",
    "pdf_skewnorm = st.skewnorm.pdf(xs, -6)\n",
    "plt.plot(xs, pdf_skewnorm, label=\"Skewnorm(5)\")\n",
    "\n",
    "plt.legend()\n",
    "plt.ylabel(\"Prob\")\n",
    "plt.xlabel(\"x\");"
   ]
  },
  {
   "cell_type": "code",
   "execution_count": null,
   "metadata": {},
   "outputs": [],
   "source": [
    "plt.plot(xs, st.t.pdf(xs, 1, loc=4, scale=2), label=\"In built\")\n",
    "plt.plot(xs, st.t.pdf((xs-4)/2, 1, loc=0, scale=1), label=\"Manually\")\n",
    "plt.legend();"
   ]
  },
  {
   "cell_type": "code",
   "execution_count": null,
   "metadata": {},
   "outputs": [],
   "source": [
    "from scipy.stats import t\n",
    "t.stats(1000,moments=\"mvsk\")"
   ]
  },
  {
   "cell_type": "code",
   "execution_count": null,
   "metadata": {},
   "outputs": [],
   "source": [
    "from scipy.stats import chi2\n",
    "gl=5\n",
    "chi_cuadrado=chi2(gl)"
   ]
  },
  {
   "cell_type": "code",
   "execution_count": null,
   "metadata": {},
   "outputs": [],
   "source": [
    "x=np.linspace(chi_cuadrado.ppf(0.01),chi_cuadrado.ppf(0.99),100)\n",
    "plt.plot(x,chi_cuadrado.pdf(x))"
   ]
  },
  {
   "attachments": {},
   "cell_type": "markdown",
   "metadata": {},
   "source": [
    "$\\chi$"
   ]
  },
  {
   "cell_type": "code",
   "execution_count": null,
   "metadata": {},
   "outputs": [],
   "source": [
    "for i in range(5,100):\n",
    "    chi_cuadrado=chi2(i)\n",
    "    x=np.linspace(chi_cuadrado.ppf(0.01),chi_cuadrado.ppf(0.99),100)\n",
    "    plt.plot(x,chi_cuadrado.pdf(x))\n"
   ]
  },
  {
   "cell_type": "code",
   "execution_count": null,
   "metadata": {},
   "outputs": [],
   "source": [
    "chi2.stats(5,moments='mvsk')"
   ]
  },
  {
   "cell_type": "code",
   "execution_count": null,
   "metadata": {},
   "outputs": [],
   "source": []
  }
 ],
 "metadata": {
  "kernelspec": {
   "display_name": "Python 3",
   "language": "python",
   "name": "python3"
  },
  "language_info": {
   "codemirror_mode": {
    "name": "ipython",
    "version": 3
   },
   "file_extension": ".py",
   "mimetype": "text/x-python",
   "name": "python",
   "nbconvert_exporter": "python",
   "pygments_lexer": "ipython3",
   "version": "3.9.12"
  }
 },
 "nbformat": 4,
 "nbformat_minor": 2
}
