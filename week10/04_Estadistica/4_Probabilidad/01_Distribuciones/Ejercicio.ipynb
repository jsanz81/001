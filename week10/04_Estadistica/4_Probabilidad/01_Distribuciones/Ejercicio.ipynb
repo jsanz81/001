{
 "cells": [
  {
   "attachments": {},
   "cell_type": "markdown",
   "metadata": {},
   "source": [
    "# Ditribución Discreta\n",
    "## Ejercicio 7.2\n",
    "10000 polizas contra incendios al año\n",
    "1/5000 de que se produzca un indencio en una vivienda\n",
    "que tenga que pagar a alguno de sus aseguraos"
   ]
  },
  {
   "cell_type": "code",
   "execution_count": 2,
   "metadata": {},
   "outputs": [
    {
     "name": "stdout",
     "output_type": "stream",
     "text": [
      "Binomial\n"
     ]
    }
   ],
   "source": [
    "n=10000\n",
    "p=1/5000\n",
    "lamb=n*p\n",
    "if (lamb>=5) & (n>30):\n",
    "    print(\"aproxmación por poisson \")\n",
    "else:\n",
    "    print(\"Binomial\")"
   ]
  },
  {
   "attachments": {},
   "cell_type": "markdown",
   "metadata": {},
   "source": [
    "X~B(n,p)"
   ]
  },
  {
   "cell_type": "code",
   "execution_count": 3,
   "metadata": {},
   "outputs": [],
   "source": [
    "from scipy.stats import binom"
   ]
  },
  {
   "cell_type": "code",
   "execution_count": 4,
   "metadata": {},
   "outputs": [],
   "source": [
    "X=binom(n,p)"
   ]
  },
  {
   "cell_type": "code",
   "execution_count": 5,
   "metadata": {},
   "outputs": [
    {
     "data": {
      "text/plain": [
       "<scipy.stats._distn_infrastructure.rv_frozen at 0x2475958a760>"
      ]
     },
     "execution_count": 5,
     "metadata": {},
     "output_type": "execute_result"
    }
   ],
   "source": [
    "X"
   ]
  },
  {
   "attachments": {},
   "cell_type": "markdown",
   "metadata": {},
   "source": [
    "si fuera saber simplemente que se le pague a: \n",
    "* una persona P[X=1]\n",
    "* dos personas P[X=2]"
   ]
  },
  {
   "cell_type": "code",
   "execution_count": 10,
   "metadata": {},
   "outputs": [
    {
     "data": {
      "text/plain": [
       "0.13530821527775996"
      ]
     },
     "execution_count": 10,
     "metadata": {},
     "output_type": "execute_result"
    }
   ],
   "source": [
    "X.pmf(0)"
   ]
  },
  {
   "cell_type": "code",
   "execution_count": 6,
   "metadata": {},
   "outputs": [
    {
     "data": {
      "text/plain": [
       "0.2706705646683939"
      ]
     },
     "execution_count": 6,
     "metadata": {},
     "output_type": "execute_result"
    }
   ],
   "source": [
    "X.pmf(1)"
   ]
  },
  {
   "cell_type": "code",
   "execution_count": 7,
   "metadata": {},
   "outputs": [
    {
     "data": {
      "text/plain": [
       "0.2706976371393552"
      ]
     },
     "execution_count": 7,
     "metadata": {},
     "output_type": "execute_result"
    }
   ],
   "source": [
    "X.pmf(2)"
   ]
  },
  {
   "cell_type": "code",
   "execution_count": 8,
   "metadata": {},
   "outputs": [
    {
     "data": {
      "text/plain": [
       "0.2706976371393552"
      ]
     },
     "execution_count": 8,
     "metadata": {},
     "output_type": "execute_result"
    }
   ],
   "source": [
    "X.pmf(2)"
   ]
  },
  {
   "cell_type": "code",
   "execution_count": 9,
   "metadata": {},
   "outputs": [
    {
     "data": {
      "text/plain": [
       "0.18046509142623685"
      ]
     },
     "execution_count": 9,
     "metadata": {},
     "output_type": "execute_result"
    }
   ],
   "source": [
    "X.pmf(3)"
   ]
  },
  {
   "attachments": {},
   "cell_type": "markdown",
   "metadata": {},
   "source": [
    " "
   ]
  },
  {
   "cell_type": "code",
   "execution_count": 11,
   "metadata": {},
   "outputs": [
    {
     "name": "stderr",
     "output_type": "stream",
     "text": [
      "c:\\Users\\Daniel Montes\\Anaconda3\\lib\\site-packages\\scipy\\stats\\_discrete_distns.py:67: RuntimeWarning: divide by zero encountered in _binom_pdf\n",
      "  return _boost._binom_pdf(x, n, p)\n"
     ]
    }
   ],
   "source": [
    "a=0\n",
    "for i in range(1,n+1):\n",
    "    a+=X.pmf(i)"
   ]
  },
  {
   "cell_type": "code",
   "execution_count": 12,
   "metadata": {},
   "outputs": [
    {
     "data": {
      "text/plain": [
       "0.8646917847222703"
      ]
     },
     "execution_count": 12,
     "metadata": {},
     "output_type": "execute_result"
    }
   ],
   "source": [
    "a"
   ]
  },
  {
   "cell_type": "code",
   "execution_count": 13,
   "metadata": {},
   "outputs": [
    {
     "data": {
      "text/plain": [
       "0.8646917847222401"
      ]
     },
     "execution_count": 13,
     "metadata": {},
     "output_type": "execute_result"
    }
   ],
   "source": [
    "1-X.pmf(0)"
   ]
  },
  {
   "cell_type": "code",
   "execution_count": 15,
   "metadata": {},
   "outputs": [
    {
     "data": {
      "text/plain": [
       "0.8646917847222699"
      ]
     },
     "execution_count": 15,
     "metadata": {},
     "output_type": "execute_result"
    }
   ],
   "source": [
    "X.sf(0)"
   ]
  },
  {
   "attachments": {},
   "cell_type": "markdown",
   "metadata": {},
   "source": [
    "cual es la probabailidad de pagar a al menos 10 personas"
   ]
  },
  {
   "cell_type": "code",
   "execution_count": 16,
   "metadata": {},
   "outputs": [],
   "source": [
    "a=0\n",
    "for i in range(11):\n",
    "    a+=X.pmf(i)"
   ]
  },
  {
   "cell_type": "code",
   "execution_count": 28,
   "metadata": {},
   "outputs": [
    {
     "data": {
      "text/plain": [
       "0.9999917222859086"
      ]
     },
     "execution_count": 28,
     "metadata": {},
     "output_type": "execute_result"
    }
   ],
   "source": [
    "X.cdf(10)"
   ]
  },
  {
   "attachments": {},
   "cell_type": "markdown",
   "metadata": {},
   "source": [
    "Un proveedor de DVDs regrabables afirma que solamente el 4 % de los\n",
    "\n",
    "artículos suministrados son defectuosos. Si un cliente compra un lote de 25\n",
    "\n",
    "DVDs, ¿cuál es el número esperado de DVDs defectuosos en el lote? Si el cliente\n",
    "\n",
    "encuentra que 4 de los DVDs comprados son defectuosos, ¿debe dudar de la\n",
    "\n",
    "afirmación del vendedor?"
   ]
  },
  {
   "attachments": {},
   "cell_type": "markdown",
   "metadata": {},
   "source": [
    "D~B(25;0.04)"
   ]
  },
  {
   "cell_type": "code",
   "execution_count": 31,
   "metadata": {},
   "outputs": [],
   "source": [
    "n=25\n",
    "p=0.04\n",
    "D=binom(n,p)"
   ]
  },
  {
   "cell_type": "code",
   "execution_count": 32,
   "metadata": {},
   "outputs": [
    {
     "data": {
      "text/plain": [
       "1.0"
      ]
     },
     "execution_count": 32,
     "metadata": {},
     "output_type": "execute_result"
    }
   ],
   "source": [
    "D.mean()"
   ]
  },
  {
   "cell_type": "code",
   "execution_count": 36,
   "metadata": {},
   "outputs": [
    {
     "data": {
      "text/plain": [
       "0.3754132467271025"
      ]
     },
     "execution_count": 36,
     "metadata": {},
     "output_type": "execute_result"
    }
   ],
   "source": [
    "D.pmf(1)"
   ]
  },
  {
   "cell_type": "code",
   "execution_count": 35,
   "metadata": {},
   "outputs": [
    {
     "data": {
      "text/plain": [
       "0.013741254546000723"
      ]
     },
     "execution_count": 35,
     "metadata": {},
     "output_type": "execute_result"
    }
   ],
   "source": [
    "D.pmf(4)"
   ]
  },
  {
   "cell_type": "code",
   "execution_count": 33,
   "metadata": {},
   "outputs": [
    {
     "data": {
      "text/plain": [
       "0.9972196795135846"
      ]
     },
     "execution_count": 33,
     "metadata": {},
     "output_type": "execute_result"
    }
   ],
   "source": [
    "D.pmf(0)+D.pmf(1)+D.pmf(2)+D.pmf(3)+D.pmf(4)"
   ]
  },
  {
   "cell_type": "code",
   "execution_count": 34,
   "metadata": {},
   "outputs": [
    {
     "data": {
      "text/plain": [
       "0.9972196795135848"
      ]
     },
     "execution_count": 34,
     "metadata": {},
     "output_type": "execute_result"
    }
   ],
   "source": [
    "D.cdf(4)"
   ]
  },
  {
   "cell_type": "code",
   "execution_count": 38,
   "metadata": {},
   "outputs": [
    {
     "data": {
      "image/png": "[encoded data removed]",
      "text/plain": [
       "<Figure size 432x288 with 1 Axes>"
      ]
     },
     "metadata": {
      "needs_background": "light"
     },
     "output_type": "display_data"
    }
   ],
   "source": [
    "import matplotlib.pyplot as plt\n",
    "import numpy as np\n",
    "vector=np.arange(n+1)\n",
    "plt.plot(vector,D.pmf(vector),\"r*\");"
   ]
  },
  {
   "attachments": {},
   "cell_type": "markdown",
   "metadata": {},
   "source": [
    "20 profesores de data  the bridge que hubieras 6 el tribunal\n",
    "12 mujeres y 8 hombres\n",
    "si se escoge aletaroamente, y solo había un hombre\n",
    "¿podemos pensar que se escogio de manera aleatoria?"
   ]
  },
  {
   "cell_type": "code",
   "execution_count": 21,
   "metadata": {},
   "outputs": [],
   "source": [
    "from scipy.stats import hypergeom\n",
    "from scipy.stats import binom\n",
    "from scipy.stats import poisson\n",
    "from scipy.stats import geom"
   ]
  },
  {
   "attachments": {},
   "cell_type": "markdown",
   "metadata": {},
   "source": [
    "Si jugamos una combinación de la lotería primitiva. ¿Cuál es la probabilidad de que acertemos 4 números o más?\n",
    "<p>   <strong>Solución </strong> </p>\n",
    "\n",
    "<a href=\"https://upload.wikimedia.org/wikipedia/commons/thumb/3/3d/La_Primitiva.svg/1200px-La_Primitiva.svg.png\"></a>"
   ]
  },
  {
   "attachments": {},
   "cell_type": "markdown",
   "metadata": {},
   "source": [
    "P[X=4]=H.pmf(4)\n",
    "\n",
    "P[X $\\geq$ 4]=P[X=4]+P[X=5]+P[X=6]=1-H.cdf(3)=H.sf(3)"
   ]
  },
  {
   "attachments": {},
   "cell_type": "markdown",
   "metadata": {},
   "source": [
    "En un almacén hay 5000 piezas de las cuales 400 son defectuosas. Se seleccionan aleatoriamente 10\n",
    "piezas, en una ocasión con reemplazamiento y en otra sin reemplazamiento. En cada caso determine\n",
    "la probabilidad de que todas las piezas estén en buen estado."
   ]
  },
  {
   "cell_type": "code",
   "execution_count": 4,
   "metadata": {},
   "outputs": [
    {
     "name": "stdout",
     "output_type": "stream",
     "text": [
      "Probabilidad de sacar una defectuosa, con reemplazamiento: 0.434388\n"
     ]
    }
   ],
   "source": [
    "X=0 # numero de piezas defectuosas\n",
    "\n",
    "n=10 # piezas sacadas\n",
    "\n",
    "p=400/5000 # probabilidad de sacar una defectuosa\n",
    "\n",
    "# con reemplazamiento -> binomial\n",
    "\n",
    "n=10\n",
    "\n",
    "RR=binom(n,p)\n",
    "\n",
    "print(f\"Probabilidad de sacar una defectuosa, con reemplazamiento: {round(RR.pmf(0), 6)}\")\n",
    "\n",
    "\n"
   ]
  },
  {
   "cell_type": "code",
   "execution_count": 26,
   "metadata": {},
   "outputs": [
    {
     "ename": "SyntaxError",
     "evalue": "f-string: empty expression not allowed (3234720898.py, line 11)",
     "output_type": "error",
     "traceback": [
      "\u001b[1;36m  Cell \u001b[1;32mIn[26], line 11\u001b[1;36m\u001b[0m\n\u001b[1;33m    print(f\"Media esperada: {}\".format(RS.mean())\u001b[0m\n\u001b[1;37m                               ^\u001b[0m\n\u001b[1;31mSyntaxError\u001b[0m\u001b[1;31m:\u001b[0m f-string: empty expression not allowed\n"
     ]
    }
   ],
   "source": [
    "# sin reemplazamiento -> hipergeometrica\n",
    "\n",
    "N=5000\n",
    "x=10 #muestra que cojo\n",
    "p=400 # probabilidad de defectuosa\n",
    "\n",
    "\n",
    "RS=hypergeom(N,x,p)\n",
    "print(f\"Probabilidad de no sacar ninguna defectuosa, sin reemplazamiento: {round(RS.pmf(0), 6)}\")\n",
    "\n",
    "print(f\"Media esperada: {}\".format(RS.mean())"
   ]
  },
  {
   "attachments": {},
   "cell_type": "markdown",
   "metadata": {},
   "source": [
    "Una empresa aseguradora ha estimado que la probabilidad de que un cliente realice una reclamación\n",
    "es del 2 por mil.\n",
    "\n",
    "a) Una cartera en concreto está compuesta por 9 asegurados. Calcular la probabilidad de que al\n",
    "menos tres asegurados demanden reclamaciones.\n",
    "\n",
    "\n",
    "b) Si en la provincia de Granada esta compañía dispone de 1500 asegurados, halle la\n",
    "probabilidad de que realicen reclamaciones más de 4 personas.\n"
   ]
  },
  {
   "cell_type": "code",
   "execution_count": 31,
   "metadata": {},
   "outputs": [
    {
     "name": "stdout",
     "output_type": "stream",
     "text": [
      "0.00000067\n"
     ]
    }
   ],
   "source": [
    "#a)\n",
    "\n",
    "p_reclamacion=2/1000\n",
    "\n",
    "# muestra 9\n",
    "\n",
    "n=9\n",
    "\n",
    "p=p_reclamacion\n",
    "\n",
    "S=binom(n,p)\n",
    "\n",
    "print(\"{0:.8f}\".format(S.sf(2))) \n"
   ]
  },
  {
   "cell_type": "code",
   "execution_count": 29,
   "metadata": {},
   "outputs": [
    {
     "data": {
      "text/plain": [
       "0.18473675547622787"
      ]
     },
     "execution_count": 29,
     "metadata": {},
     "output_type": "execute_result"
    }
   ],
   "source": [
    "#b)\n",
    "\n",
    "n2=1500\n",
    "\n",
    "lambdaS2=n2*p\n",
    "\n",
    "S2=poisson(lambdaS2)\n",
    "\n",
    "#que reclamen más de 4\n",
    "\n",
    "S2.sf(4)\n"
   ]
  },
  {
   "attachments": {},
   "cell_type": "markdown",
   "metadata": {},
   "source": [
    "El 43% de la población esta de acuerdo con que Daniel debería ser el jurado del próximo desafio de tripulaciones.\n",
    "\n",
    "¿Cuál es la probabilidad de que en una encuesta la septima persona sea la primera en afirmar que lo quiere ?"
   ]
  },
  {
   "cell_type": "code",
   "execution_count": 33,
   "metadata": {},
   "outputs": [
    {
     "data": {
      "text/plain": [
       "0.01474747231707001"
      ]
     },
     "execution_count": 33,
     "metadata": {},
     "output_type": "execute_result"
    }
   ],
   "source": [
    "p3=0.43\n",
    "\n",
    "#geometrica\n",
    "\n",
    "G=geom(p3)\n",
    "\n",
    "G.pmf(7)"
   ]
  }
 ],
 "metadata": {
  "kernelspec": {
   "display_name": "base",
   "language": "python",
   "name": "python3"
  },
  "language_info": {
   "codemirror_mode": {
    "name": "ipython",
    "version": 3
   },
   "file_extension": ".py",
   "mimetype": "text/x-python",
   "name": "python",
   "nbconvert_exporter": "python",
   "pygments_lexer": "ipython3",
   "version": "3.9.5"
  },
  "orig_nbformat": 4
 },
 "nbformat": 4,
 "nbformat_minor": 2
}
