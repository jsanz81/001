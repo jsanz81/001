{
  "cells": [
    {
      "cell_type": "code",
      "execution_count": 2,
      "metadata": {
        "colab": {
          "base_uri": "https://localhost:8080/"
        },
        "id": "Af5KqAT7ov-4",
        "outputId": "3e48c91c-cd18-4381-9ac1-4e1a8852aa40"
      },
      "outputs": [
        {
          "name": "stdout",
          "output_type": "stream",
          "text": [
<<<<<<< HEAD
            "Python: 3.10.9 | packaged by conda-forge | (main, Jan 11 2023, 15:15:40) [MSC v.1916 64 bit (AMD64)]\n",
=======
            "Python: 3.9.5 (default, May 18 2021, 14:42:02) [MSC v.1916 64 bit (AMD64)]\n"
          ]
        },
        {
          "name": "stdout",
          "output_type": "stream",
          "text": [
>>>>>>> 077f985a2809c834058494092a08d1478010e31f
            "scipy: 1.10.1\n",
            "numpy: 1.24.3\n",
            "matplotlib: 3.7.1\n"
          ]
        }
      ],
      "source": [
        "# importamos las librería\n",
        "# Python version\n",
        "import sys\n",
        "print('Python: {}'.format(sys.version))\n",
        "# scipy\n",
        "import scipy\n",
        "print('scipy: {}'.format(scipy.__version__))\n",
        "# numpy\n",
        "import numpy\n",
        "print('numpy: {}'.format(numpy.__version__))\n",
        "# matplotlib\n",
        "import matplotlib\n",
        "print('matplotlib: {}'.format(matplotlib.__version__))"
      ]
    },
    {
      "cell_type": "code",
      "execution_count": 3,
      "metadata": {
        "id": "WNg87a_G0x4l"
      },
      "outputs": [],
      "source": [
        "## DB\n",
        "from sqlalchemy import create_engine\n",
        "import psycopg2\n",
        "\n",
        "## data analysis and wrangling\n",
        "import pandas as pd\n",
        "import numpy as np\n",
        "import random as rnd\n",
        "\n",
        "## visualization\n",
        "import seaborn as sns\n",
        "from scipy.stats import norm, skew\n",
        "from scipy import stats\n",
        "import matplotlib.pyplot as plt\n",
        "%matplotlib inline\n",
        "\n",
        "## Warnings and other tools\n",
        "import itertools\n",
        "import warnings\n",
        "warnings.filterwarnings(\"ignore\")"
      ]
    },
    {
      "cell_type": "code",
      "execution_count": 4,
      "metadata": {
        "id": "cPGRD0Pq06ma"
      },
      "outputs": [],
      "source": [
        "# Cargamos las credenciales de la base de datos\n",
        "\n",
        "host = \"thebridgechallenge.postgres.database.azure.com\"\n",
        "dbname = \"postgres\"\n",
        "user = \"postgres@thebridgechallenge\"\n",
        "password = \"TheBridge2023\"\n",
        "\n",
        "\n",
        "# Connect to the database\n",
        "conn = psycopg2.connect(host=host, dbname=dbname, user=user, password=password)"
      ]
    },
    {
      "attachments": {},
      "cell_type": "markdown",
      "metadata": {},
      "source": [
        "### TABLA MERCHANTS"
      ]
    },
    {
      "cell_type": "code",
      "execution_count": 5,
      "metadata": {},
      "outputs": [],
      "source": [
        "cursor = conn.cursor()\n",
        "cursor.execute('SELECT * FROM \"DATACHALLENGE\".merchants')\n",
        "columns = [desc[0] for desc in cursor.description]\n",
        "merchants = cursor.fetchall()\n",
        "merchants_df = pd.DataFrame(merchants, columns=columns)\n"
      ]
    },
    {
      "cell_type": "code",
      "execution_count": 6,
      "metadata": {},
      "outputs": [
        {
          "name": "stdout",
          "output_type": "stream",
          "text": [
            "<class 'pandas.core.frame.DataFrame'>\n",
            "RangeIndex: 1956 entries, 0 to 1955\n",
            "Data columns (total 3 columns):\n",
            " #   Column         Non-Null Count  Dtype \n",
            "---  ------         --------------  ----- \n",
            " 0   uuid           1956 non-null   object\n",
            " 1   industry_code  1956 non-null   object\n",
            " 2   industry_name  1956 non-null   object\n",
            "dtypes: object(3)\n",
            "memory usage: 46.0+ KB\n"
          ]
        }
      ],
      "source": [
        "merchants_df.info()"
      ]
    },
    {
      "cell_type": "code",
      "execution_count": 6,
      "metadata": {},
      "outputs": [
        {
          "data": {
            "text/html": [
              "<div>\n",
              "<style scoped>\n",
              "    .dataframe tbody tr th:only-of-type {\n",
              "        vertical-align: middle;\n",
              "    }\n",
              "\n",
              "    .dataframe tbody tr th {\n",
              "        vertical-align: top;\n",
              "    }\n",
              "\n",
              "    .dataframe thead th {\n",
              "        text-align: right;\n",
              "    }\n",
              "</style>\n",
              "<table border=\"1\" class=\"dataframe\">\n",
              "  <thead>\n",
              "    <tr style=\"text-align: right;\">\n",
              "      <th></th>\n",
              "      <th>uuid</th>\n",
              "      <th>industry_code</th>\n",
              "      <th>industry_name</th>\n",
              "    </tr>\n",
              "  </thead>\n",
              "  <tbody>\n",
              "    <tr>\n",
              "      <th>count</th>\n",
              "      <td>1956</td>\n",
              "      <td>1956</td>\n",
              "      <td>1956</td>\n",
              "    </tr>\n",
              "    <tr>\n",
              "      <th>unique</th>\n",
              "      <td>1956</td>\n",
              "      <td>23</td>\n",
              "      <td>44</td>\n",
              "    </tr>\n",
              "    <tr>\n",
              "      <th>top</th>\n",
              "      <td>d793ed6ad25e4f0a8ef055422f8ad178</td>\n",
              "      <td>9</td>\n",
              "      <td>Informatica y Electrónica</td>\n",
              "    </tr>\n",
              "    <tr>\n",
              "      <th>freq</th>\n",
              "      <td>1</td>\n",
              "      <td>256</td>\n",
              "      <td>194</td>\n",
              "    </tr>\n",
              "  </tbody>\n",
              "</table>\n",
              "</div>"
            ],
            "text/plain": [
              "                                    uuid industry_code   \n",
              "count                               1956          1956  \\\n",
              "unique                              1956            23   \n",
              "top     d793ed6ad25e4f0a8ef055422f8ad178             9   \n",
              "freq                                   1           256   \n",
              "\n",
              "                    industry_name  \n",
              "count                        1956  \n",
              "unique                         44  \n",
              "top     Informatica y Electrónica  \n",
              "freq                          194  "
            ]
          },
          "execution_count": 6,
          "metadata": {},
          "output_type": "execute_result"
        }
      ],
      "source": [
        "merchants_df.describe()"
      ]
    },
    {
      "cell_type": "code",
      "execution_count": 7,
      "metadata": {},
      "outputs": [
        {
          "data": {
            "text/html": [
              "<div>\n",
              "<style scoped>\n",
              "    .dataframe tbody tr th:only-of-type {\n",
              "        vertical-align: middle;\n",
              "    }\n",
              "\n",
              "    .dataframe tbody tr th {\n",
              "        vertical-align: top;\n",
              "    }\n",
              "\n",
              "    .dataframe thead th {\n",
              "        text-align: right;\n",
              "    }\n",
              "</style>\n",
              "<table border=\"1\" class=\"dataframe\">\n",
              "  <thead>\n",
              "    <tr style=\"text-align: right;\">\n",
              "      <th></th>\n",
              "      <th>uuid</th>\n",
              "      <th>industry_code</th>\n",
              "      <th>industry_name</th>\n",
              "    </tr>\n",
              "  </thead>\n",
              "  <tbody>\n",
              "    <tr>\n",
              "      <th>0</th>\n",
              "      <td>d793ed6ad25e4f0a8ef055422f8ad178</td>\n",
              "      <td>22</td>\n",
              "      <td>Servicios Profesionales y Federaciones</td>\n",
              "    </tr>\n",
              "    <tr>\n",
              "      <th>1</th>\n",
              "      <td>18f3cbe5537544cd86c2932a9d02905e</td>\n",
              "      <td>6</td>\n",
              "      <td>Electrodomésticos</td>\n",
              "    </tr>\n",
              "    <tr>\n",
              "      <th>2</th>\n",
              "      <td>189ed450530643ac85a5e729314ed585</td>\n",
              "      <td>10</td>\n",
              "      <td>Informatica y Electrónica</td>\n",
              "    </tr>\n",
              "    <tr>\n",
              "      <th>3</th>\n",
              "      <td>5627eb7fbf5743af9b5d4a82fd11a840</td>\n",
              "      <td>19</td>\n",
              "      <td>Otros</td>\n",
              "    </tr>\n",
              "    <tr>\n",
              "      <th>4</th>\n",
              "      <td>03bbe11d14d4445698deb21a1b34f37c</td>\n",
              "      <td>20</td>\n",
              "      <td>Salud y Belleza</td>\n",
              "    </tr>\n",
              "  </tbody>\n",
              "</table>\n",
              "</div>"
            ],
            "text/plain": [
              "                               uuid industry_code   \n",
              "0  d793ed6ad25e4f0a8ef055422f8ad178            22  \\\n",
              "1  18f3cbe5537544cd86c2932a9d02905e             6   \n",
              "2  189ed450530643ac85a5e729314ed585            10   \n",
              "3  5627eb7fbf5743af9b5d4a82fd11a840            19   \n",
              "4  03bbe11d14d4445698deb21a1b34f37c            20   \n",
              "\n",
              "                            industry_name  \n",
              "0  Servicios Profesionales y Federaciones  \n",
              "1                       Electrodomésticos  \n",
              "2               Informatica y Electrónica  \n",
              "3                                   Otros  \n",
              "4                         Salud y Belleza  "
            ]
          },
          "execution_count": 7,
          "metadata": {},
          "output_type": "execute_result"
        }
      ],
      "source": [
        "merchants_df.head()"
      ]
    },
    {
      "attachments": {},
      "cell_type": "markdown",
      "metadata": {},
      "source": [
        "* Sobre qué tipo de producto se pide la financiacón"
      ]
    },
    {
      "cell_type": "code",
      "execution_count": 7,
      "metadata": {},
      "outputs": [
        {
          "ename": "ModuleNotFoundError",
          "evalue": "No module named 'textblob'",
          "output_type": "error",
          "traceback": [
            "\u001b[1;31m---------------------------------------------------------------------------\u001b[0m",
            "\u001b[1;31mModuleNotFoundError\u001b[0m                       Traceback (most recent call last)",
            "Cell \u001b[1;32mIn[8], line 1\u001b[0m\n\u001b[1;32m----> 1\u001b[0m \u001b[39mfrom\u001b[39;00m \u001b[39mtextblob\u001b[39;00m \u001b[39mimport\u001b[39;00m TextBlob \n",
            "\u001b[1;31mModuleNotFoundError\u001b[0m: No module named 'textblob'"
          ]
        }
      ],
      "source": [
        "from textblob import TextBlob "
      ]
    },
    {
      "cell_type": "code",
      "execution_count": 8,
      "metadata": {},
      "outputs": [
        {
          "data": {
            "text/plain": [
              "1956"
            ]
          },
          "execution_count": 8,
          "metadata": {},
          "output_type": "execute_result"
        }
      ],
      "source": [
        "tam_merch=len(merchants_df[\"uuid\"])\n",
        "tam_merch "
      ]
    },
    {
      "cell_type": "code",
      "execution_count": 9,
      "metadata": {},
      "outputs": [],
      "source": [
        "# traducir al ingles \n",
        "\n",
        "# for i in range(1,tam_merch+1):\n",
        "#     blob=TextBlob(str(merchants_df.loc[0][i]))\n",
        "#     merchants_df.loc[0][i]=blob.translate(to=\"en\")"
      ]
    },
    {
      "cell_type": "code",
      "execution_count": 10,
      "metadata": {},
      "outputs": [
        {
          "data": {
            "text/plain": [
              "industry_code  industry_name                            \n",
              "1              Alimentación y Bebidas                        16\n",
              "               Food and drinks                                2\n",
              "10             Computing and Electronic                      59\n",
              "               Informatica y Electrónica                    194\n",
              "11             Instrumentos Musicales                        17\n",
              "               Musical instruments                           12\n",
              "12             Jewelry                                       32\n",
              "               Joyería                                       33\n",
              "13             Juguetes                                      22\n",
              "               Toys                                          10\n",
              "14             Books                                          5\n",
              "               Libros                                         6\n",
              "15             Marketplaces                                  26\n",
              "16             Mascotas                                      19\n",
              "               Pets                                          19\n",
              "17             Fashion and Accessories                      101\n",
              "               Moda y Complementos                          143\n",
              "18             Motor, Recambios y Accesorios Motor           43\n",
              "               Motor, Spare parts and Engine accessories     30\n",
              "19             Others                                        67\n",
              "               Otros                                        188\n",
              "2              Banca y Servicios Financieros                  3\n",
              "20             Health and Beauty                             41\n",
              "               Salud y Belleza                               63\n",
              "21             Medical Products and Services                  5\n",
              "               Servicios y Productos Médicos                 18\n",
              "22             Professional Services and Federations          3\n",
              "               Servicios Profesionales y Federaciones        17\n",
              "23             Travels and tourism                           14\n",
              "               Viajes y Turismo                              18\n",
              "3              Babies                                        16\n",
              "               Bebés                                         25\n",
              "4              Deportes                                      76\n",
              "               Sports                                        71\n",
              "5              Educación y Formación                         96\n",
              "               Education and Training                       119\n",
              "6              Electrodomésticos                             34\n",
              "               Home appliances                               27\n",
              "7              Concert and Show Tickets                       1\n",
              "               Entradas Conciertos y Espectáculos             1\n",
              "8              Federaciones Deportivas                        1\n",
              "               Sports Federations                             7\n",
              "9              Hogar y Decoración                           160\n",
              "               Home and Decor                                96\n",
              "dtype: int64"
            ]
          },
          "execution_count": 10,
          "metadata": {},
          "output_type": "execute_result"
        }
      ],
      "source": [
        "merchants_df.groupby([\"industry_code\", \"industry_name\"]).size()"
      ]
    },
    {
      "cell_type": "code",
      "execution_count": 15,
      "metadata": {},
      "outputs": [
        {
          "data": {
            "text/plain": [
              "industry_code\n",
              "9     256\n",
              "19    255\n",
              "10    253\n",
              "17    244\n",
              "5     215\n",
              "Name: count, dtype: int64"
            ]
          },
          "execution_count": 15,
          "metadata": {},
          "output_type": "execute_result"
        }
      ],
      "source": [
        "merchants_df[\"industry_code\"].value_counts().sort_values(ascending=False).head(5)"
      ]
    },
    {
      "cell_type": "code",
      "execution_count": 16,
      "metadata": {},
      "outputs": [
        {
          "data": {
            "text/plain": [
              "industry_name\n",
<<<<<<< HEAD
              "Informatica y Electrónica    194\n",
              "Otros                        188\n",
              "Hogar y Decoración           160\n",
              "Moda y Complementos          143\n",
              "Education and Training       119\n",
=======
              "Salud y Belleza                          63\n",
              "Jewelry                                  32\n",
              "Others                                   67\n",
              "Alimentación y Bebidas                   16\n",
              "Juguetes                                 22\n",
              "Musical instruments                      12\n",
              "Professional Services and Federations     3\n",
              "Electrodomésticos                        34\n",
              "Toys                                     10\n",
              "Pets                                     19\n",
>>>>>>> 077f985a2809c834058494092a08d1478010e31f
              "Name: count, dtype: int64"
            ]
          },
          "execution_count": 16,
          "metadata": {},
          "output_type": "execute_result"
        }
      ],
      "source": [
        "merchants_df[\"industry_name\"].value_counts().sort_values(ascending=False).head(5)"
      ]
    },
    {
      "attachments": {},
      "cell_type": "markdown",
      "metadata": {},
      "source": [
        "* 10 productos más solicitados para financiar"
      ]
    },
    {
      "cell_type": "code",
      "execution_count": 12,
      "metadata": {},
      "outputs": [
        {
          "data": {
            "text/plain": [
              "<BarContainer object of 10 artists>"
            ]
          },
          "execution_count": 12,
          "metadata": {},
          "output_type": "execute_result"
        },
        {
          "data": {
            "image/png": "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",
            "text/plain": [
              "<Figure size 640x480 with 1 Axes>"
            ]
          },
          "metadata": {},
          "output_type": "display_data"
        }
      ],
      "source": [
        "industry_name=merchants_df[\"industry_code\"].value_counts().head(10).sort_values()\n",
        "plt.barh(industry_name.index, industry_name, color=\"#ff003A\")"
      ]
    },
    {
      "attachments": {},
      "cell_type": "markdown",
      "metadata": {},
      "source": [
        "* Codigo del tipo de producto\n",
        "    > REVISAR PARA AGRUPAR LOS PRODUCTOS EN INGLÉS Y ESPAÑOL"
      ]
    },
    {
      "cell_type": "code",
      "execution_count": 17,
      "metadata": {},
      "outputs": [
        {
          "data": {
            "text/plain": [
              "0    22\n",
              "1     6\n",
              "2    10\n",
              "3    19\n",
              "4    20\n",
              "Name: industry_code, dtype: object"
            ]
          },
          "execution_count": 17,
          "metadata": {},
          "output_type": "execute_result"
        }
      ],
      "source": [
        "merchants_df[\"industry_code\"].head()\n",
        "\n",
        "# Codígo de tipo de producto (Los códigos se repiten en Español e Inglés)\n"
      ]
    },
    {
      "attachments": {},
      "cell_type": "markdown",
      "metadata": {},
      "source": [
        "* Identificador del tipo de producto"
      ]
    },
    {
      "cell_type": "code",
      "execution_count": 18,
      "metadata": {},
      "outputs": [
        {
          "data": {
            "text/plain": [
              "0    d793ed6ad25e4f0a8ef055422f8ad178\n",
              "1    18f3cbe5537544cd86c2932a9d02905e\n",
              "2    189ed450530643ac85a5e729314ed585\n",
              "3    5627eb7fbf5743af9b5d4a82fd11a840\n",
              "4    03bbe11d14d4445698deb21a1b34f37c\n",
              "Name: uuid, dtype: object"
            ]
          },
          "execution_count": 18,
          "metadata": {},
          "output_type": "execute_result"
        }
      ],
      "source": [
        "merchants_df[\"uuid\"].head()"
      ]
    },
    {
      "attachments": {},
      "cell_type": "markdown",
      "metadata": {},
      "source": [
        "### TABLA ORDERS"
      ]
    },
    {
      "cell_type": "code",
      "execution_count": 19,
      "metadata": {},
      "outputs": [],
      "source": [
        "\n",
        "cursor.execute('SELECT * FROM \"DATACHALLENGE\".orders')\n",
        "columns = [desc[0] for desc in cursor.description]\n",
        "orders = cursor.fetchall()\n",
        "orders_df = pd.DataFrame(orders, columns=columns)"
      ]
    },
    {
      "cell_type": "code",
      "execution_count": 20,
      "metadata": {},
      "outputs": [
        {
          "name": "stdout",
          "output_type": "stream",
          "text": [
            "<class 'pandas.core.frame.DataFrame'>\n",
            "RangeIndex: 30288 entries, 0 to 30287\n",
            "Data columns (total 7 columns):\n",
            " #   Column                  Non-Null Count  Dtype         \n",
            "---  ------                  --------------  -----         \n",
            " 0   uuid                    30288 non-null  object        \n",
            " 1   merchant_uuid           30288 non-null  object        \n",
            " 2   created                 30288 non-null  datetime64[ns]\n",
            " 3   country                 30288 non-null  object        \n",
            " 4   annual_percentage_rate  30288 non-null  float64       \n",
            " 5   number_instalments      30288 non-null  int64         \n",
            " 6   booking                 30288 non-null  float64       \n",
            "dtypes: datetime64[ns](1), float64(2), int64(1), object(3)\n",
            "memory usage: 1.6+ MB\n"
          ]
        }
      ],
      "source": [
        "orders_df.info()"
      ]
    },
    {
      "cell_type": "code",
      "execution_count": 21,
      "metadata": {},
      "outputs": [
        {
          "data": {
            "text/html": [
              "<div>\n",
              "<style scoped>\n",
              "    .dataframe tbody tr th:only-of-type {\n",
              "        vertical-align: middle;\n",
              "    }\n",
              "\n",
              "    .dataframe tbody tr th {\n",
              "        vertical-align: top;\n",
              "    }\n",
              "\n",
              "    .dataframe thead th {\n",
              "        text-align: right;\n",
              "    }\n",
              "</style>\n",
              "<table border=\"1\" class=\"dataframe\">\n",
              "  <thead>\n",
              "    <tr style=\"text-align: right;\">\n",
              "      <th></th>\n",
              "      <th>created</th>\n",
              "      <th>annual_percentage_rate</th>\n",
              "      <th>number_instalments</th>\n",
              "      <th>booking</th>\n",
              "    </tr>\n",
              "  </thead>\n",
              "  <tbody>\n",
              "    <tr>\n",
              "      <th>count</th>\n",
              "      <td>30288</td>\n",
              "      <td>30288.000000</td>\n",
              "      <td>30288.000000</td>\n",
              "      <td>30288.000000</td>\n",
              "    </tr>\n",
              "    <tr>\n",
              "      <th>mean</th>\n",
              "      <td>2018-08-09 08:38:59.055397376</td>\n",
              "      <td>18.003554</td>\n",
              "      <td>6.751651</td>\n",
              "      <td>306.476432</td>\n",
              "    </tr>\n",
              "    <tr>\n",
              "      <th>min</th>\n",
              "      <td>2018-01-01 01:22:28.959780</td>\n",
              "      <td>-0.000255</td>\n",
              "      <td>0.000000</td>\n",
              "      <td>0.530000</td>\n",
              "    </tr>\n",
              "    <tr>\n",
              "      <th>25%</th>\n",
              "      <td>2018-05-17 14:47:47.913558784</td>\n",
              "      <td>20.000000</td>\n",
              "      <td>4.000000</td>\n",
              "      <td>97.215000</td>\n",
              "    </tr>\n",
              "    <tr>\n",
              "      <th>50%</th>\n",
              "      <td>2018-09-05 12:30:01.470914816</td>\n",
              "      <td>24.500000</td>\n",
              "      <td>6.000000</td>\n",
              "      <td>185.935000</td>\n",
              "    </tr>\n",
              "    <tr>\n",
              "      <th>75%</th>\n",
              "      <td>2018-11-10 21:38:33.092625664</td>\n",
              "      <td>24.500000</td>\n",
              "      <td>12.000000</td>\n",
              "      <td>364.937500</td>\n",
              "    </tr>\n",
              "    <tr>\n",
              "      <th>max</th>\n",
              "      <td>2018-12-31 23:53:17.650640</td>\n",
              "      <td>315.949970</td>\n",
              "      <td>24.000000</td>\n",
              "      <td>3000.000000</td>\n",
              "    </tr>\n",
              "    <tr>\n",
              "      <th>std</th>\n",
              "      <td>NaN</td>\n",
              "      <td>10.383416</td>\n",
              "      <td>3.927623</td>\n",
              "      <td>368.792923</td>\n",
              "    </tr>\n",
              "  </tbody>\n",
              "</table>\n",
              "</div>"
            ],
            "text/plain": [
              "                             created  annual_percentage_rate   \n",
              "count                          30288            30288.000000  \\\n",
              "mean   2018-08-09 08:38:59.055397376               18.003554   \n",
              "min       2018-01-01 01:22:28.959780               -0.000255   \n",
              "25%    2018-05-17 14:47:47.913558784               20.000000   \n",
              "50%    2018-09-05 12:30:01.470914816               24.500000   \n",
              "75%    2018-11-10 21:38:33.092625664               24.500000   \n",
              "max       2018-12-31 23:53:17.650640              315.949970   \n",
              "std                              NaN               10.383416   \n",
              "\n",
              "       number_instalments       booking  \n",
              "count        30288.000000  30288.000000  \n",
              "mean             6.751651    306.476432  \n",
              "min              0.000000      0.530000  \n",
              "25%              4.000000     97.215000  \n",
              "50%              6.000000    185.935000  \n",
              "75%             12.000000    364.937500  \n",
              "max             24.000000   3000.000000  \n",
              "std              3.927623    368.792923  "
            ]
          },
          "execution_count": 21,
          "metadata": {},
          "output_type": "execute_result"
        }
      ],
      "source": [
        "orders_df.describe()"
      ]
    },
    {
      "attachments": {},
      "cell_type": "markdown",
      "metadata": {},
      "source": [
        "* identificador del crédito"
      ]
    },
    {
      "cell_type": "code",
      "execution_count": 19,
      "metadata": {},
      "outputs": [
        {
          "data": {
            "text/plain": [
              "0    69104dd917474265a25d2ea0b71a9445\n",
              "1    84c593405aa145da93de781266103eea\n",
              "2    44f66d51e46441f6be393caff6e3ba1a\n",
              "3    d00c1699becc4ac0b2af7741923d33d9\n",
              "4    7ec194425c6a49919f38b5064183da1f\n",
              "Name: uuid, dtype: object"
            ]
          },
          "execution_count": 19,
          "metadata": {},
          "output_type": "execute_result"
        }
      ],
      "source": [
        "orders_df[\"uuid\"].head()"
      ]
    },
    {
      "attachments": {},
      "cell_type": "markdown",
      "metadata": {},
      "source": [
        "* Tipo de producto para unirlo con la tabla merchants"
      ]
    },
    {
      "cell_type": "code",
      "execution_count": 20,
      "metadata": {},
      "outputs": [
        {
          "data": {
            "text/plain": [
              "0    be7d7febda224ff492b12232cd7ad1f0\n",
              "1    4350a1412c2e4dd78d36224d9ab78598\n",
              "2    ad9e0106c88f4fc2b77a54ac3dfac954\n",
              "3    f43a67a66d6f42779459fff92bc713e9\n",
              "4    dadfda2ead7448ea83d181f3fd9ffb07\n",
              "Name: merchant_uuid, dtype: object"
            ]
          },
          "execution_count": 20,
          "metadata": {},
          "output_type": "execute_result"
        }
      ],
      "source": [
        "orders_df[\"merchant_uuid\"].head()"
      ]
    },
    {
      "attachments": {},
      "cell_type": "markdown",
      "metadata": {},
      "source": [
        "* fecha del pedido de credito"
      ]
    },
    {
      "cell_type": "code",
      "execution_count": 21,
      "metadata": {},
      "outputs": [
        {
          "data": {
            "text/plain": [
              "0   2018-01-01 01:22:28.959780\n",
              "1   2018-01-01 06:38:55.516623\n",
              "2   2018-01-01 08:21:45.401655\n",
              "3   2018-01-01 09:40:03.977784\n",
              "4   2018-01-01 09:50:55.992350\n",
              "Name: created, dtype: datetime64[ns]"
            ]
          },
          "execution_count": 21,
          "metadata": {},
          "output_type": "execute_result"
        }
      ],
      "source": [
        "orders_df[\"created\"].head()\n",
        "\n",
        "#formato Timestamp\n",
        "#pueden sobrar horas, minutos, segundos??"
      ]
    },
    {
      "cell_type": "code",
      "execution_count": 23,
      "metadata": {},
      "outputs": [],
      "source": [
        "#modificar a fecha a año, mes, dia, \n",
        "orders_df[\"created\"]= pd.to_datetime(orders_df['created']).dt.date"
      ]
    },
    {
      "cell_type": "code",
      "execution_count": 24,
      "metadata": {},
      "outputs": [
        {
          "data": {
            "text/html": [
              "<div>\n",
              "<style scoped>\n",
              "    .dataframe tbody tr th:only-of-type {\n",
              "        vertical-align: middle;\n",
              "    }\n",
              "\n",
              "    .dataframe tbody tr th {\n",
              "        vertical-align: top;\n",
              "    }\n",
              "\n",
              "    .dataframe thead th {\n",
              "        text-align: right;\n",
              "    }\n",
              "</style>\n",
              "<table border=\"1\" class=\"dataframe\">\n",
              "  <thead>\n",
              "    <tr style=\"text-align: right;\">\n",
              "      <th></th>\n",
              "      <th>uuid</th>\n",
              "      <th>merchant_uuid</th>\n",
              "      <th>created</th>\n",
              "      <th>country</th>\n",
              "      <th>annual_percentage_rate</th>\n",
              "      <th>number_instalments</th>\n",
              "      <th>booking</th>\n",
              "    </tr>\n",
              "  </thead>\n",
              "  <tbody>\n",
              "    <tr>\n",
              "      <th>0</th>\n",
              "      <td>69104dd917474265a25d2ea0b71a9445</td>\n",
              "      <td>be7d7febda224ff492b12232cd7ad1f0</td>\n",
              "      <td>2018-01-01</td>\n",
              "      <td>Spain</td>\n",
              "      <td>24.5</td>\n",
              "      <td>1</td>\n",
              "      <td>1000.00</td>\n",
              "    </tr>\n",
              "    <tr>\n",
              "      <th>1</th>\n",
              "      <td>84c593405aa145da93de781266103eea</td>\n",
              "      <td>4350a1412c2e4dd78d36224d9ab78598</td>\n",
              "      <td>2018-01-01</td>\n",
              "      <td>Spain</td>\n",
              "      <td>24.5</td>\n",
              "      <td>12</td>\n",
              "      <td>224.03</td>\n",
              "    </tr>\n",
              "    <tr>\n",
              "      <th>2</th>\n",
              "      <td>44f66d51e46441f6be393caff6e3ba1a</td>\n",
              "      <td>ad9e0106c88f4fc2b77a54ac3dfac954</td>\n",
              "      <td>2018-01-01</td>\n",
              "      <td>Spain</td>\n",
              "      <td>24.5</td>\n",
              "      <td>12</td>\n",
              "      <td>69.90</td>\n",
              "    </tr>\n",
              "    <tr>\n",
              "      <th>3</th>\n",
              "      <td>d00c1699becc4ac0b2af7741923d33d9</td>\n",
              "      <td>f43a67a66d6f42779459fff92bc713e9</td>\n",
              "      <td>2018-01-01</td>\n",
              "      <td>Spain</td>\n",
              "      <td>24.5</td>\n",
              "      <td>2</td>\n",
              "      <td>111.99</td>\n",
              "    </tr>\n",
              "    <tr>\n",
              "      <th>4</th>\n",
              "      <td>7ec194425c6a49919f38b5064183da1f</td>\n",
              "      <td>dadfda2ead7448ea83d181f3fd9ffb07</td>\n",
              "      <td>2018-01-01</td>\n",
              "      <td>Spain</td>\n",
              "      <td>24.5</td>\n",
              "      <td>3</td>\n",
              "      <td>100.57</td>\n",
              "    </tr>\n",
              "    <tr>\n",
              "      <th>...</th>\n",
              "      <td>...</td>\n",
              "      <td>...</td>\n",
              "      <td>...</td>\n",
              "      <td>...</td>\n",
              "      <td>...</td>\n",
              "      <td>...</td>\n",
              "      <td>...</td>\n",
              "    </tr>\n",
              "    <tr>\n",
              "      <th>30283</th>\n",
              "      <td>52f6f0f383aa4080aeb299369aaf7113</td>\n",
              "      <td>0ae5fc80ad2a4f70b7cf4c29d783585d</td>\n",
              "      <td>2018-12-31</td>\n",
              "      <td>Spain</td>\n",
              "      <td>24.5</td>\n",
              "      <td>12</td>\n",
              "      <td>386.72</td>\n",
              "    </tr>\n",
              "    <tr>\n",
              "      <th>30284</th>\n",
              "      <td>c6219d2a5c184fdf905ed758b22421ae</td>\n",
              "      <td>776b630e228e499c83b66f8f0ddaab18</td>\n",
              "      <td>2018-12-31</td>\n",
              "      <td>Spain</td>\n",
              "      <td>0.0</td>\n",
              "      <td>6</td>\n",
              "      <td>266.81</td>\n",
              "    </tr>\n",
              "    <tr>\n",
              "      <th>30285</th>\n",
              "      <td>b3aa52d40e894044b852c3c3dd08d809</td>\n",
              "      <td>776b630e228e499c83b66f8f0ddaab18</td>\n",
              "      <td>2018-12-31</td>\n",
              "      <td>Spain</td>\n",
              "      <td>0.0</td>\n",
              "      <td>6</td>\n",
              "      <td>187.67</td>\n",
              "    </tr>\n",
              "    <tr>\n",
              "      <th>30286</th>\n",
              "      <td>9653098097234cbb9a649ea97629121f</td>\n",
              "      <td>ad9e0106c88f4fc2b77a54ac3dfac954</td>\n",
              "      <td>2018-12-31</td>\n",
              "      <td>Spain</td>\n",
              "      <td>24.5</td>\n",
              "      <td>4</td>\n",
              "      <td>71.32</td>\n",
              "    </tr>\n",
              "    <tr>\n",
              "      <th>30287</th>\n",
              "      <td>0c126fc2046c4eaea520ce9b113da954</td>\n",
              "      <td>776b630e228e499c83b66f8f0ddaab18</td>\n",
              "      <td>2018-12-31</td>\n",
              "      <td>Spain</td>\n",
              "      <td>0.0</td>\n",
              "      <td>6</td>\n",
              "      <td>142.20</td>\n",
              "    </tr>\n",
              "  </tbody>\n",
              "</table>\n",
              "<p>30288 rows × 7 columns</p>\n",
              "</div>"
            ],
            "text/plain": [
              "                                   uuid                     merchant_uuid   \n",
              "0      69104dd917474265a25d2ea0b71a9445  be7d7febda224ff492b12232cd7ad1f0  \\\n",
              "1      84c593405aa145da93de781266103eea  4350a1412c2e4dd78d36224d9ab78598   \n",
              "2      44f66d51e46441f6be393caff6e3ba1a  ad9e0106c88f4fc2b77a54ac3dfac954   \n",
              "3      d00c1699becc4ac0b2af7741923d33d9  f43a67a66d6f42779459fff92bc713e9   \n",
              "4      7ec194425c6a49919f38b5064183da1f  dadfda2ead7448ea83d181f3fd9ffb07   \n",
              "...                                 ...                               ...   \n",
              "30283  52f6f0f383aa4080aeb299369aaf7113  0ae5fc80ad2a4f70b7cf4c29d783585d   \n",
              "30284  c6219d2a5c184fdf905ed758b22421ae  776b630e228e499c83b66f8f0ddaab18   \n",
              "30285  b3aa52d40e894044b852c3c3dd08d809  776b630e228e499c83b66f8f0ddaab18   \n",
              "30286  9653098097234cbb9a649ea97629121f  ad9e0106c88f4fc2b77a54ac3dfac954   \n",
              "30287  0c126fc2046c4eaea520ce9b113da954  776b630e228e499c83b66f8f0ddaab18   \n",
              "\n",
              "          created country  annual_percentage_rate  number_instalments  booking  \n",
              "0      2018-01-01   Spain                    24.5                   1  1000.00  \n",
              "1      2018-01-01   Spain                    24.5                  12   224.03  \n",
              "2      2018-01-01   Spain                    24.5                  12    69.90  \n",
              "3      2018-01-01   Spain                    24.5                   2   111.99  \n",
              "4      2018-01-01   Spain                    24.5                   3   100.57  \n",
              "...           ...     ...                     ...                 ...      ...  \n",
              "30283  2018-12-31   Spain                    24.5                  12   386.72  \n",
              "30284  2018-12-31   Spain                     0.0                   6   266.81  \n",
              "30285  2018-12-31   Spain                     0.0                   6   187.67  \n",
              "30286  2018-12-31   Spain                    24.5                   4    71.32  \n",
              "30287  2018-12-31   Spain                     0.0                   6   142.20  \n",
              "\n",
              "[30288 rows x 7 columns]"
            ]
          },
          "execution_count": 24,
          "metadata": {},
          "output_type": "execute_result"
        }
      ],
      "source": [
        "orders_df"
      ]
    },
    {
      "cell_type": "code",
      "execution_count": 24,
      "metadata": {},
      "outputs": [
        {
          "data": {
            "text/plain": [
              "datetime.date"
            ]
          },
          "execution_count": 24,
          "metadata": {},
          "output_type": "execute_result"
        }
      ],
      "source": [
        "t=orders_df[\"created\"][1]\n",
        "type(t)"
      ]
    },
    {
      "attachments": {},
      "cell_type": "markdown",
      "metadata": {},
      "source": [
        "* pais del pedido"
      ]
    },
    {
      "cell_type": "code",
      "execution_count": 25,
      "metadata": {},
      "outputs": [
        {
          "data": {
            "text/plain": [
              "country\n",
              "Spain    30288\n",
              "Name: count, dtype: int64"
            ]
          },
          "execution_count": 25,
          "metadata": {},
          "output_type": "execute_result"
        }
      ],
      "source": [
        "orders_df[\"country\"].value_counts()\n",
        "\n",
        "#siempre es España, puede sobrar"
      ]
    },
    {
      "attachments": {},
      "cell_type": "markdown",
      "metadata": {},
      "source": [
        "* Interes del préstamo"
      ]
    },
    {
      "cell_type": "code",
      "execution_count": 26,
      "metadata": {},
      "outputs": [
        {
          "data": {
            "text/plain": [
<<<<<<< HEAD
              "104      24.5\n",
              "406      20.0\n",
              "15847     0.0\n",
              "6662     24.5\n",
              "8361     24.5\n",
              "18594    24.5\n",
              "11270    24.5\n",
              "21661    24.5\n",
              "10884    24.5\n",
              "7425     20.0\n",
=======
              "9383     2.450000e+01\n",
              "2758     2.450000e+01\n",
              "1205     2.450000e+01\n",
              "4916     2.450000e+01\n",
              "8682     2.000000e+01\n",
              "4730     2.450000e+01\n",
              "7991     6.814005e-07\n",
              "9035     2.450000e+01\n",
              "26492    0.000000e+00\n",
              "5768     2.450000e+01\n",
>>>>>>> 077f985a2809c834058494092a08d1478010e31f
              "Name: annual_percentage_rate, dtype: float64"
            ]
          },
          "execution_count": 26,
          "metadata": {},
          "output_type": "execute_result"
        }
      ],
      "source": [
        "orders_df[\"annual_percentage_rate\"].sample(10)"
      ]
    },
    {
      "attachments": {},
      "cell_type": "markdown",
      "metadata": {},
      "source": [
        "* Número de cuotas del pedido"
      ]
    },
    {
      "cell_type": "code",
      "execution_count": 27,
      "metadata": {},
      "outputs": [
        {
          "data": {
            "text/plain": [
<<<<<<< HEAD
              "1343      4\n",
              "15852     3\n",
              "22830    12\n",
              "20465    12\n",
              "21785     4\n",
              "20600    12\n",
              "5490      2\n",
              "1443     12\n",
              "5844      6\n",
              "24682     8\n",
=======
              "1427      4\n",
              "20738     4\n",
              "22665     7\n",
              "1388      5\n",
              "4280     12\n",
              "5498     12\n",
              "27621     6\n",
              "19223     3\n",
              "23288     4\n",
              "16940     3\n",
>>>>>>> 077f985a2809c834058494092a08d1478010e31f
              "Name: number_instalments, dtype: int64"
            ]
          },
          "execution_count": 27,
          "metadata": {},
          "output_type": "execute_result"
        }
      ],
      "source": [
        "orders_df[\"number_instalments\"].sample(10)"
      ]
    },
    {
      "attachments": {},
      "cell_type": "markdown",
      "metadata": {},
      "source": [
        "* Total a abonar, incluido el interés"
      ]
    },
    {
      "cell_type": "code",
      "execution_count": 28,
      "metadata": {},
      "outputs": [
        {
          "data": {
            "text/plain": [
<<<<<<< HEAD
              "7818     145.75\n",
              "860      251.92\n",
              "18647     92.89\n",
              "18259    109.47\n",
              "11452    140.42\n",
              "18714    205.23\n",
              "22802     87.43\n",
              "6354     101.33\n",
              "29769     82.40\n",
              "8957     196.95\n",
=======
              "17037    246.68\n",
              "15439    428.44\n",
              "27800    695.68\n",
              "23083     71.30\n",
              "807      380.00\n",
              "29444    211.40\n",
              "8166     165.51\n",
              "27849     47.96\n",
              "11071    203.49\n",
              "27129    737.43\n",
>>>>>>> 077f985a2809c834058494092a08d1478010e31f
              "Name: booking, dtype: float64"
            ]
          },
          "execution_count": 28,
          "metadata": {},
          "output_type": "execute_result"
        }
      ],
      "source": [
        "orders_df[\"booking\"].sample(10)"
      ]
    },
    {
      "cell_type": "code",
      "execution_count": 29,
      "metadata": {},
      "outputs": [
        {
          "data": {
            "text/html": [
              "<div>\n",
              "<style scoped>\n",
              "    .dataframe tbody tr th:only-of-type {\n",
              "        vertical-align: middle;\n",
              "    }\n",
              "\n",
              "    .dataframe tbody tr th {\n",
              "        vertical-align: top;\n",
              "    }\n",
              "\n",
              "    .dataframe thead th {\n",
              "        text-align: right;\n",
              "    }\n",
              "</style>\n",
              "<table border=\"1\" class=\"dataframe\">\n",
              "  <thead>\n",
              "    <tr style=\"text-align: right;\">\n",
              "      <th></th>\n",
              "      <th>uuid</th>\n",
              "      <th>industry_code</th>\n",
              "      <th>industry_name</th>\n",
              "    </tr>\n",
              "  </thead>\n",
              "  <tbody>\n",
              "    <tr>\n",
              "      <th>0</th>\n",
              "      <td>d793ed6ad25e4f0a8ef055422f8ad178</td>\n",
              "      <td>22</td>\n",
              "      <td>Servicios Profesionales y Federaciones</td>\n",
              "    </tr>\n",
              "    <tr>\n",
              "      <th>1</th>\n",
              "      <td>18f3cbe5537544cd86c2932a9d02905e</td>\n",
              "      <td>6</td>\n",
              "      <td>Electrodomésticos</td>\n",
              "    </tr>\n",
              "  </tbody>\n",
              "</table>\n",
              "</div>"
            ],
            "text/plain": [
              "                               uuid industry_code   \n",
              "0  d793ed6ad25e4f0a8ef055422f8ad178            22  \\\n",
              "1  18f3cbe5537544cd86c2932a9d02905e             6   \n",
              "\n",
              "                            industry_name  \n",
              "0  Servicios Profesionales y Federaciones  \n",
              "1                       Electrodomésticos  "
            ]
          },
          "execution_count": 29,
          "metadata": {},
          "output_type": "execute_result"
        }
      ],
      "source": [
        "merchants_df.head(2)"
      ]
    },
    {
      "cell_type": "code",
      "execution_count": 30,
      "metadata": {},
      "outputs": [
        {
          "data": {
            "text/html": [
              "<div>\n",
              "<style scoped>\n",
              "    .dataframe tbody tr th:only-of-type {\n",
              "        vertical-align: middle;\n",
              "    }\n",
              "\n",
              "    .dataframe tbody tr th {\n",
              "        vertical-align: top;\n",
              "    }\n",
              "\n",
              "    .dataframe thead th {\n",
              "        text-align: right;\n",
              "    }\n",
              "</style>\n",
              "<table border=\"1\" class=\"dataframe\">\n",
              "  <thead>\n",
              "    <tr style=\"text-align: right;\">\n",
              "      <th></th>\n",
              "      <th>uuid</th>\n",
              "      <th>merchant_uuid</th>\n",
              "      <th>created</th>\n",
              "      <th>country</th>\n",
              "      <th>annual_percentage_rate</th>\n",
              "      <th>number_instalments</th>\n",
              "      <th>booking</th>\n",
              "    </tr>\n",
              "  </thead>\n",
              "  <tbody>\n",
              "    <tr>\n",
              "      <th>0</th>\n",
              "      <td>69104dd917474265a25d2ea0b71a9445</td>\n",
              "      <td>be7d7febda224ff492b12232cd7ad1f0</td>\n",
              "      <td>2018-01-01</td>\n",
              "      <td>Spain</td>\n",
              "      <td>24.5</td>\n",
              "      <td>1</td>\n",
              "      <td>1000.00</td>\n",
              "    </tr>\n",
              "    <tr>\n",
              "      <th>1</th>\n",
              "      <td>84c593405aa145da93de781266103eea</td>\n",
              "      <td>4350a1412c2e4dd78d36224d9ab78598</td>\n",
              "      <td>2018-01-01</td>\n",
              "      <td>Spain</td>\n",
              "      <td>24.5</td>\n",
              "      <td>12</td>\n",
              "      <td>224.03</td>\n",
              "    </tr>\n",
              "  </tbody>\n",
              "</table>\n",
              "</div>"
            ],
            "text/plain": [
              "                               uuid                     merchant_uuid   \n",
              "0  69104dd917474265a25d2ea0b71a9445  be7d7febda224ff492b12232cd7ad1f0  \\\n",
              "1  84c593405aa145da93de781266103eea  4350a1412c2e4dd78d36224d9ab78598   \n",
              "\n",
              "      created country  annual_percentage_rate  number_instalments  booking  \n",
              "0  2018-01-01   Spain                    24.5                   1  1000.00  \n",
              "1  2018-01-01   Spain                    24.5                  12   224.03  "
            ]
          },
          "execution_count": 30,
          "metadata": {},
          "output_type": "execute_result"
        }
      ],
      "source": [
        "orders_df.head(2)"
      ]
    },
    {
      "attachments": {},
      "cell_type": "markdown",
      "metadata": {},
      "source": [
        "* calcular total sin interés, y total con interés, para ver las ganancias totales de la financiera"
      ]
    },
    {
      "cell_type": "code",
      "execution_count": 31,
      "metadata": {},
      "outputs": [],
      "source": [
        "#query\n",
        "\n",
        "# Interes y Total a pagar\n",
        "\n",
        "q='''\n",
        "SELECT annual_percentage_rate as Interes, booking as Total_Con_Interes \n",
        "FROM \"DATACHALLENGE\".orders\n",
        "'''\n",
        "\n",
        "cursor.execute(q)\n",
        "columns = [desc[0] for desc in cursor.description]\n",
        "orders = cursor.fetchall()\n",
        "\n",
        "#dataframe cont Interes y Total a pagar\n",
        "Vista_interes = pd.DataFrame(orders, columns=columns)"
      ]
    },
    {
      "cell_type": "code",
      "execution_count": 32,
      "metadata": {},
      "outputs": [],
      "source": [
        "# Columna Importe financiado = Total a pagar / (1-(interes/100))\n",
        "\n",
        "Vista_interes[\"Importe Financiado\"]=Vista_interes[\"total_con_interes\"]/((Vista_interes[\"interes\"]*100)+1)"
      ]
    },
    {
      "cell_type": "code",
      "execution_count": 33,
      "metadata": {},
      "outputs": [
        {
          "name": "stdout",
          "output_type": "stream",
          "text": [
            "Total con Intereses: 9282558.175099999€\n",
            "Total Financiado: 3030269.974587879€\n",
            "Ganancias Financiera:6252288.20051212€\n"
          ]
        }
      ],
      "source": [
        "print(f'Total con Intereses: {Vista_interes[\"total_con_interes\"].sum()}€')\n",
        "print(f'Total Financiado: {Vista_interes[\"Importe Financiado\"].sum()}€')\n",
        "g=Vista_interes[\"total_con_interes\"].sum()-Vista_interes[\"Importe Financiado\"].sum()\n",
        "print(f'Ganancias Financiera:{g}€')"
      ]
    },
    {
      "cell_type": "code",
      "execution_count": 34,
      "metadata": {},
      "outputs": [
        {
          "data": {
            "text/plain": [
              "3030269.9745878796"
            ]
          },
          "execution_count": 34,
          "metadata": {},
          "output_type": "execute_result"
        }
      ],
      "source": [
        "Vista_interes[\"Importe Financiado\"].sort_values(ascending=True).sum()"
      ]
    },
    {
      "attachments": {},
      "cell_type": "markdown",
      "metadata": {},
      "source": [
        "* total ganado por tipo de producto, En que productos tienen más margen de ganancias?"
      ]
    },
    {
      "cell_type": "code",
      "execution_count": 35,
      "metadata": {},
      "outputs": [
        {
          "data": {
            "text/html": [
              "<div>\n",
              "<style scoped>\n",
              "    .dataframe tbody tr th:only-of-type {\n",
              "        vertical-align: middle;\n",
              "    }\n",
              "\n",
              "    .dataframe tbody tr th {\n",
              "        vertical-align: top;\n",
              "    }\n",
              "\n",
              "    .dataframe thead th {\n",
              "        text-align: right;\n",
              "    }\n",
              "</style>\n",
              "<table border=\"1\" class=\"dataframe\">\n",
              "  <thead>\n",
              "    <tr style=\"text-align: right;\">\n",
              "      <th></th>\n",
              "      <th>uuid</th>\n",
              "      <th>industry_code</th>\n",
              "      <th>industry_name</th>\n",
              "    </tr>\n",
              "  </thead>\n",
              "  <tbody>\n",
              "    <tr>\n",
              "      <th>0</th>\n",
              "      <td>d793ed6ad25e4f0a8ef055422f8ad178</td>\n",
              "      <td>22</td>\n",
              "      <td>Servicios Profesionales y Federaciones</td>\n",
              "    </tr>\n",
              "    <tr>\n",
              "      <th>1</th>\n",
              "      <td>18f3cbe5537544cd86c2932a9d02905e</td>\n",
              "      <td>6</td>\n",
              "      <td>Electrodomésticos</td>\n",
              "    </tr>\n",
              "    <tr>\n",
              "      <th>2</th>\n",
              "      <td>189ed450530643ac85a5e729314ed585</td>\n",
              "      <td>10</td>\n",
              "      <td>Informatica y Electrónica</td>\n",
              "    </tr>\n",
              "    <tr>\n",
              "      <th>3</th>\n",
              "      <td>5627eb7fbf5743af9b5d4a82fd11a840</td>\n",
              "      <td>19</td>\n",
              "      <td>Otros</td>\n",
              "    </tr>\n",
              "    <tr>\n",
              "      <th>4</th>\n",
              "      <td>03bbe11d14d4445698deb21a1b34f37c</td>\n",
              "      <td>20</td>\n",
              "      <td>Salud y Belleza</td>\n",
              "    </tr>\n",
              "  </tbody>\n",
              "</table>\n",
              "</div>"
            ],
            "text/plain": [
              "                               uuid industry_code   \n",
              "0  d793ed6ad25e4f0a8ef055422f8ad178            22  \\\n",
              "1  18f3cbe5537544cd86c2932a9d02905e             6   \n",
              "2  189ed450530643ac85a5e729314ed585            10   \n",
              "3  5627eb7fbf5743af9b5d4a82fd11a840            19   \n",
              "4  03bbe11d14d4445698deb21a1b34f37c            20   \n",
              "\n",
              "                            industry_name  \n",
              "0  Servicios Profesionales y Federaciones  \n",
              "1                       Electrodomésticos  \n",
              "2               Informatica y Electrónica  \n",
              "3                                   Otros  \n",
              "4                         Salud y Belleza  "
            ]
          },
          "execution_count": 35,
          "metadata": {},
          "output_type": "execute_result"
        }
      ],
      "source": [
        "merchants_df.head()"
      ]
    },
    {
      "cell_type": "code",
      "execution_count": 36,
      "metadata": {},
      "outputs": [
        {
          "data": {
            "text/html": [
              "<div>\n",
              "<style scoped>\n",
              "    .dataframe tbody tr th:only-of-type {\n",
              "        vertical-align: middle;\n",
              "    }\n",
              "\n",
              "    .dataframe tbody tr th {\n",
              "        vertical-align: top;\n",
              "    }\n",
              "\n",
              "    .dataframe thead th {\n",
              "        text-align: right;\n",
              "    }\n",
              "</style>\n",
              "<table border=\"1\" class=\"dataframe\">\n",
              "  <thead>\n",
              "    <tr style=\"text-align: right;\">\n",
              "      <th></th>\n",
              "      <th>uuid</th>\n",
              "      <th>merchant_uuid</th>\n",
              "      <th>created</th>\n",
              "      <th>country</th>\n",
              "      <th>annual_percentage_rate</th>\n",
              "      <th>number_instalments</th>\n",
              "      <th>booking</th>\n",
              "    </tr>\n",
              "  </thead>\n",
              "  <tbody>\n",
              "    <tr>\n",
              "      <th>0</th>\n",
              "      <td>69104dd917474265a25d2ea0b71a9445</td>\n",
              "      <td>be7d7febda224ff492b12232cd7ad1f0</td>\n",
              "      <td>2018-01-01</td>\n",
              "      <td>Spain</td>\n",
              "      <td>24.5</td>\n",
              "      <td>1</td>\n",
              "      <td>1000.00</td>\n",
              "    </tr>\n",
              "    <tr>\n",
              "      <th>1</th>\n",
              "      <td>84c593405aa145da93de781266103eea</td>\n",
              "      <td>4350a1412c2e4dd78d36224d9ab78598</td>\n",
              "      <td>2018-01-01</td>\n",
              "      <td>Spain</td>\n",
              "      <td>24.5</td>\n",
              "      <td>12</td>\n",
              "      <td>224.03</td>\n",
              "    </tr>\n",
              "    <tr>\n",
              "      <th>2</th>\n",
              "      <td>44f66d51e46441f6be393caff6e3ba1a</td>\n",
              "      <td>ad9e0106c88f4fc2b77a54ac3dfac954</td>\n",
              "      <td>2018-01-01</td>\n",
              "      <td>Spain</td>\n",
              "      <td>24.5</td>\n",
              "      <td>12</td>\n",
              "      <td>69.90</td>\n",
              "    </tr>\n",
              "    <tr>\n",
              "      <th>3</th>\n",
              "      <td>d00c1699becc4ac0b2af7741923d33d9</td>\n",
              "      <td>f43a67a66d6f42779459fff92bc713e9</td>\n",
              "      <td>2018-01-01</td>\n",
              "      <td>Spain</td>\n",
              "      <td>24.5</td>\n",
              "      <td>2</td>\n",
              "      <td>111.99</td>\n",
              "    </tr>\n",
              "    <tr>\n",
              "      <th>4</th>\n",
              "      <td>7ec194425c6a49919f38b5064183da1f</td>\n",
              "      <td>dadfda2ead7448ea83d181f3fd9ffb07</td>\n",
              "      <td>2018-01-01</td>\n",
              "      <td>Spain</td>\n",
              "      <td>24.5</td>\n",
              "      <td>3</td>\n",
              "      <td>100.57</td>\n",
              "    </tr>\n",
              "  </tbody>\n",
              "</table>\n",
              "</div>"
            ],
            "text/plain": [
              "                               uuid                     merchant_uuid   \n",
              "0  69104dd917474265a25d2ea0b71a9445  be7d7febda224ff492b12232cd7ad1f0  \\\n",
              "1  84c593405aa145da93de781266103eea  4350a1412c2e4dd78d36224d9ab78598   \n",
              "2  44f66d51e46441f6be393caff6e3ba1a  ad9e0106c88f4fc2b77a54ac3dfac954   \n",
              "3  d00c1699becc4ac0b2af7741923d33d9  f43a67a66d6f42779459fff92bc713e9   \n",
              "4  7ec194425c6a49919f38b5064183da1f  dadfda2ead7448ea83d181f3fd9ffb07   \n",
              "\n",
              "      created country  annual_percentage_rate  number_instalments  booking  \n",
              "0  2018-01-01   Spain                    24.5                   1  1000.00  \n",
              "1  2018-01-01   Spain                    24.5                  12   224.03  \n",
              "2  2018-01-01   Spain                    24.5                  12    69.90  \n",
              "3  2018-01-01   Spain                    24.5                   2   111.99  \n",
              "4  2018-01-01   Spain                    24.5                   3   100.57  "
            ]
          },
          "execution_count": 36,
          "metadata": {},
          "output_type": "execute_result"
        }
      ],
      "source": [
        "orders_df.head()"
      ]
    },
    {
      "cell_type": "code",
<<<<<<< HEAD
      "execution_count": 47,
      "metadata": {},
      "outputs": [
        {
          "data": {
            "text/plain": [
              "0       Servicios Profesionales y Federaciones\n",
              "1                            Electrodomésticos\n",
              "2                    Informatica y Electrónica\n",
              "3                                        Otros\n",
              "4                              Salud y Belleza\n",
              "                         ...                  \n",
              "1951                                    Sports\n",
              "1952                  Computing and Electronic\n",
              "1953                  Computing and Electronic\n",
              "1954                            Home and Decor\n",
              "1955                   Fashion and Accessories\n",
              "Name: industry_name, Length: 1956, dtype: object"
            ]
          },
          "execution_count": 47,
          "metadata": {},
          "output_type": "execute_result"
=======
      "execution_count": 48,
      "metadata": {},
      "outputs": [
        {
          "ename": "InFailedSqlTransaction",
          "evalue": "current transaction is aborted, commands ignored until end of transaction block\n",
          "output_type": "error",
          "traceback": [
            "\u001b[1;31m---------------------------------------------------------------------------\u001b[0m",
            "\u001b[1;31mInFailedSqlTransaction\u001b[0m                    Traceback (most recent call last)",
            "Cell \u001b[1;32mIn[48], line 12\u001b[0m\n\u001b[0;32m      1\u001b[0m \u001b[39m#query\u001b[39;00m\n\u001b[0;32m      2\u001b[0m \n\u001b[0;32m      3\u001b[0m \u001b[39m# Tipo de producto financiado y Total a pagar\u001b[39;00m\n\u001b[0;32m      5\u001b[0m q\u001b[39m=\u001b[39m\u001b[39m'''\u001b[39m\n\u001b[0;32m      6\u001b[0m \u001b[39m    SELECT /*o.uuid as \u001b[39m\u001b[39m\"\u001b[39m\u001b[39mCodigo Producto\u001b[39m\u001b[39m\"\u001b[39m\u001b[39m, */ m.industry_name as \u001b[39m\u001b[39m\"\u001b[39m\u001b[39mTipo Producto\u001b[39m\u001b[39m\"\u001b[39m\u001b[39m, SUM(o.booking) as \u001b[39m\u001b[39m\"\u001b[39m\u001b[39mTotal Con Interes\u001b[39m\u001b[39m\"\u001b[39m\u001b[39m \u001b[39m\n\u001b[0;32m      7\u001b[0m \u001b[39m    FROM \u001b[39m\u001b[39m\"\u001b[39m\u001b[39mDATACHALLENGE\u001b[39m\u001b[39m\"\u001b[39m\u001b[39m.orders as o\u001b[39m\n\u001b[0;32m      8\u001b[0m \u001b[39m    LEFT JOIN \u001b[39m\u001b[39m\"\u001b[39m\u001b[39mDATACHALLENGE\u001b[39m\u001b[39m\"\u001b[39m\u001b[39m.merchants as m ON o.uuid=m.uuid\u001b[39m\n\u001b[0;32m      9\u001b[0m \u001b[39m    GROUP BY m.industry_name\u001b[39m\n\u001b[0;32m     10\u001b[0m \u001b[39m \u001b[39m\u001b[39m'''\u001b[39m\n\u001b[1;32m---> 12\u001b[0m cursor\u001b[39m.\u001b[39;49mexecute(q)\n\u001b[0;32m     13\u001b[0m columns \u001b[39m=\u001b[39m [desc[\u001b[39m0\u001b[39m] \u001b[39mfor\u001b[39;00m desc \u001b[39min\u001b[39;00m cursor\u001b[39m.\u001b[39mdescription]\n\u001b[0;32m     14\u001b[0m orders \u001b[39m=\u001b[39m cursor\u001b[39m.\u001b[39mfetchall()\n",
            "\u001b[1;31mInFailedSqlTransaction\u001b[0m: current transaction is aborted, commands ignored until end of transaction block\n"
          ]
>>>>>>> 077f985a2809c834058494092a08d1478010e31f
        }
      ],
      "source": [
        "merchants_df[\"industry_name\"]"
      ]
    },
    {
      "cell_type": "code",
      "execution_count": 50,
      "metadata": {},
      "outputs": [],
      "source": [
        "#query\n",
        "\n",
        "# Tipo de producto financiado y Total a pagar\n",
        "\n",
        "q='''\n",
        "    SELECT /*o.uuid as \"Codigo Producto\", */ m.industry_name as \"Producto\", SUM(o.booking) as \"Total Con Interes\" \n",
        "    FROM \"DATACHALLENGE\".orders as o\n",
        "    LEFT JOIN \"DATACHALLENGE\".merchants as m ON o.uuid=m.uuid\n",
        "    GROUP BY m.industry_name\n",
        " '''\n",
        "\n",
        "cursor.execute(q)\n",
        "columns = [desc[0] for desc in cursor.description]\n",
        "orders = cursor.fetchall()\n",
        "\n",
        "#dataframe cont Interes y Total a pagar\n",
        "Tipo_Producto = pd.DataFrame(orders, columns=columns)"
      ]
    },
    {
      "cell_type": "code",
<<<<<<< HEAD
      "execution_count": 51,
=======
      "execution_count": 38,
>>>>>>> 077f985a2809c834058494092a08d1478010e31f
      "metadata": {},
      "outputs": [
        {
          "data": {
            "text/html": [
              "<div>\n",
              "<style scoped>\n",
              "    .dataframe tbody tr th:only-of-type {\n",
              "        vertical-align: middle;\n",
              "    }\n",
              "\n",
              "    .dataframe tbody tr th {\n",
              "        vertical-align: top;\n",
              "    }\n",
              "\n",
              "    .dataframe thead th {\n",
              "        text-align: right;\n",
              "    }\n",
              "</style>\n",
              "<table border=\"1\" class=\"dataframe\">\n",
              "  <thead>\n",
              "    <tr style=\"text-align: right;\">\n",
              "      <th></th>\n",
              "      <th>Producto</th>\n",
              "      <th>Total Con Interes</th>\n",
              "    </tr>\n",
              "  </thead>\n",
              "  <tbody>\n",
              "    <tr>\n",
              "      <th>0</th>\n",
              "      <td>None</td>\n",
              "      <td>9.282558e+06</td>\n",
              "    </tr>\n",
              "  </tbody>\n",
              "</table>\n",
              "</div>"
            ],
            "text/plain": [
<<<<<<< HEAD
              "  Producto  Total Con Interes\n",
              "0     None       9.282558e+06"
            ]
          },
          "execution_count": 51,
=======
              "  Tipo Producto  Total Con Interes\n",
              "0          None       9.282558e+06"
            ]
          },
          "execution_count": 38,
>>>>>>> 077f985a2809c834058494092a08d1478010e31f
          "metadata": {},
          "output_type": "execute_result"
        }
      ],
      "source": [
        "Tipo_Producto"
      ]
    },
    {
      "attachments": {},
      "cell_type": "markdown",
      "metadata": {},
      "source": [
        "* Ver evolución por años de pedidos, importes"
      ]
    },
    {
      "cell_type": "code",
      "execution_count": 39,
      "metadata": {
        "id": "NOSWiwkM09as"
      },
      "outputs": [],
      "source": [
        "# Cargamos en pandas la query anterior o consulta de una tabla (TABLE) o cargamos unas vistas (VIEW)\n",
        "\n",
        "# Obtenemos un dataframe"
      ]
    },
    {
      "cell_type": "code",
      "execution_count": 40,
      "metadata": {
        "id": "co8RO-Si1ItZ"
      },
      "outputs": [],
      "source": [
        "# EDA...lo de siempre"
      ]
    },
    {
      "cell_type": "code",
      "execution_count": 41,
      "metadata": {
        "id": "xrTWaszJ1Lak"
      },
      "outputs": [],
      "source": [
        "# INSIGHTS"
      ]
    },
    {
      "cell_type": "code",
      "execution_count": 42,
      "metadata": {
        "id": "HhCkigci1NH1"
      },
      "outputs": [],
      "source": [
        "# Conclusiones"
      ]
    },
    {
      "cell_type": "code",
      "execution_count": 43,
      "metadata": {
        "id": "9MVQVmsL1Ohj"
      },
      "outputs": [],
      "source": [
        "# Inferir datos con otras fuentes externas con API's"
      ]
    },
    {
      "cell_type": "code",
      "execution_count": 44,
      "metadata": {
        "id": "ey6-4e5E1Yml"
      },
      "outputs": [],
      "source": [
        "# Pueden mostrar los datos en Power BI Desktop (free) / Tableau PRO (de pago)"
      ]
    },
    {
      "cell_type": "code",
      "execution_count": 45,
      "metadata": {
        "id": "0_PpdhiW1jo1"
      },
      "outputs": [],
      "source": [
        "# Seguir las tareas restantes para paquetizar el trabajo anterior.\n",
        "\n",
        "# En caso de crear funciones utilizamos bien try...except...finally (pass)\n",
        "# def nombre_funcion():\n",
        "#   try:\n",
        "#     (cond)\n",
        "#     print(\"Función ejecutada estado 200\")\n",
        "#   except Exception as e:\n",
        "#     e\n",
        "#     print(\"Ha fallado\")\n",
        "#   finally:\n",
        "#     print(\"otra condición final---- ejecutar otra tarea/función\")"
      ]
    },
    {
      "cell_type": "code",
      "execution_count": 46,
      "metadata": {
        "id": "UinIoG052yl2"
      },
      "outputs": [],
      "source": [
        "# # en caso de utilizar logging\n",
        "# import logging\n",
        "\n",
        "# logger = logging.getLogger()\n",
        "# logger.info\n",
        "# logger.warnings\n",
        "# logger.alerts"
      ]
    }
  ],
  "metadata": {
    "colab": {
      "collapsed_sections": [],
      "name": "01_[Challenge]_DataAnalysis",
      "provenance": []
    },
    "kernelspec": {
      "display_name": "Python 3",
      "name": "python3"
    },
    "language_info": {
      "codemirror_mode": {
        "name": "ipython",
        "version": 3
      },
      "file_extension": ".py",
      "mimetype": "text/x-python",
      "name": "python",
      "nbconvert_exporter": "python",
      "pygments_lexer": "ipython3",
      "version": "3.9.5"
    }
  },
  "nbformat": 4,
  "nbformat_minor": 0
}
