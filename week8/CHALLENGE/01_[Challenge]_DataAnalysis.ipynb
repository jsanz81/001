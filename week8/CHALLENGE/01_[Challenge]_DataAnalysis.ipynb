{
  "cells": [
    {
      "cell_type": "code",
      "execution_count": 2,
      "metadata": {
        "colab": {
          "base_uri": "https://localhost:8080/"
        },
        "id": "Af5KqAT7ov-4",
        "outputId": "3e48c91c-cd18-4381-9ac1-4e1a8852aa40"
      },
      "outputs": [
        {
          "name": "stdout",
          "output_type": "stream",
          "text": [
            "Python: 3.9.5 (default, May 18 2021, 14:42:02) [MSC v.1916 64 bit (AMD64)]\n",
            "scipy: 1.10.1\n",
            "numpy: 1.24.3\n",
            "matplotlib: 3.7.1\n"
          ]
        }
      ],
      "source": [
        "# importamos las librería\n",
        "# Python version\n",
        "import sys\n",
        "print('Python: {}'.format(sys.version))\n",
        "# scipy\n",
        "import scipy\n",
        "print('scipy: {}'.format(scipy.__version__))\n",
        "# numpy\n",
        "import numpy\n",
        "print('numpy: {}'.format(numpy.__version__))\n",
        "# matplotlib\n",
        "import matplotlib\n",
        "print('matplotlib: {}'.format(matplotlib.__version__))"
      ]
    },
    {
      "cell_type": "code",
      "execution_count": 3,
      "metadata": {},
      "outputs": [],
      "source": [
        "#!pip install sqlalchemy"
      ]
    },
    {
      "cell_type": "code",
      "execution_count": 4,
      "metadata": {
        "id": "cAjjZ0EhuQh_"
      },
      "outputs": [],
      "source": [
        "# Leer la documentación de SQLALCHEMY\n",
        "import sqlalchemy"
      ]
    },
    {
      "cell_type": "code",
      "execution_count": 5,
      "metadata": {
        "colab": {
          "base_uri": "https://localhost:8080/",
          "height": 191
        },
        "id": "2Ix0sGcfueWQ",
        "outputId": "2ee65fcb-d30c-416f-c326-0cf579bb0ef1"
      },
      "outputs": [],
      "source": [
        "#!pip install psycopg2"
      ]
    },
    {
      "cell_type": "code",
      "execution_count": 6,
      "metadata": {},
      "outputs": [],
      "source": [
        "#!pip install seaborn"
      ]
    },
    {
      "cell_type": "code",
      "execution_count": 7,
      "metadata": {
        "id": "xIibAqHjugOD"
      },
      "outputs": [],
      "source": [
        "# Leer la documentación de PSYCOPG2\n",
        "import psycopg2"
      ]
    },
    {
      "cell_type": "code",
      "execution_count": 8,
      "metadata": {
        "id": "WNg87a_G0x4l"
      },
      "outputs": [],
      "source": [
        "## DB\n",
        "from sqlalchemy import create_engine\n",
        "import psycopg2\n",
        "\n",
        "## data analysis and wrangling\n",
        "import pandas as pd\n",
        "import numpy as np\n",
        "import random as rnd\n",
        "\n",
        "## visualization\n",
        "import seaborn as sns\n",
        "from scipy.stats import norm, skew\n",
        "from scipy import stats\n",
        "import matplotlib.pyplot as plt\n",
        "%matplotlib inline\n",
        "\n",
        "## Warnings and other tools\n",
        "import itertools\n",
        "import warnings\n",
        "warnings.filterwarnings(\"ignore\")"
      ]
    },
    {
      "cell_type": "code",
      "execution_count": 9,
      "metadata": {
        "id": "cPGRD0Pq06ma"
      },
      "outputs": [],
      "source": [
        "# Cargamos las credenciales de la base de datos\n",
        "\n",
        "host = \"thebridgechallenge.postgres.database.azure.com\"\n",
        "dbname = \"postgres\"\n",
        "user = \"postgres@thebridgechallenge\"\n",
        "password = \"TheBridge2023\"\n",
        "\n",
        "\n",
        "# Connect to the database\n",
        "conn = psycopg2.connect(host=host, dbname=dbname, user=user, password=password)"
      ]
    },
    {
      "attachments": {},
      "cell_type": "markdown",
      "metadata": {},
      "source": [
        "### TABLA MERCHANTS"
      ]
    },
    {
      "cell_type": "code",
      "execution_count": 10,
      "metadata": {},
      "outputs": [],
      "source": [
        "cursor = conn.cursor()\n",
        "cursor.execute('SELECT * FROM \"DATACHALLENGE\".merchants')\n",
        "columns = [desc[0] for desc in cursor.description]\n",
        "merchants = cursor.fetchall()\n",
        "merchants_df = pd.DataFrame(merchants, columns=columns)\n"
      ]
    },
    {
      "cell_type": "code",
      "execution_count": 11,
      "metadata": {},
      "outputs": [
        {
          "name": "stdout",
          "output_type": "stream",
          "text": [
            "<class 'pandas.core.frame.DataFrame'>\n",
            "RangeIndex: 1956 entries, 0 to 1955\n",
            "Data columns (total 3 columns):\n",
            " #   Column         Non-Null Count  Dtype \n",
            "---  ------         --------------  ----- \n",
            " 0   uuid           1956 non-null   object\n",
            " 1   industry_code  1956 non-null   object\n",
            " 2   industry_name  1956 non-null   object\n",
            "dtypes: object(3)\n",
            "memory usage: 46.0+ KB\n"
          ]
        }
      ],
      "source": [
        "merchants_df.info()"
      ]
    },
    {
      "cell_type": "code",
      "execution_count": 12,
      "metadata": {},
      "outputs": [
        {
          "data": {
            "text/html": [
              "<div>\n",
              "<style scoped>\n",
              "    .dataframe tbody tr th:only-of-type {\n",
              "        vertical-align: middle;\n",
              "    }\n",
              "\n",
              "    .dataframe tbody tr th {\n",
              "        vertical-align: top;\n",
              "    }\n",
              "\n",
              "    .dataframe thead th {\n",
              "        text-align: right;\n",
              "    }\n",
              "</style>\n",
              "<table border=\"1\" class=\"dataframe\">\n",
              "  <thead>\n",
              "    <tr style=\"text-align: right;\">\n",
              "      <th></th>\n",
              "      <th>uuid</th>\n",
              "      <th>industry_code</th>\n",
              "      <th>industry_name</th>\n",
              "    </tr>\n",
              "  </thead>\n",
              "  <tbody>\n",
              "    <tr>\n",
              "      <th>count</th>\n",
              "      <td>1956</td>\n",
              "      <td>1956</td>\n",
              "      <td>1956</td>\n",
              "    </tr>\n",
              "    <tr>\n",
              "      <th>unique</th>\n",
              "      <td>1956</td>\n",
              "      <td>23</td>\n",
              "      <td>44</td>\n",
              "    </tr>\n",
              "    <tr>\n",
              "      <th>top</th>\n",
              "      <td>d793ed6ad25e4f0a8ef055422f8ad178</td>\n",
              "      <td>9</td>\n",
              "      <td>Informatica y Electrónica</td>\n",
              "    </tr>\n",
              "    <tr>\n",
              "      <th>freq</th>\n",
              "      <td>1</td>\n",
              "      <td>256</td>\n",
              "      <td>194</td>\n",
              "    </tr>\n",
              "  </tbody>\n",
              "</table>\n",
              "</div>"
            ],
            "text/plain": [
              "                                    uuid industry_code   \n",
              "count                               1956          1956  \\\n",
              "unique                              1956            23   \n",
              "top     d793ed6ad25e4f0a8ef055422f8ad178             9   \n",
              "freq                                   1           256   \n",
              "\n",
              "                    industry_name  \n",
              "count                        1956  \n",
              "unique                         44  \n",
              "top     Informatica y Electrónica  \n",
              "freq                          194  "
            ]
          },
          "execution_count": 12,
          "metadata": {},
          "output_type": "execute_result"
        }
      ],
      "source": [
        "merchants_df.describe()"
      ]
    },
    {
      "cell_type": "code",
      "execution_count": 13,
      "metadata": {},
      "outputs": [
        {
          "data": {
            "text/html": [
              "<div>\n",
              "<style scoped>\n",
              "    .dataframe tbody tr th:only-of-type {\n",
              "        vertical-align: middle;\n",
              "    }\n",
              "\n",
              "    .dataframe tbody tr th {\n",
              "        vertical-align: top;\n",
              "    }\n",
              "\n",
              "    .dataframe thead th {\n",
              "        text-align: right;\n",
              "    }\n",
              "</style>\n",
              "<table border=\"1\" class=\"dataframe\">\n",
              "  <thead>\n",
              "    <tr style=\"text-align: right;\">\n",
              "      <th></th>\n",
              "      <th>uuid</th>\n",
              "      <th>industry_code</th>\n",
              "      <th>industry_name</th>\n",
              "    </tr>\n",
              "  </thead>\n",
              "  <tbody>\n",
              "    <tr>\n",
              "      <th>0</th>\n",
              "      <td>d793ed6ad25e4f0a8ef055422f8ad178</td>\n",
              "      <td>22</td>\n",
              "      <td>Servicios Profesionales y Federaciones</td>\n",
              "    </tr>\n",
              "    <tr>\n",
              "      <th>1</th>\n",
              "      <td>18f3cbe5537544cd86c2932a9d02905e</td>\n",
              "      <td>6</td>\n",
              "      <td>Electrodomésticos</td>\n",
              "    </tr>\n",
              "    <tr>\n",
              "      <th>2</th>\n",
              "      <td>189ed450530643ac85a5e729314ed585</td>\n",
              "      <td>10</td>\n",
              "      <td>Informatica y Electrónica</td>\n",
              "    </tr>\n",
              "    <tr>\n",
              "      <th>3</th>\n",
              "      <td>5627eb7fbf5743af9b5d4a82fd11a840</td>\n",
              "      <td>19</td>\n",
              "      <td>Otros</td>\n",
              "    </tr>\n",
              "    <tr>\n",
              "      <th>4</th>\n",
              "      <td>03bbe11d14d4445698deb21a1b34f37c</td>\n",
              "      <td>20</td>\n",
              "      <td>Salud y Belleza</td>\n",
              "    </tr>\n",
              "  </tbody>\n",
              "</table>\n",
              "</div>"
            ],
            "text/plain": [
              "                               uuid industry_code   \n",
              "0  d793ed6ad25e4f0a8ef055422f8ad178            22  \\\n",
              "1  18f3cbe5537544cd86c2932a9d02905e             6   \n",
              "2  189ed450530643ac85a5e729314ed585            10   \n",
              "3  5627eb7fbf5743af9b5d4a82fd11a840            19   \n",
              "4  03bbe11d14d4445698deb21a1b34f37c            20   \n",
              "\n",
              "                            industry_name  \n",
              "0  Servicios Profesionales y Federaciones  \n",
              "1                       Electrodomésticos  \n",
              "2               Informatica y Electrónica  \n",
              "3                                   Otros  \n",
              "4                         Salud y Belleza  "
            ]
          },
          "execution_count": 13,
          "metadata": {},
          "output_type": "execute_result"
        }
      ],
      "source": [
        "merchants_df.head()"
      ]
    },
    {
      "attachments": {},
      "cell_type": "markdown",
      "metadata": {},
      "source": [
        "* Sobre qué tipo de producto se pide la financiacón"
      ]
    },
    {
      "cell_type": "code",
      "execution_count": 14,
      "metadata": {},
      "outputs": [
        {
          "data": {
            "text/plain": [
              "industry_name\n",
              "Viajes y Turismo                          18\n",
              "Professional Services and Federations      3\n",
              "Health and Beauty                         41\n",
              "Alimentación y Bebidas                    16\n",
              "Musical instruments                       12\n",
              "Jewelry                                   32\n",
              "Otros                                    188\n",
              "Books                                      5\n",
              "Food and drinks                            2\n",
              "Bebés                                     25\n",
              "Name: count, dtype: int64"
            ]
          },
          "execution_count": 14,
          "metadata": {},
          "output_type": "execute_result"
        }
      ],
      "source": [
        "merchants_df[\"industry_name\"].value_counts().sample(10)"
      ]
    },
    {
      "attachments": {},
      "cell_type": "markdown",
      "metadata": {},
      "source": [
        "* 10 productos más solicitados para financiar"
      ]
    },
    {
      "cell_type": "code",
      "execution_count": 15,
      "metadata": {},
      "outputs": [
        {
          "data": {
            "text/plain": [
              "<BarContainer object of 10 artists>"
            ]
          },
          "execution_count": 15,
          "metadata": {},
          "output_type": "execute_result"
        },
        {
          "data": {
            "image/png": "[encoded data removed]",
            "text/plain": [
              "<Figure size 640x480 with 1 Axes>"
            ]
          },
          "metadata": {},
          "output_type": "display_data"
        }
      ],
      "source": [
        "industry_name=merchants_df[\"industry_name\"].value_counts().head(10).sort_values()\n",
        "plt.barh(industry_name.index, industry_name)"
      ]
    },
    {
      "attachments": {},
      "cell_type": "markdown",
      "metadata": {},
      "source": [
        "* Codigo del tipo de producto\n",
        "    > Igual no es necesario, teniendo ya la descripción en industry_name"
      ]
    },
    {
      "cell_type": "code",
      "execution_count": 16,
      "metadata": {},
      "outputs": [
        {
          "data": {
            "text/plain": [
              "0    22\n",
              "1     6\n",
              "2    10\n",
              "3    19\n",
              "4    20\n",
              "Name: industry_code, dtype: object"
            ]
          },
          "execution_count": 16,
          "metadata": {},
          "output_type": "execute_result"
        }
      ],
      "source": [
        "merchants_df[\"industry_code\"].head()\n",
        "\n",
        "# para que sirve\n"
      ]
    },
    {
      "attachments": {},
      "cell_type": "markdown",
      "metadata": {},
      "source": [
        "* Identificador del tipo de producto"
      ]
    },
    {
      "cell_type": "code",
      "execution_count": 17,
      "metadata": {},
      "outputs": [
        {
          "data": {
            "text/plain": [
              "0    d793ed6ad25e4f0a8ef055422f8ad178\n",
              "1    18f3cbe5537544cd86c2932a9d02905e\n",
              "2    189ed450530643ac85a5e729314ed585\n",
              "3    5627eb7fbf5743af9b5d4a82fd11a840\n",
              "4    03bbe11d14d4445698deb21a1b34f37c\n",
              "Name: uuid, dtype: object"
            ]
          },
          "execution_count": 17,
          "metadata": {},
          "output_type": "execute_result"
        }
      ],
      "source": [
        "merchants_df[\"uuid\"].head()"
      ]
    },
    {
      "attachments": {},
      "cell_type": "markdown",
      "metadata": {},
      "source": [
        "### TABLA ORDERS"
      ]
    },
    {
      "cell_type": "code",
      "execution_count": 18,
      "metadata": {},
      "outputs": [],
      "source": [
        "\n",
        "cursor.execute('SELECT * FROM \"DATACHALLENGE\".orders')\n",
        "columns = [desc[0] for desc in cursor.description]\n",
        "orders = cursor.fetchall()\n",
        "orders_df = pd.DataFrame(orders, columns=columns)"
      ]
    },
    {
      "cell_type": "code",
      "execution_count": 19,
      "metadata": {},
      "outputs": [
        {
          "name": "stdout",
          "output_type": "stream",
          "text": [
            "<class 'pandas.core.frame.DataFrame'>\n",
            "RangeIndex: 30288 entries, 0 to 30287\n",
            "Data columns (total 7 columns):\n",
            " #   Column                  Non-Null Count  Dtype         \n",
            "---  ------                  --------------  -----         \n",
            " 0   uuid                    30288 non-null  object        \n",
            " 1   merchant_uuid           30288 non-null  object        \n",
            " 2   created                 30288 non-null  datetime64[ns]\n",
            " 3   country                 30288 non-null  object        \n",
            " 4   annual_percentage_rate  30288 non-null  float64       \n",
            " 5   number_instalments      30288 non-null  int64         \n",
            " 6   booking                 30288 non-null  float64       \n",
            "dtypes: datetime64[ns](1), float64(2), int64(1), object(3)\n",
            "memory usage: 1.6+ MB\n"
          ]
        }
      ],
      "source": [
        "orders_df.info()"
      ]
    },
    {
      "cell_type": "code",
      "execution_count": 20,
      "metadata": {},
      "outputs": [
        {
          "data": {
            "text/html": [
              "<div>\n",
              "<style scoped>\n",
              "    .dataframe tbody tr th:only-of-type {\n",
              "        vertical-align: middle;\n",
              "    }\n",
              "\n",
              "    .dataframe tbody tr th {\n",
              "        vertical-align: top;\n",
              "    }\n",
              "\n",
              "    .dataframe thead th {\n",
              "        text-align: right;\n",
              "    }\n",
              "</style>\n",
              "<table border=\"1\" class=\"dataframe\">\n",
              "  <thead>\n",
              "    <tr style=\"text-align: right;\">\n",
              "      <th></th>\n",
              "      <th>created</th>\n",
              "      <th>annual_percentage_rate</th>\n",
              "      <th>number_instalments</th>\n",
              "      <th>booking</th>\n",
              "    </tr>\n",
              "  </thead>\n",
              "  <tbody>\n",
              "    <tr>\n",
              "      <th>count</th>\n",
              "      <td>30288</td>\n",
              "      <td>30288.000000</td>\n",
              "      <td>30288.000000</td>\n",
              "      <td>30288.000000</td>\n",
              "    </tr>\n",
              "    <tr>\n",
              "      <th>mean</th>\n",
              "      <td>2018-08-09 08:38:59.055397376</td>\n",
              "      <td>18.003554</td>\n",
              "      <td>6.751651</td>\n",
              "      <td>306.476432</td>\n",
              "    </tr>\n",
              "    <tr>\n",
              "      <th>min</th>\n",
              "      <td>2018-01-01 01:22:28.959780</td>\n",
              "      <td>-0.000255</td>\n",
              "      <td>0.000000</td>\n",
              "      <td>0.530000</td>\n",
              "    </tr>\n",
              "    <tr>\n",
              "      <th>25%</th>\n",
              "      <td>2018-05-17 14:47:47.913558784</td>\n",
              "      <td>20.000000</td>\n",
              "      <td>4.000000</td>\n",
              "      <td>97.215000</td>\n",
              "    </tr>\n",
              "    <tr>\n",
              "      <th>50%</th>\n",
              "      <td>2018-09-05 12:30:01.470914816</td>\n",
              "      <td>24.500000</td>\n",
              "      <td>6.000000</td>\n",
              "      <td>185.935000</td>\n",
              "    </tr>\n",
              "    <tr>\n",
              "      <th>75%</th>\n",
              "      <td>2018-11-10 21:38:33.092625664</td>\n",
              "      <td>24.500000</td>\n",
              "      <td>12.000000</td>\n",
              "      <td>364.937500</td>\n",
              "    </tr>\n",
              "    <tr>\n",
              "      <th>max</th>\n",
              "      <td>2018-12-31 23:53:17.650640</td>\n",
              "      <td>315.949970</td>\n",
              "      <td>24.000000</td>\n",
              "      <td>3000.000000</td>\n",
              "    </tr>\n",
              "    <tr>\n",
              "      <th>std</th>\n",
              "      <td>NaN</td>\n",
              "      <td>10.383416</td>\n",
              "      <td>3.927623</td>\n",
              "      <td>368.792923</td>\n",
              "    </tr>\n",
              "  </tbody>\n",
              "</table>\n",
              "</div>"
            ],
            "text/plain": [
              "                             created  annual_percentage_rate   \n",
              "count                          30288            30288.000000  \\\n",
              "mean   2018-08-09 08:38:59.055397376               18.003554   \n",
              "min       2018-01-01 01:22:28.959780               -0.000255   \n",
              "25%    2018-05-17 14:47:47.913558784               20.000000   \n",
              "50%    2018-09-05 12:30:01.470914816               24.500000   \n",
              "75%    2018-11-10 21:38:33.092625664               24.500000   \n",
              "max       2018-12-31 23:53:17.650640              315.949970   \n",
              "std                              NaN               10.383416   \n",
              "\n",
              "       number_instalments       booking  \n",
              "count        30288.000000  30288.000000  \n",
              "mean             6.751651    306.476432  \n",
              "min              0.000000      0.530000  \n",
              "25%              4.000000     97.215000  \n",
              "50%              6.000000    185.935000  \n",
              "75%             12.000000    364.937500  \n",
              "max             24.000000   3000.000000  \n",
              "std              3.927623    368.792923  "
            ]
          },
          "execution_count": 20,
          "metadata": {},
          "output_type": "execute_result"
        }
      ],
      "source": [
        "orders_df.describe()"
      ]
    },
    {
      "attachments": {},
      "cell_type": "markdown",
      "metadata": {},
      "source": [
        "* identificador del crédito"
      ]
    },
    {
      "cell_type": "code",
      "execution_count": 21,
      "metadata": {},
      "outputs": [
        {
          "data": {
            "text/plain": [
              "0    69104dd917474265a25d2ea0b71a9445\n",
              "1    84c593405aa145da93de781266103eea\n",
              "2    44f66d51e46441f6be393caff6e3ba1a\n",
              "3    d00c1699becc4ac0b2af7741923d33d9\n",
              "4    7ec194425c6a49919f38b5064183da1f\n",
              "Name: uuid, dtype: object"
            ]
          },
          "execution_count": 21,
          "metadata": {},
          "output_type": "execute_result"
        }
      ],
      "source": [
        "orders_df[\"uuid\"].head()"
      ]
    },
    {
      "attachments": {},
      "cell_type": "markdown",
      "metadata": {},
      "source": [
        "* Tipo de producto para unirlo con la tabla merchants"
      ]
    },
    {
      "cell_type": "code",
      "execution_count": 22,
      "metadata": {},
      "outputs": [
        {
          "data": {
            "text/plain": [
              "0    be7d7febda224ff492b12232cd7ad1f0\n",
              "1    4350a1412c2e4dd78d36224d9ab78598\n",
              "2    ad9e0106c88f4fc2b77a54ac3dfac954\n",
              "3    f43a67a66d6f42779459fff92bc713e9\n",
              "4    dadfda2ead7448ea83d181f3fd9ffb07\n",
              "Name: merchant_uuid, dtype: object"
            ]
          },
          "execution_count": 22,
          "metadata": {},
          "output_type": "execute_result"
        }
      ],
      "source": [
        "orders_df[\"merchant_uuid\"].head()"
      ]
    },
    {
      "attachments": {},
      "cell_type": "markdown",
      "metadata": {},
      "source": [
        "* fecha del pedido de credito"
      ]
    },
    {
      "cell_type": "code",
      "execution_count": 23,
      "metadata": {},
      "outputs": [
        {
          "data": {
            "text/plain": [
              "0   2018-01-01 01:22:28.959780\n",
              "1   2018-01-01 06:38:55.516623\n",
              "2   2018-01-01 08:21:45.401655\n",
              "3   2018-01-01 09:40:03.977784\n",
              "4   2018-01-01 09:50:55.992350\n",
              "Name: created, dtype: datetime64[ns]"
            ]
          },
          "execution_count": 23,
          "metadata": {},
          "output_type": "execute_result"
        }
      ],
      "source": [
        "orders_df[\"created\"].head()\n",
        "\n",
        "#formato Timestamp\n",
        "#pueden sobrar horas, minutos, segundos??"
      ]
    },
    {
      "cell_type": "code",
      "execution_count": 24,
      "metadata": {},
      "outputs": [
        {
          "data": {
            "text/plain": [
              "pandas._libs.tslibs.timestamps.Timestamp"
            ]
          },
          "execution_count": 24,
          "metadata": {},
          "output_type": "execute_result"
        }
      ],
      "source": [
        "t=orders_df[\"created\"][1]\n",
        "type(t)"
      ]
    },
    {
      "attachments": {},
      "cell_type": "markdown",
      "metadata": {},
      "source": [
        "* pais del pedido"
      ]
    },
    {
      "cell_type": "code",
      "execution_count": 25,
      "metadata": {},
      "outputs": [
        {
          "data": {
            "text/plain": [
              "country\n",
              "Spain    30288\n",
              "Name: count, dtype: int64"
            ]
          },
          "execution_count": 25,
          "metadata": {},
          "output_type": "execute_result"
        }
      ],
      "source": [
        "orders_df[\"country\"].value_counts()\n",
        "\n",
        "#siempre es España, puede sobrar"
      ]
    },
    {
      "attachments": {},
      "cell_type": "markdown",
      "metadata": {},
      "source": [
        "* Interes del préstamo"
      ]
    },
    {
      "cell_type": "code",
      "execution_count": 26,
      "metadata": {},
      "outputs": [
        {
          "data": {
            "text/plain": [
              "4534     20.000000\n",
              "6707     20.000000\n",
              "26038    24.500000\n",
              "15113    18.514482\n",
              "25796    24.500000\n",
              "14349     0.000000\n",
              "14009     0.000000\n",
              "11632    24.500000\n",
              "28912     0.000000\n",
              "28419     0.000000\n",
              "Name: annual_percentage_rate, dtype: float64"
            ]
          },
          "execution_count": 26,
          "metadata": {},
          "output_type": "execute_result"
        }
      ],
      "source": [
        "orders_df[\"annual_percentage_rate\"].sample(10)"
      ]
    },
    {
      "attachments": {},
      "cell_type": "markdown",
      "metadata": {},
      "source": [
        "* Número de cuotas del pedido"
      ]
    },
    {
      "cell_type": "code",
      "execution_count": 27,
      "metadata": {},
      "outputs": [
        {
          "data": {
            "text/plain": [
              "5198      2\n",
              "21481     4\n",
              "4563      4\n",
              "10795     6\n",
              "18958    12\n",
              "3809      8\n",
              "19530    12\n",
              "19591    12\n",
              "9837     12\n",
              "21780    12\n",
              "Name: number_instalments, dtype: int64"
            ]
          },
          "execution_count": 27,
          "metadata": {},
          "output_type": "execute_result"
        }
      ],
      "source": [
        "orders_df[\"number_instalments\"].sample(10)"
      ]
    },
    {
      "attachments": {},
      "cell_type": "markdown",
      "metadata": {},
      "source": [
        "* Total a abonar, incluido el interés"
      ]
    },
    {
      "cell_type": "code",
      "execution_count": 28,
      "metadata": {},
      "outputs": [
        {
          "data": {
            "text/plain": [
              "6079      69.42\n",
              "2604     756.05\n",
              "13052     98.27\n",
              "17118    263.33\n",
              "19317    107.04\n",
              "10880     76.20\n",
              "7456     260.50\n",
              "26245    270.30\n",
              "25896     31.50\n",
              "8345     112.88\n",
              "Name: booking, dtype: float64"
            ]
          },
          "execution_count": 28,
          "metadata": {},
          "output_type": "execute_result"
        }
      ],
      "source": [
        "orders_df[\"booking\"].sample(10)"
      ]
    },
    {
      "cell_type": "code",
      "execution_count": 29,
      "metadata": {},
      "outputs": [
        {
          "data": {
            "text/html": [
              "<div>\n",
              "<style scoped>\n",
              "    .dataframe tbody tr th:only-of-type {\n",
              "        vertical-align: middle;\n",
              "    }\n",
              "\n",
              "    .dataframe tbody tr th {\n",
              "        vertical-align: top;\n",
              "    }\n",
              "\n",
              "    .dataframe thead th {\n",
              "        text-align: right;\n",
              "    }\n",
              "</style>\n",
              "<table border=\"1\" class=\"dataframe\">\n",
              "  <thead>\n",
              "    <tr style=\"text-align: right;\">\n",
              "      <th></th>\n",
              "      <th>uuid</th>\n",
              "      <th>industry_code</th>\n",
              "      <th>industry_name</th>\n",
              "    </tr>\n",
              "  </thead>\n",
              "  <tbody>\n",
              "    <tr>\n",
              "      <th>0</th>\n",
              "      <td>d793ed6ad25e4f0a8ef055422f8ad178</td>\n",
              "      <td>22</td>\n",
              "      <td>Servicios Profesionales y Federaciones</td>\n",
              "    </tr>\n",
              "    <tr>\n",
              "      <th>1</th>\n",
              "      <td>18f3cbe5537544cd86c2932a9d02905e</td>\n",
              "      <td>6</td>\n",
              "      <td>Electrodomésticos</td>\n",
              "    </tr>\n",
              "  </tbody>\n",
              "</table>\n",
              "</div>"
            ],
            "text/plain": [
              "                               uuid industry_code   \n",
              "0  d793ed6ad25e4f0a8ef055422f8ad178            22  \\\n",
              "1  18f3cbe5537544cd86c2932a9d02905e             6   \n",
              "\n",
              "                            industry_name  \n",
              "0  Servicios Profesionales y Federaciones  \n",
              "1                       Electrodomésticos  "
            ]
          },
          "execution_count": 29,
          "metadata": {},
          "output_type": "execute_result"
        }
      ],
      "source": [
        "merchants_df.head(2)"
      ]
    },
    {
      "cell_type": "code",
      "execution_count": 30,
      "metadata": {},
      "outputs": [
        {
          "data": {
            "text/html": [
              "<div>\n",
              "<style scoped>\n",
              "    .dataframe tbody tr th:only-of-type {\n",
              "        vertical-align: middle;\n",
              "    }\n",
              "\n",
              "    .dataframe tbody tr th {\n",
              "        vertical-align: top;\n",
              "    }\n",
              "\n",
              "    .dataframe thead th {\n",
              "        text-align: right;\n",
              "    }\n",
              "</style>\n",
              "<table border=\"1\" class=\"dataframe\">\n",
              "  <thead>\n",
              "    <tr style=\"text-align: right;\">\n",
              "      <th></th>\n",
              "      <th>uuid</th>\n",
              "      <th>merchant_uuid</th>\n",
              "      <th>created</th>\n",
              "      <th>country</th>\n",
              "      <th>annual_percentage_rate</th>\n",
              "      <th>number_instalments</th>\n",
              "      <th>booking</th>\n",
              "    </tr>\n",
              "  </thead>\n",
              "  <tbody>\n",
              "    <tr>\n",
              "      <th>0</th>\n",
              "      <td>69104dd917474265a25d2ea0b71a9445</td>\n",
              "      <td>be7d7febda224ff492b12232cd7ad1f0</td>\n",
              "      <td>2018-01-01 01:22:28.959780</td>\n",
              "      <td>Spain</td>\n",
              "      <td>24.5</td>\n",
              "      <td>1</td>\n",
              "      <td>1000.00</td>\n",
              "    </tr>\n",
              "    <tr>\n",
              "      <th>1</th>\n",
              "      <td>84c593405aa145da93de781266103eea</td>\n",
              "      <td>4350a1412c2e4dd78d36224d9ab78598</td>\n",
              "      <td>2018-01-01 06:38:55.516623</td>\n",
              "      <td>Spain</td>\n",
              "      <td>24.5</td>\n",
              "      <td>12</td>\n",
              "      <td>224.03</td>\n",
              "    </tr>\n",
              "  </tbody>\n",
              "</table>\n",
              "</div>"
            ],
            "text/plain": [
              "                               uuid                     merchant_uuid   \n",
              "0  69104dd917474265a25d2ea0b71a9445  be7d7febda224ff492b12232cd7ad1f0  \\\n",
              "1  84c593405aa145da93de781266103eea  4350a1412c2e4dd78d36224d9ab78598   \n",
              "\n",
              "                     created country  annual_percentage_rate   \n",
              "0 2018-01-01 01:22:28.959780   Spain                    24.5  \\\n",
              "1 2018-01-01 06:38:55.516623   Spain                    24.5   \n",
              "\n",
              "   number_instalments  booking  \n",
              "0                   1  1000.00  \n",
              "1                  12   224.03  "
            ]
          },
          "execution_count": 30,
          "metadata": {},
          "output_type": "execute_result"
        }
      ],
      "source": [
        "orders_df.head(2)"
      ]
    },
    {
      "attachments": {},
      "cell_type": "markdown",
      "metadata": {},
      "source": [
        "* calcular total sin interés, y total con interés, para ver las ganancias totales de la financiera"
      ]
    },
    {
      "cell_type": "code",
      "execution_count": 31,
      "metadata": {},
      "outputs": [],
      "source": [
        "#query\n",
        "\n",
        "# Interes y Total a pagar\n",
        "\n",
        "q='''\n",
        "SELECT annual_percentage_rate as Interes, booking as Total_Con_Interes \n",
        "FROM \"DATACHALLENGE\".orders\n",
        "'''\n",
        "\n",
        "cursor.execute(q)\n",
        "columns = [desc[0] for desc in cursor.description]\n",
        "orders = cursor.fetchall()\n",
        "\n",
        "#dataframe cont Interes y Total a pagar\n",
        "Vista_interes = pd.DataFrame(orders, columns=columns)"
      ]
    },
    {
      "cell_type": "code",
      "execution_count": 32,
      "metadata": {},
      "outputs": [],
      "source": [
        "# Columna Importe financiado = Total a pagar / (1-(interes/100))\n",
        "\n",
        "Vista_interes[\"Importe Financiado\"]=Vista_interes[\"total_con_interes\"]/((Vista_interes[\"interes\"]*100)+1)"
      ]
    },
    {
      "cell_type": "code",
      "execution_count": 33,
      "metadata": {},
      "outputs": [
        {
          "name": "stdout",
          "output_type": "stream",
          "text": [
            "Total con Intereses: 9282558.175099999€\n",
            "Total Financiado: 3030269.974587879€\n",
            "Ganancias Financiera:6252288.20051212€\n"
          ]
        }
      ],
      "source": [
        "print(f'Total con Intereses: {Vista_interes[\"total_con_interes\"].sum()}€')\n",
        "print(f'Total Financiado: {Vista_interes[\"Importe Financiado\"].sum()}€')\n",
        "g=Vista_interes[\"total_con_interes\"].sum()-Vista_interes[\"Importe Financiado\"].sum()\n",
        "print(f'Ganancias Financiera:{g}€')"
      ]
    },
    {
      "attachments": {},
      "cell_type": "markdown",
      "metadata": {},
      "source": [
        "* total ganado por tipo de producto, En que productos tienen más margen de ganancias?"
      ]
    },
    {
      "cell_type": "code",
      "execution_count": 34,
      "metadata": {},
      "outputs": [
        {
          "data": {
            "text/html": [
              "<div>\n",
              "<style scoped>\n",
              "    .dataframe tbody tr th:only-of-type {\n",
              "        vertical-align: middle;\n",
              "    }\n",
              "\n",
              "    .dataframe tbody tr th {\n",
              "        vertical-align: top;\n",
              "    }\n",
              "\n",
              "    .dataframe thead th {\n",
              "        text-align: right;\n",
              "    }\n",
              "</style>\n",
              "<table border=\"1\" class=\"dataframe\">\n",
              "  <thead>\n",
              "    <tr style=\"text-align: right;\">\n",
              "      <th></th>\n",
              "      <th>uuid</th>\n",
              "      <th>industry_code</th>\n",
              "      <th>industry_name</th>\n",
              "    </tr>\n",
              "  </thead>\n",
              "  <tbody>\n",
              "    <tr>\n",
              "      <th>0</th>\n",
              "      <td>d793ed6ad25e4f0a8ef055422f8ad178</td>\n",
              "      <td>22</td>\n",
              "      <td>Servicios Profesionales y Federaciones</td>\n",
              "    </tr>\n",
              "    <tr>\n",
              "      <th>1</th>\n",
              "      <td>18f3cbe5537544cd86c2932a9d02905e</td>\n",
              "      <td>6</td>\n",
              "      <td>Electrodomésticos</td>\n",
              "    </tr>\n",
              "    <tr>\n",
              "      <th>2</th>\n",
              "      <td>189ed450530643ac85a5e729314ed585</td>\n",
              "      <td>10</td>\n",
              "      <td>Informatica y Electrónica</td>\n",
              "    </tr>\n",
              "    <tr>\n",
              "      <th>3</th>\n",
              "      <td>5627eb7fbf5743af9b5d4a82fd11a840</td>\n",
              "      <td>19</td>\n",
              "      <td>Otros</td>\n",
              "    </tr>\n",
              "    <tr>\n",
              "      <th>4</th>\n",
              "      <td>03bbe11d14d4445698deb21a1b34f37c</td>\n",
              "      <td>20</td>\n",
              "      <td>Salud y Belleza</td>\n",
              "    </tr>\n",
              "  </tbody>\n",
              "</table>\n",
              "</div>"
            ],
            "text/plain": [
              "                               uuid industry_code   \n",
              "0  d793ed6ad25e4f0a8ef055422f8ad178            22  \\\n",
              "1  18f3cbe5537544cd86c2932a9d02905e             6   \n",
              "2  189ed450530643ac85a5e729314ed585            10   \n",
              "3  5627eb7fbf5743af9b5d4a82fd11a840            19   \n",
              "4  03bbe11d14d4445698deb21a1b34f37c            20   \n",
              "\n",
              "                            industry_name  \n",
              "0  Servicios Profesionales y Federaciones  \n",
              "1                       Electrodomésticos  \n",
              "2               Informatica y Electrónica  \n",
              "3                                   Otros  \n",
              "4                         Salud y Belleza  "
            ]
          },
          "execution_count": 34,
          "metadata": {},
          "output_type": "execute_result"
        }
      ],
      "source": [
        "merchants_df.head()"
      ]
    },
    {
      "cell_type": "code",
      "execution_count": 35,
      "metadata": {},
      "outputs": [],
      "source": [
        "#query\n",
        "\n",
        "# Tipo de producto financiado y Total a pagar\n",
        "\n",
        "q='''\n",
        "    SELECT o.uuid as \"Codigo Producto\", m.industry_name as \"Tipo Producto\", o.booking as \"Total Con Interes\" \n",
        "    FROM \"DATACHALLENGE\".merchants as m\n",
        "    INNER JOIN \"DATACHALLENGE\".orders as o ON o.uuid=m.uuid\n",
        "    \n",
        " '''\n",
        "\n",
        "cursor.execute(q)\n",
        "columns = [desc[0] for desc in cursor.description]\n",
        "orders = cursor.fetchall()\n",
        "\n",
        "#dataframe cont Interes y Total a pagar\n",
        "Tipo_Producto = pd.DataFrame(orders, columns=columns)"
      ]
    },
    {
      "cell_type": "code",
      "execution_count": 36,
      "metadata": {},
      "outputs": [
        {
          "data": {
            "text/html": [
              "<div>\n",
              "<style scoped>\n",
              "    .dataframe tbody tr th:only-of-type {\n",
              "        vertical-align: middle;\n",
              "    }\n",
              "\n",
              "    .dataframe tbody tr th {\n",
              "        vertical-align: top;\n",
              "    }\n",
              "\n",
              "    .dataframe thead th {\n",
              "        text-align: right;\n",
              "    }\n",
              "</style>\n",
              "<table border=\"1\" class=\"dataframe\">\n",
              "  <thead>\n",
              "    <tr style=\"text-align: right;\">\n",
              "      <th></th>\n",
              "      <th>Codigo Producto</th>\n",
              "      <th>Tipo Producto</th>\n",
              "      <th>Total Con Interes</th>\n",
              "    </tr>\n",
              "  </thead>\n",
              "  <tbody>\n",
              "  </tbody>\n",
              "</table>\n",
              "</div>"
            ],
            "text/plain": [
              "Empty DataFrame\n",
              "Columns: [Codigo Producto, Tipo Producto, Total Con Interes]\n",
              "Index: []"
            ]
          },
          "execution_count": 36,
          "metadata": {},
          "output_type": "execute_result"
        }
      ],
      "source": [
        "Tipo_Producto"
      ]
    },
    {
      "attachments": {},
      "cell_type": "markdown",
      "metadata": {},
      "source": [
        "* Ver evolución por años de pedidos, importes"
      ]
    },
    {
      "cell_type": "code",
      "execution_count": 37,
      "metadata": {
        "id": "NOSWiwkM09as"
      },
      "outputs": [],
      "source": [
        "# Cargamos en pandas la query anterior o consulta de una tabla (TABLE) o cargamos unas vistas (VIEW)\n",
        "\n",
        "# Obtenemos un dataframe"
      ]
    },
    {
      "cell_type": "code",
      "execution_count": 38,
      "metadata": {
        "id": "co8RO-Si1ItZ"
      },
      "outputs": [],
      "source": [
        "# EDA...lo de siempre"
      ]
    },
    {
      "cell_type": "code",
      "execution_count": 39,
      "metadata": {
        "id": "xrTWaszJ1Lak"
      },
      "outputs": [],
      "source": [
        "# INSIGHTS"
      ]
    },
    {
      "cell_type": "code",
      "execution_count": 40,
      "metadata": {
        "id": "HhCkigci1NH1"
      },
      "outputs": [],
      "source": [
        "# Conclusiones"
      ]
    },
    {
      "cell_type": "code",
      "execution_count": 41,
      "metadata": {
        "id": "9MVQVmsL1Ohj"
      },
      "outputs": [],
      "source": [
        "# Inferir datos con otras fuentes externas con API's"
      ]
    },
    {
      "cell_type": "code",
      "execution_count": 42,
      "metadata": {
        "id": "ey6-4e5E1Yml"
      },
      "outputs": [],
      "source": [
        "# Pueden mostrar los datos en Power BI Desktop (free) / Tableau PRO (de pago)"
      ]
    },
    {
      "cell_type": "code",
      "execution_count": 43,
      "metadata": {
        "id": "0_PpdhiW1jo1"
      },
      "outputs": [],
      "source": [
        "# Seguir las tareas restantes para paquetizar el trabajo anterior.\n",
        "\n",
        "# En caso de crear funciones utilizamos bien try...except...finally (pass)\n",
        "# def nombre_funcion():\n",
        "#   try:\n",
        "#     (cond)\n",
        "#     print(\"Función ejecutada estado 200\")\n",
        "#   except Exception as e:\n",
        "#     e\n",
        "#     print(\"Ha fallado\")\n",
        "#   finally:\n",
        "#     print(\"otra condición final---- ejecutar otra tarea/función\")"
      ]
    },
    {
      "cell_type": "code",
      "execution_count": 44,
      "metadata": {
        "id": "UinIoG052yl2"
      },
      "outputs": [],
      "source": [
        "# # en caso de utilizar logging\n",
        "# import logging\n",
        "\n",
        "# logger = logging.getLogger()\n",
        "# logger.info\n",
        "# logger.warnings\n",
        "# logger.alerts"
      ]
    }
  ],
  "metadata": {
    "colab": {
      "collapsed_sections": [],
      "name": "01_[Challenge]_DataAnalysis",
      "provenance": []
    },
    "kernelspec": {
      "display_name": "Python 3",
      "name": "python3"
    },
    "language_info": {
      "codemirror_mode": {
        "name": "ipython",
        "version": 3
      },
      "file_extension": ".py",
      "mimetype": "text/x-python",
      "name": "python",
      "nbconvert_exporter": "python",
      "pygments_lexer": "ipython3",
      "version": "3.9.5"
    }
  },
  "nbformat": 4,
  "nbformat_minor": 0
}
