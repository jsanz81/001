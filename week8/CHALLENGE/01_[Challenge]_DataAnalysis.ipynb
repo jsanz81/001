{
  "cells": [
    {
      "cell_type": "code",
      "execution_count": 1,
      "metadata": {
        "colab": {
          "base_uri": "https://localhost:8080/"
        },
        "id": "Af5KqAT7ov-4",
        "outputId": "3e48c91c-cd18-4381-9ac1-4e1a8852aa40"
      },
      "outputs": [
        {
          "name": "stdout",
          "output_type": "stream",
          "text": [
            "Python: 3.9.5 (default, May 18 2021, 14:42:02) [MSC v.1916 64 bit (AMD64)]\n",
            "scipy: 1.10.1\n",
            "numpy: 1.24.3\n",
            "matplotlib: 3.7.1\n"
          ]
        }
      ],
      "source": [
        "# importamos las librería\n",
        "# Python version\n",
        "import sys\n",
        "print('Python: {}'.format(sys.version))\n",
        "# scipy\n",
        "import scipy\n",
        "print('scipy: {}'.format(scipy.__version__))\n",
        "# numpy\n",
        "import numpy\n",
        "print('numpy: {}'.format(numpy.__version__))\n",
        "# matplotlib\n",
        "import matplotlib\n",
        "print('matplotlib: {}'.format(matplotlib.__version__))"
      ]
    },
    {
      "cell_type": "code",
      "execution_count": 2,
      "metadata": {
        "id": "cAjjZ0EhuQh_"
      },
      "outputs": [
        {
          "ename": "ModuleNotFoundError",
          "evalue": "No module named 'sqlalchemy'",
          "output_type": "error",
          "traceback": [
            "\u001b[1;31m---------------------------------------------------------------------------\u001b[0m",
            "\u001b[1;31mModuleNotFoundError\u001b[0m                       Traceback (most recent call last)",
            "Cell \u001b[1;32mIn[2], line 2\u001b[0m\n\u001b[0;32m      1\u001b[0m \u001b[39m# Leer la documentación de SQLALCHEMY\u001b[39;00m\n\u001b[1;32m----> 2\u001b[0m \u001b[39mimport\u001b[39;00m \u001b[39msqlalchemy\u001b[39;00m\n",
            "\u001b[1;31mModuleNotFoundError\u001b[0m: No module named 'sqlalchemy'"
          ]
        }
      ],
      "source": [
        "# Leer la documentación de SQLALCHEMY\n",
        "import sqlalchemy"
      ]
    },
    {
      "cell_type": "code",
      "execution_count": 5,
      "metadata": {
        "colab": {
          "base_uri": "https://localhost:8080/",
          "height": 191
        },
        "id": "2Ix0sGcfueWQ",
        "outputId": "2ee65fcb-d30c-416f-c326-0cf579bb0ef1"
      },
      "outputs": [
        {
          "name": "stdout",
          "output_type": "stream",
          "text": [
            "Requirement already satisfied: psycopg2 in c:\\users\\j\\miniconda3\\envs\\ramp_up_py395\\lib\\site-packages (2.9.6)\n"
          ]
        }
      ],
      "source": [
        "!pip install psycopg2"
      ]
    },
    {
      "cell_type": "code",
      "execution_count": 8,
      "metadata": {},
      "outputs": [
        {
          "name": "stdout",
          "output_type": "stream",
          "text": [
            "Collecting sqlalchemy\n",
            "  Downloading SQLAlchemy-2.0.15-cp39-cp39-win_amd64.whl (2.0 MB)\n",
            "     ---------------------------------------- 2.0/2.0 MB 2.9 MB/s eta 0:00:00\n",
            "Collecting greenlet!=0.4.17\n",
            "  Downloading greenlet-2.0.2-cp39-cp39-win_amd64.whl (192 kB)\n",
            "     -------------------------------------- 192.1/192.1 kB 3.9 MB/s eta 0:00:00\n",
            "Requirement already satisfied: typing-extensions>=4.2.0 in c:\\users\\j\\miniconda3\\envs\\ramp_up_py395\\lib\\site-packages (from sqlalchemy) (4.5.0)\n",
            "Installing collected packages: greenlet, sqlalchemy\n",
            "Successfully installed greenlet-2.0.2 sqlalchemy-2.0.15\n"
          ]
        }
      ],
      "source": [
        "!pip install sqlalchemy"
      ]
    },
    {
      "cell_type": "code",
      "execution_count": 10,
      "metadata": {},
      "outputs": [
        {
          "name": "stdout",
          "output_type": "stream",
          "text": [
            "Collecting seaborn\n",
            "  Downloading seaborn-0.12.2-py3-none-any.whl (293 kB)\n",
            "     -------------------------------------- 293.3/293.3 kB 2.6 MB/s eta 0:00:00\n",
            "Requirement already satisfied: pandas>=0.25 in c:\\users\\j\\miniconda3\\envs\\ramp_up_py395\\lib\\site-packages (from seaborn) (2.0.1)\n",
            "Requirement already satisfied: matplotlib!=3.6.1,>=3.1 in c:\\users\\j\\miniconda3\\envs\\ramp_up_py395\\lib\\site-packages (from seaborn) (3.7.1)\n",
            "Requirement already satisfied: numpy!=1.24.0,>=1.17 in c:\\users\\j\\miniconda3\\envs\\ramp_up_py395\\lib\\site-packages (from seaborn) (1.24.3)\n",
            "Requirement already satisfied: contourpy>=1.0.1 in c:\\users\\j\\miniconda3\\envs\\ramp_up_py395\\lib\\site-packages (from matplotlib!=3.6.1,>=3.1->seaborn) (1.0.7)\n",
            "Requirement already satisfied: pillow>=6.2.0 in c:\\users\\j\\miniconda3\\envs\\ramp_up_py395\\lib\\site-packages (from matplotlib!=3.6.1,>=3.1->seaborn) (9.5.0)\n",
            "Requirement already satisfied: packaging>=20.0 in c:\\users\\j\\miniconda3\\envs\\ramp_up_py395\\lib\\site-packages (from matplotlib!=3.6.1,>=3.1->seaborn) (23.1)\n",
            "Requirement already satisfied: pyparsing>=2.3.1 in c:\\users\\j\\miniconda3\\envs\\ramp_up_py395\\lib\\site-packages (from matplotlib!=3.6.1,>=3.1->seaborn) (3.0.9)\n",
            "Requirement already satisfied: fonttools>=4.22.0 in c:\\users\\j\\miniconda3\\envs\\ramp_up_py395\\lib\\site-packages (from matplotlib!=3.6.1,>=3.1->seaborn) (4.39.3)\n",
            "Requirement already satisfied: python-dateutil>=2.7 in c:\\users\\j\\miniconda3\\envs\\ramp_up_py395\\lib\\site-packages (from matplotlib!=3.6.1,>=3.1->seaborn) (2.8.2)\n",
            "Requirement already satisfied: cycler>=0.10 in c:\\users\\j\\miniconda3\\envs\\ramp_up_py395\\lib\\site-packages (from matplotlib!=3.6.1,>=3.1->seaborn) (0.11.0)\n",
            "Requirement already satisfied: importlib-resources>=3.2.0 in c:\\users\\j\\miniconda3\\envs\\ramp_up_py395\\lib\\site-packages (from matplotlib!=3.6.1,>=3.1->seaborn) (5.12.0)\n",
            "Requirement already satisfied: kiwisolver>=1.0.1 in c:\\users\\j\\miniconda3\\envs\\ramp_up_py395\\lib\\site-packages (from matplotlib!=3.6.1,>=3.1->seaborn) (1.4.4)\n",
            "Requirement already satisfied: pytz>=2020.1 in c:\\users\\j\\miniconda3\\envs\\ramp_up_py395\\lib\\site-packages (from pandas>=0.25->seaborn) (2023.3)\n",
            "Requirement already satisfied: tzdata>=2022.1 in c:\\users\\j\\miniconda3\\envs\\ramp_up_py395\\lib\\site-packages (from pandas>=0.25->seaborn) (2023.3)\n",
            "Requirement already satisfied: zipp>=3.1.0 in c:\\users\\j\\miniconda3\\envs\\ramp_up_py395\\lib\\site-packages (from importlib-resources>=3.2.0->matplotlib!=3.6.1,>=3.1->seaborn) (3.15.0)\n",
            "Requirement already satisfied: six>=1.5 in c:\\users\\j\\miniconda3\\envs\\ramp_up_py395\\lib\\site-packages (from python-dateutil>=2.7->matplotlib!=3.6.1,>=3.1->seaborn) (1.16.0)\n",
            "Installing collected packages: seaborn\n",
            "Successfully installed seaborn-0.12.2\n"
          ]
        }
      ],
      "source": [
        "!pip install seaborn"
      ]
    },
    {
      "cell_type": "code",
      "execution_count": 6,
      "metadata": {
        "id": "xIibAqHjugOD"
      },
      "outputs": [],
      "source": [
        "# Leer la documentación de PSYCOPG2\n",
        "import psycopg2"
      ]
    },
    {
      "cell_type": "code",
      "execution_count": 11,
      "metadata": {
        "id": "WNg87a_G0x4l"
      },
      "outputs": [],
      "source": [
        "## DB\n",
        "from sqlalchemy import create_engine\n",
        "import psycopg2\n",
        "\n",
        "## data analysis and wrangling\n",
        "import pandas as pd\n",
        "import numpy as np\n",
        "import random as rnd\n",
        "\n",
        "## visualization\n",
        "import seaborn as sns\n",
        "from scipy.stats import norm, skew\n",
        "from scipy import stats\n",
        "import matplotlib.pyplot as plt\n",
        "%matplotlib inline\n",
        "\n",
        "## Warnings and other tools\n",
        "import itertools\n",
        "import warnings\n",
        "warnings.filterwarnings(\"ignore\")"
      ]
    },
    {
      "cell_type": "code",
      "execution_count": 12,
      "metadata": {
        "id": "cPGRD0Pq06ma"
      },
      "outputs": [],
      "source": [
        "# Cargamos las credenciales de la base de datos\n",
        "\n",
        "host = \"thebridgechallenge.postgres.database.azure.com\"\n",
        "dbname = \"postgres\"\n",
        "user = \"postgres@thebridgechallenge\"\n",
        "password = \"TheBridge2023\"\n",
        "\n",
        "\n",
        "# Connect to the database\n",
        "conn = psycopg2.connect(host=host, dbname=dbname, user=user, password=password)"
      ]
    },
    {
      "cell_type": "code",
      "execution_count": null,
      "metadata": {
        "id": "NOSWiwkM09as"
      },
      "outputs": [],
      "source": [
        "# Cargamos en pandas la query anterior o consulta de una tabla (TABLE) o cargamos unas vistas (VIEW)\n",
        "\n",
        "# Obtenemos un dataframe"
      ]
    },
    {
      "cell_type": "code",
      "execution_count": null,
      "metadata": {
        "id": "co8RO-Si1ItZ"
      },
      "outputs": [],
      "source": [
        "# EDA...lo de siempre"
      ]
    },
    {
      "cell_type": "code",
      "execution_count": null,
      "metadata": {
        "id": "xrTWaszJ1Lak"
      },
      "outputs": [],
      "source": [
        "# INSIGHTS"
      ]
    },
    {
      "cell_type": "code",
      "execution_count": null,
      "metadata": {
        "id": "HhCkigci1NH1"
      },
      "outputs": [],
      "source": [
        "# Conclusiones"
      ]
    },
    {
      "cell_type": "code",
      "execution_count": null,
      "metadata": {
        "id": "9MVQVmsL1Ohj"
      },
      "outputs": [],
      "source": [
        "# Inferir datos con otras fuentes externas con API's"
      ]
    },
    {
      "cell_type": "code",
      "execution_count": null,
      "metadata": {
        "id": "ey6-4e5E1Yml"
      },
      "outputs": [],
      "source": [
        "# Pueden mostrar los datos en Power BI Desktop (free) / Tableau PRO (de pago)"
      ]
    },
    {
      "cell_type": "code",
      "execution_count": null,
      "metadata": {
        "id": "0_PpdhiW1jo1"
      },
      "outputs": [],
      "source": [
        "# Seguir las tareas restantes para paquetizar el trabajo anterior.\n",
        "\n",
        "# En caso de crear funciones utilizamos bien try...except...finally (pass)\n",
        "def nombre_funcion():\n",
        "  try:\n",
        "    (cond)\n",
        "    print(\"Función ejecutada estado 200\")\n",
        "  except Exception as e:\n",
        "    e\n",
        "    print(\"Ha fallado\")\n",
        "  finally:\n",
        "    print(\"otra condición final---- ejecutar otra tarea/función\")"
      ]
    },
    {
      "cell_type": "code",
      "execution_count": null,
      "metadata": {
        "id": "UinIoG052yl2"
      },
      "outputs": [],
      "source": [
        "# en caso de utilizar logging\n",
        "import logging\n",
        "\n",
        "logger = logging.getLogger()\n",
        "logger.info\n",
        "logger.warnings\n",
        "logger.alerts"
      ]
    }
  ],
  "metadata": {
    "colab": {
      "collapsed_sections": [],
      "name": "01_[Challenge]_DataAnalysis",
      "provenance": []
    },
    "kernelspec": {
      "display_name": "Python 3",
      "name": "python3"
    },
    "language_info": {
      "codemirror_mode": {
        "name": "ipython",
        "version": 3
      },
      "file_extension": ".py",
      "mimetype": "text/x-python",
      "name": "python",
      "nbconvert_exporter": "python",
      "pygments_lexer": "ipython3",
      "version": "3.9.5"
    }
  },
  "nbformat": 4,
  "nbformat_minor": 0
}
