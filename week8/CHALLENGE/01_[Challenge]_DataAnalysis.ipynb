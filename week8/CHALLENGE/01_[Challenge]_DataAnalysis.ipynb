{
  "cells": [
    {
      "cell_type": "code",
      "execution_count": 1,
      "metadata": {
        "colab": {
          "base_uri": "https://localhost:8080/"
        },
        "id": "Af5KqAT7ov-4",
        "outputId": "3e48c91c-cd18-4381-9ac1-4e1a8852aa40"
      },
      "outputs": [
        {
          "name": "stdout",
          "output_type": "stream",
          "text": [
            "Python: 3.9.5 (default, May 18 2021, 14:42:02) [MSC v.1916 64 bit (AMD64)]\n",
            "scipy: 1.10.1\n",
            "numpy: 1.24.3\n",
            "matplotlib: 3.7.1\n"
          ]
        }
      ],
      "source": [
        "# importamos las librería\n",
        "# Python version\n",
        "import sys\n",
        "print('Python: {}'.format(sys.version))\n",
        "# scipy\n",
        "import scipy\n",
        "print('scipy: {}'.format(scipy.__version__))\n",
        "# numpy\n",
        "import numpy\n",
        "print('numpy: {}'.format(numpy.__version__))\n",
        "# matplotlib\n",
        "import matplotlib\n",
        "print('matplotlib: {}'.format(matplotlib.__version__))"
      ]
    },
    {
      "cell_type": "code",
      "execution_count": 2,
      "metadata": {},
      "outputs": [
        {
          "name": "stdout",
          "output_type": "stream",
          "text": [
            "Requirement already satisfied: sqlalchemy in c:\\users\\j\\miniconda3\\envs\\ramp_up_py395\\lib\\site-packages (2.0.15)\n",
            "Requirement already satisfied: typing-extensions>=4.2.0 in c:\\users\\j\\miniconda3\\envs\\ramp_up_py395\\lib\\site-packages (from sqlalchemy) (4.5.0)\n",
            "Requirement already satisfied: greenlet!=0.4.17 in c:\\users\\j\\miniconda3\\envs\\ramp_up_py395\\lib\\site-packages (from sqlalchemy) (2.0.2)\n"
          ]
        }
      ],
      "source": [
        "!pip install sqlalchemy"
      ]
    },
    {
      "cell_type": "code",
      "execution_count": 3,
      "metadata": {
        "id": "cAjjZ0EhuQh_"
      },
      "outputs": [],
      "source": [
        "# Leer la documentación de SQLALCHEMY\n",
        "import sqlalchemy"
      ]
    },
    {
      "cell_type": "code",
      "execution_count": 4,
      "metadata": {
        "colab": {
          "base_uri": "https://localhost:8080/",
          "height": 191
        },
        "id": "2Ix0sGcfueWQ",
        "outputId": "2ee65fcb-d30c-416f-c326-0cf579bb0ef1"
      },
      "outputs": [
        {
          "name": "stdout",
          "output_type": "stream",
          "text": [
            "Requirement already satisfied: psycopg2 in c:\\users\\j\\miniconda3\\envs\\ramp_up_py395\\lib\\site-packages (2.9.6)\n"
          ]
        }
      ],
      "source": [
        "!pip install psycopg2"
      ]
    },
    {
      "cell_type": "code",
      "execution_count": 5,
      "metadata": {},
      "outputs": [
        {
          "name": "stdout",
          "output_type": "stream",
          "text": [
            "Requirement already satisfied: seaborn in c:\\users\\j\\miniconda3\\envs\\ramp_up_py395\\lib\\site-packages (0.12.2)\n",
            "Requirement already satisfied: pandas>=0.25 in c:\\users\\j\\miniconda3\\envs\\ramp_up_py395\\lib\\site-packages (from seaborn) (2.0.1)\n",
            "Requirement already satisfied: numpy!=1.24.0,>=1.17 in c:\\users\\j\\miniconda3\\envs\\ramp_up_py395\\lib\\site-packages (from seaborn) (1.24.3)\n",
            "Requirement already satisfied: matplotlib!=3.6.1,>=3.1 in c:\\users\\j\\miniconda3\\envs\\ramp_up_py395\\lib\\site-packages (from seaborn) (3.7.1)\n",
            "Requirement already satisfied: importlib-resources>=3.2.0 in c:\\users\\j\\miniconda3\\envs\\ramp_up_py395\\lib\\site-packages (from matplotlib!=3.6.1,>=3.1->seaborn) (5.12.0)\n",
            "Requirement already satisfied: pillow>=6.2.0 in c:\\users\\j\\miniconda3\\envs\\ramp_up_py395\\lib\\site-packages (from matplotlib!=3.6.1,>=3.1->seaborn) (9.5.0)\n",
            "Requirement already satisfied: pyparsing>=2.3.1 in c:\\users\\j\\miniconda3\\envs\\ramp_up_py395\\lib\\site-packages (from matplotlib!=3.6.1,>=3.1->seaborn) (3.0.9)\n",
            "Requirement already satisfied: kiwisolver>=1.0.1 in c:\\users\\j\\miniconda3\\envs\\ramp_up_py395\\lib\\site-packages (from matplotlib!=3.6.1,>=3.1->seaborn) (1.4.4)\n",
            "Requirement already satisfied: packaging>=20.0 in c:\\users\\j\\miniconda3\\envs\\ramp_up_py395\\lib\\site-packages (from matplotlib!=3.6.1,>=3.1->seaborn) (23.1)\n",
            "Requirement already satisfied: python-dateutil>=2.7 in c:\\users\\j\\miniconda3\\envs\\ramp_up_py395\\lib\\site-packages (from matplotlib!=3.6.1,>=3.1->seaborn) (2.8.2)\n",
            "Requirement already satisfied: contourpy>=1.0.1 in c:\\users\\j\\miniconda3\\envs\\ramp_up_py395\\lib\\site-packages (from matplotlib!=3.6.1,>=3.1->seaborn) (1.0.7)\n",
            "Requirement already satisfied: fonttools>=4.22.0 in c:\\users\\j\\miniconda3\\envs\\ramp_up_py395\\lib\\site-packages (from matplotlib!=3.6.1,>=3.1->seaborn) (4.39.3)\n",
            "Requirement already satisfied: cycler>=0.10 in c:\\users\\j\\miniconda3\\envs\\ramp_up_py395\\lib\\site-packages (from matplotlib!=3.6.1,>=3.1->seaborn) (0.11.0)\n",
            "Requirement already satisfied: pytz>=2020.1 in c:\\users\\j\\miniconda3\\envs\\ramp_up_py395\\lib\\site-packages (from pandas>=0.25->seaborn) (2023.3)\n",
            "Requirement already satisfied: tzdata>=2022.1 in c:\\users\\j\\miniconda3\\envs\\ramp_up_py395\\lib\\site-packages (from pandas>=0.25->seaborn) (2023.3)\n",
            "Requirement already satisfied: zipp>=3.1.0 in c:\\users\\j\\miniconda3\\envs\\ramp_up_py395\\lib\\site-packages (from importlib-resources>=3.2.0->matplotlib!=3.6.1,>=3.1->seaborn) (3.15.0)\n",
            "Requirement already satisfied: six>=1.5 in c:\\users\\j\\miniconda3\\envs\\ramp_up_py395\\lib\\site-packages (from python-dateutil>=2.7->matplotlib!=3.6.1,>=3.1->seaborn) (1.16.0)\n"
          ]
        }
      ],
      "source": [
        "!pip install seaborn"
      ]
    },
    {
      "cell_type": "code",
      "execution_count": 6,
      "metadata": {
        "id": "xIibAqHjugOD"
      },
      "outputs": [],
      "source": [
        "# Leer la documentación de PSYCOPG2\n",
        "import psycopg2"
      ]
    },
    {
      "cell_type": "code",
      "execution_count": 7,
      "metadata": {
        "id": "WNg87a_G0x4l"
      },
      "outputs": [],
      "source": [
        "## DB\n",
        "from sqlalchemy import create_engine\n",
        "import psycopg2\n",
        "\n",
        "## data analysis and wrangling\n",
        "import pandas as pd\n",
        "import numpy as np\n",
        "import random as rnd\n",
        "\n",
        "## visualization\n",
        "import seaborn as sns\n",
        "from scipy.stats import norm, skew\n",
        "from scipy import stats\n",
        "import matplotlib.pyplot as plt\n",
        "%matplotlib inline\n",
        "\n",
        "## Warnings and other tools\n",
        "import itertools\n",
        "import warnings\n",
        "warnings.filterwarnings(\"ignore\")"
      ]
    },
    {
      "cell_type": "code",
      "execution_count": 8,
      "metadata": {
        "id": "cPGRD0Pq06ma"
      },
      "outputs": [],
      "source": [
        "# Cargamos las credenciales de la base de datos\n",
        "\n",
        "host = \"thebridgechallenge.postgres.database.azure.com\"\n",
        "dbname = \"postgres\"\n",
        "user = \"postgres@thebridgechallenge\"\n",
        "password = \"TheBridge2023\"\n",
        "\n",
        "\n",
        "# Connect to the database\n",
        "conn = psycopg2.connect(host=host, dbname=dbname, user=user, password=password)"
      ]
    },
    {
      "cell_type": "code",
      "execution_count": 14,
      "metadata": {},
      "outputs": [],
      "source": [
        "cursor = conn.cursor()"
      ]
    },
    {
      "cell_type": "code",
      "execution_count": 38,
      "metadata": {},
      "outputs": [
        {
          "ename": "ProgrammingError",
          "evalue": "no results to fetch",
          "output_type": "error",
          "traceback": [
            "\u001b[1;31m---------------------------------------------------------------------------\u001b[0m",
            "\u001b[1;31mProgrammingError\u001b[0m                          Traceback (most recent call last)",
            "Cell \u001b[1;32mIn[38], line 1\u001b[0m\n\u001b[1;32m----> 1\u001b[0m cursor\u001b[39m.\u001b[39;49mfetchone()\n",
            "\u001b[1;31mProgrammingError\u001b[0m: no results to fetch"
          ]
        }
      ],
      "source": [
        "cursor.fetchone()"
      ]
    },
    {
      "cell_type": "code",
      "execution_count": 39,
      "metadata": {},
      "outputs": [
        {
          "ename": "ProgrammingError",
          "evalue": "no results to fetch",
          "output_type": "error",
          "traceback": [
            "\u001b[1;31m---------------------------------------------------------------------------\u001b[0m",
            "\u001b[1;31mProgrammingError\u001b[0m                          Traceback (most recent call last)",
            "Cell \u001b[1;32mIn[39], line 1\u001b[0m\n\u001b[1;32m----> 1\u001b[0m cursor\u001b[39m.\u001b[39;49mfetchall()\n",
            "\u001b[1;31mProgrammingError\u001b[0m: no results to fetch"
          ]
        }
      ],
      "source": [
        "cursor.fetchall()"
      ]
    },
    {
      "cell_type": "code",
      "execution_count": 33,
      "metadata": {},
      "outputs": [],
      "source": [
        "cursor.execute(\"SELECT * FROM information_schema.tables WHERE table_schema='public'AND table_type='BASE TABLE';\")"
      ]
    },
    {
      "cell_type": "code",
      "execution_count": 15,
      "metadata": {},
      "outputs": [
        {
          "ename": "DatabaseError",
          "evalue": "Execution failed on sql ' \n SELECT *\n FROM orders\n ': relation \"orders\" does not exist\nLINE 3:  FROM orders\n              ^\n",
          "output_type": "error",
          "traceback": [
            "\u001b[1;31m---------------------------------------------------------------------------\u001b[0m",
            "\u001b[1;31mUndefinedTable\u001b[0m                            Traceback (most recent call last)",
            "File \u001b[1;32mc:\\Users\\j\\miniconda3\\envs\\ramp_up_py395\\lib\\site-packages\\pandas\\io\\sql.py:2200\u001b[0m, in \u001b[0;36mSQLiteDatabase.execute\u001b[1;34m(self, sql, params)\u001b[0m\n\u001b[0;32m   2199\u001b[0m \u001b[39mtry\u001b[39;00m:\n\u001b[1;32m-> 2200\u001b[0m     cur\u001b[39m.\u001b[39;49mexecute(sql, \u001b[39m*\u001b[39;49margs)\n\u001b[0;32m   2201\u001b[0m     \u001b[39mreturn\u001b[39;00m cur\n",
            "\u001b[1;31mUndefinedTable\u001b[0m: relation \"orders\" does not exist\nLINE 3:  FROM orders\n              ^\n",
            "\nThe above exception was the direct cause of the following exception:\n",
            "\u001b[1;31mDatabaseError\u001b[0m                             Traceback (most recent call last)",
            "Cell \u001b[1;32mIn[15], line 5\u001b[0m\n\u001b[0;32m      1\u001b[0m q\u001b[39m=\u001b[39m\u001b[39m\"\"\"\u001b[39m\u001b[39m \u001b[39m\n\u001b[0;32m      2\u001b[0m \u001b[39m SELECT *\u001b[39m\n\u001b[0;32m      3\u001b[0m \u001b[39m FROM orders\u001b[39m\n\u001b[0;32m      4\u001b[0m \u001b[39m \u001b[39m\u001b[39m\"\"\"\u001b[39m\n\u001b[1;32m----> 5\u001b[0m df \u001b[39m=\u001b[39m pd\u001b[39m.\u001b[39;49mread_sql(q, conn)\n\u001b[0;32m      6\u001b[0m df\n",
            "File \u001b[1;32mc:\\Users\\j\\miniconda3\\envs\\ramp_up_py395\\lib\\site-packages\\pandas\\io\\sql.py:633\u001b[0m, in \u001b[0;36mread_sql\u001b[1;34m(sql, con, index_col, coerce_float, params, parse_dates, columns, chunksize, dtype_backend, dtype)\u001b[0m\n\u001b[0;32m    631\u001b[0m \u001b[39mwith\u001b[39;00m pandasSQL_builder(con) \u001b[39mas\u001b[39;00m pandas_sql:\n\u001b[0;32m    632\u001b[0m     \u001b[39mif\u001b[39;00m \u001b[39misinstance\u001b[39m(pandas_sql, SQLiteDatabase):\n\u001b[1;32m--> 633\u001b[0m         \u001b[39mreturn\u001b[39;00m pandas_sql\u001b[39m.\u001b[39;49mread_query(\n\u001b[0;32m    634\u001b[0m             sql,\n\u001b[0;32m    635\u001b[0m             index_col\u001b[39m=\u001b[39;49mindex_col,\n\u001b[0;32m    636\u001b[0m             params\u001b[39m=\u001b[39;49mparams,\n\u001b[0;32m    637\u001b[0m             coerce_float\u001b[39m=\u001b[39;49mcoerce_float,\n\u001b[0;32m    638\u001b[0m             parse_dates\u001b[39m=\u001b[39;49mparse_dates,\n\u001b[0;32m    639\u001b[0m             chunksize\u001b[39m=\u001b[39;49mchunksize,\n\u001b[0;32m    640\u001b[0m             dtype_backend\u001b[39m=\u001b[39;49mdtype_backend,  \u001b[39m# type: ignore[arg-type]\u001b[39;49;00m\n\u001b[0;32m    641\u001b[0m             dtype\u001b[39m=\u001b[39;49mdtype,\n\u001b[0;32m    642\u001b[0m         )\n\u001b[0;32m    644\u001b[0m     \u001b[39mtry\u001b[39;00m:\n\u001b[0;32m    645\u001b[0m         _is_table_name \u001b[39m=\u001b[39m pandas_sql\u001b[39m.\u001b[39mhas_table(sql)\n",
            "File \u001b[1;32mc:\\Users\\j\\miniconda3\\envs\\ramp_up_py395\\lib\\site-packages\\pandas\\io\\sql.py:2264\u001b[0m, in \u001b[0;36mSQLiteDatabase.read_query\u001b[1;34m(self, sql, index_col, coerce_float, parse_dates, params, chunksize, dtype, dtype_backend)\u001b[0m\n\u001b[0;32m   2253\u001b[0m \u001b[39mdef\u001b[39;00m \u001b[39mread_query\u001b[39m(\n\u001b[0;32m   2254\u001b[0m     \u001b[39mself\u001b[39m,\n\u001b[0;32m   2255\u001b[0m     sql,\n\u001b[1;32m   (...)\u001b[0m\n\u001b[0;32m   2262\u001b[0m     dtype_backend: DtypeBackend \u001b[39m|\u001b[39m Literal[\u001b[39m\"\u001b[39m\u001b[39mnumpy\u001b[39m\u001b[39m\"\u001b[39m] \u001b[39m=\u001b[39m \u001b[39m\"\u001b[39m\u001b[39mnumpy\u001b[39m\u001b[39m\"\u001b[39m,\n\u001b[0;32m   2263\u001b[0m ) \u001b[39m-\u001b[39m\u001b[39m>\u001b[39m DataFrame \u001b[39m|\u001b[39m Iterator[DataFrame]:\n\u001b[1;32m-> 2264\u001b[0m     cursor \u001b[39m=\u001b[39m \u001b[39mself\u001b[39;49m\u001b[39m.\u001b[39;49mexecute(sql, params)\n\u001b[0;32m   2265\u001b[0m     columns \u001b[39m=\u001b[39m [col_desc[\u001b[39m0\u001b[39m] \u001b[39mfor\u001b[39;00m col_desc \u001b[39min\u001b[39;00m cursor\u001b[39m.\u001b[39mdescription]\n\u001b[0;32m   2267\u001b[0m     \u001b[39mif\u001b[39;00m chunksize \u001b[39mis\u001b[39;00m \u001b[39mnot\u001b[39;00m \u001b[39mNone\u001b[39;00m:\n",
            "File \u001b[1;32mc:\\Users\\j\\miniconda3\\envs\\ramp_up_py395\\lib\\site-packages\\pandas\\io\\sql.py:2212\u001b[0m, in \u001b[0;36mSQLiteDatabase.execute\u001b[1;34m(self, sql, params)\u001b[0m\n\u001b[0;32m   2209\u001b[0m     \u001b[39mraise\u001b[39;00m ex \u001b[39mfrom\u001b[39;00m \u001b[39minner_exc\u001b[39;00m\n\u001b[0;32m   2211\u001b[0m ex \u001b[39m=\u001b[39m DatabaseError(\u001b[39mf\u001b[39m\u001b[39m\"\u001b[39m\u001b[39mExecution failed on sql \u001b[39m\u001b[39m'\u001b[39m\u001b[39m{\u001b[39;00msql\u001b[39m}\u001b[39;00m\u001b[39m'\u001b[39m\u001b[39m: \u001b[39m\u001b[39m{\u001b[39;00mexc\u001b[39m}\u001b[39;00m\u001b[39m\"\u001b[39m)\n\u001b[1;32m-> 2212\u001b[0m \u001b[39mraise\u001b[39;00m ex \u001b[39mfrom\u001b[39;00m \u001b[39mexc\u001b[39;00m\n",
            "\u001b[1;31mDatabaseError\u001b[0m: Execution failed on sql ' \n SELECT *\n FROM orders\n ': relation \"orders\" does not exist\nLINE 3:  FROM orders\n              ^\n"
          ]
        }
      ],
      "source": [
        "q=\"\"\" \n",
        " SELECT *\n",
        " FROM orders\n",
        " \"\"\"\n",
        "df = pd.read_sql(q, conn)\n",
        "df"
      ]
    },
    {
      "cell_type": "code",
      "execution_count": null,
      "metadata": {
        "id": "NOSWiwkM09as"
      },
      "outputs": [],
      "source": [
        "# Cargamos en pandas la query anterior o consulta de una tabla (TABLE) o cargamos unas vistas (VIEW)\n",
        "\n",
        "# Obtenemos un dataframe"
      ]
    },
    {
      "cell_type": "code",
      "execution_count": null,
      "metadata": {
        "id": "co8RO-Si1ItZ"
      },
      "outputs": [],
      "source": [
        "# EDA...lo de siempre"
      ]
    },
    {
      "cell_type": "code",
      "execution_count": null,
      "metadata": {
        "id": "xrTWaszJ1Lak"
      },
      "outputs": [],
      "source": [
        "# INSIGHTS"
      ]
    },
    {
      "cell_type": "code",
      "execution_count": null,
      "metadata": {
        "id": "HhCkigci1NH1"
      },
      "outputs": [],
      "source": [
        "# Conclusiones"
      ]
    },
    {
      "cell_type": "code",
      "execution_count": null,
      "metadata": {
        "id": "9MVQVmsL1Ohj"
      },
      "outputs": [],
      "source": [
        "# Inferir datos con otras fuentes externas con API's"
      ]
    },
    {
      "cell_type": "code",
      "execution_count": null,
      "metadata": {
        "id": "ey6-4e5E1Yml"
      },
      "outputs": [],
      "source": [
        "# Pueden mostrar los datos en Power BI Desktop (free) / Tableau PRO (de pago)"
      ]
    },
    {
      "cell_type": "code",
      "execution_count": null,
      "metadata": {
        "id": "0_PpdhiW1jo1"
      },
      "outputs": [],
      "source": [
        "# Seguir las tareas restantes para paquetizar el trabajo anterior.\n",
        "\n",
        "# En caso de crear funciones utilizamos bien try...except...finally (pass)\n",
        "def nombre_funcion():\n",
        "  try:\n",
        "    (cond)\n",
        "    print(\"Función ejecutada estado 200\")\n",
        "  except Exception as e:\n",
        "    e\n",
        "    print(\"Ha fallado\")\n",
        "  finally:\n",
        "    print(\"otra condición final---- ejecutar otra tarea/función\")"
      ]
    },
    {
      "cell_type": "code",
      "execution_count": null,
      "metadata": {
        "id": "UinIoG052yl2"
      },
      "outputs": [],
      "source": [
        "# en caso de utilizar logging\n",
        "import logging\n",
        "\n",
        "logger = logging.getLogger()\n",
        "logger.info\n",
        "logger.warnings\n",
        "logger.alerts"
      ]
    }
  ],
  "metadata": {
    "colab": {
      "collapsed_sections": [],
      "name": "01_[Challenge]_DataAnalysis",
      "provenance": []
    },
    "kernelspec": {
      "display_name": "Python 3",
      "name": "python3"
    },
    "language_info": {
      "codemirror_mode": {
        "name": "ipython",
        "version": 3
      },
      "file_extension": ".py",
      "mimetype": "text/x-python",
      "name": "python",
      "nbconvert_exporter": "python",
      "pygments_lexer": "ipython3",
      "version": "3.9.5"
    }
  },
  "nbformat": 4,
  "nbformat_minor": 0
}
