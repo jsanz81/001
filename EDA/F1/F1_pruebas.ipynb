{
 "cells": [
  {
   "cell_type": "code",
   "execution_count": 3,
   "metadata": {},
   "outputs": [],
   "source": [
    "import pandas as pd\n",
    "import numpy as np\n",
    "import sqlite3\n",
    "import os\n",
    "import re"
   ]
  },
  {
   "attachments": {},
   "cell_type": "markdown",
   "metadata": {},
   "source": [
    "* 13 csv"
   ]
  },
  {
   "cell_type": "code",
   "execution_count": 4,
   "metadata": {},
   "outputs": [],
   "source": [
    "circuits=pd.read_csv(r'./circuits.csv')\n",
    "constructor_results=pd.read_csv(r'./constructor_results.csv')\n",
    "constructor_standings=pd.read_csv(r'./constructor_standings.csv')\n",
    "driver_standings=pd.read_csv(r'./driver_standings.csv')\n",
    "drivers=pd.read_csv (r'./drivers.csv')\n",
    "lap_times=pd.read_csv(r'./lap_times.csv')\n",
    "pit_stops=pd.read_csv(r'./pit_stops.csv')\n",
    "qualifying=pd.read_csv(r'./qualifying.csv')\n",
    "races=pd.read_csv(r'./races.csv')\n",
    "results=pd.read_csv(r'./results.csv')\n",
    "seasons=pd.read_csv(r'./seasons.csv')\n",
    "sprint_results=pd.read_csv(r'./sprint_results.csv')\n",
    "status=pd.read_csv(r'./status.csv')\n"
   ]
  },
  {
   "cell_type": "code",
   "execution_count": 5,
   "metadata": {},
   "outputs": [
    {
     "data": {
      "text/html": [
       "<div>\n",
       "<style scoped>\n",
       "    .dataframe tbody tr th:only-of-type {\n",
       "        vertical-align: middle;\n",
       "    }\n",
       "\n",
       "    .dataframe tbody tr th {\n",
       "        vertical-align: top;\n",
       "    }\n",
       "\n",
       "    .dataframe thead th {\n",
       "        text-align: right;\n",
       "    }\n",
       "</style>\n",
       "<table border=\"1\" class=\"dataframe\">\n",
       "  <thead>\n",
       "    <tr style=\"text-align: right;\">\n",
       "      <th></th>\n",
       "      <th>statusId</th>\n",
       "      <th>status</th>\n",
       "    </tr>\n",
       "  </thead>\n",
       "  <tbody>\n",
       "    <tr>\n",
       "      <th>26</th>\n",
       "      <td>27</td>\n",
       "      <td>Tyre</td>\n",
       "    </tr>\n",
       "    <tr>\n",
       "      <th>58</th>\n",
       "      <td>59</td>\n",
       "      <td>Tyre puncture</td>\n",
       "    </tr>\n",
       "  </tbody>\n",
       "</table>\n",
       "</div>"
      ],
      "text/plain": [
       "    statusId         status\n",
       "26        27           Tyre\n",
       "58        59  Tyre puncture"
      ]
     },
     "execution_count": 5,
     "metadata": {},
     "output_type": "execute_result"
    }
   ],
   "source": [
    "status[status.status.str.contains(\"[Tt]yre\")]\n",
    "# usar regex para filtrar valores de columnas\n",
    "\n",
    "# otra forma\n",
    "status.query('status.str.contains(\"[Tt]yre\")')"
   ]
  },
  {
   "cell_type": "code",
   "execution_count": 6,
   "metadata": {},
   "outputs": [
    {
     "name": "stderr",
     "output_type": "stream",
     "text": [
      "C:\\Users\\j\\AppData\\Local\\Temp\\ipykernel_18248\\568064965.py:1: UserWarning: Could not infer format, so each element will be parsed individually, falling back to `dateutil`. To ensure parsing is consistent and as-expected, please specify a format.\n",
      "  pit_stops.time= pd.to_datetime(pit_stops.time)\n"
     ]
    }
   ],
   "source": [
    "pit_stops.time= pd.to_datetime(pit_stops.time)"
   ]
  },
  {
   "cell_type": "code",
   "execution_count": 7,
   "metadata": {},
   "outputs": [],
   "source": [
    "races11_23=races[[\"year\", \"raceId\"]][races.raceId>841]\n",
    "# seleccionar carreras desde el 2011 en adelante, cuando cambió la norma y por seguridad ya no se permite repostaje"
   ]
  },
  {
   "attachments": {},
   "cell_type": "markdown",
   "metadata": {},
   "source": [
    "* DataFrame: statusId1 \n",
    "* df filtrar results09_23 por statusId=1. *Conductores que han terminado la carrera*"
   ]
  },
  {
   "cell_type": "code",
   "execution_count": 8,
   "metadata": {},
   "outputs": [
    {
     "ename": "NameError",
     "evalue": "name 'results09_23' is not defined",
     "output_type": "error",
     "traceback": [
      "\u001b[1;31m---------------------------------------------------------------------------\u001b[0m",
      "\u001b[1;31mNameError\u001b[0m                                 Traceback (most recent call last)",
      "Cell \u001b[1;32mIn[8], line 4\u001b[0m\n\u001b[0;32m      1\u001b[0m \u001b[39m# statusId1 \u001b[39;00m\n\u001b[0;32m      2\u001b[0m \u001b[39m# df filtrar results09_23 por statusId=1. *Conductores que han terminado la carrera*\u001b[39;00m\n\u001b[1;32m----> 4\u001b[0m statusId1 \u001b[39m=\u001b[39m results09_23[results09_23\u001b[39m.\u001b[39mstatusId\u001b[39m==\u001b[39m\u001b[39m1\u001b[39m]\n\u001b[0;32m      5\u001b[0m statusId1\u001b[39m.\u001b[39msample(\u001b[39m2\u001b[39m)\n",
      "\u001b[1;31mNameError\u001b[0m: name 'results09_23' is not defined"
     ]
    }
   ],
   "source": [
    "# statusId1 \n",
    "# df filtrar results09_23 por statusId=1. *Conductores que han terminado la carrera*\n",
    "\n",
    "statusId1 = results09_23[results09_23.statusId==1]\n",
    "statusId1.sample(2)"
   ]
  },
  {
   "cell_type": "code",
   "execution_count": null,
   "metadata": {},
   "outputs": [
    {
     "data": {
      "text/html": [
       "<div>\n",
       "<style scoped>\n",
       "    .dataframe tbody tr th:only-of-type {\n",
       "        vertical-align: middle;\n",
       "    }\n",
       "\n",
       "    .dataframe tbody tr th {\n",
       "        vertical-align: top;\n",
       "    }\n",
       "\n",
       "    .dataframe thead th {\n",
       "        text-align: right;\n",
       "    }\n",
       "</style>\n",
       "<table border=\"1\" class=\"dataframe\">\n",
       "  <thead>\n",
       "    <tr style=\"text-align: right;\">\n",
       "      <th></th>\n",
       "      <th>statusId</th>\n",
       "      <th>status</th>\n",
       "    </tr>\n",
       "  </thead>\n",
       "  <tbody>\n",
       "    <tr>\n",
       "      <th>0</th>\n",
       "      <td>1</td>\n",
       "      <td>Finished</td>\n",
       "    </tr>\n",
       "    <tr>\n",
       "      <th>1</th>\n",
       "      <td>2</td>\n",
       "      <td>Disqualified</td>\n",
       "    </tr>\n",
       "    <tr>\n",
       "      <th>2</th>\n",
       "      <td>3</td>\n",
       "      <td>Accident</td>\n",
       "    </tr>\n",
       "    <tr>\n",
       "      <th>3</th>\n",
       "      <td>4</td>\n",
       "      <td>Collision</td>\n",
       "    </tr>\n",
       "    <tr>\n",
       "      <th>4</th>\n",
       "      <td>5</td>\n",
       "      <td>Engine</td>\n",
       "    </tr>\n",
       "    <tr>\n",
       "      <th>...</th>\n",
       "      <td>...</td>\n",
       "      <td>...</td>\n",
       "    </tr>\n",
       "    <tr>\n",
       "      <th>134</th>\n",
       "      <td>137</td>\n",
       "      <td>Damage</td>\n",
       "    </tr>\n",
       "    <tr>\n",
       "      <th>135</th>\n",
       "      <td>138</td>\n",
       "      <td>Debris</td>\n",
       "    </tr>\n",
       "    <tr>\n",
       "      <th>136</th>\n",
       "      <td>139</td>\n",
       "      <td>Illness</td>\n",
       "    </tr>\n",
       "    <tr>\n",
       "      <th>137</th>\n",
       "      <td>140</td>\n",
       "      <td>Undertray</td>\n",
       "    </tr>\n",
       "    <tr>\n",
       "      <th>138</th>\n",
       "      <td>141</td>\n",
       "      <td>Cooling system</td>\n",
       "    </tr>\n",
       "  </tbody>\n",
       "</table>\n",
       "<p>139 rows × 2 columns</p>\n",
       "</div>"
      ],
      "text/plain": [
       "     statusId          status\n",
       "0           1        Finished\n",
       "1           2    Disqualified\n",
       "2           3        Accident\n",
       "3           4       Collision\n",
       "4           5          Engine\n",
       "..        ...             ...\n",
       "134       137          Damage\n",
       "135       138          Debris\n",
       "136       139         Illness\n",
       "137       140       Undertray\n",
       "138       141  Cooling system\n",
       "\n",
       "[139 rows x 2 columns]"
      ]
     },
     "execution_count": 7,
     "metadata": {},
     "output_type": "execute_result"
    }
   ],
   "source": [
    "status[status.statusId==11]"
   ]
  },
  {
   "cell_type": "code",
   "execution_count": null,
   "metadata": {},
   "outputs": [
    {
     "ename": "NameError",
     "evalue": "name 'results' is not defined",
     "output_type": "error",
     "traceback": [
      "\u001b[1;31m---------------------------------------------------------------------------\u001b[0m",
      "\u001b[1;31mNameError\u001b[0m                                 Traceback (most recent call last)",
      "Cell \u001b[1;32mIn[1], line 2\u001b[0m\n\u001b[0;32m      1\u001b[0m \u001b[39m# CARRERAS DONDE ALONSO HA SIDO 1º 2º o 3º\u001b[39;00m\n\u001b[1;32m----> 2\u001b[0m alonso_1_2_3\u001b[39m=\u001b[39mresults[[\u001b[39m\"\u001b[39m\u001b[39mraceId\u001b[39m\u001b[39m\"\u001b[39m,\u001b[39m\"\u001b[39m\u001b[39mdriverId\u001b[39m\u001b[39m\"\u001b[39m, \u001b[39m\"\u001b[39m\u001b[39mposition\u001b[39m\u001b[39m\"\u001b[39m]]\u001b[39m.\u001b[39mgroupby(\u001b[39m\"\u001b[39m\u001b[39mdriverId\u001b[39m\u001b[39m\"\u001b[39m)\u001b[39m.\u001b[39mget_group(\u001b[39m4\u001b[39m)[(results\u001b[39m.\u001b[39mposition\u001b[39m==\u001b[39m\u001b[39m\"\u001b[39m\u001b[39m1\u001b[39m\u001b[39m\"\u001b[39m)\u001b[39m|\u001b[39m(results\u001b[39m.\u001b[39mposition\u001b[39m==\u001b[39m\u001b[39m\"\u001b[39m\u001b[39m2\u001b[39m\u001b[39m\"\u001b[39m)\u001b[39m|\u001b[39m(results\u001b[39m.\u001b[39mposition\u001b[39m==\u001b[39m\u001b[39m\"\u001b[39m\u001b[39m3\u001b[39m\u001b[39m\"\u001b[39m)]\n\u001b[0;32m      3\u001b[0m alonso_1_2_3\n",
      "\u001b[1;31mNameError\u001b[0m: name 'results' is not defined"
     ]
    }
   ],
   "source": [
    "# CARRERAS DONDE ALONSO HA SIDO 1º 2º o 3º\n",
    "alonso_1_2_3=results[[\"raceId\",\"driverId\", \"position\"]].groupby(\"driverId\").get_group(4)[(results.position==\"1\")|(results.position==\"2\")|(results.position==\"3\")]\n",
    "alonso_1_2_3"
   ]
  },
  {
   "cell_type": "code",
   "execution_count": null,
   "metadata": {},
   "outputs": [
    {
     "ename": "NameError",
     "evalue": "name 'results' is not defined",
     "output_type": "error",
     "traceback": [
      "\u001b[1;31m---------------------------------------------------------------------------\u001b[0m",
      "\u001b[1;31mNameError\u001b[0m                                 Traceback (most recent call last)",
      "Cell \u001b[1;32mIn[2], line 1\u001b[0m\n\u001b[1;32m----> 1\u001b[0m results\u001b[39m.\u001b[39mgroupby(\u001b[39m\"\u001b[39m\u001b[39mdriverId\u001b[39m\u001b[39m\"\u001b[39m)\u001b[39m.\u001b[39msize()\n",
      "\u001b[1;31mNameError\u001b[0m: name 'results' is not defined"
     ]
    }
   ],
   "source": [
    "results.groupby(\"driverId\").size()"
   ]
  },
  {
   "cell_type": "code",
   "execution_count": 14,
   "metadata": {},
   "outputs": [],
   "source": [
    "r=pd.merge(results, pit_stops, on=[\"raceId\", \"driverId\"])"
   ]
  },
  {
   "cell_type": "code",
   "execution_count": 16,
   "metadata": {},
   "outputs": [
    {
     "data": {
      "text/html": [
       "<div>\n",
       "<style scoped>\n",
       "    .dataframe tbody tr th:only-of-type {\n",
       "        vertical-align: middle;\n",
       "    }\n",
       "\n",
       "    .dataframe tbody tr th {\n",
       "        vertical-align: top;\n",
       "    }\n",
       "\n",
       "    .dataframe thead th {\n",
       "        text-align: right;\n",
       "    }\n",
       "</style>\n",
       "<table border=\"1\" class=\"dataframe\">\n",
       "  <thead>\n",
       "    <tr style=\"text-align: right;\">\n",
       "      <th></th>\n",
       "      <th>resultId</th>\n",
       "      <th>raceId</th>\n",
       "      <th>driverId</th>\n",
       "      <th>constructorId</th>\n",
       "      <th>number</th>\n",
       "      <th>grid</th>\n",
       "      <th>position</th>\n",
       "      <th>positionText</th>\n",
       "      <th>positionOrder</th>\n",
       "      <th>points</th>\n",
       "      <th>...</th>\n",
       "      <th>fastestLap</th>\n",
       "      <th>rank</th>\n",
       "      <th>fastestLapTime</th>\n",
       "      <th>fastestLapSpeed</th>\n",
       "      <th>statusId</th>\n",
       "      <th>stop</th>\n",
       "      <th>lap</th>\n",
       "      <th>time_y</th>\n",
       "      <th>duration</th>\n",
       "      <th>milliseconds_y</th>\n",
       "    </tr>\n",
       "  </thead>\n",
       "  <tbody>\n",
       "    <tr>\n",
       "      <th>1982</th>\n",
       "      <td>21678</td>\n",
       "      <td>878</td>\n",
       "      <td>814</td>\n",
       "      <td>10</td>\n",
       "      <td>11</td>\n",
       "      <td>13</td>\n",
       "      <td>15</td>\n",
       "      <td>15</td>\n",
       "      <td>15</td>\n",
       "      <td>0.0</td>\n",
       "      <td>...</td>\n",
       "      <td>55</td>\n",
       "      <td>9</td>\n",
       "      <td>1:40.594</td>\n",
       "      <td>197.296</td>\n",
       "      <td>11</td>\n",
       "      <td>2</td>\n",
       "      <td>30</td>\n",
       "      <td>2023-06-22 13:56:45</td>\n",
       "      <td>22.444</td>\n",
       "      <td>22444</td>\n",
       "    </tr>\n",
       "    <tr>\n",
       "      <th>542</th>\n",
       "      <td>20982</td>\n",
       "      <td>849</td>\n",
       "      <td>814</td>\n",
       "      <td>10</td>\n",
       "      <td>15</td>\n",
       "      <td>6</td>\n",
       "      <td>15</td>\n",
       "      <td>15</td>\n",
       "      <td>15</td>\n",
       "      <td>0.0</td>\n",
       "      <td>...</td>\n",
       "      <td>48</td>\n",
       "      <td>16</td>\n",
       "      <td>1:37.936</td>\n",
       "      <td>216.545</td>\n",
       "      <td>11</td>\n",
       "      <td>3</td>\n",
       "      <td>26</td>\n",
       "      <td>2023-06-22 13:50:52</td>\n",
       "      <td>31.471</td>\n",
       "      <td>31471</td>\n",
       "    </tr>\n",
       "    <tr>\n",
       "      <th>8737</th>\n",
       "      <td>25355</td>\n",
       "      <td>1051</td>\n",
       "      <td>20</td>\n",
       "      <td>117</td>\n",
       "      <td>5</td>\n",
       "      <td>10</td>\n",
       "      <td>10</td>\n",
       "      <td>10</td>\n",
       "      <td>10</td>\n",
       "      <td>1.0</td>\n",
       "      <td>...</td>\n",
       "      <td>53</td>\n",
       "      <td>7</td>\n",
       "      <td>1:26.434</td>\n",
       "      <td>224.078</td>\n",
       "      <td>11</td>\n",
       "      <td>1</td>\n",
       "      <td>26</td>\n",
       "      <td>2023-06-22 17:43:20</td>\n",
       "      <td>25.726</td>\n",
       "      <td>25726</td>\n",
       "    </tr>\n",
       "    <tr>\n",
       "      <th>6696</th>\n",
       "      <td>24127</td>\n",
       "      <td>1006</td>\n",
       "      <td>822</td>\n",
       "      <td>131</td>\n",
       "      <td>77</td>\n",
       "      <td>3</td>\n",
       "      <td>5</td>\n",
       "      <td>5</td>\n",
       "      <td>5</td>\n",
       "      <td>10.0</td>\n",
       "      <td>...</td>\n",
       "      <td>46</td>\n",
       "      <td>4</td>\n",
       "      <td>1:38.470</td>\n",
       "      <td>201.551</td>\n",
       "      <td>1</td>\n",
       "      <td>1</td>\n",
       "      <td>23</td>\n",
       "      <td>2023-06-22 13:53:07</td>\n",
       "      <td>23.478</td>\n",
       "      <td>23478</td>\n",
       "    </tr>\n",
       "  </tbody>\n",
       "</table>\n",
       "<p>4 rows × 23 columns</p>\n",
       "</div>"
      ],
      "text/plain": [
       "      resultId  raceId  driverId  constructorId number  grid position   \n",
       "1982     21678     878       814             10     11    13       15  \\\n",
       "542      20982     849       814             10     15     6       15   \n",
       "8737     25355    1051        20            117      5    10       10   \n",
       "6696     24127    1006       822            131     77     3        5   \n",
       "\n",
       "     positionText  positionOrder  points  ...  fastestLap rank fastestLapTime   \n",
       "1982           15             15     0.0  ...          55    9       1:40.594  \\\n",
       "542            15             15     0.0  ...          48   16       1:37.936   \n",
       "8737           10             10     1.0  ...          53    7       1:26.434   \n",
       "6696            5              5    10.0  ...          46    4       1:38.470   \n",
       "\n",
       "     fastestLapSpeed statusId stop lap              time_y  duration   \n",
       "1982         197.296       11    2  30 2023-06-22 13:56:45    22.444  \\\n",
       "542          216.545       11    3  26 2023-06-22 13:50:52    31.471   \n",
       "8737         224.078       11    1  26 2023-06-22 17:43:20    25.726   \n",
       "6696         201.551        1    1  23 2023-06-22 13:53:07    23.478   \n",
       "\n",
       "      milliseconds_y  \n",
       "1982           22444  \n",
       "542            31471  \n",
       "8737           25726  \n",
       "6696           23478  \n",
       "\n",
       "[4 rows x 23 columns]"
      ]
     },
     "execution_count": 16,
     "metadata": {},
     "output_type": "execute_result"
    }
   ],
   "source": [
    "r.sample(4)"
   ]
  }
 ],
 "metadata": {
  "kernelspec": {
   "display_name": "Python 3 (ipykernel)",
   "language": "python",
   "name": "python3"
  },
  "language_info": {
   "codemirror_mode": {
    "name": "ipython",
    "version": 3
   },
   "file_extension": ".py",
   "mimetype": "text/x-python",
   "name": "python",
   "nbconvert_exporter": "python",
   "pygments_lexer": "ipython3",
   "version": "3.9.5"
  },
  "orig_nbformat": 4
 },
 "nbformat": 4,
 "nbformat_minor": 2
}
