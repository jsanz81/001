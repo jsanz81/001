{
 "cells": [
  {
   "attachments": {},
   "cell_type": "markdown",
   "metadata": {},
   "source": [
    "# _Influencia de la duración de piststops en carreras de F1_"
   ]
  },
  {
   "attachments": {},
   "cell_type": "markdown",
   "metadata": {},
   "source": [
    "* Hipótesis:  \n",
    "\n",
    "- Mejor media de tiempos por carrera y temporada aumenta las posiciones en carrera y al final de temporada  \n",
    "\n",
    "- Idem para constructores  \n",
    "\n",
    "- Diferencias entre conductores de una mismo equipo"
   ]
  },
  {
   "attachments": {},
   "cell_type": "markdown",
   "metadata": {},
   "source": [
    "<img src=\"F1_logo.jpg\"  width=\"200\"> <p>\n",
    "<img src=\"pitStopAstonMartin.jpg\"  width=\"600\" height=\"300\">"
   ]
  },
  {
   "attachments": {},
   "cell_type": "markdown",
   "metadata": {},
   "source": [
    "### <span style=\"color:RED\"> DATASET</span>\n",
    "\n",
    "#### CSV's EXTRAIDOS DE ergast.com  \n",
    "\n",
    "* Ofrece resultados de todas las carreras desde 1950 hasta hoy.  \n",
    "\n",
    "* Paquete ergast_py  \n",
    "https://pypi.org/project/ergast-py/\n",
    "\n",
    "* API con datos actualizados tras cada carrera  \n",
    "  \n",
    "  * API documentación http://ergast.com/mrd/  \n",
    "    \n",
    "* Libreria propia para acceder a la API  \n",
    "    pyERGAST\n",
    "\n",
    "\n",
    "#### Ofrecen todo el paquete de csv hasta la carrera más reciente  \n",
    "* f1db_csv.zip  \n",
    "http://ergast.com/downloads/f1db_csv.zip  \n",
    "\n",
    "* Diagrama de la BD  \n",
    "http://ergast.com/images/ergast_db.png  \n",
    "\n",
    "* Esquema de la BD  \n",
    "http://ergast.com/docs/f1db_user_guide.txt  \n",
    "\n",
    "Cada csv tiene una sola base de datos en UTF-8  \n",
    "La primera línea son las cabeceras de las columnas. \n",
    "\n",
    "\n"
   ]
  },
  {
   "cell_type": "code",
   "execution_count": 1,
   "metadata": {},
   "outputs": [],
   "source": [
    "import pandas as pd\n",
    "import numpy as np\n",
    "import sqlite3\n",
    "import os\n",
    "import re"
   ]
  },
  {
   "attachments": {},
   "cell_type": "markdown",
   "metadata": {},
   "source": [
    "* 13 csv"
   ]
  },
  {
   "cell_type": "code",
   "execution_count": 2,
   "metadata": {},
   "outputs": [],
   "source": [
    "circuits=pd.read_csv(r'./circuits.csv')\n",
    "constructor_results=pd.read_csv(r'./constructor_results.csv')\n",
    "constructor_standings=pd.read_csv(r'./constructor_standings.csv')\n",
    "driver_standings=pd.read_csv(r'./driver_standings.csv')\n",
    "drivers=pd.read_csv (r'./drivers.csv')\n",
    "lap_times=pd.read_csv(r'./lap_times.csv')\n",
    "pit_stops=pd.read_csv(r'./pit_stops.csv')\n",
    "qualifying=pd.read_csv(r'./qualifying.csv')\n",
    "races=pd.read_csv(r'./races.csv')\n",
    "results=pd.read_csv(r'./results.csv')\n",
    "seasons=pd.read_csv(r'./seasons.csv')\n",
    "sprint_results=pd.read_csv(r'./sprint_results.csv')\n",
    "status=pd.read_csv(r'./status.csv')\n"
   ]
  },
  {
   "cell_type": "code",
   "execution_count": 4,
   "metadata": {},
   "outputs": [
    {
     "data": {
      "text/html": [
       "<div>\n",
       "<style scoped>\n",
       "    .dataframe tbody tr th:only-of-type {\n",
       "        vertical-align: middle;\n",
       "    }\n",
       "\n",
       "    .dataframe tbody tr th {\n",
       "        vertical-align: top;\n",
       "    }\n",
       "\n",
       "    .dataframe thead th {\n",
       "        text-align: right;\n",
       "    }\n",
       "</style>\n",
       "<table border=\"1\" class=\"dataframe\">\n",
       "  <thead>\n",
       "    <tr style=\"text-align: right;\">\n",
       "      <th></th>\n",
       "      <th>statusId</th>\n",
       "      <th>status</th>\n",
       "    </tr>\n",
       "  </thead>\n",
       "  <tbody>\n",
       "    <tr>\n",
       "      <th>26</th>\n",
       "      <td>27</td>\n",
       "      <td>Tyre</td>\n",
       "    </tr>\n",
       "    <tr>\n",
       "      <th>58</th>\n",
       "      <td>59</td>\n",
       "      <td>Tyre puncture</td>\n",
       "    </tr>\n",
       "  </tbody>\n",
       "</table>\n",
       "</div>"
      ],
      "text/plain": [
       "    statusId         status\n",
       "26        27           Tyre\n",
       "58        59  Tyre puncture"
      ]
     },
     "execution_count": 4,
     "metadata": {},
     "output_type": "execute_result"
    }
   ],
   "source": [
    "status[status.status.str.contains(\"[Tt]yre\")]\n",
    "# usar regex para filtrar valores de columnas"
   ]
  },
  {
   "cell_type": "code",
   "execution_count": 9,
   "metadata": {},
   "outputs": [
    {
     "data": {
      "text/html": [
       "<div>\n",
       "<style scoped>\n",
       "    .dataframe tbody tr th:only-of-type {\n",
       "        vertical-align: middle;\n",
       "    }\n",
       "\n",
       "    .dataframe tbody tr th {\n",
       "        vertical-align: top;\n",
       "    }\n",
       "\n",
       "    .dataframe thead th {\n",
       "        text-align: right;\n",
       "    }\n",
       "</style>\n",
       "<table border=\"1\" class=\"dataframe\">\n",
       "  <thead>\n",
       "    <tr style=\"text-align: right;\">\n",
       "      <th></th>\n",
       "      <th>statusId</th>\n",
       "      <th>status</th>\n",
       "    </tr>\n",
       "  </thead>\n",
       "  <tbody>\n",
       "    <tr>\n",
       "      <th>26</th>\n",
       "      <td>27</td>\n",
       "      <td>Tyre</td>\n",
       "    </tr>\n",
       "    <tr>\n",
       "      <th>58</th>\n",
       "      <td>59</td>\n",
       "      <td>Tyre puncture</td>\n",
       "    </tr>\n",
       "  </tbody>\n",
       "</table>\n",
       "</div>"
      ],
      "text/plain": [
       "    statusId         status\n",
       "26        27           Tyre\n",
       "58        59  Tyre puncture"
      ]
     },
     "execution_count": 9,
     "metadata": {},
     "output_type": "execute_result"
    }
   ],
   "source": [
    "status.query('status.str.contains(\"[Tt]yre\")')"
   ]
  },
  {
   "attachments": {},
   "cell_type": "markdown",
   "metadata": {},
   "source": [
    "* Para el primer proyecto EDA, los más interesantes son:  \n",
    "\n",
    "    * resultados                    | *results.csv*  \n",
    "    * conductores                   |  *drivers.csv*  \n",
    "    * carreras                      |  *races.csv*  \n",
    "    * resultados de constructores por campeonato   | *constructor_standings*  \n",
    "    * resultados de constructores por carrera   | *constructor_results*  \n",
    "    * pit stops                     | *pit_stops*  \n",
    "    * status (finalizado/otros)     | *status*\n"
   ]
  },
  {
   "cell_type": "code",
   "execution_count": 78,
   "metadata": {},
   "outputs": [],
   "source": [
    "races11_23=races[[\"year\", \"raceId\"]][races.raceId>841]\n",
    "# seleccionar carreras desde el 2011 en adelante, cuando cambió la norma y por seguridad ya no se permite repostaje"
   ]
  },
  {
   "cell_type": "code",
   "execution_count": 58,
   "metadata": {},
   "outputs": [],
   "source": [
    "# merge resultados con races09_23\n",
    "\n",
    "results09_23 = pd.merge(races09_23,results, on ='raceId')"
   ]
  },
  {
   "cell_type": "code",
   "execution_count": 49,
   "metadata": {},
   "outputs": [
    {
     "data": {
      "text/html": [
       "<div>\n",
       "<style scoped>\n",
       "    .dataframe tbody tr th:only-of-type {\n",
       "        vertical-align: middle;\n",
       "    }\n",
       "\n",
       "    .dataframe tbody tr th {\n",
       "        vertical-align: top;\n",
       "    }\n",
       "\n",
       "    .dataframe thead th {\n",
       "        text-align: right;\n",
       "    }\n",
       "</style>\n",
       "<table border=\"1\" class=\"dataframe\">\n",
       "  <thead>\n",
       "    <tr style=\"text-align: right;\">\n",
       "      <th></th>\n",
       "      <th>year</th>\n",
       "      <th>raceId</th>\n",
       "      <th>resultId</th>\n",
       "      <th>driverId</th>\n",
       "      <th>constructorId</th>\n",
       "      <th>number</th>\n",
       "      <th>grid</th>\n",
       "      <th>position</th>\n",
       "      <th>positionText</th>\n",
       "      <th>positionOrder</th>\n",
       "      <th>points</th>\n",
       "      <th>laps</th>\n",
       "      <th>time</th>\n",
       "      <th>milliseconds</th>\n",
       "      <th>fastestLap</th>\n",
       "      <th>rank</th>\n",
       "      <th>fastestLapTime</th>\n",
       "      <th>fastestLapSpeed</th>\n",
       "      <th>statusId</th>\n",
       "    </tr>\n",
       "  </thead>\n",
       "  <tbody>\n",
       "    <tr>\n",
       "      <th>0</th>\n",
       "      <td>2010</td>\n",
       "      <td>337</td>\n",
       "      <td>20323</td>\n",
       "      <td>4</td>\n",
       "      <td>6</td>\n",
       "      <td>8</td>\n",
       "      <td>3</td>\n",
       "      <td>1</td>\n",
       "      <td>1</td>\n",
       "      <td>1</td>\n",
       "      <td>25.0</td>\n",
       "      <td>49</td>\n",
       "      <td>1:39:20.396</td>\n",
       "      <td>5960396</td>\n",
       "      <td>45</td>\n",
       "      <td>1</td>\n",
       "      <td>1:58.287</td>\n",
       "      <td>191.706</td>\n",
       "      <td>1</td>\n",
       "    </tr>\n",
       "    <tr>\n",
       "      <th>1</th>\n",
       "      <td>2010</td>\n",
       "      <td>337</td>\n",
       "      <td>20324</td>\n",
       "      <td>13</td>\n",
       "      <td>6</td>\n",
       "      <td>7</td>\n",
       "      <td>2</td>\n",
       "      <td>2</td>\n",
       "      <td>2</td>\n",
       "      <td>2</td>\n",
       "      <td>18.0</td>\n",
       "      <td>49</td>\n",
       "      <td>+16.099</td>\n",
       "      <td>5976495</td>\n",
       "      <td>38</td>\n",
       "      <td>5</td>\n",
       "      <td>1:59.732</td>\n",
       "      <td>189.392</td>\n",
       "      <td>1</td>\n",
       "    </tr>\n",
       "  </tbody>\n",
       "</table>\n",
       "</div>"
      ],
      "text/plain": [
       "   year  raceId  resultId  driverId  constructorId number  grid position   \n",
       "0  2010     337     20323         4              6      8     3        1  \\\n",
       "1  2010     337     20324        13              6      7     2        2   \n",
       "\n",
       "  positionText  positionOrder  points  laps         time milliseconds   \n",
       "0            1              1    25.0    49  1:39:20.396      5960396  \\\n",
       "1            2              2    18.0    49      +16.099      5976495   \n",
       "\n",
       "  fastestLap rank fastestLapTime fastestLapSpeed  statusId  \n",
       "0         45    1       1:58.287         191.706         1  \n",
       "1         38    5       1:59.732         189.392         1  "
      ]
     },
     "execution_count": 49,
     "metadata": {},
     "output_type": "execute_result"
    }
   ],
   "source": [
    "results09_23.head(2)"
   ]
  },
  {
   "attachments": {},
   "cell_type": "markdown",
   "metadata": {},
   "source": [
    "* DataFrame: statusId1 \n",
    "* df filtrar results09_23 por statusId=1. *Conductores que han terminado la carrera*"
   ]
  },
  {
   "cell_type": "code",
   "execution_count": 59,
   "metadata": {},
   "outputs": [
    {
     "data": {
      "text/html": [
       "<div>\n",
       "<style scoped>\n",
       "    .dataframe tbody tr th:only-of-type {\n",
       "        vertical-align: middle;\n",
       "    }\n",
       "\n",
       "    .dataframe tbody tr th {\n",
       "        vertical-align: top;\n",
       "    }\n",
       "\n",
       "    .dataframe thead th {\n",
       "        text-align: right;\n",
       "    }\n",
       "</style>\n",
       "<table border=\"1\" class=\"dataframe\">\n",
       "  <thead>\n",
       "    <tr style=\"text-align: right;\">\n",
       "      <th></th>\n",
       "      <th>year</th>\n",
       "      <th>raceId</th>\n",
       "      <th>resultId</th>\n",
       "      <th>driverId</th>\n",
       "      <th>constructorId</th>\n",
       "      <th>number</th>\n",
       "      <th>grid</th>\n",
       "      <th>position</th>\n",
       "      <th>positionText</th>\n",
       "      <th>positionOrder</th>\n",
       "      <th>points</th>\n",
       "      <th>laps</th>\n",
       "      <th>time</th>\n",
       "      <th>milliseconds</th>\n",
       "      <th>fastestLap</th>\n",
       "      <th>rank</th>\n",
       "      <th>fastestLapTime</th>\n",
       "      <th>fastestLapSpeed</th>\n",
       "      <th>statusId</th>\n",
       "    </tr>\n",
       "  </thead>\n",
       "  <tbody>\n",
       "    <tr>\n",
       "      <th>4914</th>\n",
       "      <td>2021</td>\n",
       "      <td>1063</td>\n",
       "      <td>25203</td>\n",
       "      <td>8</td>\n",
       "      <td>51</td>\n",
       "      <td>7</td>\n",
       "      <td>0</td>\n",
       "      <td>18</td>\n",
       "      <td>18</td>\n",
       "      <td>18</td>\n",
       "      <td>0.0</td>\n",
       "      <td>1</td>\n",
       "      <td>+36.054</td>\n",
       "      <td>243125</td>\n",
       "      <td>\\N</td>\n",
       "      <td>0</td>\n",
       "      <td>\\N</td>\n",
       "      <td>\\N</td>\n",
       "      <td>1</td>\n",
       "    </tr>\n",
       "    <tr>\n",
       "      <th>2843</th>\n",
       "      <td>2016</td>\n",
       "      <td>959</td>\n",
       "      <td>23165</td>\n",
       "      <td>807</td>\n",
       "      <td>10</td>\n",
       "      <td>27</td>\n",
       "      <td>8</td>\n",
       "      <td>7</td>\n",
       "      <td>7</td>\n",
       "      <td>7</td>\n",
       "      <td>6.0</td>\n",
       "      <td>67</td>\n",
       "      <td>+1:10.049</td>\n",
       "      <td>5514249</td>\n",
       "      <td>46</td>\n",
       "      <td>12</td>\n",
       "      <td>1:20.056</td>\n",
       "      <td>205.686</td>\n",
       "      <td>1</td>\n",
       "    </tr>\n",
       "  </tbody>\n",
       "</table>\n",
       "</div>"
      ],
      "text/plain": [
       "      year  raceId  resultId  driverId  constructorId number  grid position   \n",
       "4914  2021    1063     25203         8             51      7     0       18  \\\n",
       "2843  2016     959     23165       807             10     27     8        7   \n",
       "\n",
       "     positionText  positionOrder  points  laps       time milliseconds   \n",
       "4914           18             18     0.0     1    +36.054       243125  \\\n",
       "2843            7              7     6.0    67  +1:10.049      5514249   \n",
       "\n",
       "     fastestLap rank fastestLapTime fastestLapSpeed  statusId  \n",
       "4914         \\N    0             \\N              \\N         1  \n",
       "2843         46   12       1:20.056         205.686         1  "
      ]
     },
     "execution_count": 59,
     "metadata": {},
     "output_type": "execute_result"
    }
   ],
   "source": [
    "# statusId1 \n",
    "# df filtrar results09_23 por statusId=1. *Conductores que han terminado la carrera*\n",
    "\n",
    "statusId1 = results09_23[results09_23.statusId==1]\n",
    "statusId1.sample(2)"
   ]
  },
  {
   "cell_type": "code",
   "execution_count": 66,
   "metadata": {},
   "outputs": [
    {
     "data": {
      "text/html": [
       "<div>\n",
       "<style scoped>\n",
       "    .dataframe tbody tr th:only-of-type {\n",
       "        vertical-align: middle;\n",
       "    }\n",
       "\n",
       "    .dataframe tbody tr th {\n",
       "        vertical-align: top;\n",
       "    }\n",
       "\n",
       "    .dataframe thead th {\n",
       "        text-align: right;\n",
       "    }\n",
       "</style>\n",
       "<table border=\"1\" class=\"dataframe\">\n",
       "  <thead>\n",
       "    <tr style=\"text-align: right;\">\n",
       "      <th></th>\n",
       "      <th>statusId</th>\n",
       "      <th>status</th>\n",
       "    </tr>\n",
       "  </thead>\n",
       "  <tbody>\n",
       "    <tr>\n",
       "      <th>10</th>\n",
       "      <td>11</td>\n",
       "      <td>+1 Lap</td>\n",
       "    </tr>\n",
       "  </tbody>\n",
       "</table>\n",
       "</div>"
      ],
      "text/plain": [
       "    statusId  status\n",
       "10        11  +1 Lap"
      ]
     },
     "execution_count": 66,
     "metadata": {},
     "output_type": "execute_result"
    }
   ],
   "source": [
    "status[status.statusId==11]"
   ]
  }
 ],
 "metadata": {
  "kernelspec": {
   "display_name": "Python 3 (ipykernel)",
   "language": "python",
   "name": "python3"
  },
  "language_info": {
   "codemirror_mode": {
    "name": "ipython",
    "version": 3
   },
   "file_extension": ".py",
   "mimetype": "text/x-python",
   "name": "python",
   "nbconvert_exporter": "python",
   "pygments_lexer": "ipython3",
   "version": "3.9.5"
  },
  "orig_nbformat": 4
 },
 "nbformat": 4,
 "nbformat_minor": 2
}
