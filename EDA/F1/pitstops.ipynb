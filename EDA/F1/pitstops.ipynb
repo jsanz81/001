{
 "cells": [
  {
   "cell_type": "code",
   "execution_count": 52,
   "metadata": {},
   "outputs": [],
   "source": [
    "import pandas as pd\n",
    "import numpy as np\n",
    "import matplotlib.pyplot as plt\n",
    "import sqlite3\n",
    "import os\n",
    "import re\n",
    "import seaborn as sns\n",
    "import scipy.stats as ss\n",
    "import random"
   ]
  },
  {
   "cell_type": "code",
   "execution_count": 53,
   "metadata": {},
   "outputs": [],
   "source": [
    "pit_stops=pd.read_csv(r'./pit_stops.csv')\n",
    "races=pd.read_csv(r'./races.csv')"
   ]
  },
  {
   "cell_type": "code",
   "execution_count": 54,
   "metadata": {},
   "outputs": [],
   "source": [
    "pit_stops.drop(['time', 'duration'], axis=1, inplace=True)\n",
    "#quitar hora de parada y tiempo en segundos"
   ]
  },
  {
   "cell_type": "code",
   "execution_count": 91,
   "metadata": {},
   "outputs": [
    {
     "data": {
      "text/plain": [
       "0       26898\n",
       "1       25021\n",
       "2       23426\n",
       "3       23251\n",
       "4       23842\n",
       "        ...  \n",
       "9891    22054\n",
       "9892    22731\n",
       "9893    21537\n",
       "9894    22062\n",
       "9895    22357\n",
       "Name: milliseconds, Length: 9896, dtype: int32"
      ]
     },
     "execution_count": 91,
     "metadata": {},
     "output_type": "execute_result"
    }
   ],
   "source": [
    "# cambiar tipo de campo milisegundpos a entero\n",
    "pit_stops[\"milliseconds\"].astype(int)"
   ]
  },
  {
   "cell_type": "code",
   "execution_count": 95,
   "metadata": {},
   "outputs": [
    {
     "name": "stdout",
     "output_type": "stream",
     "text": [
      "Primera carrera registrada en csv pit_stops: 841\n",
      "Última carrera registrada en csv pit_stops: 1105\n"
     ]
    }
   ],
   "source": [
    "print('Primera carrera registrada en csv pit_stops: {}'.format(pit_stops['raceId'].min()))\n",
    "print('Última carrera registrada en csv pit_stops: {}'.format(pit_stops['raceId'].max()))"
   ]
  },
  {
   "cell_type": "code",
   "execution_count": 96,
   "metadata": {},
   "outputs": [
    {
     "name": "stdout",
     "output_type": "stream",
     "text": [
      "Index([839], dtype='int64')\n",
      "Index([1085], dtype='int64')\n"
     ]
    }
   ],
   "source": [
    "#index en races.csv de la primera carrera registrada en pit_stops  ==> 840\n",
    "print(races[races.raceId==841].index)\n",
    "print(races[races.raceId==1105].index)"
   ]
  },
  {
   "cell_type": "code",
   "execution_count": 163,
   "metadata": {},
   "outputs": [
    {
     "data": {
      "text/plain": [
       "Index([ 839,  840,  841,  842,  843,  844,  845,  846,  847,  848,\n",
       "       ...\n",
       "       1076, 1077, 1078, 1079, 1080, 1081, 1082, 1083, 1084, 1085],\n",
       "      dtype='int64', length=247)"
      ]
     },
     "execution_count": 163,
     "metadata": {},
     "output_type": "execute_result"
    }
   ],
   "source": [
    "# rango de los indices de las carreras válidas  == 839 a 1085, para las carreras 841 a 1105\n",
    "\n",
    "races[(races.raceId>=841) & (races.raceId<=1105)].index"
   ]
  },
  {
   "cell_type": "code",
   "execution_count": 161,
   "metadata": {},
   "outputs": [
    {
     "data": {
      "text/plain": [
       "{841: {'año': 2011, 'nombre': 'Australian Grand Prix'},\n",
       " 842: {'año': 2011, 'nombre': 'Malaysian Grand Prix'},\n",
       " 843: {'año': 2011, 'nombre': 'Chinese Grand Prix'},\n",
       " 844: {'año': 2011, 'nombre': 'Turkish Grand Prix'},\n",
       " 845: {'año': 2011, 'nombre': 'Spanish Grand Prix'},\n",
       " 846: {'año': 2011, 'nombre': 'Monaco Grand Prix'},\n",
       " 847: {'año': 2011, 'nombre': 'Canadian Grand Prix'},\n",
       " 848: {'año': 2011, 'nombre': 'European Grand Prix'},\n",
       " 849: {'año': 2011, 'nombre': 'British Grand Prix'},\n",
       " 850: {'año': 2011, 'nombre': 'German Grand Prix'},\n",
       " 851: {'año': 2011, 'nombre': 'Hungarian Grand Prix'},\n",
       " 852: {'año': 2011, 'nombre': 'Belgian Grand Prix'},\n",
       " 853: {'año': 2011, 'nombre': 'Italian Grand Prix'},\n",
       " 854: {'año': 2011, 'nombre': 'Singapore Grand Prix'},\n",
       " 855: {'año': 2011, 'nombre': 'Japanese Grand Prix'},\n",
       " 856: {'año': 2011, 'nombre': 'Korean Grand Prix'},\n",
       " 857: {'año': 2011, 'nombre': 'Indian Grand Prix'},\n",
       " 858: {'año': 2011, 'nombre': 'Abu Dhabi Grand Prix'},\n",
       " 859: {'año': 2011, 'nombre': 'Brazilian Grand Prix'},\n",
       " 860: {'año': 2012, 'nombre': 'Australian Grand Prix'},\n",
       " 861: {'año': 2012, 'nombre': 'Malaysian Grand Prix'},\n",
       " 862: {'año': 2012, 'nombre': 'Chinese Grand Prix'},\n",
       " 863: {'año': 2012, 'nombre': 'Bahrain Grand Prix'},\n",
       " 864: {'año': 2012, 'nombre': 'Spanish Grand Prix'},\n",
       " 865: {'año': 2012, 'nombre': 'Monaco Grand Prix'},\n",
       " 866: {'año': 2012, 'nombre': 'Canadian Grand Prix'},\n",
       " 867: {'año': 2012, 'nombre': 'European Grand Prix'},\n",
       " 868: {'año': 2012, 'nombre': 'British Grand Prix'},\n",
       " 869: {'año': 2012, 'nombre': 'German Grand Prix'},\n",
       " 870: {'año': 2012, 'nombre': 'Hungarian Grand Prix'},\n",
       " 871: {'año': 2012, 'nombre': 'Belgian Grand Prix'},\n",
       " 872: {'año': 2012, 'nombre': 'Italian Grand Prix'},\n",
       " 873: {'año': 2012, 'nombre': 'Singapore Grand Prix'},\n",
       " 874: {'año': 2012, 'nombre': 'Japanese Grand Prix'},\n",
       " 875: {'año': 2012, 'nombre': 'Korean Grand Prix'},\n",
       " 876: {'año': 2012, 'nombre': 'Indian Grand Prix'},\n",
       " 877: {'año': 2012, 'nombre': 'Abu Dhabi Grand Prix'},\n",
       " 878: {'año': 2012, 'nombre': 'United States Grand Prix'},\n",
       " 879: {'año': 2012, 'nombre': 'Brazilian Grand Prix'},\n",
       " 880: {'año': 2013, 'nombre': 'Australian Grand Prix'},\n",
       " 881: {'año': 2013, 'nombre': 'Malaysian Grand Prix'},\n",
       " 882: {'año': 2013, 'nombre': 'Chinese Grand Prix'},\n",
       " 883: {'año': 2013, 'nombre': 'Bahrain Grand Prix'},\n",
       " 884: {'año': 2013, 'nombre': 'Spanish Grand Prix'},\n",
       " 885: {'año': 2013, 'nombre': 'Monaco Grand Prix'},\n",
       " 886: {'año': 2013, 'nombre': 'Canadian Grand Prix'},\n",
       " 887: {'año': 2013, 'nombre': 'British Grand Prix'},\n",
       " 888: {'año': 2013, 'nombre': 'German Grand Prix'},\n",
       " 890: {'año': 2013, 'nombre': 'Hungarian Grand Prix'},\n",
       " 891: {'año': 2013, 'nombre': 'Belgian Grand Prix'},\n",
       " 892: {'año': 2013, 'nombre': 'Italian Grand Prix'},\n",
       " 893: {'año': 2013, 'nombre': 'Singapore Grand Prix'},\n",
       " 894: {'año': 2013, 'nombre': 'Korean Grand Prix'},\n",
       " 895: {'año': 2013, 'nombre': 'Japanese Grand Prix'},\n",
       " 896: {'año': 2013, 'nombre': 'Indian Grand Prix'},\n",
       " 897: {'año': 2013, 'nombre': 'Abu Dhabi Grand Prix'},\n",
       " 898: {'año': 2013, 'nombre': 'United States Grand Prix'},\n",
       " 899: {'año': 2013, 'nombre': 'Brazilian Grand Prix'},\n",
       " 900: {'año': 2014, 'nombre': 'Australian Grand Prix'},\n",
       " 901: {'año': 2014, 'nombre': 'Malaysian Grand Prix'},\n",
       " 902: {'año': 2014, 'nombre': 'Bahrain Grand Prix'},\n",
       " 903: {'año': 2014, 'nombre': 'Chinese Grand Prix'},\n",
       " 904: {'año': 2014, 'nombre': 'Spanish Grand Prix'},\n",
       " 905: {'año': 2014, 'nombre': 'Monaco Grand Prix'},\n",
       " 906: {'año': 2014, 'nombre': 'Canadian Grand Prix'},\n",
       " 907: {'año': 2014, 'nombre': 'Austrian Grand Prix'},\n",
       " 908: {'año': 2014, 'nombre': 'British Grand Prix'},\n",
       " 909: {'año': 2014, 'nombre': 'German Grand Prix'},\n",
       " 910: {'año': 2014, 'nombre': 'Hungarian Grand Prix'},\n",
       " 911: {'año': 2014, 'nombre': 'Belgian Grand Prix'},\n",
       " 912: {'año': 2014, 'nombre': 'Italian Grand Prix'},\n",
       " 913: {'año': 2014, 'nombre': 'Singapore Grand Prix'},\n",
       " 914: {'año': 2014, 'nombre': 'Japanese Grand Prix'},\n",
       " 915: {'año': 2014, 'nombre': 'Russian Grand Prix'},\n",
       " 916: {'año': 2014, 'nombre': 'United States Grand Prix'},\n",
       " 917: {'año': 2014, 'nombre': 'Brazilian Grand Prix'},\n",
       " 918: {'año': 2014, 'nombre': 'Abu Dhabi Grand Prix'},\n",
       " 931: {'año': 2015, 'nombre': 'Monaco Grand Prix'},\n",
       " 932: {'año': 2015, 'nombre': 'Canadian Grand Prix'},\n",
       " 929: {'año': 2015, 'nombre': 'Bahrain Grand Prix'},\n",
       " 930: {'año': 2015, 'nombre': 'Spanish Grand Prix'},\n",
       " 928: {'año': 2015, 'nombre': 'Chinese Grand Prix'},\n",
       " 926: {'año': 2015, 'nombre': 'Australian Grand Prix'},\n",
       " 927: {'año': 2015, 'nombre': 'Malaysian Grand Prix'},\n",
       " 933: {'año': 2015, 'nombre': 'Austrian Grand Prix'},\n",
       " 934: {'año': 2015, 'nombre': 'British Grand Prix'},\n",
       " 936: {'año': 2015, 'nombre': 'Hungarian Grand Prix'},\n",
       " 937: {'año': 2015, 'nombre': 'Belgian Grand Prix'},\n",
       " 938: {'año': 2015, 'nombre': 'Italian Grand Prix'},\n",
       " 939: {'año': 2015, 'nombre': 'Singapore Grand Prix'},\n",
       " 940: {'año': 2015, 'nombre': 'Japanese Grand Prix'},\n",
       " 941: {'año': 2015, 'nombre': 'Russian Grand Prix'},\n",
       " 942: {'año': 2015, 'nombre': 'United States Grand Prix'},\n",
       " 943: {'año': 2015, 'nombre': 'Mexican Grand Prix'},\n",
       " 944: {'año': 2015, 'nombre': 'Brazilian Grand Prix'},\n",
       " 945: {'año': 2015, 'nombre': 'Abu Dhabi Grand Prix'},\n",
       " 948: {'año': 2016, 'nombre': 'Australian Grand Prix'},\n",
       " 949: {'año': 2016, 'nombre': 'Bahrain Grand Prix'},\n",
       " 950: {'año': 2016, 'nombre': 'Chinese Grand Prix'},\n",
       " 951: {'año': 2016, 'nombre': 'Russian Grand Prix'},\n",
       " 952: {'año': 2016, 'nombre': 'Spanish Grand Prix'},\n",
       " 953: {'año': 2016, 'nombre': 'Monaco Grand Prix'},\n",
       " 954: {'año': 2016, 'nombre': 'Canadian Grand Prix'},\n",
       " 955: {'año': 2016, 'nombre': 'European Grand Prix'},\n",
       " 956: {'año': 2016, 'nombre': 'Austrian Grand Prix'},\n",
       " 957: {'año': 2016, 'nombre': 'British Grand Prix'},\n",
       " 958: {'año': 2016, 'nombre': 'Hungarian Grand Prix'},\n",
       " 959: {'año': 2016, 'nombre': 'German Grand Prix'},\n",
       " 960: {'año': 2016, 'nombre': 'Belgian Grand Prix'},\n",
       " 961: {'año': 2016, 'nombre': 'Italian Grand Prix'},\n",
       " 962: {'año': 2016, 'nombre': 'Singapore Grand Prix'},\n",
       " 963: {'año': 2016, 'nombre': 'Malaysian Grand Prix'},\n",
       " 964: {'año': 2016, 'nombre': 'Japanese Grand Prix'},\n",
       " 965: {'año': 2016, 'nombre': 'United States Grand Prix'},\n",
       " 966: {'año': 2016, 'nombre': 'Mexican Grand Prix'},\n",
       " 967: {'año': 2016, 'nombre': 'Brazilian Grand Prix'},\n",
       " 968: {'año': 2016, 'nombre': 'Abu Dhabi Grand Prix'},\n",
       " 969: {'año': 2017, 'nombre': 'Australian Grand Prix'},\n",
       " 970: {'año': 2017, 'nombre': 'Chinese Grand Prix'},\n",
       " 971: {'año': 2017, 'nombre': 'Bahrain Grand Prix'},\n",
       " 972: {'año': 2017, 'nombre': 'Russian Grand Prix'},\n",
       " 973: {'año': 2017, 'nombre': 'Spanish Grand Prix'},\n",
       " 974: {'año': 2017, 'nombre': 'Monaco Grand Prix'},\n",
       " 975: {'año': 2017, 'nombre': 'Canadian Grand Prix'},\n",
       " 976: {'año': 2017, 'nombre': 'Azerbaijan Grand Prix'},\n",
       " 977: {'año': 2017, 'nombre': 'Austrian Grand Prix'},\n",
       " 978: {'año': 2017, 'nombre': 'British Grand Prix'},\n",
       " 979: {'año': 2017, 'nombre': 'Hungarian Grand Prix'},\n",
       " 980: {'año': 2017, 'nombre': 'Belgian Grand Prix'},\n",
       " 981: {'año': 2017, 'nombre': 'Italian Grand Prix'},\n",
       " 982: {'año': 2017, 'nombre': 'Singapore Grand Prix'},\n",
       " 983: {'año': 2017, 'nombre': 'Malaysian Grand Prix'},\n",
       " 984: {'año': 2017, 'nombre': 'Japanese Grand Prix'},\n",
       " 985: {'año': 2017, 'nombre': 'United States Grand Prix'},\n",
       " 986: {'año': 2017, 'nombre': 'Mexican Grand Prix'},\n",
       " 987: {'año': 2017, 'nombre': 'Brazilian Grand Prix'},\n",
       " 988: {'año': 2017, 'nombre': 'Abu Dhabi Grand Prix'},\n",
       " 989: {'año': 2018, 'nombre': 'Australian Grand Prix'},\n",
       " 990: {'año': 2018, 'nombre': 'Bahrain Grand Prix'},\n",
       " 991: {'año': 2018, 'nombre': 'Chinese Grand Prix'},\n",
       " 992: {'año': 2018, 'nombre': 'Azerbaijan Grand Prix'},\n",
       " 993: {'año': 2018, 'nombre': 'Spanish Grand Prix'},\n",
       " 994: {'año': 2018, 'nombre': 'Monaco Grand Prix'},\n",
       " 995: {'año': 2018, 'nombre': 'Canadian Grand Prix'},\n",
       " 996: {'año': 2018, 'nombre': 'French Grand Prix'},\n",
       " 997: {'año': 2018, 'nombre': 'Austrian Grand Prix'},\n",
       " 998: {'año': 2018, 'nombre': 'British Grand Prix'},\n",
       " 999: {'año': 2018, 'nombre': 'German Grand Prix'},\n",
       " 1000: {'año': 2018, 'nombre': 'Hungarian Grand Prix'},\n",
       " 1001: {'año': 2018, 'nombre': 'Belgian Grand Prix'},\n",
       " 1002: {'año': 2018, 'nombre': 'Italian Grand Prix'},\n",
       " 1003: {'año': 2018, 'nombre': 'Singapore Grand Prix'},\n",
       " 1004: {'año': 2018, 'nombre': 'Russian Grand Prix'},\n",
       " 1005: {'año': 2018, 'nombre': 'Japanese Grand Prix'},\n",
       " 1006: {'año': 2018, 'nombre': 'United States Grand Prix'},\n",
       " 1007: {'año': 2018, 'nombre': 'Mexican Grand Prix'},\n",
       " 1008: {'año': 2018, 'nombre': 'Brazilian Grand Prix'},\n",
       " 1009: {'año': 2018, 'nombre': 'Abu Dhabi Grand Prix'},\n",
       " 1010: {'año': 2019, 'nombre': 'Australian Grand Prix'},\n",
       " 1011: {'año': 2019, 'nombre': 'Bahrain Grand Prix'},\n",
       " 1012: {'año': 2019, 'nombre': 'Chinese Grand Prix'},\n",
       " 1013: {'año': 2019, 'nombre': 'Azerbaijan Grand Prix'},\n",
       " 1014: {'año': 2019, 'nombre': 'Spanish Grand Prix'},\n",
       " 1015: {'año': 2019, 'nombre': 'Monaco Grand Prix'},\n",
       " 1016: {'año': 2019, 'nombre': 'Canadian Grand Prix'},\n",
       " 1017: {'año': 2019, 'nombre': 'French Grand Prix'},\n",
       " 1018: {'año': 2019, 'nombre': 'Austrian Grand Prix'},\n",
       " 1019: {'año': 2019, 'nombre': 'British Grand Prix'},\n",
       " 1020: {'año': 2019, 'nombre': 'German Grand Prix'},\n",
       " 1021: {'año': 2019, 'nombre': 'Hungarian Grand Prix'},\n",
       " 1022: {'año': 2019, 'nombre': 'Belgian Grand Prix'},\n",
       " 1023: {'año': 2019, 'nombre': 'Italian Grand Prix'},\n",
       " 1024: {'año': 2019, 'nombre': 'Singapore Grand Prix'},\n",
       " 1025: {'año': 2019, 'nombre': 'Russian Grand Prix'},\n",
       " 1026: {'año': 2019, 'nombre': 'Japanese Grand Prix'},\n",
       " 1027: {'año': 2019, 'nombre': 'Mexican Grand Prix'},\n",
       " 1028: {'año': 2019, 'nombre': 'United States Grand Prix'},\n",
       " 1029: {'año': 2019, 'nombre': 'Brazilian Grand Prix'},\n",
       " 1030: {'año': 2019, 'nombre': 'Abu Dhabi Grand Prix'},\n",
       " 1031: {'año': 2020, 'nombre': 'Austrian Grand Prix'},\n",
       " 1032: {'año': 2020, 'nombre': 'Styrian Grand Prix'},\n",
       " 1033: {'año': 2020, 'nombre': 'Hungarian Grand Prix'},\n",
       " 1034: {'año': 2020, 'nombre': 'British Grand Prix'},\n",
       " 1035: {'año': 2020, 'nombre': '70th Anniversary Grand Prix'},\n",
       " 1036: {'año': 2020, 'nombre': 'Spanish Grand Prix'},\n",
       " 1037: {'año': 2020, 'nombre': 'Belgian Grand Prix'},\n",
       " 1038: {'año': 2020, 'nombre': 'Italian Grand Prix'},\n",
       " 1039: {'año': 2020, 'nombre': 'Tuscan Grand Prix'},\n",
       " 1040: {'año': 2020, 'nombre': 'Russian Grand Prix'},\n",
       " 1041: {'año': 2020, 'nombre': 'Eifel Grand Prix'},\n",
       " 1042: {'año': 2020, 'nombre': 'Portuguese Grand Prix'},\n",
       " 1043: {'año': 2020, 'nombre': 'Emilia Romagna Grand Prix'},\n",
       " 1044: {'año': 2020, 'nombre': 'Turkish Grand Prix'},\n",
       " 1045: {'año': 2020, 'nombre': 'Bahrain Grand Prix'},\n",
       " 1046: {'año': 2020, 'nombre': 'Sakhir Grand Prix'},\n",
       " 1047: {'año': 2020, 'nombre': 'Abu Dhabi Grand Prix'},\n",
       " 1053: {'año': 2021, 'nombre': 'Emilia Romagna Grand Prix'},\n",
       " 1074: {'año': 2022, 'nombre': 'Bahrain Grand Prix'},\n",
       " 1052: {'año': 2021, 'nombre': 'Bahrain Grand Prix'},\n",
       " 1051: {'año': 2021, 'nombre': 'Qatar Grand Prix'},\n",
       " 1054: {'año': 2021, 'nombre': 'Portuguese Grand Prix'},\n",
       " 1055: {'año': 2021, 'nombre': 'Spanish Grand Prix'},\n",
       " 1056: {'año': 2021, 'nombre': 'Monaco Grand Prix'},\n",
       " 1057: {'año': 2021, 'nombre': 'Azerbaijan Grand Prix'},\n",
       " 1058: {'año': 2021, 'nombre': 'Styrian Grand Prix'},\n",
       " 1059: {'año': 2021, 'nombre': 'French Grand Prix'},\n",
       " 1060: {'año': 2021, 'nombre': 'Austrian Grand Prix'},\n",
       " 1061: {'año': 2021, 'nombre': 'British Grand Prix'},\n",
       " 1062: {'año': 2021, 'nombre': 'Hungarian Grand Prix'},\n",
       " 1063: {'año': 2021, 'nombre': 'Belgian Grand Prix'},\n",
       " 1064: {'año': 2021, 'nombre': 'Dutch Grand Prix'},\n",
       " 1065: {'año': 2021, 'nombre': 'Italian Grand Prix'},\n",
       " 1066: {'año': 2021, 'nombre': 'Russian Grand Prix'},\n",
       " 1067: {'año': 2021, 'nombre': 'Turkish Grand Prix'},\n",
       " 1069: {'año': 2021, 'nombre': 'United States Grand Prix'},\n",
       " 1070: {'año': 2021, 'nombre': 'Mexico City Grand Prix'},\n",
       " 1071: {'año': 2021, 'nombre': 'São Paulo Grand Prix'},\n",
       " 1072: {'año': 2021, 'nombre': 'Saudi Arabian Grand Prix'},\n",
       " 1073: {'año': 2021, 'nombre': 'Abu Dhabi Grand Prix'},\n",
       " 1075: {'año': 2022, 'nombre': 'Saudi Arabian Grand Prix'},\n",
       " 1076: {'año': 2022, 'nombre': 'Australian Grand Prix'},\n",
       " 1077: {'año': 2022, 'nombre': 'Emilia Romagna Grand Prix'},\n",
       " 1078: {'año': 2022, 'nombre': 'Miami Grand Prix'},\n",
       " 1079: {'año': 2022, 'nombre': 'Spanish Grand Prix'},\n",
       " 1080: {'año': 2022, 'nombre': 'Monaco Grand Prix'},\n",
       " 1081: {'año': 2022, 'nombre': 'Azerbaijan Grand Prix'},\n",
       " 1082: {'año': 2022, 'nombre': 'Canadian Grand Prix'},\n",
       " 1083: {'año': 2022, 'nombre': 'British Grand Prix'},\n",
       " 1084: {'año': 2022, 'nombre': 'Austrian Grand Prix'},\n",
       " 1085: {'año': 2022, 'nombre': 'French Grand Prix'},\n",
       " 1086: {'año': 2022, 'nombre': 'Hungarian Grand Prix'},\n",
       " 1087: {'año': 2022, 'nombre': 'Belgian Grand Prix'},\n",
       " 1088: {'año': 2022, 'nombre': 'Dutch Grand Prix'},\n",
       " 1089: {'año': 2022, 'nombre': 'Italian Grand Prix'},\n",
       " 1091: {'año': 2022, 'nombre': 'Singapore Grand Prix'},\n",
       " 1092: {'año': 2022, 'nombre': 'Japanese Grand Prix'},\n",
       " 1093: {'año': 2022, 'nombre': 'United States Grand Prix'},\n",
       " 1094: {'año': 2022, 'nombre': 'Mexico City Grand Prix'},\n",
       " 1095: {'año': 2022, 'nombre': 'Brazilian Grand Prix'},\n",
       " 1096: {'año': 2022, 'nombre': 'Abu Dhabi Grand Prix'},\n",
       " 1098: {'año': 2023, 'nombre': 'Bahrain Grand Prix'},\n",
       " 1099: {'año': 2023, 'nombre': 'Saudi Arabian Grand Prix'},\n",
       " 1100: {'año': 2023, 'nombre': 'Australian Grand Prix'},\n",
       " 1101: {'año': 2023, 'nombre': 'Azerbaijan Grand Prix'},\n",
       " 1102: {'año': 2023, 'nombre': 'Miami Grand Prix'},\n",
       " 1104: {'año': 2023, 'nombre': 'Monaco Grand Prix'},\n",
       " 1105: {'año': 2023, 'nombre': 'Spanish Grand Prix'}}"
      ]
     },
     "execution_count": 161,
     "metadata": {},
     "output_type": "execute_result"
    }
   ],
   "source": [
    "# a partir del índice de races, creo un diccionario con raceId y nombre, para gráficos\n",
    "\n",
    "dictraces={}\n",
    "nombre_carreras=races[['raceId','name','year']]\n",
    "for i in races[(races.raceId>=841) & (races.raceId<=1105)].index:\n",
    "    dictraces[nombre_carreras.loc[i,'raceId']]={'año':nombre_carreras.loc[i, 'year'], 'nombre':nombre_carreras.loc[i, 'name'] }\n",
    "\n",
    "dictraces"
   ]
  },
  {
   "cell_type": "code",
   "execution_count": 102,
   "metadata": {},
   "outputs": [
    {
     "data": {
      "text/plain": [
       "count       56.000000\n",
       "mean     14172.517857\n",
       "std        584.055726\n",
       "min      12897.000000\n",
       "25%      13971.750000\n",
       "50%      14136.000000\n",
       "75%      14575.750000\n",
       "max      14998.000000\n",
       "Name: milliseconds, dtype: float64"
      ]
     },
     "execution_count": 102,
     "metadata": {},
     "output_type": "execute_result"
    }
   ],
   "source": [
    "pit_stops[\"milliseconds\"][pit_stops.milliseconds<15000].describe()"
   ]
  },
  {
   "cell_type": "code",
   "execution_count": 165,
   "metadata": {},
   "outputs": [
    {
     "data": {
      "image/png": "[encoded data removed]",
      "text/plain": [
       "<Figure size 640x480 with 1 Axes>"
      ]
     },
     "metadata": {},
     "output_type": "display_data"
    }
   ],
   "source": [
    "# ejemplos de distribución de los segundos de cada pit stop\n",
    "carrera=random.randint(841,1105)\n",
    "\n",
    "plt.xlabel('segundos')\n",
    "plt.ylabel('cuenta')\n",
    "\n",
    "plt.title(f\"{dictraces[carrera]['año']}\\n{dictraces[carrera]['nombre']}\", loc='center', style='oblique', ha='center')\n",
    "plt.title(\"Tiempos de pit stops\\n(segundos)\", fontsize=8, loc='right')\n",
    "\n",
    "sns.histplot(pit_stops[pit_stops.raceId==carrera][\"milliseconds\"]/1000);"
   ]
  },
  {
   "cell_type": "code",
   "execution_count": 166,
   "metadata": {},
   "outputs": [],
   "source": [
    "# diccionario con tiempos máximos y minimos de pit_stop por carrera\n",
    "dict_max_min={}\n",
    "for i in range(841,1006):\n",
    "    dict_max_min[i]=(pit_stops[pit_stops.raceId==i]['milliseconds'].min(), pit_stops[pit_stops.raceId==i]['milliseconds'].max())"
   ]
  },
  {
   "cell_type": "code",
   "execution_count": 167,
   "metadata": {},
   "outputs": [
    {
     "name": "stdout",
     "output_type": "stream",
     "text": [
      "(12897, 43574)\n",
      "(29736, 35112)\n"
     ]
    }
   ],
   "source": [
    "print(min(dict_max_min.values()))\n",
    "print(max(dict_max_min.values()))"
   ]
  },
  {
   "cell_type": "code",
   "execution_count": 168,
   "metadata": {},
   "outputs": [],
   "source": [
    "minimo=[]\n",
    "maximo=[]\n",
    "for j in dict_max_min.values():\n",
    "    minimo.append(j[0])\n",
    "    maximo.append(j[1])"
   ]
  },
  {
   "cell_type": "code",
   "execution_count": 169,
   "metadata": {},
   "outputs": [
    {
     "name": "stdout",
     "output_type": "stream",
     "text": [
      "Menor tiempo absoluto de pitstop: 12897\n",
      "Mayor tiempo absoluto de pitstop: 2011266\n"
     ]
    }
   ],
   "source": [
    "print(f\"Menor tiempo absoluto de pitstop: {min(minimo)}\")\n",
    "#print(f\"Mayor tiempo menor de pitstop: {max(minimo)}\")\n",
    "\n",
    "#print(f\"Menor tiempo mayor de pitstop: {min(maximo)}\")\n",
    "print(f\"Mayor tiempo absoluto de pitstop: {max(maximo)}\")"
   ]
  },
  {
   "cell_type": "code",
   "execution_count": 158,
   "metadata": {},
   "outputs": [
    {
     "data": {
      "text/plain": [
       "<matplotlib.collections.PathCollection at 0x1bd19748f40>"
      ]
     },
     "execution_count": 158,
     "metadata": {},
     "output_type": "execute_result"
    },
    {
     "data": {
      "image/png": "[encoded data removed]",
      "text/plain": [
       "<Figure size 640x480 with 1 Axes>"
      ]
     },
     "metadata": {},
     "output_type": "display_data"
    }
   ],
   "source": [
    "carrera=random.randint(841,1005)\n",
    "#plt.title(f'Carrera Nº {carrera},\\nTiempos de pit stops (en segundos)')\n",
    "plt.title(f\"{dictraces[carrera]['año']}\\n{dictraces[carrera]['nombre']}\", loc='center', style='oblique', ha='center')\n",
    "plt.title(f'Tiempo pit_stop\\n(segundos)', loc='right', fontsize=8)\n",
    "plt.scatter(pit_stops[pit_stops.raceId==carrera][\"milliseconds\"]/1000, pit_stops[pit_stops.raceId==carrera][\"milliseconds\"]/1000, alpha=0.5)\n"
   ]
  }
 ],
 "metadata": {
  "kernelspec": {
   "display_name": "ramp_up_py395",
   "language": "python",
   "name": "python3"
  },
  "language_info": {
   "codemirror_mode": {
    "name": "ipython",
    "version": 3
   },
   "file_extension": ".py",
   "mimetype": "text/x-python",
   "name": "python",
   "nbconvert_exporter": "python",
   "pygments_lexer": "ipython3",
   "version": "3.9.5"
  },
  "orig_nbformat": 4
 },
 "nbformat": 4,
 "nbformat_minor": 2
}
