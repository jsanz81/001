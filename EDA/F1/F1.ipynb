{
 "cells": [
  {
   "attachments": {},
   "cell_type": "markdown",
   "metadata": {},
   "source": [
    "# _Influencia de la duración de piststops en carreras de F1_"
   ]
  },
  {
   "attachments": {},
   "cell_type": "markdown",
   "metadata": {},
   "source": [
    "* Hipótesis:  \n",
    "\n",
    "> Mejor media de tiempos por carrera y temporada aumenta las posiciones en carrera y al final de temporada  \n",
    "\n",
    "* hipótesis secundaria  \n",
    "\n",
    "> También se sumple para los constructores  \n",
    "\n",
    "* bonus: Diferencias entre conductores de una mismo equipo"
   ]
  },
  {
   "attachments": {},
   "cell_type": "markdown",
   "metadata": {},
   "source": [
    "<center><img src=\"F1_logo.jpg\"  width=\"200\"><img src=\"F170.jpg\"  width=\"400\"></center> <p>\n",
    "<center><img src=\"pitStopAstonMartin.jpg\"  width=\"600\" height=\"300\"></center>\n"
   ]
  },
  {
   "attachments": {},
   "cell_type": "markdown",
   "metadata": {},
   "source": [
    "### <span style=\"color:RED\"> DATASET</span>\n",
    "\n",
    "#### CSV's EXTRAIDOS DE ergast.com  \n",
    "\n",
    "* Ofrece resultados de todas las carreras desde 1950 hasta hoy.  \n",
    "\n",
    "* Paquete ergast_py  \n",
    "https://pypi.org/project/ergast-py/\n",
    "\n",
    "* API con datos actualizados tras cada carrera  \n",
    "  \n",
    "  * API documentación http://ergast.com/mrd/  \n",
    "    \n",
    "* Libreria propia para acceder a la API  \n",
    "    pyERGAST\n",
    "\n",
    "\n",
    "#### Ofrecen todo el paquete de csv hasta la carrera más reciente  \n",
    "* f1db_csv.zip  \n",
    "http://ergast.com/downloads/f1db_csv.zip  \n",
    "\n",
    "* Diagrama de la BD  \n",
    "http://ergast.com/images/ergast_db.png  \n",
    "\n",
    "* Esquema de la BD  \n",
    "http://ergast.com/docs/f1db_user_guide.txt  \n",
    "\n",
    "Cada csv tiene una sola base de datos en UTF-8  \n",
    "La primera línea son las cabeceras de las columnas. \n",
    "\n",
    "\n"
   ]
  },
  {
   "cell_type": "code",
   "execution_count": 185,
   "metadata": {},
   "outputs": [],
   "source": [
    "import pandas as pd\n",
    "import numpy as np\n",
    "import matplotlib.pyplot as plt\n",
    "import sqlite3\n",
    "import os\n",
    "import re"
   ]
  },
  {
   "attachments": {},
   "cell_type": "markdown",
   "metadata": {},
   "source": [
    "* 13 csv"
   ]
  },
  {
   "cell_type": "code",
   "execution_count": 2,
   "metadata": {},
   "outputs": [],
   "source": [
    "circuits=pd.read_csv(r'./circuits.csv')\n",
    "constructor_results=pd.read_csv(r'./constructor_results.csv')\n",
    "constructor_standings=pd.read_csv(r'./constructor_standings.csv')\n",
    "driver_standings=pd.read_csv(r'./driver_standings.csv')\n",
    "drivers=pd.read_csv (r'./drivers.csv')\n",
    "lap_times=pd.read_csv(r'./lap_times.csv')\n",
    "pit_stops=pd.read_csv(r'./pit_stops.csv')\n",
    "qualifying=pd.read_csv(r'./qualifying.csv')\n",
    "races=pd.read_csv(r'./races.csv')\n",
    "results=pd.read_csv(r'./results.csv')\n",
    "seasons=pd.read_csv(r'./seasons.csv')\n",
    "sprint_results=pd.read_csv(r'./sprint_results.csv')\n",
    "status=pd.read_csv(r'./status.csv')\n"
   ]
  },
  {
   "attachments": {},
   "cell_type": "markdown",
   "metadata": {},
   "source": [
    "* Para el primer proyecto EDA, los más interesantes son:  \n",
    "\n",
    "    * pit stops                     | *pit_stops*  \n",
    "    * resultados                    | *results.csv*  \n",
    "    * conductores                   |  *drivers.csv*  \n",
    "    * carreras                      |  *races.csv*  \n",
    "    * resultados de constructores por campeonato   | *constructor_standings.csv*  \n",
    "    * resultados de constructores por carrera   | *constructor_results.csv*  \n",
    "    * status (finalizado/otros)     | *status.csv*\n",
    "    * tiempo por vuelta             | *lap_times.csv*\n"
   ]
  },
  {
   "attachments": {},
   "cell_type": "markdown",
   "metadata": {},
   "source": [
    "---------------\n",
    "\n",
    "## <center><span style=\"color:RED\"> *PIT STOPS*</span></center>\n",
    "\n",
    "---------------"
   ]
  },
  {
   "cell_type": "code",
   "execution_count": 3,
   "metadata": {},
   "outputs": [
    {
     "data": {
      "text/html": [
       "<div>\n",
       "<style scoped>\n",
       "    .dataframe tbody tr th:only-of-type {\n",
       "        vertical-align: middle;\n",
       "    }\n",
       "\n",
       "    .dataframe tbody tr th {\n",
       "        vertical-align: top;\n",
       "    }\n",
       "\n",
       "    .dataframe thead th {\n",
       "        text-align: right;\n",
       "    }\n",
       "</style>\n",
       "<table border=\"1\" class=\"dataframe\">\n",
       "  <thead>\n",
       "    <tr style=\"text-align: right;\">\n",
       "      <th></th>\n",
       "      <th>raceId</th>\n",
       "      <th>driverId</th>\n",
       "      <th>stop</th>\n",
       "      <th>lap</th>\n",
       "      <th>time</th>\n",
       "      <th>duration</th>\n",
       "      <th>milliseconds</th>\n",
       "    </tr>\n",
       "  </thead>\n",
       "  <tbody>\n",
       "    <tr>\n",
       "      <th>0</th>\n",
       "      <td>841</td>\n",
       "      <td>153</td>\n",
       "      <td>1</td>\n",
       "      <td>1</td>\n",
       "      <td>17:05:23</td>\n",
       "      <td>26.898</td>\n",
       "      <td>26898</td>\n",
       "    </tr>\n",
       "    <tr>\n",
       "      <th>1</th>\n",
       "      <td>841</td>\n",
       "      <td>30</td>\n",
       "      <td>1</td>\n",
       "      <td>1</td>\n",
       "      <td>17:05:52</td>\n",
       "      <td>25.021</td>\n",
       "      <td>25021</td>\n",
       "    </tr>\n",
       "  </tbody>\n",
       "</table>\n",
       "</div>"
      ],
      "text/plain": [
       "   raceId  driverId  stop  lap      time duration  milliseconds\n",
       "0     841       153     1    1  17:05:23   26.898         26898\n",
       "1     841        30     1    1  17:05:52   25.021         25021"
      ]
     },
     "execution_count": 3,
     "metadata": {},
     "output_type": "execute_result"
    }
   ],
   "source": [
    "pit_stops.head(2)"
   ]
  },
  {
   "cell_type": "code",
   "execution_count": 6,
   "metadata": {},
   "outputs": [
    {
     "data": {
      "text/plain": [
       "9027    22316\n",
       "1075    21696\n",
       "Name: milliseconds, dtype: int32"
      ]
     },
     "execution_count": 6,
     "metadata": {},
     "output_type": "execute_result"
    }
   ],
   "source": [
    "# cambiar tiempo en milisegundos a int\n",
    "pit_stops[\"milliseconds\"].astype(int).sample(2)"
   ]
  },
  {
   "cell_type": "code",
   "execution_count": 7,
   "metadata": {},
   "outputs": [],
   "source": [
    "pit_stops.drop(['time', 'duration'], axis=1, inplace=True)\n",
    "#quitar hora de parada y tiempo en segundos"
   ]
  },
  {
   "cell_type": "code",
   "execution_count": 8,
   "metadata": {},
   "outputs": [
    {
     "data": {
      "text/html": [
       "<div>\n",
       "<style scoped>\n",
       "    .dataframe tbody tr th:only-of-type {\n",
       "        vertical-align: middle;\n",
       "    }\n",
       "\n",
       "    .dataframe tbody tr th {\n",
       "        vertical-align: top;\n",
       "    }\n",
       "\n",
       "    .dataframe thead th {\n",
       "        text-align: right;\n",
       "    }\n",
       "</style>\n",
       "<table border=\"1\" class=\"dataframe\">\n",
       "  <thead>\n",
       "    <tr style=\"text-align: right;\">\n",
       "      <th></th>\n",
       "      <th>raceId</th>\n",
       "      <th>driverId</th>\n",
       "      <th>stop</th>\n",
       "      <th>lap</th>\n",
       "      <th>milliseconds</th>\n",
       "    </tr>\n",
       "  </thead>\n",
       "  <tbody>\n",
       "    <tr>\n",
       "      <th>0</th>\n",
       "      <td>841</td>\n",
       "      <td>153</td>\n",
       "      <td>1</td>\n",
       "      <td>1</td>\n",
       "      <td>26898</td>\n",
       "    </tr>\n",
       "    <tr>\n",
       "      <th>1</th>\n",
       "      <td>841</td>\n",
       "      <td>30</td>\n",
       "      <td>1</td>\n",
       "      <td>1</td>\n",
       "      <td>25021</td>\n",
       "    </tr>\n",
       "    <tr>\n",
       "      <th>2</th>\n",
       "      <td>841</td>\n",
       "      <td>17</td>\n",
       "      <td>1</td>\n",
       "      <td>11</td>\n",
       "      <td>23426</td>\n",
       "    </tr>\n",
       "    <tr>\n",
       "      <th>3</th>\n",
       "      <td>841</td>\n",
       "      <td>4</td>\n",
       "      <td>1</td>\n",
       "      <td>12</td>\n",
       "      <td>23251</td>\n",
       "    </tr>\n",
       "    <tr>\n",
       "      <th>4</th>\n",
       "      <td>841</td>\n",
       "      <td>13</td>\n",
       "      <td>1</td>\n",
       "      <td>13</td>\n",
       "      <td>23842</td>\n",
       "    </tr>\n",
       "    <tr>\n",
       "      <th>...</th>\n",
       "      <td>...</td>\n",
       "      <td>...</td>\n",
       "      <td>...</td>\n",
       "      <td>...</td>\n",
       "      <td>...</td>\n",
       "    </tr>\n",
       "    <tr>\n",
       "      <th>9891</th>\n",
       "      <td>1105</td>\n",
       "      <td>847</td>\n",
       "      <td>2</td>\n",
       "      <td>45</td>\n",
       "      <td>22054</td>\n",
       "    </tr>\n",
       "    <tr>\n",
       "      <th>9892</th>\n",
       "      <td>1105</td>\n",
       "      <td>1</td>\n",
       "      <td>2</td>\n",
       "      <td>50</td>\n",
       "      <td>22731</td>\n",
       "    </tr>\n",
       "    <tr>\n",
       "      <th>9893</th>\n",
       "      <td>1105</td>\n",
       "      <td>815</td>\n",
       "      <td>2</td>\n",
       "      <td>50</td>\n",
       "      <td>21537</td>\n",
       "    </tr>\n",
       "    <tr>\n",
       "      <th>9894</th>\n",
       "      <td>1105</td>\n",
       "      <td>846</td>\n",
       "      <td>3</td>\n",
       "      <td>50</td>\n",
       "      <td>22062</td>\n",
       "    </tr>\n",
       "    <tr>\n",
       "      <th>9895</th>\n",
       "      <td>1105</td>\n",
       "      <td>830</td>\n",
       "      <td>2</td>\n",
       "      <td>52</td>\n",
       "      <td>22357</td>\n",
       "    </tr>\n",
       "  </tbody>\n",
       "</table>\n",
       "<p>9896 rows × 5 columns</p>\n",
       "</div>"
      ],
      "text/plain": [
       "      raceId  driverId  stop  lap  milliseconds\n",
       "0        841       153     1    1         26898\n",
       "1        841        30     1    1         25021\n",
       "2        841        17     1   11         23426\n",
       "3        841         4     1   12         23251\n",
       "4        841        13     1   13         23842\n",
       "...      ...       ...   ...  ...           ...\n",
       "9891    1105       847     2   45         22054\n",
       "9892    1105         1     2   50         22731\n",
       "9893    1105       815     2   50         21537\n",
       "9894    1105       846     3   50         22062\n",
       "9895    1105       830     2   52         22357\n",
       "\n",
       "[9896 rows x 5 columns]"
      ]
     },
     "execution_count": 8,
     "metadata": {},
     "output_type": "execute_result"
    }
   ],
   "source": [
    "pit_stops"
   ]
  },
  {
   "cell_type": "code",
   "execution_count": 85,
   "metadata": {},
   "outputs": [
    {
     "data": {
      "text/plain": [
       "raceId  driverId\n",
       "841     1           23213.0\n",
       "        2           24046.0\n",
       "        3           23716.0\n",
       "        4           24055.0\n",
       "        5           24865.0\n",
       "                     ...   \n",
       "1105    852         22092.5\n",
       "        855         23159.5\n",
       "        856         22249.0\n",
       "        857         22616.0\n",
       "        858         23205.0\n",
       "Name: milliseconds, Length: 4837, dtype: float64"
      ]
     },
     "execution_count": 85,
     "metadata": {},
     "output_type": "execute_result"
    }
   ],
   "source": [
    "# media de tiempo de paradas por carrera/conductor\n",
    "\n",
    "pit_stops_mean=pit_stops.groupby([\"raceId\", \"driverId\"])[\"milliseconds\"].mean()\n",
    "pit_stops_mean"
   ]
  },
  {
   "cell_type": "code",
   "execution_count": 100,
   "metadata": {},
   "outputs": [
    {
     "name": "stdout",
     "output_type": "stream",
     "text": [
      "<class 'pandas.core.frame.DataFrame'>\n",
      "RangeIndex: 9896 entries, 0 to 9895\n",
      "Data columns (total 5 columns):\n",
      " #   Column        Non-Null Count  Dtype\n",
      "---  ------        --------------  -----\n",
      " 0   raceId        9896 non-null   int64\n",
      " 1   driverId      9896 non-null   int64\n",
      " 2   stop          9896 non-null   int64\n",
      " 3   lap           9896 non-null   int64\n",
      " 4   milliseconds  9896 non-null   int64\n",
      "dtypes: int64(5)\n",
      "memory usage: 386.7 KB\n"
     ]
    }
   ],
   "source": [
    "pit_stops.info()\n",
    "# no tiene datos nulos\n",
    "#datos cualitativos raceId, driverId, stop, lap\n",
    "#datos cuantitativos: milliseconds"
   ]
  },
  {
   "attachments": {},
   "cell_type": "markdown",
   "metadata": {},
   "source": [
    "---------------\n",
    "\n",
    "## <center><span style=\"color:RED\"> *RACES*</span></center>\n",
    "\n",
    "---------------"
   ]
  },
  {
   "cell_type": "code",
   "execution_count": null,
   "metadata": {},
   "outputs": [],
   "source": [
    "# quitar columnas de races\n",
    "\n",
    "races.drop(['url', 'time', 'fp1_date', 'fp1_time', 'fp2_date', 'fp2_time', 'fp3_date', 'fp3_time', 'quali_date', 'quali_time', 'sprint_date', 'sprint_time'], axis=1, inplace=True)"
   ]
  },
  {
   "cell_type": "code",
   "execution_count": 105,
   "metadata": {},
   "outputs": [
    {
     "data": {
      "text/html": [
       "<div>\n",
       "<style scoped>\n",
       "    .dataframe tbody tr th:only-of-type {\n",
       "        vertical-align: middle;\n",
       "    }\n",
       "\n",
       "    .dataframe tbody tr th {\n",
       "        vertical-align: top;\n",
       "    }\n",
       "\n",
       "    .dataframe thead th {\n",
       "        text-align: right;\n",
       "    }\n",
       "</style>\n",
       "<table border=\"1\" class=\"dataframe\">\n",
       "  <thead>\n",
       "    <tr style=\"text-align: right;\">\n",
       "      <th></th>\n",
       "      <th>raceId</th>\n",
       "      <th>year</th>\n",
       "      <th>round</th>\n",
       "      <th>circuitId</th>\n",
       "      <th>name</th>\n",
       "      <th>date</th>\n",
       "    </tr>\n",
       "  </thead>\n",
       "  <tbody>\n",
       "    <tr>\n",
       "      <th>743</th>\n",
       "      <td>744</td>\n",
       "      <td>1961</td>\n",
       "      <td>7</td>\n",
       "      <td>14</td>\n",
       "      <td>Italian Grand Prix</td>\n",
       "      <td>1961-09-10</td>\n",
       "    </tr>\n",
       "    <tr>\n",
       "      <th>417</th>\n",
       "      <td>418</td>\n",
       "      <td>1986</td>\n",
       "      <td>15</td>\n",
       "      <td>32</td>\n",
       "      <td>Mexican Grand Prix</td>\n",
       "      <td>1986-10-12</td>\n",
       "    </tr>\n",
       "  </tbody>\n",
       "</table>\n",
       "</div>"
      ],
      "text/plain": [
       "     raceId  year  round  circuitId                name        date\n",
       "743     744  1961      7         14  Italian Grand Prix  1961-09-10\n",
       "417     418  1986     15         32  Mexican Grand Prix  1986-10-12"
      ]
     },
     "execution_count": 105,
     "metadata": {},
     "output_type": "execute_result"
    }
   ],
   "source": [
    "races.sort_values(\"year\").sample(2)"
   ]
  },
  {
   "cell_type": "code",
   "execution_count": 82,
   "metadata": {},
   "outputs": [
    {
     "data": {
      "text/html": [
       "<div>\n",
       "<style scoped>\n",
       "    .dataframe tbody tr th:only-of-type {\n",
       "        vertical-align: middle;\n",
       "    }\n",
       "\n",
       "    .dataframe tbody tr th {\n",
       "        vertical-align: top;\n",
       "    }\n",
       "\n",
       "    .dataframe thead th {\n",
       "        text-align: right;\n",
       "    }\n",
       "</style>\n",
       "<table border=\"1\" class=\"dataframe\">\n",
       "  <thead>\n",
       "    <tr style=\"text-align: right;\">\n",
       "      <th></th>\n",
       "      <th>raceId</th>\n",
       "      <th>year</th>\n",
       "      <th>circuitId</th>\n",
       "      <th>name</th>\n",
       "    </tr>\n",
       "  </thead>\n",
       "  <tbody>\n",
       "    <tr>\n",
       "      <th>840</th>\n",
       "      <td>842</td>\n",
       "      <td>2011</td>\n",
       "      <td>2</td>\n",
       "      <td>Malaysian Grand Prix</td>\n",
       "    </tr>\n",
       "    <tr>\n",
       "      <th>841</th>\n",
       "      <td>843</td>\n",
       "      <td>2011</td>\n",
       "      <td>17</td>\n",
       "      <td>Chinese Grand Prix</td>\n",
       "    </tr>\n",
       "    <tr>\n",
       "      <th>842</th>\n",
       "      <td>844</td>\n",
       "      <td>2011</td>\n",
       "      <td>5</td>\n",
       "      <td>Turkish Grand Prix</td>\n",
       "    </tr>\n",
       "    <tr>\n",
       "      <th>843</th>\n",
       "      <td>845</td>\n",
       "      <td>2011</td>\n",
       "      <td>4</td>\n",
       "      <td>Spanish Grand Prix</td>\n",
       "    </tr>\n",
       "    <tr>\n",
       "      <th>844</th>\n",
       "      <td>846</td>\n",
       "      <td>2011</td>\n",
       "      <td>6</td>\n",
       "      <td>Monaco Grand Prix</td>\n",
       "    </tr>\n",
       "    <tr>\n",
       "      <th>...</th>\n",
       "      <td>...</td>\n",
       "      <td>...</td>\n",
       "      <td>...</td>\n",
       "      <td>...</td>\n",
       "    </tr>\n",
       "    <tr>\n",
       "      <th>1096</th>\n",
       "      <td>1116</td>\n",
       "      <td>2023</td>\n",
       "      <td>69</td>\n",
       "      <td>United States Grand Prix</td>\n",
       "    </tr>\n",
       "    <tr>\n",
       "      <th>1097</th>\n",
       "      <td>1117</td>\n",
       "      <td>2023</td>\n",
       "      <td>32</td>\n",
       "      <td>Mexico City Grand Prix</td>\n",
       "    </tr>\n",
       "    <tr>\n",
       "      <th>1098</th>\n",
       "      <td>1118</td>\n",
       "      <td>2023</td>\n",
       "      <td>18</td>\n",
       "      <td>São Paulo Grand Prix</td>\n",
       "    </tr>\n",
       "    <tr>\n",
       "      <th>1099</th>\n",
       "      <td>1119</td>\n",
       "      <td>2023</td>\n",
       "      <td>80</td>\n",
       "      <td>Las Vegas Grand Prix</td>\n",
       "    </tr>\n",
       "    <tr>\n",
       "      <th>1100</th>\n",
       "      <td>1120</td>\n",
       "      <td>2023</td>\n",
       "      <td>24</td>\n",
       "      <td>Abu Dhabi Grand Prix</td>\n",
       "    </tr>\n",
       "  </tbody>\n",
       "</table>\n",
       "<p>261 rows × 4 columns</p>\n",
       "</div>"
      ],
      "text/plain": [
       "      raceId  year  circuitId                      name\n",
       "840      842  2011          2      Malaysian Grand Prix\n",
       "841      843  2011         17        Chinese Grand Prix\n",
       "842      844  2011          5        Turkish Grand Prix\n",
       "843      845  2011          4        Spanish Grand Prix\n",
       "844      846  2011          6         Monaco Grand Prix\n",
       "...      ...   ...        ...                       ...\n",
       "1096    1116  2023         69  United States Grand Prix\n",
       "1097    1117  2023         32    Mexico City Grand Prix\n",
       "1098    1118  2023         18      São Paulo Grand Prix\n",
       "1099    1119  2023         80      Las Vegas Grand Prix\n",
       "1100    1120  2023         24      Abu Dhabi Grand Prix\n",
       "\n",
       "[261 rows x 4 columns]"
      ]
     },
     "execution_count": 82,
     "metadata": {},
     "output_type": "execute_result"
    }
   ],
   "source": [
    "races[[\"raceId\", \"year\", \"circuitId\", \"name\"]][races.raceId>=842]"
   ]
  },
  {
   "cell_type": "code",
   "execution_count": 168,
   "metadata": {},
   "outputs": [
    {
     "data": {
      "text/html": [
       "<div>\n",
       "<style scoped>\n",
       "    .dataframe tbody tr th:only-of-type {\n",
       "        vertical-align: middle;\n",
       "    }\n",
       "\n",
       "    .dataframe tbody tr th {\n",
       "        vertical-align: top;\n",
       "    }\n",
       "\n",
       "    .dataframe thead th {\n",
       "        text-align: right;\n",
       "    }\n",
       "</style>\n",
       "<table border=\"1\" class=\"dataframe\">\n",
       "  <thead>\n",
       "    <tr style=\"text-align: right;\">\n",
       "      <th></th>\n",
       "      <th>raceId</th>\n",
       "      <th>year</th>\n",
       "      <th>round</th>\n",
       "      <th>circuitId</th>\n",
       "      <th>name</th>\n",
       "      <th>date</th>\n",
       "    </tr>\n",
       "  </thead>\n",
       "  <tbody>\n",
       "    <tr>\n",
       "      <th>465</th>\n",
       "      <td>466</td>\n",
       "      <td>1983</td>\n",
       "      <td>15</td>\n",
       "      <td>30</td>\n",
       "      <td>South African Grand Prix</td>\n",
       "      <td>1983-10-15</td>\n",
       "    </tr>\n",
       "    <tr>\n",
       "      <th>738</th>\n",
       "      <td>739</td>\n",
       "      <td>1961</td>\n",
       "      <td>2</td>\n",
       "      <td>39</td>\n",
       "      <td>Dutch Grand Prix</td>\n",
       "      <td>1961-05-22</td>\n",
       "    </tr>\n",
       "  </tbody>\n",
       "</table>\n",
       "</div>"
      ],
      "text/plain": [
       "     raceId  year  round  circuitId                      name        date\n",
       "465     466  1983     15         30  South African Grand Prix  1983-10-15\n",
       "738     739  1961      2         39          Dutch Grand Prix  1961-05-22"
      ]
     },
     "execution_count": 168,
     "metadata": {},
     "output_type": "execute_result"
    }
   ],
   "source": [
    "races.sort_values(\"year\").sample(2)"
   ]
  },
  {
   "cell_type": "code",
   "execution_count": 167,
   "metadata": {},
   "outputs": [
    {
     "name": "stdout",
     "output_type": "stream",
     "text": [
      "<class 'pandas.core.frame.DataFrame'>\n",
      "RangeIndex: 1101 entries, 0 to 1100\n",
      "Data columns (total 6 columns):\n",
      " #   Column     Non-Null Count  Dtype \n",
      "---  ------     --------------  ----- \n",
      " 0   raceId     1101 non-null   int64 \n",
      " 1   year       1101 non-null   int64 \n",
      " 2   round      1101 non-null   int64 \n",
      " 3   circuitId  1101 non-null   int64 \n",
      " 4   name       1101 non-null   object\n",
      " 5   date       1101 non-null   object\n",
      "dtypes: int64(4), object(2)\n",
      "memory usage: 51.7+ KB\n"
     ]
    }
   ],
   "source": [
    "races.info()\n",
    "\n",
    "#todo valores cualitativos, para unir con resultados y clasificar en gráficos"
   ]
  },
  {
   "attachments": {},
   "cell_type": "markdown",
   "metadata": {},
   "source": [
    "---------------\n",
    "\n",
    "## <center><span style=\"color:RED\"> *RESULTS*</span></center>\n",
    "\n",
    "---------------"
   ]
  },
  {
   "cell_type": "code",
   "execution_count": 206,
   "metadata": {},
   "outputs": [
    {
     "name": "stdout",
     "output_type": "stream",
     "text": [
      "<class 'pandas.core.frame.DataFrame'>\n",
      "Index: 2579 entries, 20822 to 25971\n",
      "Data columns (total 12 columns):\n",
      " #   Column           Non-Null Count  Dtype  \n",
      "---  ------           --------------  -----  \n",
      " 0   raceId           2579 non-null   int64  \n",
      " 1   driverId         2579 non-null   int64  \n",
      " 2   constructorId    2579 non-null   int64  \n",
      " 3   grid             2579 non-null   int64  \n",
      " 4   position         2579 non-null   object \n",
      " 5   points           2579 non-null   float64\n",
      " 6   laps             2579 non-null   int64  \n",
      " 7   milliseconds     2579 non-null   object \n",
      " 8   fastestLap       2579 non-null   object \n",
      " 9   fastestLapTime   2579 non-null   object \n",
      " 10  fastestLapSpeed  2579 non-null   object \n",
      " 11  statusId         2579 non-null   int64  \n",
      "dtypes: float64(1), int64(6), object(5)\n",
      "memory usage: 261.9+ KB\n"
     ]
    }
   ],
   "source": [
    "# resultados de cada carrera, identificador de carrera, conductor, constructor, posición, vueltas, tiempo total, puntos, vuelta rapida, tiempo de vuelta rapida\n",
    "results.info()"
   ]
  },
  {
   "cell_type": "code",
   "execution_count": 207,
   "metadata": {},
   "outputs": [
    {
     "data": {
      "text/html": [
       "<div>\n",
       "<style scoped>\n",
       "    .dataframe tbody tr th:only-of-type {\n",
       "        vertical-align: middle;\n",
       "    }\n",
       "\n",
       "    .dataframe tbody tr th {\n",
       "        vertical-align: top;\n",
       "    }\n",
       "\n",
       "    .dataframe thead th {\n",
       "        text-align: right;\n",
       "    }\n",
       "</style>\n",
       "<table border=\"1\" class=\"dataframe\">\n",
       "  <thead>\n",
       "    <tr style=\"text-align: right;\">\n",
       "      <th></th>\n",
       "      <th>raceId</th>\n",
       "      <th>driverId</th>\n",
       "      <th>constructorId</th>\n",
       "      <th>grid</th>\n",
       "      <th>position</th>\n",
       "      <th>points</th>\n",
       "      <th>laps</th>\n",
       "      <th>milliseconds</th>\n",
       "      <th>fastestLap</th>\n",
       "      <th>fastestLapTime</th>\n",
       "      <th>fastestLapSpeed</th>\n",
       "      <th>statusId</th>\n",
       "    </tr>\n",
       "  </thead>\n",
       "  <tbody>\n",
       "    <tr>\n",
       "      <th>25569</th>\n",
       "      <td>1082</td>\n",
       "      <td>840</td>\n",
       "      <td>117</td>\n",
       "      <td>17</td>\n",
       "      <td>10</td>\n",
       "      <td>1.0</td>\n",
       "      <td>70</td>\n",
       "      <td>5819979</td>\n",
       "      <td>64</td>\n",
       "      <td>1:17.421</td>\n",
       "      <td>202.782</td>\n",
       "      <td>1</td>\n",
       "    </tr>\n",
       "    <tr>\n",
       "      <th>24157</th>\n",
       "      <td>1008</td>\n",
       "      <td>1</td>\n",
       "      <td>131</td>\n",
       "      <td>1</td>\n",
       "      <td>1</td>\n",
       "      <td>25.0</td>\n",
       "      <td>71</td>\n",
       "      <td>5229066</td>\n",
       "      <td>70</td>\n",
       "      <td>1:11.795</td>\n",
       "      <td>216.065</td>\n",
       "      <td>1</td>\n",
       "    </tr>\n",
       "  </tbody>\n",
       "</table>\n",
       "</div>"
      ],
      "text/plain": [
       "       raceId  driverId  constructorId  grid position  points  laps   \n",
       "25569    1082       840            117    17       10     1.0    70  \\\n",
       "24157    1008         1            131     1        1    25.0    71   \n",
       "\n",
       "      milliseconds fastestLap fastestLapTime fastestLapSpeed  statusId  \n",
       "25569      5819979         64       1:17.421         202.782         1  \n",
       "24157      5229066         70       1:11.795         216.065         1  "
      ]
     },
     "execution_count": 207,
     "metadata": {},
     "output_type": "execute_result"
    }
   ],
   "source": [
    "# De los pitstops cambió la norma para evitar repostajes por seguridad en 2009\n",
    "\n",
    "# los pitstops.csv tiene información desde entonces en adelante.       carrera 842\n",
    "\n",
    "# Nos quedamos con los resultados de conductores que han acabado las carreras.      statusId==1\n",
    "\n",
    "results.sample(2)"
   ]
  },
  {
   "cell_type": "code",
   "execution_count": 208,
   "metadata": {},
   "outputs": [
    {
     "name": "stdout",
     "output_type": "stream",
     "text": [
      "<class 'pandas.core.frame.DataFrame'>\n",
      "Index: 2579 entries, 20822 to 25971\n",
      "Data columns (total 12 columns):\n",
      " #   Column           Non-Null Count  Dtype  \n",
      "---  ------           --------------  -----  \n",
      " 0   raceId           2579 non-null   int64  \n",
      " 1   driverId         2579 non-null   int64  \n",
      " 2   constructorId    2579 non-null   int64  \n",
      " 3   grid             2579 non-null   int64  \n",
      " 4   position         2579 non-null   object \n",
      " 5   points           2579 non-null   float64\n",
      " 6   laps             2579 non-null   int64  \n",
      " 7   milliseconds     2579 non-null   object \n",
      " 8   fastestLap       2579 non-null   object \n",
      " 9   fastestLapTime   2579 non-null   object \n",
      " 10  fastestLapSpeed  2579 non-null   object \n",
      " 11  statusId         2579 non-null   int64  \n",
      "dtypes: float64(1), int64(6), object(5)\n",
      "memory usage: 261.9+ KB\n"
     ]
    }
   ],
   "source": [
    "results=results[(results.raceId>842)&(results.statusId==1)]\n",
    "results.info()"
   ]
  },
  {
   "cell_type": "code",
   "execution_count": null,
   "metadata": {},
   "outputs": [],
   "source": [
    "# quitar columnas . Guardar info de vuelta rapida de cada conductor\n",
    "\n",
    "results.drop(['positionText', 'positionOrder','number', 'resultId', 'time', 'rank'], axis=1, inplace=True)"
   ]
  },
  {
   "cell_type": "code",
   "execution_count": 212,
   "metadata": {},
   "outputs": [
    {
     "data": {
      "text/plain": [
       "count        2579\n",
       "unique       2577\n",
       "top       5152531\n",
       "freq            2\n",
       "Name: milliseconds, dtype: object"
      ]
     },
     "execution_count": 212,
     "metadata": {},
     "output_type": "execute_result"
    }
   ],
   "source": [
    "results[\"milliseconds\"].describe()"
   ]
  },
  {
   "cell_type": "code",
   "execution_count": 211,
   "metadata": {},
   "outputs": [],
   "source": [
    "# cambiar valores \\N de milliseconds a 0\n",
    "results[\"milliseconds\"].replace('\\\\N', 0, inplace=True)"
   ]
  },
  {
   "cell_type": "code",
   "execution_count": 213,
   "metadata": {},
   "outputs": [
    {
     "data": {
      "text/plain": [
       "20822    5818226\n",
       "20823    5823424\n",
       "20824    5825781\n",
       "20825    5828226\n",
       "20826    5831674\n",
       "          ...   \n",
       "25967    5347182\n",
       "25968    5349818\n",
       "25969    5351470\n",
       "25970    5352359\n",
       "25971    5353356\n",
       "Name: milliseconds, Length: 2579, dtype: int32"
      ]
     },
     "execution_count": 213,
     "metadata": {},
     "output_type": "execute_result"
    }
   ],
   "source": [
    "# cambiar tipo a entero\n",
    "results['milliseconds'].astype(int)"
   ]
  },
  {
   "cell_type": "code",
   "execution_count": 214,
   "metadata": {},
   "outputs": [
    {
     "data": {
      "text/html": [
       "<div>\n",
       "<style scoped>\n",
       "    .dataframe tbody tr th:only-of-type {\n",
       "        vertical-align: middle;\n",
       "    }\n",
       "\n",
       "    .dataframe tbody tr th {\n",
       "        vertical-align: top;\n",
       "    }\n",
       "\n",
       "    .dataframe thead th {\n",
       "        text-align: right;\n",
       "    }\n",
       "</style>\n",
       "<table border=\"1\" class=\"dataframe\">\n",
       "  <thead>\n",
       "    <tr style=\"text-align: right;\">\n",
       "      <th></th>\n",
       "      <th>statusId</th>\n",
       "      <th>status</th>\n",
       "    </tr>\n",
       "  </thead>\n",
       "  <tbody>\n",
       "    <tr>\n",
       "      <th>0</th>\n",
       "      <td>1</td>\n",
       "      <td>Finished</td>\n",
       "    </tr>\n",
       "  </tbody>\n",
       "</table>\n",
       "</div>"
      ],
      "text/plain": [
       "   statusId    status\n",
       "0         1  Finished"
      ]
     },
     "execution_count": 214,
     "metadata": {},
     "output_type": "execute_result"
    }
   ],
   "source": [
    "# statusId=1 indica que el conductor terminó la carrera\n",
    "status[[\"statusId\",\"status\"]][status.status=='Finished']"
   ]
  },
  {
   "cell_type": "code",
   "execution_count": 215,
   "metadata": {},
   "outputs": [
    {
     "data": {
      "text/html": [
       "<div>\n",
       "<style scoped>\n",
       "    .dataframe tbody tr th:only-of-type {\n",
       "        vertical-align: middle;\n",
       "    }\n",
       "\n",
       "    .dataframe tbody tr th {\n",
       "        vertical-align: top;\n",
       "    }\n",
       "\n",
       "    .dataframe thead th {\n",
       "        text-align: right;\n",
       "    }\n",
       "</style>\n",
       "<table border=\"1\" class=\"dataframe\">\n",
       "  <thead>\n",
       "    <tr style=\"text-align: right;\">\n",
       "      <th></th>\n",
       "      <th>raceId</th>\n",
       "      <th>driverId</th>\n",
       "      <th>constructorId</th>\n",
       "      <th>grid</th>\n",
       "      <th>position</th>\n",
       "      <th>points</th>\n",
       "      <th>laps</th>\n",
       "      <th>milliseconds</th>\n",
       "      <th>fastestLap</th>\n",
       "      <th>fastestLapTime</th>\n",
       "      <th>fastestLapSpeed</th>\n",
       "      <th>statusId</th>\n",
       "    </tr>\n",
       "  </thead>\n",
       "  <tbody>\n",
       "    <tr>\n",
       "      <th>24448</th>\n",
       "      <td>1022</td>\n",
       "      <td>842</td>\n",
       "      <td>5</td>\n",
       "      <td>13</td>\n",
       "      <td>9</td>\n",
       "      <td>2.0</td>\n",
       "      <td>44</td>\n",
       "      <td>5134878</td>\n",
       "      <td>21</td>\n",
       "      <td>1:49.700</td>\n",
       "      <td>229.848</td>\n",
       "      <td>1</td>\n",
       "    </tr>\n",
       "    <tr>\n",
       "      <th>23438</th>\n",
       "      <td>972</td>\n",
       "      <td>830</td>\n",
       "      <td>9</td>\n",
       "      <td>7</td>\n",
       "      <td>5</td>\n",
       "      <td>10.0</td>\n",
       "      <td>52</td>\n",
       "      <td>5349159</td>\n",
       "      <td>47</td>\n",
       "      <td>1:38.429</td>\n",
       "      <td>213.888</td>\n",
       "      <td>1</td>\n",
       "    </tr>\n",
       "    <tr>\n",
       "      <th>24701</th>\n",
       "      <td>1035</td>\n",
       "      <td>1</td>\n",
       "      <td>131</td>\n",
       "      <td>2</td>\n",
       "      <td>2</td>\n",
       "      <td>19.0</td>\n",
       "      <td>52</td>\n",
       "      <td>4793319</td>\n",
       "      <td>43</td>\n",
       "      <td>1:28.451</td>\n",
       "      <td>239.766</td>\n",
       "      <td>1</td>\n",
       "    </tr>\n",
       "    <tr>\n",
       "      <th>23485</th>\n",
       "      <td>974</td>\n",
       "      <td>839</td>\n",
       "      <td>10</td>\n",
       "      <td>15</td>\n",
       "      <td>12</td>\n",
       "      <td>0.0</td>\n",
       "      <td>78</td>\n",
       "      <td>6308065</td>\n",
       "      <td>52</td>\n",
       "      <td>1:16.482</td>\n",
       "      <td>157.072</td>\n",
       "      <td>1</td>\n",
       "    </tr>\n",
       "  </tbody>\n",
       "</table>\n",
       "</div>"
      ],
      "text/plain": [
       "       raceId  driverId  constructorId  grid position  points  laps   \n",
       "24448    1022       842              5    13        9     2.0    44  \\\n",
       "23438     972       830              9     7        5    10.0    52   \n",
       "24701    1035         1            131     2        2    19.0    52   \n",
       "23485     974       839             10    15       12     0.0    78   \n",
       "\n",
       "      milliseconds fastestLap fastestLapTime fastestLapSpeed  statusId  \n",
       "24448      5134878         21       1:49.700         229.848         1  \n",
       "23438      5349159         47       1:38.429         213.888         1  \n",
       "24701      4793319         43       1:28.451         239.766         1  \n",
       "23485      6308065         52       1:16.482         157.072         1  "
      ]
     },
     "execution_count": 215,
     "metadata": {},
     "output_type": "execute_result"
    }
   ],
   "source": [
    "# Resultados de cada carrera, identificadores de carrera, piloto, posición, puntos, vueltas, tiempos\n",
    "\n",
    "results.sample(4)"
   ]
  },
  {
   "cell_type": "code",
   "execution_count": null,
   "metadata": {},
   "outputs": [],
   "source": [
    "# merge con medias de tiempo de pitstops, races, y drivers"
   ]
  },
  {
   "attachments": {},
   "cell_type": "markdown",
   "metadata": {},
   "source": [
    "---------------\n",
    "\n",
    "## <center><span style=\"color:RED\"> *DRIVERS*</span></center>\n",
    "\n",
    "---------------"
   ]
  },
  {
   "cell_type": "code",
   "execution_count": null,
   "metadata": {},
   "outputs": [],
   "source": [
    "# unir nombre apellido\n",
    "drivers['fullname']=drivers['forename']+\" \"+drivers['surname']"
   ]
  },
  {
   "cell_type": "code",
   "execution_count": null,
   "metadata": {},
   "outputs": [],
   "source": [
    "# borrar columnas\n",
    "\n",
    "drivers.drop(['nationality', 'code' 'dob', 'number', 'url', 'forename', 'surname'], axis=1, inplace=True)"
   ]
  },
  {
   "cell_type": "code",
   "execution_count": 224,
   "metadata": {},
   "outputs": [
    {
     "data": {
      "text/html": [
       "<div>\n",
       "<style scoped>\n",
       "    .dataframe tbody tr th:only-of-type {\n",
       "        vertical-align: middle;\n",
       "    }\n",
       "\n",
       "    .dataframe tbody tr th {\n",
       "        vertical-align: top;\n",
       "    }\n",
       "\n",
       "    .dataframe thead th {\n",
       "        text-align: right;\n",
       "    }\n",
       "</style>\n",
       "<table border=\"1\" class=\"dataframe\">\n",
       "  <thead>\n",
       "    <tr style=\"text-align: right;\">\n",
       "      <th></th>\n",
       "      <th>driverId</th>\n",
       "      <th>driverRef</th>\n",
       "      <th>fullname</th>\n",
       "    </tr>\n",
       "  </thead>\n",
       "  <tbody>\n",
       "    <tr>\n",
       "      <th>3</th>\n",
       "      <td>4</td>\n",
       "      <td>alonso</td>\n",
       "      <td>Fernando Alonso</td>\n",
       "    </tr>\n",
       "  </tbody>\n",
       "</table>\n",
       "</div>"
      ],
      "text/plain": [
       "   driverId driverRef         fullname\n",
       "3         4    alonso  Fernando Alonso"
      ]
     },
     "execution_count": 224,
     "metadata": {},
     "output_type": "execute_result"
    }
   ],
   "source": [
    "# Información básica de cada conductor, id, alias, nombre completo\n",
    "# todas cualitativas para mezclar con results\n",
    "\n",
    "drivers[drivers.driverId==4]"
   ]
  },
  {
   "attachments": {},
   "cell_type": "markdown",
   "metadata": {},
   "source": [
    "---------------\n",
    "\n",
    "## <center><span style=\"color:RED\"> *LAP TIMES*</span></center>\n",
    "\n",
    "---------------"
   ]
  },
  {
   "cell_type": "code",
   "execution_count": 223,
   "metadata": {},
   "outputs": [
    {
     "name": "stdout",
     "output_type": "stream",
     "text": [
      "<class 'pandas.core.frame.DataFrame'>\n",
      "RangeIndex: 546037 entries, 0 to 546036\n",
      "Data columns (total 6 columns):\n",
      " #   Column        Non-Null Count   Dtype \n",
      "---  ------        --------------   ----- \n",
      " 0   raceId        546037 non-null  int64 \n",
      " 1   driverId      546037 non-null  int64 \n",
      " 2   lap           546037 non-null  int64 \n",
      " 3   position      546037 non-null  int64 \n",
      " 4   time          546037 non-null  object\n",
      " 5   milliseconds  546037 non-null  int64 \n",
      "dtypes: int64(5), object(1)\n",
      "memory usage: 25.0+ MB\n"
     ]
    }
   ],
   "source": [
    "lap_times.info()\n",
    "\n",
    "# sin valores nulos\n",
    "# variable cuantitativa, tiempo en milisegundos por vuelta"
   ]
  },
  {
   "cell_type": "code",
   "execution_count": 170,
   "metadata": {},
   "outputs": [
    {
     "data": {
      "text/html": [
       "<div>\n",
       "<style scoped>\n",
       "    .dataframe tbody tr th:only-of-type {\n",
       "        vertical-align: middle;\n",
       "    }\n",
       "\n",
       "    .dataframe tbody tr th {\n",
       "        vertical-align: top;\n",
       "    }\n",
       "\n",
       "    .dataframe thead th {\n",
       "        text-align: right;\n",
       "    }\n",
       "</style>\n",
       "<table border=\"1\" class=\"dataframe\">\n",
       "  <thead>\n",
       "    <tr style=\"text-align: right;\">\n",
       "      <th></th>\n",
       "      <th>raceId</th>\n",
       "      <th>driverId</th>\n",
       "      <th>lap</th>\n",
       "      <th>position</th>\n",
       "      <th>time</th>\n",
       "      <th>milliseconds</th>\n",
       "    </tr>\n",
       "  </thead>\n",
       "  <tbody>\n",
       "    <tr>\n",
       "      <th>95108</th>\n",
       "      <td>929</td>\n",
       "      <td>832</td>\n",
       "      <td>21</td>\n",
       "      <td>16</td>\n",
       "      <td>1:41.730</td>\n",
       "      <td>101730</td>\n",
       "    </tr>\n",
       "    <tr>\n",
       "      <th>156184</th>\n",
       "      <td>201</td>\n",
       "      <td>56</td>\n",
       "      <td>16</td>\n",
       "      <td>6</td>\n",
       "      <td>1:47.444</td>\n",
       "      <td>107444</td>\n",
       "    </tr>\n",
       "    <tr>\n",
       "      <th>189862</th>\n",
       "      <td>169</td>\n",
       "      <td>23</td>\n",
       "      <td>9</td>\n",
       "      <td>4</td>\n",
       "      <td>1:22.298</td>\n",
       "      <td>82298</td>\n",
       "    </tr>\n",
       "    <tr>\n",
       "      <th>431933</th>\n",
       "      <td>994</td>\n",
       "      <td>839</td>\n",
       "      <td>5</td>\n",
       "      <td>6</td>\n",
       "      <td>1:18.499</td>\n",
       "      <td>78499</td>\n",
       "    </tr>\n",
       "  </tbody>\n",
       "</table>\n",
       "</div>"
      ],
      "text/plain": [
       "        raceId  driverId  lap  position      time  milliseconds\n",
       "95108      929       832   21        16  1:41.730        101730\n",
       "156184     201        56   16         6  1:47.444        107444\n",
       "189862     169        23    9         4  1:22.298         82298\n",
       "431933     994       839    5         6  1:18.499         78499"
      ]
     },
     "execution_count": 170,
     "metadata": {},
     "output_type": "execute_result"
    }
   ],
   "source": [
    "lap_times.sample(4)"
   ]
  },
  {
   "cell_type": "code",
   "execution_count": 220,
   "metadata": {},
   "outputs": [
    {
     "data": {
      "text/plain": [
       "0         98109\n",
       "1         93006\n",
       "2         92713\n",
       "3         92803\n",
       "4         92342\n",
       "          ...  \n",
       "546032    79035\n",
       "546033    79096\n",
       "546034    79502\n",
       "546035    78922\n",
       "546036    79271\n",
       "Name: milliseconds, Length: 546037, dtype: int32"
      ]
     },
     "execution_count": 220,
     "metadata": {},
     "output_type": "execute_result"
    }
   ],
   "source": [
    "# cambiar tipo de tiempo en milisegundos a int\n",
    "lap_times[\"milliseconds\"].astype(int)"
   ]
  },
  {
   "cell_type": "code",
   "execution_count": 221,
   "metadata": {},
   "outputs": [
    {
     "data": {
      "text/plain": [
       "raceId  driverId\n",
       "1       1           97563.758621\n",
       "        2           97635.672414\n",
       "        3           97612.172414\n",
       "        4           97597.637931\n",
       "        6           91822.235294\n",
       "                        ...     \n",
       "1105    852         81035.696970\n",
       "        855         81057.848485\n",
       "        856         81281.030769\n",
       "        857         81264.846154\n",
       "        858         81994.107692\n",
       "Name: milliseconds, Length: 10285, dtype: float64"
      ]
     },
     "execution_count": 221,
     "metadata": {},
     "output_type": "execute_result"
    }
   ],
   "source": [
    "# media de tiempo por vuelta, por carrera y conductor\n",
    "lap_times_race_mean=lap_times.groupby(['raceId', 'driverId'])['milliseconds'].mean()\n",
    "lap_times_race_mean"
   ]
  },
  {
   "cell_type": "code",
   "execution_count": 172,
   "metadata": {},
   "outputs": [
    {
     "data": {
      "text/html": [
       "<div>\n",
       "<style scoped>\n",
       "    .dataframe tbody tr th:only-of-type {\n",
       "        vertical-align: middle;\n",
       "    }\n",
       "\n",
       "    .dataframe tbody tr th {\n",
       "        vertical-align: top;\n",
       "    }\n",
       "\n",
       "    .dataframe thead th {\n",
       "        text-align: right;\n",
       "    }\n",
       "</style>\n",
       "<table border=\"1\" class=\"dataframe\">\n",
       "  <thead>\n",
       "    <tr style=\"text-align: right;\">\n",
       "      <th></th>\n",
       "      <th>raceId</th>\n",
       "      <th>driverId</th>\n",
       "      <th>lap</th>\n",
       "      <th>position</th>\n",
       "      <th>time</th>\n",
       "      <th>milliseconds</th>\n",
       "    </tr>\n",
       "  </thead>\n",
       "  <tbody>\n",
       "    <tr>\n",
       "      <th>350128</th>\n",
       "      <td>8</td>\n",
       "      <td>9</td>\n",
       "      <td>17</td>\n",
       "      <td>14</td>\n",
       "      <td>1:23.718</td>\n",
       "      <td>83718</td>\n",
       "    </tr>\n",
       "  </tbody>\n",
       "</table>\n",
       "</div>"
      ],
      "text/plain": [
       "        raceId  driverId  lap  position      time  milliseconds\n",
       "350128       8         9   17        14  1:23.718         83718"
      ]
     },
     "execution_count": 172,
     "metadata": {},
     "output_type": "execute_result"
    }
   ],
   "source": [
    "lap_times.sample()"
   ]
  },
  {
   "cell_type": "code",
   "execution_count": 219,
   "metadata": {},
   "outputs": [
    {
     "ename": "AttributeError",
     "evalue": "'Series' object has no attribute 'raceId'",
     "output_type": "error",
     "traceback": [
      "\u001b[1;31m---------------------------------------------------------------------------\u001b[0m",
      "\u001b[1;31mAttributeError\u001b[0m                            Traceback (most recent call last)",
      "Cell \u001b[1;32mIn[219], line 1\u001b[0m\n\u001b[1;32m----> 1\u001b[0m plt\u001b[39m.\u001b[39mbar(lap_times_race_mean[lap_times_race_mean\u001b[39m.\u001b[39;49mraceId\u001b[39m==\u001b[39m\u001b[39m1000\u001b[39m], lap_times_race_mean)\n",
      "File \u001b[1;32mc:\\Users\\j\\miniconda3\\envs\\ramp_up_py395\\lib\\site-packages\\pandas\\core\\generic.py:5989\u001b[0m, in \u001b[0;36mNDFrame.__getattr__\u001b[1;34m(self, name)\u001b[0m\n\u001b[0;32m   5982\u001b[0m \u001b[39mif\u001b[39;00m (\n\u001b[0;32m   5983\u001b[0m     name \u001b[39mnot\u001b[39;00m \u001b[39min\u001b[39;00m \u001b[39mself\u001b[39m\u001b[39m.\u001b[39m_internal_names_set\n\u001b[0;32m   5984\u001b[0m     \u001b[39mand\u001b[39;00m name \u001b[39mnot\u001b[39;00m \u001b[39min\u001b[39;00m \u001b[39mself\u001b[39m\u001b[39m.\u001b[39m_metadata\n\u001b[0;32m   5985\u001b[0m     \u001b[39mand\u001b[39;00m name \u001b[39mnot\u001b[39;00m \u001b[39min\u001b[39;00m \u001b[39mself\u001b[39m\u001b[39m.\u001b[39m_accessors\n\u001b[0;32m   5986\u001b[0m     \u001b[39mand\u001b[39;00m \u001b[39mself\u001b[39m\u001b[39m.\u001b[39m_info_axis\u001b[39m.\u001b[39m_can_hold_identifiers_and_holds_name(name)\n\u001b[0;32m   5987\u001b[0m ):\n\u001b[0;32m   5988\u001b[0m     \u001b[39mreturn\u001b[39;00m \u001b[39mself\u001b[39m[name]\n\u001b[1;32m-> 5989\u001b[0m \u001b[39mreturn\u001b[39;00m \u001b[39mobject\u001b[39;49m\u001b[39m.\u001b[39;49m\u001b[39m__getattribute__\u001b[39;49m(\u001b[39mself\u001b[39;49m, name)\n",
      "\u001b[1;31mAttributeError\u001b[0m: 'Series' object has no attribute 'raceId'"
     ]
    }
   ],
   "source": [
    "plt.bar(lap_times_race_mean[lap_times_race_mean.raceId==1000], lap_times_race_mean)"
   ]
  }
 ],
 "metadata": {
  "kernelspec": {
   "display_name": "Python 3 (ipykernel)",
   "language": "python",
   "name": "python3"
  },
  "language_info": {
   "codemirror_mode": {
    "name": "ipython",
    "version": 3
   },
   "file_extension": ".py",
   "mimetype": "text/x-python",
   "name": "python",
   "nbconvert_exporter": "python",
   "pygments_lexer": "ipython3",
   "version": "3.9.5"
  },
  "orig_nbformat": 4
 },
 "nbformat": 4,
 "nbformat_minor": 2
}
