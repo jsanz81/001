{
 "cells": [
  {
   "attachments": {},
   "cell_type": "markdown",
   "metadata": {},
   "source": [
    "# _Influencia de la duración de piststops en carreras de F1_"
   ]
  },
  {
   "attachments": {},
   "cell_type": "markdown",
   "metadata": {},
   "source": [
    "* Hipótesis:  \n",
    "\n",
    "> Mejor media de tiempos por carrera y temporada mejora las posiciones en carrera y al final de temporada \n",
    "\n",
    "* hipótesis secundaria  \n",
    "\n",
    "> También se cumple para los constructores  \n",
    "\n",
    "* bonus: Diferencias entre conductores de una mismo equipo"
   ]
  },
  {
   "attachments": {},
   "cell_type": "markdown",
   "metadata": {},
   "source": [
    "<center><img src=\"F1_logo.jpg\"  width=\"200\"><img src=\"F170.jpg\"  width=\"400\"></center> <p>\n",
    "<center><img src=\"pitStopAstonMartin.jpg\"  width=\"600\" height=\"300\"></center>\n"
   ]
  },
  {
   "attachments": {},
   "cell_type": "markdown",
   "metadata": {},
   "source": [
    "### <span style=\"color:RED\"> DATASET</span>\n",
    "\n",
    "#### CSV's EXTRAIDOS DE ergast.com  \n",
    "\n",
    "* Ofrece resultados de todas las carreras desde 1950 hasta hoy.  \n",
    "\n",
    "* Paquete ergast_py  \n",
    "https://pypi.org/project/ergast-py/\n",
    "\n",
    "* API con datos actualizados tras cada carrera  \n",
    "  \n",
    "  * API documentación http://ergast.com/mrd/  \n",
    "    \n",
    "* Libreria propia para acceder a la API  \n",
    "    pyERGAST\n",
    "\n",
    "\n",
    "#### Ofrecen todo el paquete de csv hasta la carrera más reciente  \n",
    "* f1db_csv.zip  \n",
    "http://ergast.com/downloads/f1db_csv.zip  \n",
    "\n",
    "* Diagrama de la BD  \n",
    "http://ergast.com/images/ergast_db.png  \n",
    "\n",
    "* Esquema de la BD  \n",
    "http://ergast.com/docs/f1db_user_guide.txt  \n",
    "\n",
    "Cada csv tiene una sola base de datos en UTF-8  \n",
    "La primera línea son las cabeceras de las columnas. \n",
    "\n",
    "\n"
   ]
  },
  {
   "cell_type": "code",
   "execution_count": 93,
   "metadata": {},
   "outputs": [],
   "source": [
    "import pandas as pd\n",
    "import numpy as np\n",
    "import matplotlib.pyplot as plt\n",
    "import sqlite3\n",
    "import os\n",
    "import re\n",
    "import seaborn as sns\n",
    "import scipy.stats as ss"
   ]
  },
  {
   "attachments": {},
   "cell_type": "markdown",
   "metadata": {},
   "source": [
    "* 13 csv"
   ]
  },
  {
   "cell_type": "code",
   "execution_count": 94,
   "metadata": {},
   "outputs": [],
   "source": [
    "circuits=pd.read_csv(r'./circuits.csv')\n",
    "constructor_results=pd.read_csv(r'./constructor_results.csv')\n",
    "constructor_standings=pd.read_csv(r'./constructor_standings.csv')\n",
    "driver_standings=pd.read_csv(r'./driver_standings.csv')\n",
    "drivers=pd.read_csv (r'./drivers.csv')\n",
    "lap_times=pd.read_csv(r'./lap_times.csv')\n",
    "pit_stops=pd.read_csv(r'./pit_stops.csv')\n",
    "qualifying=pd.read_csv(r'./qualifying.csv')\n",
    "races=pd.read_csv(r'./races.csv')\n",
    "results=pd.read_csv(r'./results.csv')\n",
    "seasons=pd.read_csv(r'./seasons.csv')\n",
    "sprint_results=pd.read_csv(r'./sprint_results.csv')\n",
    "status=pd.read_csv(r'./status.csv')\n"
   ]
  },
  {
   "attachments": {},
   "cell_type": "markdown",
   "metadata": {},
   "source": [
    "* Para el primer proyecto EDA, los más interesantes son:  \n",
    "\n",
    "    * pit stops                     | *pit_stops*  \n",
    "    * resultados                    | *results.csv*  \n",
    "    * conductores                   |  *drivers.csv*  \n",
    "    * carreras                      |  *races.csv*  \n",
    "    * resultados de constructores por campeonato   | *constructor_standings.csv*  \n",
    "    * resultados de constructores por carrera   | *constructor_results.csv*  \n",
    "    * status (finalizado/otros)     | *status.csv*\n",
    "    * tiempo por vuelta             | *lap_times.csv*\n"
   ]
  },
  {
   "attachments": {},
   "cell_type": "markdown",
   "metadata": {},
   "source": [
    "---------------\n",
    "\n",
    "## <center><span style=\"color:RED\"> *PIT STOPS*</span></center>\n",
    "\n",
    "---------------"
   ]
  },
  {
   "cell_type": "code",
   "execution_count": 95,
   "metadata": {},
   "outputs": [
    {
     "data": {
      "text/html": [
       "<div>\n",
       "<style scoped>\n",
       "    .dataframe tbody tr th:only-of-type {\n",
       "        vertical-align: middle;\n",
       "    }\n",
       "\n",
       "    .dataframe tbody tr th {\n",
       "        vertical-align: top;\n",
       "    }\n",
       "\n",
       "    .dataframe thead th {\n",
       "        text-align: right;\n",
       "    }\n",
       "</style>\n",
       "<table border=\"1\" class=\"dataframe\">\n",
       "  <thead>\n",
       "    <tr style=\"text-align: right;\">\n",
       "      <th></th>\n",
       "      <th>raceId</th>\n",
       "      <th>driverId</th>\n",
       "      <th>stop</th>\n",
       "      <th>lap</th>\n",
       "      <th>time</th>\n",
       "      <th>duration</th>\n",
       "      <th>milliseconds</th>\n",
       "    </tr>\n",
       "  </thead>\n",
       "  <tbody>\n",
       "    <tr>\n",
       "      <th>0</th>\n",
       "      <td>841</td>\n",
       "      <td>153</td>\n",
       "      <td>1</td>\n",
       "      <td>1</td>\n",
       "      <td>17:05:23</td>\n",
       "      <td>26.898</td>\n",
       "      <td>26898</td>\n",
       "    </tr>\n",
       "    <tr>\n",
       "      <th>1</th>\n",
       "      <td>841</td>\n",
       "      <td>30</td>\n",
       "      <td>1</td>\n",
       "      <td>1</td>\n",
       "      <td>17:05:52</td>\n",
       "      <td>25.021</td>\n",
       "      <td>25021</td>\n",
       "    </tr>\n",
       "  </tbody>\n",
       "</table>\n",
       "</div>"
      ],
      "text/plain": [
       "   raceId  driverId  stop  lap      time duration  milliseconds\n",
       "0     841       153     1    1  17:05:23   26.898         26898\n",
       "1     841        30     1    1  17:05:52   25.021         25021"
      ]
     },
     "execution_count": 95,
     "metadata": {},
     "output_type": "execute_result"
    }
   ],
   "source": [
    "pit_stops.head(2)"
   ]
  },
  {
   "cell_type": "code",
   "execution_count": 96,
   "metadata": {},
   "outputs": [
    {
     "data": {
      "text/plain": [
       "1624    19177\n",
       "7864    30129\n",
       "Name: milliseconds, dtype: int32"
      ]
     },
     "execution_count": 96,
     "metadata": {},
     "output_type": "execute_result"
    }
   ],
   "source": [
    "# cambiar tiempo en milisegundos a int\n",
    "pit_stops[\"milliseconds\"].astype(int).sample(2)"
   ]
  },
  {
   "cell_type": "code",
   "execution_count": 97,
   "metadata": {},
   "outputs": [],
   "source": [
    "pit_stops.drop(['time', 'duration'], axis=1, inplace=True)\n",
    "#quitar hora de parada y tiempo en segundos"
   ]
  },
  {
   "cell_type": "code",
   "execution_count": 98,
   "metadata": {},
   "outputs": [
    {
     "data": {
      "text/html": [
       "<div>\n",
       "<style scoped>\n",
       "    .dataframe tbody tr th:only-of-type {\n",
       "        vertical-align: middle;\n",
       "    }\n",
       "\n",
       "    .dataframe tbody tr th {\n",
       "        vertical-align: top;\n",
       "    }\n",
       "\n",
       "    .dataframe thead th {\n",
       "        text-align: right;\n",
       "    }\n",
       "</style>\n",
       "<table border=\"1\" class=\"dataframe\">\n",
       "  <thead>\n",
       "    <tr style=\"text-align: right;\">\n",
       "      <th></th>\n",
       "      <th>raceId</th>\n",
       "      <th>driverId</th>\n",
       "      <th>stop</th>\n",
       "      <th>lap</th>\n",
       "      <th>milliseconds</th>\n",
       "    </tr>\n",
       "  </thead>\n",
       "  <tbody>\n",
       "    <tr>\n",
       "      <th>0</th>\n",
       "      <td>841</td>\n",
       "      <td>153</td>\n",
       "      <td>1</td>\n",
       "      <td>1</td>\n",
       "      <td>26898</td>\n",
       "    </tr>\n",
       "    <tr>\n",
       "      <th>1</th>\n",
       "      <td>841</td>\n",
       "      <td>30</td>\n",
       "      <td>1</td>\n",
       "      <td>1</td>\n",
       "      <td>25021</td>\n",
       "    </tr>\n",
       "    <tr>\n",
       "      <th>2</th>\n",
       "      <td>841</td>\n",
       "      <td>17</td>\n",
       "      <td>1</td>\n",
       "      <td>11</td>\n",
       "      <td>23426</td>\n",
       "    </tr>\n",
       "    <tr>\n",
       "      <th>3</th>\n",
       "      <td>841</td>\n",
       "      <td>4</td>\n",
       "      <td>1</td>\n",
       "      <td>12</td>\n",
       "      <td>23251</td>\n",
       "    </tr>\n",
       "    <tr>\n",
       "      <th>4</th>\n",
       "      <td>841</td>\n",
       "      <td>13</td>\n",
       "      <td>1</td>\n",
       "      <td>13</td>\n",
       "      <td>23842</td>\n",
       "    </tr>\n",
       "    <tr>\n",
       "      <th>...</th>\n",
       "      <td>...</td>\n",
       "      <td>...</td>\n",
       "      <td>...</td>\n",
       "      <td>...</td>\n",
       "      <td>...</td>\n",
       "    </tr>\n",
       "    <tr>\n",
       "      <th>9891</th>\n",
       "      <td>1105</td>\n",
       "      <td>847</td>\n",
       "      <td>2</td>\n",
       "      <td>45</td>\n",
       "      <td>22054</td>\n",
       "    </tr>\n",
       "    <tr>\n",
       "      <th>9892</th>\n",
       "      <td>1105</td>\n",
       "      <td>1</td>\n",
       "      <td>2</td>\n",
       "      <td>50</td>\n",
       "      <td>22731</td>\n",
       "    </tr>\n",
       "    <tr>\n",
       "      <th>9893</th>\n",
       "      <td>1105</td>\n",
       "      <td>815</td>\n",
       "      <td>2</td>\n",
       "      <td>50</td>\n",
       "      <td>21537</td>\n",
       "    </tr>\n",
       "    <tr>\n",
       "      <th>9894</th>\n",
       "      <td>1105</td>\n",
       "      <td>846</td>\n",
       "      <td>3</td>\n",
       "      <td>50</td>\n",
       "      <td>22062</td>\n",
       "    </tr>\n",
       "    <tr>\n",
       "      <th>9895</th>\n",
       "      <td>1105</td>\n",
       "      <td>830</td>\n",
       "      <td>2</td>\n",
       "      <td>52</td>\n",
       "      <td>22357</td>\n",
       "    </tr>\n",
       "  </tbody>\n",
       "</table>\n",
       "<p>9896 rows × 5 columns</p>\n",
       "</div>"
      ],
      "text/plain": [
       "      raceId  driverId  stop  lap  milliseconds\n",
       "0        841       153     1    1         26898\n",
       "1        841        30     1    1         25021\n",
       "2        841        17     1   11         23426\n",
       "3        841         4     1   12         23251\n",
       "4        841        13     1   13         23842\n",
       "...      ...       ...   ...  ...           ...\n",
       "9891    1105       847     2   45         22054\n",
       "9892    1105         1     2   50         22731\n",
       "9893    1105       815     2   50         21537\n",
       "9894    1105       846     3   50         22062\n",
       "9895    1105       830     2   52         22357\n",
       "\n",
       "[9896 rows x 5 columns]"
      ]
     },
     "execution_count": 98,
     "metadata": {},
     "output_type": "execute_result"
    }
   ],
   "source": [
    "pit_stops"
   ]
  },
  {
   "cell_type": "code",
   "execution_count": 99,
   "metadata": {},
   "outputs": [
    {
     "data": {
      "text/plain": [
       "<matplotlib.collections.PathCollection at 0x14d4a9faee0>"
      ]
     },
     "execution_count": 99,
     "metadata": {},
     "output_type": "execute_result"
    },
    {
     "data": {
      "image/png": "[encoded data removed]",
      "text/plain": [
       "<Figure size 2000x400 with 1 Axes>"
      ]
     },
     "metadata": {},
     "output_type": "display_data"
    }
   ],
   "source": [
    "plt.scatter(pit_stops[\"raceId\"], pit_stops['milliseconds'], c=np.random.rand(9896), alpha=0.5)"
   ]
  },
  {
   "cell_type": "code",
   "execution_count": 100,
   "metadata": {},
   "outputs": [],
   "source": [
    "sns.set (rc = {\"figure.figsize\" :( 20 , 4 )}) # ancho = 20, # alto = 4"
   ]
  },
  {
   "cell_type": "code",
   "execution_count": 101,
   "metadata": {},
   "outputs": [],
   "source": [
    "Q1 = np.percentile(pit_stops['milliseconds'], 25,\n",
    "                   method = 'midpoint')\n",
    "\n",
    "Q2=np.percentile(pit_stops['milliseconds'], 50, method='midpoint')\n",
    "\n",
    "Q3 = np.percentile(pit_stops['milliseconds'], 75,\n",
    "                   method = 'midpoint')"
   ]
  },
  {
   "cell_type": "code",
   "execution_count": 102,
   "metadata": {},
   "outputs": [
    {
     "name": "stdout",
     "output_type": "stream",
     "text": [
      "Q1: 21916.0\n",
      "Q2: 23575.0\n",
      "Q3: 26228.5\n",
      "Q3-Q1: 4312.5\n"
     ]
    }
   ],
   "source": [
    "print(f\"Q1: {Q1}\")\n",
    "print(f\"Q2: {Q2}\")\n",
    "print(f\"Q3: {Q3}\")\n",
    "print(f\"Q3-Q1: {Q3-Q1}\")"
   ]
  },
  {
   "cell_type": "code",
   "execution_count": 103,
   "metadata": {},
   "outputs": [
    {
     "data": {
      "text/plain": [
       "4312.25"
      ]
     },
     "execution_count": 103,
     "metadata": {},
     "output_type": "execute_result"
    }
   ],
   "source": [
    "# rango intercuartílico\n",
    "\n",
    "ss.iqr(pit_stops['milliseconds'])"
   ]
  },
  {
   "cell_type": "code",
   "execution_count": 104,
   "metadata": {},
   "outputs": [
    {
     "data": {
      "text/plain": [
       "(array([   0,    1,    2, ..., 9893, 9894, 9895], dtype=int64),)"
      ]
     },
     "execution_count": 104,
     "metadata": {},
     "output_type": "execute_result"
    }
   ],
   "source": [
    "np.where(pit_stops['milliseconds']>100)"
   ]
  },
  {
   "cell_type": "code",
   "execution_count": 105,
   "metadata": {},
   "outputs": [
    {
     "data": {
      "text/plain": [
       "<Axes: >"
      ]
     },
     "execution_count": 105,
     "metadata": {},
     "output_type": "execute_result"
    },
    {
     "data": {
      "image/png": "[encoded data removed]",
      "text/plain": [
       "<Figure size 2000x400 with 1 Axes>"
      ]
     },
     "metadata": {},
     "output_type": "display_data"
    }
   ],
   "source": [
    "sns.boxplot(pit_stops['milliseconds'])"
   ]
  },
  {
   "cell_type": "code",
   "execution_count": 106,
   "metadata": {},
   "outputs": [
    {
     "data": {
      "text/plain": [
       "<Axes: xlabel='milliseconds', ylabel='Count'>"
      ]
     },
     "execution_count": 106,
     "metadata": {},
     "output_type": "execute_result"
    },
    {
     "data": {
      "image/png": "[encoded data removed]",
      "text/plain": [
       "<Figure size 2000x400 with 1 Axes>"
      ]
     },
     "metadata": {},
     "output_type": "display_data"
    }
   ],
   "source": [
    "sns.histplot(pit_stops['milliseconds']) "
   ]
  },
  {
   "cell_type": "code",
   "execution_count": 107,
   "metadata": {},
   "outputs": [
    {
     "data": {
      "text/plain": [
       "raceId  driverId\n",
       "841     1           23213.0\n",
       "        2           24046.0\n",
       "        3           23716.0\n",
       "        4           24055.0\n",
       "        5           24865.0\n",
       "                     ...   \n",
       "1105    852         22092.5\n",
       "        855         23159.5\n",
       "        856         22249.0\n",
       "        857         22616.0\n",
       "        858         23205.0\n",
       "Name: milliseconds, Length: 4837, dtype: float64"
      ]
     },
     "execution_count": 107,
     "metadata": {},
     "output_type": "execute_result"
    }
   ],
   "source": [
    "# media de tiempo en milisegundos de pitstops por carrera/conductor\n",
    "\n",
    "pit_stops_mean=pit_stops.groupby([\"raceId\", \"driverId\"])[\"milliseconds\"].mean()\n",
    "pit_stops_mean"
   ]
  },
  {
   "cell_type": "code",
   "execution_count": 108,
   "metadata": {},
   "outputs": [],
   "source": [
    "pit_stops_mean_race=pit_stops.groupby([\"raceId\"])[\"milliseconds\"].mean()/1000"
   ]
  },
  {
   "cell_type": "code",
   "execution_count": 109,
   "metadata": {},
   "outputs": [
    {
     "data": {
      "text/plain": [
       "raceId\n",
       "841      24.342822\n",
       "842      24.434373\n",
       "843      22.299241\n",
       "844      23.005061\n",
       "845      21.567597\n",
       "           ...    \n",
       "1100    817.726385\n",
       "1101     21.764609\n",
       "1102     23.916300\n",
       "1104     27.671595\n",
       "1105     23.128465\n",
       "Name: milliseconds, Length: 246, dtype: float64"
      ]
     },
     "execution_count": 109,
     "metadata": {},
     "output_type": "execute_result"
    }
   ],
   "source": [
    "pit_stops_mean_race\n"
   ]
  },
  {
   "cell_type": "code",
   "execution_count": 110,
   "metadata": {},
   "outputs": [
    {
     "data": {
      "text/plain": [
       "<Axes: ylabel='Count'>"
      ]
     },
     "execution_count": 110,
     "metadata": {},
     "output_type": "execute_result"
    },
    {
     "data": {
      "image/png": "[encoded data removed]",
      "text/plain": [
       "<Figure size 2000x400 with 1 Axes>"
      ]
     },
     "metadata": {},
     "output_type": "display_data"
    }
   ],
   "source": [
    "sns.histplot(np.where(pit_stops_mean_race>100))"
   ]
  },
  {
   "cell_type": "code",
   "execution_count": 111,
   "metadata": {},
   "outputs": [
    {
     "data": {
      "text/plain": [
       "(array([ 72,  96, 108, 115, 124, 186, 187, 193, 198, 202, 206, 207, 215,\n",
       "        223, 226, 234, 241], dtype=int64),)"
      ]
     },
     "execution_count": 111,
     "metadata": {},
     "output_type": "execute_result"
    }
   ],
   "source": [
    "np.where(pit_stops_mean_race>100)"
   ]
  },
  {
   "cell_type": "code",
   "execution_count": 112,
   "metadata": {},
   "outputs": [
    {
     "name": "stdout",
     "output_type": "stream",
     "text": [
      "<class 'pandas.core.frame.DataFrame'>\n",
      "RangeIndex: 9896 entries, 0 to 9895\n",
      "Data columns (total 5 columns):\n",
      " #   Column        Non-Null Count  Dtype\n",
      "---  ------        --------------  -----\n",
      " 0   raceId        9896 non-null   int64\n",
      " 1   driverId      9896 non-null   int64\n",
      " 2   stop          9896 non-null   int64\n",
      " 3   lap           9896 non-null   int64\n",
      " 4   milliseconds  9896 non-null   int64\n",
      "dtypes: int64(5)\n",
      "memory usage: 386.7 KB\n"
     ]
    }
   ],
   "source": [
    "pit_stops.info()\n",
    "# no tiene datos nulos\n",
    "#datos cualitativos raceId, driverId, stop, lap\n",
    "\n",
    "#datos cuantitativos: milliseconds"
   ]
  },
  {
   "attachments": {},
   "cell_type": "markdown",
   "metadata": {},
   "source": [
    "---------------\n",
    "\n",
    "## <center><span style=\"color:RED\"> *RACES*</span></center>\n",
    "\n",
    "---------------"
   ]
  },
  {
   "cell_type": "code",
   "execution_count": 113,
   "metadata": {},
   "outputs": [],
   "source": [
    "# quitar columnas que no vamos a usar\n",
    "\n",
    "races.drop(['url', 'time', 'fp1_date', 'fp1_time', 'fp2_date', 'fp2_time', 'fp3_date', 'fp3_time', 'quali_date', 'quali_time', 'sprint_date', 'sprint_time'], axis=1, inplace=True)"
   ]
  },
  {
   "cell_type": "code",
   "execution_count": 114,
   "metadata": {},
   "outputs": [
    {
     "data": {
      "text/html": [
       "<div>\n",
       "<style scoped>\n",
       "    .dataframe tbody tr th:only-of-type {\n",
       "        vertical-align: middle;\n",
       "    }\n",
       "\n",
       "    .dataframe tbody tr th {\n",
       "        vertical-align: top;\n",
       "    }\n",
       "\n",
       "    .dataframe thead th {\n",
       "        text-align: right;\n",
       "    }\n",
       "</style>\n",
       "<table border=\"1\" class=\"dataframe\">\n",
       "  <thead>\n",
       "    <tr style=\"text-align: right;\">\n",
       "      <th></th>\n",
       "      <th>raceId</th>\n",
       "      <th>year</th>\n",
       "      <th>round</th>\n",
       "      <th>circuitId</th>\n",
       "      <th>name</th>\n",
       "      <th>date</th>\n",
       "    </tr>\n",
       "  </thead>\n",
       "  <tbody>\n",
       "    <tr>\n",
       "      <th>838</th>\n",
       "      <td>839</td>\n",
       "      <td>1950</td>\n",
       "      <td>7</td>\n",
       "      <td>14</td>\n",
       "      <td>Italian Grand Prix</td>\n",
       "      <td>1950-09-03</td>\n",
       "    </tr>\n",
       "    <tr>\n",
       "      <th>837</th>\n",
       "      <td>838</td>\n",
       "      <td>1950</td>\n",
       "      <td>6</td>\n",
       "      <td>55</td>\n",
       "      <td>French Grand Prix</td>\n",
       "      <td>1950-07-02</td>\n",
       "    </tr>\n",
       "    <tr>\n",
       "      <th>836</th>\n",
       "      <td>837</td>\n",
       "      <td>1950</td>\n",
       "      <td>5</td>\n",
       "      <td>13</td>\n",
       "      <td>Belgian Grand Prix</td>\n",
       "      <td>1950-06-18</td>\n",
       "    </tr>\n",
       "    <tr>\n",
       "      <th>835</th>\n",
       "      <td>836</td>\n",
       "      <td>1950</td>\n",
       "      <td>4</td>\n",
       "      <td>66</td>\n",
       "      <td>Swiss Grand Prix</td>\n",
       "      <td>1950-06-04</td>\n",
       "    </tr>\n",
       "    <tr>\n",
       "      <th>834</th>\n",
       "      <td>835</td>\n",
       "      <td>1950</td>\n",
       "      <td>3</td>\n",
       "      <td>19</td>\n",
       "      <td>Indianapolis 500</td>\n",
       "      <td>1950-05-30</td>\n",
       "    </tr>\n",
       "    <tr>\n",
       "      <th>...</th>\n",
       "      <td>...</td>\n",
       "      <td>...</td>\n",
       "      <td>...</td>\n",
       "      <td>...</td>\n",
       "      <td>...</td>\n",
       "      <td>...</td>\n",
       "    </tr>\n",
       "    <tr>\n",
       "      <th>1080</th>\n",
       "      <td>1099</td>\n",
       "      <td>2023</td>\n",
       "      <td>2</td>\n",
       "      <td>77</td>\n",
       "      <td>Saudi Arabian Grand Prix</td>\n",
       "      <td>2023-03-19</td>\n",
       "    </tr>\n",
       "    <tr>\n",
       "      <th>1079</th>\n",
       "      <td>1098</td>\n",
       "      <td>2023</td>\n",
       "      <td>1</td>\n",
       "      <td>3</td>\n",
       "      <td>Bahrain Grand Prix</td>\n",
       "      <td>2023-03-05</td>\n",
       "    </tr>\n",
       "    <tr>\n",
       "      <th>1099</th>\n",
       "      <td>1119</td>\n",
       "      <td>2023</td>\n",
       "      <td>21</td>\n",
       "      <td>80</td>\n",
       "      <td>Las Vegas Grand Prix</td>\n",
       "      <td>2023-11-19</td>\n",
       "    </tr>\n",
       "    <tr>\n",
       "      <th>1088</th>\n",
       "      <td>1108</td>\n",
       "      <td>2023</td>\n",
       "      <td>10</td>\n",
       "      <td>9</td>\n",
       "      <td>British Grand Prix</td>\n",
       "      <td>2023-07-09</td>\n",
       "    </tr>\n",
       "    <tr>\n",
       "      <th>1100</th>\n",
       "      <td>1120</td>\n",
       "      <td>2023</td>\n",
       "      <td>22</td>\n",
       "      <td>24</td>\n",
       "      <td>Abu Dhabi Grand Prix</td>\n",
       "      <td>2023-11-26</td>\n",
       "    </tr>\n",
       "  </tbody>\n",
       "</table>\n",
       "<p>1101 rows × 6 columns</p>\n",
       "</div>"
      ],
      "text/plain": [
       "      raceId  year  round  circuitId                      name        date\n",
       "838      839  1950      7         14        Italian Grand Prix  1950-09-03\n",
       "837      838  1950      6         55         French Grand Prix  1950-07-02\n",
       "836      837  1950      5         13        Belgian Grand Prix  1950-06-18\n",
       "835      836  1950      4         66          Swiss Grand Prix  1950-06-04\n",
       "834      835  1950      3         19          Indianapolis 500  1950-05-30\n",
       "...      ...   ...    ...        ...                       ...         ...\n",
       "1080    1099  2023      2         77  Saudi Arabian Grand Prix  2023-03-19\n",
       "1079    1098  2023      1          3        Bahrain Grand Prix  2023-03-05\n",
       "1099    1119  2023     21         80      Las Vegas Grand Prix  2023-11-19\n",
       "1088    1108  2023     10          9        British Grand Prix  2023-07-09\n",
       "1100    1120  2023     22         24      Abu Dhabi Grand Prix  2023-11-26\n",
       "\n",
       "[1101 rows x 6 columns]"
      ]
     },
     "execution_count": 114,
     "metadata": {},
     "output_type": "execute_result"
    }
   ],
   "source": [
    "races.sort_values(\"year\")"
   ]
  },
  {
   "cell_type": "code",
   "execution_count": 115,
   "metadata": {},
   "outputs": [
    {
     "ename": "ValueError",
     "evalue": "The truth value of a Series is ambiguous. Use a.empty, a.bool(), a.item(), a.any() or a.all().",
     "output_type": "error",
     "traceback": [
      "\u001b[1;31m---------------------------------------------------------------------------\u001b[0m",
      "\u001b[1;31mValueError\u001b[0m                                Traceback (most recent call last)",
      "Cell \u001b[1;32mIn[115], line 4\u001b[0m\n\u001b[0;32m      1\u001b[0m \u001b[39m# carreras desde la 842 en adelante, que son las que tienen información en pit_stops\u001b[39;00m\n\u001b[0;32m      2\u001b[0m \u001b[39m# tiene la información de todas las carreras del 2023, Id, año y circuito, pero el dataset solo tiene información hasta la carrera 1105\u001b[39;00m\n\u001b[1;32m----> 4\u001b[0m races[[\u001b[39m\"\u001b[39m\u001b[39mraceId\u001b[39m\u001b[39m\"\u001b[39m, \u001b[39m\"\u001b[39m\u001b[39myear\u001b[39m\u001b[39m\"\u001b[39m, \u001b[39m\"\u001b[39m\u001b[39mcircuitId\u001b[39m\u001b[39m\"\u001b[39m, \u001b[39m\"\u001b[39m\u001b[39mname\u001b[39m\u001b[39m\"\u001b[39m]][(races\u001b[39m.\u001b[39mraceId\u001b[39m>\u001b[39m\u001b[39m=\u001b[39m\u001b[39m842\u001b[39m) \u001b[39mand\u001b[39;00m (races\u001b[39m.\u001b[39mraceId\u001b[39m<\u001b[39m\u001b[39m=\u001b[39m\u001b[39m1105\u001b[39m)]\n",
      "File \u001b[1;32mc:\\Users\\j\\miniconda3\\envs\\ramp_up_py395\\lib\\site-packages\\pandas\\core\\generic.py:1466\u001b[0m, in \u001b[0;36mNDFrame.__nonzero__\u001b[1;34m(self)\u001b[0m\n\u001b[0;32m   1464\u001b[0m \u001b[39m@final\u001b[39m\n\u001b[0;32m   1465\u001b[0m \u001b[39mdef\u001b[39;00m \u001b[39m__nonzero__\u001b[39m(\u001b[39mself\u001b[39m) \u001b[39m-\u001b[39m\u001b[39m>\u001b[39m NoReturn:\n\u001b[1;32m-> 1466\u001b[0m     \u001b[39mraise\u001b[39;00m \u001b[39mValueError\u001b[39;00m(\n\u001b[0;32m   1467\u001b[0m         \u001b[39mf\u001b[39m\u001b[39m\"\u001b[39m\u001b[39mThe truth value of a \u001b[39m\u001b[39m{\u001b[39;00m\u001b[39mtype\u001b[39m(\u001b[39mself\u001b[39m)\u001b[39m.\u001b[39m\u001b[39m__name__\u001b[39m\u001b[39m}\u001b[39;00m\u001b[39m is ambiguous. \u001b[39m\u001b[39m\"\u001b[39m\n\u001b[0;32m   1468\u001b[0m         \u001b[39m\"\u001b[39m\u001b[39mUse a.empty, a.bool(), a.item(), a.any() or a.all().\u001b[39m\u001b[39m\"\u001b[39m\n\u001b[0;32m   1469\u001b[0m     )\n",
      "\u001b[1;31mValueError\u001b[0m: The truth value of a Series is ambiguous. Use a.empty, a.bool(), a.item(), a.any() or a.all()."
     ]
    }
   ],
   "source": [
    "# carreras desde la 842 en adelante, que son las que tienen información en pit_stops\n",
    "# tiene la información de todas las carreras del 2023, Id, año y circuito, pero el dataset solo tiene información hasta la carrera 1105\n",
    "\n",
    "races[[\"raceId\", \"year\", \"circuitId\", \"name\"]][(races.raceId>=842) and (races.raceId<=1105)]"
   ]
  },
  {
   "cell_type": "code",
   "execution_count": null,
   "metadata": {},
   "outputs": [
    {
     "name": "stdout",
     "output_type": "stream",
     "text": [
      "<class 'pandas.core.frame.DataFrame'>\n",
      "RangeIndex: 1101 entries, 0 to 1100\n",
      "Data columns (total 6 columns):\n",
      " #   Column     Non-Null Count  Dtype \n",
      "---  ------     --------------  ----- \n",
      " 0   raceId     1101 non-null   int64 \n",
      " 1   year       1101 non-null   int64 \n",
      " 2   round      1101 non-null   int64 \n",
      " 3   circuitId  1101 non-null   int64 \n",
      " 4   name       1101 non-null   object\n",
      " 5   date       1101 non-null   object\n",
      "dtypes: int64(4), object(2)\n",
      "memory usage: 51.7+ KB\n"
     ]
    }
   ],
   "source": [
    "races.info()\n",
    "\n",
    "#todo valores cualitativos, para unir con resultados y clasificar por raceId o año"
   ]
  },
  {
   "attachments": {},
   "cell_type": "markdown",
   "metadata": {},
   "source": [
    "---------------\n",
    "\n",
    "## <center><span style=\"color:RED\"> *RESULTS*</span></center>\n",
    "\n",
    "---------------"
   ]
  },
  {
   "cell_type": "code",
   "execution_count": null,
   "metadata": {},
   "outputs": [
    {
     "name": "stdout",
     "output_type": "stream",
     "text": [
      "<class 'pandas.core.frame.DataFrame'>\n",
      "RangeIndex: 25980 entries, 0 to 25979\n",
      "Data columns (total 18 columns):\n",
      " #   Column           Non-Null Count  Dtype  \n",
      "---  ------           --------------  -----  \n",
      " 0   resultId         25980 non-null  int64  \n",
      " 1   raceId           25980 non-null  int64  \n",
      " 2   driverId         25980 non-null  int64  \n",
      " 3   constructorId    25980 non-null  int64  \n",
      " 4   number           25980 non-null  object \n",
      " 5   grid             25980 non-null  int64  \n",
      " 6   position         25980 non-null  object \n",
      " 7   positionText     25980 non-null  object \n",
      " 8   positionOrder    25980 non-null  int64  \n",
      " 9   points           25980 non-null  float64\n",
      " 10  laps             25980 non-null  int64  \n",
      " 11  time             25980 non-null  object \n",
      " 12  milliseconds     25980 non-null  object \n",
      " 13  fastestLap       25980 non-null  object \n",
      " 14  rank             25980 non-null  object \n",
      " 15  fastestLapTime   25980 non-null  object \n",
      " 16  fastestLapSpeed  25980 non-null  object \n",
      " 17  statusId         25980 non-null  int64  \n",
      "dtypes: float64(1), int64(8), object(9)\n",
      "memory usage: 3.6+ MB\n"
     ]
    }
   ],
   "source": [
    "# resultados de cada carrera, identificador de carrera, conductor, constructor, posición, vueltas, tiempo total, puntos, vuelta rapida, tiempo de vuelta rapida\n",
    "results.info()"
   ]
  },
  {
   "cell_type": "code",
   "execution_count": null,
   "metadata": {},
   "outputs": [
    {
     "data": {
      "text/html": [
       "<div>\n",
       "<style scoped>\n",
       "    .dataframe tbody tr th:only-of-type {\n",
       "        vertical-align: middle;\n",
       "    }\n",
       "\n",
       "    .dataframe tbody tr th {\n",
       "        vertical-align: top;\n",
       "    }\n",
       "\n",
       "    .dataframe thead th {\n",
       "        text-align: right;\n",
       "    }\n",
       "</style>\n",
       "<table border=\"1\" class=\"dataframe\">\n",
       "  <thead>\n",
       "    <tr style=\"text-align: right;\">\n",
       "      <th></th>\n",
       "      <th>resultId</th>\n",
       "      <th>raceId</th>\n",
       "      <th>driverId</th>\n",
       "      <th>constructorId</th>\n",
       "      <th>number</th>\n",
       "      <th>grid</th>\n",
       "      <th>position</th>\n",
       "      <th>positionText</th>\n",
       "      <th>positionOrder</th>\n",
       "      <th>points</th>\n",
       "      <th>laps</th>\n",
       "      <th>time</th>\n",
       "      <th>milliseconds</th>\n",
       "      <th>fastestLap</th>\n",
       "      <th>rank</th>\n",
       "      <th>fastestLapTime</th>\n",
       "      <th>fastestLapSpeed</th>\n",
       "      <th>statusId</th>\n",
       "    </tr>\n",
       "  </thead>\n",
       "  <tbody>\n",
       "    <tr>\n",
       "      <th>8736</th>\n",
       "      <td>8737</td>\n",
       "      <td>379</td>\n",
       "      <td>160</td>\n",
       "      <td>49</td>\n",
       "      <td>9</td>\n",
       "      <td>0</td>\n",
       "      <td>\\N</td>\n",
       "      <td>F</td>\n",
       "      <td>28</td>\n",
       "      <td>0.0</td>\n",
       "      <td>0</td>\n",
       "      <td>\\N</td>\n",
       "      <td>\\N</td>\n",
       "      <td>\\N</td>\n",
       "      <td>\\N</td>\n",
       "      <td>\\N</td>\n",
       "      <td>\\N</td>\n",
       "      <td>81</td>\n",
       "    </tr>\n",
       "    <tr>\n",
       "      <th>10958</th>\n",
       "      <td>10959</td>\n",
       "      <td>462</td>\n",
       "      <td>118</td>\n",
       "      <td>53</td>\n",
       "      <td>35</td>\n",
       "      <td>10</td>\n",
       "      <td>\\N</td>\n",
       "      <td>R</td>\n",
       "      <td>22</td>\n",
       "      <td>0.0</td>\n",
       "      <td>2</td>\n",
       "      <td>\\N</td>\n",
       "      <td>\\N</td>\n",
       "      <td>\\N</td>\n",
       "      <td>\\N</td>\n",
       "      <td>\\N</td>\n",
       "      <td>\\N</td>\n",
       "      <td>101</td>\n",
       "    </tr>\n",
       "  </tbody>\n",
       "</table>\n",
       "</div>"
      ],
      "text/plain": [
       "       resultId  raceId  driverId  constructorId number  grid position   \n",
       "8736       8737     379       160             49      9     0       \\N  \\\n",
       "10958     10959     462       118             53     35    10       \\N   \n",
       "\n",
       "      positionText  positionOrder  points  laps time milliseconds fastestLap   \n",
       "8736             F             28     0.0     0   \\N           \\N         \\N  \\\n",
       "10958            R             22     0.0     2   \\N           \\N         \\N   \n",
       "\n",
       "      rank fastestLapTime fastestLapSpeed  statusId  \n",
       "8736    \\N             \\N              \\N        81  \n",
       "10958   \\N             \\N              \\N       101  "
      ]
     },
     "execution_count": 172,
     "metadata": {},
     "output_type": "execute_result"
    }
   ],
   "source": [
    "# De los pitstops cambió la norma para evitar repostajes por seguridad en 2009\n",
    "\n",
    "# los pitstops.csv tiene información desde entonces en adelante.       carrera 842\n",
    "\n",
    "# Nos quedamos con los resultados de conductores que han acabado las carreras.      statusId==1\n",
    "\n",
    "results.sample(2)"
   ]
  },
  {
   "cell_type": "code",
   "execution_count": null,
   "metadata": {},
   "outputs": [],
   "source": [
    "# quitar columnas que no vamos a utilizar\n",
    "\n",
    "results.drop(['positionText', 'positionOrder','number', 'resultId', 'time', 'rank'], axis=1, inplace=True)"
   ]
  },
  {
   "cell_type": "code",
   "execution_count": null,
   "metadata": {},
   "outputs": [
    {
     "name": "stdout",
     "output_type": "stream",
     "text": [
      "<class 'pandas.core.frame.DataFrame'>\n",
      "Index: 2579 entries, 20822 to 25971\n",
      "Data columns (total 12 columns):\n",
      " #   Column           Non-Null Count  Dtype  \n",
      "---  ------           --------------  -----  \n",
      " 0   raceId           2579 non-null   int64  \n",
      " 1   driverId         2579 non-null   int64  \n",
      " 2   constructorId    2579 non-null   int64  \n",
      " 3   grid             2579 non-null   int64  \n",
      " 4   position         2579 non-null   object \n",
      " 5   points           2579 non-null   float64\n",
      " 6   laps             2579 non-null   int64  \n",
      " 7   milliseconds     2579 non-null   object \n",
      " 8   fastestLap       2579 non-null   object \n",
      " 9   fastestLapTime   2579 non-null   object \n",
      " 10  fastestLapSpeed  2579 non-null   object \n",
      " 11  statusId         2579 non-null   int64  \n",
      "dtypes: float64(1), int64(6), object(5)\n",
      "memory usage: 261.9+ KB\n"
     ]
    }
   ],
   "source": [
    "# statusId=1 indica que el conductor terminó la carrera\n",
    "# status[[\"statusId\",\"status\"]][status.status=='Finished']\n",
    "\n",
    "results=results[(results.raceId>842)&(results.statusId==1)]\n",
    "results.info()"
   ]
  },
  {
   "cell_type": "code",
   "execution_count": null,
   "metadata": {},
   "outputs": [],
   "source": [
    "# revisar \"\\N\""
   ]
  },
  {
   "cell_type": "code",
   "execution_count": null,
   "metadata": {},
   "outputs": [
    {
     "data": {
      "text/plain": [
       "count        2579\n",
       "unique       2577\n",
       "top       5152531\n",
       "freq            2\n",
       "Name: milliseconds, dtype: object"
      ]
     },
     "execution_count": 175,
     "metadata": {},
     "output_type": "execute_result"
    }
   ],
   "source": [
    "results[\"milliseconds\"].describe()"
   ]
  },
  {
   "cell_type": "code",
   "execution_count": null,
   "metadata": {},
   "outputs": [],
   "source": [
    "# cambiar valores \\N de milliseconds a 0\n",
    "results[\"milliseconds\"].replace('\\\\N', 0, inplace=True)"
   ]
  },
  {
   "cell_type": "code",
   "execution_count": null,
   "metadata": {},
   "outputs": [
    {
     "data": {
      "text/plain": [
       "20822    5818226\n",
       "20823    5823424\n",
       "20824    5825781\n",
       "20825    5828226\n",
       "20826    5831674\n",
       "          ...   \n",
       "25967    5347182\n",
       "25968    5349818\n",
       "25969    5351470\n",
       "25970    5352359\n",
       "25971    5353356\n",
       "Name: milliseconds, Length: 2579, dtype: int32"
      ]
     },
     "execution_count": 179,
     "metadata": {},
     "output_type": "execute_result"
    }
   ],
   "source": [
    "# cambiar tipo a entero\n",
    "results['milliseconds'].astype(int)"
   ]
  },
  {
   "cell_type": "code",
   "execution_count": null,
   "metadata": {},
   "outputs": [
    {
     "data": {
      "text/html": [
       "<div>\n",
       "<style scoped>\n",
       "    .dataframe tbody tr th:only-of-type {\n",
       "        vertical-align: middle;\n",
       "    }\n",
       "\n",
       "    .dataframe tbody tr th {\n",
       "        vertical-align: top;\n",
       "    }\n",
       "\n",
       "    .dataframe thead th {\n",
       "        text-align: right;\n",
       "    }\n",
       "</style>\n",
       "<table border=\"1\" class=\"dataframe\">\n",
       "  <thead>\n",
       "    <tr style=\"text-align: right;\">\n",
       "      <th></th>\n",
       "      <th>raceId</th>\n",
       "      <th>driverId</th>\n",
       "      <th>constructorId</th>\n",
       "      <th>grid</th>\n",
       "      <th>position</th>\n",
       "      <th>points</th>\n",
       "      <th>laps</th>\n",
       "      <th>milliseconds</th>\n",
       "      <th>fastestLap</th>\n",
       "      <th>fastestLapTime</th>\n",
       "      <th>fastestLapSpeed</th>\n",
       "      <th>statusId</th>\n",
       "    </tr>\n",
       "  </thead>\n",
       "  <tbody>\n",
       "    <tr>\n",
       "      <th>21712</th>\n",
       "      <td>880</td>\n",
       "      <td>13</td>\n",
       "      <td>6</td>\n",
       "      <td>4</td>\n",
       "      <td>4</td>\n",
       "      <td>12.0</td>\n",
       "      <td>58</td>\n",
       "      <td>5436802</td>\n",
       "      <td>38</td>\n",
       "      <td>1:30.239</td>\n",
       "      <td>211.558</td>\n",
       "      <td>1</td>\n",
       "    </tr>\n",
       "    <tr>\n",
       "      <th>23832</th>\n",
       "      <td>991</td>\n",
       "      <td>828</td>\n",
       "      <td>15</td>\n",
       "      <td>20</td>\n",
       "      <td>16</td>\n",
       "      <td>0.0</td>\n",
       "      <td>56</td>\n",
       "      <td>5798984</td>\n",
       "      <td>52</td>\n",
       "      <td>1:38.386</td>\n",
       "      <td>199.455</td>\n",
       "      <td>1</td>\n",
       "    </tr>\n",
       "    <tr>\n",
       "      <th>20896</th>\n",
       "      <td>846</td>\n",
       "      <td>18</td>\n",
       "      <td>1</td>\n",
       "      <td>2</td>\n",
       "      <td>3</td>\n",
       "      <td>15.0</td>\n",
       "      <td>78</td>\n",
       "      <td>7780751</td>\n",
       "      <td>78</td>\n",
       "      <td>1:16.463</td>\n",
       "      <td>157.252</td>\n",
       "      <td>1</td>\n",
       "    </tr>\n",
       "    <tr>\n",
       "      <th>21181</th>\n",
       "      <td>858</td>\n",
       "      <td>1</td>\n",
       "      <td>1</td>\n",
       "      <td>2</td>\n",
       "      <td>1</td>\n",
       "      <td>25.0</td>\n",
       "      <td>55</td>\n",
       "      <td>5831886</td>\n",
       "      <td>51</td>\n",
       "      <td>1:43.461</td>\n",
       "      <td>193.255</td>\n",
       "      <td>1</td>\n",
       "    </tr>\n",
       "  </tbody>\n",
       "</table>\n",
       "</div>"
      ],
      "text/plain": [
       "       raceId  driverId  constructorId  grid position  points  laps   \n",
       "21712     880        13              6     4        4    12.0    58  \\\n",
       "23832     991       828             15    20       16     0.0    56   \n",
       "20896     846        18              1     2        3    15.0    78   \n",
       "21181     858         1              1     2        1    25.0    55   \n",
       "\n",
       "      milliseconds fastestLap fastestLapTime fastestLapSpeed  statusId  \n",
       "21712      5436802         38       1:30.239         211.558         1  \n",
       "23832      5798984         52       1:38.386         199.455         1  \n",
       "20896      7780751         78       1:16.463         157.252         1  \n",
       "21181      5831886         51       1:43.461         193.255         1  "
      ]
     },
     "execution_count": 181,
     "metadata": {},
     "output_type": "execute_result"
    }
   ],
   "source": [
    "# Resultados de cada carrera, identificadores de carrera, piloto, posición inicial/final, puntos, vueltas, tiempos\n",
    "\n",
    "results.sample(4)"
   ]
  },
  {
   "cell_type": "code",
   "execution_count": null,
   "metadata": {},
   "outputs": [],
   "source": [
    "results.rename(columns={'milliseconds':'total_time'}, inplace=True)"
   ]
  },
  {
   "cell_type": "code",
   "execution_count": null,
   "metadata": {},
   "outputs": [],
   "source": [
    "# merge con medias de tiempo de pitstops, races, y drivers"
   ]
  },
  {
   "cell_type": "code",
   "execution_count": null,
   "metadata": {},
   "outputs": [],
   "source": [
    "r1=pd.merge(results, pit_stops, on=[\"raceId\", \"driverId\"])"
   ]
  },
  {
   "cell_type": "code",
   "execution_count": null,
   "metadata": {},
   "outputs": [],
   "source": [
    "# ver resultados muy altos"
   ]
  },
  {
   "cell_type": "code",
   "execution_count": null,
   "metadata": {},
   "outputs": [
    {
     "data": {
      "text/plain": [
       "4820    3069017\n",
       "4815    3067301\n",
       "4812    3065174\n",
       "4818    3063613\n",
       "4826    3063314\n",
       "4802    3055700\n",
       "4823    3051904\n",
       "4797    3046888\n",
       "4805    3043215\n",
       "4808    3037323\n",
       "4800    3036360\n",
       "4794    3034772\n",
       "4791    3031752\n",
       "4830    3011861\n",
       "4381    2075695\n",
       "Name: milliseconds, dtype: int64"
      ]
     },
     "execution_count": 200,
     "metadata": {},
     "output_type": "execute_result"
    }
   ],
   "source": [
    "r1[\"milliseconds\"].sort_values(ascending=False).head(15)"
   ]
  },
  {
   "cell_type": "code",
   "execution_count": null,
   "metadata": {},
   "outputs": [
    {
     "data": {
      "text/html": [
       "<div>\n",
       "<style scoped>\n",
       "    .dataframe tbody tr th:only-of-type {\n",
       "        vertical-align: middle;\n",
       "    }\n",
       "\n",
       "    .dataframe tbody tr th {\n",
       "        vertical-align: top;\n",
       "    }\n",
       "\n",
       "    .dataframe thead th {\n",
       "        text-align: right;\n",
       "    }\n",
       "</style>\n",
       "<table border=\"1\" class=\"dataframe\">\n",
       "  <thead>\n",
       "    <tr style=\"text-align: right;\">\n",
       "      <th></th>\n",
       "      <th>raceId</th>\n",
       "      <th>driverId</th>\n",
       "      <th>constructorId</th>\n",
       "      <th>grid</th>\n",
       "      <th>points</th>\n",
       "      <th>laps</th>\n",
       "      <th>statusId</th>\n",
       "      <th>stop</th>\n",
       "      <th>lap</th>\n",
       "      <th>milliseconds</th>\n",
       "    </tr>\n",
       "  </thead>\n",
       "  <tbody>\n",
       "    <tr>\n",
       "      <th>count</th>\n",
       "      <td>5309.000000</td>\n",
       "      <td>5309.000000</td>\n",
       "      <td>5309.000000</td>\n",
       "      <td>5309.000000</td>\n",
       "      <td>5309.000000</td>\n",
       "      <td>5309.000000</td>\n",
       "      <td>5309.0</td>\n",
       "      <td>5309.000000</td>\n",
       "      <td>5309.000000</td>\n",
       "      <td>5.309000e+03</td>\n",
       "    </tr>\n",
       "    <tr>\n",
       "      <th>mean</th>\n",
       "      <td>966.402524</td>\n",
       "      <td>468.157092</td>\n",
       "      <td>56.854021</td>\n",
       "      <td>8.294217</td>\n",
       "      <td>8.878885</td>\n",
       "      <td>59.337917</td>\n",
       "      <td>1.0</td>\n",
       "      <td>1.768883</td>\n",
       "      <td>25.790356</td>\n",
       "      <td>9.838234e+04</td>\n",
       "    </tr>\n",
       "    <tr>\n",
       "      <th>std</th>\n",
       "      <td>80.595556</td>\n",
       "      <td>401.979223</td>\n",
       "      <td>76.402557</td>\n",
       "      <td>5.671529</td>\n",
       "      <td>7.824843</td>\n",
       "      <td>8.928965</td>\n",
       "      <td>0.0</td>\n",
       "      <td>0.921507</td>\n",
       "      <td>14.543076</td>\n",
       "      <td>3.383249e+05</td>\n",
       "    </tr>\n",
       "    <tr>\n",
       "      <th>min</th>\n",
       "      <td>843.000000</td>\n",
       "      <td>1.000000</td>\n",
       "      <td>1.000000</td>\n",
       "      <td>0.000000</td>\n",
       "      <td>0.000000</td>\n",
       "      <td>28.000000</td>\n",
       "      <td>1.0</td>\n",
       "      <td>1.000000</td>\n",
       "      <td>1.000000</td>\n",
       "      <td>1.317300e+04</td>\n",
       "    </tr>\n",
       "    <tr>\n",
       "      <th>25%</th>\n",
       "      <td>891.000000</td>\n",
       "      <td>13.000000</td>\n",
       "      <td>5.000000</td>\n",
       "      <td>3.000000</td>\n",
       "      <td>1.000000</td>\n",
       "      <td>53.000000</td>\n",
       "      <td>1.0</td>\n",
       "      <td>1.000000</td>\n",
       "      <td>14.000000</td>\n",
       "      <td>2.168700e+04</td>\n",
       "    </tr>\n",
       "    <tr>\n",
       "      <th>50%</th>\n",
       "      <td>962.000000</td>\n",
       "      <td>813.000000</td>\n",
       "      <td>9.000000</td>\n",
       "      <td>7.000000</td>\n",
       "      <td>8.000000</td>\n",
       "      <td>57.000000</td>\n",
       "      <td>1.0</td>\n",
       "      <td>2.000000</td>\n",
       "      <td>25.000000</td>\n",
       "      <td>2.340200e+04</td>\n",
       "    </tr>\n",
       "    <tr>\n",
       "      <th>75%</th>\n",
       "      <td>1039.000000</td>\n",
       "      <td>830.000000</td>\n",
       "      <td>131.000000</td>\n",
       "      <td>12.000000</td>\n",
       "      <td>15.000000</td>\n",
       "      <td>66.000000</td>\n",
       "      <td>1.0</td>\n",
       "      <td>2.000000</td>\n",
       "      <td>36.000000</td>\n",
       "      <td>2.589200e+04</td>\n",
       "    </tr>\n",
       "    <tr>\n",
       "      <th>max</th>\n",
       "      <td>1105.000000</td>\n",
       "      <td>858.000000</td>\n",
       "      <td>214.000000</td>\n",
       "      <td>24.000000</td>\n",
       "      <td>50.000000</td>\n",
       "      <td>87.000000</td>\n",
       "      <td>1.0</td>\n",
       "      <td>6.000000</td>\n",
       "      <td>78.000000</td>\n",
       "      <td>3.069017e+06</td>\n",
       "    </tr>\n",
       "  </tbody>\n",
       "</table>\n",
       "</div>"
      ],
      "text/plain": [
       "            raceId     driverId  constructorId         grid       points   \n",
       "count  5309.000000  5309.000000    5309.000000  5309.000000  5309.000000  \\\n",
       "mean    966.402524   468.157092      56.854021     8.294217     8.878885   \n",
       "std      80.595556   401.979223      76.402557     5.671529     7.824843   \n",
       "min     843.000000     1.000000       1.000000     0.000000     0.000000   \n",
       "25%     891.000000    13.000000       5.000000     3.000000     1.000000   \n",
       "50%     962.000000   813.000000       9.000000     7.000000     8.000000   \n",
       "75%    1039.000000   830.000000     131.000000    12.000000    15.000000   \n",
       "max    1105.000000   858.000000     214.000000    24.000000    50.000000   \n",
       "\n",
       "              laps  statusId         stop          lap  milliseconds  \n",
       "count  5309.000000    5309.0  5309.000000  5309.000000  5.309000e+03  \n",
       "mean     59.337917       1.0     1.768883    25.790356  9.838234e+04  \n",
       "std       8.928965       0.0     0.921507    14.543076  3.383249e+05  \n",
       "min      28.000000       1.0     1.000000     1.000000  1.317300e+04  \n",
       "25%      53.000000       1.0     1.000000    14.000000  2.168700e+04  \n",
       "50%      57.000000       1.0     2.000000    25.000000  2.340200e+04  \n",
       "75%      66.000000       1.0     2.000000    36.000000  2.589200e+04  \n",
       "max      87.000000       1.0     6.000000    78.000000  3.069017e+06  "
      ]
     },
     "execution_count": 197,
     "metadata": {},
     "output_type": "execute_result"
    }
   ],
   "source": [
    "r1.describe()"
   ]
  },
  {
   "cell_type": "code",
   "execution_count": null,
   "metadata": {},
   "outputs": [
    {
     "data": {
      "text/html": [
       "<div>\n",
       "<style scoped>\n",
       "    .dataframe tbody tr th:only-of-type {\n",
       "        vertical-align: middle;\n",
       "    }\n",
       "\n",
       "    .dataframe tbody tr th {\n",
       "        vertical-align: top;\n",
       "    }\n",
       "\n",
       "    .dataframe thead th {\n",
       "        text-align: right;\n",
       "    }\n",
       "</style>\n",
       "<table border=\"1\" class=\"dataframe\">\n",
       "  <thead>\n",
       "    <tr style=\"text-align: right;\">\n",
       "      <th></th>\n",
       "      <th>raceId</th>\n",
       "      <th>driverId</th>\n",
       "      <th>grid</th>\n",
       "      <th>position</th>\n",
       "      <th>milliseconds</th>\n",
       "    </tr>\n",
       "  </thead>\n",
       "  <tbody>\n",
       "    <tr>\n",
       "      <th>3652</th>\n",
       "      <td>1023</td>\n",
       "      <td>1</td>\n",
       "      <td>2</td>\n",
       "      <td>3</td>\n",
       "      <td>23912</td>\n",
       "    </tr>\n",
       "    <tr>\n",
       "      <th>1489</th>\n",
       "      <td>897</td>\n",
       "      <td>17</td>\n",
       "      <td>1</td>\n",
       "      <td>2</td>\n",
       "      <td>21911</td>\n",
       "    </tr>\n",
       "    <tr>\n",
       "      <th>1606</th>\n",
       "      <td>902</td>\n",
       "      <td>13</td>\n",
       "      <td>7</td>\n",
       "      <td>7</td>\n",
       "      <td>24528</td>\n",
       "    </tr>\n",
       "  </tbody>\n",
       "</table>\n",
       "</div>"
      ],
      "text/plain": [
       "      raceId  driverId  grid position  milliseconds\n",
       "3652    1023         1     2        3         23912\n",
       "1489     897        17     1        2         21911\n",
       "1606     902        13     7        7         24528"
      ]
     },
     "execution_count": 186,
     "metadata": {},
     "output_type": "execute_result"
    }
   ],
   "source": [
    "r1[[\"raceId\", \"driverId\", 'grid', 'position', 'milliseconds']].sample(3)\n",
    "\n",
    "\n",
    "# grid: posición inicial\n",
    "# position: posición final\n"
   ]
  },
  {
   "cell_type": "code",
   "execution_count": null,
   "metadata": {},
   "outputs": [
    {
     "data": {
      "text/html": [
       "<div>\n",
       "<style scoped>\n",
       "    .dataframe tbody tr th:only-of-type {\n",
       "        vertical-align: middle;\n",
       "    }\n",
       "\n",
       "    .dataframe tbody tr th {\n",
       "        vertical-align: top;\n",
       "    }\n",
       "\n",
       "    .dataframe thead th {\n",
       "        text-align: right;\n",
       "    }\n",
       "</style>\n",
       "<table border=\"1\" class=\"dataframe\">\n",
       "  <thead>\n",
       "    <tr style=\"text-align: right;\">\n",
       "      <th></th>\n",
       "      <th>raceId</th>\n",
       "      <th>year</th>\n",
       "      <th>round</th>\n",
       "      <th>circuitId</th>\n",
       "      <th>name</th>\n",
       "      <th>date</th>\n",
       "    </tr>\n",
       "  </thead>\n",
       "  <tbody>\n",
       "    <tr>\n",
       "      <th>0</th>\n",
       "      <td>1</td>\n",
       "      <td>2009</td>\n",
       "      <td>1</td>\n",
       "      <td>1</td>\n",
       "      <td>Australian Grand Prix</td>\n",
       "      <td>2009-03-29</td>\n",
       "    </tr>\n",
       "    <tr>\n",
       "      <th>1</th>\n",
       "      <td>2</td>\n",
       "      <td>2009</td>\n",
       "      <td>2</td>\n",
       "      <td>2</td>\n",
       "      <td>Malaysian Grand Prix</td>\n",
       "      <td>2009-04-05</td>\n",
       "    </tr>\n",
       "    <tr>\n",
       "      <th>2</th>\n",
       "      <td>3</td>\n",
       "      <td>2009</td>\n",
       "      <td>3</td>\n",
       "      <td>17</td>\n",
       "      <td>Chinese Grand Prix</td>\n",
       "      <td>2009-04-19</td>\n",
       "    </tr>\n",
       "    <tr>\n",
       "      <th>3</th>\n",
       "      <td>4</td>\n",
       "      <td>2009</td>\n",
       "      <td>4</td>\n",
       "      <td>3</td>\n",
       "      <td>Bahrain Grand Prix</td>\n",
       "      <td>2009-04-26</td>\n",
       "    </tr>\n",
       "    <tr>\n",
       "      <th>4</th>\n",
       "      <td>5</td>\n",
       "      <td>2009</td>\n",
       "      <td>5</td>\n",
       "      <td>4</td>\n",
       "      <td>Spanish Grand Prix</td>\n",
       "      <td>2009-05-10</td>\n",
       "    </tr>\n",
       "    <tr>\n",
       "      <th>...</th>\n",
       "      <td>...</td>\n",
       "      <td>...</td>\n",
       "      <td>...</td>\n",
       "      <td>...</td>\n",
       "      <td>...</td>\n",
       "      <td>...</td>\n",
       "    </tr>\n",
       "    <tr>\n",
       "      <th>1096</th>\n",
       "      <td>1116</td>\n",
       "      <td>2023</td>\n",
       "      <td>18</td>\n",
       "      <td>69</td>\n",
       "      <td>United States Grand Prix</td>\n",
       "      <td>2023-10-22</td>\n",
       "    </tr>\n",
       "    <tr>\n",
       "      <th>1097</th>\n",
       "      <td>1117</td>\n",
       "      <td>2023</td>\n",
       "      <td>19</td>\n",
       "      <td>32</td>\n",
       "      <td>Mexico City Grand Prix</td>\n",
       "      <td>2023-10-29</td>\n",
       "    </tr>\n",
       "    <tr>\n",
       "      <th>1098</th>\n",
       "      <td>1118</td>\n",
       "      <td>2023</td>\n",
       "      <td>20</td>\n",
       "      <td>18</td>\n",
       "      <td>São Paulo Grand Prix</td>\n",
       "      <td>2023-11-05</td>\n",
       "    </tr>\n",
       "    <tr>\n",
       "      <th>1099</th>\n",
       "      <td>1119</td>\n",
       "      <td>2023</td>\n",
       "      <td>21</td>\n",
       "      <td>80</td>\n",
       "      <td>Las Vegas Grand Prix</td>\n",
       "      <td>2023-11-19</td>\n",
       "    </tr>\n",
       "    <tr>\n",
       "      <th>1100</th>\n",
       "      <td>1120</td>\n",
       "      <td>2023</td>\n",
       "      <td>22</td>\n",
       "      <td>24</td>\n",
       "      <td>Abu Dhabi Grand Prix</td>\n",
       "      <td>2023-11-26</td>\n",
       "    </tr>\n",
       "  </tbody>\n",
       "</table>\n",
       "<p>1101 rows × 6 columns</p>\n",
       "</div>"
      ],
      "text/plain": [
       "      raceId  year  round  circuitId                      name        date\n",
       "0          1  2009      1          1     Australian Grand Prix  2009-03-29\n",
       "1          2  2009      2          2      Malaysian Grand Prix  2009-04-05\n",
       "2          3  2009      3         17        Chinese Grand Prix  2009-04-19\n",
       "3          4  2009      4          3        Bahrain Grand Prix  2009-04-26\n",
       "4          5  2009      5          4        Spanish Grand Prix  2009-05-10\n",
       "...      ...   ...    ...        ...                       ...         ...\n",
       "1096    1116  2023     18         69  United States Grand Prix  2023-10-22\n",
       "1097    1117  2023     19         32    Mexico City Grand Prix  2023-10-29\n",
       "1098    1118  2023     20         18      São Paulo Grand Prix  2023-11-05\n",
       "1099    1119  2023     21         80      Las Vegas Grand Prix  2023-11-19\n",
       "1100    1120  2023     22         24      Abu Dhabi Grand Prix  2023-11-26\n",
       "\n",
       "[1101 rows x 6 columns]"
      ]
     },
     "execution_count": 187,
     "metadata": {},
     "output_type": "execute_result"
    }
   ],
   "source": [
    "races"
   ]
  },
  {
   "cell_type": "code",
   "execution_count": null,
   "metadata": {},
   "outputs": [],
   "source": [
    "races09_23=pd.merge(r1,races, on=['raceId'])"
   ]
  },
  {
   "cell_type": "code",
   "execution_count": null,
   "metadata": {},
   "outputs": [],
   "source": [
    "races09_23.drop(['round','circuitId','date'], axis=1, inplace=True)"
   ]
  },
  {
   "cell_type": "code",
   "execution_count": null,
   "metadata": {},
   "outputs": [
    {
     "data": {
      "text/html": [
       "<div>\n",
       "<style scoped>\n",
       "    .dataframe tbody tr th:only-of-type {\n",
       "        vertical-align: middle;\n",
       "    }\n",
       "\n",
       "    .dataframe tbody tr th {\n",
       "        vertical-align: top;\n",
       "    }\n",
       "\n",
       "    .dataframe thead th {\n",
       "        text-align: right;\n",
       "    }\n",
       "</style>\n",
       "<table border=\"1\" class=\"dataframe\">\n",
       "  <thead>\n",
       "    <tr style=\"text-align: right;\">\n",
       "      <th></th>\n",
       "      <th>raceId</th>\n",
       "      <th>driverId</th>\n",
       "      <th>constructorId</th>\n",
       "      <th>grid</th>\n",
       "      <th>position</th>\n",
       "      <th>points</th>\n",
       "      <th>laps</th>\n",
       "      <th>total_time</th>\n",
       "      <th>fastestLap</th>\n",
       "      <th>fastestLapTime</th>\n",
       "      <th>fastestLapSpeed</th>\n",
       "      <th>statusId</th>\n",
       "      <th>stop</th>\n",
       "      <th>lap</th>\n",
       "      <th>milliseconds</th>\n",
       "      <th>year</th>\n",
       "      <th>name</th>\n",
       "    </tr>\n",
       "  </thead>\n",
       "  <tbody>\n",
       "    <tr>\n",
       "      <th>4257</th>\n",
       "      <td>1055</td>\n",
       "      <td>1</td>\n",
       "      <td>131</td>\n",
       "      <td>1</td>\n",
       "      <td>1</td>\n",
       "      <td>25.0</td>\n",
       "      <td>66</td>\n",
       "      <td>5587680</td>\n",
       "      <td>54</td>\n",
       "      <td>1:20.665</td>\n",
       "      <td>208.640</td>\n",
       "      <td>1</td>\n",
       "      <td>1</td>\n",
       "      <td>28</td>\n",
       "      <td>22220</td>\n",
       "      <td>2021</td>\n",
       "      <td>Spanish Grand Prix</td>\n",
       "    </tr>\n",
       "    <tr>\n",
       "      <th>3238</th>\n",
       "      <td>992</td>\n",
       "      <td>838</td>\n",
       "      <td>1</td>\n",
       "      <td>16</td>\n",
       "      <td>9</td>\n",
       "      <td>2.0</td>\n",
       "      <td>51</td>\n",
       "      <td>6238443</td>\n",
       "      <td>50</td>\n",
       "      <td>1:47.666</td>\n",
       "      <td>200.720</td>\n",
       "      <td>1</td>\n",
       "      <td>2</td>\n",
       "      <td>25</td>\n",
       "      <td>20887</td>\n",
       "      <td>2018</td>\n",
       "      <td>Azerbaijan Grand Prix</td>\n",
       "    </tr>\n",
       "    <tr>\n",
       "      <th>3078</th>\n",
       "      <td>982</td>\n",
       "      <td>154</td>\n",
       "      <td>210</td>\n",
       "      <td>15</td>\n",
       "      <td>9</td>\n",
       "      <td>2.0</td>\n",
       "      <td>58</td>\n",
       "      <td>7446826</td>\n",
       "      <td>54</td>\n",
       "      <td>1:47.637</td>\n",
       "      <td>169.402</td>\n",
       "      <td>1</td>\n",
       "      <td>2</td>\n",
       "      <td>2</td>\n",
       "      <td>31320</td>\n",
       "      <td>2017</td>\n",
       "      <td>Singapore Grand Prix</td>\n",
       "    </tr>\n",
       "  </tbody>\n",
       "</table>\n",
       "</div>"
      ],
      "text/plain": [
       "      raceId  driverId  constructorId  grid position  points  laps total_time   \n",
       "4257    1055         1            131     1        1    25.0    66    5587680  \\\n",
       "3238     992       838              1    16        9     2.0    51    6238443   \n",
       "3078     982       154            210    15        9     2.0    58    7446826   \n",
       "\n",
       "     fastestLap fastestLapTime fastestLapSpeed  statusId  stop  lap   \n",
       "4257         54       1:20.665         208.640         1     1   28  \\\n",
       "3238         50       1:47.666         200.720         1     2   25   \n",
       "3078         54       1:47.637         169.402         1     2    2   \n",
       "\n",
       "      milliseconds  year                   name  \n",
       "4257         22220  2021     Spanish Grand Prix  \n",
       "3238         20887  2018  Azerbaijan Grand Prix  \n",
       "3078         31320  2017   Singapore Grand Prix  "
      ]
     },
     "execution_count": 190,
     "metadata": {},
     "output_type": "execute_result"
    }
   ],
   "source": [
    "races09_23.sample(3)"
   ]
  },
  {
   "cell_type": "code",
   "execution_count": null,
   "metadata": {},
   "outputs": [
    {
     "data": {
      "text/plain": [
       "Index(['raceId', 'driverId', 'constructorId', 'grid', 'position', 'points',\n",
       "       'laps', 'total_time', 'fastestLap', 'fastestLapTime', 'fastestLapSpeed',\n",
       "       'statusId', 'stop', 'lap', 'milliseconds', 'year', 'name'],\n",
       "      dtype='object')"
      ]
     },
     "execution_count": 191,
     "metadata": {},
     "output_type": "execute_result"
    }
   ],
   "source": [
    "races09_23.columns"
   ]
  },
  {
   "cell_type": "code",
   "execution_count": null,
   "metadata": {},
   "outputs": [
    {
     "name": "stdout",
     "output_type": "stream",
     "text": [
      "<class 'pandas.core.frame.DataFrame'>\n",
      "RangeIndex: 5309 entries, 0 to 5308\n",
      "Data columns (total 17 columns):\n",
      " #   Column           Non-Null Count  Dtype  \n",
      "---  ------           --------------  -----  \n",
      " 0   raceId           5309 non-null   int64  \n",
      " 1   driverId         5309 non-null   int64  \n",
      " 2   constructorId    5309 non-null   int64  \n",
      " 3   grid             5309 non-null   int64  \n",
      " 4   position         5309 non-null   object \n",
      " 5   points           5309 non-null   float64\n",
      " 6   laps             5309 non-null   int64  \n",
      " 7   total_time       5309 non-null   object \n",
      " 8   fastestLap       5309 non-null   object \n",
      " 9   fastestLapTime   5309 non-null   object \n",
      " 10  fastestLapSpeed  5309 non-null   object \n",
      " 11  statusId         5309 non-null   int64  \n",
      " 12  stop             5309 non-null   int64  \n",
      " 13  lap              5309 non-null   int64  \n",
      " 14  milliseconds     5309 non-null   int64  \n",
      " 15  year             5309 non-null   int64  \n",
      " 16  name             5309 non-null   object \n",
      "dtypes: float64(1), int64(10), object(6)\n",
      "memory usage: 705.2+ KB\n"
     ]
    }
   ],
   "source": [
    "races09_23.info()"
   ]
  },
  {
   "cell_type": "code",
   "execution_count": null,
   "metadata": {},
   "outputs": [],
   "source": [
    "### No hay valores NaN, pero hay cadenas '\\N'\n",
    "# races09_23.isna().sum()\n",
    "races09_23[['fastestLap', 'fastestLapSpeed', 'fastestLapTime']].replace('\\\\N', -1)"
   ]
  },
  {
   "cell_type": "code",
   "execution_count": null,
   "metadata": {},
   "outputs": [],
   "source": [
    "## graficas   carrera/media pit_stop\n",
    "\n",
    "## media pitstop/ puestos ganados"
   ]
  },
  {
   "attachments": {},
   "cell_type": "markdown",
   "metadata": {},
   "source": [
    "---------------\n",
    "\n",
    "## <center><span style=\"color:RED\"> *DRIVERS*</span></center>\n",
    "\n",
    "---------------"
   ]
  },
  {
   "cell_type": "code",
   "execution_count": null,
   "metadata": {},
   "outputs": [],
   "source": [
    "# unir nombre apellido\n",
    "drivers['fullname']=drivers['forename']+\" \"+drivers['surname']"
   ]
  },
  {
   "cell_type": "code",
   "execution_count": null,
   "metadata": {},
   "outputs": [],
   "source": [
    "# borrar columnas\n",
    "\n",
    "drivers.drop(['nationality', 'code', 'dob', 'number', 'url', 'forename', 'surname'], axis=1, inplace=True)"
   ]
  },
  {
   "cell_type": "code",
   "execution_count": null,
   "metadata": {},
   "outputs": [
    {
     "data": {
      "text/html": [
       "<div>\n",
       "<style scoped>\n",
       "    .dataframe tbody tr th:only-of-type {\n",
       "        vertical-align: middle;\n",
       "    }\n",
       "\n",
       "    .dataframe tbody tr th {\n",
       "        vertical-align: top;\n",
       "    }\n",
       "\n",
       "    .dataframe thead th {\n",
       "        text-align: right;\n",
       "    }\n",
       "</style>\n",
       "<table border=\"1\" class=\"dataframe\">\n",
       "  <thead>\n",
       "    <tr style=\"text-align: right;\">\n",
       "      <th></th>\n",
       "      <th>driverId</th>\n",
       "      <th>driverRef</th>\n",
       "      <th>fullname</th>\n",
       "    </tr>\n",
       "  </thead>\n",
       "  <tbody>\n",
       "    <tr>\n",
       "      <th>3</th>\n",
       "      <td>4</td>\n",
       "      <td>alonso</td>\n",
       "      <td>Fernando Alonso</td>\n",
       "    </tr>\n",
       "  </tbody>\n",
       "</table>\n",
       "</div>"
      ],
      "text/plain": [
       "   driverId driverRef         fullname\n",
       "3         4    alonso  Fernando Alonso"
      ]
     },
     "execution_count": 43,
     "metadata": {},
     "output_type": "execute_result"
    }
   ],
   "source": [
    "# Información básica de cada conductor, id, alias, nombre completo\n",
    "\n",
    "# todas cualitativas para mezclar con results\n",
    "\n",
    "drivers[drivers.driverId==4]"
   ]
  },
  {
   "attachments": {},
   "cell_type": "markdown",
   "metadata": {},
   "source": [
    "---------------\n",
    "\n",
    "## <center><span style=\"color:RED\"> *LAP TIMES*</span></center>\n",
    "\n",
    "---------------"
   ]
  },
  {
   "cell_type": "code",
   "execution_count": null,
   "metadata": {},
   "outputs": [
    {
     "name": "stdout",
     "output_type": "stream",
     "text": [
      "<class 'pandas.core.frame.DataFrame'>\n",
      "RangeIndex: 546037 entries, 0 to 546036\n",
      "Data columns (total 6 columns):\n",
      " #   Column        Non-Null Count   Dtype \n",
      "---  ------        --------------   ----- \n",
      " 0   raceId        546037 non-null  int64 \n",
      " 1   driverId      546037 non-null  int64 \n",
      " 2   lap           546037 non-null  int64 \n",
      " 3   position      546037 non-null  int64 \n",
      " 4   time          546037 non-null  object\n",
      " 5   milliseconds  546037 non-null  int64 \n",
      "dtypes: int64(5), object(1)\n",
      "memory usage: 25.0+ MB\n"
     ]
    }
   ],
   "source": [
    "lap_times.info()\n",
    "\n",
    "# sin valores nulos\n",
    "# variable cuantitativa, tiempo en milisegundos por vuelta"
   ]
  },
  {
   "cell_type": "code",
   "execution_count": null,
   "metadata": {},
   "outputs": [
    {
     "data": {
      "text/html": [
       "<div>\n",
       "<style scoped>\n",
       "    .dataframe tbody tr th:only-of-type {\n",
       "        vertical-align: middle;\n",
       "    }\n",
       "\n",
       "    .dataframe tbody tr th {\n",
       "        vertical-align: top;\n",
       "    }\n",
       "\n",
       "    .dataframe thead th {\n",
       "        text-align: right;\n",
       "    }\n",
       "</style>\n",
       "<table border=\"1\" class=\"dataframe\">\n",
       "  <thead>\n",
       "    <tr style=\"text-align: right;\">\n",
       "      <th></th>\n",
       "      <th>raceId</th>\n",
       "      <th>driverId</th>\n",
       "      <th>lap</th>\n",
       "      <th>position</th>\n",
       "      <th>time</th>\n",
       "      <th>milliseconds</th>\n",
       "    </tr>\n",
       "  </thead>\n",
       "  <tbody>\n",
       "    <tr>\n",
       "      <th>298664</th>\n",
       "      <td>66</td>\n",
       "      <td>13</td>\n",
       "      <td>14</td>\n",
       "      <td>1</td>\n",
       "      <td>1:31.053</td>\n",
       "      <td>91053</td>\n",
       "    </tr>\n",
       "    <tr>\n",
       "      <th>242773</th>\n",
       "      <td>120</td>\n",
       "      <td>2</td>\n",
       "      <td>65</td>\n",
       "      <td>9</td>\n",
       "      <td>1:24.758</td>\n",
       "      <td>84758</td>\n",
       "    </tr>\n",
       "    <tr>\n",
       "      <th>455282</th>\n",
       "      <td>1015</td>\n",
       "      <td>844</td>\n",
       "      <td>6</td>\n",
       "      <td>13</td>\n",
       "      <td>1:19.151</td>\n",
       "      <td>79151</td>\n",
       "    </tr>\n",
       "    <tr>\n",
       "      <th>208611</th>\n",
       "      <td>153</td>\n",
       "      <td>50</td>\n",
       "      <td>55</td>\n",
       "      <td>15</td>\n",
       "      <td>1:20.895</td>\n",
       "      <td>80895</td>\n",
       "    </tr>\n",
       "  </tbody>\n",
       "</table>\n",
       "</div>"
      ],
      "text/plain": [
       "        raceId  driverId  lap  position      time  milliseconds\n",
       "298664      66        13   14         1  1:31.053         91053\n",
       "242773     120         2   65         9  1:24.758         84758\n",
       "455282    1015       844    6        13  1:19.151         79151\n",
       "208611     153        50   55        15  1:20.895         80895"
      ]
     },
     "execution_count": 44,
     "metadata": {},
     "output_type": "execute_result"
    }
   ],
   "source": [
    "lap_times.sample(4)"
   ]
  },
  {
   "cell_type": "code",
   "execution_count": null,
   "metadata": {},
   "outputs": [
    {
     "data": {
      "text/plain": [
       "0         98109\n",
       "1         93006\n",
       "2         92713\n",
       "3         92803\n",
       "4         92342\n",
       "          ...  \n",
       "546032    79035\n",
       "546033    79096\n",
       "546034    79502\n",
       "546035    78922\n",
       "546036    79271\n",
       "Name: milliseconds, Length: 546037, dtype: int32"
      ]
     },
     "execution_count": 46,
     "metadata": {},
     "output_type": "execute_result"
    }
   ],
   "source": [
    "# cambiar tipo de tiempo en milisegundos a int\n",
    "lap_times[\"milliseconds\"].astype(int)"
   ]
  },
  {
   "cell_type": "code",
   "execution_count": null,
   "metadata": {},
   "outputs": [
    {
     "data": {
      "text/plain": [
       "raceId  driverId\n",
       "1       1           97563.758621\n",
       "        2           97635.672414\n",
       "        3           97612.172414\n",
       "        4           97597.637931\n",
       "        6           91822.235294\n",
       "                        ...     \n",
       "1105    852         81035.696970\n",
       "        855         81057.848485\n",
       "        856         81281.030769\n",
       "        857         81264.846154\n",
       "        858         81994.107692\n",
       "Name: milliseconds, Length: 10285, dtype: float64"
      ]
     },
     "execution_count": 49,
     "metadata": {},
     "output_type": "execute_result"
    }
   ],
   "source": [
    "# media de tiempo por vuelta, por carrera y conductor\n",
    "lap_times_race_mean=lap_times.groupby(['raceId', 'driverId'])['milliseconds'].mean()\n",
    "lap_times_race_mean"
   ]
  },
  {
   "cell_type": "code",
   "execution_count": null,
   "metadata": {},
   "outputs": [
    {
     "ename": "ValueError",
     "evalue": "setting an array element with a sequence.",
     "output_type": "error",
     "traceback": [
      "\u001b[1;31m---------------------------------------------------------------------------\u001b[0m",
      "\u001b[1;31mTypeError\u001b[0m                                 Traceback (most recent call last)",
      "\u001b[1;31mTypeError\u001b[0m: float() argument must be a string or a number, not 'tuple'",
      "\nThe above exception was the direct cause of the following exception:\n",
      "\u001b[1;31mValueError\u001b[0m                                Traceback (most recent call last)",
      "Cell \u001b[1;32mIn[52], line 1\u001b[0m\n\u001b[1;32m----> 1\u001b[0m plt\u001b[39m.\u001b[39;49mplot(lap_times_race_mean)\n",
      "File \u001b[1;32mc:\\Users\\j\\miniconda3\\envs\\ramp_up_py395\\lib\\site-packages\\matplotlib\\pyplot.py:2812\u001b[0m, in \u001b[0;36mplot\u001b[1;34m(scalex, scaley, data, *args, **kwargs)\u001b[0m\n\u001b[0;32m   2810\u001b[0m \u001b[39m@_copy_docstring_and_deprecators\u001b[39m(Axes\u001b[39m.\u001b[39mplot)\n\u001b[0;32m   2811\u001b[0m \u001b[39mdef\u001b[39;00m \u001b[39mplot\u001b[39m(\u001b[39m*\u001b[39margs, scalex\u001b[39m=\u001b[39m\u001b[39mTrue\u001b[39;00m, scaley\u001b[39m=\u001b[39m\u001b[39mTrue\u001b[39;00m, data\u001b[39m=\u001b[39m\u001b[39mNone\u001b[39;00m, \u001b[39m*\u001b[39m\u001b[39m*\u001b[39mkwargs):\n\u001b[1;32m-> 2812\u001b[0m     \u001b[39mreturn\u001b[39;00m gca()\u001b[39m.\u001b[39mplot(\n\u001b[0;32m   2813\u001b[0m         \u001b[39m*\u001b[39margs, scalex\u001b[39m=\u001b[39mscalex, scaley\u001b[39m=\u001b[39mscaley,\n\u001b[0;32m   2814\u001b[0m         \u001b[39m*\u001b[39m\u001b[39m*\u001b[39m({\u001b[39m\"\u001b[39m\u001b[39mdata\u001b[39m\u001b[39m\"\u001b[39m: data} \u001b[39mif\u001b[39;00m data \u001b[39mis\u001b[39;00m \u001b[39mnot\u001b[39;00m \u001b[39mNone\u001b[39;00m \u001b[39melse\u001b[39;00m {}), \u001b[39m*\u001b[39m\u001b[39m*\u001b[39mkwargs)\n",
      "File \u001b[1;32mc:\\Users\\j\\miniconda3\\envs\\ramp_up_py395\\lib\\site-packages\\matplotlib\\axes\\_axes.py:1690\u001b[0m, in \u001b[0;36mAxes.plot\u001b[1;34m(self, scalex, scaley, data, *args, **kwargs)\u001b[0m\n\u001b[0;32m   1688\u001b[0m lines \u001b[39m=\u001b[39m [\u001b[39m*\u001b[39m\u001b[39mself\u001b[39m\u001b[39m.\u001b[39m_get_lines(\u001b[39m*\u001b[39margs, data\u001b[39m=\u001b[39mdata, \u001b[39m*\u001b[39m\u001b[39m*\u001b[39mkwargs)]\n\u001b[0;32m   1689\u001b[0m \u001b[39mfor\u001b[39;00m line \u001b[39min\u001b[39;00m lines:\n\u001b[1;32m-> 1690\u001b[0m     \u001b[39mself\u001b[39;49m\u001b[39m.\u001b[39;49madd_line(line)\n\u001b[0;32m   1691\u001b[0m \u001b[39mif\u001b[39;00m scalex:\n\u001b[0;32m   1692\u001b[0m     \u001b[39mself\u001b[39m\u001b[39m.\u001b[39m_request_autoscale_view(\u001b[39m\"\u001b[39m\u001b[39mx\u001b[39m\u001b[39m\"\u001b[39m)\n",
      "File \u001b[1;32mc:\\Users\\j\\miniconda3\\envs\\ramp_up_py395\\lib\\site-packages\\matplotlib\\axes\\_base.py:2304\u001b[0m, in \u001b[0;36m_AxesBase.add_line\u001b[1;34m(self, line)\u001b[0m\n\u001b[0;32m   2301\u001b[0m \u001b[39mif\u001b[39;00m line\u001b[39m.\u001b[39mget_clip_path() \u001b[39mis\u001b[39;00m \u001b[39mNone\u001b[39;00m:\n\u001b[0;32m   2302\u001b[0m     line\u001b[39m.\u001b[39mset_clip_path(\u001b[39mself\u001b[39m\u001b[39m.\u001b[39mpatch)\n\u001b[1;32m-> 2304\u001b[0m \u001b[39mself\u001b[39;49m\u001b[39m.\u001b[39;49m_update_line_limits(line)\n\u001b[0;32m   2305\u001b[0m \u001b[39mif\u001b[39;00m \u001b[39mnot\u001b[39;00m line\u001b[39m.\u001b[39mget_label():\n\u001b[0;32m   2306\u001b[0m     line\u001b[39m.\u001b[39mset_label(\u001b[39mf\u001b[39m\u001b[39m'\u001b[39m\u001b[39m_child\u001b[39m\u001b[39m{\u001b[39;00m\u001b[39mlen\u001b[39m(\u001b[39mself\u001b[39m\u001b[39m.\u001b[39m_children)\u001b[39m}\u001b[39;00m\u001b[39m'\u001b[39m)\n",
      "File \u001b[1;32mc:\\Users\\j\\miniconda3\\envs\\ramp_up_py395\\lib\\site-packages\\matplotlib\\axes\\_base.py:2327\u001b[0m, in \u001b[0;36m_AxesBase._update_line_limits\u001b[1;34m(self, line)\u001b[0m\n\u001b[0;32m   2323\u001b[0m \u001b[39mdef\u001b[39;00m \u001b[39m_update_line_limits\u001b[39m(\u001b[39mself\u001b[39m, line):\n\u001b[0;32m   2324\u001b[0m \u001b[39m    \u001b[39m\u001b[39m\"\"\"\u001b[39;00m\n\u001b[0;32m   2325\u001b[0m \u001b[39m    Figures out the data limit of the given line, updating self.dataLim.\u001b[39;00m\n\u001b[0;32m   2326\u001b[0m \u001b[39m    \"\"\"\u001b[39;00m\n\u001b[1;32m-> 2327\u001b[0m     path \u001b[39m=\u001b[39m line\u001b[39m.\u001b[39;49mget_path()\n\u001b[0;32m   2328\u001b[0m     \u001b[39mif\u001b[39;00m path\u001b[39m.\u001b[39mvertices\u001b[39m.\u001b[39msize \u001b[39m==\u001b[39m \u001b[39m0\u001b[39m:\n\u001b[0;32m   2329\u001b[0m         \u001b[39mreturn\u001b[39;00m\n",
      "File \u001b[1;32mc:\\Users\\j\\miniconda3\\envs\\ramp_up_py395\\lib\\site-packages\\matplotlib\\lines.py:1029\u001b[0m, in \u001b[0;36mLine2D.get_path\u001b[1;34m(self)\u001b[0m\n\u001b[0;32m   1027\u001b[0m \u001b[39m\u001b[39m\u001b[39m\"\"\"Return the `~matplotlib.path.Path` associated with this line.\"\"\"\u001b[39;00m\n\u001b[0;32m   1028\u001b[0m \u001b[39mif\u001b[39;00m \u001b[39mself\u001b[39m\u001b[39m.\u001b[39m_invalidy \u001b[39mor\u001b[39;00m \u001b[39mself\u001b[39m\u001b[39m.\u001b[39m_invalidx:\n\u001b[1;32m-> 1029\u001b[0m     \u001b[39mself\u001b[39;49m\u001b[39m.\u001b[39;49mrecache()\n\u001b[0;32m   1030\u001b[0m \u001b[39mreturn\u001b[39;00m \u001b[39mself\u001b[39m\u001b[39m.\u001b[39m_path\n",
      "File \u001b[1;32mc:\\Users\\j\\miniconda3\\envs\\ramp_up_py395\\lib\\site-packages\\matplotlib\\lines.py:657\u001b[0m, in \u001b[0;36mLine2D.recache\u001b[1;34m(self, always)\u001b[0m\n\u001b[0;32m    655\u001b[0m \u001b[39mif\u001b[39;00m always \u001b[39mor\u001b[39;00m \u001b[39mself\u001b[39m\u001b[39m.\u001b[39m_invalidx:\n\u001b[0;32m    656\u001b[0m     xconv \u001b[39m=\u001b[39m \u001b[39mself\u001b[39m\u001b[39m.\u001b[39mconvert_xunits(\u001b[39mself\u001b[39m\u001b[39m.\u001b[39m_xorig)\n\u001b[1;32m--> 657\u001b[0m     x \u001b[39m=\u001b[39m _to_unmasked_float_array(xconv)\u001b[39m.\u001b[39mravel()\n\u001b[0;32m    658\u001b[0m \u001b[39melse\u001b[39;00m:\n\u001b[0;32m    659\u001b[0m     x \u001b[39m=\u001b[39m \u001b[39mself\u001b[39m\u001b[39m.\u001b[39m_x\n",
      "File \u001b[1;32mc:\\Users\\j\\miniconda3\\envs\\ramp_up_py395\\lib\\site-packages\\matplotlib\\cbook\\__init__.py:1335\u001b[0m, in \u001b[0;36m_to_unmasked_float_array\u001b[1;34m(x)\u001b[0m\n\u001b[0;32m   1333\u001b[0m     \u001b[39mreturn\u001b[39;00m np\u001b[39m.\u001b[39mma\u001b[39m.\u001b[39masarray(x, \u001b[39mfloat\u001b[39m)\u001b[39m.\u001b[39mfilled(np\u001b[39m.\u001b[39mnan)\n\u001b[0;32m   1334\u001b[0m \u001b[39melse\u001b[39;00m:\n\u001b[1;32m-> 1335\u001b[0m     \u001b[39mreturn\u001b[39;00m np\u001b[39m.\u001b[39;49masarray(x, \u001b[39mfloat\u001b[39;49m)\n",
      "\u001b[1;31mValueError\u001b[0m: setting an array element with a sequence."
     ]
    },
    {
     "data": {
      "image/png": "[encoded data removed]",
      "text/plain": [
       "<Figure size 640x480 with 1 Axes>"
      ]
     },
     "metadata": {},
     "output_type": "display_data"
    }
   ],
   "source": [
    "plt.plot(lap_times_race_mean)"
   ]
  }
 ],
 "metadata": {
  "kernelspec": {
   "display_name": "Python 3 (ipykernel)",
   "language": "python",
   "name": "python3"
  },
  "language_info": {
   "codemirror_mode": {
    "name": "ipython",
    "version": 3
   },
   "file_extension": ".py",
   "mimetype": "text/x-python",
   "name": "python",
   "nbconvert_exporter": "python",
   "pygments_lexer": "ipython3",
   "version": "3.9.5"
  },
  "orig_nbformat": 4
 },
 "nbformat": 4,
 "nbformat_minor": 2
}
