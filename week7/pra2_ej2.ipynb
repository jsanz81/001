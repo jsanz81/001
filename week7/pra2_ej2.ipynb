{
 "cells": [
  {
   "cell_type": "code",
   "execution_count": 26,
   "metadata": {},
   "outputs": [
    {
     "name": "stdout",
     "output_type": "stream",
     "text": [
      "Requirement already satisfied: psycopg in c:\\users\\j\\miniconda3\\envs\\ramp_up_py395\\lib\\site-packages (3.1.9)\n",
      "Requirement already satisfied: tzdata in c:\\users\\j\\miniconda3\\envs\\ramp_up_py395\\lib\\site-packages (from psycopg) (2023.3)\n",
      "Requirement already satisfied: typing-extensions>=4.1 in c:\\users\\j\\miniconda3\\envs\\ramp_up_py395\\lib\\site-packages (from psycopg) (4.5.0)\n",
      "Note: you may need to restart the kernel to use updated packages.\n"
     ]
    }
   ],
   "source": [
    "pip install psycopg"
   ]
  },
  {
   "cell_type": "code",
   "execution_count": 27,
   "metadata": {},
   "outputs": [],
   "source": [
    "import sqlite3\n",
    "import numpy as np\n",
    "import pandas as pd\n",
    "import psycopg2"
   ]
  },
  {
   "cell_type": "code",
   "execution_count": 25,
   "metadata": {},
   "outputs": [],
   "source": [
    "conn = sqlite3.connect('PRA1.db')"
   ]
  },
  {
   "cell_type": "code",
   "execution_count": 26,
   "metadata": {},
   "outputs": [],
   "source": [
    "cursor = conn.cursor()"
   ]
  },
  {
   "cell_type": "code",
   "execution_count": 33,
   "metadata": {},
   "outputs": [],
   "source": [
    "with open('BBDD_ERP_data.sql', 'r') as s:\n",
    "    script = s.read()\n",
    "    cursor.executescript(script)"
   ]
  },
  {
   "cell_type": "code",
   "execution_count": 41,
   "metadata": {},
   "outputs": [],
   "source": [
    "conn.commit()"
   ]
  },
  {
   "cell_type": "code",
   "execution_count": 42,
   "metadata": {},
   "outputs": [
    {
     "data": {
      "text/html": [
       "<div>\n",
       "<style scoped>\n",
       "    .dataframe tbody tr th:only-of-type {\n",
       "        vertical-align: middle;\n",
       "    }\n",
       "\n",
       "    .dataframe tbody tr th {\n",
       "        vertical-align: top;\n",
       "    }\n",
       "\n",
       "    .dataframe thead th {\n",
       "        text-align: right;\n",
       "    }\n",
       "</style>\n",
       "<table border=\"1\" class=\"dataframe\">\n",
       "  <thead>\n",
       "    <tr style=\"text-align: right;\">\n",
       "      <th></th>\n",
       "      <th>type</th>\n",
       "      <th>name</th>\n",
       "      <th>tbl_name</th>\n",
       "      <th>rootpage</th>\n",
       "      <th>sql</th>\n",
       "    </tr>\n",
       "  </thead>\n",
       "  <tbody>\n",
       "    <tr>\n",
       "      <th>0</th>\n",
       "      <td>table</td>\n",
       "      <td>tb_company</td>\n",
       "      <td>tb_company</td>\n",
       "      <td>2</td>\n",
       "      <td>CREATE TABLE tb_company\\n        (\\n          ...</td>\n",
       "    </tr>\n",
       "    <tr>\n",
       "      <th>1</th>\n",
       "      <td>table</td>\n",
       "      <td>tb_customer</td>\n",
       "      <td>tb_customer</td>\n",
       "      <td>4</td>\n",
       "      <td>CREATE TABLE tb_customer\\n        (\\n         ...</td>\n",
       "    </tr>\n",
       "    <tr>\n",
       "      <th>2</th>\n",
       "      <td>table</td>\n",
       "      <td>tb_site</td>\n",
       "      <td>tb_site</td>\n",
       "      <td>6</td>\n",
       "      <td>CREATE TABLE tb_site\\n        (\\n            c...</td>\n",
       "    </tr>\n",
       "    <tr>\n",
       "      <th>3</th>\n",
       "      <td>table</td>\n",
       "      <td>tb_iva</td>\n",
       "      <td>tb_iva</td>\n",
       "      <td>12</td>\n",
       "      <td>CREATE TABLE tb_iva\\n        (\\n            co...</td>\n",
       "    </tr>\n",
       "    <tr>\n",
       "      <th>4</th>\n",
       "      <td>table</td>\n",
       "      <td>tb_invoice</td>\n",
       "      <td>tb_invoice</td>\n",
       "      <td>8</td>\n",
       "      <td>CREATE TABLE tb_invoice\\n        (\\n          ...</td>\n",
       "    </tr>\n",
       "    <tr>\n",
       "      <th>5</th>\n",
       "      <td>table</td>\n",
       "      <td>tb_lines</td>\n",
       "      <td>tb_lines</td>\n",
       "      <td>10</td>\n",
       "      <td>CREATE TABLE tb_lines\\n        (\\n            ...</td>\n",
       "    </tr>\n",
       "  </tbody>\n",
       "</table>\n",
       "</div>"
      ],
      "text/plain": [
       "    type         name     tbl_name  rootpage   \n",
       "0  table   tb_company   tb_company         2  \\\n",
       "1  table  tb_customer  tb_customer         4   \n",
       "2  table      tb_site      tb_site         6   \n",
       "3  table       tb_iva       tb_iva        12   \n",
       "4  table   tb_invoice   tb_invoice         8   \n",
       "5  table     tb_lines     tb_lines        10   \n",
       "\n",
       "                                                 sql  \n",
       "0  CREATE TABLE tb_company\\n        (\\n          ...  \n",
       "1  CREATE TABLE tb_customer\\n        (\\n         ...  \n",
       "2  CREATE TABLE tb_site\\n        (\\n            c...  \n",
       "3  CREATE TABLE tb_iva\\n        (\\n            co...  \n",
       "4  CREATE TABLE tb_invoice\\n        (\\n          ...  \n",
       "5  CREATE TABLE tb_lines\\n        (\\n            ...  "
      ]
     },
     "execution_count": 42,
     "metadata": {},
     "output_type": "execute_result"
    }
   ],
   "source": [
    "#VER TABLAS DE LA BD\n",
    "\n",
    "q=\"\"\" \n",
    " SELECT * FROM sqlite_master WHERE type = \"table\";\n",
    " \"\"\"\n",
    "df = pd.read_sql(q, conn)\n",
    "df"
   ]
  },
  {
   "attachments": {},
   "cell_type": "markdown",
   "metadata": {},
   "source": [
    "* a) Proporcionar los nombres de los clientes que empiezan por AGR.  \n",
    "    Queremos obtener el número de cliente, nombre y NIF.  \n",
    "    Los datos deben aparecer ordenados por número de cliente en orden descendiente.\n"
   ]
  },
  {
   "cell_type": "code",
   "execution_count": 40,
   "metadata": {},
   "outputs": [
    {
     "data": {
      "text/html": [
       "<div>\n",
       "<style scoped>\n",
       "    .dataframe tbody tr th:only-of-type {\n",
       "        vertical-align: middle;\n",
       "    }\n",
       "\n",
       "    .dataframe tbody tr th {\n",
       "        vertical-align: top;\n",
       "    }\n",
       "\n",
       "    .dataframe thead th {\n",
       "        text-align: right;\n",
       "    }\n",
       "</style>\n",
       "<table border=\"1\" class=\"dataframe\">\n",
       "  <thead>\n",
       "    <tr style=\"text-align: right;\">\n",
       "      <th></th>\n",
       "      <th>cust_no</th>\n",
       "      <th>cust_name</th>\n",
       "      <th>cust_cif</th>\n",
       "    </tr>\n",
       "  </thead>\n",
       "  <tbody>\n",
       "    <tr>\n",
       "      <th>0</th>\n",
       "      <td>C0016</td>\n",
       "      <td>AGR SANT JOAN</td>\n",
       "      <td>B81232171</td>\n",
       "    </tr>\n",
       "    <tr>\n",
       "      <th>1</th>\n",
       "      <td>C0007</td>\n",
       "      <td>AGRIMARCOS</td>\n",
       "      <td>B98766562</td>\n",
       "    </tr>\n",
       "    <tr>\n",
       "      <th>2</th>\n",
       "      <td>C0006</td>\n",
       "      <td>AGR AGRI</td>\n",
       "      <td>B78788999</td>\n",
       "    </tr>\n",
       "    <tr>\n",
       "      <th>3</th>\n",
       "      <td>C0002</td>\n",
       "      <td>AGRICULTURA VIVES</td>\n",
       "      <td>A66666666</td>\n",
       "    </tr>\n",
       "  </tbody>\n",
       "</table>\n",
       "</div>"
      ],
      "text/plain": [
       "  cust_no          cust_name   cust_cif\n",
       "0   C0016     AGR SANT JOAN   B81232171\n",
       "1   C0007         AGRIMARCOS  B98766562\n",
       "2   C0006           AGR AGRI  B78788999\n",
       "3   C0002  AGRICULTURA VIVES  A66666666"
      ]
     },
     "execution_count": 40,
     "metadata": {},
     "output_type": "execute_result"
    }
   ],
   "source": [
    "q=\"\"\" \n",
    "SELECT cust_no, cust_name, cust_cif\n",
    "FROM tb_customer\n",
    "WHERE cust_name LIKE 'AGR%'\n",
    "ORDER BY cust_no DESC\n",
    "\"\"\"\n",
    "df = pd.read_sql(q, conn)\n",
    "df"
   ]
  },
  {
   "attachments": {},
   "cell_type": "markdown",
   "metadata": {},
   "source": [
    "* b) Proporcionar las facturas de clientes con dirección en la ciudad de Granada.  \n",
    "    Queremos obtener el número de cliente, nombre de cliente, dirección, ciudad y número de factura.  \n",
    "    La consulta debe estar ordenada por número de cliente ascendientemente y número de factura descendentemente."
   ]
  },
  {
   "cell_type": "code",
   "execution_count": 65,
   "metadata": {},
   "outputs": [
    {
     "data": {
      "text/html": [
       "<div>\n",
       "<style scoped>\n",
       "    .dataframe tbody tr th:only-of-type {\n",
       "        vertical-align: middle;\n",
       "    }\n",
       "\n",
       "    .dataframe tbody tr th {\n",
       "        vertical-align: top;\n",
       "    }\n",
       "\n",
       "    .dataframe thead th {\n",
       "        text-align: right;\n",
       "    }\n",
       "</style>\n",
       "<table border=\"1\" class=\"dataframe\">\n",
       "  <thead>\n",
       "    <tr style=\"text-align: right;\">\n",
       "      <th></th>\n",
       "      <th></th>\n",
       "      <th></th>\n",
       "      <th></th>\n",
       "      <th></th>\n",
       "    </tr>\n",
       "    <tr>\n",
       "      <th>cust_no</th>\n",
       "      <th>cust_name</th>\n",
       "      <th>site_address</th>\n",
       "      <th>site_city</th>\n",
       "      <th>invoice_no</th>\n",
       "    </tr>\n",
       "  </thead>\n",
       "  <tbody>\n",
       "    <tr>\n",
       "      <th rowspan=\"24\" valign=\"top\">C0010</th>\n",
       "      <th rowspan=\"24\" valign=\"top\">VIAJES MUNDO</th>\n",
       "      <th rowspan=\"24\" valign=\"top\">Av. Andalucia, 190</th>\n",
       "      <th rowspan=\"24\" valign=\"top\">Granada</th>\n",
       "      <th>F0000C001000001</th>\n",
       "    </tr>\n",
       "    <tr>\n",
       "      <th>F0000C001000002</th>\n",
       "    </tr>\n",
       "    <tr>\n",
       "      <th>F0000C001000003</th>\n",
       "    </tr>\n",
       "    <tr>\n",
       "      <th>F0000C001000004</th>\n",
       "    </tr>\n",
       "    <tr>\n",
       "      <th>F0000C001000005</th>\n",
       "    </tr>\n",
       "    <tr>\n",
       "      <th>F0000C001000006</th>\n",
       "    </tr>\n",
       "    <tr>\n",
       "      <th>F0000C001000007</th>\n",
       "    </tr>\n",
       "    <tr>\n",
       "      <th>F0000C001000008</th>\n",
       "    </tr>\n",
       "    <tr>\n",
       "      <th>F0000C001000009</th>\n",
       "    </tr>\n",
       "    <tr>\n",
       "      <th>F0000C001000010</th>\n",
       "    </tr>\n",
       "    <tr>\n",
       "      <th>F0000C001000011</th>\n",
       "    </tr>\n",
       "    <tr>\n",
       "      <th>F0000C001000012</th>\n",
       "    </tr>\n",
       "    <tr>\n",
       "      <th>F0000C001000013</th>\n",
       "    </tr>\n",
       "    <tr>\n",
       "      <th>F0000C001000014</th>\n",
       "    </tr>\n",
       "    <tr>\n",
       "      <th>F0000C001000015</th>\n",
       "    </tr>\n",
       "    <tr>\n",
       "      <th>F0000C001000016</th>\n",
       "    </tr>\n",
       "    <tr>\n",
       "      <th>F0000C001000017</th>\n",
       "    </tr>\n",
       "    <tr>\n",
       "      <th>F0000C001000018</th>\n",
       "    </tr>\n",
       "    <tr>\n",
       "      <th>F0000C001000019</th>\n",
       "    </tr>\n",
       "    <tr>\n",
       "      <th>F0000C001000020</th>\n",
       "    </tr>\n",
       "    <tr>\n",
       "      <th>F0000C001000021</th>\n",
       "    </tr>\n",
       "    <tr>\n",
       "      <th>F0000C001000022</th>\n",
       "    </tr>\n",
       "    <tr>\n",
       "      <th>F0000C001000023</th>\n",
       "    </tr>\n",
       "    <tr>\n",
       "      <th>F0000C001000024</th>\n",
       "    </tr>\n",
       "  </tbody>\n",
       "</table>\n",
       "</div>"
      ],
      "text/plain": [
       "Empty DataFrame\n",
       "Columns: []\n",
       "Index: [(C0010, VIAJES MUNDO, Av. Andalucia, 190, Granada, F0000C001000001), (C0010, VIAJES MUNDO, Av. Andalucia, 190, Granada, F0000C001000002), (C0010, VIAJES MUNDO, Av. Andalucia, 190, Granada, F0000C001000003), (C0010, VIAJES MUNDO, Av. Andalucia, 190, Granada, F0000C001000004), (C0010, VIAJES MUNDO, Av. Andalucia, 190, Granada, F0000C001000005), (C0010, VIAJES MUNDO, Av. Andalucia, 190, Granada, F0000C001000006), (C0010, VIAJES MUNDO, Av. Andalucia, 190, Granada, F0000C001000007), (C0010, VIAJES MUNDO, Av. Andalucia, 190, Granada, F0000C001000008), (C0010, VIAJES MUNDO, Av. Andalucia, 190, Granada, F0000C001000009), (C0010, VIAJES MUNDO, Av. Andalucia, 190, Granada, F0000C001000010), (C0010, VIAJES MUNDO, Av. Andalucia, 190, Granada, F0000C001000011), (C0010, VIAJES MUNDO, Av. Andalucia, 190, Granada, F0000C001000012), (C0010, VIAJES MUNDO, Av. Andalucia, 190, Granada, F0000C001000013), (C0010, VIAJES MUNDO, Av. Andalucia, 190, Granada, F0000C001000014), (C0010, VIAJES MUNDO, Av. Andalucia, 190, Granada, F0000C001000015), (C0010, VIAJES MUNDO, Av. Andalucia, 190, Granada, F0000C001000016), (C0010, VIAJES MUNDO, Av. Andalucia, 190, Granada, F0000C001000017), (C0010, VIAJES MUNDO, Av. Andalucia, 190, Granada, F0000C001000018), (C0010, VIAJES MUNDO, Av. Andalucia, 190, Granada, F0000C001000019), (C0010, VIAJES MUNDO, Av. Andalucia, 190, Granada, F0000C001000020), (C0010, VIAJES MUNDO, Av. Andalucia, 190, Granada, F0000C001000021), (C0010, VIAJES MUNDO, Av. Andalucia, 190, Granada, F0000C001000022), (C0010, VIAJES MUNDO, Av. Andalucia, 190, Granada, F0000C001000023), (C0010, VIAJES MUNDO, Av. Andalucia, 190, Granada, F0000C001000024)]"
      ]
     },
     "execution_count": 65,
     "metadata": {},
     "output_type": "execute_result"
    }
   ],
   "source": [
    "q=\"\"\" \n",
    "SELECT i.cust_no, c.cust_name, s.site_address, s.site_city, i.invoice_no\n",
    "FROM tb_invoice as i\n",
    "INNER JOIN tb_customer as c ON i.cust_no=c.cust_no\n",
    "INNER JOIN tb_site as s ON c.cust_no=s.cust_no\n",
    "WHERE s.site_city LIKE \"GRANADA\"\n",
    "\"\"\"\n",
    "df = pd.read_sql(q, conn)\n",
    "df.pivot_table(index=['cust_no', 'cust_name','site_address', 'site_city', 'invoice_no'])"
   ]
  },
  {
   "attachments": {},
   "cell_type": "markdown",
   "metadata": {},
   "source": [
    "* c) Proporcionar la/s compañía/s con mayor número de facturas.  \n",
    "    Queremos obtener el código de compañía, el nombre de la compañía y el número de facturas.  \n",
    "    En caso de haber más de una compañía, los resultados deben aparecer ordenados por nombre de compañía."
   ]
  },
  {
   "cell_type": "code",
   "execution_count": null,
   "metadata": {},
   "outputs": [],
   "source": []
  }
 ],
 "metadata": {
  "kernelspec": {
   "display_name": "ramp_up_py395",
   "language": "python",
   "name": "python3"
  },
  "language_info": {
   "codemirror_mode": {
    "name": "ipython",
    "version": 3
   },
   "file_extension": ".py",
   "mimetype": "text/x-python",
   "name": "python",
   "nbconvert_exporter": "python",
   "pygments_lexer": "ipython3",
   "version": "3.9.5"
  },
  "orig_nbformat": 4
 },
 "nbformat": 4,
 "nbformat_minor": 2
}
