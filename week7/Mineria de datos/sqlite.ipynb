{
 "cells": [
  {
   "cell_type": "code",
   "execution_count": 1,
   "metadata": {},
   "outputs": [],
   "source": [
    "import sqlite3\n",
    "import numpy as np\n",
    "import pandas as pd"
   ]
  },
  {
   "cell_type": "code",
   "execution_count": 11,
   "metadata": {},
   "outputs": [],
   "source": [
    "#crear conector para DB local\n",
    "conn=sqlite3.connect(\"thebridge.db\")"
   ]
  },
  {
   "cell_type": "code",
   "execution_count": 12,
   "metadata": {},
   "outputs": [],
   "source": [
    "#crear comando/cursor\n",
    "cursor = conn.cursor()"
   ]
  },
  {
   "cell_type": "code",
   "execution_count": 13,
   "metadata": {},
   "outputs": [],
   "source": [
    "#crear tabla\n",
    "cursor.execute(\n",
    "    \n",
    "'''\n",
    "\n",
    "CREATE TABLE IF NOT EXISTS Estudiantes (\n",
    "\n",
    " Nombre VARCHAR(50) NULL /*admite nulos*/\n",
    " ,Edad TINYINT NOT NULL /*no admite nulos*/\n",
    " ,email VARCHAR(50) NULL\n",
    " ,Ciudad VARCHAR(100) NULL DEFAULT \"Madrid\"\n",
    " ,Created_On DATETIME\n",
    " \n",
    ");\n",
    "\n",
    "'''\n",
    "\n",
    ")\n",
    "\n",
    "# guardamos cambios con  comando commit\n",
    "\n",
    "conn.commit()\n",
    "\n",
    "#cerrar conexión\n",
    "\n",
    "conn.close()"
   ]
  },
  {
   "cell_type": "code",
   "execution_count": 24,
   "metadata": {},
   "outputs": [],
   "source": [
    "conn=sqlite3.connect(\"thebridge.db\")\n",
    "cursor=conn.cursor()\n",
    "\n",
    "cursor.execute(\n",
    "     ''' \n",
    "     INSERT INTO Estudiantes VALUES\n",
    "     (\"Alberto\", 42, \"a@gmail.com\", \"Madrid\", \"2023-05-28 10:00:00\");\n",
    "    '''\n",
    ")\n",
    "\n",
    "conn.commit()\n",
    "conn.close()"
   ]
  },
  {
   "cell_type": "code",
   "execution_count": 20,
   "metadata": {},
   "outputs": [
    {
     "name": "stdout",
     "output_type": "stream",
     "text": [
      "j@gmail.com\n"
     ]
    }
   ],
   "source": [
    "conn=sqlite3.connect(\"thebridge.db\")\n",
    "cursor=conn.cursor()\n",
    "cursor.execute(\n",
    "    '''\n",
    "        SELECT * \n",
    "        FROM Estudiantes\n",
    "        ORDER BY Created_On DESC\n",
    "    '''\n",
    ")\n",
    "\n",
    "# mostrar la info consultada\n",
    "\n",
    "print(cursor.fetchall()[0][2])"
   ]
  },
  {
   "cell_type": "code",
   "execution_count": 21,
   "metadata": {},
   "outputs": [],
   "source": [
    "q='''\n",
    "        SELECT * \n",
    "        FROM Estudiantes\n",
    "        ORDER BY Created_On DESC\n",
    "    '''\n",
    "\n",
    "db=pd.read_sql(sql=q, con=conn)"
   ]
  },
  {
   "cell_type": "code",
   "execution_count": 22,
   "metadata": {},
   "outputs": [
    {
     "data": {
      "text/html": [
       "<div>\n",
       "<style scoped>\n",
       "    .dataframe tbody tr th:only-of-type {\n",
       "        vertical-align: middle;\n",
       "    }\n",
       "\n",
       "    .dataframe tbody tr th {\n",
       "        vertical-align: top;\n",
       "    }\n",
       "\n",
       "    .dataframe thead th {\n",
       "        text-align: right;\n",
       "    }\n",
       "</style>\n",
       "<table border=\"1\" class=\"dataframe\">\n",
       "  <thead>\n",
       "    <tr style=\"text-align: right;\">\n",
       "      <th></th>\n",
       "      <th>Nombre</th>\n",
       "      <th>Edad</th>\n",
       "      <th>email</th>\n",
       "      <th>Ciudad</th>\n",
       "      <th>Created_On</th>\n",
       "    </tr>\n",
       "  </thead>\n",
       "  <tbody>\n",
       "    <tr>\n",
       "      <th>0</th>\n",
       "      <td>Jose</td>\n",
       "      <td>42</td>\n",
       "      <td>j@gmail.com</td>\n",
       "      <td>Madrid</td>\n",
       "      <td>2023-05-27 21:00:00</td>\n",
       "    </tr>\n",
       "    <tr>\n",
       "      <th>1</th>\n",
       "      <td>Jose</td>\n",
       "      <td>42</td>\n",
       "      <td>j@gmail.com</td>\n",
       "      <td>Madrid</td>\n",
       "      <td>2023-05-27 21:00:00</td>\n",
       "    </tr>\n",
       "    <tr>\n",
       "      <th>2</th>\n",
       "      <td>Jose</td>\n",
       "      <td>42</td>\n",
       "      <td>j@gmail.com</td>\n",
       "      <td>Madrid</td>\n",
       "      <td>2023-05-27 21:00:00</td>\n",
       "    </tr>\n",
       "  </tbody>\n",
       "</table>\n",
       "</div>"
      ],
      "text/plain": [
       "  Nombre  Edad        email  Ciudad           Created_On\n",
       "0   Jose    42  j@gmail.com  Madrid  2023-05-27 21:00:00\n",
       "1   Jose    42  j@gmail.com  Madrid  2023-05-27 21:00:00\n",
       "2   Jose    42  j@gmail.com  Madrid  2023-05-27 21:00:00"
      ]
     },
     "execution_count": 22,
     "metadata": {},
     "output_type": "execute_result"
    }
   ],
   "source": [
    "db"
   ]
  },
  {
   "attachments": {},
   "cell_type": "markdown",
   "metadata": {},
   "source": [
    "## Gestión Tablas Relacionales"
   ]
  },
  {
   "attachments": {},
   "cell_type": "markdown",
   "metadata": {},
   "source": [
    "### PRIMARY KEY solo admite valores únicos"
   ]
  },
  {
   "cell_type": "code",
   "execution_count": 36,
   "metadata": {},
   "outputs": [
    {
     "data": {
      "text/plain": [
       "<sqlite3.Cursor at 0x1c63a31f6c0>"
      ]
     },
     "execution_count": 36,
     "metadata": {},
     "output_type": "execute_result"
    }
   ],
   "source": [
    "conexion=sqlite3.connect('usuarios.db')\n",
    "cursor=conexion.cursor()\n",
    "\n",
    "cursor.execute(\n",
    "    ''' \n",
    "        CREATE TABLE IF NOT EXISTS clientes (\n",
    "        dni VARCHAR(9) PRIMARY KEY, /*no tendra duplicados*/\n",
    "        nombre VARCHAR(100), \n",
    "        edad INTEGER,\n",
    "        email VARCHAR(100)\n",
    " )'''\n",
    ")"
   ]
  },
  {
   "attachments": {},
   "cell_type": "markdown",
   "metadata": {},
   "source": [
    "* lista de usuarios"
   ]
  },
  {
   "cell_type": "code",
   "execution_count": 32,
   "metadata": {},
   "outputs": [],
   "source": [
    "usuarios = [('11111111A', 'Hector', 27, 'hector@ejemplo.com'),\n",
    "            ('22222222B', 'Mario', 51, 'mario@ejemplo.com'),\n",
    "            ('33333333C', 'Mercedes', 38, 'mercedes@ejemplo.com'),\n",
    "            ('44444444D', 'Juan', 19, 'juan@ejemplo.com')]\n",
    "\n",
    "cursor.executemany(\"INSERT INTO clientes VALUES (?,?,?,?)\", usuarios)\n",
    "\n",
    "conexion.commit()\n",
    "conexion.close()"
   ]
  },
  {
   "attachments": {},
   "cell_type": "markdown",
   "metadata": {},
   "source": [
    "*  si intentamos añadir misma primary key en otro registro, salta IntegrityError"
   ]
  },
  {
   "cell_type": "code",
   "execution_count": 34,
   "metadata": {},
   "outputs": [],
   "source": [
    "conexion=sqlite3.connect('usuarios.db')\n",
    "cursor=conexion.cursor()\n",
    "\n",
    "s='''\n",
    "        SELECT * \n",
    "        FROM clientes\n",
    "    '''\n",
    "\n",
    "db=pd.read_sql(sql=s, con=conexion)"
   ]
  },
  {
   "cell_type": "code",
   "execution_count": 37,
   "metadata": {},
   "outputs": [],
   "source": [
    "conexion = sqlite3.connect('productos.db')\n",
    "\n",
    "cursor = conexion.cursor()\n",
    "\n",
    "# Las cláusulas not null indican que no puede ser campos vacíos\n",
    "cursor.execute('''CREATE TABLE IF NOT EXISTS productos (\n",
    "                    id INTEGER PRIMARY KEY AUTOINCREMENT, \n",
    "                    nombre VARCHAR(100) NOT NULL, \n",
    "                    marca VARCHAR(50) NOT NULL, \n",
    "                    precio FLOAT NOT NULL)''')\n",
    "conexion.commit()\n",
    "conexion.close()"
   ]
  },
  {
   "cell_type": "code",
   "execution_count": 38,
   "metadata": {},
   "outputs": [],
   "source": [
    "import sqlite3\n",
    "\n",
    "conexion = sqlite3.connect('productos.db')\n",
    "\n",
    "cursor = conexion.cursor()\n",
    "\n",
    "productos = [('Teclado', 'Logitech', 19.95),\n",
    "            ('Pantalla 19\"','LG', 89.95),\n",
    "            ('Altavoces 2.1','LG', 24.95),]\n",
    "\n",
    "cursor.executemany(\"INSERT INTO productos VALUES (null,?,?,?)\", productos)\n",
    "\n",
    "conexion.commit()\n",
    "conexion.close()"
   ]
  },
  {
   "cell_type": "code",
   "execution_count": 39,
   "metadata": {},
   "outputs": [],
   "source": [
    "import sqlite3\n",
    "\n",
    "conexion = sqlite3.connect('usuarios_autoincremental.db')\n",
    "\n",
    "cursor = conexion.cursor()\n",
    "\n",
    "# Creamos un campo dni como clave primaria\n",
    "cursor.execute('''CREATE TABLE IF NOT EXISTS usuarios (\n",
    "                    id INTEGER PRIMARY KEY,\n",
    "                    dni VARCHAR(9) UNIQUE,\n",
    "                    nombre VARCHAR(100), \n",
    "                    edad INTEGER(3),\n",
    "                    email VARCHAR(100))''')\n",
    "\n",
    "usuarios = [('11111111A', 'Hector', 27, 'hector@ejemplo.com'),\n",
    "            ('22222222B', 'Mario', 51, 'mario@ejemplo.com'),\n",
    "            ('33333333C', 'Mercedes', 38, 'mercedes@ejemplo.com'),\n",
    "            ('44444444D', 'Juan', 19, 'juan@ejemplo.com')]\n",
    "\n",
    "cursor.executemany(\"INSERT INTO usuarios VALUES (null, ?,?,?,?)\", usuarios)\n",
    "\n",
    "conexion.commit()\n",
    "conexion.close()"
   ]
  },
  {
   "cell_type": "code",
   "execution_count": 40,
   "metadata": {},
   "outputs": [
    {
     "name": "stdout",
     "output_type": "stream",
     "text": [
      "(1, '11111111A', 'Hector', 27, 'hector@ejemplo.com')\n",
      "(2, '22222222B', 'Mario', 51, 'mario@ejemplo.com')\n",
      "(3, '33333333C', 'Mercedes', 38, 'mercedes@ejemplo.com')\n",
      "(4, '44444444D', 'Juan', 19, 'juan@ejemplo.com')\n"
     ]
    }
   ],
   "source": [
    "import sqlite3\n",
    "\n",
    "conexion = sqlite3.connect('usuarios_autoincremental.db')\n",
    "cursor = conexion.cursor()\n",
    "\n",
    "# Recuperamos los registros de la tabla de usuarios\n",
    "cursor.execute(\"SELECT * FROM usuarios\")\n",
    "\n",
    "# Recorremos todos los registros con fetchall\n",
    "# y los volcamos en una lista de usuarios\n",
    "usuarios = cursor.fetchall()\n",
    "\n",
    "# Ahora podemos recorrer todos los usuarios\n",
    "for usuario in usuarios:\n",
    "    print(usuario)\n",
    "\n",
    "conexion.close()"
   ]
  },
  {
   "cell_type": "code",
   "execution_count": 52,
   "metadata": {},
   "outputs": [
    {
     "data": {
      "text/html": [
       "<div>\n",
       "<style scoped>\n",
       "    .dataframe tbody tr th:only-of-type {\n",
       "        vertical-align: middle;\n",
       "    }\n",
       "\n",
       "    .dataframe tbody tr th {\n",
       "        vertical-align: top;\n",
       "    }\n",
       "\n",
       "    .dataframe thead th {\n",
       "        text-align: right;\n",
       "    }\n",
       "</style>\n",
       "<table border=\"1\" class=\"dataframe\">\n",
       "  <thead>\n",
       "    <tr style=\"text-align: right;\">\n",
       "      <th></th>\n",
       "      <th>id</th>\n",
       "      <th>dni</th>\n",
       "      <th>nombre</th>\n",
       "      <th>edad</th>\n",
       "      <th>email</th>\n",
       "    </tr>\n",
       "  </thead>\n",
       "  <tbody>\n",
       "    <tr>\n",
       "      <th>0</th>\n",
       "      <td>1</td>\n",
       "      <td>11111111A</td>\n",
       "      <td>Hector</td>\n",
       "      <td>27</td>\n",
       "      <td>hector@ejemplo.com</td>\n",
       "    </tr>\n",
       "    <tr>\n",
       "      <th>1</th>\n",
       "      <td>2</td>\n",
       "      <td>22222222B</td>\n",
       "      <td>Mario</td>\n",
       "      <td>51</td>\n",
       "      <td>mario@ejemplo.com</td>\n",
       "    </tr>\n",
       "    <tr>\n",
       "      <th>2</th>\n",
       "      <td>3</td>\n",
       "      <td>33333333C</td>\n",
       "      <td>Mercedes</td>\n",
       "      <td>38</td>\n",
       "      <td>mercedes@ejemplo.com</td>\n",
       "    </tr>\n",
       "    <tr>\n",
       "      <th>3</th>\n",
       "      <td>4</td>\n",
       "      <td>44444444D</td>\n",
       "      <td>Juan</td>\n",
       "      <td>19</td>\n",
       "      <td>juan@ejemplo.com</td>\n",
       "    </tr>\n",
       "  </tbody>\n",
       "</table>\n",
       "</div>"
      ],
      "text/plain": [
       "   id        dni    nombre  edad                 email\n",
       "0   1  11111111A    Hector    27    hector@ejemplo.com\n",
       "1   2  22222222B     Mario    51     mario@ejemplo.com\n",
       "2   3  33333333C  Mercedes    38  mercedes@ejemplo.com\n",
       "3   4  44444444D      Juan    19      juan@ejemplo.com"
      ]
     },
     "execution_count": 52,
     "metadata": {},
     "output_type": "execute_result"
    }
   ],
   "source": [
    "conexion = sqlite3.connect('usuarios_autoincremental.db')\n",
    "cursor = conexion.cursor()\n",
    "q=''' \n",
    "SELECT * FROM usuarios\n",
    "'''\n",
    "df=pd.read_sql(sql=q, con=conexion)\n",
    "conexion.close()\n",
    "df"
   ]
  },
  {
   "cell_type": "code",
   "execution_count": 57,
   "metadata": {},
   "outputs": [
    {
     "data": {
      "text/html": [
       "<div>\n",
       "<style scoped>\n",
       "    .dataframe tbody tr th:only-of-type {\n",
       "        vertical-align: middle;\n",
       "    }\n",
       "\n",
       "    .dataframe tbody tr th {\n",
       "        vertical-align: top;\n",
       "    }\n",
       "\n",
       "    .dataframe thead th {\n",
       "        text-align: right;\n",
       "    }\n",
       "</style>\n",
       "<table border=\"1\" class=\"dataframe\">\n",
       "  <thead>\n",
       "    <tr style=\"text-align: right;\">\n",
       "      <th></th>\n",
       "      <th>id</th>\n",
       "      <th>dni</th>\n",
       "      <th>nombre</th>\n",
       "      <th>edad</th>\n",
       "      <th>email</th>\n",
       "    </tr>\n",
       "  </thead>\n",
       "  <tbody>\n",
       "    <tr>\n",
       "      <th>0</th>\n",
       "      <td>1</td>\n",
       "      <td>11111111A</td>\n",
       "      <td>Hector</td>\n",
       "      <td>27</td>\n",
       "      <td>hector@ejemplo.com</td>\n",
       "    </tr>\n",
       "    <tr>\n",
       "      <th>1</th>\n",
       "      <td>2</td>\n",
       "      <td>22222222B</td>\n",
       "      <td>Mario</td>\n",
       "      <td>51</td>\n",
       "      <td>mario@ejemplo.com</td>\n",
       "    </tr>\n",
       "    <tr>\n",
       "      <th>2</th>\n",
       "      <td>3</td>\n",
       "      <td>33333333C</td>\n",
       "      <td>Mercedes</td>\n",
       "      <td>38</td>\n",
       "      <td>mercedes@ejemplo.com</td>\n",
       "    </tr>\n",
       "  </tbody>\n",
       "</table>\n",
       "</div>"
      ],
      "text/plain": [
       "   id        dni    nombre  edad                 email\n",
       "0   1  11111111A    Hector    27    hector@ejemplo.com\n",
       "1   2  22222222B     Mario    51     mario@ejemplo.com\n",
       "2   3  33333333C  Mercedes    38  mercedes@ejemplo.com"
      ]
     },
     "execution_count": 57,
     "metadata": {},
     "output_type": "execute_result"
    }
   ],
   "source": [
    "conexion=sqlite3.connect('usuarios_autoincremental.db')\n",
    "cursor = conexion.cursor()\n",
    "q=''' \n",
    "SELECT * FROM usuarios WHERE edad >19\n",
    "'''\n",
    "\n",
    "df=pd.read_sql(sql=q,con=conexion)\n",
    "df"
   ]
  },
  {
   "cell_type": "code",
   "execution_count": 58,
   "metadata": {},
   "outputs": [
    {
     "name": "stdout",
     "output_type": "stream",
     "text": [
      "(1, '11111111A', 'Hector', 27, 'hector@ejemplo.com')\n",
      "(2, '22222222B', 'Mario', 51, 'mario@ejemplo.com')\n",
      "(3, '33333333C', 'Mercedes', 38, 'mercedes@ejemplo.com')\n",
      "(4, '44444444D', 'Juan', 19, 'juan@ejemplo.com')\n"
     ]
    }
   ],
   "source": [
    "import sqlite3\n",
    "\n",
    "conexion = sqlite3.connect('usuarios_autoincremental.db')\n",
    "cursor = conexion.cursor()\n",
    "\n",
    "# Recuperamos los registros de la tabla de usuarios\n",
    "cursor.execute(\"SELECT * FROM usuarios\")\n",
    "\n",
    "# Recorremos todos los registros con fetchall\n",
    "# y los volcamos en una lista de usuarios\n",
    "usuarios = cursor.fetchall()\n",
    "\n",
    "# Ahora podemos recorrer todos los usuarios\n",
    "for usuario in usuarios:\n",
    "    print(usuario)\n",
    "\n",
    "conexion.close()"
   ]
  }
 ],
 "metadata": {
  "kernelspec": {
   "display_name": "ramp_up_py395",
   "language": "python",
   "name": "python3"
  },
  "language_info": {
   "codemirror_mode": {
    "name": "ipython",
    "version": 3
   },
   "file_extension": ".py",
   "mimetype": "text/x-python",
   "name": "python",
   "nbconvert_exporter": "python",
   "pygments_lexer": "ipython3",
   "version": "3.9.5"
  },
  "orig_nbformat": 4
 },
 "nbformat": 4,
 "nbformat_minor": 2
}
