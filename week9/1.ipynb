{
 "cells": [
  {
   "cell_type": "code",
   "execution_count": 2,
   "metadata": {},
   "outputs": [
    {
     "name": "stdout",
     "output_type": "stream",
     "text": [
      "['Anna', 'Helena', 'marta', 'Anna', 'Teresa', 'Anna', 'Helena']\n",
      "{'Anna', 'Teresa', 'Helena', 'marta'}\n"
     ]
    }
   ],
   "source": [
    "a_list=[\"Anna\", \"Helena\", \"marta\", \"Anna\", \"Teresa\", \"Anna\", \"Helena\"]\n",
    "\n",
    "list_sin_duplicados=set(a_list)\n",
    "\n",
    "print(a_list)\n",
    "print(list_sin_duplicados)"
   ]
  },
  {
   "cell_type": "code",
   "execution_count": 14,
   "metadata": {},
   "outputs": [],
   "source": [
    "a=list(range(10))"
   ]
  },
  {
   "cell_type": "code",
   "execution_count": 23,
   "metadata": {},
   "outputs": [
    {
     "data": {
      "text/plain": [
       "'0^-^1^-^2^-^3^-^4^-^5^-^6^-^7^-^8^-^9'"
      ]
     },
     "execution_count": 23,
     "metadata": {},
     "output_type": "execute_result"
    }
   ],
   "source": [
    "b=\"^-^\".join([str(i) for i in list(range(10))])\n",
    "b"
   ]
  },
  {
   "cell_type": "code",
   "execution_count": 24,
   "metadata": {},
   "outputs": [
    {
     "data": {
      "text/plain": [
       "8"
      ]
     },
     "execution_count": 24,
     "metadata": {},
     "output_type": "execute_result"
    }
   ],
   "source": [
    "b.find(\"2\")\n",
    "# el 2 está en la posición 6"
   ]
  },
  {
   "cell_type": "code",
   "execution_count": 25,
   "metadata": {},
   "outputs": [
    {
     "data": {
      "text/plain": [
       "18"
      ]
     },
     "execution_count": 25,
     "metadata": {},
     "output_type": "execute_result"
    }
   ],
   "source": [
    "b.count(\"^\")\n",
    "#hay 18 simbolos ^"
   ]
  },
  {
   "cell_type": "code",
   "execution_count": 28,
   "metadata": {},
   "outputs": [
    {
     "data": {
      "text/plain": [
       "['0', '^1', '^2', '^3', '^4', '^5', '^6', '^7', '^8', '^9']"
      ]
     },
     "execution_count": 28,
     "metadata": {},
     "output_type": "execute_result"
    }
   ],
   "source": [
    "c=b.split(\"^-\")\n",
    "c\n",
    "#separa la cadena b, cada vez que encuentra el separador pasado"
   ]
  },
  {
   "cell_type": "code",
   "execution_count": 32,
   "metadata": {},
   "outputs": [
    {
     "data": {
      "text/plain": [
       "'0_´¨¨`_-_´¨¨`_1_´¨¨`_-_´¨¨`_2_´¨¨`_-_´¨¨`_3_´¨¨`_-_´¨¨`_4_´¨¨`_-_´¨¨`_5_´¨¨`_-_´¨¨`_6_´¨¨`_-_´¨¨`_7_´¨¨`_-_´¨¨`_8_´¨¨`_-_´¨¨`_9'"
      ]
     },
     "execution_count": 32,
     "metadata": {},
     "output_type": "execute_result"
    }
   ],
   "source": [
    "d=b.replace(\"^\", \"_´¨¨`_\")\n",
    "d\n",
    "# reemplaza caracter ^ por _´¨¨`_"
   ]
  },
  {
   "cell_type": "code",
   "execution_count": 34,
   "metadata": {},
   "outputs": [
    {
     "name": "stdout",
     "output_type": "stream",
     "text": [
      "  cadena con muchos espacios\n",
      "cadena con muchos espacios    \n",
      "cadena con muchos espacios\n"
     ]
    }
   ],
   "source": [
    "e= \"  cadena con muchos espacios    \"\n",
    "#quita espacios en blanco a la derecha, izda o en ambos lados de la cadena\n",
    "print(e.rstrip())\n",
    "print(e.lstrip())\n",
    "print(e.strip())"
   ]
  },
  {
   "cell_type": "code",
   "execution_count": 36,
   "metadata": {},
   "outputs": [],
   "source": [
    "import re"
   ]
  },
  {
   "cell_type": "code",
   "execution_count": 40,
   "metadata": {},
   "outputs": [
    {
     "data": {
      "text/plain": [
       "['0^-^1^-^2^-^3^-^4^-^5^-^6^-^7^-^8^-^9']"
      ]
     },
     "execution_count": 40,
     "metadata": {},
     "output_type": "execute_result"
    }
   ],
   "source": [
    "re.split(\"^_^\", b)"
   ]
  }
 ],
 "metadata": {
  "kernelspec": {
   "display_name": "ramp_up_py395",
   "language": "python",
   "name": "python3"
  },
  "language_info": {
   "codemirror_mode": {
    "name": "ipython",
    "version": 3
   },
   "file_extension": ".py",
   "mimetype": "text/x-python",
   "name": "python",
   "nbconvert_exporter": "python",
   "pygments_lexer": "ipython3",
   "version": "3.9.5"
  },
  "orig_nbformat": 4
 },
 "nbformat": 4,
 "nbformat_minor": 2
}
