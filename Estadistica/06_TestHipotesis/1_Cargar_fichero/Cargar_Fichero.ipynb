{
 "cells": [
  {
   "attachments": {},
   "cell_type": "markdown",
   "metadata": {},
   "source": [
    "# Dado Cargado\n",
    "\n",
    "Daniel parece estar ganando muchas partidas. Al ser *Data Scientist junior*  tienes muchas *sospechosas* de sus amados dados \n",
    "\n",
    "<div align=\"center\">\n",
    "    <img width=\"250\" height=\"250\" src=\"https://photos.demandstudios.com/getty/article/244/134/200325635-001.jpg\" alt=\"dados\">\n",
    "</div>\n",
    " \n",
    "Así que has estado registrando el resultado de cada lanzamiento, y están en `loaded_500.txt`.\n",
    "\n",
    "Hay que responder la pregunta más simple que surge: ¿*Daniel* está sacando demasiados seises?\n",
    "\n",
    "Respondamos la pregunta con rigor.\n",
    "\n",
    "1. Visualiza los datos. Asegúrate de que lo entendamos.\n",
    "2. Reducir o cuantificar los datos\n",
    "3. Plantear nuestra hipótesis (y visualizar)\n",
    "4. Calcular"
   ]
  },
  {
   "cell_type": "code",
   "execution_count": 1,
   "metadata": {},
   "outputs": [],
   "source": [
    "import pandas as pd\n",
    "import scipy.stats as ss\n",
    "import numpy as np\n",
    "import matplotlib.pyplot as plt\n",
    "import math\n",
    "\n",
    "\n",
    "data = np.loadtxt(\"loaded_500.txt\")"
   ]
  },
  {
   "attachments": {},
   "cell_type": "markdown",
   "metadata": {},
   "source": [
    "### Visualización"
   ]
  },
  {
   "cell_type": "code",
   "execution_count": null,
   "metadata": {},
   "outputs": [],
   "source": [
    "unique, counts = np.unique(data, return_counts=True)\n",
    "print(unique, counts)\n",
    "plt.hist(data, bins=20);"
   ]
  },
  {
   "attachments": {},
   "cell_type": "markdown",
   "metadata": {},
   "source": [
    "### Reducir o cuantificar datos"
   ]
  },
  {
   "cell_type": "code",
   "execution_count": null,
   "metadata": {},
   "outputs": [],
   "source": [
    "num_seis = (data == 6).sum()\n",
    "num_total = data.size"
   ]
  },
  {
   "attachments": {},
   "cell_type": "markdown",
   "metadata": {},
   "source": [
    "### Plantear nuestra Hipótesis"
   ]
  },
  {
   "cell_type": "code",
   "execution_count": null,
   "metadata": {},
   "outputs": [],
   "source": [
    "from scipy.stats import binom\n",
    "n = np.arange(num_total)\n",
    "prob_n = binom.pmf(n, num_total, 1/6)\n",
    "plt.plot(n, prob_n, label=\"Prob num\")\n",
    "plt.axvline(num_total / 6, ls=\"--\", lw=1, label=\"Media num\")\n",
    "plt.axvline(num_seis, ls=\":\", color=\"#ff7272\", label=\"Obs num\")\n",
    "plt.xlabel(f\"Num seis obtenidos {num_total} lanzamientos\")\n",
    "plt.ylabel(\"Probabilidad\")\n",
    "plt.legend();"
   ]
  },
  {
   "cell_type": "code",
   "execution_count": null,
   "metadata": {},
   "outputs": [],
   "source": [
    "d = binom(num_total, 1/6)\n",
    "plt.plot(n, d.sf(n))\n",
    "plt.axvline(num_seis, ls=\"--\")\n",
    "sf = d.sf(num_seis)\n",
    "plt.axhline(sf, ls=\"--\")\n",
    "plt.xlabel(\"Num sixes\")\n",
    "plt.ylabel(\"SF\");\n",
    "print(f\"Solo {sf * 100:.1f}% de las veces con un dado justo se obtendrían tantos seis o más\")"
   ]
  },
  {
   "cell_type": "code",
   "execution_count": 2,
   "metadata": {},
   "outputs": [],
   "source": [
    "# EJERCICIO CLASE"
   ]
  },
  {
   "cell_type": "code",
   "execution_count": 3,
   "metadata": {},
   "outputs": [],
   "source": [
    "np.random.seed(1234)"
   ]
  },
  {
   "cell_type": "code",
   "execution_count": 4,
   "metadata": {},
   "outputs": [],
   "source": [
    "poblacion1=ss.poisson.rvs(loc=18,mu=35,size=450000)\n",
    "poblacion2=ss.poisson.rvs(loc=18,mu=15,size=150000)"
   ]
  },
  {
   "cell_type": "code",
   "execution_count": 5,
   "metadata": {},
   "outputs": [],
   "source": [
    "España=np.concatenate((poblacion1,poblacion2))"
   ]
  },
  {
   "cell_type": "code",
   "execution_count": 13,
   "metadata": {},
   "outputs": [],
   "source": [
    "granada1=ss.poisson.rvs(loc=18,mu=34,size=4500)\n",
    "granada2=ss.poisson.rvs(loc=18,mu=14,size=1500)\n",
    "Granada=np.concatenate((granada1,granada2))"
   ]
  },
  {
   "cell_type": "code",
   "execution_count": 8,
   "metadata": {},
   "outputs": [],
   "source": [
    "#ver si estadistiamente la media de granada\n",
    "# es la misma que la media de españa"
   ]
  },
  {
   "cell_type": "code",
   "execution_count": 14,
   "metadata": {},
   "outputs": [
    {
     "name": "stdout",
     "output_type": "stream",
     "text": [
      "47.985978333333335\n",
      "46.95783333333333\n"
     ]
    }
   ],
   "source": [
    "print(España.mean())\n",
    "print(Granada.mean())"
   ]
  },
  {
   "cell_type": "code",
   "execution_count": 15,
   "metadata": {},
   "outputs": [],
   "source": [
    "# test hipotesis\n",
    "\n",
    "# hipotesis 1\n",
    "# mu españa = mu granada\n",
    "\n",
    "# alternativa mu españa != mu granada1\n"
   ]
  },
  {
   "cell_type": "code",
   "execution_count": 19,
   "metadata": {},
   "outputs": [
    {
     "data": {
      "text/plain": [
       "TtestResult(statistic=-7.780131854750806, pvalue=8.47356023412064e-15, df=5999)"
      ]
     },
     "execution_count": 19,
     "metadata": {},
     "output_type": "execute_result"
    }
   ],
   "source": [
    "ss.ttest_1samp(Granada,España.mean())\n",
    "\n",
    "# devuelve p valor y estadístico\n",
    "# el p valor es lo importante\n",
    "# p valor, como de grande debe ser para que el valor este dentro del\n",
    "# intervalo de confianza\n",
    "\n",
    "# pvalue=8.47356023412064e-15\n",
    "# al ser menor que alfa = 0,05, se deshecha\n",
    "# por defecto alfa es 0.05, si no nos dan otro\n",
    "\n",
    "# Granada no tiene la misma media que España"
   ]
  },
  {
   "cell_type": "code",
   "execution_count": 20,
   "metadata": {},
   "outputs": [],
   "source": [
    "estadistico,pvalor=ss.ttest_1samp(Granada,España.mean())"
   ]
  },
  {
   "cell_type": "code",
   "execution_count": 23,
   "metadata": {},
   "outputs": [
    {
     "name": "stdout",
     "output_type": "stream",
     "text": [
      "Hipótesis rechazada\n"
     ]
    }
   ],
   "source": [
    "if pvalor<0.05: print('Hipótesis rechazada')\n",
    "else: print('aceptado')"
   ]
  },
  {
   "cell_type": "code",
   "execution_count": 24,
   "metadata": {},
   "outputs": [],
   "source": [
    "madrid1=ss.poisson.rvs(loc=18,mu=37,size=120)\n",
    "madrid2=ss.poisson.rvs(loc=18,mu=13,size=80)\n",
    "Madrid=np.concatenate((madrid1,madrid2))"
   ]
  },
  {
   "cell_type": "code",
   "execution_count": 25,
   "metadata": {},
   "outputs": [
    {
     "data": {
      "text/plain": [
       "45.41"
      ]
     },
     "execution_count": 25,
     "metadata": {},
     "output_type": "execute_result"
    }
   ],
   "source": [
    "Madrid.mean()"
   ]
  },
  {
   "cell_type": "code",
   "execution_count": 30,
   "metadata": {},
   "outputs": [
    {
     "data": {
      "text/plain": [
       "Ttest_indResult(statistic=1.6869225843906763, pvalue=0.09312085117099499)"
      ]
     },
     "execution_count": 30,
     "metadata": {},
     "output_type": "execute_result"
    }
   ],
   "source": [
    "# madrid y Granada tienen la misma edad poblacional?\n",
    "# t-test indeendiente, se le pasan los dos arrays\n",
    "\n",
    "ss.ttest_ind(Granada, Madrid, equal_var=False)\n",
    "\n",
    "# equal_var, indicamso si la varianza es igual o no\n",
    "# primero compara si las varianzas son iguales. si son iguales aplica una formula\n",
    "# y si es diferente aplica otra\n",
    "\n",
    "# pvalue > 0.05, estadísticamente se acepta lahipótesis"
   ]
  },
  {
   "cell_type": "code",
   "execution_count": 38,
   "metadata": {},
   "outputs": [],
   "source": [
    "# test pareado\n",
    "#\n",
    "#\n",
    "\n",
    "peso_precovid=ss.norm.rvs(scale=30, loc=100, size=1000)\n",
    "peso_postcovid=peso_precovid+ss.norm.rvs(scale=30, loc=1.25, size=1000)"
   ]
  },
  {
   "cell_type": "code",
   "execution_count": 39,
   "metadata": {},
   "outputs": [],
   "source": [
    "pesos=pd.DataFrame({'peso_precovid':peso_precovid,\n",
    "              'peso_postcovid':peso_postcovid,\n",
    "              'Diferencia':peso_postcovid-peso_precovid})"
   ]
  },
  {
   "cell_type": "code",
   "execution_count": 36,
   "metadata": {},
   "outputs": [
    {
     "data": {
      "text/html": [
       "<div>\n",
       "<style scoped>\n",
       "    .dataframe tbody tr th:only-of-type {\n",
       "        vertical-align: middle;\n",
       "    }\n",
       "\n",
       "    .dataframe tbody tr th {\n",
       "        vertical-align: top;\n",
       "    }\n",
       "\n",
       "    .dataframe thead th {\n",
       "        text-align: right;\n",
       "    }\n",
       "</style>\n",
       "<table border=\"1\" class=\"dataframe\">\n",
       "  <thead>\n",
       "    <tr style=\"text-align: right;\">\n",
       "      <th></th>\n",
       "      <th>count</th>\n",
       "      <th>mean</th>\n",
       "      <th>std</th>\n",
       "      <th>min</th>\n",
       "      <th>25%</th>\n",
       "      <th>50%</th>\n",
       "      <th>75%</th>\n",
       "      <th>max</th>\n",
       "    </tr>\n",
       "  </thead>\n",
       "  <tbody>\n",
       "    <tr>\n",
       "      <th>peso_precovid</th>\n",
       "      <td>1000.0</td>\n",
       "      <td>99.278055</td>\n",
       "      <td>30.229202</td>\n",
       "      <td>5.219488</td>\n",
       "      <td>79.233481</td>\n",
       "      <td>100.943298</td>\n",
       "      <td>119.161739</td>\n",
       "      <td>214.124235</td>\n",
       "    </tr>\n",
       "    <tr>\n",
       "      <th>peso_postcovid</th>\n",
       "      <td>1000.0</td>\n",
       "      <td>101.913768</td>\n",
       "      <td>43.416679</td>\n",
       "      <td>-27.871394</td>\n",
       "      <td>74.017232</td>\n",
       "      <td>101.609266</td>\n",
       "      <td>130.908974</td>\n",
       "      <td>222.923795</td>\n",
       "    </tr>\n",
       "    <tr>\n",
       "      <th>Diferencia</th>\n",
       "      <td>1000.0</td>\n",
       "      <td>2.635713</td>\n",
       "      <td>30.224510</td>\n",
       "      <td>-97.819922</td>\n",
       "      <td>-17.260879</td>\n",
       "      <td>2.138902</td>\n",
       "      <td>22.278744</td>\n",
       "      <td>99.742487</td>\n",
       "    </tr>\n",
       "  </tbody>\n",
       "</table>\n",
       "</div>"
      ],
      "text/plain": [
       "                 count        mean        std        min        25%   \n",
       "peso_precovid   1000.0   99.278055  30.229202   5.219488  79.233481  \\\n",
       "peso_postcovid  1000.0  101.913768  43.416679 -27.871394  74.017232   \n",
       "Diferencia      1000.0    2.635713  30.224510 -97.819922 -17.260879   \n",
       "\n",
       "                       50%         75%         max  \n",
       "peso_precovid   100.943298  119.161739  214.124235  \n",
       "peso_postcovid  101.609266  130.908974  222.923795  \n",
       "Diferencia        2.138902   22.278744   99.742487  "
      ]
     },
     "execution_count": 36,
     "metadata": {},
     "output_type": "execute_result"
    }
   ],
   "source": [
    "pesos.describe().T"
   ]
  },
  {
   "cell_type": "code",
   "execution_count": 53,
   "metadata": {},
   "outputs": [
    {
     "data": {
      "text/plain": [
       "TtestResult(statistic=-1.3382530224914322, pvalue=0.18111847559923502, df=999)"
      ]
     },
     "execution_count": 53,
     "metadata": {},
     "output_type": "execute_result"
    }
   ],
   "source": [
    "ss.ttest_rel(peso_precovid,peso_postcovid)\n",
    "\n",
    "#ttest relacionado, el peso pre y post estan relacionados\n",
    "\n",
    "# por defecto calcula si son iguales o no\n",
    "\n",
    "# nos dice qie son distintos al ser pvalue >0.05"
   ]
  },
  {
   "cell_type": "code",
   "execution_count": 54,
   "metadata": {},
   "outputs": [
    {
     "data": {
      "text/plain": [
       "TtestResult(statistic=-1.3382530224914322, pvalue=0.18111847559923502, df=999)"
      ]
     },
     "execution_count": 54,
     "metadata": {},
     "output_type": "execute_result"
    }
   ],
   "source": [
    "ss.ttest_rel(peso_precovid,peso_postcovid, alternative='two-sided')\n",
    "\n",
    "# two sided hipotesis nula pre = post.\n",
    "# es lo mismo que no poner alternative"
   ]
  },
  {
   "cell_type": "code",
   "execution_count": 57,
   "metadata": {},
   "outputs": [
    {
     "data": {
      "text/plain": [
       "TtestResult(statistic=-1.3382530224914322, pvalue=0.9094407622003825, df=999)"
      ]
     },
     "execution_count": 57,
     "metadata": {},
     "output_type": "execute_result"
    }
   ],
   "source": [
    "# una vez sabemos que es distinto, para saber si ha subido o bajado vemos las alternativas\n",
    "\n",
    "# REVISAR HIPOTESIS NULA Y ALTERNATIVA\n",
    " \n",
    "# alternative: 'less': hipotesis nula pre >= post y alternativa pre < post\n",
    "\n",
    "# alternative='greater'. hipotesis nula,pre <= post, y alternativa pre > post\n",
    "\n",
    "\n",
    "ss.ttest_rel(peso_precovid,peso_postcovid, alternative=\"greater\")\n",
    "\n",
    "# pvalue>0.05, NO SE ACEPTA LA NULA, Y ACEPTAMOS LA ALTERNATIVA(QUE ES MAYOR)"
   ]
  },
  {
   "attachments": {},
   "cell_type": "markdown",
   "metadata": {},
   "source": [
    "### ANOVA"
   ]
  },
  {
   "cell_type": "code",
   "execution_count": 60,
   "metadata": {},
   "outputs": [],
   "source": [
    "Peliculas=['IJ', 'Bat', 'Marvel', 'Seño_Anillos', 'Tenet']\n",
    "# preguntar a 1000 personas: pelicula vista\n",
    "\n",
    "pelicula_vista=np.random.choice(a=Peliculas\n",
    "                                ,p=[0.1,0.2,0.2,0.15,0.35]\n",
    "                                ,size=1000)\n",
    "voto_Edad=ss.poisson.rvs(loc=9, mu=25,size=1000)"
   ]
  },
  {
   "cell_type": "code",
   "execution_count": 61,
   "metadata": {},
   "outputs": [],
   "source": [
    "df=pd.DataFrame({'Pelicula':pelicula_vista, 'Edad':voto_Edad})"
   ]
  },
  {
   "cell_type": "code",
   "execution_count": 67,
   "metadata": {},
   "outputs": [],
   "source": [
    "grupos=df.groupby('Pelicula').groups\n",
    "\n",
    "# te dice los índices en el que está cada película"
   ]
  },
  {
   "cell_type": "code",
   "execution_count": 70,
   "metadata": {},
   "outputs": [],
   "source": [
    "Bat=voto_Edad[grupos['Bat']]\n",
    "IJ=voto_Edad[grupos['IJ']]\n",
    "Marvel=voto_Edad[grupos['Marvel']]\n",
    "Señor_Anillos=voto_Edad[grupos['Seño_Anillos']]\n",
    "Tenet=voto_Edad[grupos['Tenet']]\n",
    "# saca la edad de todos los que han visto cada película a través de su índice"
   ]
  },
  {
   "cell_type": "code",
   "execution_count": 72,
   "metadata": {},
   "outputs": [
    {
     "data": {
      "text/plain": [
       "F_onewayResult(statistic=1.0093642089136272, pvalue=0.40151343701871656)"
      ]
     },
     "execution_count": 72,
     "metadata": {},
     "output_type": "execute_result"
    }
   ],
   "source": [
    "ss.f_oneway(Bat,IJ,Marvel,Señor_Anillos,Tenet)\n",
    "\n",
    "# hipótesis de que la media de todos es igual\n",
    "# hipotesis alterntiva, la media de alguno de ellos es diferente\n",
    "\n",
    "# pvalue >0.05, se rechaza la hipótesis nula"
   ]
  },
  {
   "cell_type": "code",
   "execution_count": 76,
   "metadata": {},
   "outputs": [],
   "source": [
    "# para saber cual/es difiere/n\n",
    "\n",
    "import statsmodels.api as sm\n",
    "from statsmodels.formula.api import ols"
   ]
  },
  {
   "cell_type": "code",
   "execution_count": 79,
   "metadata": {},
   "outputs": [],
   "source": [
    "modelo=ols('Edad~Pelicula', data=df).fit()\n",
    "# .fit ajusta Edad y Pelicula"
   ]
  },
  {
   "cell_type": "code",
   "execution_count": 82,
   "metadata": {},
   "outputs": [
    {
     "data": {
      "text/html": [
       "<div>\n",
       "<style scoped>\n",
       "    .dataframe tbody tr th:only-of-type {\n",
       "        vertical-align: middle;\n",
       "    }\n",
       "\n",
       "    .dataframe tbody tr th {\n",
       "        vertical-align: top;\n",
       "    }\n",
       "\n",
       "    .dataframe thead th {\n",
       "        text-align: right;\n",
       "    }\n",
       "</style>\n",
       "<table border=\"1\" class=\"dataframe\">\n",
       "  <thead>\n",
       "    <tr style=\"text-align: right;\">\n",
       "      <th></th>\n",
       "      <th>sum_sq</th>\n",
       "      <th>df</th>\n",
       "      <th>F</th>\n",
       "      <th>PR(&gt;F)</th>\n",
       "    </tr>\n",
       "  </thead>\n",
       "  <tbody>\n",
       "    <tr>\n",
       "      <th>Pelicula</th>\n",
       "      <td>92.605033</td>\n",
       "      <td>4.0</td>\n",
       "      <td>1.009364</td>\n",
       "      <td>0.401513</td>\n",
       "    </tr>\n",
       "    <tr>\n",
       "      <th>Residual</th>\n",
       "      <td>22821.793967</td>\n",
       "      <td>995.0</td>\n",
       "      <td>NaN</td>\n",
       "      <td>NaN</td>\n",
       "    </tr>\n",
       "  </tbody>\n",
       "</table>\n",
       "</div>"
      ],
      "text/plain": [
       "                sum_sq     df         F    PR(>F)\n",
       "Pelicula     92.605033    4.0  1.009364  0.401513\n",
       "Residual  22821.793967  995.0       NaN       NaN"
      ]
     },
     "execution_count": 82,
     "metadata": {},
     "output_type": "execute_result"
    }
   ],
   "source": [
    "##### REVISAR VIDEO\n",
    "\n",
    "sm.stats.anova_lm(modelo,typ=2)"
   ]
  },
  {
   "cell_type": "code",
   "execution_count": 88,
   "metadata": {},
   "outputs": [],
   "source": [
    "# cambiamos la edad de espectadores de IJ"
   ]
  },
  {
   "cell_type": "code",
   "execution_count": 83,
   "metadata": {},
   "outputs": [],
   "source": [
    "IJ_Edad=ss.poisson.rvs(loc=18, mu=35, size=1000)\n",
    "voto_Edad=np.where(pelicula_vista=='IJ', IJ_Edad, voto_Edad)"
   ]
  },
  {
   "cell_type": "code",
   "execution_count": 84,
   "metadata": {},
   "outputs": [],
   "source": [
    "df1=pd.DataFrame({'Pelicula':pelicula_vista, 'Edad':voto_Edad})"
   ]
  },
  {
   "cell_type": "code",
   "execution_count": 85,
   "metadata": {},
   "outputs": [],
   "source": [
    "modelo=ols('Edad~Pelicula', data=df1).fit()"
   ]
  },
  {
   "cell_type": "code",
   "execution_count": 87,
   "metadata": {},
   "outputs": [
    {
     "data": {
      "text/html": [
       "<div>\n",
       "<style scoped>\n",
       "    .dataframe tbody tr th:only-of-type {\n",
       "        vertical-align: middle;\n",
       "    }\n",
       "\n",
       "    .dataframe tbody tr th {\n",
       "        vertical-align: top;\n",
       "    }\n",
       "\n",
       "    .dataframe thead th {\n",
       "        text-align: right;\n",
       "    }\n",
       "</style>\n",
       "<table border=\"1\" class=\"dataframe\">\n",
       "  <thead>\n",
       "    <tr style=\"text-align: right;\">\n",
       "      <th></th>\n",
       "      <th>sum_sq</th>\n",
       "      <th>df</th>\n",
       "      <th>F</th>\n",
       "      <th>PR(&gt;F)</th>\n",
       "    </tr>\n",
       "  </thead>\n",
       "  <tbody>\n",
       "    <tr>\n",
       "      <th>Pelicula</th>\n",
       "      <td>30931.715697</td>\n",
       "      <td>4.0</td>\n",
       "      <td>323.57174</td>\n",
       "      <td>2.610843e-178</td>\n",
       "    </tr>\n",
       "    <tr>\n",
       "      <th>Residual</th>\n",
       "      <td>23779.160303</td>\n",
       "      <td>995.0</td>\n",
       "      <td>NaN</td>\n",
       "      <td>NaN</td>\n",
       "    </tr>\n",
       "  </tbody>\n",
       "</table>\n",
       "</div>"
      ],
      "text/plain": [
       "                sum_sq     df          F         PR(>F)\n",
       "Pelicula  30931.715697    4.0  323.57174  2.610843e-178\n",
       "Residual  23779.160303  995.0        NaN            NaN"
      ]
     },
     "execution_count": 87,
     "metadata": {},
     "output_type": "execute_result"
    }
   ],
   "source": [
    "sm.stats.anova_lm(modelo,typ=2)\n",
    "\n",
    "#alguno es diferente"
   ]
  }
 ],
 "metadata": {
  "kernelspec": {
   "display_name": "Python 3",
   "language": "python",
   "name": "python3"
  },
  "language_info": {
   "codemirror_mode": {
    "name": "ipython",
    "version": 3
   },
   "file_extension": ".py",
   "mimetype": "text/x-python",
   "name": "python",
   "nbconvert_exporter": "python",
   "pygments_lexer": "ipython3",
   "version": "3.9.5"
  }
 },
 "nbformat": 4,
 "nbformat_minor": 2
}
