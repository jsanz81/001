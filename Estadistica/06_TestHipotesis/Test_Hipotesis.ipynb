{
 "cells": [
  {
   "cell_type": "code",
   "execution_count": 1,
   "metadata": {},
   "outputs": [],
   "source": [
    "### Ejemeplo de T-Test de una muestra\n",
    "### Ejemeplo de T-Test de dos muestra\n",
    "### Ejemeplo de T-Test pareado\n",
    "## ANova\n",
    "## Independencia de datos cualitativos"
   ]
  },
  {
   "cell_type": "code",
   "execution_count": 2,
   "metadata": {},
   "outputs": [],
   "source": [
    "## Librerias\n",
    "import pandas as pd\n",
    "import numpy as np\n",
    "import scipy.stats as ss\n",
    "import matplotlib.pyplot as plt\n",
    "import math"
   ]
  },
  {
   "cell_type": "code",
   "execution_count": 3,
   "metadata": {},
   "outputs": [],
   "source": [
    "np.random.seed(1234)"
   ]
  },
  {
   "cell_type": "code",
   "execution_count": 4,
   "metadata": {},
   "outputs": [],
   "source": [
    "poblacion1=ss.poisson.rvs(loc=18,mu=35,size=450000)\n",
    "poblacion2=ss.poisson.rvs(loc=18,mu=15,size=150000)"
   ]
  },
  {
   "cell_type": "code",
   "execution_count": 5,
   "metadata": {},
   "outputs": [],
   "source": [
    "Espanya=np.concatenate((poblacion1,poblacion2))"
   ]
  },
  {
   "cell_type": "code",
   "execution_count": 6,
   "metadata": {},
   "outputs": [],
   "source": [
    "granada1=ss.poisson.rvs(loc=18,mu=34,size=4500)\n",
    "granada2=ss.poisson.rvs(loc=18,mu=14,size=1500)\n",
    "Granada=np.concatenate((granada1,granada2))"
   ]
  },
  {
   "cell_type": "code",
   "execution_count": 7,
   "metadata": {},
   "outputs": [
    {
     "name": "stdout",
     "output_type": "stream",
     "text": [
      "47.985978333333335\n",
      "46.965666666666664\n"
     ]
    }
   ],
   "source": [
    "print(Espanya.mean())\n",
    "print(Granada.mean())"
   ]
  },
  {
   "attachments": {},
   "cell_type": "markdown",
   "metadata": {},
   "source": [
    "$$H_0 :   \\mu_{G}=\\mu_{ES}$$\n",
    "$$H_1 : \\mu_{G} \\neq \\mu_{ES}$$"
   ]
  },
  {
   "cell_type": "code",
   "execution_count": 8,
   "metadata": {},
   "outputs": [],
   "source": [
    "estadistico,pvalor=ss.ttest_1samp(Granada,Espanya.mean())"
   ]
  },
  {
   "cell_type": "code",
   "execution_count": 9,
   "metadata": {},
   "outputs": [
    {
     "name": "stdout",
     "output_type": "stream",
     "text": [
      "Rechazamos la ****\n"
     ]
    }
   ],
   "source": [
    "if pvalor<=0.05:\n",
    "    print(\"Rechazamos la ****\")\n",
    "else:\n",
    "    print(\"Aceptamos la ***\")"
   ]
  },
  {
   "cell_type": "code",
   "execution_count": 10,
   "metadata": {},
   "outputs": [],
   "source": [
    "Madrid1=ss.poisson.rvs(loc=18,mu=37,size=120)\n",
    "Madrid2=ss.poisson.rvs(loc=18,mu=13,size=80)\n",
    "Madrid=np.concatenate((Madrid1,Madrid2))"
   ]
  },
  {
   "cell_type": "code",
   "execution_count": 11,
   "metadata": {},
   "outputs": [
    {
     "data": {
      "text/plain": [
       "44.915"
      ]
     },
     "execution_count": 11,
     "metadata": {},
     "output_type": "execute_result"
    }
   ],
   "source": [
    "Madrid.mean()"
   ]
  },
  {
   "cell_type": "code",
   "execution_count": 12,
   "metadata": {},
   "outputs": [
    {
     "data": {
      "text/plain": [
       "Ttest_indResult(statistic=2.304829181111661, pvalue=0.02216287707923899)"
      ]
     },
     "execution_count": 12,
     "metadata": {},
     "output_type": "execute_result"
    }
   ],
   "source": [
    "ss.ttest_ind(Granada,Madrid,equal_var=False)"
   ]
  },
  {
   "attachments": {},
   "cell_type": "markdown",
   "metadata": {},
   "source": [
    "$$ H_0 : \\mu_{Gr} \\leq \\mu_{Ma}$$\n",
    "$$ H_1 : \\mu_{Gr} > \\mu_{Ma}$$"
   ]
  },
  {
   "cell_type": "code",
   "execution_count": 13,
   "metadata": {},
   "outputs": [
    {
     "data": {
      "text/plain": [
       "Ttest_indResult(statistic=2.304829181111661, pvalue=0.011081438539619496)"
      ]
     },
     "execution_count": 13,
     "metadata": {},
     "output_type": "execute_result"
    }
   ],
   "source": [
    "ss.ttest_ind(Granada,Madrid,equal_var=False,alternative=\"greater\")"
   ]
  },
  {
   "cell_type": "code",
   "execution_count": 14,
   "metadata": {},
   "outputs": [],
   "source": [
    "## T-test Pareado\n",
    "peso_precovid=ss.norm.rvs(scale=30,loc=100,size=1000)\n",
    "peso_postcovid=peso_precovid+ss.norm.rvs(scale=10,loc=1.25,size=1000)"
   ]
  },
  {
   "cell_type": "code",
   "execution_count": 15,
   "metadata": {},
   "outputs": [],
   "source": [
    "Pesos=pd.DataFrame({\"peso_precovid\":peso_precovid,\n",
    "              \"peso_postcovid\":peso_postcovid,\n",
    "              \"Diferencia\":peso_postcovid-peso_precovid})"
   ]
  },
  {
   "cell_type": "code",
   "execution_count": 16,
   "metadata": {},
   "outputs": [
    {
     "name": "stdout",
     "output_type": "stream",
     "text": [
      "<class 'pandas.core.frame.DataFrame'>\n",
      "RangeIndex: 1000 entries, 0 to 999\n",
      "Data columns (total 3 columns):\n",
      " #   Column          Non-Null Count  Dtype  \n",
      "---  ------          --------------  -----  \n",
      " 0   peso_precovid   1000 non-null   float64\n",
      " 1   peso_postcovid  1000 non-null   float64\n",
      " 2   Diferencia      1000 non-null   float64\n",
      "dtypes: float64(3)\n",
      "memory usage: 23.6 KB\n"
     ]
    }
   ],
   "source": [
    "Pesos.info()"
   ]
  },
  {
   "cell_type": "code",
   "execution_count": 17,
   "metadata": {},
   "outputs": [
    {
     "data": {
      "text/html": [
       "<div>\n",
       "<style scoped>\n",
       "    .dataframe tbody tr th:only-of-type {\n",
       "        vertical-align: middle;\n",
       "    }\n",
       "\n",
       "    .dataframe tbody tr th {\n",
       "        vertical-align: top;\n",
       "    }\n",
       "\n",
       "    .dataframe thead th {\n",
       "        text-align: right;\n",
       "    }\n",
       "</style>\n",
       "<table border=\"1\" class=\"dataframe\">\n",
       "  <thead>\n",
       "    <tr style=\"text-align: right;\">\n",
       "      <th></th>\n",
       "      <th>count</th>\n",
       "      <th>mean</th>\n",
       "      <th>std</th>\n",
       "      <th>min</th>\n",
       "      <th>25%</th>\n",
       "      <th>50%</th>\n",
       "      <th>75%</th>\n",
       "      <th>max</th>\n",
       "    </tr>\n",
       "  </thead>\n",
       "  <tbody>\n",
       "    <tr>\n",
       "      <th>peso_precovid</th>\n",
       "      <td>1000.0</td>\n",
       "      <td>100.515641</td>\n",
       "      <td>28.779859</td>\n",
       "      <td>13.866641</td>\n",
       "      <td>80.701193</td>\n",
       "      <td>100.090699</td>\n",
       "      <td>120.403068</td>\n",
       "      <td>184.742129</td>\n",
       "    </tr>\n",
       "    <tr>\n",
       "      <th>peso_postcovid</th>\n",
       "      <td>1000.0</td>\n",
       "      <td>101.377621</td>\n",
       "      <td>30.890726</td>\n",
       "      <td>12.875712</td>\n",
       "      <td>79.605067</td>\n",
       "      <td>101.555007</td>\n",
       "      <td>122.142846</td>\n",
       "      <td>185.696680</td>\n",
       "    </tr>\n",
       "    <tr>\n",
       "      <th>Diferencia</th>\n",
       "      <td>1000.0</td>\n",
       "      <td>0.861981</td>\n",
       "      <td>10.114129</td>\n",
       "      <td>-31.310381</td>\n",
       "      <td>-6.041496</td>\n",
       "      <td>1.040601</td>\n",
       "      <td>7.906247</td>\n",
       "      <td>31.569827</td>\n",
       "    </tr>\n",
       "  </tbody>\n",
       "</table>\n",
       "</div>"
      ],
      "text/plain": [
       "                 count        mean        std        min        25%   \n",
       "peso_precovid   1000.0  100.515641  28.779859  13.866641  80.701193  \\\n",
       "peso_postcovid  1000.0  101.377621  30.890726  12.875712  79.605067   \n",
       "Diferencia      1000.0    0.861981  10.114129 -31.310381  -6.041496   \n",
       "\n",
       "                       50%         75%         max  \n",
       "peso_precovid   100.090699  120.403068  184.742129  \n",
       "peso_postcovid  101.555007  122.142846  185.696680  \n",
       "Diferencia        1.040601    7.906247   31.569827  "
      ]
     },
     "execution_count": 17,
     "metadata": {},
     "output_type": "execute_result"
    }
   ],
   "source": [
    "Pesos.describe().T"
   ]
  },
  {
   "attachments": {},
   "cell_type": "markdown",
   "metadata": {},
   "source": [
    "$$ H_0: \\mu_{AC} = \\mu_{DC} $$\n",
    "$$ H_1: \\mu_{AC} \\neq \\mu_{DC} $$"
   ]
  },
  {
   "cell_type": "code",
   "execution_count": 18,
   "metadata": {},
   "outputs": [
    {
     "data": {
      "text/plain": [
       "TtestResult(statistic=-2.695064033684111, pvalue=0.0071556618647929835, df=999)"
      ]
     },
     "execution_count": 18,
     "metadata": {},
     "output_type": "execute_result"
    }
   ],
   "source": [
    "ss.ttest_rel(peso_precovid,peso_postcovid,alternative=\"two-sided\")"
   ]
  },
  {
   "attachments": {},
   "cell_type": "markdown",
   "metadata": {},
   "source": [
    "$$ H_0: \\mu_{AC} \\leq \\mu_{DC} $$\n",
    "$$ H_1: \\mu_{AC} > \\mu_{DC} $$"
   ]
  },
  {
   "cell_type": "code",
   "execution_count": 19,
   "metadata": {},
   "outputs": [
    {
     "data": {
      "text/plain": [
       "TtestResult(statistic=-2.695064033684111, pvalue=0.9964221690676035, df=999)"
      ]
     },
     "execution_count": 19,
     "metadata": {},
     "output_type": "execute_result"
    }
   ],
   "source": [
    "ss.ttest_rel(peso_precovid,peso_postcovid,alternative=\"greater\")"
   ]
  },
  {
   "attachments": {},
   "cell_type": "markdown",
   "metadata": {},
   "source": [
    "$$ H_0: \\mu_{AC} \\geq \\mu_{DC} $$\n",
    "$$ H_1: \\mu_{AC} < \\mu_{DC} $$"
   ]
  },
  {
   "cell_type": "code",
   "execution_count": 20,
   "metadata": {},
   "outputs": [
    {
     "data": {
      "text/plain": [
       "TtestResult(statistic=-2.695064033684111, pvalue=0.0035778309323964918, df=999)"
      ]
     },
     "execution_count": 20,
     "metadata": {},
     "output_type": "execute_result"
    }
   ],
   "source": [
    "ss.ttest_rel(peso_precovid,peso_postcovid,alternative=\"less\")"
   ]
  },
  {
   "cell_type": "code",
   "execution_count": 21,
   "metadata": {},
   "outputs": [
    {
     "name": "stdout",
     "output_type": "stream",
     "text": [
      "\u001b[1;31mSignature:\u001b[0m\n",
      "\u001b[0mss\u001b[0m\u001b[1;33m.\u001b[0m\u001b[0mttest_rel\u001b[0m\u001b[1;33m(\u001b[0m\u001b[1;33m\n",
      "\u001b[0m    \u001b[0ma\u001b[0m\u001b[1;33m,\u001b[0m\u001b[1;33m\n",
      "\u001b[0m    \u001b[0mb\u001b[0m\u001b[1;33m,\u001b[0m\u001b[1;33m\n",
      "\u001b[0m    \u001b[0maxis\u001b[0m\u001b[1;33m=\u001b[0m\u001b[1;36m0\u001b[0m\u001b[1;33m,\u001b[0m\u001b[1;33m\n",
      "\u001b[0m    \u001b[0mnan_policy\u001b[0m\u001b[1;33m=\u001b[0m\u001b[1;34m'propagate'\u001b[0m\u001b[1;33m,\u001b[0m\u001b[1;33m\n",
      "\u001b[0m    \u001b[0malternative\u001b[0m\u001b[1;33m=\u001b[0m\u001b[1;34m'two-sided'\u001b[0m\u001b[1;33m,\u001b[0m\u001b[1;33m\n",
      "\u001b[0m    \u001b[1;33m*\u001b[0m\u001b[1;33m,\u001b[0m\u001b[1;33m\n",
      "\u001b[0m    \u001b[0mkeepdims\u001b[0m\u001b[1;33m=\u001b[0m\u001b[1;32mFalse\u001b[0m\u001b[1;33m,\u001b[0m\u001b[1;33m\n",
      "\u001b[0m\u001b[1;33m)\u001b[0m\u001b[1;33m\u001b[0m\u001b[1;33m\u001b[0m\u001b[0m\n",
      "\u001b[1;31mDocstring:\u001b[0m\n",
      "Calculate the t-test on TWO RELATED samples of scores, a and b.\n",
      "\n",
      "This is a test for the null hypothesis that two related or\n",
      "repeated samples have identical average (expected) values.\n",
      "\n",
      "Parameters\n",
      "----------\n",
      "a, b : array_like\n",
      "    The arrays must have the same shape.\n",
      "axis : int or None, default: 0\n",
      "    If an int, the axis of the input along which to compute the statistic.\n",
      "    The statistic of each axis-slice (e.g. row) of the input will appear in a\n",
      "    corresponding element of the output.\n",
      "    If ``None``, the input will be raveled before computing the statistic.\n",
      "nan_policy : {'propagate', 'omit', 'raise'}\n",
      "    Defines how to handle input NaNs.\n",
      "    \n",
      "    - ``propagate``: if a NaN is present in the axis slice (e.g. row) along\n",
      "      which the  statistic is computed, the corresponding entry of the output\n",
      "      will be NaN.\n",
      "    - ``omit``: NaNs will be omitted when performing the calculation.\n",
      "      If insufficient data remains in the axis slice along which the\n",
      "      statistic is computed, the corresponding entry of the output will be\n",
      "      NaN.\n",
      "    - ``raise``: if a NaN is present, a ``ValueError`` will be raised.\n",
      "alternative : {'two-sided', 'less', 'greater'}, optional\n",
      "    Defines the alternative hypothesis.\n",
      "    The following options are available (default is 'two-sided'):\n",
      "    \n",
      "    * 'two-sided': the means of the distributions underlying the samples\n",
      "      are unequal.\n",
      "    * 'less': the mean of the distribution underlying the first sample\n",
      "      is less than the mean of the distribution underlying the second\n",
      "      sample.\n",
      "    * 'greater': the mean of the distribution underlying the first\n",
      "      sample is greater than the mean of the distribution underlying\n",
      "      the second sample.\n",
      "    \n",
      "    .. versionadded:: 1.6.0\n",
      "keepdims : bool, default: False\n",
      "    If this is set to True, the axes which are reduced are left\n",
      "    in the result as dimensions with size one. With this option,\n",
      "    the result will broadcast correctly against the input array.\n",
      "\n",
      "Returns\n",
      "-------\n",
      "result : `~scipy.stats._result_classes.TtestResult`\n",
      "    An object with the following attributes:\n",
      "    \n",
      "    statistic : float or array\n",
      "        The t-statistic.\n",
      "    pvalue : float or array\n",
      "        The p-value associated with the given alternative.\n",
      "    df : float or array\n",
      "        The number of degrees of freedom used in calculation of the\n",
      "        t-statistic; this is one less than the size of the sample\n",
      "        (``a.shape[axis]``).\n",
      "    \n",
      "        .. versionadded:: 1.10.0\n",
      "    \n",
      "    The object also has the following method:\n",
      "    \n",
      "    confidence_interval(confidence_level=0.95)\n",
      "        Computes a confidence interval around the difference in\n",
      "        population means for the given confidence level.\n",
      "        The confidence interval is returned in a ``namedtuple`` with\n",
      "        fields `low` and `high`.\n",
      "    \n",
      "        .. versionadded:: 1.10.0\n",
      "\n",
      "Notes\n",
      "-----\n",
      "Examples for use are scores of the same set of student in\n",
      "different exams, or repeated sampling from the same units. The\n",
      "test measures whether the average score differs significantly\n",
      "across samples (e.g. exams). If we observe a large p-value, for\n",
      "example greater than 0.05 or 0.1 then we cannot reject the null\n",
      "hypothesis of identical average scores. If the p-value is smaller\n",
      "than the threshold, e.g. 1%, 5% or 10%, then we reject the null\n",
      "hypothesis of equal averages. Small p-values are associated with\n",
      "large t-statistics.\n",
      "\n",
      "The t-statistic is calculated as ``np.mean(a - b)/se``, where ``se`` is the\n",
      "standard error. Therefore, the t-statistic will be positive when the sample\n",
      "mean of ``a - b`` is greater than zero and negative when the sample mean of\n",
      "``a - b`` is less than zero.\n",
      "\n",
      "Beginning in SciPy 1.9, ``np.matrix`` inputs (not recommended for new\n",
      "code) are converted to ``np.ndarray`` before the calculation is performed. In\n",
      "this case, the output will be a scalar or ``np.ndarray`` of appropriate shape\n",
      "rather than a 2D ``np.matrix``. Similarly, while masked elements of masked\n",
      "arrays are ignored, the output will be a scalar or ``np.ndarray`` rather than a\n",
      "masked array with ``mask=False``.\n",
      "\n",
      "References\n",
      "----------\n",
      "https://en.wikipedia.org/wiki/T-test#Dependent_t-test_for_paired_samples\n",
      "\n",
      "Examples\n",
      "--------\n",
      ">>> import numpy as np\n",
      ">>> from scipy import stats\n",
      ">>> rng = np.random.default_rng()\n",
      "\n",
      ">>> rvs1 = stats.norm.rvs(loc=5, scale=10, size=500, random_state=rng)\n",
      ">>> rvs2 = (stats.norm.rvs(loc=5, scale=10, size=500, random_state=rng)\n",
      "...         + stats.norm.rvs(scale=0.2, size=500, random_state=rng))\n",
      ">>> stats.ttest_rel(rvs1, rvs2)\n",
      "TtestResult(statistic=-0.4549717054410304, pvalue=0.6493274702088672, df=499)  # noqa\n",
      ">>> rvs3 = (stats.norm.rvs(loc=8, scale=10, size=500, random_state=rng)\n",
      "...         + stats.norm.rvs(scale=0.2, size=500, random_state=rng))\n",
      ">>> stats.ttest_rel(rvs1, rvs3)\n",
      "TtestResult(statistic=-5.879467544540889, pvalue=7.540777129099917e-09, df=499)  # noqa\n",
      "\u001b[1;31mFile:\u001b[0m      c:\\users\\j\\miniconda3\\envs\\ramp_up_py395\\lib\\site-packages\\scipy\\stats\\_stats_py.py\n",
      "\u001b[1;31mType:\u001b[0m      function"
     ]
    }
   ],
   "source": [
    "ss.ttest_rel?"
   ]
  },
  {
   "attachments": {},
   "cell_type": "markdown",
   "metadata": {},
   "source": [
    "### Anova"
   ]
  },
  {
   "cell_type": "code",
   "execution_count": 22,
   "metadata": {},
   "outputs": [],
   "source": [
    "Peliculas=[\"IJ\",\"Bat\",\"Marvel\",\"Senor_Anillos\",\"Tenet\"]\n",
    "pelicula_vista=np.random.choice(a=Peliculas,\n",
    "                                p=[0.1,0.2,0.2,0.15,0.35],\n",
    "                                size=1000)\n",
    "voto_Edad=ss.poisson.rvs(loc=9,mu=25,size=1000)"
   ]
  },
  {
   "cell_type": "code",
   "execution_count": 23,
   "metadata": {},
   "outputs": [],
   "source": [
    "df=pd.DataFrame({\"Pelicula\":pelicula_vista,\n",
    "              \"Edad\":voto_Edad})"
   ]
  },
  {
   "cell_type": "code",
   "execution_count": 24,
   "metadata": {},
   "outputs": [
    {
     "data": {
      "text/html": [
       "<div>\n",
       "<style scoped>\n",
       "    .dataframe tbody tr th:only-of-type {\n",
       "        vertical-align: middle;\n",
       "    }\n",
       "\n",
       "    .dataframe tbody tr th {\n",
       "        vertical-align: top;\n",
       "    }\n",
       "\n",
       "    .dataframe thead th {\n",
       "        text-align: right;\n",
       "    }\n",
       "</style>\n",
       "<table border=\"1\" class=\"dataframe\">\n",
       "  <thead>\n",
       "    <tr style=\"text-align: right;\">\n",
       "      <th></th>\n",
       "      <th>Pelicula</th>\n",
       "      <th>Edad</th>\n",
       "    </tr>\n",
       "  </thead>\n",
       "  <tbody>\n",
       "    <tr>\n",
       "      <th>0</th>\n",
       "      <td>Tenet</td>\n",
       "      <td>40</td>\n",
       "    </tr>\n",
       "    <tr>\n",
       "      <th>1</th>\n",
       "      <td>Bat</td>\n",
       "      <td>36</td>\n",
       "    </tr>\n",
       "    <tr>\n",
       "      <th>2</th>\n",
       "      <td>Bat</td>\n",
       "      <td>30</td>\n",
       "    </tr>\n",
       "    <tr>\n",
       "      <th>3</th>\n",
       "      <td>Tenet</td>\n",
       "      <td>32</td>\n",
       "    </tr>\n",
       "    <tr>\n",
       "      <th>4</th>\n",
       "      <td>Tenet</td>\n",
       "      <td>38</td>\n",
       "    </tr>\n",
       "    <tr>\n",
       "      <th>...</th>\n",
       "      <td>...</td>\n",
       "      <td>...</td>\n",
       "    </tr>\n",
       "    <tr>\n",
       "      <th>995</th>\n",
       "      <td>Tenet</td>\n",
       "      <td>28</td>\n",
       "    </tr>\n",
       "    <tr>\n",
       "      <th>996</th>\n",
       "      <td>Tenet</td>\n",
       "      <td>35</td>\n",
       "    </tr>\n",
       "    <tr>\n",
       "      <th>997</th>\n",
       "      <td>Bat</td>\n",
       "      <td>40</td>\n",
       "    </tr>\n",
       "    <tr>\n",
       "      <th>998</th>\n",
       "      <td>Bat</td>\n",
       "      <td>32</td>\n",
       "    </tr>\n",
       "    <tr>\n",
       "      <th>999</th>\n",
       "      <td>Marvel</td>\n",
       "      <td>36</td>\n",
       "    </tr>\n",
       "  </tbody>\n",
       "</table>\n",
       "<p>1000 rows × 2 columns</p>\n",
       "</div>"
      ],
      "text/plain": [
       "    Pelicula  Edad\n",
       "0      Tenet    40\n",
       "1        Bat    36\n",
       "2        Bat    30\n",
       "3      Tenet    32\n",
       "4      Tenet    38\n",
       "..       ...   ...\n",
       "995    Tenet    28\n",
       "996    Tenet    35\n",
       "997      Bat    40\n",
       "998      Bat    32\n",
       "999   Marvel    36\n",
       "\n",
       "[1000 rows x 2 columns]"
      ]
     },
     "execution_count": 24,
     "metadata": {},
     "output_type": "execute_result"
    }
   ],
   "source": [
    "df"
   ]
  },
  {
   "cell_type": "code",
   "execution_count": 25,
   "metadata": {},
   "outputs": [],
   "source": [
    "grupos=df.groupby('Pelicula').groups"
   ]
  },
  {
   "cell_type": "code",
   "execution_count": 26,
   "metadata": {},
   "outputs": [],
   "source": [
    "Bat=voto_Edad[grupos[\"Bat\"]]\n",
    "IJ=voto_Edad[grupos[\"IJ\"]]\n",
    "Marvel=voto_Edad[grupos[\"Marvel\"]]\n",
    "Tenet=voto_Edad[grupos[\"Tenet\"]]\n",
    "Senor_Anillos=voto_Edad[grupos[\"Senor_Anillos\"]]"
   ]
  },
  {
   "cell_type": "code",
   "execution_count": 27,
   "metadata": {},
   "outputs": [
    {
     "data": {
      "text/plain": [
       "F_onewayResult(statistic=0.7656549586137857, pvalue=0.5476717477279003)"
      ]
     },
     "execution_count": 27,
     "metadata": {},
     "output_type": "execute_result"
    }
   ],
   "source": [
    "ss.f_oneway(Senor_Anillos,Bat,Tenet,IJ,Marvel)"
   ]
  },
  {
   "attachments": {},
   "cell_type": "markdown",
   "metadata": {},
   "source": [
    "$$ H_0: \\mu_{0}=\\mu_{1}=\\ldots=\\mu_{n}$$\n",
    "$$ H_1: \\mu_{i}\\neq\\mu_{j} \\text{existe un i que la media es diferente para un j}$$"
   ]
  },
  {
   "cell_type": "code",
   "execution_count": 28,
   "metadata": {},
   "outputs": [],
   "source": [
    "import statsmodels.api as sm\n",
    "from statsmodels.formula.api import ols"
   ]
  },
  {
   "cell_type": "code",
   "execution_count": 29,
   "metadata": {},
   "outputs": [],
   "source": [
    "modelo=ols('Edad~Pelicula',data=df).fit()"
   ]
  },
  {
   "cell_type": "code",
   "execution_count": 30,
   "metadata": {},
   "outputs": [
    {
     "data": {
      "text/plain": [
       "<statsmodels.regression.linear_model.RegressionResultsWrapper at 0x2bb2b531370>"
      ]
     },
     "execution_count": 30,
     "metadata": {},
     "output_type": "execute_result"
    }
   ],
   "source": [
    "modelo"
   ]
  },
  {
   "cell_type": "code",
   "execution_count": 31,
   "metadata": {},
   "outputs": [
    {
     "data": {
      "text/html": [
       "<div>\n",
       "<style scoped>\n",
       "    .dataframe tbody tr th:only-of-type {\n",
       "        vertical-align: middle;\n",
       "    }\n",
       "\n",
       "    .dataframe tbody tr th {\n",
       "        vertical-align: top;\n",
       "    }\n",
       "\n",
       "    .dataframe thead th {\n",
       "        text-align: right;\n",
       "    }\n",
       "</style>\n",
       "<table border=\"1\" class=\"dataframe\">\n",
       "  <thead>\n",
       "    <tr style=\"text-align: right;\">\n",
       "      <th></th>\n",
       "      <th>sum_sq</th>\n",
       "      <th>df</th>\n",
       "      <th>F</th>\n",
       "      <th>PR(&gt;F)</th>\n",
       "    </tr>\n",
       "  </thead>\n",
       "  <tbody>\n",
       "    <tr>\n",
       "      <th>Pelicula</th>\n",
       "      <td>79.417943</td>\n",
       "      <td>4.0</td>\n",
       "      <td>0.765655</td>\n",
       "      <td>0.547672</td>\n",
       "    </tr>\n",
       "    <tr>\n",
       "      <th>Residual</th>\n",
       "      <td>25801.718057</td>\n",
       "      <td>995.0</td>\n",
       "      <td>NaN</td>\n",
       "      <td>NaN</td>\n",
       "    </tr>\n",
       "  </tbody>\n",
       "</table>\n",
       "</div>"
      ],
      "text/plain": [
       "                sum_sq     df         F    PR(>F)\n",
       "Pelicula     79.417943    4.0  0.765655  0.547672\n",
       "Residual  25801.718057  995.0       NaN       NaN"
      ]
     },
     "execution_count": 31,
     "metadata": {},
     "output_type": "execute_result"
    }
   ],
   "source": [
    "sm.stats.anova_lm(modelo,typ=2)"
   ]
  },
  {
   "cell_type": "code",
   "execution_count": 32,
   "metadata": {},
   "outputs": [],
   "source": [
    "IJ_Edad=ss.poisson.rvs(loc=18,mu=35,size=1000)\n",
    "voto_Edad=np.where(pelicula_vista==\"IJ\",IJ_Edad,voto_Edad)"
   ]
  },
  {
   "cell_type": "code",
   "execution_count": 33,
   "metadata": {},
   "outputs": [],
   "source": [
    "df_1=pd.DataFrame({\"Pelicula\":pelicula_vista,\n",
    "              \"Edad\":voto_Edad})"
   ]
  },
  {
   "cell_type": "code",
   "execution_count": 34,
   "metadata": {},
   "outputs": [],
   "source": [
    "modelo=ols('Edad~Pelicula',data=df_1).fit()"
   ]
  },
  {
   "cell_type": "code",
   "execution_count": 35,
   "metadata": {},
   "outputs": [
    {
     "data": {
      "text/html": [
       "<div>\n",
       "<style scoped>\n",
       "    .dataframe tbody tr th:only-of-type {\n",
       "        vertical-align: middle;\n",
       "    }\n",
       "\n",
       "    .dataframe tbody tr th {\n",
       "        vertical-align: top;\n",
       "    }\n",
       "\n",
       "    .dataframe thead th {\n",
       "        text-align: right;\n",
       "    }\n",
       "</style>\n",
       "<table border=\"1\" class=\"dataframe\">\n",
       "  <thead>\n",
       "    <tr style=\"text-align: right;\">\n",
       "      <th></th>\n",
       "      <th>sum_sq</th>\n",
       "      <th>df</th>\n",
       "      <th>F</th>\n",
       "      <th>PR(&gt;F)</th>\n",
       "    </tr>\n",
       "  </thead>\n",
       "  <tbody>\n",
       "    <tr>\n",
       "      <th>Pelicula</th>\n",
       "      <td>26447.270443</td>\n",
       "      <td>4.0</td>\n",
       "      <td>255.61203</td>\n",
       "      <td>4.799015e-151</td>\n",
       "    </tr>\n",
       "    <tr>\n",
       "      <th>Residual</th>\n",
       "      <td>25737.280557</td>\n",
       "      <td>995.0</td>\n",
       "      <td>NaN</td>\n",
       "      <td>NaN</td>\n",
       "    </tr>\n",
       "  </tbody>\n",
       "</table>\n",
       "</div>"
      ],
      "text/plain": [
       "                sum_sq     df          F         PR(>F)\n",
       "Pelicula  26447.270443    4.0  255.61203  4.799015e-151\n",
       "Residual  25737.280557  995.0        NaN            NaN"
      ]
     },
     "execution_count": 35,
     "metadata": {},
     "output_type": "execute_result"
    }
   ],
   "source": [
    "sm.stats.anova_lm(modelo,typ=2)"
   ]
  },
  {
   "cell_type": "code",
   "execution_count": 55,
   "metadata": {},
   "outputs": [
    {
     "name": "stdout",
     "output_type": "stream",
     "text": [
      "IJ_Edad-Bat\n",
      "Two sided: Ttest_indResult(statistic=47.557506011361895, pvalue=1.637028858212017e-151)\n",
      "Greater: Ttest_indResult(statistic=47.557506011361895, pvalue=8.185144291060085e-152)\n",
      "Less: Ttest_indResult(statistic=47.557506011361895, pvalue=1.0)\n"
     ]
    }
   ],
   "source": [
    "print('IJ_Edad-Bat')\n",
    "print('Two sided: {}'.format(ss.ttest_ind(IJ_Edad,Bat,equal_var=False,alternative=\"two-sided\")))\n",
    "print('Greater: {}'.format(ss.ttest_ind(IJ_Edad,Bat,equal_var=False,alternative=\"greater\")))\n",
    "print('Less: {}'.format(ss.ttest_ind(IJ_Edad,Bat,equal_var=False,alternative=\"less\")))"
   ]
  },
  {
   "cell_type": "code",
   "execution_count": 56,
   "metadata": {},
   "outputs": [
    {
     "name": "stdout",
     "output_type": "stream",
     "text": [
      "IJ_Edad-Marvel\n",
      "Two sided: Ttest_indResult(statistic=45.89366211461949, pvalue=8.459873589382852e-141)\n",
      "Greater: Ttest_indResult(statistic=45.89366211461949, pvalue=4.229936794691426e-141)\n",
      "Less: Ttest_indResult(statistic=45.89366211461949, pvalue=1.0)\n"
     ]
    }
   ],
   "source": [
    "print('IJ_Edad-Marvel')\n",
    "print('Two sided: {}'.format(ss.ttest_ind(IJ_Edad,Marvel,equal_var=False,alternative=\"two-sided\")))\n",
    "print('Greater: {}'.format(ss.ttest_ind(IJ_Edad,Marvel,equal_var=False,alternative=\"greater\")))\n",
    "print('Less: {}'.format(ss.ttest_ind(IJ_Edad,Marvel,equal_var=False,alternative=\"less\")))"
   ]
  },
  {
   "cell_type": "code",
   "execution_count": 57,
   "metadata": {},
   "outputs": [
    {
     "name": "stdout",
     "output_type": "stream",
     "text": [
      "IJ_Edad-Señor_Anillos\n",
      "Two sided: Ttest_indResult(statistic=44.85553552159098, pvalue=6.548878205061669e-123)\n",
      "Greater: Ttest_indResult(statistic=44.85553552159098, pvalue=3.2744391025308344e-123)\n",
      "Less: Ttest_indResult(statistic=44.85553552159098, pvalue=1.0)\n"
     ]
    }
   ],
   "source": [
    "print('IJ_Edad-Señor_Anillos')\n",
    "print('Two sided: {}'.format(ss.ttest_ind(IJ_Edad,Senor_Anillos,equal_var=False,alternative=\"two-sided\")))\n",
    "print('Greater: {}'.format(ss.ttest_ind(IJ_Edad,Senor_Anillos,equal_var=False,alternative=\"greater\")))\n",
    "print('Less: {}'.format(ss.ttest_ind(IJ_Edad,Senor_Anillos,equal_var=False,alternative=\"less\")))"
   ]
  },
  {
   "cell_type": "code",
   "execution_count": 58,
   "metadata": {},
   "outputs": [
    {
     "name": "stdout",
     "output_type": "stream",
     "text": [
      "IJ_Edad-Tenet\n",
      "Two sided: Ttest_indResult(statistic=53.835762186217806, pvalue=1.2984998672637979e-247)\n",
      "Greater: Ttest_indResult(statistic=53.835762186217806, pvalue=6.492499336318989e-248)\n",
      "Less: Ttest_indResult(statistic=53.835762186217806, pvalue=1.0)\n"
     ]
    }
   ],
   "source": [
    "print('IJ_Edad-Tenet')\n",
    "print('Two sided: {}'.format(ss.ttest_ind(IJ_Edad,Tenet,equal_var=False,alternative=\"two-sided\")))\n",
    "print('Greater: {}'.format(ss.ttest_ind(IJ_Edad,Tenet,equal_var=False,alternative=\"greater\")))\n",
    "print('Less: {}'.format(ss.ttest_ind(IJ_Edad,Tenet,equal_var=False,alternative=\"less\")))"
   ]
  },
  {
   "cell_type": "code",
   "execution_count": 59,
   "metadata": {},
   "outputs": [
    {
     "name": "stdout",
     "output_type": "stream",
     "text": [
      "Bat-Marvel\n",
      "Two sided: Ttest_indResult(statistic=-0.8625702231697726, pvalue=0.3888880045769002)\n",
      "Greater: Ttest_indResult(statistic=-0.8625702231697726, pvalue=0.8055559977115498)\n",
      "Less: Ttest_indResult(statistic=-0.8625702231697726, pvalue=0.1944440022884501)\n"
     ]
    }
   ],
   "source": [
    "print('Bat-Marvel')\n",
    "print('Two sided: {}'.format(ss.ttest_ind(Bat,Marvel,equal_var=False,alternative=\"two-sided\")))\n",
    "print('Greater: {}'.format(ss.ttest_ind(Bat,Marvel,equal_var=False,alternative=\"greater\")))\n",
    "print('Less: {}'.format(ss.ttest_ind(Bat,Marvel,equal_var=False,alternative=\"less\")))"
   ]
  },
  {
   "cell_type": "code",
   "execution_count": 60,
   "metadata": {},
   "outputs": [
    {
     "name": "stdout",
     "output_type": "stream",
     "text": [
      "Bat-Señor_Anillos\n",
      "Two sided: Ttest_indResult(statistic=-1.4137849498903474, pvalue=0.15829139119133429)\n",
      "Greater: Ttest_indResult(statistic=-1.4137849498903474, pvalue=0.9208543044043329)\n",
      "Less: Ttest_indResult(statistic=-1.4137849498903474, pvalue=0.07914569559566714)\n"
     ]
    }
   ],
   "source": [
    "print('Bat-Señor_Anillos')\n",
    "print('Two sided: {}'.format(ss.ttest_ind(Bat,Senor_Anillos,equal_var=False,alternative=\"two-sided\")))\n",
    "print('Greater: {}'.format(ss.ttest_ind(Bat,Senor_Anillos,equal_var=False,alternative=\"greater\")))\n",
    "print('Less: {}'.format(ss.ttest_ind(Bat,Senor_Anillos,equal_var=False,alternative=\"less\")))"
   ]
  },
  {
   "cell_type": "code",
   "execution_count": 61,
   "metadata": {},
   "outputs": [
    {
     "name": "stdout",
     "output_type": "stream",
     "text": [
      "Bat-Tenet\n",
      "Two sided: Ttest_indResult(statistic=-1.4201364023554202, pvalue=0.156254612422157)\n",
      "Greater: Ttest_indResult(statistic=-1.4201364023554202, pvalue=0.9218726937889214)\n",
      "Less: Ttest_indResult(statistic=-1.4201364023554202, pvalue=0.0781273062110785)\n"
     ]
    }
   ],
   "source": [
    "print('Bat-Tenet')\n",
    "print('Two sided: {}'.format(ss.ttest_ind(Bat,Tenet,equal_var=False,alternative=\"two-sided\")))\n",
    "print('Greater: {}'.format(ss.ttest_ind(Bat,Tenet,equal_var=False,alternative=\"greater\")))\n",
    "print('Less: {}'.format(ss.ttest_ind(Bat,Tenet,equal_var=False,alternative=\"less\")))"
   ]
  },
  {
   "cell_type": "code",
   "execution_count": 62,
   "metadata": {},
   "outputs": [
    {
     "name": "stdout",
     "output_type": "stream",
     "text": [
      "Bat-Tenet\n",
      "Two sided: Ttest_indResult(statistic=-0.5511340460811809, pvalue=0.5818925868481946)\n",
      "Greater: Ttest_indResult(statistic=-0.5511340460811809, pvalue=0.7090537065759028)\n",
      "Less: Ttest_indResult(statistic=-0.5511340460811809, pvalue=0.2909462934240973)\n"
     ]
    }
   ],
   "source": [
    "print('Bat-Tenet')\n",
    "print('Two sided: {}'.format(ss.ttest_ind(Marvel,Senor_Anillos,equal_var=False,alternative=\"two-sided\")))\n",
    "print('Greater: {}'.format(ss.ttest_ind(Marvel,Senor_Anillos,equal_var=False,alternative=\"greater\")))\n",
    "print('Less: {}'.format(ss.ttest_ind(Marvel,Senor_Anillos,equal_var=False,alternative=\"less\")))"
   ]
  },
  {
   "cell_type": "code",
   "execution_count": 63,
   "metadata": {},
   "outputs": [
    {
     "name": "stdout",
     "output_type": "stream",
     "text": [
      "Marvel-Tenet\n",
      "Two sided: Ttest_indResult(statistic=-0.4587068783046131, pvalue=0.6466790570879457)\n",
      "Greater: Ttest_indResult(statistic=-0.4587068783046131, pvalue=0.6766604714560271)\n",
      "Less: Ttest_indResult(statistic=-0.4587068783046131, pvalue=0.32333952854397285)\n"
     ]
    }
   ],
   "source": [
    "print('Marvel-Tenet')\n",
    "print('Two sided: {}'.format(ss.ttest_ind(Marvel,Tenet,equal_var=False,alternative=\"two-sided\")))\n",
    "print('Greater: {}'.format(ss.ttest_ind(Marvel,Tenet,equal_var=False,alternative=\"greater\")))\n",
    "print('Less: {}'.format(ss.ttest_ind(Marvel,Tenet,equal_var=False,alternative=\"less\")))"
   ]
  },
  {
   "cell_type": "code",
   "execution_count": 64,
   "metadata": {},
   "outputs": [
    {
     "name": "stdout",
     "output_type": "stream",
     "text": [
      "Señor_Anillos-Tenet\n",
      "Two sided: Ttest_indResult(statistic=0.15367699433669477, pvalue=0.8779511914312397)\n",
      "Greater: Ttest_indResult(statistic=0.15367699433669477, pvalue=0.43897559571561984)\n",
      "Less: Ttest_indResult(statistic=0.15367699433669477, pvalue=0.56102440428438)\n"
     ]
    }
   ],
   "source": [
    "print('Señor_Anillos-Tenet')\n",
    "print('Two sided: {}'.format(ss.ttest_ind(Senor_Anillos,Tenet,equal_var=False,alternative=\"two-sided\")))\n",
    "print('Greater: {}'.format(ss.ttest_ind(Senor_Anillos,Tenet,equal_var=False,alternative=\"greater\")))\n",
    "print('Less: {}'.format(ss.ttest_ind(Senor_Anillos,Tenet,equal_var=False,alternative=\"less\")))"
   ]
  },
  {
   "attachments": {},
   "cell_type": "markdown",
   "metadata": {},
   "source": [
    "### solucion\n",
    "\n",
    "\n",
    "* hacer parejas\n",
    "    * sin repeticion o misma   \n",
    "    \n",
    "* test independiente, no estan relacionadas las variables\n",
    "\n",
    "* pvalor>0.05 no se acepta\n",
    "* si pvalor < 0.05>\n",
    "\n",
    "### especificaciones\n",
    "\n",
    "* lista vacia para guardar parejas\n"
   ]
  },
  {
   "cell_type": "code",
   "execution_count": 66,
   "metadata": {},
   "outputs": [
    {
     "data": {
      "text/plain": [
       "['IJ', 'Bat', 'Marvel', 'Senor_Anillos', 'Tenet']"
      ]
     },
     "execution_count": 66,
     "metadata": {},
     "output_type": "execute_result"
    }
   ],
   "source": [
    "Peliculas"
   ]
  },
  {
   "cell_type": "code",
   "execution_count": 67,
   "metadata": {},
   "outputs": [],
   "source": [
    "# parejas\n",
    "\n",
    "#Peliculas=['IJ', 'Bat', 'Marvel', 'Senor_Anillos', 'Tenet']\n",
    "\n",
    "parejas=[]\n",
    "\n",
    "for x in range(4):\n",
    "    for y in range(x+1,5):\n",
    "        parejas.append((Peliculas[x],Peliculas[y]))"
   ]
  },
  {
   "cell_type": "code",
   "execution_count": 68,
   "metadata": {},
   "outputs": [
    {
     "data": {
      "text/plain": [
       "[('IJ', 'Bat'),\n",
       " ('IJ', 'Marvel'),\n",
       " ('IJ', 'Senor_Anillos'),\n",
       " ('IJ', 'Tenet'),\n",
       " ('Bat', 'Marvel'),\n",
       " ('Bat', 'Senor_Anillos'),\n",
       " ('Bat', 'Tenet'),\n",
       " ('Marvel', 'Senor_Anillos'),\n",
       " ('Marvel', 'Tenet'),\n",
       " ('Senor_Anillos', 'Tenet')]"
      ]
     },
     "execution_count": 68,
     "metadata": {},
     "output_type": "execute_result"
    }
   ],
   "source": [
    "parejas"
   ]
  },
  {
   "cell_type": "code",
   "execution_count": 74,
   "metadata": {},
   "outputs": [
    {
     "data": {
      "text/plain": [
       "10"
      ]
     },
     "execution_count": 74,
     "metadata": {},
     "output_type": "execute_result"
    }
   ],
   "source": [
    "len(parejas)"
   ]
  },
  {
   "cell_type": "code",
   "execution_count": 79,
   "metadata": {},
   "outputs": [
    {
     "name": "stdout",
     "output_type": "stream",
     "text": [
      "IJ - Bat\n",
      "IJ - Marvel\n",
      "IJ - Senor_Anillos\n",
      "IJ - Tenet\n"
     ]
    }
   ],
   "source": [
    "# ttest_ind devuelve un array, con estadistico y pvalor\n",
    "# ss.ttest_ind(...)[0] -> primer valor del array, estadístico\n",
    "# ss.ttest_ind(...)[1] -> segundo valor del array, pvalor\n",
    "\n",
    "\n",
    "for peli1, peli2 in parejas:\n",
    "   estadistico,pvalor=ss.ttest_ind(voto_Edad[grupos[peli1]], \n",
    "                 voto_Edad[grupos[peli2]],\n",
    "                equal_var=False )\n",
    "   \n",
    "   if pvalor<0.05:\n",
    "      print(peli1,'-',peli2)"
   ]
  },
  {
   "cell_type": "code",
   "execution_count": 80,
   "metadata": {},
   "outputs": [],
   "source": [
    "# hay otra manera para no tener que hacer las parejas\n",
    "\n",
    "# MULTICOMPARACION\n",
    "\n",
    "from statsmodels.stats.multicomp import pairwise_tukeyhsd"
   ]
  },
  {
   "cell_type": "code",
   "execution_count": 83,
   "metadata": {},
   "outputs": [],
   "source": [
    "tukey=pairwise_tukeyhsd(voto_Edad, pelicula_vista, alpha=0.05)"
   ]
  },
  {
   "cell_type": "code",
   "execution_count": 84,
   "metadata": {},
   "outputs": [
    {
     "data": {
      "text/html": [
       "<table class=\"simpletable\">\n",
       "<caption>Multiple Comparison of Means - Tukey HSD, FWER=0.05</caption>\n",
       "<tr>\n",
       "     <th>group1</th>        <th>group2</th>     <th>meandiff</th>  <th>p-adj</th>   <th>lower</th>    <th>upper</th>  <th>reject</th>\n",
       "</tr>\n",
       "<tr>\n",
       "       <td>Bat</td>           <td>IJ</td>        <td>19.3946</td>   <td>0.0</td>   <td>17.5673</td>  <td>21.2219</td>  <td>True</td> \n",
       "</tr>\n",
       "<tr>\n",
       "       <td>Bat</td>         <td>Marvel</td>      <td>0.4308</td>  <td>0.9141</td>  <td>-0.9511</td>  <td>1.8128</td>   <td>False</td>\n",
       "</tr>\n",
       "<tr>\n",
       "       <td>Bat</td>      <td>Senor_Anillos</td>  <td>0.7097</td>  <td>0.6721</td>  <td>-0.7478</td>  <td>2.1671</td>   <td>False</td>\n",
       "</tr>\n",
       "<tr>\n",
       "       <td>Bat</td>          <td>Tenet</td>      <td>0.6394</td>  <td>0.6011</td>  <td>-0.573</td>   <td>1.8518</td>   <td>False</td>\n",
       "</tr>\n",
       "<tr>\n",
       "       <td>IJ</td>          <td>Marvel</td>     <td>-18.9638</td>   <td>0.0</td>  <td>-20.8078</td> <td>-17.1198</td>  <td>True</td> \n",
       "</tr>\n",
       "<tr>\n",
       "       <td>IJ</td>       <td>Senor_Anillos</td> <td>-18.6849</td>   <td>0.0</td>  <td>-20.5861</td> <td>-16.7837</td>  <td>True</td> \n",
       "</tr>\n",
       "<tr>\n",
       "       <td>IJ</td>           <td>Tenet</td>     <td>-18.7552</td>   <td>0.0</td>  <td>-20.4758</td> <td>-17.0347</td>  <td>True</td> \n",
       "</tr>\n",
       "<tr>\n",
       "     <td>Marvel</td>     <td>Senor_Anillos</td>  <td>0.2788</td>  <td>0.9858</td>  <td>-1.1995</td>  <td>1.7572</td>   <td>False</td>\n",
       "</tr>\n",
       "<tr>\n",
       "     <td>Marvel</td>         <td>Tenet</td>      <td>0.2085</td>  <td>0.9907</td>  <td>-1.0289</td>   <td>1.446</td>   <td>False</td>\n",
       "</tr>\n",
       "<tr>\n",
       "  <td>Senor_Anillos</td>     <td>Tenet</td>      <td>-0.0703</td> <td>0.9999</td>  <td>-1.3915</td>  <td>1.2509</td>   <td>False</td>\n",
       "</tr>\n",
       "</table>"
      ],
      "text/latex": [
       "\\begin{center}\n",
       "\\begin{tabular}{ccccccc}\n",
       "\\toprule\n",
       "\\textbf{group1} & \\textbf{group2} & \\textbf{meandiff} & \\textbf{p-adj} & \\textbf{lower} & \\textbf{upper} & \\textbf{reject}  \\\\\n",
       "\\midrule\n",
       "      Bat       &        IJ       &      19.3946      &      0.0       &    17.5673     &    21.2219     &       True       \\\\\n",
       "      Bat       &      Marvel     &       0.4308      &     0.9141     &    -0.9511     &     1.8128     &      False       \\\\\n",
       "      Bat       &  Senor\\_Anillos &       0.7097      &     0.6721     &    -0.7478     &     2.1671     &      False       \\\\\n",
       "      Bat       &      Tenet      &       0.6394      &     0.6011     &     -0.573     &     1.8518     &      False       \\\\\n",
       "       IJ       &      Marvel     &      -18.9638     &      0.0       &    -20.8078    &    -17.1198    &       True       \\\\\n",
       "       IJ       &  Senor\\_Anillos &      -18.6849     &      0.0       &    -20.5861    &    -16.7837    &       True       \\\\\n",
       "       IJ       &      Tenet      &      -18.7552     &      0.0       &    -20.4758    &    -17.0347    &       True       \\\\\n",
       "     Marvel     &  Senor\\_Anillos &       0.2788      &     0.9858     &    -1.1995     &     1.7572     &      False       \\\\\n",
       "     Marvel     &      Tenet      &       0.2085      &     0.9907     &    -1.0289     &     1.446      &      False       \\\\\n",
       " Senor\\_Anillos &      Tenet      &      -0.0703      &     0.9999     &    -1.3915     &     1.2509     &      False       \\\\\n",
       "\\bottomrule\n",
       "\\end{tabular}\n",
       "%\\caption{Multiple Comparison of Means - Tukey HSD, FWER=0.05}\n",
       "\\end{center}"
      ],
      "text/plain": [
       "<class 'statsmodels.iolib.table.SimpleTable'>"
      ]
     },
     "execution_count": 84,
     "metadata": {},
     "output_type": "execute_result"
    }
   ],
   "source": [
    "tukey.summary()\n",
    "\n",
    "#si reject = False, se acepta la hipotesis nula"
   ]
  },
  {
   "cell_type": "code",
   "execution_count": 85,
   "metadata": {},
   "outputs": [
    {
     "data": {
      "image/png": "[encoded data removed]",
      "text/plain": [
       "<Figure size 1000x600 with 1 Axes>"
      ]
     },
     "execution_count": 85,
     "metadata": {},
     "output_type": "execute_result"
    },
    {
     "data": {
      "image/png": "[encoded data removed]",
      "text/plain": [
       "<Figure size 1000x600 with 1 Axes>"
      ]
     },
     "metadata": {},
     "output_type": "display_data"
    }
   ],
   "source": [
    "tukey.plot_simultaneous()"
   ]
  }
 ],
 "metadata": {
  "kernelspec": {
   "display_name": "base",
   "language": "python",
   "name": "python3"
  },
  "language_info": {
   "codemirror_mode": {
    "name": "ipython",
    "version": 3
   },
   "file_extension": ".py",
   "mimetype": "text/x-python",
   "name": "python",
   "nbconvert_exporter": "python",
   "pygments_lexer": "ipython3",
   "version": "3.9.5"
  },
  "orig_nbformat": 4
 },
 "nbformat": 4,
 "nbformat_minor": 2
}
