{
 "cells": [
  {
   "attachments": {},
   "cell_type": "markdown",
   "metadata": {},
   "source": [
    "# Distribución de Dados Cargados\n",
    "\n",
    "¿Qué pasa si no podemos observar un solo rollo? ¿Qué pasa si los dados se lanzan, en este caso, en conjuntos de 10 a la vez, y todo lo que tenemos es el total? ¡La distribución de un `10d6` no es trivial!\n",
    "\n",
    "De hecho, probablemente sea más fácil calcular esta distribución numéricamente que hacerlo analíticamente.\n",
    "\n",
    "****\n",
    "\n",
    "**¿Qué sucede si no conocemos la distribución analítica?**\n",
    "\n",
    "Aquí veremos brevemente la prueba de Kolmogorov-Smirnov. Pero tenga en cuenta que está diseñado para distribuciones *continuas*, lo estoy usando en una discreta simplemente para que sea similar a los ejemplos anteriores, pero no haría esto si quisiera tener confianza en los resultados. De hecho, la razón por la que usamos 10 dados sumados es para hacer que nuestra distribución discreta sea lo suficientemente continua."
   ]
  },
  {
   "cell_type": "code",
   "execution_count": null,
   "metadata": {},
   "outputs": [],
   "source": [
    "import numpy as np\n",
    "import matplotlib.pyplot as plt\n",
    "\n",
    "rolls_obs = np.loadtxt(\"loaded_many_100.txt\")\n",
    "unicos, recuento_obs = np.unique(rolls_obs, return_counts=True)\n",
    "recuento_obs = recuento_obs / recuento_obs.sum()  "
   ]
  },
  {
   "cell_type": "code",
   "execution_count": null,
   "metadata": {},
   "outputs": [],
   "source": [
    "rolls_real = np.random.randint(low=1, high=7, size=(500000, 10)).sum(axis=1)\n",
    "unicos2, recuento_real = np.unique(rolls_real, return_counts=True)\n",
    "recuento_real = recuento_real / recuento_real.sum()  # Noramlise"
   ]
  },
  {
   "cell_type": "code",
   "execution_count": null,
   "metadata": {
    "scrolled": false
   },
   "outputs": [],
   "source": [
    "plt.plot(unicos, recuento_obs, label=\"Datos\")\n",
    "plt.plot(unicos2, recuento_real, label=\"Justo\")\n",
    "plt.legend()\n",
    "plt.legend(loc=2);"
   ]
  },
  {
   "attachments": {},
   "cell_type": "markdown",
   "metadata": {},
   "source": [
    "Esto se ve muy desordenado. Entonces, aquí hay un primer consejo cuando compara distribuciones. Si compara el PDF, tiene que agrupar los resultados y es difícil obtener información a menos que tenga *muchos* datos.\n",
    "\n",
    "En su lugar, trace la CDF. Ya no necesita almacenar los datos."
   ]
  },
  {
   "cell_type": "code",
   "execution_count": null,
   "metadata": {},
   "outputs": [],
   "source": [
    "cdf_obs = recuento_obs.cumsum()\n",
    "cdf_real = recuento_real.cumsum()\n",
    "plt.plot(unicos, cdf_obs, label=\"Datos\")\n",
    "plt.plot(unicos2, cdf_real, label=\"Justos\")\n",
    "plt.legend(loc=2);"
   ]
  },
  {
   "cell_type": "code",
   "execution_count": null,
   "metadata": {},
   "outputs": [],
   "source": [
    "from scipy.stats import ks_2samp\n",
    "statistic, pvalue = ks_2samp(rolls_obs, rolls_real)\n",
    "print(f\"El estadístico KS test es de {statistic:.3f}, p-valor de {pvalue:.3f}\")"
   ]
  },
  {
   "attachments": {},
   "cell_type": "markdown",
   "metadata": {},
   "source": [
    "# Test Anderson-Darling\n",
    "\n",
    "Una mejora en la prueba KS que da más peso a las colas de la distribución (mientras que la prueba K-S da más peso en el centro). La prueba predeterminada requiere pruebas con distribuciones analíticas (como la prueba KS); sin embargo, también puede probar dos distribuciones observadas."
   ]
  },
  {
   "cell_type": "code",
   "execution_count": null,
   "metadata": {},
   "outputs": [],
   "source": [
    "from scipy.stats import anderson_ksamp\n",
    "statistic, critical_values, sig_level = anderson_ksamp([rolls_obs, rolls_real])\n",
    "print(f\"El estadístico del AD test {statistic:.5f}, Nivel de significación de {sig_level:.9f}\")\n",
    "print(f\"Valores críticos del Test son {critical_values}\")\n",
    "print(\"Sig-nivel análogo al valor p, y los valores críticos son [25%, 10%, 5%, 2.5%, 1%]\")"
   ]
  }
 ],
 "metadata": {
  "kernelspec": {
   "display_name": "Python 3",
   "language": "python",
   "name": "python3"
  },
  "language_info": {
   "codemirror_mode": {
    "name": "ipython",
    "version": 3
   },
   "file_extension": ".py",
   "mimetype": "text/x-python",
   "name": "python",
   "nbconvert_exporter": "python",
   "pygments_lexer": "ipython3",
   "version": "3.6.8"
  }
 },
 "nbformat": 4,
 "nbformat_minor": 2
}
