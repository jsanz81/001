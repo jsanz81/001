{
 "cells": [
  {
   "cell_type": "code",
   "execution_count": null,
   "id": "d5ecc635",
   "metadata": {},
   "outputs": [],
   "source": [
    "import numpy as np"
   ]
  },
  {
   "cell_type": "code",
   "execution_count": null,
   "id": "f72d9191",
   "metadata": {},
   "outputs": [],
   "source": [
    "v=[1,2,3,4]\n",
    "v1=np.array([1,2,3,4])"
   ]
  },
  {
   "cell_type": "code",
   "execution_count": null,
   "id": "dba71e2a",
   "metadata": {},
   "outputs": [],
   "source": [
    "v.shape"
   ]
  },
  {
   "cell_type": "code",
   "execution_count": null,
   "id": "68142af5",
   "metadata": {},
   "outputs": [],
   "source": [
    "v1.shape"
   ]
  },
  {
   "cell_type": "code",
   "execution_count": null,
   "id": "35475f81",
   "metadata": {},
   "outputs": [],
   "source": [
    "M=np.array([[1,2],[2,4]])"
   ]
  },
  {
   "cell_type": "code",
   "execution_count": null,
   "id": "123c0de4",
   "metadata": {},
   "outputs": [],
   "source": [
    "print(M)"
   ]
  },
  {
   "cell_type": "code",
   "execution_count": null,
   "id": "15ff2263",
   "metadata": {},
   "outputs": [],
   "source": [
    "np.shape(M)"
   ]
  },
  {
   "cell_type": "code",
   "execution_count": null,
   "id": "fccfaff6",
   "metadata": {},
   "outputs": [],
   "source": [
    "M.shape"
   ]
  },
  {
   "attachments": {},
   "cell_type": "markdown",
   "id": "9d8ca57f",
   "metadata": {},
   "source": [
    "$\\begin{pmatrix}\n",
    "1&2&3\\\\\n",
    "4&5&6\n",
    "\\end{pmatrix}\n",
    "$"
   ]
  },
  {
   "cell_type": "code",
   "execution_count": null,
   "id": "288a9684",
   "metadata": {},
   "outputs": [],
   "source": [
    "M1=np.array([[1,2,3],[4,5,6]])"
   ]
  },
  {
   "cell_type": "code",
   "execution_count": null,
   "id": "b62a6171",
   "metadata": {},
   "outputs": [],
   "source": [
    "np.shape(M1)"
   ]
  },
  {
   "cell_type": "code",
   "execution_count": null,
   "id": "ccda7357",
   "metadata": {},
   "outputs": [],
   "source": [
    "print(\"El número de filas es {0} el número de columnas es {1}\".format(np.shape(M1)[0],np.shape(M1)[1]))"
   ]
  },
  {
   "cell_type": "code",
   "execution_count": null,
   "id": "890b7447",
   "metadata": {},
   "outputs": [],
   "source": [
    "M1[0,1]"
   ]
  },
  {
   "attachments": {},
   "cell_type": "markdown",
   "id": "18fc691b",
   "metadata": {},
   "source": [
    "Práctica 1\n",
    "* filas van a ser el penultimo número de tu DNI/NIE\n",
    "\n",
    "* columas van a ser el segundo número de tu DNI/NIE\n",
    "\n",
    "* rellenaremos esa matriz con ceros"
   ]
  },
  {
   "cell_type": "code",
   "execution_count": null,
   "id": "ba23022d",
   "metadata": {},
   "outputs": [],
   "source": [
    "np.empty([5,4])"
   ]
  },
  {
   "cell_type": "code",
   "execution_count": null,
   "id": "48b20b21",
   "metadata": {},
   "outputs": [],
   "source": [
    "np.zeros([5,4])"
   ]
  },
  {
   "cell_type": "code",
   "execution_count": null,
   "id": "f5505eb2",
   "metadata": {},
   "outputs": [],
   "source": [
    "np.ones([5,4])"
   ]
  },
  {
   "cell_type": "code",
   "execution_count": null,
   "id": "e9df4efb",
   "metadata": {},
   "outputs": [],
   "source": [
    "## Matriz Identidad\n",
    "### I_5\n",
    "np.eye(5)"
   ]
  },
  {
   "cell_type": "code",
   "execution_count": null,
   "id": "1f145c67",
   "metadata": {},
   "outputs": [],
   "source": [
    "# A*I=A=I*A"
   ]
  },
  {
   "cell_type": "code",
   "execution_count": null,
   "id": "37f9b379",
   "metadata": {},
   "outputs": [],
   "source": [
    "A=np.array([[0,1,2,3,4],[5,6,7,8,9]])"
   ]
  },
  {
   "cell_type": "code",
   "execution_count": null,
   "id": "8788b11e",
   "metadata": {},
   "outputs": [],
   "source": [
    "np.shape(A)"
   ]
  },
  {
   "cell_type": "code",
   "execution_count": null,
   "id": "2c41a713",
   "metadata": {},
   "outputs": [],
   "source": [
    "B=np.array([1,2,3,4])"
   ]
  },
  {
   "cell_type": "code",
   "execution_count": null,
   "id": "846754a4",
   "metadata": {},
   "outputs": [],
   "source": [
    "### Sumar y restar"
   ]
  },
  {
   "cell_type": "code",
   "execution_count": null,
   "id": "afeb9f78",
   "metadata": {},
   "outputs": [],
   "source": [
    "A+B"
   ]
  },
  {
   "cell_type": "code",
   "execution_count": null,
   "id": "c4ebf7d4",
   "metadata": {},
   "outputs": [],
   "source": [
    "C=np.array([5,6,7,8])"
   ]
  },
  {
   "cell_type": "code",
   "execution_count": null,
   "id": "b410f837",
   "metadata": {},
   "outputs": [],
   "source": [
    "B+C"
   ]
  },
  {
   "cell_type": "code",
   "execution_count": null,
   "id": "0a3d0f6f",
   "metadata": {},
   "outputs": [],
   "source": [
    "C+B"
   ]
  },
  {
   "cell_type": "code",
   "execution_count": null,
   "id": "b2eedd02",
   "metadata": {},
   "outputs": [],
   "source": [
    "C+B==B+C"
   ]
  },
  {
   "cell_type": "code",
   "execution_count": null,
   "id": "7273e5b6",
   "metadata": {},
   "outputs": [],
   "source": [
    "C-B"
   ]
  },
  {
   "cell_type": "code",
   "execution_count": null,
   "id": "4f1aa4c1",
   "metadata": {},
   "outputs": [],
   "source": [
    "B-C"
   ]
  },
  {
   "cell_type": "code",
   "execution_count": null,
   "id": "949bfe29",
   "metadata": {},
   "outputs": [],
   "source": [
    "D=np.array([[5,6,7,8,9],[0,1,2,3,4]])"
   ]
  },
  {
   "cell_type": "code",
   "execution_count": null,
   "id": "9a3551a7",
   "metadata": {},
   "outputs": [],
   "source": [
    "A+D"
   ]
  },
  {
   "cell_type": "code",
   "execution_count": null,
   "id": "c8395923",
   "metadata": {},
   "outputs": [],
   "source": [
    "A-D"
   ]
  },
  {
   "cell_type": "code",
   "execution_count": null,
   "id": "fe8ebfa3",
   "metadata": {},
   "outputs": [],
   "source": [
    "A*C"
   ]
  },
  {
   "cell_type": "code",
   "execution_count": null,
   "id": "4ce97d95",
   "metadata": {},
   "outputs": [],
   "source": [
    "B*C"
   ]
  },
  {
   "cell_type": "code",
   "execution_count": null,
   "id": "498bd071",
   "metadata": {},
   "outputs": [],
   "source": [
    "B"
   ]
  },
  {
   "cell_type": "code",
   "execution_count": null,
   "id": "4983f10e",
   "metadata": {},
   "outputs": [],
   "source": [
    "C"
   ]
  },
  {
   "cell_type": "code",
   "execution_count": null,
   "id": "bfc10ab8",
   "metadata": {},
   "outputs": [],
   "source": [
    "A*D"
   ]
  },
  {
   "cell_type": "code",
   "execution_count": null,
   "id": "6ebed255",
   "metadata": {},
   "outputs": [],
   "source": [
    "A/D"
   ]
  },
  {
   "attachments": {},
   "cell_type": "markdown",
   "id": "86e31010",
   "metadata": {},
   "source": [
    "$A=\\begin{pmatrix}\n",
    "1 & 2 \\\\\n",
    "9 & 4 \n",
    "\\end{pmatrix}$\n",
    "\n",
    "$B=\\begin{pmatrix}\n",
    "3 & 5 \\\\\n",
    "7 & 6 \n",
    "\\end{pmatrix}$\n",
    "\n",
    "$A_{n\\times m}$\n",
    "$B_{m \\times p}$\n",
    "\n",
    "$\\begin{pmatrix}\n",
    "1 & 2 \\\\\n",
    "9 & 4 \n",
    "\\end{pmatrix} \\times \\begin{pmatrix}\n",
    "3 & 5 \\\\\n",
    "7 & 6 \n",
    "\\end{pmatrix}$"
   ]
  },
  {
   "attachments": {},
   "cell_type": "markdown",
   "id": "6ef6bc82",
   "metadata": {},
   "source": [
    "$\\begin{pmatrix}\n",
    "1 & 2 \\\\\n",
    "9 & 4 \n",
    "\\end{pmatrix} \\times \\begin{pmatrix}\n",
    "3 & 5 \\\\\n",
    "7 & 6 \n",
    "\\end{pmatrix} = \n",
    "\\begin{pmatrix}\n",
    "1\\times 3 + 2 \\times 7 & 1 \\times 5 + 2\\times 6 \\\\\n",
    " 9\\times 3 + 4 \\times 7 & 9 \\times 5 + 4\\times 6\n",
    "\\end{pmatrix}\n",
    "$"
   ]
  },
  {
   "cell_type": "code",
   "execution_count": null,
   "id": "054e9f72",
   "metadata": {},
   "outputs": [],
   "source": [
    "A @ D"
   ]
  },
  {
   "cell_type": "code",
   "execution_count": null,
   "id": "b8770cfe",
   "metadata": {},
   "outputs": [],
   "source": [
    "A.shape"
   ]
  },
  {
   "cell_type": "code",
   "execution_count": null,
   "id": "e07dbeaf",
   "metadata": {},
   "outputs": [],
   "source": [
    "D.shape"
   ]
  },
  {
   "cell_type": "code",
   "execution_count": null,
   "id": "4f5433cd",
   "metadata": {},
   "outputs": [],
   "source": [
    "D"
   ]
  },
  {
   "cell_type": "code",
   "execution_count": null,
   "id": "4adacf34",
   "metadata": {},
   "outputs": [],
   "source": [
    "D.T"
   ]
  },
  {
   "cell_type": "code",
   "execution_count": null,
   "id": "ea5d43e8",
   "metadata": {},
   "outputs": [],
   "source": [
    "A@D.T"
   ]
  },
  {
   "cell_type": "code",
   "execution_count": null,
   "id": "1678b0c7",
   "metadata": {},
   "outputs": [],
   "source": [
    "D.T@A"
   ]
  },
  {
   "cell_type": "code",
   "execution_count": null,
   "id": "d0365bca",
   "metadata": {},
   "outputs": [],
   "source": [
    "A*D"
   ]
  },
  {
   "cell_type": "code",
   "execution_count": null,
   "id": "ec3b9b82",
   "metadata": {},
   "outputs": [],
   "source": [
    "A/D"
   ]
  },
  {
   "attachments": {},
   "cell_type": "markdown",
   "id": "0db6b4ef",
   "metadata": {},
   "source": [
    "$A^{-1}$"
   ]
  },
  {
   "attachments": {},
   "cell_type": "markdown",
   "id": "6339f670",
   "metadata": {},
   "source": [
    "$y=A \\times x$\n",
    "\n",
    "$y/A=x$\n",
    "\n",
    "$ A^{-1}\\times y = x $\n"
   ]
  },
  {
   "attachments": {},
   "cell_type": "markdown",
   "id": "2690b1ef",
   "metadata": {},
   "source": [
    "$A \\times B = I = B \\times A$"
   ]
  },
  {
   "cell_type": "code",
   "execution_count": null,
   "id": "d1d8fe87",
   "metadata": {},
   "outputs": [],
   "source": [
    "np.invert(A)"
   ]
  },
  {
   "cell_type": "code",
   "execution_count": null,
   "id": "fb1c263c",
   "metadata": {},
   "outputs": [],
   "source": [
    "A"
   ]
  },
  {
   "cell_type": "code",
   "execution_count": null,
   "id": "c8e9ea3e",
   "metadata": {},
   "outputs": [],
   "source": [
    "np.linalg.inv(A)"
   ]
  },
  {
   "cell_type": "code",
   "execution_count": null,
   "id": "7683bb64",
   "metadata": {},
   "outputs": [],
   "source": [
    "np.linalg.inv(A@D.T)"
   ]
  },
  {
   "cell_type": "code",
   "execution_count": null,
   "id": "a00339d0",
   "metadata": {},
   "outputs": [],
   "source": [
    "np.linalg.inv(A@D.T)@(A@D.T)"
   ]
  },
  {
   "attachments": {},
   "cell_type": "markdown",
   "id": "bd598139",
   "metadata": {},
   "source": [
    "Ejemplo 2\n",
    "\n",
    "En una granja hay gallinas y cerdos\n",
    "si cuento las patas hay 120 patas\n",
    "si cuento las cabezas 50 cabezas"
   ]
  },
  {
   "attachments": {},
   "cell_type": "markdown",
   "id": "a42a92f6",
   "metadata": {},
   "source": [
    "2 G + 4 C = 120\n",
    "\n",
    "G+C=50"
   ]
  },
  {
   "attachments": {},
   "cell_type": "markdown",
   "id": "a9d577f5",
   "metadata": {},
   "source": [
    "$\\begin{pmatrix}\n",
    "2 G + 4C \\\\\n",
    "G+C\n",
    "\\end{pmatrix} = \\begin{pmatrix} 120 \\\\ 50 \\end{pmatrix}$"
   ]
  },
  {
   "attachments": {},
   "cell_type": "markdown",
   "id": "8d253e2b",
   "metadata": {},
   "source": [
    "$\\begin{pmatrix}\n",
    "2 & 4  \\\\\n",
    "1 & 1\n",
    "\\end{pmatrix} \\begin{pmatrix} G \\\\ C \\end{pmatrix} = \\begin{pmatrix} 120 \\\\ 50 \\end{pmatrix}$"
   ]
  },
  {
   "attachments": {},
   "cell_type": "markdown",
   "id": "ed0b0ee6",
   "metadata": {},
   "source": [
    "$ \\begin{pmatrix} G \\\\ C \\end{pmatrix} = \\begin{pmatrix}\n",
    "2 & 4  \\\\\n",
    "1 & 1\n",
    "\\end{pmatrix}^{-1} \\begin{pmatrix} 120 \\\\ 50 \\end{pmatrix}$"
   ]
  },
  {
   "cell_type": "code",
   "execution_count": null,
   "id": "f47f186d",
   "metadata": {},
   "outputs": [],
   "source": [
    "A=np.array([[2,4],[1,1]])"
   ]
  },
  {
   "cell_type": "code",
   "execution_count": null,
   "id": "72e3d2bc",
   "metadata": {},
   "outputs": [],
   "source": [
    "np.linalg.inv(A)"
   ]
  },
  {
   "cell_type": "code",
   "execution_count": null,
   "id": "5e14e3ef",
   "metadata": {},
   "outputs": [],
   "source": [
    "np.linalg.inv(A)@np.array([120,50])"
   ]
  },
  {
   "cell_type": "code",
   "execution_count": null,
   "id": "a31fb31a",
   "metadata": {},
   "outputs": [],
   "source": [
    "np.linalg.inv(A)@np.array([120,51])"
   ]
  },
  {
   "cell_type": "code",
   "execution_count": null,
   "id": "12616a7c",
   "metadata": {},
   "outputs": [],
   "source": [
    "B=np.array([[2,4],[1,2]])"
   ]
  },
  {
   "cell_type": "code",
   "execution_count": null,
   "id": "5f5a6b23",
   "metadata": {},
   "outputs": [],
   "source": [
    "np.linalg.inv(B)@np.array([120,50])"
   ]
  },
  {
   "cell_type": "code",
   "execution_count": null,
   "id": "42d1e9d9",
   "metadata": {},
   "outputs": [],
   "source": [
    "B"
   ]
  },
  {
   "attachments": {},
   "cell_type": "markdown",
   "id": "bce623d1",
   "metadata": {},
   "source": [
    "* SCD $\\to$ Sistema Compatible Determinado $\\to$ el sistema tiene unica solución\n",
    "* SCI $\\to$ Sistema Compatible Indeterminado $\\to$ el sistema tiene infinita soluciones\n",
    "* SI $\\to$ Sistema Incompatible  $\\to$ No tiene solución"
   ]
  },
  {
   "cell_type": "code",
   "execution_count": null,
   "id": "97247258",
   "metadata": {},
   "outputs": [],
   "source": [
    "np.linalg.solve(A,np.array([120,50]))"
   ]
  },
  {
   "cell_type": "code",
   "execution_count": null,
   "id": "c7703209",
   "metadata": {},
   "outputs": [],
   "source": [
    "np.linalg.solve(B,np.array([120,50]))"
   ]
  },
  {
   "cell_type": "code",
   "execution_count": null,
   "id": "5fd68a13",
   "metadata": {},
   "outputs": [],
   "source": [
    "A.dtype"
   ]
  },
  {
   "cell_type": "code",
   "execution_count": null,
   "id": "88565a50",
   "metadata": {},
   "outputs": [],
   "source": [
    "A"
   ]
  },
  {
   "cell_type": "code",
   "execution_count": null,
   "id": "045d4de6",
   "metadata": {},
   "outputs": [],
   "source": [
    "2*A"
   ]
  },
  {
   "cell_type": "code",
   "execution_count": null,
   "id": "e6ad8cf6",
   "metadata": {},
   "outputs": [],
   "source": [
    "A/2"
   ]
  },
  {
   "cell_type": "code",
   "execution_count": null,
   "id": "ea8e2da3",
   "metadata": {},
   "outputs": [],
   "source": [
    "0.5*A"
   ]
  },
  {
   "attachments": {},
   "cell_type": "markdown",
   "id": "e3bf7cdb",
   "metadata": {},
   "source": [
    "## Ejercicio 4\n",
    "Resolver el sistema y que muestre por pantalla las soluciones al sistema\n",
    "\n",
    "$x-3y+2z-w=6$\n",
    "\n",
    "$2x-4y+5z+2w=13$\n",
    "\n",
    "$-x+3y-z+3w=-23$\n",
    "\n",
    "$3x+2y-z-w=6$\n",
    "\n",
    "x=?? y=?? z=?? w=??"
   ]
  },
  {
   "cell_type": "code",
   "execution_count": null,
   "id": "cd7fa47d",
   "metadata": {},
   "outputs": [],
   "source": []
  }
 ],
 "metadata": {
  "kernelspec": {
   "display_name": "Python 3 (ipykernel)",
   "language": "python",
   "name": "python3"
  },
  "language_info": {
   "codemirror_mode": {
    "name": "ipython",
    "version": 3
   },
   "file_extension": ".py",
   "mimetype": "text/x-python",
   "name": "python",
   "nbconvert_exporter": "python",
   "pygments_lexer": "ipython3",
   "version": "3.9.12"
  }
 },
 "nbformat": 4,
 "nbformat_minor": 5
}
