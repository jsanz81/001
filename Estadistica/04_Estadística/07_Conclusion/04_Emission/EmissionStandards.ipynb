{
 "cells": [
  {
   "attachments": {},
   "cell_type": "markdown",
   "metadata": {},
   "source": [
    "# Estándares de emisión\n",
    "\n",
    "Los vehículos nuevos tienen que pasar los estándares de emisión, que se han ido ajustando constantemente. Su trabajo es tomar el informe de prueba y determinar si el vehículo pasa o no la prueba, y con qué confianza.\n",
    "\n",
    "Usaremos los últimos requisitos de emisiones de Australia [aquí] (https://infrastructure.gov.au/vehicles/environment/emission/files/Emission_Standards_for_Petrol_Cars.pdf).\n",
    "\n",
    "Dice que el contenido máximo de CO es de 1,0 g/kg. Las muestras de datos de emisiones se encuentran en `emission_small.txt` y `emission_large.txt`. Analizaremos ambos conjuntos de datos de forma independiente."
   ]
  },
  {
   "cell_type": "code",
   "execution_count": null,
   "metadata": {},
   "outputs": [],
   "source": [
    "import numpy as np\n",
    "import matplotlib.pyplot as plt\n",
    "from scipy.stats import t, norm\n",
    "data_small = np.loadtxt(\"emission_small.txt\")\n",
    "data_large = np.loadtxt(\"emission_large.txt\")\n",
    "standard = 1"
   ]
  },
  {
   "cell_type": "code",
   "execution_count": null,
   "metadata": {},
   "outputs": [],
   "source": [
    "# Remember, always visualise your data\n",
    "plt.hist(data_small, bins=200, label=\"Pequeño\")\n",
    "plt.hist(data_large, bins=20, histtype=\"step\", label=\"Grandes\")\n",
    "plt.axvline(standard, label=\"Estandar\")\n",
    "plt.legend(loc=2);"
   ]
  },
  {
   "attachments": {},
   "cell_type": "markdown",
   "metadata": {},
   "source": [
    "# Usando el Dataset Pequeño\n",
    "\n",
    "Como se supone que estas observaciones son representativas de un valor verdadero subyacente con incertidumbre, normalmente podemos aproximar la distribución de observables como normal. Sin embargo, debido a que tenemos estadísticas bajas (10 observaciones), deberíamos usar la distribución t de Student con 10 grados de libertad."
   ]
  },
  {
   "cell_type": "code",
   "execution_count": null,
   "metadata": {},
   "outputs": [],
   "source": [
    "mean, std = data_small.mean(), data_small.std() / np.sqrt(data_small.size)\n",
    "xs = np.linspace(0.5, 1.4, 200)\n",
    "ps = t.pdf(xs, 10, mean, std)\n",
    "prob_fail = t.sf(standard, 10, mean, std)\n",
    "print(f\"Hay un {100 * prob_fail:.2f}% psobilidad que el vehículo no pase el test de emisiones\")"
   ]
  },
  {
   "cell_type": "code",
   "execution_count": null,
   "metadata": {},
   "outputs": [],
   "source": [
    "# Let's visualise again\n",
    "plt.hist(data_small, bins=200, label=\"Pequeño\")\n",
    "plt.plot(xs, ps, label=\"Confianza de media\")\n",
    "plt.axvline(1, ls=\":\", label=\"Estandar\")\n",
    "plt.fill_between(xs, ps, 0, where=xs>=standard, alpha=0.2, color='r', label=\"P(fallar)\")\n",
    "plt.legend(loc=2);"
   ]
  },
  {
   "attachments": {},
   "cell_type": "markdown",
   "metadata": {},
   "source": [
    "¡Esto no es bueno para la empresa! Por el momento, **no** confiamos en que su nuevo vehículo cumpla con el estándar de emisiones. Deberíamos pedir más datos. Podemos rechazar la hipótesis de que tenemos confianza en que su vehículo pasa el estándar.\n",
    "\n",
    "### Gran conjunto de datos\n",
    "\n",
    "Con el conjunto de datos más grande, tenemos suficientes puntos que podemos usar la aproximación normal (a medida que aumentan los grados de libertad, Student-T se acerca a una normal). >30 puntos de datos es una buena estimación."
   ]
  },
  {
   "cell_type": "code",
   "execution_count": null,
   "metadata": {},
   "outputs": [],
   "source": [
    "mean, std = data_large.mean(), data_large.std() / np.sqrt(data_large.size)\n",
    "xs = np.linspace(0.5, 1.4, 200)\n",
    "ps = norm.pdf(xs, mean, std)\n",
    "prob_pass = norm.cdf(standard, mean, std)\n",
    "print(f\"Hay un {100 * prob_pass:.1f}% posibilidade que el vehículo pase el test de emisión\")\n",
    "\n",
    "# Let's visualise again\n",
    "plt.hist(data_large, bins=15, histtype=\"step\", density=True, label=\"Grande\")\n",
    "plt.plot(xs, ps, label=\"Confianza de media\")\n",
    "plt.plot(xs, norm.pdf(xs, mean, data_large.std()), label=\"Dist de observacion\")\n",
    "plt.axvline(1, ls=\":\", label=\"Standar\")\n",
    "plt.fill_between(xs, ps, 0, where=xs>=standard, alpha=0.2, color='r', label=\"P(fallar)\")\n",
    "plt.legend(loc=2)\n",
    "plt.xlabel(\"Emision\");"
   ]
  }
 ],
 "metadata": {
  "kernelspec": {
   "display_name": "Python 3",
   "language": "python",
   "name": "python3"
  },
  "language_info": {
   "codemirror_mode": {
    "name": "ipython",
    "version": 3
   },
   "file_extension": ".py",
   "mimetype": "text/x-python",
   "name": "python",
   "nbconvert_exporter": "python",
   "pygments_lexer": "ipython3",
   "version": "3.7.3"
  }
 },
 "nbformat": 4,
 "nbformat_minor": 2
}
