{
 "cells": [
  {
   "attachments": {},
   "cell_type": "markdown",
   "metadata": {},
   "source": [
    "Este es un ejercicio de **¡qué no hacer!**\n",
    "\n",
    "# El impactante caso de la comida basura y el acné\n",
    "\n",
    "Se le ha pedido que investigue un vínculo entre la comida basura y el acné.\n",
    "\n",
    "Se le ha proporcionado un conjunto de datos, `junkfood.csv`, que contiene varias columnas. Primero, una columna numérica que representa un valor autoinformado de 0 a 10 de \"¿Qué tan grave es el acné que presenta?\", siendo 0 nada y 10 siempre presente y grave. Luego hay una columna que describe su contribución más significativa a la comida chatarra (es decir, comen chocolate, beben refrescos u otra cosa con más frecuencia), y la tercera columna detalla una estimación de cuántas veces al mes comen comida chatarra."
   ]
  },
  {
   "cell_type": "code",
   "execution_count": 11,
   "metadata": {},
   "outputs": [
    {
     "data": {
      "text/html": [
       "<div>\n",
       "<style scoped>\n",
       "    .dataframe tbody tr th:only-of-type {\n",
       "        vertical-align: middle;\n",
       "    }\n",
       "\n",
       "    .dataframe tbody tr th {\n",
       "        vertical-align: top;\n",
       "    }\n",
       "\n",
       "    .dataframe thead th {\n",
       "        text-align: right;\n",
       "    }\n",
       "</style>\n",
       "<table border=\"1\" class=\"dataframe\">\n",
       "  <thead>\n",
       "    <tr style=\"text-align: right;\">\n",
       "      <th></th>\n",
       "      <th>Acne</th>\n",
       "      <th>Food</th>\n",
       "      <th>Frequency</th>\n",
       "    </tr>\n",
       "  </thead>\n",
       "  <tbody>\n",
       "    <tr>\n",
       "      <th>0</th>\n",
       "      <td>5</td>\n",
       "      <td>Burgers</td>\n",
       "      <td>21</td>\n",
       "    </tr>\n",
       "    <tr>\n",
       "      <th>1</th>\n",
       "      <td>6</td>\n",
       "      <td>Chocolate</td>\n",
       "      <td>26</td>\n",
       "    </tr>\n",
       "    <tr>\n",
       "      <th>2</th>\n",
       "      <td>5</td>\n",
       "      <td>Ice cream</td>\n",
       "      <td>17</td>\n",
       "    </tr>\n",
       "    <tr>\n",
       "      <th>3</th>\n",
       "      <td>1</td>\n",
       "      <td>Ice cream</td>\n",
       "      <td>1</td>\n",
       "    </tr>\n",
       "    <tr>\n",
       "      <th>4</th>\n",
       "      <td>0</td>\n",
       "      <td>Cake</td>\n",
       "      <td>2</td>\n",
       "    </tr>\n",
       "  </tbody>\n",
       "</table>\n",
       "</div>"
      ],
      "text/plain": [
       "   Acne       Food  Frequency\n",
       "0     5    Burgers         21\n",
       "1     6  Chocolate         26\n",
       "2     5  Ice cream         17\n",
       "3     1  Ice cream          1\n",
       "4     0       Cake          2"
      ]
     },
     "execution_count": 11,
     "metadata": {},
     "output_type": "execute_result"
    }
   ],
   "source": [
    "import pandas as pd\n",
    "import matplotlib.pyplot as plt\n",
    "\n",
    "df = pd.read_csv(\"junkfood.csv\")\n",
    "df.head()"
   ]
  },
  {
   "attachments": {},
   "cell_type": "markdown",
   "metadata": {},
   "source": [
    "Busquemos un enlace global"
   ]
  },
  {
   "cell_type": "code",
   "execution_count": 12,
   "metadata": {},
   "outputs": [
    {
     "data": {
      "text/html": [
       "<div>\n",
       "<style scoped>\n",
       "    .dataframe tbody tr th:only-of-type {\n",
       "        vertical-align: middle;\n",
       "    }\n",
       "\n",
       "    .dataframe tbody tr th {\n",
       "        vertical-align: top;\n",
       "    }\n",
       "\n",
       "    .dataframe thead th {\n",
       "        text-align: right;\n",
       "    }\n",
       "</style>\n",
       "<table border=\"1\" class=\"dataframe\">\n",
       "  <thead>\n",
       "    <tr style=\"text-align: right;\">\n",
       "      <th></th>\n",
       "      <th>Acne</th>\n",
       "      <th>Frequency</th>\n",
       "    </tr>\n",
       "  </thead>\n",
       "  <tbody>\n",
       "    <tr>\n",
       "      <th>Acne</th>\n",
       "      <td>1.000000</td>\n",
       "      <td>0.018163</td>\n",
       "    </tr>\n",
       "    <tr>\n",
       "      <th>Frequency</th>\n",
       "      <td>0.018163</td>\n",
       "      <td>1.000000</td>\n",
       "    </tr>\n",
       "  </tbody>\n",
       "</table>\n",
       "</div>"
      ],
      "text/plain": [
       "               Acne  Frequency\n",
       "Acne       1.000000   0.018163\n",
       "Frequency  0.018163   1.000000"
      ]
     },
     "execution_count": 12,
     "metadata": {},
     "output_type": "execute_result"
    }
   ],
   "source": [
    "df.corr()"
   ]
  },
  {
   "attachments": {},
   "cell_type": "markdown",
   "metadata": {},
   "source": [
    "Parece que hay una pequeña correlación positiva entre la frecuencia de comer comida chatarra y tener acné grave. Veamos un subconjunto para comparar los extremos."
   ]
  },
  {
   "cell_type": "code",
   "execution_count": 13,
   "metadata": {},
   "outputs": [
    {
     "name": "stdout",
     "output_type": "stream",
     "text": [
      "14.5357833655706\n",
      "14.878205128205128\n"
     ]
    }
   ],
   "source": [
    "print(df.loc[df[\"Acne\"] < 3, \"Frequency\"].mean())\n",
    "print(df.loc[df[\"Acne\"] > 7, \"Frequency\"].mean())"
   ]
  },
  {
   "attachments": {},
   "cell_type": "markdown",
   "metadata": {},
   "source": [
    "Sólo parece una pequeña relación.\n",
    "\n",
    "Expresemos un poco mejor la hipótesis nula.\n",
    "\n",
    "Hipótesis nula: *La frecuencia de la comida chatarra no causa (correlaciona) con el acné.*\n",
    "\n",
    "Para probar esto, podemos usar la prueba de correlación de Pearson en scipy."
   ]
  },
  {
   "cell_type": "code",
   "execution_count": 14,
   "metadata": {},
   "outputs": [
    {
     "name": "stdout",
     "output_type": "stream",
     "text": [
      "Correlation is 0.018, with p-value of 0.5662\n"
     ]
    }
   ],
   "source": [
    "from scipy.stats import pearsonr\n",
    "correlacion, pvalue = pearsonr(df[\"Acne\"], df[\"Frequency\"])\n",
    "print(f\"Correlacion es {correlacion:.3f}, con p-value of {pvalue:0.4f}\")"
   ]
  },
  {
   "attachments": {},
   "cell_type": "markdown",
   "metadata": {},
   "source": [
    "No es un valor p significativo, por lo que no podemos rechazar la hipótesis nula.\n",
    "\n",
    "Pero espera, ¿qué pasa si preguntamos si algún alimento está relacionado? Revisemos cada alimento."
   ]
  },
  {
   "cell_type": "code",
   "execution_count": 18,
   "metadata": {},
   "outputs": [
    {
     "name": "stdout",
     "output_type": "stream",
     "text": [
      "No significant correlation for Burgers\n",
      "No significant correlation for Chocolate\n",
      "No significant correlation for Ice cream\n",
      "Significant correlation (pvalue 0.0326) between Cake: 0.229!!\n",
      "No significant correlation for Donuts\n",
      "No significant correlation for Lollies\n",
      "No significant correlation for Pure Sugar\n",
      "No significant correlation for Cheese Pizza\n",
      "No significant correlation for Brownies\n",
      "No significant correlation for Milkshakes\n",
      "No significant correlation for Soft Drink\n"
     ]
    }
   ],
   "source": [
    "Comidas = df[\"Food\"].unique()\n",
    "alpha = 0.05\n",
    "for Comida in Comidas:\n",
    "    df2 = df.loc[df[\"Food\"] == Comida]\n",
    "    correlacion, pvalue = pearsonr(df2[\"Acne\"], df2[\"Frequency\"])\n",
    "    if pvalue < alpha:\n",
    "        print(f\"Correlacion Significativa  (p-valor {pvalue:0.4f}) entre {Comida}: {correlacion:.3f}!!\")\n",
    "    else:\n",
    "        print(f\"Correlacion No Significativa para {Comida}\")"
   ]
  },
  {
   "attachments": {},
   "cell_type": "markdown",
   "metadata": {},
   "source": [
    "**Maldito Pastel!**\n",
    "\n",
    "Esto es simplemente inimaginable. ¿Cómo tomará el mundo esta devastadora noticia?\n",
    "\n",
    "****\n",
    "\n",
    "Correcto, entonces este es un ejemplo de búsqueda de significación. Al profundizar en nuestros datos cuando inicialmente no encontramos resultados y comparar una gran cantidad de hipótesis, eventualmente llamaremos a algo estadísticamente significativo. En este caso, los datos se generaron sin ninguna correlación, esto es solo una fluctuación estadística. Pero en un esfuerzo por encontrar resultados, podríamos publicar un artículo afirmando una correlación estadísticamente significativa entre el pastel y el acné, y luego los medios lo aceptarían, y todo sería ciencia basura.\n",
    "\n",
    "*La moraleja de la historia aquí es que debe elegir su valor de $\\alpha$ (en nuestro caso, 0.05) en función de la cantidad de pruebas para tratar de minimizar los falsos positivos.*\n",
    "\n",
    "*Además*, tenga en cuenta que la próxima vez que vea medios sobre la correlación entre dos cosas, el chocolate y las enfermedades del corazón, el vino y la longevidad, etc., que el hecho de que tenga la fuerza en sus datos para determinar la correlación con la importancia no significa que *cantidad* de correlación es significancia."
   ]
  }
 ],
 "metadata": {
  "kernelspec": {
   "display_name": "Python 3",
   "language": "python",
   "name": "python3"
  },
  "language_info": {
   "codemirror_mode": {
    "name": "ipython",
    "version": 3
   },
   "file_extension": ".py",
   "mimetype": "text/x-python",
   "name": "python",
   "nbconvert_exporter": "python",
   "pygments_lexer": "ipython3",
   "version": "3.7.3"
  }
 },
 "nbformat": 4,
 "nbformat_minor": 2
}
