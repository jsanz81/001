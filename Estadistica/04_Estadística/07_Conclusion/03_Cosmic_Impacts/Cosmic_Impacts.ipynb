{
 "cells": [
  {
   "attachments": {},
   "cell_type": "markdown",
   "metadata": {},
   "source": [
    "# Impactos cósmicos\n",
    "\n",
    "Sin utilizar el aprendizaje automático, debe tratar de caracterizar las detecciones de partículas entrantes como rayos cósmicos (que se originan fuera del sistema solar, a menudo de una supernova distante) o como eyección estelar (partículas expulsadas por el sol).\n",
    "\n",
    "Para esta prueba, solo tiene una partícula para clasificar, que impactó con una energía de 1200 MeV\n",
    "\n",
    "Para ayudarte, tienes un conjunto de datos que contiene eyecta estelar y rayos cósmicos, ubicado en `cosmic_data.txt`. Contiene dos columnas, la primera, la energía del impacto en MeV, y la segunda, la probabilidad de que haya sido por eyección solar.\n",
    "\n",
    "**MeV**: Mega-electronvoltio. Un MeV es un millón de veces un electronvoltio"
   ]
  },
  {
   "cell_type": "code",
   "execution_count": null,
   "metadata": {},
   "outputs": [],
   "source": [
    "import numpy as np\n",
    "import matplotlib.pyplot as plt\n",
    "import scipy.stats as st\n",
    "\n",
    "data = np.loadtxt(\"cosmic_data.txt\")\n",
    "test = 1200\n",
    "print(data.shape)\n",
    "print(data[:2, :])"
   ]
  },
  {
   "cell_type": "code",
   "execution_count": null,
   "metadata": {},
   "outputs": [],
   "source": [
    "stellar, cosmic = data[:, 0][data[:, 1] > 0.5], data[:, 0][data[:, 1] < 0.5]\n",
    "\n",
    "_, bins, _ = plt.hist(data[:, 0], alpha=0.2, label=\"Todo\", bins=50)\n",
    "plt.hist(stellar, bins=bins, histtype=\"step\", label=\"Estelar\")\n",
    "plt.hist(cosmic, bins=bins, histtype=\"step\", label=\"Cósmico\")\n",
    "plt.legend();"
   ]
  },
  {
   "attachments": {},
   "cell_type": "markdown",
   "metadata": {},
   "source": [
    "Esto no se ve muy bien, ¿verdad? Parece que hay dos poblaciones, sin embargo, hay contaminantes. Descartemos algunos de los datos más inciertos."
   ]
  },
  {
   "cell_type": "code",
   "execution_count": null,
   "metadata": {},
   "outputs": [],
   "source": [
    "stellar, cosmic = data[:, 0][data[:, 1] > 0.9], data[:, 0][data[:, 1] < 0.1]\n",
    "n_stellar, n_cosmic = stellar.shape[0], cosmic.shape[0]\n",
    "\n",
    "_, bins, _ = plt.hist(data[:, 0], alpha=0.2, label=\"Todo\", bins=50)\n",
    "plt.hist(stellar, bins=bins, histtype=\"step\", label=\"Estelar\")\n",
    "plt.hist(cosmic, bins=bins, histtype=\"step\", label=\"Cosmico\")\n",
    "plt.legend();"
   ]
  },
  {
   "attachments": {},
   "cell_type": "markdown",
   "metadata": {},
   "source": [
    "Muy bien, parece que hemos eliminado mucha contaminación. Así que ahora intentemos cuantificar cada distribución. En la mayoría de los casos, comience de manera simple y luego agregue complejidad solo cuando sea necesario."
   ]
  },
  {
   "cell_type": "code",
   "execution_count": null,
   "metadata": {
    "scrolled": false
   },
   "outputs": [],
   "source": [
    "# Test Normales\n",
    "params_s = st.norm.fit(stellar)\n",
    "params_c = st.norm.fit(cosmic)\n",
    "\n",
    "# visualizar\n",
    "xs = np.linspace(0, 1500, 200)\n",
    "p_s = st.norm.pdf(xs, *params_s)\n",
    "p_c = st.norm.pdf(xs, *params_c)\n",
    "plt.plot(xs, p_s, label=\"Modelo Estelar\")\n",
    "plt.plot(xs, p_c, label=\"Cosmic Model\")\n",
    "plt.hist(stellar, bins=bins, histtype=\"step\", density=True, label=\"Datos Estelares\")\n",
    "plt.hist(cosmic, bins=bins, histtype=\"step\", density=True, label=\"Datos Cosmicos\")\n",
    "plt.legend()\n",
    "plt.xlabel(\"Energía (MeV)\");"
   ]
  },
  {
   "cell_type": "code",
   "execution_count": null,
   "metadata": {
    "scrolled": false
   },
   "outputs": [],
   "source": [
    "# Test normales\n",
    "params_s = st.lognorm.fit(stellar, loc=400, scale=100)\n",
    "cosmic2 = cosmic[cosmic > 700]\n",
    "params_c = st.lognorm.fit(cosmic2, loc=1300, scale=100)\n",
    "\n",
    "# visualizar\n",
    "xs = np.linspace(0, 1500, 200)\n",
    "p_s = st.lognorm.pdf(xs, *params_s)\n",
    "p_c = st.lognorm.pdf(xs, *params_c)\n",
    "plt.plot(xs, p_s, label=\"Modelo Estelar\")\n",
    "plt.plot(xs, p_c, label=\"Datos Cosmicos\")\n",
    "plt.hist(stellar, bins=bins, histtype=\"step\", density=True, label=\"Modelo Estelar\")\n",
    "plt.hist(cosmic, bins=bins, histtype=\"step\", density=True, label=\"Datos Cosmicos\")\n",
    "plt.axvline(test, ls=\":\", label=\"Test particular\")\n",
    "plt.legend();"
   ]
  },
  {
   "attachments": {},
   "cell_type": "markdown",
   "metadata": {},
   "source": [
    "Ahora, si queremos la probabilidad de que la detección sea de un tipo de partícula u otro, no podemos simplemente tomar una proporción entre los dos, porque eso supondría que obtenemos la misma cantidad de partículas de rayos cósmicos y estelares, que no es verdadero. Parece cierto en el gráfico anterior, porque estamos trazando probabilidades, que están normalizadas a la unidad de área.\n",
    "\n",
    "Tenemos que tener en cuenta las diferentes tasas, así:"
   ]
  },
  {
   "cell_type": "code",
   "execution_count": null,
   "metadata": {},
   "outputs": [],
   "source": [
    "prob_cosmic = st.lognorm.pdf(test, *params_c) * n_cosmic\n",
    "prob_stellar = st.lognorm.pdf(test, *params_s) * n_stellar\n",
    "total_prob = prob_cosmic + prob_stellar\n",
    "\n",
    "final = prob_cosmic / total_prob\n",
    "print(f\"La probabilidad final de que sea un rayo cósmico es {100 * final:.1f}%\")"
   ]
  },
  {
   "attachments": {},
   "cell_type": "markdown",
   "metadata": {},
   "source": [
    "¡Toma esa Machine Learning! ¡No te necesitamos!"
   ]
  }
 ],
 "metadata": {
  "kernelspec": {
   "display_name": "Python 3",
   "language": "python",
   "name": "python3"
  },
  "language_info": {
   "codemirror_mode": {
    "name": "ipython",
    "version": 3
   },
   "file_extension": ".py",
   "mimetype": "text/x-python",
   "name": "python",
   "nbconvert_exporter": "python",
   "pygments_lexer": "ipython3",
   "version": "3.6.8"
  }
 },
 "nbformat": 4,
 "nbformat_minor": 2
}
