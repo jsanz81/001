{
 "cells": [
  {
   "attachments": {},
   "cell_type": "markdown",
   "metadata": {},
   "source": [
    "# Predicting Diabetes\n",
    "\n",
    "`Diabetes.csv` extraido de [Kaggle](https://www.kaggle.com/uciml/pima-indians-diabetes-database). Tenemos varias preguntas: \n",
    "\n",
    "* qué información está más correlacionada con un diagnóstico positivo, y si solo podemos hacerle dos preguntas a un paciente, \n",
    "    + qué deberíamos preguntar \n",
    "    + cómo le daríamos un riesgo de ser diagnosticado.\n",
    "\n",
    "Esta es una base de datos de Machine Learning, y normalmente solo extraeríamos características, alimentaríamos a un algoritmo ML y nos sentaríamos y relajaríamos. Pero nos *ensuciamos* las manos para que puedas aprender más."
   ]
  },
  {
   "cell_type": "code",
   "execution_count": null,
   "metadata": {},
   "outputs": [],
   "source": [
    "import numpy as np\n",
    "import matplotlib.pyplot as plt\n",
    "import pandas as pd\n",
    "df_original = pd.read_csv(\"Diabetes.csv\")\n",
    "df_original.head()"
   ]
  },
  {
   "cell_type": "code",
   "execution_count": null,
   "metadata": {},
   "outputs": [],
   "source": [
    "df = df_original.drop([\"Pregnancies\", \"DiabetesPedigreeFunction\"], axis=1)\n",
    "pd.plotting.scatter_matrix(df, figsize=(6,6), s=2);"
   ]
  },
  {
   "attachments": {},
   "cell_type": "markdown",
   "metadata": {},
   "source": [
    "Primero respondamos la pregunta: *¿Qué información está más correlacionada con la diabetes?*"
   ]
  },
  {
   "cell_type": "code",
   "execution_count": null,
   "metadata": {},
   "outputs": [],
   "source": [
    "df.corr()"
   ]
  },
  {
   "cell_type": "code",
   "execution_count": null,
   "metadata": {},
   "outputs": [],
   "source": [
    "import seaborn as sb\n",
    "sb.heatmap(df.corr(), annot=True, cmap=\"viridis\");"
   ]
  },
  {
   "attachments": {},
   "cell_type": "markdown",
   "metadata": {},
   "source": [
    "De las correlaciones anteriores, un enfoque ingenuo podría ser tomar los principales observables correlacionados y profundizar en ellos. En nuestro caso, Glucosa, IMC y Edad."
   ]
  },
  {
   "cell_type": "code",
   "execution_count": null,
   "metadata": {},
   "outputs": [],
   "source": [
    "df2 = df[[\"Glucose\", \"BMI\", \"Age\", \"Outcome\"]]\n",
    "df2.head()"
   ]
  },
  {
   "cell_type": "code",
   "execution_count": null,
   "metadata": {},
   "outputs": [],
   "source": [
    "pd.plotting.scatter_matrix(df2, s=4);"
   ]
  },
  {
   "attachments": {},
   "cell_type": "markdown",
   "metadata": {},
   "source": [
    "¡Suerte que visualizamos esto! Mire los histogramas de Glucosa e IMC: los picos en cero son indicativos de que el conjunto de datos está usando el valor cero cuando no hay datos. Filtrémoslos. Y también dejemos de lado la edad para mantener esto más corto."
   ]
  },
  {
   "cell_type": "code",
   "execution_count": null,
   "metadata": {},
   "outputs": [],
   "source": [
    "df3 = df2.loc[(df2[\"Glucose\"] > 1) & (df2[\"BMI\"] > 1), [\"Glucose\", \"BMI\", \"Outcome\"]]\n",
    "df3.head()"
   ]
  },
  {
   "cell_type": "code",
   "execution_count": null,
   "metadata": {},
   "outputs": [],
   "source": [
    "df_y = df3.loc[df3[\"Outcome\"] == 1, [\"Glucose\", \"BMI\"]]\n",
    "df_n = df3.loc[df3[\"Outcome\"] == 0, [\"Glucose\", \"BMI\"]]\n",
    "\n",
    "plt.scatter(df_y[\"Glucose\"], df_y[\"BMI\"], c=\"w\", s=1, label=\"Tiene Diabetes\")\n",
    "plt.scatter(df_n[\"Glucose\"], df_n[\"BMI\"], s=1, label=\"No Tiene Diabetes\")\n",
    "plt.legend(loc=2)\n",
    "plt.xlabel(\"Glucose\")\n",
    "plt.ylabel(\"BMI\");"
   ]
  },
  {
   "cell_type": "code",
   "execution_count": null,
   "metadata": {
    "scrolled": false
   },
   "outputs": [],
   "source": [
    "pd.plotting.scatter_matrix(df_y)\n",
    "pd.plotting.scatter_matrix(df_n);"
   ]
  },
  {
   "attachments": {},
   "cell_type": "markdown",
   "metadata": {},
   "source": [
    "Así que no es perfecto, pero probablemente podamos hacer un buen trabajo aproximando ambas distribuciones como gaussianas.\n",
    "\n",
    "Agreguemos también a la mezcla un paciente de prueba que ingresa, con Glucosa de 140 e IMC de 35. ¿Cuál es su probabilidad de ser diagnosticado?"
   ]
  },
  {
   "cell_type": "code",
   "execution_count": null,
   "metadata": {},
   "outputs": [],
   "source": [
    "from scipy.stats import multivariate_normal as mn\n",
    "prob_test = []\n",
    "test_point = [140, 35]\n",
    "x, y = np.meshgrid(np.linspace(50, 200, 20), np.linspace(10, 50, 20), indexing='ij')\n",
    "points = np.dstack((x.flatten(), y.flatten()))"
   ]
  },
  {
   "cell_type": "code",
   "execution_count": null,
   "metadata": {},
   "outputs": [],
   "source": [
    "for d, l in zip([df_y, df_n], [\"Sí\", \"No\"]):\n",
    "    is_yes = l == \"Sí\"\n",
    "    mean = np.mean(d)\n",
    "    cov = np.cov(d, rowvar=0)\n",
    "    probs = mn.pdf(points, mean, cov).reshape(x.shape)\n",
    "    prob_test.append(mn.pdf(test_point, mean, cov))\n",
    "    plt.contour(x, y, probs, \n",
    "                cmap=\"viridis\" if is_yes else \"magma\", \n",
    "                linestyles=\"-\" if is_yes else \"--\")\n",
    "    marker = \".\" if is_yes else \"+\"\n",
    "    color = \"g\" if is_yes else \"y\"\n",
    "    plt.scatter(d[\"Glucose\"], d[\"BMI\"], c=color, marker=marker, s=20, alpha=0.3, label=l)\n",
    "plt.axvline(test_point[0], ls=\":\", lw=1)\n",
    "plt.axhline(test_point[1], ls=\":\", lw=1)\n",
    "plt.legend(loc=2)\n",
    "plt.xlabel(\"Glucose\")\n",
    "plt.ylabel(\"BMI\");"
   ]
  },
  {
   "cell_type": "code",
   "execution_count": null,
   "metadata": {},
   "outputs": [],
   "source": [
    "num_y = df_y.shape[0]\n",
    "num_n = df_n.shape[0]\n",
    "\n",
    "prob_diagnosis = num_y * prob_test[0] / (num_y * prob_test[0] + num_n * prob_test[1])\n",
    "print(f\"La probabilidad de diagnóstico positivo es {100 * prob_diagnosis:.2f}%\")"
   ]
  },
  {
   "attachments": {},
   "cell_type": "markdown",
   "metadata": {},
   "source": [
    "Esto puede parecer extraño. Dado que el paciente de prueba está justo en el máximo de nuestro modelo para los pacientes con diabetes, seguramente debería haber una mayor posibilidad, ¿verdad? ¡No!\n",
    "\n",
    "La razón es que, aunque la probabilidad de distribución es mayor, hay muchos más pacientes sin diabetes que con diabetes. Solo podemos comparar directamente las dos distribuciones si tienen la misma probabilidad (el mismo número de personas con y sin). Este rara vez es el caso, por lo que tenemos que ponderarlos. En una formalización bayesiana, estamos modificando nuestro modelo a priori."
   ]
  }
 ],
 "metadata": {
  "kernelspec": {
   "display_name": "Python 3",
   "language": "python",
   "name": "python3"
  },
  "language_info": {
   "codemirror_mode": {
    "name": "ipython",
    "version": 3
   },
   "file_extension": ".py",
   "mimetype": "text/x-python",
   "name": "python",
   "nbconvert_exporter": "python",
   "pygments_lexer": "ipython3",
   "version": "3.6.8"
  }
 },
 "nbformat": 4,
 "nbformat_minor": 2
}
