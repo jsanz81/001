{
 "cells": [
  {
   "attachments": {},
   "cell_type": "markdown",
   "metadata": {},
   "source": [
    "# Caracterización de distribuciones unidimensionales"
   ]
  },
  {
   "cell_type": "code",
   "execution_count": null,
   "metadata": {},
   "outputs": [],
   "source": [
    "import numpy as np\n",
    "import matplotlib.pyplot as plt\n",
    "import scipy.stats as st"
   ]
  },
  {
   "cell_type": "code",
   "execution_count": null,
   "metadata": {},
   "outputs": [],
   "source": [
    "data = np.loadtxt(\"dataset.txt\")\n",
    "plt.hist(data, bins=50);"
   ]
  },
  {
   "attachments": {},
   "cell_type": "markdown",
   "metadata": {},
   "source": [
    "# Medidas de Centrales\n",
    "\n",
    "### Media\n",
    "\n",
    "Si tenemos un conjunto de puntos N puntos denotados $x_i$, la media se define como\n",
    "\n",
    "$$ \\frac{1}{N} \\sum_{i=1}^N x_i $$\n",
    "\n",
    "Una forma de calcular manualmente la media viene dada por:"
   ]
  },
  {
   "cell_type": "code",
   "execution_count": null,
   "metadata": {},
   "outputs": [],
   "source": [
    "def funcion_media(xs):\n",
    "    sumatoria = 0\n",
    "    for x in xs:\n",
    "        sumatoria += x\n",
    "    return sumatoria / len(xs)\n",
    "print(funcion_media([3, 5, 2, 6]))"
   ]
  },
  {
   "attachments": {},
   "cell_type": "markdown",
   "metadata": {},
   "source": [
    "Pero en esta era moderna no deberíamos tener que escribir la función nosotros mismos. Podemos usar `np.mean`. Si queremos que los puntos de datos tengan diferentes pesos, podemos usar `np.average` en su lugar. (Por ejemplo, el lanzamiento de dados solo puede registrar el valor y la cantidad de veces, no cada lanzamiento individual)."
   ]
  },
  {
   "cell_type": "code",
   "execution_count": null,
   "metadata": {},
   "outputs": [],
   "source": [
    "mean = np.mean(data)\n",
    "print(mean, data.mean(), np.average(data))"
   ]
  },
  {
   "attachments": {},
   "cell_type": "markdown",
   "metadata": {},
   "source": [
    "### Mediana\n",
    "\n",
    "Ordenar todos los datos y escoger el elemento del medio. Esa es la mediana. `[1,3,5,7,7]` tiene una mediana de `5`. Así es como se puede encontrar manualmente la mediana:"
   ]
  },
  {
   "cell_type": "code",
   "execution_count": null,
   "metadata": {},
   "outputs": [],
   "source": [
    "def funcion_mediana(xs):\n",
    "    mediana = len(xs) // 2\n",
    "    if len(xs) % 2 == 1:\n",
    "        return sorted(xs)[mediana]\n",
    "    else:\n",
    "        return 0.5 * np.sum(sorted(xs)[mediana - 1:mediana + 1])\n",
    "print(funcion_mediana([7, 7, 3, 1, 4, 5]))"
   ]
  },
  {
   "attachments": {},
   "cell_type": "markdown",
   "metadata": {},
   "source": [
    "En el caso que hubiera dos valores medianos, se hace la media aritmética entre ambios valores.\n",
    "\n",
    "No uses la función, usa `np.median`"
   ]
  },
  {
   "cell_type": "code",
   "execution_count": null,
   "metadata": {},
   "outputs": [],
   "source": [
    "median = np.median(data)\n",
    "print(median)"
   ]
  },
  {
   "cell_type": "code",
   "execution_count": null,
   "metadata": {},
   "outputs": [],
   "source": [
    "outlier = np.insert(data, 0, 5000)\n",
    "plt.hist(data, label=\"Data\", bins=50);\n",
    "plt.axvline(np.mean(data), ls=\"--\", label=\"Media Datos\")\n",
    "plt.axvline(np.median(data), ls=\":\", label=\"Mediana Datos\")\n",
    "plt.axvline(np.mean(outlier), c='r', ls=\"--\", label=\"Media con Outlier\", alpha=0.7)\n",
    "plt.axvline(np.median(outlier), c='r', ls=\":\", label=\"Mediana con Outlier\", alpha=0.7)\n",
    "plt.legend()\n",
    "plt.xlim(0,20);"
   ]
  },
  {
   "attachments": {},
   "cell_type": "markdown",
   "metadata": {},
   "source": [
    "### Mode"
   ]
  },
  {
   "cell_type": "code",
   "execution_count": null,
   "metadata": {},
   "outputs": [],
   "source": [
    "def obtener_moda(xs):\n",
    "    valores, recuento = np.unique(xs, return_counts=True)\n",
    "    max_recuento_indice = np.argmax(recuento)\n",
    "    return valores[max_recuento_indice]\n",
    "print(obtener_moda([1,7,2,5,3,3,8,3,2]))"
   ]
  },
  {
   "cell_type": "code",
   "execution_count": null,
   "metadata": {},
   "outputs": [],
   "source": [
    "moda = st.mode(data)\n",
    "print(moda)"
   ]
  },
  {
   "cell_type": "code",
   "execution_count": null,
   "metadata": {},
   "outputs": [],
   "source": [
    "hist, bordes = np.histogram(data, bins=100)\n",
    "bordes_centers = 0.5 * (bordes[1:] + bordes[:-1])\n",
    "moda = bordes_centers[hist.argmax()]\n",
    "print(moda)"
   ]
  },
  {
   "cell_type": "code",
   "execution_count": null,
   "metadata": {},
   "outputs": [],
   "source": [
    "kde = st.gaussian_kde(data)\n",
    "xvals = np.linspace(data.min(), data.max(), 1000)\n",
    "yvals = kde(xvals)\n",
    "mode = xvals[yvals.argmax()]\n",
    "plt.hist(data, bins=1000, density=True, label=\"Datos hist\", histtype=\"step\")\n",
    "plt.plot(xvals, yvals, label=\"KDE\")\n",
    "plt.axvline(mode, label=\"Moda\")\n",
    "plt.legend();"
   ]
  },
  {
   "attachments": {},
   "cell_type": "markdown",
   "metadata": {},
   "source": [
    "# Comparación"
   ]
  },
  {
   "cell_type": "code",
   "execution_count": null,
   "metadata": {},
   "outputs": [],
   "source": [
    "plt.hist(data, bins=100, label=\"Datos\", alpha=0.5)\n",
    "plt.axvline(mean, label=\"Media\", ls=\"--\", c='#f9ee4a')\n",
    "plt.axvline(median, label=\"Mediana\", ls=\"-\", c='#44d9ff')\n",
    "plt.axvline(mode, label=\"Moda\", ls=\":\", c='#f95b4a')\n",
    "plt.legend();"
   ]
  },
  {
   "attachments": {},
   "cell_type": "markdown",
   "metadata": {},
   "source": [
    "# Medidas de dispersión y forma\n",
    "\n",
    "* Varianza\n",
    "* Desviación Estándar\n",
    "* asimetría\n",
    "* curtosis\n",
    "\n",
    "### Varianza\n",
    "\n",
    "La varianza de una distribución es una medida de cuánto se dispersa alrededor de la media. Un toque más formal, es el valor esperado de la desviación al cuadrado de la media. Aún más formalmente, está dada por\n",
    "\n",
    "$$ Var = \\frac{1}{N} \\sum_{i=1}^N (x_i - \\mu)^2, $$\n",
    "\n",
    "donde $\\mu$ es la media del conjunto de datos $x$, como se describe en la sección anterior. Tenga en cuenta que hay un punto fino sobre si debe dividir por $N$ o $N-1$. \n",
    "**Eso lo resolveremos cuando debemos inferencia**\n",
    "\n",
    "Aquí hay una forma manual de calcularlo:"
   ]
  },
  {
   "cell_type": "code",
   "execution_count": null,
   "metadata": {},
   "outputs": [],
   "source": [
    "def obtener_varianza(xs):\n",
    "    media = np.mean(xs)\n",
    "    suma = 0\n",
    "    for x in xs:\n",
    "        suma += (x - media)**2\n",
    "    return suma / (len(xs))\n",
    "print(obtener_varianza([1,2,3,4,5]))"
   ]
  },
  {
   "cell_type": "code",
   "execution_count": null,
   "metadata": {},
   "outputs": [],
   "source": [
    "varianza = np.var(data, ddof=1)\n",
    "print(varianza)"
   ]
  },
  {
   "attachments": {},
   "cell_type": "markdown",
   "metadata": {},
   "source": [
    "### Desviación Estandar\n",
    "\n",
    "Este es sencillo. Es la raíz cuadrada de la varianza. Así que es el valor absoluto esperado de la desviación de la media. Y podemos usar `np.std` para ello o `pd.DataFrame.std` ([documentación](https://pandas.pydata.org/pandas-docs/stable/reference/api/pandas.DataFrame.std.html))"
   ]
  },
  {
   "cell_type": "code",
   "execution_count": null,
   "metadata": {},
   "outputs": [],
   "source": [
    "std = np.std(data)\n",
    "print(std, std**2)"
   ]
  },
  {
   "attachments": {},
   "cell_type": "markdown",
   "metadata": {},
   "source": [
    "### Poder combianado"
   ]
  },
  {
   "cell_type": "code",
   "execution_count": null,
   "metadata": {},
   "outputs": [],
   "source": [
    "xs = np.linspace(data.min(), data.max(), 100)\n",
    "ys = st.norm.pdf(xs, loc=mean, scale=std)\n",
    "\n",
    "plt.hist(data, bins=50, density=True, histtype=\"step\", label=\"Datos\")\n",
    "plt.plot(xs, ys, label=\"Aproximación Normal \")\n",
    "plt.legend()\n",
    "plt.ylabel(\"Probabilidad\");"
   ]
  },
  {
   "attachments": {},
   "cell_type": "markdown",
   "metadata": {},
   "source": [
    "### asimetría\n",
    "\n",
    "En esta sección podría dejar caer la palabra \"momento\" unas cuantas veces. Hay algunas formas estandarizadas de cuantificar los \"momentos\". El primer momento es cero por definición. La segunda es la varianza. El tercero es la asimetría, que a menudo se define como $\\gamma_1$\n",
    "\n",
    "$$ \\gamma_1 = \\frac{\\kappa_3}{\\kappa_2^{3/2}} = \\frac{E[(x-\\mu)^3]}{E[(x-\\mu)^2]^{3/2}} $$"
   ]
  },
  {
   "cell_type": "code",
   "execution_count": null,
   "metadata": {},
   "outputs": [],
   "source": [
    "def obtener_asimetria(xs):\n",
    "    media = np.mean(xs)\n",
    "    var = np.var(xs)\n",
    "    suma = 0\n",
    "    for x in xs:\n",
    "        suma += (x - media)**3\n",
    "    return (suma / (len(xs))) / (var ** 1.5)\n",
    "print(obtener_asimetria([1,2,3,4,5]))"
   ]
  },
  {
   "cell_type": "code",
   "execution_count": null,
   "metadata": {},
   "outputs": [],
   "source": [
    "skewness = st.skew(data)\n",
    "print(skewness, obtener_asimetria(data))"
   ]
  },
  {
   "cell_type": "code",
   "execution_count": null,
   "metadata": {
    "scrolled": false
   },
   "outputs": [],
   "source": [
    "xs = np.linspace(data.min(), data.max(), 100)\n",
    "ys1 = st.norm.pdf(xs, loc=mean, scale=std)\n",
    "ys2 = st.skewnorm.pdf(xs, skewness, loc=mean, scale=std)\n",
    "\n",
    "plt.hist(data, bins=50, density=True, histtype=\"step\", label=\"Datos\")\n",
    "plt.plot(xs, ys1, label=\"Aproximación Normal\")\n",
    "plt.plot(xs, ys2, label=\"Aproximación Asimetria Normal\")\n",
    "plt.legend()\n",
    "plt.ylabel(\"Probabilidad\");"
   ]
  },
  {
   "cell_type": "code",
   "execution_count": null,
   "metadata": {},
   "outputs": [],
   "source": [
    "xs = np.linspace(data.min(), data.max(), 100)\n",
    "ys1 = st.norm.pdf(xs, loc=mean, scale=std)\n",
    "ps = st.skewnorm.fit(data)\n",
    "ys2 = st.skewnorm.pdf(xs, *ps)\n",
    "\n",
    "plt.hist(data, bins=50, density=True, histtype=\"step\", label=\"Datos\")\n",
    "plt.plot(xs, ys1, label=\"Aproximación Normal\")\n",
    "plt.plot(xs, ys2, label=\"Aproximación Asimetria Normal\")\n",
    "plt.legend()\n",
    "plt.ylabel(\"Probabilidad\");"
   ]
  },
  {
   "attachments": {},
   "cell_type": "markdown",
   "metadata": {},
   "source": [
    "### Curtosis\n",
    "\n",
    "El siguiente momento, y el último que consideraremos, es la curtosis. Tiene una definición similar y, a menudo, se representa como $\\kappa$ o $\\gamma_2$:\n",
    "\n",
    "$$ \\kappa = \\frac{E[(x-\\mu)^4]}{E[(x-\\mu)^2]^{4/2}} $$"
   ]
  },
  {
   "cell_type": "code",
   "execution_count": null,
   "metadata": {},
   "outputs": [],
   "source": [
    "def obtener_curtosis(xs):\n",
    "    media = np.mean(xs)\n",
    "    var = np.var(xs)\n",
    "    suma = 0\n",
    "    for x in xs:\n",
    "        suma += (x - media)**4\n",
    "    return (suma / (len(xs))) / (var ** 2)\n",
    "print(obtener_curtosis([1,2,3,4,5]))"
   ]
  },
  {
   "cell_type": "code",
   "execution_count": null,
   "metadata": {},
   "outputs": [],
   "source": [
    "curtosis = st.kurtosis(data, fisher=False)\n",
    "print(curtosis, obtener_curtosis(data))"
   ]
  },
  {
   "attachments": {},
   "cell_type": "markdown",
   "metadata": {},
   "source": [
    "### Percentiles"
   ]
  },
  {
   "cell_type": "code",
   "execution_count": null,
   "metadata": {},
   "outputs": [],
   "source": [
    "ps = np.linspace(0, 100, 10)\n",
    "x_p = np.percentile(data, ps)\n",
    "\n",
    "xs = np.sort(data)\n",
    "ys = np.linspace(0, 1, len(data))\n",
    "\n",
    "plt.plot(xs, ys * 100, label=\"ECDF\")\n",
    "plt.plot(x_p, ps, label=\"Percentiles\", marker=\".\", ms=10)\n",
    "plt.legend()\n",
    "plt.ylabel(\"Percentil\");"
   ]
  },
  {
   "cell_type": "code",
   "execution_count": null,
   "metadata": {},
   "outputs": [],
   "source": [
    "ps = 100 * st.norm.cdf(np.linspace(-4, 4, 30))\n",
    "x_p = np.percentile(data, ps)\n",
    "\n",
    "xs = np.sort(data)\n",
    "ys = np.linspace(0, 1, len(data))\n",
    "\n",
    "plt.plot(xs, ys * 100, label=\"ECDF\")\n",
    "plt.plot(x_p, ps, label=\"Percentiles\", marker=\".\", ms=10)\n",
    "plt.legend()\n",
    "plt.ylabel(\"Percentil\");"
   ]
  },
  {
   "cell_type": "code",
   "execution_count": null,
   "metadata": {},
   "outputs": [],
   "source": [
    "ps = 100 * st.norm.cdf(np.linspace(-3, 3, 50))\n",
    "ps = np.concatenate(([0], ps, [100]))  # Hay un error en la forma de inserción de hacerlo, esto es mejor\n",
    "x_p = np.percentile(data, ps)\n",
    "\n",
    "xs = np.sort(data)\n",
    "ys = np.linspace(0, 1, len(data))\n",
    "\n",
    "plt.plot(xs, ys * 100, label=\"ECDF\")\n",
    "plt.plot(x_p, ps, label=\"Percentiles\", marker=\".\", ms=10)\n",
    "plt.legend()\n",
    "plt.ylabel(\"Percentile\");"
   ]
  },
  {
   "cell_type": "code",
   "execution_count": null,
   "metadata": {},
   "outputs": [],
   "source": [
    "from scipy.interpolate import interp1d\n",
    "\n",
    "n = int(1e6)\n",
    "u = np.random.uniform(size=n)\n",
    "muestra_percentile_1 = interp1d(ps / 100, x_p)(u)\n",
    "\n",
    "_, bins, _ = plt.hist(data, bins=50, density=True, alpha=0.3, label=\"Datos\")\n",
    "plt.hist(muestra_percentile_1, bins=bins, density=True, histtype=\"step\", label=\"Percentiles\")\n",
    "plt.ylabel(\"Probability\")\n",
    "plt.legend();"
   ]
  }
 ],
 "metadata": {
  "kernelspec": {
   "display_name": "Python 3",
   "language": "python",
   "name": "python3"
  },
  "language_info": {
   "codemirror_mode": {
    "name": "ipython",
    "version": 3
   },
   "file_extension": ".py",
   "mimetype": "text/x-python",
   "name": "python",
   "nbconvert_exporter": "python",
   "pygments_lexer": "ipython3",
   "version": "3.6.8"
  }
 },
 "nbformat": 4,
 "nbformat_minor": 2
}
