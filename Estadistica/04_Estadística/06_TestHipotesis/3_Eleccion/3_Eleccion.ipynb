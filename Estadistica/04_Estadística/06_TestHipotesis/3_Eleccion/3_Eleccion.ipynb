{
 "cells": [
  {
   "attachments": {},
   "cell_type": "markdown",
   "metadata": {},
   "source": [
    "# Escenario Electoral\n",
    "\n",
    "* El candidato A ganó el estado por un promedio de 4 puntos porcentuales, sin embargo, perdió el Distrito 29 ante el candidato B por un 22 %, lo que lo convierte en un valor atípico significativo.\n",
    "* Los resultados finales para el distrito son 39% Candidato A, 61% Candidato B.\n",
    "* Tiene la tarea de investigar esto para determinar si vale la pena realizar un seguimiento exhaustivo.\n",
    "* Se convoca a un centenar de miembros del público en general que se reportaron como votando. 48 de los 100 reportaron haber votado por el Candidato A.\n",
    "* ¿Qué reportarías?"
   ]
  },
  {
   "cell_type": "code",
   "execution_count": null,
   "metadata": {},
   "outputs": [],
   "source": [
    "import numpy as np\n",
    "import matplotlib.pyplot as plt\n",
    "from scipy.stats import norm"
   ]
  },
  {
   "attachments": {},
   "cell_type": "markdown",
   "metadata": {},
   "source": [
    "Pero, ¿qué pregunta estamos realmente queriendo responder? Quizás este sea uno bueno:\n",
    "\n",
    "*¿Cuál es la probabilidad de que más del Candidato A obtuviera más votos de los informados?*\n",
    "\n",
    "O para decirlo de otra manera:\n",
    "* Hipótesis Nula - 39% de los votos fueron para el Candidato A y 61% para el Candidato B\n",
    "* Hipótesis Alternativa - >39% de los votos fueron para el Candidato A y <61% para el Candidato B"
   ]
  },
  {
   "cell_type": "code",
   "execution_count": null,
   "metadata": {},
   "outputs": [],
   "source": [
    "sigma = np.sqrt(0.39 * 0.61 / 100)\n",
    "reported = 0.39\n",
    "sample = 0.48\n",
    "\n",
    "xs = np.linspace(0, 1, 500)\n",
    "ps = norm.pdf(xs, sample, sigma)\n",
    "plt.plot(xs, ps, label=\"Probabilidad muestral subyacente\")\n",
    "plt.axvline(reported, ls=\"--\", label=\"Proporcion Reportado\")\n",
    "plt.fill_between(xs, ps, 0, alpha=0.2, where=xs>=reported, label=\"prob\")\n",
    "plt.legend();"
   ]
  },
  {
   "attachments": {},
   "cell_type": "markdown",
   "metadata": {},
   "source": [
    "Todo lo que nos dice la trama anterior es que las cosas podrían parecer sospechosas. Pero echemos un vistazo a la CDF para obtener detalles y luego cuantifiquemos la probabilidad."
   ]
  },
  {
   "cell_type": "code",
   "execution_count": null,
   "metadata": {},
   "outputs": [],
   "source": [
    "prob_more = norm.sf(reported, sample, sigma)\n",
    "print(f\"Hay un  {100 * prob_more:.1f}% posibilidad de que el Candidato A hubiera recibido más votos\")"
   ]
  },
  {
   "attachments": {},
   "cell_type": "markdown",
   "metadata": {},
   "source": [
    "Si queremos expresar esto en términos de puntajes z para una prueba de una cola y verificar si tenemos un valor p de <0.05"
   ]
  },
  {
   "cell_type": "code",
   "execution_count": null,
   "metadata": {},
   "outputs": [],
   "source": [
    "z_score = (sample - reported) / sigma\n",
    "z_score_needed_for_significance = norm.ppf(0.95)\n",
    "print(f\"{z_score:.3f} es mayor que {z_score_needed_for_significance:.3f}\")\n",
    "print(f\"Tiene p-value {norm.sf(sample, reported, sigma):.3f}\")"
   ]
  },
  {
   "attachments": {},
   "cell_type": "markdown",
   "metadata": {},
   "source": [
    "Entonces, ¿qué significa esto? Probablemente deberíamos decirles a nuestros supervisores que este es un resultado significativo (p < 0.05) y merece una investigación más profunda.\n",
    "\n",
    "Seguimiento: Qué pasaría si en lugar de preguntar \n",
    "* *¿Cuál es la probabilidad de que más del Candidato A obtuviera más votos de los informados?*, \n",
    "\n",
    "preguntáramos \n",
    "\n",
    "* *¿Cuál es la probabilidad de que más del Candidato A obtuviera una cantidad de votos significativamente diferente a la informada?*\n",
    "\n",
    "Es decir, ¿pasamos ahora del caso de una cola al caso de dos colas? Sigamos asumiendo que alguien ha preguntado si cumple con el criterio de $p = 0.05$"
   ]
  },
  {
   "cell_type": "code",
   "execution_count": null,
   "metadata": {},
   "outputs": [],
   "source": [
    "xs = np.linspace(0, 1, 500)\n",
    "ps = norm.pdf(xs, reported, sigma)\n",
    "\n",
    "plt.plot(xs, ps, label=\"Proporcion incierta\")\n",
    "plt.axvline(sample, ls=\"--\", label=\"Muestra\")\n",
    "limits = norm.ppf([0.025, 0.975], reported, sigma)\n",
    "plt.fill_between(xs, ps, 0, alpha=0.2, where=(xs<limits[0])|(xs>limits[1]), label=\"Significanción\")\n",
    "plt.legend(loc=2)\n",
    "plt.xlim(0.2, 0.65);"
   ]
  },
  {
   "attachments": {},
   "cell_type": "markdown",
   "metadata": {},
   "source": [
    "Entonces parece que no es $p<0.05$ significativo para el caso de dos colas. O más formalmente:"
   ]
  },
  {
   "cell_type": "code",
   "execution_count": null,
   "metadata": {},
   "outputs": [],
   "source": [
    "# Usando z-scores\n",
    "z_score = (sample - reported) / sigma\n",
    "z_score_needed_for_significance = norm.ppf(0.975)\n",
    "print(f\"{z_score:.3f} es menos que {z_score_needed_for_significance:.3f}\")\n",
    "\n",
    "# Usando p-values\n",
    "p_value_two_tailed = 2 * norm.sf(z_score)\n",
    "print(f\"{p_value_two_tailed:.3f} es > 0.05\")"
   ]
  }
 ],
 "metadata": {
  "kernelspec": {
   "display_name": "Python 3",
   "language": "python",
   "name": "python3"
  },
  "language_info": {
   "codemirror_mode": {
    "name": "ipython",
    "version": 3
   },
   "file_extension": ".py",
   "mimetype": "text/x-python",
   "name": "python",
   "nbconvert_exporter": "python",
   "pygments_lexer": "ipython3",
   "version": "3.6.8"
  }
 },
 "nbformat": 4,
 "nbformat_minor": 2
}
