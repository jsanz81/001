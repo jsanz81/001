{
 "cells": [
  {
   "cell_type": "code",
   "execution_count": null,
   "metadata": {},
   "outputs": [],
   "source": [
    "import numpy as np\n",
    "import pandas as pd\n",
    "import matplotlib.pyplot as plt\n",
    "import scipy.stats as stats"
   ]
  },
  {
   "cell_type": "code",
   "execution_count": null,
   "metadata": {},
   "outputs": [],
   "source": [
    "np.random.seed(123)\n",
    "\n",
    "Peliculas =   [\"Memento\",\"Origen\",\"Caballero_Oscuro\",\"Prestige\",\"Dunkerke\"]\n",
    "\n",
    "# Generamos los datos\n",
    "votos_peliculas = np.random.choice(a= Peliculas,\n",
    "                              p = [0.05, 0.2 ,0.35, 0.15, 0.25],\n",
    "                              size=1000)\n",
    "\n",
    "votos_edad = stats.poisson.rvs(loc=18,\n",
    "                              mu=30,\n",
    "                              size=1000)\n",
    "\n",
    "# generamos el dataframe\n",
    "votos_df = pd.DataFrame({\"Peliculas\":votos_peliculas,\"Edad\":votos_edad})\n",
    "groups = votos_df.groupby(\"Peliculas\").groups\n",
    "\n",
    "# Extraemos grupos\n",
    "Memento = votos_edad[groups[\"Memento\"]]\n",
    "Origen = votos_edad[groups[\"Origen\"]]\n",
    "Caballero_Oscuro = votos_edad[groups[\"Caballero_Oscuro\"]]\n",
    "Prestige = votos_edad[groups[\"Prestige\"]]\n",
    "Dunkerke = votos_edad[groups[\"Dunkerke\"]]\n",
    "\n",
    "# ANOVA\n",
    "stats.f_oneway(Dunkerke, Prestige, Caballero_Oscuro, Origen, Memento)"
   ]
  },
  {
   "attachments": {},
   "cell_type": "markdown",
   "metadata": {},
   "source": [
    "parece que no hay diferencia"
   ]
  },
  {
   "cell_type": "code",
   "execution_count": null,
   "metadata": {},
   "outputs": [],
   "source": [
    "import statsmodels.api as sm\n",
    "from statsmodels.formula.api import ols\n",
    "\n",
    "model = ols('Edad ~ Peliculas',                 #  formula\n",
    "            data = votos_df).fit()\n",
    "                \n",
    "anova_result = sm.stats.anova_lm(model, typ=2)\n",
    "print (anova_result)"
   ]
  },
  {
   "cell_type": "code",
   "execution_count": null,
   "metadata": {},
   "outputs": [],
   "source": [
    "# Usaremos una distribución diferente para la edad de la pelicula memento por ser la mas antigua\n",
    "Memento_Edad = stats.poisson.rvs(loc=18, \n",
    "                              mu=32,\n",
    "                              size=1000)\n",
    "\n",
    "votos_edad = stats.poisson.rvs(loc=18,\n",
    "                              mu=30,\n",
    "                              size=1000)\n",
    "\n",
    "votos_edad = np.where(votos_peliculas==\"Memento\", Memento_Edad, votos_edad)\n",
    "\n",
    "# Group age data by race\n",
    "votos_df = pd.DataFrame({\"Peliculas\":votos_peliculas,\"Edad\":votos_edad})\n",
    "groups = votos_df.groupby(\"Peliculas\").groups   \n",
    "\n",
    "# Extract individual groups\n",
    "Memento = votos_edad[groups[\"Memento\"]]\n",
    "Origen = votos_edad[groups[\"Origen\"]]\n",
    "Caballero_Oscuro = votos_edad[groups[\"Caballero_Oscuro\"]]\n",
    "Prestige = votos_edad[groups[\"Prestige\"]]\n",
    "Dunkerke = votos_edad[groups[\"Dunkerke\"]]\n",
    "\n",
    "# Perform the ANOVA\n",
    "stats.f_oneway(Dunkerke, Prestige, Caballero_Oscuro, Origen, Memento)"
   ]
  },
  {
   "cell_type": "code",
   "execution_count": null,
   "metadata": {},
   "outputs": [],
   "source": [
    "# Alternate method\n",
    "model = ols('Edad ~ Peliculas',                 # Model formula\n",
    "            data = votos_df).fit()\n",
    "                \n",
    "anova_result = sm.stats.anova_lm(model, typ=2)\n",
    "print (anova_result)"
   ]
  },
  {
   "cell_type": "code",
   "execution_count": null,
   "metadata": {},
   "outputs": [],
   "source": [
    "# Obtenemos las parejas\n",
    "parejas = []\n",
    "\n",
    "for Pelicula1 in range(4):\n",
    "    for Pelicula2  in range(Pelicula1+1,5):\n",
    "        parejas.append((Peliculas[Pelicula1], Peliculas[Pelicula2]))\n",
    "\n",
    "# Conduct t-test on each pair\n",
    "for Pelicula1, Pelicula2 in parejas: \n",
    "    print(\"\\n\",Pelicula1,\"-VS-\", Pelicula2)\n",
    "    print(stats.ttest_ind(votos_edad[groups[Pelicula1]], \n",
    "                          votos_edad[groups[Pelicula2]]))\n",
    "print(\"------------------------------------------------------------------------------------------\")    \n",
    "for Pelicula1, Pelicula2 in parejas:\n",
    "        stat,p_valor = stats.ttest_ind(votos_edad[groups[Pelicula1]], votos_edad[groups[Pelicula2]])\n",
    "        if p_valor < 0.05:\n",
    "            print(\"\\n\",Pelicula1,\"-VS-\", Pelicula2)"
   ]
  },
  {
   "cell_type": "code",
   "execution_count": null,
   "metadata": {},
   "outputs": [],
   "source": [
    "from statsmodels.stats.multicomp import pairwise_tukeyhsd\n",
    "\n",
    "tukey = pairwise_tukeyhsd(endog=votos_edad,     # Datos\n",
    "                          groups=votos_peliculas,   # Grupos\n",
    "                          alpha=0.05)          # novel de significacion\n",
    "\n",
    "tukey.plot_simultaneous()    # Dibujamos los intervalos de confianza\n",
    "plt.vlines(x=49.2,ymin=-0.5,ymax=4.5, color=\"red\")\n",
    "\n",
    "tukey.summary() "
   ]
  },
  {
   "cell_type": "code",
   "execution_count": null,
   "metadata": {},
   "outputs": [],
   "source": [
    "from matplotlib import pyplot\n",
    "# Función cuadrática.\n",
    "def f1(x):\n",
    "    return (pow(x,-1))\n",
    "# Valores del eje X que toma el gráfico.\n",
    "x = range(-1, 2)\n",
    "# Graficar ambas funciones.\n",
    "pyplot.plot(x, [f1(i) for i in x])\n",
    "#pyplot.plot(x, [f2(i) for i in x])\n",
    "# Establecer el color de los ejes.\n",
    "# pyplot.axhline(0, color=\"black\")\n",
    "#pyplot.axvline(0, color=\"black\")\n",
    "# Limitar los valores de los ejes.\n",
    "pyplot.ylim(-2, 10)\n",
    "pyplot.show()"
   ]
  }
 ],
 "metadata": {
  "kernelspec": {
   "display_name": "Python 3 (ipykernel)",
   "language": "python",
   "name": "python3"
  },
  "language_info": {
   "codemirror_mode": {
    "name": "ipython",
    "version": 3
   },
   "file_extension": ".py",
   "mimetype": "text/x-python",
   "name": "python",
   "nbconvert_exporter": "python",
   "pygments_lexer": "ipython3",
   "version": "3.9.12"
  }
 },
 "nbformat": 4,
 "nbformat_minor": 2
}
