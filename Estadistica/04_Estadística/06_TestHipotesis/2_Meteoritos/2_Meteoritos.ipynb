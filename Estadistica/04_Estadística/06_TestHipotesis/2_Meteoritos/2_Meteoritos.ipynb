{
 "cells": [
  {
   "attachments": {},
   "cell_type": "markdown",
   "metadata": {},
   "source": [
    "# Impacto de Meteorito"
   ]
  },
  {
   "cell_type": "code",
   "execution_count": null,
   "metadata": {},
   "outputs": [],
   "source": [
    "import numpy as np\n",
    "import pandas as pd\n",
    "import matplotlib.pyplot as plt\n",
    "\n",
    "df = pd.read_csv(\"Meteorite_Landings.csv\")\n",
    "df.info()"
   ]
  },
  {
   "cell_type": "code",
   "execution_count": null,
   "metadata": {},
   "outputs": [],
   "source": [
    "df.head()"
   ]
  },
  {
   "attachments": {},
   "cell_type": "markdown",
   "metadata": {},
   "source": [
    "### Investigar y explorar datos"
   ]
  },
  {
   "cell_type": "code",
   "execution_count": null,
   "metadata": {},
   "outputs": [],
   "source": [
    "df2 = df.dropna(subset=[\"mass\", \"year\"])  # Eliminamos valores nan de cada una de esas columnas\n",
    "df2 = df2[df2[\"mass\"] > 0]  # Filtramos por la columna mass sea mayor estricto a cero"
   ]
  },
  {
   "cell_type": "code",
   "execution_count": null,
   "metadata": {},
   "outputs": [],
   "source": [
    "df2.info()"
   ]
  },
  {
   "attachments": {},
   "cell_type": "markdown",
   "metadata": {},
   "source": [
    "Exploremos también los datos visualmente."
   ]
  },
  {
   "cell_type": "code",
   "execution_count": null,
   "metadata": {},
   "outputs": [],
   "source": [
    "pd.plotting.scatter_matrix(df[[\"mass\", \"year\", \"reclat\", \"reclong\"]], figsize=(7,7));"
   ]
  },
  {
   "cell_type": "code",
   "execution_count": null,
   "metadata": {
    "scrolled": false
   },
   "outputs": [],
   "source": [
    "year = df2[\"year\"]\n",
    "masses = df2[\"mass\"]\n",
    "logmass = np.log(masses)\n",
    "plt.hist(logmass, bins=100);"
   ]
  },
  {
   "cell_type": "code",
   "execution_count": null,
   "metadata": {},
   "outputs": [],
   "source": [
    "counts = year.value_counts()\n",
    "plt.scatter(counts.index, counts)\n",
    "plt.xlim(1980, 2020);"
   ]
  },
  {
   "cell_type": "code",
   "execution_count": null,
   "metadata": {},
   "outputs": [],
   "source": [
    "from scipy.stats import norm, skewnorm, lognorm\n",
    "ms = np.linspace(-5, 20, 100)\n",
    "\n",
    "mean, std = logmass.mean(), np.std(logmass)\n",
    "pdf_norm = norm.pdf(ms, mean, std)\n",
    "plt.hist(logmass, bins=100, density=True, alpha=0.5)\n",
    "plt.plot(ms, pdf_norm);"
   ]
  },
  {
   "cell_type": "code",
   "execution_count": null,
   "metadata": {},
   "outputs": [],
   "source": [
    "p_lognorm = lognorm.fit(logmass)\n",
    "pdf_lognorm = lognorm.pdf(ms, *p_lognorm)\n",
    "\n",
    "p_skewnorm = skewnorm.fit(logmass)\n",
    "pdf_skewnorm = skewnorm.pdf(ms, *p_skewnorm)\n",
    "\n",
    "plt.hist(logmass, bins=100, density=True, alpha=0.2, label=\"Datos\")\n",
    "plt.plot(ms, pdf_norm, label=\"Normal\")\n",
    "plt.plot(ms, pdf_lognorm, label=\"Log norm\")\n",
    "plt.plot(ms, pdf_skewnorm, label=\"normal simetrica\");\n",
    "plt.legend()\n",
    "plt.xlabel(\"Log mass\")\n",
    "plt.ylabel(\"Probabilidad\");"
   ]
  },
  {
   "cell_type": "code",
   "execution_count": null,
   "metadata": {},
   "outputs": [],
   "source": [
    "mass_of_doom = np.log((4/3) * np.pi * 500**3 * 1600 * 1000)  # Solo usando una aproximación esférica y algo de densidad promedio (formula del area de una esfera)\n",
    "mass_of_doom"
   ]
  },
  {
   "cell_type": "code",
   "execution_count": null,
   "metadata": {},
   "outputs": [],
   "source": [
    "ms2 = np.linspace(-5, 40, 200)\n",
    "plt.plot(ms2, lognorm.logsf(ms2, *p_lognorm))\n",
    "plt.axvline(mass_of_doom, ls=\"--\")\n",
    "plt.xlabel(\"log mass\")\n",
    "plt.ylabel(\"log probabilidad\")\n",
    "plt.title(\"Log probabilidad de un asteroide con una masa dada\");"
   ]
  },
  {
   "attachments": {},
   "cell_type": "markdown",
   "metadata": {},
   "source": [
    "Así que aquí tenemos la probabilidad de que un asteroide esté por encima de cierta masa cuando golpee la Tierra. Pero para responder a la pregunta \"¿Cuál es la probabilidad de que uno o más asteroides de gran masa golpeen la Tierra en 1000 años?\" tenemos que tener en cuenta el componente de tiempo real. Supongamos que en los próximos 1000 años, predecimos que habrá impactos de $N$.\n",
    "\n",
    "$$P(>=1\\ {\\rm altamasa}) = 1 - P(0\\ {\\rm altamasa}) = 1 - P(N\\ {\\rm no\\_altamasa}) = 1 - P({\\rm no\\_alta masa})^N$$\n",
    "\n",
    "Imagine una pregunta similar: Probabilidad de no obtener seises en 5 tiradas. Bueno, es \n",
    "$$\\frac{5}{6}\\times\\frac{5}{6}\\times\\frac{5}{6}\\times\\frac{5}{6}\\times\\frac{5}{ 6} = \\left(\\frac{5}{6}\\right)^5 $$\n",
    "La probabilidad de obtener uno o más seises es entonces $1 - (5/6)^5$.\n",
    "\n",
    "Entonces, para dar un número, necesitamos calcular $N$ a partir de la tasa anual, la cantidad de años y nuestra eficiencia de detección y usar eso con la probabilidad de que cualquier impacto dado no sea de gran masa."
   ]
  },
  {
   "cell_type": "code",
   "execution_count": null,
   "metadata": {},
   "outputs": [],
   "source": [
    "prob_small_mass = lognorm.logcdf(mass_of_doom, *p_lognorm)\n",
    "frac_sky_monitored = 0.2\n",
    "num_years = 1000\n",
    "num_events = num_years * counts.max() / frac_sky_monitored\n",
    "prob_bad = 1 - np.exp(num_events * prob_small_mass)\n",
    "print(f\"Prob un impacto de asteroide >1km con {num_years} años es {prob_bad * 100:.2f}%\")"
   ]
  }
 ],
 "metadata": {
  "kernelspec": {
   "display_name": "Python 3",
   "language": "python",
   "name": "python3"
  },
  "language_info": {
   "codemirror_mode": {
    "name": "ipython",
    "version": 3
   },
   "file_extension": ".py",
   "mimetype": "text/x-python",
   "name": "python",
   "nbconvert_exporter": "python",
   "pygments_lexer": "ipython3",
   "version": "3.6.8"
  }
 },
 "nbformat": 4,
 "nbformat_minor": 2
}
