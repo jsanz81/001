{
 "cells": [
  {
   "attachments": {},
   "cell_type": "markdown",
   "metadata": {},
   "source": [
    "# Dado Cargado\n",
    "\n",
    "Daniel parece estar ganando muchas partidas. Al ser *Data Scientist junior*  tienes muchas *sospechosas* de sus amados dados \n",
    "\n",
    "<div align=\"center\">\n",
    "    <img width=\"250\" height=\"250\" src=\"https://photos.demandstudios.com/getty/article/244/134/200325635-001.jpg\" alt=\"dados\">\n",
    "</div>\n",
    " \n",
    "Así que has estado registrando el resultado de cada lanzamiento, y están en `loaded_500.txt`.\n",
    "\n",
    "Hay que responder la pregunta más simple que surge: ¿*Daniel* está sacando demasiados seises?\n",
    "\n",
    "Respondamos la pregunta con rigor.\n",
    "\n",
    "1. Visualiza los datos. Asegúrate de que lo entendamos.\n",
    "2. Reducir o cuantificar los datos\n",
    "3. Plantear nuestra hipótesis (y visualizar)\n",
    "4. Calcular"
   ]
  },
  {
   "cell_type": "code",
   "execution_count": null,
   "metadata": {},
   "outputs": [],
   "source": [
    "import numpy as np\n",
    "import matplotlib.pyplot as plt\n",
    "data = np.loadtxt(\"loaded_500.txt\")"
   ]
  },
  {
   "attachments": {},
   "cell_type": "markdown",
   "metadata": {},
   "source": [
    "### Visualización"
   ]
  },
  {
   "cell_type": "code",
   "execution_count": null,
   "metadata": {},
   "outputs": [],
   "source": [
    "unique, counts = np.unique(data, return_counts=True)\n",
    "print(unique, counts)\n",
    "plt.hist(data, bins=20);"
   ]
  },
  {
   "attachments": {},
   "cell_type": "markdown",
   "metadata": {},
   "source": [
    "### Reducir o cuantificar datos"
   ]
  },
  {
   "cell_type": "code",
   "execution_count": null,
   "metadata": {},
   "outputs": [],
   "source": [
    "num_seis = (data == 6).sum()\n",
    "num_total = data.size"
   ]
  },
  {
   "attachments": {},
   "cell_type": "markdown",
   "metadata": {},
   "source": [
    "### Plantear nuestra Hipótesis"
   ]
  },
  {
   "cell_type": "code",
   "execution_count": null,
   "metadata": {},
   "outputs": [],
   "source": [
    "from scipy.stats import binom\n",
    "n = np.arange(num_total)\n",
    "prob_n = binom.pmf(n, num_total, 1/6)\n",
    "plt.plot(n, prob_n, label=\"Prob num\")\n",
    "plt.axvline(num_total / 6, ls=\"--\", lw=1, label=\"Media num\")\n",
    "plt.axvline(num_seis, ls=\":\", color=\"#ff7272\", label=\"Obs num\")\n",
    "plt.xlabel(f\"Num seis obtenidos {num_total} lanzamientos\")\n",
    "plt.ylabel(\"Probabilidad\")\n",
    "plt.legend();"
   ]
  },
  {
   "cell_type": "code",
   "execution_count": null,
   "metadata": {},
   "outputs": [],
   "source": [
    "d = binom(num_total, 1/6)\n",
    "plt.plot(n, d.sf(n))\n",
    "plt.axvline(num_seis, ls=\"--\")\n",
    "sf = d.sf(num_seis)\n",
    "plt.axhline(sf, ls=\"--\")\n",
    "plt.xlabel(\"Num sixes\")\n",
    "plt.ylabel(\"SF\");\n",
    "print(f\"Solo {sf * 100:.1f}% de las veces con un dado justo se obtendrían tantos seis o más\")"
   ]
  }
 ],
 "metadata": {
  "kernelspec": {
   "display_name": "Python 3",
   "language": "python",
   "name": "python3"
  },
  "language_info": {
   "codemirror_mode": {
    "name": "ipython",
    "version": 3
   },
   "file_extension": ".py",
   "mimetype": "text/x-python",
   "name": "python",
   "nbconvert_exporter": "python",
   "pygments_lexer": "ipython3",
   "version": "3.6.8"
  }
 },
 "nbformat": 4,
 "nbformat_minor": 2
}
