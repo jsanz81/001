{
 "cells": [
  {
   "attachments": {},
   "cell_type": "markdown",
   "metadata": {},
   "source": [
    "# Contrastes de hipótesis en Python\n",
    "Librerias que vamos a utilziar "
   ]
  },
  {
   "cell_type": "code",
   "execution_count": null,
   "metadata": {},
   "outputs": [],
   "source": [
    "import statsmodels.api as sm\n",
    "import numpy as np\n",
    "import matplotlib.pyplot as plt\n",
    "import statistics as st\n",
    "import pandas as pd\n",
    "import os.path\n",
    "##Incluir la ruta donde teneis los fichero\n",
    "ruta= \"./Datos/\""
   ]
  },
  {
   "attachments": {},
   "cell_type": "markdown",
   "metadata": {},
   "source": [
    "## Contrastes para la proporción poblacional $p$\n",
    "\n",
    "### Contrastes de una muestra\n",
    "\n",
    "$$\n",
    "\\left\\{\n",
    "\\begin{array}{ll}\n",
    "H_0: & p = 0.52 \\\\\n",
    "H_1: & p > 0.52\n",
    "\\end{array}\n",
    "\\right.\n",
    "$$\n",
    "\n",
    "- 1018 personas encuestadas\n",
    "- 570 personas que creen que el problema de insomnio de sus hijos son las redes sociales y uso de dispositivos electrónicos"
   ]
  },
  {
   "cell_type": "code",
   "execution_count": null,
   "metadata": {},
   "outputs": [],
   "source": [
    "n = 1018\n",
    "x = 570\n",
    "p_null = 0.52\n",
    "p_hat = x/n\n",
    "print(\"p_hat = {ph}\".format(ph=p_hat))\n"
   ]
  },
  {
   "attachments": {},
   "cell_type": "markdown",
   "metadata": {},
   "source": [
    "Para hacer un contraste de una proporción, se utiliza de `sm.stats`"
   ]
  },
  {
   "cell_type": "code",
   "execution_count": null,
   "metadata": {},
   "outputs": [],
   "source": [
    "ht = sm.stats.proportions_ztest(x, n, p_null, alternative = 'larger')\n",
    "print(\"El estadístico de contraste es {ec} y su p-valor es {pv}\".format(ec=ht[0], pv=ht[1]))\n"
   ]
  },
  {
   "attachments": {},
   "cell_type": "markdown",
   "metadata": {},
   "source": [
    "### Contrastes de dos muestras\n",
    "\n",
    "$$\n",
    "\\left\\{\n",
    "\\begin{array}{ll}\n",
    "H_0: & p_1 - p_2 = 0 \\\\\n",
    "H_1: & p_1 - p_2 \\neq 0\n",
    "\\end{array}\n",
    "\\right.\n",
    "$$\n",
    "donde $p_1$ es la proporción de analistas que prefieren R y $p_2$ proporción de analistas que prefieren Python.\n",
    "\n",
    "- 247 analistas, 36.8% prefieren R\n",
    "- 308 analistas, 38.9% prefieren Python"
   ]
  },
  {
   "cell_type": "code",
   "execution_count": null,
   "metadata": {},
   "outputs": [],
   "source": [
    "n1 = 247\n",
    "p1 = .368\n",
    "\n",
    "n2 = 308\n",
    "p2 = .389\n",
    "\n",
    "\n",
    "population1 = np.random.binomial(1, p1, n1)\n",
    "population2 = np.random.binomial(1, p2, n2)\n",
    "\n",
    "print(population1)\n",
    "print(population2)"
   ]
  },
  {
   "cell_type": "code",
   "execution_count": null,
   "metadata": {},
   "outputs": [],
   "source": [
    "from scipy import stats\n",
    "t_test, p_value =stats.ttest_ind(population1, population2)\n",
    "if p_value < 0.05:\n",
    "    print(\"Rechazamos la hipótesis nula\")\n",
    "else:\n",
    "    print(\"Se acepta la hipótesis nula\")"
   ]
  },
  {
   "attachments": {},
   "cell_type": "markdown",
   "metadata": {},
   "source": [
    "## Contrastes para la media poblacional $\\mu$\n",
    "\n",
    "### Contrastes de una muestra\n",
    "#### Ejemplo 1"
   ]
  },
  {
   "cell_type": "code",
   "execution_count": null,
   "metadata": {},
   "outputs": [],
   "source": [
    "data = [80.57, 98.96, 85.28, 83.83, 69.94, 89.59, 91.09, 66.25, 91.21, 82.7 , 73.54, 81.99, 54.01, 82.89, 75.88, 98.32, 107.2 , 85.53, 79.08, 84.3 , 89.32, 86.35, 78.98, 92.26, 87.01]"
   ]
  },
  {
   "attachments": {},
   "cell_type": "markdown",
   "metadata": {},
   "source": [
    "$$\n",
    "\\left\\{\n",
    "\\begin{array}{ll}\n",
    "H_0: & \\mu = 80 \\\\\n",
    "H_1: & \\mu > 80\n",
    "\\end{array}\n",
    "\\right.\n",
    "$$\n",
    "donde $\\mu$ representa la media de los saltos de la competición."
   ]
  },
  {
   "cell_type": "code",
   "execution_count": null,
   "metadata": {},
   "outputs": [],
   "source": [
    "n = len(data)\n",
    "x_bar = st.mean(data)\n",
    "s_tilde = st.stdev(data)\n",
    "print(\"El tamaño de la muestra es {n}, la media muestral es {x_bar} y la desviación muestral {s_tilde}\".format(n=n, x_bar = x_bar, s_tilde = s_tilde))\n",
    "if n>30:\n",
    "    sm.stats.ztest(data, value = 80, alternative= \"larger\")\n",
    "else:\n",
    "    stat, p_valor=stats.ttest_1samp(a= data,               # Muestra\n",
    "                 popmean= 80,alternative=\"greater\")  # Media de la poblacion\n",
    "    print(p_valor)"
   ]
  },
  {
   "attachments": {},
   "cell_type": "markdown",
   "metadata": {},
   "source": [
    "#### Ejemplo 2"
   ]
  },
  {
   "cell_type": "code",
   "execution_count": null,
   "metadata": {},
   "outputs": [],
   "source": [
    "fichero = os.path.join(ruta,\"edades.csv\")\n",
    "edad = pd.read_csv(fichero)\n",
    "print(edad)"
   ]
  },
  {
   "cell_type": "code",
   "execution_count": null,
   "metadata": {},
   "outputs": [],
   "source": [
    "edad_media = np.mean(edad[\"Edad\"])\n",
    "edad_s_muestral = np.std(edad[\"Edad\"])\n",
    "print(\"La edad media es {a} y la desviación típica es {b}\".format(a=edad_media, b=edad_s_muestral))"
   ]
  },
  {
   "attachments": {},
   "cell_type": "markdown",
   "metadata": {},
   "source": [
    "$$\n",
    "\\left\\{\n",
    "\\begin{array}{ll}\n",
    "H_0: & \\mu = 30 \\\\\n",
    "H_1: & \\mu \\neq 30\n",
    "\\end{array}\n",
    "\\right.\n",
    "$$"
   ]
  },
  {
   "cell_type": "code",
   "execution_count": null,
   "metadata": {},
   "outputs": [],
   "source": [
    "from scipy.stats import ttest_1samp\n",
    "ttest, pval = ttest_1samp(edad, 30)\n",
    "print(\"El p valor del contraste es \", pval)\n",
    "\n",
    "if pval < 0.05:\n",
    "    print(\"Rechazamos la hipótesis nula\")\n",
    "else:\n",
    "    print(\"Se acepta la hipótesis nula\")"
   ]
  },
  {
   "attachments": {},
   "cell_type": "markdown",
   "metadata": {},
   "source": [
    "### Contrastes de dos muestras\n",
    "\n",
    "\n",
    "El contraste que queremos llevar a cabo es\n",
    "\n",
    "$$\n",
    "\\left\\{\n",
    "\\begin{array}{ll}\n",
    "H_0: & \\mu_1 = \\mu_2 \\\\\n",
    "H_1: & \\mu_1 \\neq \\mu_2\n",
    "\\end{array}\n",
    "\\right.\n",
    "$$"
   ]
  },
  {
   "attachments": {},
   "cell_type": "markdown",
   "metadata": {},
   "source": [
    "#### Ejemplo 1"
   ]
  },
  {
   "cell_type": "code",
   "execution_count": null,
   "metadata": {},
   "outputs": [],
   "source": [
    "fichero = os.path.join(ruta,\"nhanes_2015_2016.csv\")\n",
    "data = pd.read_csv(fichero)\n",
    "data.head()"
   ]
  },
  {
   "cell_type": "code",
   "execution_count": null,
   "metadata": {},
   "outputs": [],
   "source": [
    "mujeres = data[data[\"RIAGENDR\"]==2]\n",
    "hombres = data[data[\"RIAGENDR\"]==1]\n",
    "\n",
    "print(\"El número de mujeres de la muestra son: {mujeres_n} y el número de hombres es: {hombres_n}\".format(mujeres_n = len(mujeres), hombres_n=len(hombres)))"
   ]
  },
  {
   "cell_type": "code",
   "execution_count": null,
   "metadata": {},
   "outputs": [],
   "source": [
    "data.describe()"
   ]
  },
  {
   "attachments": {},
   "cell_type": "markdown",
   "metadata": {},
   "source": [
    "Escogemos una columna\n",
    "Por si acaso eliminaremos los NAs de nuestros datos:\n",
    "   "
   ]
  },
  {
   "cell_type": "code",
   "execution_count": null,
   "metadata": {},
   "outputs": [],
   "source": [
    "mujeres_BMXWT = mujeres[\"BMXWT\"].dropna()\n",
    "hombres_BMXWT = hombres[\"BMXWT\"].dropna()\n",
    "print(\"El número de mujeres de la muestra son: {mujeres_n} y el número de hombres es: {hombres_n}\".format(mujeres_n = len(mujeres_BMXWT), hombres_n=len(hombres_BMXWT)))\n",
    "sm.stats.ztest(mujeres_BMXWT, hombres_BMXWT, alternative = \"two-sided\")"
   ]
  },
  {
   "attachments": {},
   "cell_type": "markdown",
   "metadata": {},
   "source": [
    "$$\n",
    "\\left\\{\n",
    "\\begin{array}{ll}\n",
    "H_0: & \\mu_1 = \\mu_2 \\\\\n",
    "H_1: & \\mu_1 \\neq \\mu_2\n",
    "\\end{array}\n",
    "\\right.\n",
    "$$"
   ]
  },
  {
   "cell_type": "code",
   "execution_count": null,
   "metadata": {},
   "outputs": [],
   "source": [
    "mujeres_BMXWT.mean()"
   ]
  },
  {
   "cell_type": "code",
   "execution_count": null,
   "metadata": {},
   "outputs": [],
   "source": [
    "hombres_BMXWT.mean()"
   ]
  },
  {
   "attachments": {},
   "cell_type": "markdown",
   "metadata": {},
   "source": [
    "$$\n",
    "\\left\\{\n",
    "\\begin{array}{ll}\n",
    "H_0: & \\mu_M \\leq \\mu_H \\\\\n",
    "H_1: & \\mu_M > \\mu_H\n",
    "\\end{array}\n",
    "\\right.\n",
    "$$"
   ]
  },
  {
   "cell_type": "code",
   "execution_count": null,
   "metadata": {},
   "outputs": [],
   "source": [
    "sm.stats.ztest(mujeres_BMXWT,hombres_BMXWT, alternative = \"larger\")"
   ]
  },
  {
   "attachments": {},
   "cell_type": "markdown",
   "metadata": {},
   "source": [
    "##### Paso 1\n",
    "Dividir el dataset"
   ]
  },
  {
   "cell_type": "code",
   "execution_count": null,
   "metadata": {},
   "outputs": [],
   "source": [
    "Mayores = data[data[\"RIDAGEYR\"]>48]\n",
    "Menores = data[(data[\"RIDAGEYR\"]<49) & (data[\"RIDAGEYR\"]>17)]"
   ]
  },
  {
   "cell_type": "code",
   "execution_count": null,
   "metadata": {},
   "outputs": [],
   "source": [
    "print(Menores[\"RIDAGEYR\"].max(),Menores[\"RIDAGEYR\"].min())\n",
    "print(Mayores[\"RIDAGEYR\"].max(),Mayores[\"RIDAGEYR\"].min())"
   ]
  },
  {
   "attachments": {},
   "cell_type": "markdown",
   "metadata": {},
   "source": [
    "#### Paso 2 y  Paso 3\n",
    "* Escogemos una de las variables\n",
    "* Vemos si tiene NA si fuera así, lo imputaremos a un valor que será la media o a la mediana"
   ]
  },
  {
   "cell_type": "code",
   "execution_count": null,
   "metadata": {},
   "outputs": [],
   "source": [
    "print(Menores[Menores.columns[-2]].isnull().sum())\n",
    "print(Mayores[Mayores.columns[-2]].isnull().sum())"
   ]
  },
  {
   "cell_type": "code",
   "execution_count": null,
   "metadata": {},
   "outputs": [],
   "source": [
    "Menores[Menores.columns[-2]]=Menores[Menores.columns[-2]].fillna(Menores[Menores.columns[-2]].mean())\n",
    "Mayores[Mayores.columns[-2]]=Mayores[Mayores.columns[-2]].fillna(Mayores[Mayores.columns[-2]].mean())"
   ]
  },
  {
   "attachments": {},
   "cell_type": "markdown",
   "metadata": {},
   "source": [
    "#### Paso 4\n",
    "Hacemos el test bilateral  y extraemos el p valor"
   ]
  },
  {
   "cell_type": "code",
   "execution_count": null,
   "metadata": {},
   "outputs": [],
   "source": [
    "len(Menores)"
   ]
  },
  {
   "cell_type": "code",
   "execution_count": null,
   "metadata": {},
   "outputs": [],
   "source": [
    "len(Mayores)"
   ]
  },
  {
   "cell_type": "code",
   "execution_count": null,
   "metadata": {},
   "outputs": [],
   "source": [
    "_,p=sm.stats.ztest(Menores[Menores.columns[-2]], Mayores[Mayores.columns[-2]], alternative = \"two-sided\")"
   ]
  },
  {
   "attachments": {},
   "cell_type": "markdown",
   "metadata": {},
   "source": [
    "### Paso 5\n",
    "Si el p valor es menor a 0.05 entonces hacemos uno unilateral"
   ]
  },
  {
   "cell_type": "code",
   "execution_count": null,
   "metadata": {},
   "outputs": [],
   "source": [
    "_,p1=sm.stats.ztest(Menores[Menores.columns[-2]], Mayores[Mayores.columns[-2]], alternative = \"larger\")"
   ]
  },
  {
   "cell_type": "code",
   "execution_count": null,
   "metadata": {},
   "outputs": [],
   "source": [
    "p1"
   ]
  },
  {
   "cell_type": "code",
   "execution_count": null,
   "metadata": {},
   "outputs": [],
   "source": [
    "Mayores = data[data[\"RIDAGEYR\"]>48]\n",
    "Menores = data[(data[\"RIDAGEYR\"]<49) & (data[\"RIDAGEYR\"]>17)]\n",
    "for i in range(2,9):\n",
    "    Menores[Menores.columns[-i]]=Menores[Menores.columns[-i]].fillna(Menores[Menores.columns[-i]].mean())\n",
    "    Mayores[Mayores.columns[-i]]=Mayores[Mayores.columns[-i]].fillna(Mayores[Mayores.columns[-i]].mean())\n",
    "    print(\"=\"*30)\n",
    "    print(Menores[Menores.columns[-2]].isnull().sum())\n",
    "    print(Mayores[Mayores.columns[-2]].isnull().sum())\n",
    "    _,p=sm.stats.ztest(Menores[Menores.columns[-i]], Mayores[Mayores.columns[-i]], alternative = \"two-sided\")\n",
    "    print(\"=\"*20)\n",
    "    print(p)\n",
    "    if p<0.05:\n",
    "        _,p1=sm.stats.ztest(Menores[Menores.columns[-i]], Mayores[Mayores.columns[-i]], alternative = \"larger\")\n",
    "        if p1<0.05:\n",
    "            print(\"El valor de la columna {X} es mayor en los mayores de 49\".format(X=Menores.columns[-i]))\n",
    "        else:\n",
    "            print(\"El valor de la columna {X} es menor en los mayores de 49\".format(X=Menores.columns[-i]))\n",
    "    else:\n",
    "        print(\"El valor de la columna {X} es igual para ambas edades\".format(X=Menores.columns[-i]))\n"
   ]
  },
  {
   "attachments": {},
   "cell_type": "markdown",
   "metadata": {},
   "source": [
    "#### Ejemplo 2\n",
    "\n",
    "Comparamos dos medias de dos muestras independiendtes"
   ]
  },
  {
   "attachments": {},
   "cell_type": "markdown",
   "metadata": {},
   "source": [
    "$$\n",
    "\\left\\{\n",
    "\\begin{array}{ll}\n",
    "H_0: & \\mu_1 = \\mu_2 \\\\\n",
    "H_1: & \\mu_1 \\neq \\mu_2\n",
    "\\end{array}\n",
    "\\right.\n",
    "$$"
   ]
  },
  {
   "cell_type": "code",
   "execution_count": null,
   "metadata": {},
   "outputs": [],
   "source": [
    "fichero_semana1 = os.path.join(ruta,\"semana1.csv\")\n",
    "fichero_semana2 = os.path.join(ruta,\"semana2.csv\")\n",
    "Semana1 = pd.read_csv(fichero_semana1)\n",
    "Semana2 = pd.read_csv(fichero_semana2)"
   ]
  },
  {
   "cell_type": "code",
   "execution_count": null,
   "metadata": {},
   "outputs": [],
   "source": [
    "Semana1.head()"
   ]
  },
  {
   "cell_type": "code",
   "execution_count": null,
   "metadata": {},
   "outputs": [],
   "source": [
    "Semana2.head()"
   ]
  },
  {
   "cell_type": "code",
   "execution_count": null,
   "metadata": {},
   "outputs": [],
   "source": [
    "print(\"Media de la semana 1: \", np.mean(Semana1[\"time\"]))\n",
    "print(\"Media de la semana 2: \", np.mean(Semana2[\"time\"]))\n",
    "print(\"Desviación típica de la semana 1: \", np.std(Semana1[\"time\"]))\n",
    "print(\"Desviación típica de la semana 2: \", np.std(Semana2[\"time\"]))"
   ]
  },
  {
   "cell_type": "code",
   "execution_count": null,
   "metadata": {},
   "outputs": [],
   "source": [
    "from scipy.stats import ttest_ind\n",
    "t_test, p_value = ttest_ind(Semana1, Semana2)\n",
    "print(\"El p-valor del contraste es\",p_value)\n",
    "\n",
    "if p_value < 0.05:\n",
    "    print(\"Rechazamos la hipótesis nula\")\n",
    "else:\n",
    "    print(\"Se acepta la hipótesis nula\")"
   ]
  },
  {
   "attachments": {},
   "cell_type": "markdown",
   "metadata": {},
   "source": [
    "#### Ejemplo 3\n",
    "Comparamos dos muestras pareadas.\n",
    "En la utilización de un medicamento. "
   ]
  },
  {
   "attachments": {},
   "cell_type": "markdown",
   "metadata": {},
   "source": [
    "$$\n",
    "\\left\\{\n",
    "\\begin{array}{ll}\n",
    "H_0: & \\mu_1 = \\mu_2 \\\\\n",
    "H_1: & \\mu_1 \\neq \\mu_2\n",
    "\\end{array}\n",
    "\\right.\n",
    "$$"
   ]
  },
  {
   "cell_type": "code",
   "execution_count": null,
   "metadata": {},
   "outputs": [],
   "source": [
    "from scipy.stats import ttest_rel\n",
    "t_test, p_value = ttest_rel(Semana1, Semana2)\n",
    "print(\"El p-valor del contraste es\",p_value)\n",
    "\n",
    "if p_value < 0.05:\n",
    "    print(\"Rechazamos la hipótesis nula\")\n",
    "else:\n",
    "    print(\"Se acepta la hipótesis nula\")"
   ]
  },
  {
   "attachments": {},
   "cell_type": "markdown",
   "metadata": {},
   "source": [
    "## Comparando la Varianza y la media de dos poblaciones (varianzas iguales)"
   ]
  },
  {
   "cell_type": "code",
   "execution_count": null,
   "metadata": {},
   "outputs": [],
   "source": [
    "import numpy as np\n",
    "from math import sqrt\n",
    "import pandas as pd \n",
    "from scipy import stats\n",
    "from scipy.stats import f \n",
    "import statsmodels.api as sm\n",
    "import statsmodels.stats.api as sms\n",
    "import matplotlib.pyplot as plt\n",
    "%matplotlib inline"
   ]
  },
  {
   "attachments": {},
   "cell_type": "markdown",
   "metadata": {},
   "source": [
    "Comparacion de la varianza de las notas de varones y mujeres"
   ]
  },
  {
   "cell_type": "code",
   "execution_count": null,
   "metadata": {},
   "outputs": [],
   "source": [
    "notas=[50,75,80,68,95,84,78,87,56,61,75,89,80,70,83]\n",
    "genero=['m','m','m','m','m','m','m','m','h','h','h','h','h','h','h']\n",
    "a=pd.DataFrame({'notas' : notas,'genero' : genero})"
   ]
  },
  {
   "cell_type": "code",
   "execution_count": null,
   "metadata": {},
   "outputs": [],
   "source": [
    "a.boxplot(column='notas',by='genero')"
   ]
  },
  {
   "cell_type": "code",
   "execution_count": null,
   "metadata": {},
   "outputs": [],
   "source": [
    "## Manera poco eficiente\n",
    "mujeres=[50,75,80,68,95,84,78,87]\n",
    "varones=[56,61,75,89,80,70,83]"
   ]
  },
  {
   "cell_type": "code",
   "execution_count": null,
   "metadata": {},
   "outputs": [],
   "source": [
    "\n",
    "def Ftest(grupo1,grupo2):\n",
    "    a1 = 1.0*np.array(grupo1)\n",
    "    n1 = len(a1)\n",
    "    a2 = 1.0*np.array(grupo2)\n",
    "    n2 = len(a2)\n",
    "    s1, s2 = np.std(a1,ddof=1), np.std(a2,ddof=1)\n",
    "    test=(s1/s2)**2\n",
    "    p_valor=2*min(f.cdf(test,n1-1,n2-1),1-f.cdf(test,n1-1,n2-1))\n",
    "    print (\"El F experimenta es:\",test,\"El p-valor es:\", p_valor)"
   ]
  },
  {
   "attachments": {},
   "cell_type": "markdown",
   "metadata": {},
   "source": [
    "### Comparando las varianzas\n",
    "\n",
    "$$\n",
    "\\left\\{\n",
    "\\begin{array}{ll}\n",
    "H_0: & \\sigma_1^2=\\sigma_2^2 \\\\\n",
    "H_1: & \\sigma_1^2\\neq\\sigma_2^2\n",
    "\\end{array}\n",
    "\\right.\n",
    "$$\n",
    "\n",
    "#### Prueba Estadistica:\n",
    "## $$F=\\frac{s{_1}^2}{s{_2}^2}$$"
   ]
  },
  {
   "cell_type": "code",
   "execution_count": null,
   "metadata": {},
   "outputs": [],
   "source": [
    "Ftest(mujeres,varones)"
   ]
  },
  {
   "cell_type": "code",
   "execution_count": null,
   "metadata": {},
   "outputs": [],
   "source": [
    "# Manera eficiente\n",
    "#Extrayendo los dos grupos de un dataframe \n",
    "grupo1=a.query('genero==\"m\"')['notas']\n",
    "grupo2=a.query('genero==\"h\"')['notas']\n",
    "Ftest(grupo1,grupo2)"
   ]
  },
  {
   "cell_type": "code",
   "execution_count": null,
   "metadata": {},
   "outputs": [],
   "source": [
    "stats.ttest_ind(grupo1, grupo2, equal_var = True)"
   ]
  },
  {
   "attachments": {},
   "cell_type": "markdown",
   "metadata": {},
   "source": [
    "#### Ejemplo para comparar los scores en aprovechamiento matematico de estudiante de escueal publica y privada"
   ]
  },
  {
   "cell_type": "code",
   "execution_count": null,
   "metadata": {},
   "outputs": [],
   "source": [
    "#\n",
    "import seaborn as sns\n",
    "import pandas as pd\n",
    "import matplotlib.pyplot as plt\n",
    "iris = sns.load_dataset(\"iris\")"
   ]
  },
  {
   "cell_type": "code",
   "execution_count": null,
   "metadata": {},
   "outputs": [],
   "source": [
    "iris.sample()"
   ]
  },
  {
   "cell_type": "code",
   "execution_count": null,
   "metadata": {},
   "outputs": [],
   "source": [
    "#Extrayendo los dos grupos\n",
    "grupo1=iris.query('species==\"versicolor\"')['petal_width']\n",
    "grupo2=iris.query('species==\"setosa\"')['petal_width']"
   ]
  },
  {
   "cell_type": "code",
   "execution_count": null,
   "metadata": {},
   "outputs": [],
   "source": [
    "grupo1.var()"
   ]
  },
  {
   "cell_type": "code",
   "execution_count": null,
   "metadata": {},
   "outputs": [],
   "source": [
    "grupo2.var()"
   ]
  },
  {
   "cell_type": "code",
   "execution_count": null,
   "metadata": {},
   "outputs": [],
   "source": [
    "Ftest(grupo1,grupo2)"
   ]
  },
  {
   "cell_type": "code",
   "execution_count": null,
   "metadata": {},
   "outputs": [],
   "source": [
    "iris.boxplot(column='petal_width',by='species')"
   ]
  },
  {
   "attachments": {},
   "cell_type": "markdown",
   "metadata": {},
   "source": [
    "### Probando igualdad de dos medias asumiendo igual varianza\n",
    "$$\n",
    "\\left\\{\n",
    "\\begin{array}{ll}\n",
    "H_0: & \\mu_1 = \\mu_2 \\\\\n",
    "H_1: & \\mu_1 \\neq \\mu_2\n",
    "\\end{array}\n",
    "\\right.\n",
    "$$"
   ]
  },
  {
   "cell_type": "code",
   "execution_count": null,
   "metadata": {},
   "outputs": [],
   "source": [
    "stats.ttest_ind(grupo1, grupo2, equal_var = True)"
   ]
  },
  {
   "attachments": {},
   "cell_type": "markdown",
   "metadata": {},
   "source": [
    "Probando igualdad de dos medias asumiendo desigual varianza"
   ]
  },
  {
   "cell_type": "code",
   "execution_count": null,
   "metadata": {},
   "outputs": [],
   "source": [
    "stats.ttest_ind(grupo1, grupo2, equal_var = False)"
   ]
  }
 ],
 "metadata": {
  "kernelspec": {
   "display_name": "Python 3 (ipykernel)",
   "language": "python",
   "name": "python3"
  },
  "language_info": {
   "codemirror_mode": {
    "name": "ipython",
    "version": 3
   },
   "file_extension": ".py",
   "mimetype": "text/x-python",
   "name": "python",
   "nbconvert_exporter": "python",
   "pygments_lexer": "ipython3",
   "version": "3.9.12"
  }
 },
 "nbformat": 4,
 "nbformat_minor": 2
}
