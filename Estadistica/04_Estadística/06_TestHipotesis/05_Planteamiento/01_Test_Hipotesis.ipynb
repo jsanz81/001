{
 "cells": [
  {
   "cell_type": "code",
   "execution_count": 1,
   "metadata": {},
   "outputs": [],
   "source": [
    "%matplotlib inline\n",
    "\n",
    "import numpy as np\n",
    "import pandas as pd\n",
    "import scipy.stats as stats\n",
    "import matplotlib.pyplot as plt\n",
    "import math"
   ]
  },
  {
   "cell_type": "code",
   "execution_count": 2,
   "metadata": {},
   "outputs": [],
   "source": [
    "# Vamos a generar una semilla aleatoria\n",
    "np.random.seed(123)"
   ]
  },
  {
   "cell_type": "markdown",
   "metadata": {},
   "source": [
    "### T-test de una muestra"
   ]
  },
  {
   "cell_type": "markdown",
   "metadata": {},
   "source": [
    "¿La población de Granada tiene X edad de media?\n",
    "$$H_0: \\mu = X$$\n",
    "$$H_1: \\mu \\neq X$$"
   ]
  },
  {
   "cell_type": "markdown",
   "metadata": {},
   "source": [
    "el p-valor que lo tendremos con un número va a ser por defecto 0.05"
   ]
  },
  {
   "cell_type": "code",
   "execution_count": 4,
   "metadata": {},
   "outputs": [
    {
     "name": "stdout",
     "output_type": "stream",
     "text": [
      "43.010108\n",
      "39.76\n"
     ]
    }
   ],
   "source": [
    "poblacion1 = stats.poisson.rvs(loc=18, mu=35, size=150000)\n",
    "poblacion2 = stats.poisson.rvs(loc=18, mu=10, size=100000)\n",
    "poblacion = np.concatenate((poblacion1, poblacion2))\n",
    "\n",
    "Granada1 = stats.poisson.rvs(loc=18, mu=30, size=30)\n",
    "Granada2 = stats.poisson.rvs(loc=18, mu=9, size=20)\n",
    "Granada = np.concatenate((Granada1, Granada2))\n",
    "\n",
    "print( poblacion.mean() )\n",
    "print( Granada.mean() )"
   ]
  },
  {
   "cell_type": "markdown",
   "metadata": {},
   "source": [
    "Usamos distinto $\\mu$ para que las medias sean diferentes, para ver si rechazamos la hipotesis nula de que la miestra proviene de la musma distribucion "
   ]
  },
  {
   "cell_type": "code",
   "execution_count": 5,
   "metadata": {},
   "outputs": [],
   "source": [
    "stat, p_valor=stats.ttest_1samp(a= Granada,               # Muestra\n",
    "                 popmean= poblacion.mean())  # Media de la poblacion"
   ]
  },
  {
   "cell_type": "code",
   "execution_count": 6,
   "metadata": {},
   "outputs": [
    {
     "name": "stdout",
     "output_type": "stream",
     "text": [
      "Rechazamos la hipotesis nula\n"
     ]
    }
   ],
   "source": [
    "if p_valor <0.05:\n",
    "    print(\"Rechazamos la hipotesis nula\")\n",
    "else:\n",
    "    print(\"No podemos rechazar la hipotesis nula\")"
   ]
  },
  {
   "cell_type": "markdown",
   "metadata": {},
   "source": [
    "### T-test de dos muestras"
   ]
  },
  {
   "cell_type": "markdown",
   "metadata": {},
   "source": [
    "Vamos a ver si las medias de dos muestras independietes difieren entre sí. \n",
    "$$\\begin{array}{rl}\n",
    "H_0: & \\mu_1=\\mu_2\\\\\n",
    "H_1: & \\mu_1 \\neq \\mu_2\n",
    "\\end{array}$$"
   ]
  },
  {
   "cell_type": "code",
   "execution_count": 7,
   "metadata": {},
   "outputs": [
    {
     "name": "stdout",
     "output_type": "stream",
     "text": [
      "40.66\n"
     ]
    }
   ],
   "source": [
    "Malaga1 = stats.poisson.rvs(loc=18, mu=33, size=30)\n",
    "Malaga2 = stats.poisson.rvs(loc=18, mu=11, size=20)\n",
    "Malaga = np.concatenate((Malaga1, Malaga2))\n",
    "print( Malaga.mean() )"
   ]
  },
  {
   "cell_type": "code",
   "execution_count": 8,
   "metadata": {},
   "outputs": [
    {
     "data": {
      "text/plain": [
       "Ttest_indResult(statistic=-0.385548829078827, pvalue=0.7006685489120184)"
      ]
     },
     "execution_count": 8,
     "metadata": {},
     "output_type": "execute_result"
    }
   ],
   "source": [
    "stats.ttest_ind(a= Granada,\n",
    "                b= Malaga,\n",
    "                equal_var=False)  ## No sabemos si la varianza es la misma"
   ]
  },
  {
   "cell_type": "markdown",
   "metadata": {},
   "source": [
    "### T-Test Pareado"
   ]
  },
  {
   "cell_type": "code",
   "execution_count": 9,
   "metadata": {},
   "outputs": [
    {
     "data": {
      "text/html": [
       "<div>\n",
       "<style scoped>\n",
       "    .dataframe tbody tr th:only-of-type {\n",
       "        vertical-align: middle;\n",
       "    }\n",
       "\n",
       "    .dataframe tbody tr th {\n",
       "        vertical-align: top;\n",
       "    }\n",
       "\n",
       "    .dataframe thead th {\n",
       "        text-align: right;\n",
       "    }\n",
       "</style>\n",
       "<table border=\"1\" class=\"dataframe\">\n",
       "  <thead>\n",
       "    <tr style=\"text-align: right;\">\n",
       "      <th></th>\n",
       "      <th>Peso_precovid</th>\n",
       "      <th>Peso_postcovid</th>\n",
       "      <th>Cambio</th>\n",
       "    </tr>\n",
       "  </thead>\n",
       "  <tbody>\n",
       "    <tr>\n",
       "      <th>count</th>\n",
       "      <td>100.000000</td>\n",
       "      <td>100.000000</td>\n",
       "      <td>100.000000</td>\n",
       "    </tr>\n",
       "    <tr>\n",
       "      <th>mean</th>\n",
       "      <td>254.546225</td>\n",
       "      <td>253.305400</td>\n",
       "      <td>-1.240825</td>\n",
       "    </tr>\n",
       "    <tr>\n",
       "      <th>std</th>\n",
       "      <td>30.605118</td>\n",
       "      <td>30.431800</td>\n",
       "      <td>4.543069</td>\n",
       "    </tr>\n",
       "    <tr>\n",
       "      <th>min</th>\n",
       "      <td>156.133461</td>\n",
       "      <td>165.157534</td>\n",
       "      <td>-13.220881</td>\n",
       "    </tr>\n",
       "    <tr>\n",
       "      <th>25%</th>\n",
       "      <td>233.030878</td>\n",
       "      <td>229.308547</td>\n",
       "      <td>-4.655543</td>\n",
       "    </tr>\n",
       "    <tr>\n",
       "      <th>50%</th>\n",
       "      <td>255.916722</td>\n",
       "      <td>253.187902</td>\n",
       "      <td>-1.177421</td>\n",
       "    </tr>\n",
       "    <tr>\n",
       "      <th>75%</th>\n",
       "      <td>277.262135</td>\n",
       "      <td>276.311201</td>\n",
       "      <td>1.399965</td>\n",
       "    </tr>\n",
       "    <tr>\n",
       "      <th>max</th>\n",
       "      <td>324.379890</td>\n",
       "      <td>325.717303</td>\n",
       "      <td>9.108556</td>\n",
       "    </tr>\n",
       "  </tbody>\n",
       "</table>\n",
       "</div>"
      ],
      "text/plain": [
       "       Peso_precovid  Peso_postcovid      Cambio\n",
       "count     100.000000      100.000000  100.000000\n",
       "mean      254.546225      253.305400   -1.240825\n",
       "std        30.605118       30.431800    4.543069\n",
       "min       156.133461      165.157534  -13.220881\n",
       "25%       233.030878      229.308547   -4.655543\n",
       "50%       255.916722      253.187902   -1.177421\n",
       "75%       277.262135      276.311201    1.399965\n",
       "max       324.379890      325.717303    9.108556"
      ]
     },
     "execution_count": 9,
     "metadata": {},
     "output_type": "execute_result"
    }
   ],
   "source": [
    "np.random.seed(234)\n",
    "\n",
    "Peso_precovid= stats.norm.rvs(scale=30, loc=250, size=100)\n",
    "\n",
    "Peso_postcovid = Peso_precovid + stats.norm.rvs(scale=5, loc=-1.25, size=100)\n",
    "\n",
    "Peso = pd.DataFrame({\"Peso_precovid\":Peso_precovid,\n",
    "                          \"Peso_postcovid\":Peso_postcovid,\n",
    "                          \"Cambio\":Peso_postcovid-Peso_precovid})\n",
    "\n",
    "Peso.describe()             # "
   ]
  },
  {
   "cell_type": "code",
   "execution_count": 10,
   "metadata": {},
   "outputs": [
    {
     "data": {
      "text/plain": [
       "Ttest_relResult(statistic=2.731248439217908, pvalue=0.007471259815871428)"
      ]
     },
     "execution_count": 10,
     "metadata": {},
     "output_type": "execute_result"
    }
   ],
   "source": [
    "stats.ttest_rel(Peso_precovid,Peso_postcovid)"
   ]
  },
  {
   "cell_type": "code",
   "execution_count": null,
   "metadata": {},
   "outputs": [],
   "source": []
  }
 ],
 "metadata": {
  "kernelspec": {
   "display_name": "Python 3 (ipykernel)",
   "language": "python",
   "name": "python3"
  },
  "language_info": {
   "codemirror_mode": {
    "name": "ipython",
    "version": 3
   },
   "file_extension": ".py",
   "mimetype": "text/x-python",
   "name": "python",
   "nbconvert_exporter": "python",
   "pygments_lexer": "ipython3",
   "version": "3.9.12"
  }
 },
 "nbformat": 4,
 "nbformat_minor": 2
}
