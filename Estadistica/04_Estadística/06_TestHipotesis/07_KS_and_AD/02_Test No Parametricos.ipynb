{
 "cells": [
  {
   "cell_type": "code",
   "execution_count": null,
   "id": "2ef4df20",
   "metadata": {},
   "outputs": [],
   "source": [
    "## test No parametricos\n",
    "## test de Mann-Whitney o prueba U"
   ]
  },
  {
   "cell_type": "code",
   "execution_count": null,
   "id": "bde63775",
   "metadata": {},
   "outputs": [],
   "source": [
    "import pandas as pd\n",
    "import numpy as np\n",
    "import seaborn as sns\n",
    "from scipy.stats import mannwhitneyu, normaltest, anderson, shapiro\n",
    "import matplotlib.pyplot as plt"
   ]
  },
  {
   "cell_type": "code",
   "execution_count": null,
   "id": "eb7eca81",
   "metadata": {},
   "outputs": [],
   "source": [
    "import os"
   ]
  },
  {
   "cell_type": "code",
   "execution_count": null,
   "id": "6457da9b",
   "metadata": {},
   "outputs": [],
   "source": [
    "## Incluir vuestra ruta\n",
    "ruta=\"./Datos/\""
   ]
  },
  {
   "cell_type": "code",
   "execution_count": null,
   "id": "97490383",
   "metadata": {},
   "outputs": [],
   "source": [
    "df=pd.read_csv(os.path.join(ruta,\"forceps.csv\"))"
   ]
  },
  {
   "cell_type": "code",
   "execution_count": null,
   "id": "2429793e",
   "metadata": {},
   "outputs": [],
   "source": [
    "df.head()"
   ]
  },
  {
   "cell_type": "code",
   "execution_count": null,
   "id": "258ef1d8",
   "metadata": {},
   "outputs": [],
   "source": [
    "df[\"Forceps\"].unique()"
   ]
  },
  {
   "cell_type": "code",
   "execution_count": null,
   "id": "6df9eec1",
   "metadata": {},
   "outputs": [],
   "source": [
    "df[\"Resection\"].unique()"
   ]
  },
  {
   "cell_type": "code",
   "execution_count": null,
   "id": "2b7ee67c",
   "metadata": {},
   "outputs": [],
   "source": [
    "anderson(df[\"Resection\"])"
   ]
  },
  {
   "cell_type": "code",
   "execution_count": null,
   "id": "4f220f04",
   "metadata": {},
   "outputs": [],
   "source": [
    "normaltest(df[\"Resection\"])"
   ]
  },
  {
   "cell_type": "code",
   "execution_count": null,
   "id": "bf522968",
   "metadata": {},
   "outputs": [],
   "source": [
    "import statsmodels.api as sm"
   ]
  },
  {
   "cell_type": "code",
   "execution_count": null,
   "id": "80fc3ecd",
   "metadata": {},
   "outputs": [],
   "source": [
    "sm.qqplot(df[\"Resection\"],fit=True,line='q');"
   ]
  },
  {
   "cell_type": "code",
   "execution_count": null,
   "id": "58b6516e",
   "metadata": {},
   "outputs": [],
   "source": [
    "shapiro(df[\"Resection\"])"
   ]
  },
  {
   "attachments": {},
   "cell_type": "markdown",
   "id": "9a712683",
   "metadata": {},
   "source": [
    "Tenemos evidencias suficientes para rechazar la hipotesis nula de que los datos se distribuye\n",
    "de forma normal"
   ]
  },
  {
   "cell_type": "code",
   "execution_count": null,
   "id": "fa1f41dc",
   "metadata": {},
   "outputs": [],
   "source": [
    "grupo1=df[df[\"Forceps\"]==1.0]\n",
    "grupo2=df[df[\"Forceps\"]==2.0]"
   ]
  },
  {
   "cell_type": "code",
   "execution_count": null,
   "id": "9f6899b8",
   "metadata": {},
   "outputs": [],
   "source": [
    "grupo1"
   ]
  },
  {
   "cell_type": "code",
   "execution_count": null,
   "id": "b2fd4eaa",
   "metadata": {},
   "outputs": [],
   "source": [
    "grupo2"
   ]
  },
  {
   "attachments": {},
   "cell_type": "markdown",
   "id": "732bf243",
   "metadata": {},
   "source": [
    "$$ H_0: \\mu_1 =\\mu_2 $$\n",
    "$$ H_1: \\mu_1 \\neq \\mu_2 $$"
   ]
  },
  {
   "cell_type": "code",
   "execution_count": null,
   "id": "76f05e5d",
   "metadata": {},
   "outputs": [],
   "source": [
    "mannwhitneyu(grupo1[\"Resection\"],grupo2[\"Resection\"])"
   ]
  },
  {
   "attachments": {},
   "cell_type": "markdown",
   "id": "7497edf3",
   "metadata": {},
   "source": [
    "$$ H_0: \\mu_1 \\leq \\mu_2 $$\n",
    "$$ H_1: \\mu_1 > \\mu_2 $$"
   ]
  },
  {
   "cell_type": "code",
   "execution_count": null,
   "id": "c6b217c0",
   "metadata": {},
   "outputs": [],
   "source": [
    "mannwhitneyu(grupo1[\"Resection\"],grupo2[\"Resection\"],alternative='greater') "
   ]
  },
  {
   "attachments": {},
   "cell_type": "markdown",
   "id": "748586e3",
   "metadata": {},
   "source": [
    "Ya puedo asegurar que el grupo1 quita menos tejido que el grupo2"
   ]
  },
  {
   "attachments": {},
   "cell_type": "markdown",
   "id": "3048c058",
   "metadata": {},
   "source": [
    "Por tanto es mejor el ***forceps*** de tipo 2 que el de tipo 1"
   ]
  },
  {
   "cell_type": "code",
   "execution_count": null,
   "id": "ac2d1f87",
   "metadata": {},
   "outputs": [],
   "source": [
    "df.shape"
   ]
  },
  {
   "cell_type": "code",
   "execution_count": null,
   "id": "732da821",
   "metadata": {},
   "outputs": [],
   "source": [
    "## Kruskal wallis"
   ]
  },
  {
   "cell_type": "code",
   "execution_count": null,
   "id": "7baaec3e",
   "metadata": {},
   "outputs": [],
   "source": [
    "from scipy.stats import kruskal"
   ]
  },
  {
   "cell_type": "code",
   "execution_count": null,
   "id": "5c69c6a7",
   "metadata": {},
   "outputs": [],
   "source": [
    "df=pd.read_csv(os.path.join(ruta,\"drugstudy.csv\"))"
   ]
  },
  {
   "cell_type": "code",
   "execution_count": null,
   "id": "394d5ac1",
   "metadata": {},
   "outputs": [],
   "source": [
    "df.head()"
   ]
  },
  {
   "cell_type": "code",
   "execution_count": null,
   "id": "d3ff0377",
   "metadata": {},
   "outputs": [],
   "source": [
    "df.dose.unique()"
   ]
  },
  {
   "cell_type": "code",
   "execution_count": null,
   "id": "6492824c",
   "metadata": {},
   "outputs": [],
   "source": [
    "df.shape"
   ]
  },
  {
   "cell_type": "code",
   "execution_count": null,
   "id": "04aabc0a",
   "metadata": {},
   "outputs": [],
   "source": [
    "df.rating.unique()"
   ]
  },
  {
   "cell_type": "code",
   "execution_count": null,
   "id": "ee2b7e05",
   "metadata": {},
   "outputs": [],
   "source": [
    "grupo1=df[df.dose==1]\n",
    "grupo2=df[df.dose==2]\n",
    "grupo3=df[df.dose==3]\n",
    "grupo4=df[df.dose==4]"
   ]
  },
  {
   "cell_type": "code",
   "execution_count": null,
   "id": "6b364bf1",
   "metadata": {},
   "outputs": [],
   "source": [
    "kruskal(grupo1.rating,grupo2.rating,grupo3.rating,grupo4.rating)"
   ]
  },
  {
   "attachments": {},
   "cell_type": "markdown",
   "id": "f5388b4b",
   "metadata": {},
   "source": [
    "Tendremos que rechazar H0, es decir, que hay diferencias significativas entre los grupos"
   ]
  },
  {
   "cell_type": "code",
   "execution_count": null,
   "id": "a8e905d7",
   "metadata": {},
   "outputs": [],
   "source": [
    "## Ahora tendríamos que hacer un mannwithney"
   ]
  },
  {
   "attachments": {},
   "cell_type": "markdown",
   "id": "664b16a5",
   "metadata": {},
   "source": [
    "$$H_0 : \\mu_1 = \\mu_2$$\n",
    "$$H_0 : \\mu_1 \\neq \\mu_2$$"
   ]
  },
  {
   "cell_type": "code",
   "execution_count": null,
   "id": "7fb581f9",
   "metadata": {},
   "outputs": [],
   "source": [
    "mannwhitneyu(grupo1.rating,grupo2.rating)"
   ]
  },
  {
   "attachments": {},
   "cell_type": "markdown",
   "id": "c0bf84e7",
   "metadata": {},
   "source": [
    "$$H_0 : \\mu_1 \\geq \\mu_2$$\n",
    "$$H_0 : \\mu_1 < \\mu_2$$"
   ]
  },
  {
   "cell_type": "code",
   "execution_count": null,
   "id": "103852d2",
   "metadata": {},
   "outputs": [],
   "source": [
    "mannwhitneyu(grupo1.rating,grupo2.rating,alternative=\"less\")"
   ]
  },
  {
   "cell_type": "code",
   "execution_count": null,
   "id": "a3781469",
   "metadata": {},
   "outputs": [],
   "source": [
    "grupo1.rating.mean()"
   ]
  },
  {
   "cell_type": "code",
   "execution_count": null,
   "id": "a9251adf",
   "metadata": {},
   "outputs": [],
   "source": [
    "grupo2.rating.mean()"
   ]
  },
  {
   "cell_type": "code",
   "execution_count": null,
   "id": "76b87d42",
   "metadata": {},
   "outputs": [],
   "source": [
    "for i in range(1,4):\n",
    "    for j in range(i+1,5):\n",
    "        _,p=mannwhitneyu(df[df[\"dose\"]==i].rating,df[df[\"dose\"]==j].rating)\n",
    "        if p < 0.05:\n",
    "            print(\"los grupos {0} y {1} son diferentes\".format(i,j))\n",
    "            print(\"Realizamos una prueba con el alternativo less\")\n",
    "            _,p=mannwhitneyu(df[df[\"dose\"]==i].rating,df[df[\"dose\"]==j].rating,alternative=\"less\")\n",
    "            if p<0.05:\n",
    "                print(\"El grupo {0} es superior a {1}\".format(i,j))\n",
    "            else:\n",
    "                print(\"El grupo {0} es inferior a {1}\".format(i,j)) "
   ]
  },
  {
   "cell_type": "code",
   "execution_count": null,
   "id": "ccd249e4",
   "metadata": {},
   "outputs": [],
   "source": [
    "df=pd.read_csv(os.path.join(ruta,\"revenuedata.csv\"))"
   ]
  },
  {
   "cell_type": "code",
   "execution_count": null,
   "id": "1a0e1e26",
   "metadata": {},
   "outputs": [],
   "source": [
    "df"
   ]
  },
  {
   "cell_type": "code",
   "execution_count": null,
   "id": "cfdbbb90",
   "metadata": {},
   "outputs": [],
   "source": [
    "from scipy.stats import wilcoxon"
   ]
  },
  {
   "attachments": {},
   "cell_type": "markdown",
   "id": "da3ab079",
   "metadata": {},
   "source": [
    "\n",
    "$$H_0: \\mu_1 = \\mu_2$$\n",
    "$$H_1: \\mu_1 \\neq \\mu_2$$"
   ]
  },
  {
   "cell_type": "code",
   "execution_count": null,
   "id": "6ecc1b61",
   "metadata": {},
   "outputs": [],
   "source": [
    "wilcoxon(df.Q1,df.Q2)"
   ]
  },
  {
   "attachments": {},
   "cell_type": "markdown",
   "id": "0e212a3a",
   "metadata": {},
   "source": [
    "$$H_0: \\mu_1 \\geq \\mu_2$$\n",
    "$$H_1: \\mu_1 < \\mu_2$$"
   ]
  },
  {
   "cell_type": "code",
   "execution_count": null,
   "id": "dcddc0ef",
   "metadata": {},
   "outputs": [],
   "source": [
    "wilcoxon(df.Q1,df.Q2,alternative=\"less\")"
   ]
  },
  {
   "cell_type": "code",
   "execution_count": null,
   "id": "b654d844",
   "metadata": {},
   "outputs": [],
   "source": [
    "df.Q1.mean()"
   ]
  },
  {
   "cell_type": "code",
   "execution_count": null,
   "id": "a6eebb52",
   "metadata": {},
   "outputs": [],
   "source": [
    "df.Q2.mean()"
   ]
  },
  {
   "cell_type": "code",
   "execution_count": null,
   "id": "a5731654",
   "metadata": {},
   "outputs": [],
   "source": [
    "df=pd.read_csv(os.path.join(ruta,\"wine.csv\"))"
   ]
  },
  {
   "cell_type": "code",
   "execution_count": null,
   "id": "6f734d05",
   "metadata": {},
   "outputs": [],
   "source": [
    "df.head()"
   ]
  },
  {
   "cell_type": "code",
   "execution_count": null,
   "id": "29d4beb5",
   "metadata": {},
   "outputs": [],
   "source": [
    "from scipy.stats import friedmanchisquare"
   ]
  },
  {
   "cell_type": "code",
   "execution_count": null,
   "id": "8e8047d2",
   "metadata": {},
   "outputs": [],
   "source": [
    "df.tail()"
   ]
  },
  {
   "attachments": {},
   "cell_type": "markdown",
   "id": "00aee36e",
   "metadata": {},
   "source": [
    "$$H_0: \\mu_i = \\mu_j  \\forall i,j$$\n",
    "$$H_1: \\mu_i \\neq \\mu_j  \\text{ existe } i \\neq j$$"
   ]
  },
  {
   "cell_type": "code",
   "execution_count": null,
   "id": "ea2cb0c8",
   "metadata": {},
   "outputs": [],
   "source": [
    "friedmanchisquare(df.pinecreek,df.saintjude,df.northnapa,df.sevenwinds,df.eternalvalley)"
   ]
  },
  {
   "attachments": {},
   "cell_type": "markdown",
   "id": "ae29a552",
   "metadata": {},
   "source": [
    "Hay diferencias significativas entre los grupos"
   ]
  },
  {
   "cell_type": "code",
   "execution_count": null,
   "id": "f596ba98",
   "metadata": {},
   "outputs": [],
   "source": [
    "for i in range(1,4):\n",
    "    for j in range(i+1,5):\n",
    "        _,p=wilcoxon(df[df.columns[i]],df[df.columns[j]])\n",
    "        if p < 0.05:\n",
    "            print(\"los grupos {0} y {1} son diferentes\".format(df.columns[i],df.columns[j]))\n",
    "            print(\"Realizamos una prueba con el alternativo less\")\n",
    "            _,p=wilcoxon(df[df.columns[i]],df[df.columns[j]],alternative=\"less\")\n",
    "            if p<0.05:\n",
    "                print(\"El grupo {0} es superior a {1}\".format(df.columns[i],df.columns[j]))\n",
    "            else:\n",
    "                print(\"El grupo {0} es inferior a {1}\".format(df.columns[i],df.columns[j])) "
   ]
  },
  {
   "cell_type": "code",
   "execution_count": null,
   "id": "363703b1",
   "metadata": {},
   "outputs": [],
   "source": [
    "### Spearman\n",
    "from scipy.stats import spearmanr"
   ]
  },
  {
   "cell_type": "code",
   "execution_count": null,
   "id": "ed1a3828",
   "metadata": {},
   "outputs": [],
   "source": [
    "df=pd.read_csv(os.path.join(ruta,\"employeeratings.csv\"))"
   ]
  },
  {
   "cell_type": "code",
   "execution_count": null,
   "id": "e90ebe00",
   "metadata": {},
   "outputs": [],
   "source": [
    "df.head()"
   ]
  },
  {
   "cell_type": "code",
   "execution_count": null,
   "id": "b440cddf",
   "metadata": {},
   "outputs": [],
   "source": [
    "spearmanr(df.Score,df.Rating)"
   ]
  },
  {
   "cell_type": "code",
   "execution_count": null,
   "id": "828a2d99",
   "metadata": {},
   "outputs": [],
   "source": [
    "## H_0: Correlacion no significativa\n",
    "### H_1: Correlacion Significativa"
   ]
  },
  {
   "cell_type": "code",
   "execution_count": null,
   "id": "60d7a4d3",
   "metadata": {},
   "outputs": [],
   "source": [
    "sns.boxplot(x='Rating',y=\"Score\",data=df);"
   ]
  }
 ],
 "metadata": {
  "kernelspec": {
   "display_name": "Python 3 (ipykernel)",
   "language": "python",
   "name": "python3"
  },
  "language_info": {
   "codemirror_mode": {
    "name": "ipython",
    "version": 3
   },
   "file_extension": ".py",
   "mimetype": "text/x-python",
   "name": "python",
   "nbconvert_exporter": "python",
   "pygments_lexer": "ipython3",
   "version": "3.9.12"
  }
 },
 "nbformat": 4,
 "nbformat_minor": 5
}
