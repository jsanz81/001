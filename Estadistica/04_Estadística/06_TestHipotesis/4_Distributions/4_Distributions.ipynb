{
 "cells": [
  {
   "attachments": {},
   "cell_type": "markdown",
   "metadata": {},
   "source": [
    "# Test de Pearson $\\chi^2$ \n",
    "\n",
    "Volvamos a visitar a Daniel, el profe tramposo que es. La última vez tratamos de responder a la pregunta *\"Daniel saca demasiados seises?\"*.\n",
    "\n",
    "Ahora, es hora de hacer una pregunta diferente. ¿Qué pasa si no nos preocupa solo el número de seises, sino qué preguntar *\"¿La distribución de tiradas que obtenemos es consistente con un dado justo?\"*\n",
    "\n",
    "La prueba $\\chi^2$ de Pearson para lanzar un dado da\n",
    "\n",
    "$$ \\chi^2 = \\sum_{i=1}^{6} \\frac{(C_i - E_i)^2}{E_i} $$\n",
    "\n",
    "Pero, ¿qué significa este valor de $\\chi^2$? Podemos convertirlo en una probabilidad dada la distribución $\\chi^2$, con 5 grados de libertad (seis lados - 1)"
   ]
  },
  {
   "cell_type": "code",
   "execution_count": null,
   "metadata": {},
   "outputs": [],
   "source": [
    "import numpy as np\n",
    "import matplotlib.pyplot as plt\n",
    "\n",
    "data = np.loadtxt(\"loaded_500.txt\")\n",
    "unique, counts = np.unique(data, return_counts=True)\n",
    "plt.hist(data, bins=50);"
   ]
  },
  {
   "cell_type": "code",
   "execution_count": null,
   "metadata": {},
   "outputs": [],
   "source": [
    "expected = data.size / 6\n",
    "chi2_val = np.sum((counts - expected)**2 / expected)\n",
    "print(chi2_val)"
   ]
  },
  {
   "cell_type": "code",
   "execution_count": null,
   "metadata": {},
   "outputs": [],
   "source": [
    "from scipy.stats import chi2\n",
    "chi2s = np.linspace(0, 15, 500)\n",
    "prob = chi2.pdf(chi2s, 5)\n",
    "\n",
    "plt.plot(chi2s, prob, label=\"Distribucion\")\n",
    "plt.axvline(chi2_val, label=\"$\\chi2$\", ls=\"--\")\n",
    "plt.fill_between(chi2s, prob, 0, where=(chi2s>=chi2_val), alpha=0.1)\n",
    "plt.legend();\n",
    "print(f\"nuestro p-value es {chi2.sf(chi2_val, 5):.3f}\")"
   ]
  },
  {
   "cell_type": "code",
   "execution_count": null,
   "metadata": {},
   "outputs": [],
   "source": [
    "from scipy.stats import chisquare\n",
    "chisq, p = chisquare(counts, expected)\n",
    "print(f\"Se tiene un chi2 de {chisq:.2f} con un p-value de {p:.3f}\")"
   ]
  },
  {
   "attachments": {},
   "cell_type": "markdown",
   "metadata": {},
   "source": [
    "Esto lleva a un punto interesante. En la primera prueba con solo el número de seises, tuvimos significancia. En la última prueba, solo nos preocupamos por la ocurrencia de seises. En este ejemplo, nuestro poder estadístico se extendió sobre muchas caras. Ambas pruebas son válidas. Tenga cuidado al encontrar muchas formas de probar una hipótesis; esto se denomina \"búsqueda de significado\".\n",
    "\n",
    "En general, cuanto más específica sea su \"pregunta\", más poderosa será la prueba que puede usar.\n",
    "\n",
    "Además, mientras que en este ejemplo usamos una distribución de un solo lado (que hace la pregunta si nuestra distribución observada es *demasiado discrepante* de la subyacente), también podríamos usar una distribución de dos lados, que también prueba para ver si nuestro la distribución observada es *demasiado similar* a la subyacente. Por ejemplo, imagina tirar un dado 600 veces y obtener exactamente. 100 de cada número. Y luego obtener ese resultado cuando lo haces una y otra vez. Con números aleatorios, existe la posibilidad de ser demasiado perfecto."
   ]
  }
 ],
 "metadata": {
  "kernelspec": {
   "display_name": "Python 3",
   "language": "python",
   "name": "python3"
  },
  "language_info": {
   "codemirror_mode": {
    "name": "ipython",
    "version": 3
   },
   "file_extension": ".py",
   "mimetype": "text/x-python",
   "name": "python",
   "nbconvert_exporter": "python",
   "pygments_lexer": "ipython3",
   "version": "3.6.8"
  }
 },
 "nbformat": 4,
 "nbformat_minor": 2
}
