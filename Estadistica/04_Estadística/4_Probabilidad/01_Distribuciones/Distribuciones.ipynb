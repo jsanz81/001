{
 "cells": [
  {
   "attachments": {},
   "cell_type": "markdown",
   "metadata": {},
   "source": [
    "# Distribuciones\n",
    "\n",
    "Juguemos con algunas distribuciones y sus funciones de Scipy para familiarizarnos con cómo invocarlas."
   ]
  },
  {
   "cell_type": "code",
   "execution_count": null,
   "metadata": {},
   "outputs": [],
   "source": [
    "import scipy.stats as st\n",
    "import matplotlib.pyplot as plt\n",
    "import numpy as np"
   ]
  },
  {
   "cell_type": "code",
   "execution_count": null,
   "metadata": {},
   "outputs": [],
   "source": [
    "xs = np.linspace(-5, 10, 2000)\n",
    "ks = np.arange(50)"
   ]
  },
  {
   "attachments": {},
   "cell_type": "markdown",
   "metadata": {},
   "source": [
    "### Distribuciones Discretas"
   ]
  },
  {
   "cell_type": "code",
   "execution_count": null,
   "metadata": {},
   "outputs": [],
   "source": [
    "pmf_binom = st.binom.pmf(ks, 50, 0.25)\n",
    "plt.bar(ks, pmf_binom, label=\"Binomial Ejemplo (dados)\", alpha=0.8)\n",
    "\n",
    "pmf_poisson = st.poisson.pmf(ks, 30)\n",
    "plt.bar(ks, pmf_poisson, label=\"Poisson Ejemplo (rotura coches)\", alpha=0.8)\n",
    "plt.legend();\n",
    "\n",
    "print(st.binom.pmf(10, 50, 0.25))\n",
    "print(st.poisson.pmf(50, 30))"
   ]
  },
  {
   "attachments": {},
   "cell_type": "markdown",
   "metadata": {},
   "source": [
    "### Distribuciones Continuas\n",
    "\n",
    "Uniforme, normal, exponencial, t-student, log-normal, asimetrico-normal."
   ]
  },
  {
   "cell_type": "code",
   "execution_count": null,
   "metadata": {},
   "outputs": [],
   "source": [
    "pdf_uniform = st.uniform.pdf(xs, -4, 10)\n",
    "plt.plot(xs, pdf_uniform, label=\"Uniforme(-4,6)\")\n",
    "\n",
    "pdf_normal = st.norm.pdf(xs, loc=5, scale=2)\n",
    "plt.plot(xs, pdf_normal, label=\"Normal(5, 2)\")\n",
    "\n",
    "pdf_exponential = st.expon.pdf(xs, loc=-2, scale=2)\n",
    "plt.plot(xs, pdf_exponential, label=\"Exponencial(0.5)\")\n",
    "\n",
    "pdf_studentt = st.t.pdf(xs, 1)\n",
    "plt.plot(xs, pdf_studentt, label=\"t-Student(1)\")\n",
    "\n",
    "pdf_lognorm = st.lognorm.pdf(xs, 1)\n",
    "plt.plot(xs, pdf_lognorm, label=\"Lognorm(1)\")\n",
    "\n",
    "pdf_skewnorm = st.skewnorm.pdf(xs, -6)\n",
    "plt.plot(xs, pdf_skewnorm, label=\"Skewnorm(5)\")\n",
    "\n",
    "plt.legend()\n",
    "plt.ylabel(\"Prob\")\n",
    "plt.xlabel(\"x\");"
   ]
  },
  {
   "cell_type": "code",
   "execution_count": null,
   "metadata": {},
   "outputs": [],
   "source": [
    "plt.plot(xs, st.t.pdf(xs, 1, loc=4, scale=2), label=\"In built\")\n",
    "plt.plot(xs, st.t.pdf((xs-4)/2, 1, loc=0, scale=1), label=\"Manually\")\n",
    "plt.legend();"
   ]
  }
 ],
 "metadata": {
  "kernelspec": {
   "display_name": "Python 3",
   "language": "python",
   "name": "python3"
  },
  "language_info": {
   "codemirror_mode": {
    "name": "ipython",
    "version": 3
   },
   "file_extension": ".py",
   "mimetype": "text/x-python",
   "name": "python",
   "nbconvert_exporter": "python",
   "pygments_lexer": "ipython3",
   "version": "3.6.8"
  }
 },
 "nbformat": 4,
 "nbformat_minor": 2
}
