{
 "cells": [
  {
   "attachments": {},
   "cell_type": "markdown",
   "metadata": {},
   "source": [
    "# Funciones Empiricas PDF\n",
    "\n",
    "Como calcular tos PDF, CDF and SF desde unos datos empiricos."
   ]
  },
  {
   "cell_type": "code",
   "execution_count": null,
   "metadata": {},
   "outputs": [],
   "source": [
    "import numpy as np\n",
    "import matplotlib.pyplot as plt\n",
    "from scipy.interpolate import interp1d"
   ]
  },
  {
   "cell_type": "code",
   "execution_count": null,
   "metadata": {},
   "outputs": [],
   "source": [
    "xs = [0.0, 0.5, 1.0, 1.5, 2.0, 2.5, 3.0, 3.5, 4.0, 4.5, \n",
    "      5.0, 5.5, 6.0, 6.5, 7.0, 7.5, 8.0, 8.5, 9.0, 9.5, 10.0]\n",
    "ys = [0.2, 0.165, 0.167, 0.166, 0.154, 0.134, 0.117, \n",
    "      0.108, 0.092, 0.06, 0.031, 0.028, 0.048, 0.077, \n",
    "      0.103, 0.119, 0.119, 0.103, 0.074, 0.038, 0.003]\n",
    "\n",
    "plt.scatter(xs, ys)\n",
    "plt.xlabel(\"x\")\n",
    "plt.ylabel(\"Observos PDF\");"
   ]
  },
  {
   "attachments": {},
   "cell_type": "markdown",
   "metadata": {},
   "source": [
    "Suponiendo que esta es una función continua con solo observaciones escasas. Entonces, ¿cómo podemos llenar los espacios en blanco?"
   ]
  },
  {
   "cell_type": "code",
   "execution_count": null,
   "metadata": {},
   "outputs": [],
   "source": [
    "x = np.linspace(min(xs), max(xs), 1000)\n",
    "y1 = interp1d(xs, ys)(x)\n",
    "y2 = interp1d(xs, ys, kind=\"Próximo\")(x)\n",
    "y3 = interp1d(xs, ys, kind=\"Cuadratico\")(x)\n",
    "y4 = interp1d(xs, ys, kind=\"Cubico\")(x)\n",
    "\n",
    "from scipy.interpolate import splev, splrep\n",
    "y5 = splev(x, splrep(xs, ys))\n",
    "\n",
    "plt.scatter(xs, ys, s=30, label=\"Datos\", c=\"w\")\n",
    "plt.plot(x, y1, label=\"Lineal (defecto)\")\n",
    "plt.plot(x, y2, label=\"Próximo\", alpha=0.2)\n",
    "plt.plot(x, y3, label=\"Cuadratico\", ls='-')\n",
    "plt.plot(x, y4, label=\"Cúbico\", ls='-')\n",
    "plt.plot(x, y5, label=\"Spline\", ls='-', alpha=1)\n",
    "plt.legend();"
   ]
  },
  {
   "attachments": {},
   "cell_type": "markdown",
   "metadata": {},
   "source": [
    "Usando `interp1d` ahora podemos encontrar un valor de probabilidad para cualquier valor de `x`.\n",
    "\n",
    "* `scipy.integrate.trapz` para baja precisión pero alta velocidad. Escalas de precisión como `O(h)`\n",
    "* `scipy.integrate.simps` para una precisión media y una velocidad bastante alta. Escalas de precisión como `O(h^2)`\n",
    "* `scipy.integrate.quad` para alta precisión y baja velocidad. Precisión arbitraria.\n"
   ]
  },
  {
   "cell_type": "code",
   "execution_count": null,
   "metadata": {},
   "outputs": [],
   "source": [
    "from scipy.integrate import simps\n",
    "\n",
    "def obtener_prob(xs, ys, a, b, resolution=1000):\n",
    "    x_norm = np.linspace(min(xs), max(xs), resolution)\n",
    "    y_norm = interp1d(xs, ys, kind=\"cuadratico\")(x_norm)\n",
    "    normalisation = simps(y_norm, x=x_norm)\n",
    "    x_vals = np.linspace(a, b, resolution)\n",
    "    y_vals = interp1d(xs, ys, kind=\"cuadratico\")(x_vals)\n",
    "    return simps(y_vals, x=x_vals) / normalisation\n",
    "\n",
    "def obtener_cdf(xs, ys, v):\n",
    "    return obtener_prob(xs, ys, min(xs), v)\n",
    "\n",
    "def obtener_sf(xs, ys, v):\n",
    "    return 1 - obtener_cdf(xs, ys, v)\n",
    "\n",
    "print(obtener_prob(xs, ys, 0, 10))"
   ]
  },
  {
   "cell_type": "code",
   "execution_count": null,
   "metadata": {},
   "outputs": [],
   "source": [
    "v1, v2 = 6, 9.3\n",
    "area = obtener_prob(xs, ys, v1, v2)\n",
    "\n",
    "plt.scatter(xs, ys, s=30, label=\"Datos\", color=\"w\")\n",
    "plt.plot(x, y3, linestyle=\"-\", label=\"Interpolacion\")\n",
    "plt.fill_between(x, 0, y3, where=(x>=v1)&(x<=v2), alpha=0.2)\n",
    "plt.annotate(f\"p = {area:.3f}\", (7, 0.05))\n",
    "plt.legend();"
   ]
  },
  {
   "cell_type": "code",
   "execution_count": null,
   "metadata": {},
   "outputs": [],
   "source": [
    "x_new = np.linspace(min(xs), max(xs), 100)\n",
    "cdf_new = [obtener_cdf(xs, ys, i) for i in x_new]\n",
    "cheap_cdf = y3.cumsum() / y3.sum()\n",
    "\n",
    "plt.plot(x_new, cdf_new, label=\"Interpolato CDF\")\n",
    "plt.plot(x, cheap_cdf, label=\"Super trampa CDF para casos específicos\")\n",
    "plt.ylabel(\"CDF\")\n",
    "plt.xlabel(\"x\")\n",
    "plt.legend()\n",
    "plt.show();"
   ]
  }
 ],
 "metadata": {
  "kernelspec": {
   "display_name": "Python 3",
   "language": "python",
   "name": "python3"
  },
  "language_info": {
   "codemirror_mode": {
    "name": "ipython",
    "version": 3
   },
   "file_extension": ".py",
   "mimetype": "text/x-python",
   "name": "python",
   "nbconvert_exporter": "python",
   "pygments_lexer": "ipython3",
   "version": "3.6.8"
  }
 },
 "nbformat": 4,
 "nbformat_minor": 2
}
