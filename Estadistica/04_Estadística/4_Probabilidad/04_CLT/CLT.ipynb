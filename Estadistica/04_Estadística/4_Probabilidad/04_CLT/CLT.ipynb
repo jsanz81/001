{
 "cells": [
  {
   "attachments": {},
   "cell_type": "markdown",
   "metadata": {},
   "source": [
    "# Teorema Central Limite "
   ]
  },
  {
   "cell_type": "code",
   "execution_count": null,
   "metadata": {},
   "outputs": [],
   "source": [
    "import numpy as np\n",
    "import matplotlib.pyplot as plt\n",
    "from scipy.stats import expon, skewnorm"
   ]
  },
  {
   "cell_type": "code",
   "execution_count": null,
   "metadata": {},
   "outputs": [],
   "source": [
    "def obtener_datos(n):\n",
    "    datos = np.concatenate((expon.rvs(scale=1, size=n//2), skewnorm.rvs(5, loc=3, size=n//2)))\n",
    "    np.random.shuffle(datos)\n",
    "    return datos\n",
    "plt.hist(obtener_datos(2000), bins=50);"
   ]
  },
  {
   "cell_type": "code",
   "execution_count": null,
   "metadata": {},
   "outputs": [],
   "source": [
    "d10 = obtener_datos(10)\n",
    "print(d10.mean())"
   ]
  },
  {
   "cell_type": "code",
   "execution_count": null,
   "metadata": {},
   "outputs": [],
   "source": [
    "means = [obtener_datos(10).mean() for i in range(1000)]\n",
    "plt.hist(means, bins=50)\n",
    "print(np.std(means))"
   ]
  },
  {
   "cell_type": "code",
   "execution_count": null,
   "metadata": {},
   "outputs": [],
   "source": [
    "means = [obtener_datos(100).mean() for i in range(1000)]\n",
    "plt.hist(means, bins=50)\n",
    "print(np.std(means))"
   ]
  },
  {
   "cell_type": "code",
   "execution_count": null,
   "metadata": {},
   "outputs": [],
   "source": [
    "num_samps = [10, 50, 100, 500, 1000, 5000, 10000]\n",
    "stds = []\n",
    "for n in num_samps:\n",
    "    stds.append(np.std([obtener_datos(n).mean() for i in range(1000)]))\n",
    "plt.plot(num_samps, stds, 'o', label=\"Obs scatter\")\n",
    "plt.plot(num_samps, 1 / np.sqrt(num_samps), label=\"función Random\", alpha=0.5)\n",
    "plt.legend();"
   ]
  },
  {
   "cell_type": "code",
   "execution_count": null,
   "metadata": {},
   "outputs": [],
   "source": [
    "# Para una prueba final, pongamos esto en la misma escala que la primera ejecución pero con 1000 muestras.\n",
    "plt.hist([obtener_datos(1000).mean() for i in range(1000)], bins=20);\n",
    "plt.xlim(1.5,3);"
   ]
  },
  {
   "attachments": {},
   "cell_type": "markdown",
   "metadata": {},
   "source": [
    "# Resumen\n",
    "\n",
    "1. La distribución de las medias muestrales se aproxima a la normalidad\n",
    "2. El ancho está determinado por el número de puntos que se usan para calcular la media de cada muestra\n",
    "\n",
    "*****\n",
    "\n",
    "Si tiene $N$ muestras, la media de sus muestras se distribuye según una normal alrededor de la media real, con desviación estándar $\\sigma/\\sqrt{N}$.\n",
    "\n",
    "O *otra* manera de decir esto, es que si pasas de $N_1$ puntos de datos a $N_2$ puntos de datos, puedes determinar la $\\sqrt{N_2/N_1}$ media con mayor precisión. 4 veces más muestras no da 4 veces más precisión, solo el doble de precisión."
   ]
  },
  {
   "cell_type": "code",
   "execution_count": null,
   "metadata": {},
   "outputs": [],
   "source": [
    "n = 1000\n",
    "datos = obtener_datos(n)\n",
    "muestra_media = np.mean(datos)\n",
    "uncert_media = np.std(datos) / np.sqrt(n)\n",
    "print(f\"Se ha determinado que la media de la población de ser {muestra_media:.2f} +- {uncert_media:.2f}\")"
   ]
  },
  {
   "cell_type": "code",
   "execution_count": null,
   "metadata": {},
   "outputs": [],
   "source": [
    "from scipy.stats import norm\n",
    "xs = np.linspace(muestra_media - 0.2, muestra_media + 0.2, 100)\n",
    "ys = norm.pdf(xs, muestra_media, uncert_media)\n",
    "plt.plot(xs, ys)\n",
    "plt.xlabel(\"Pop media\")\n",
    "plt.ylabel(\"Probabilidad\");"
   ]
  }
 ],
 "metadata": {
  "kernelspec": {
   "display_name": "Python 3",
   "language": "python",
   "name": "python3"
  },
  "language_info": {
   "codemirror_mode": {
    "name": "ipython",
    "version": 3
   },
   "file_extension": ".py",
   "mimetype": "text/x-python",
   "name": "python",
   "nbconvert_exporter": "python",
   "pygments_lexer": "ipython3",
   "version": "3.6.8"
  }
 },
 "nbformat": 4,
 "nbformat_minor": 2
}
