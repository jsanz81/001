{
 "cells": [
  {
   "attachments": {},
   "cell_type": "markdown",
   "metadata": {},
   "source": [
    "# Distribuciones Muestrales\n",
    "\n",
    "## Usando Scipy"
   ]
  },
  {
   "cell_type": "code",
   "execution_count": null,
   "metadata": {},
   "outputs": [],
   "source": [
    "from scipy.stats import norm, uniform\n",
    "from scipy.integrate import simps\n",
    "import numpy as np\n",
    "import matplotlib.pyplot as plt"
   ]
  },
  {
   "cell_type": "code",
   "execution_count": null,
   "metadata": {},
   "outputs": [],
   "source": [
    "plt.hist(norm.rvs(loc=10, scale=2, size=1000), bins=50);"
   ]
  },
  {
   "cell_type": "code",
   "execution_count": null,
   "metadata": {},
   "outputs": [],
   "source": [
    "samples = np.ceil(uniform.rvs(loc=0, scale=6, size=(100000, 3))).sum(axis=1)\n",
    "plt.hist(samples, bins=100);"
   ]
  },
  {
   "attachments": {},
   "cell_type": "markdown",
   "metadata": {},
   "source": [
    "### Muestreo por Rechazo"
   ]
  },
  {
   "cell_type": "code",
   "execution_count": null,
   "metadata": {},
   "outputs": [],
   "source": [
    "def pdf(x):\n",
    "    return np.sin(x**2) + 1\n",
    "\n",
    "xs = np.linspace(0, 4, 200)\n",
    "ps = pdf(xs)\n",
    "plt.plot(xs, ps)\n",
    "plt.fill_between(xs, 0, ps, alpha=0.1)\n",
    "plt.xlim(0, 4)\n",
    "plt.ylim(0, 2);"
   ]
  },
  {
   "cell_type": "code",
   "execution_count": null,
   "metadata": {},
   "outputs": [],
   "source": [
    "n = 100\n",
    "random_x = uniform.rvs(loc=0, scale=4, size=n)\n",
    "random_y = uniform.rvs(loc=0, scale=2, size=n)\n",
    "\n",
    "plt.scatter(random_x, random_y)\n",
    "plt.plot(xs, ps, c=\"k\")\n",
    "plt.fill_between(xs, 0, ps, color=\"w\", alpha=0.1)\n",
    "plt.xlim(0, 4), plt.ylim(0, 2);"
   ]
  },
  {
   "cell_type": "code",
   "execution_count": null,
   "metadata": {},
   "outputs": [],
   "source": [
    "passed = random_y <= pdf(random_x)\n",
    "plt.scatter(random_x[passed], random_y[passed])\n",
    "plt.scatter(random_x[~passed], random_y[~passed], marker=\"x\", s=30, alpha=0.5)\n",
    "plt.plot(xs, ps, c=\"w\")\n",
    "plt.fill_between(xs, 0, ps, color=\"k\", alpha=0.1)\n",
    "plt.xlim(0, 4), plt.ylim(0, 2);"
   ]
  },
  {
   "cell_type": "code",
   "execution_count": null,
   "metadata": {},
   "outputs": [],
   "source": [
    "n2 = 100000\n",
    "x_test = uniform.rvs(scale=4, size=n2)\n",
    "x_final = x_test[uniform.rvs(scale=2, size=n2) <= pdf(x_test)]\n",
    "print(len(x_final))\n",
    "from scipy.integrate import simps\n",
    "plt.hist(x_final, density=True, histtype=\"step\", label=\"Distribución Muestral\")\n",
    "plt.plot(xs, ps / simps(ps, x=xs), c=\"k\", label=\"Empirico PDF\")\n",
    "plt.legend(loc=2);"
   ]
  },
  {
   "attachments": {},
   "cell_type": "markdown",
   "metadata": {},
   "source": [
    "### Muestreo por inversión"
   ]
  },
  {
   "cell_type": "code",
   "execution_count": null,
   "metadata": {},
   "outputs": [],
   "source": [
    "def pdf(x):\n",
    "    return 3 * x**2\n",
    "def cdf(x):\n",
    "    return x**3\n",
    "def icdf(cdf):\n",
    "    return cdf**(1/3)"
   ]
  },
  {
   "cell_type": "code",
   "execution_count": null,
   "metadata": {},
   "outputs": [],
   "source": [
    "xs = np.linspace(0, 1, 100)\n",
    "pdfs = pdf(xs)\n",
    "cdfs = cdf(xs)\n",
    "n = 2000\n",
    "u_samps = uniform.rvs(size=n)\n",
    "x_samps = icdf(u_samps)\n",
    "\n",
    "fig, axes = plt.subplots(ncols=2, figsize=(10, 4))\n",
    "axes[0].plot(xs, pdfs, color=\"k\", label=\"PDF\")\n",
    "axes[0].hist(x_samps, density=True, histtype=\"step\", label=\"Distribución Muestral\", bins=50)\n",
    "axes[1].plot(xs, cdfs, color=\"k\", label=\"CDF\")\n",
    "axes[1].hlines(u_samps, 0, x_samps, linewidth=0.1, alpha=0.3)\n",
    "axes[1].vlines(x_samps, 0, u_samps, linewidth=0.1, alpha=0.3)\n",
    "axes[0].legend(), axes[1].legend()\n",
    "axes[1].set_xlim(0, 1), axes[1].set_ylim(0, 1);\n",
    "axes[0].set_xlim(0, 1), axes[0].set_ylim(0, 3);"
   ]
  },
  {
   "cell_type": "code",
   "execution_count": null,
   "metadata": {},
   "outputs": [],
   "source": [
    "from scipy.interpolate import interp1d\n",
    "\n",
    "def pdf(x):\n",
    "    return np.sin(x**2) + 1\n",
    "xs = np.linspace(0, 4, 10000)\n",
    "pdfs = pdf(xs)\n",
    "cdfs = pdfs.cumsum() / pdfs.sum()  # ¡Peligro!\n",
    "\n",
    "u_samps = uniform.rvs(size=4000)\n",
    "x_samps = interp1d(cdfs, xs)(u_samps)\n",
    "\n",
    "fig, axes = plt.subplots(ncols=2, figsize=(10,4))\n",
    "axes[0].hist(x_samps, density=True, histtype=\"step\", label=\"Dist muestreo\", bins=50)\n",
    "axes[0].plot(xs, pdfs/4.747, color=\"k\", label=\"PDF Analitico\")\n",
    "axes[0].legend(loc=3), axes[0].set_xlim(0, 4)\n",
    "axes[1].plot(xs, cdfs, color=\"k\", label=\"Numerico CDF\")\n",
    "axes[1].hlines(u_samps, 0, x_samps, linewidth=0.1, alpha=0.3)\n",
    "axes[1].vlines(x_samps, 0, u_samps, linewidth=0.1, alpha=0.3)\n",
    "axes[1].legend(loc=2), axes[1].set_xlim(0, 4), axes[1].set_ylim(0, 1);"
   ]
  }
 ],
 "metadata": {
  "kernelspec": {
   "display_name": "Python 3",
   "language": "python",
   "name": "python3"
  },
  "language_info": {
   "codemirror_mode": {
    "name": "ipython",
    "version": 3
   },
   "file_extension": ".py",
   "mimetype": "text/x-python",
   "name": "python",
   "nbconvert_exporter": "python",
   "pygments_lexer": "ipython3",
   "version": "3.6.8"
  }
 },
 "nbformat": 4,
 "nbformat_minor": 2
}
