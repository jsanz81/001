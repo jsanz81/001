{
 "cells": [
  {
   "attachments": {},
   "cell_type": "markdown",
   "metadata": {},
   "source": [
    "# Cargar Datos en Python\n",
    "\n",
    "0. Manualmente cargando un fichero.\n",
    "1. Usando `np.loadtxt`\n",
    "2. Usando `np.genfromtxt`\n",
    "3. Usando `pd.read_csv`\n",
    "4. Usando `pickle`"
   ]
  },
  {
   "cell_type": "code",
   "execution_count": null,
   "metadata": {},
   "outputs": [],
   "source": [
    "import numpy as np\n",
    "import pickle\n",
    "import pandas as pd\n",
    "filename = \"load.csv\""
   ]
  },
  {
   "attachments": {},
   "cell_type": "markdown",
   "metadata": {},
   "source": [
    "Intenta y nunca cargues manualmente un archivo.\n",
    "\n",
    "![Locura](https://pavlov.psyciencia.com/2014/03/locura.jpeg)"
   ]
  },
  {
   "cell_type": "code",
   "execution_count": null,
   "metadata": {},
   "outputs": [],
   "source": [
    "cols = None\n",
    "data = []\n",
    "with open(filename) as f:\n",
    "    for line in f.readlines():\n",
    "        vals = line.replace(\"\\n\", \"\").split(\",\")\n",
    "        if cols is None:\n",
    "            cols = vals\n",
    "        else:\n",
    "            data.append([float(x) for x in vals])\n",
    "d0 = pd.DataFrame(data, columns=cols)\n",
    "print(\"=\"*20)\n",
    "print(\"El tipo de las columnas son: \")\n",
    "print(d0.dtypes)\n",
    "print(\"=\"*20)\n",
    "d0.head()"
   ]
  },
  {
   "attachments": {},
   "cell_type": "markdown",
   "metadata": {},
   "source": [
    "### np.loadtxt"
   ]
  },
  {
   "cell_type": "code",
   "execution_count": null,
   "metadata": {},
   "outputs": [],
   "source": [
    "d1 = np.loadtxt(filename, skiprows=1, delimiter=\",\")\n",
    "print(d1.dtype)\n",
    "print(d1[:5, :])"
   ]
  },
  {
   "attachments": {},
   "cell_type": "markdown",
   "metadata": {},
   "source": [
    "### np.genfromtxt"
   ]
  },
  {
   "cell_type": "code",
   "execution_count": null,
   "metadata": {},
   "outputs": [],
   "source": [
    "d2 = np.genfromtxt(filename, delimiter=\",\", names=True, dtype=None)\n",
    "print(d2.dtype)\n",
    "print(d2[:5])"
   ]
  },
  {
   "attachments": {},
   "cell_type": "markdown",
   "metadata": {},
   "source": [
    "### pandas.read_csv\n",
    "\n",
    "Con diferencia, el mejor y más flexible lector de archivos CSV/txt. Muy, muy recomendable. \n",
    "[Documentación](https://pandas.pydata.org/pandas-docs/stable/reference/api/pandas.read_csv.html)."
   ]
  },
  {
   "cell_type": "code",
   "execution_count": null,
   "metadata": {},
   "outputs": [],
   "source": [
    "d3 = pd.read_csv(filename)\n",
    "print(d3.dtypes)\n",
    "d3.head()"
   ]
  },
  {
   "attachments": {},
   "cell_type": "markdown",
   "metadata": {},
   "source": [
    "### pickle\n",
    "\n",
    "Para cuando los datos u objetos no son una buena matriz 2D y son más difíciles de guardar como algo legible por personas. Hay que tener en cuenta que si solo tiene un 3D, 4D... ND vectores todos del mismo tipo, también se puede usar `np.save`  el cual guardará una matriz numpy arbitraria en formato binario. Súper rápido para guardar, súper rápido para cargar y tamaño de archivo pequeño.\n",
    "\n",
    "Pickle es para todo lo que es más complicado. Puede guardar diccionarios, matrices e incluso objetos."
   ]
  },
  {
   "cell_type": "code",
   "execution_count": null,
   "metadata": {},
   "outputs": [],
   "source": [
    "with open(\"load_pickle.pickle\", \"rb\") as f:\n",
    "    d4 = pickle.load(f)\n",
    "print(d4.dtypes)\n",
    "d4.head()"
   ]
  }
 ],
 "metadata": {
  "kernelspec": {
   "display_name": "Python 3",
   "language": "python",
   "name": "python3"
  },
  "language_info": {
   "codemirror_mode": {
    "name": "ipython",
    "version": 3
   },
   "file_extension": ".py",
   "mimetype": "text/x-python",
   "name": "python",
   "nbconvert_exporter": "python",
   "pygments_lexer": "ipython3",
   "version": "3.6.8"
  }
 },
 "nbformat": 4,
 "nbformat_minor": 2
}
