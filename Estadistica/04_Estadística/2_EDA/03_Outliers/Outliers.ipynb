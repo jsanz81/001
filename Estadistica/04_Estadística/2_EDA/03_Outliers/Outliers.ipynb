{
 "cells": [
  {
   "attachments": {},
   "cell_type": "markdown",
   "metadata": {},
   "source": [
    "# Outliers"
   ]
  },
  {
   "cell_type": "code",
   "execution_count": null,
   "metadata": {},
   "outputs": [],
   "source": [
    "import numpy as np\n",
    "import matplotlib.pyplot as plt\n",
    "\n",
    "d1 = np.loadtxt(\"outlier_1d.txt\")\n",
    "d2 = np.loadtxt(\"outlier_2d.txt\")\n",
    "d3 = np.loadtxt(\"outlier_curve.txt\")\n",
    "print(d1.shape, d2.shape)\n",
    "\n",
    "plt.scatter(d1, np.random.normal(7, 0.2, size=d1.size), s=1, alpha=0.5)\n",
    "plt.scatter(d2[:, 0], d2[:, 1], s=5)\n",
    "plt.show();\n",
    "plt.plot(d3[:, 0], d3[:, 1]);"
   ]
  },
  {
   "attachments": {},
   "cell_type": "markdown",
   "metadata": {},
   "source": [
    "# Basico"
   ]
  },
  {
   "cell_type": "code",
   "execution_count": null,
   "metadata": {},
   "outputs": [],
   "source": [
    "media, std = np.mean(d1), np.std(d1)\n",
    "z_score = np.abs((d1 - media) / std)\n",
    "umbral = 3\n",
    "buenos = z_score < umbral\n",
    "\n",
    "print(f\"Rechazar {(~buenos).sum()} puntos\")\n",
    "from scipy.stats import norm\n",
    "print(f\"z-score de 3 corresponde a la probabilidad de {100 * 2 * norm.sf(umbral):0.2f}%\")\n",
    "visual_scatter = np.random.normal(size=d1.size)\n",
    "plt.scatter(d1[buenos], visual_scatter[buenos], s=2, label=\"Good\", color=\"#4CAF50\")\n",
    "plt.scatter(d1[~buenos], visual_scatter[~buenos], s=8, label=\"Bad\", color=\"#F44336\")\n",
    "plt.legend();"
   ]
  },
  {
   "cell_type": "code",
   "execution_count": null,
   "metadata": {},
   "outputs": [],
   "source": [
    "from scipy.stats import multivariate_normal as mn\n",
    "\n",
    "media, cov = np.mean(d2, axis=0), np.cov(d2.T)\n",
    "buenos = mn(media, cov).pdf(d2) > 0.01 / 100\n",
    "\n",
    "plt.scatter(d2[buenos, 0], d2[buenos, 1], s=2, label=\"Good\", color=\"#4CAF50\")\n",
    "plt.scatter(d2[~buenos, 0], d2[~buenos, 1], s=8, label=\"Bad\", color=\"#F44336\")\n",
    "plt.legend();"
   ]
  },
  {
   "attachments": {},
   "cell_type": "markdown",
   "metadata": {},
   "source": [
    "# Valores atípicos en el ajuste de curvas"
   ]
  },
  {
   "cell_type": "code",
   "execution_count": null,
   "metadata": {},
   "outputs": [],
   "source": [
    "xs, ys = d3.T\n",
    "p = np.polyfit(xs, ys,deg=5)\n",
    "ps = np.polyval(p, xs)\n",
    "plt.plot(xs, ys, \".\", label=\"Datos\", ms=1)\n",
    "plt.plot(xs, ps, label=\"Mal ajuste del polinomio\")\n",
    "plt.legend();"
   ]
  },
  {
   "cell_type": "code",
   "execution_count": null,
   "metadata": {},
   "outputs": [],
   "source": [
    "x, y = xs.copy(), ys.copy()\n",
    "for i in range(5):\n",
    "    p = np.polyfit(x, y, deg=5)\n",
    "    ps = np.polyval(p, x)\n",
    "    buenos = y - ps < 3  \n",
    "    \n",
    "    x_mala, y_mala = x[~buenos], y[~buenos]\n",
    "    x, y = x[buenos], y[buenos]\n",
    "    \n",
    "    plt.plot(x, y, \".\", label=\"Datos Usados\", ms=1)\n",
    "    plt.plot(x, np.polyval(p, x), label=f\"Polinomio Ajustado de grado {i}\")\n",
    "    plt.plot(x_mala, y_mala, \".\", label=\"Datos No Usados\", ms=5, c=\"r\")\n",
    "    plt.legend()\n",
    "    plt.show()\n",
    "    \n",
    "    if (~buenos).sum() == 0:\n",
    "        break"
   ]
  },
  {
   "attachments": {},
   "cell_type": "markdown",
   "metadata": {},
   "source": [
    "# Automating it"
   ]
  },
  {
   "cell_type": "code",
   "execution_count": null,
   "metadata": {},
   "outputs": [],
   "source": [
    "from sklearn.neighbors import LocalOutlierFactor\n",
    "\n",
    "lof = LocalOutlierFactor(n_neighbors=20, contamination=0.005)\n",
    "good = lof.fit_predict(d2) == 1\n",
    "plt.scatter(d2[good, 0], d2[good, 1], s=2, label=\"Buenos\", color=\"#4CAF50\")\n",
    "plt.scatter(d2[~good, 0], d2[~good, 1], s=8, label=\"Malos\", color=\"#F44336\")\n",
    "plt.legend();"
   ]
  }
 ],
 "metadata": {
  "kernelspec": {
   "display_name": "Python 3",
   "language": "python",
   "name": "python3"
  },
  "language_info": {
   "codemirror_mode": {
    "name": "ipython",
    "version": 3
   },
   "file_extension": ".py",
   "mimetype": "text/x-python",
   "name": "python",
   "nbconvert_exporter": "python",
   "pygments_lexer": "ipython3",
   "version": "3.6.8"
  }
 },
 "nbformat": 4,
 "nbformat_minor": 2
}
