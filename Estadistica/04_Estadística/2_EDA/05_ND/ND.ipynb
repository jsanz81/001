{
 "cells": [
  {
   "attachments": {},
   "cell_type": "markdown",
   "metadata": {},
   "source": [
    "# N-Dimensiaonal\n",
    "\n",
    "Para explorar datos de mayor dimensión y las relaciones entre los atributos de datos, cargaremos en el archivo `Diabetes.csv`. Para más información [Kaggle](https://www.kaggle.com/uciml/pima-indians-diabetes-database). "
   ]
  },
  {
   "cell_type": "code",
   "execution_count": null,
   "metadata": {
    "vscode": {
     "languageId": "python"
    }
   },
   "outputs": [],
   "source": [
    "import numpy as np\n",
    "import pandas as pd\n",
    "import matplotlib.pyplot as plt\n",
    "import seaborn as sb"
   ]
  },
  {
   "cell_type": "code",
   "execution_count": null,
   "metadata": {
    "vscode": {
     "languageId": "python"
    }
   },
   "outputs": [],
   "source": [
    "df_original = pd.read_csv(\"Diabetes.csv\")\n",
    "df_original.head()"
   ]
  },
  {
   "cell_type": "code",
   "execution_count": null,
   "metadata": {
    "vscode": {
     "languageId": "python"
    }
   },
   "outputs": [],
   "source": [
    "cols = [c for c in df_original.columns if c not in [\"Pregnancies\", \"Outcome\"]]\n",
    "df = df_original.copy()\n",
    "df[cols] = df[cols].replace({0: np.NaN})\n",
    "df.head()"
   ]
  },
  {
   "cell_type": "code",
   "execution_count": null,
   "metadata": {
    "vscode": {
     "languageId": "python"
    }
   },
   "outputs": [],
   "source": [
    "df.info()"
   ]
  },
  {
   "attachments": {},
   "cell_type": "markdown",
   "metadata": {},
   "source": [
    "# Observando los datos"
   ]
  },
  {
   "cell_type": "code",
   "execution_count": null,
   "metadata": {
    "vscode": {
     "languageId": "python"
    }
   },
   "outputs": [],
   "source": [
    "df.describe()"
   ]
  },
  {
   "attachments": {},
   "cell_type": "markdown",
   "metadata": {},
   "source": [
    "# Matriz Dispersión\n",
    "\n",
    "Este es un trazador de líneas útil ... Hay que tener en cuenta que sólo funciona con datos numéricos. Si desea incluir datos categóricos, se deberá convertir las categorías en etiquetas numéricas."
   ]
  },
  {
   "cell_type": "code",
   "execution_count": null,
   "metadata": {
    "vscode": {
     "languageId": "python"
    }
   },
   "outputs": [],
   "source": [
    "pd.plotting.scatter_matrix(df, figsize=(7, 7));"
   ]
  },
  {
   "cell_type": "code",
   "execution_count": null,
   "metadata": {
    "vscode": {
     "languageId": "python"
    }
   },
   "outputs": [],
   "source": [
    "df2 = df.dropna()\n",
    "colors = df2[\"Outcome\"].map(lambda x: \"#44d9ff\" if x else \"#f95b4a\")\n",
    "pd.plotting.scatter_matrix(df2, figsize=(7,7), color=colors);"
   ]
  },
  {
   "attachments": {},
   "cell_type": "markdown",
   "metadata": {},
   "source": [
    "El gráfico de dispersión proporciona los histogramas para las distribuciones a lo largo de la diagonal y también muchos gráficos de dispersión 2D fuera de la diagonal. No es que esta sea una matriz simétrica, así que solo miro la diagonal y debajo de ella normalmente. Se puede ver que algunas variables tienen mucha dispersión y algunas están correlacionadas (es decir, hay una dirección en su dispersión). Lo que nos lleva a...\n",
    "\n",
    "# Gráficos de correlación\n",
    "\n",
    "¡Para cuantificar fácilmente qué variables/atributos están correlacionados con otros!"
   ]
  },
  {
   "cell_type": "code",
   "execution_count": null,
   "metadata": {
    "vscode": {
     "languageId": "python"
    }
   },
   "outputs": [],
   "source": [
    "df.corr()"
   ]
  },
  {
   "cell_type": "code",
   "execution_count": null,
   "metadata": {
    "vscode": {
     "languageId": "python"
    }
   },
   "outputs": [],
   "source": [
    "sb.heatmap(df.corr());"
   ]
  },
  {
   "cell_type": "code",
   "execution_count": null,
   "metadata": {
    "vscode": {
     "languageId": "python"
    }
   },
   "outputs": [],
   "source": [
    "sb.heatmap(df.corr(), annot=True, cmap=\"viridis\", fmt=\"0.2f\");"
   ]
  },
  {
   "attachments": {},
   "cell_type": "markdown",
   "metadata": {},
   "source": [
    "Se puede ver que esta también es una matriz simétrica. Pero de inmediato permite señalar los atributos más correlacionados y anticorrelacionados. Algunos pueden ser simplemente de sentido común (Embarazos versus Edad, por ejemplo), pero otros pueden darnos una idea real de los datos.\n",
    "\n",
    "\n",
    "# Histogramas 2D\n",
    "\n",
    "Para el resto de esta sección, vamos a utilizar un conjunto de datos diferente que contiene más datos.\n",
    "\n",
    "Útil cuando tienes muchos *muchos* datos. [Vea aquí la API](https://matplotlib.org/api/_as_gen/matplotlib.pyplot.hist2d.html)"
   ]
  },
  {
   "cell_type": "code",
   "execution_count": null,
   "metadata": {
    "vscode": {
     "languageId": "python"
    }
   },
   "outputs": [],
   "source": [
    "df2 = pd.read_csv(\"height_weight.csv\")\n",
    "df2.info()\n",
    "df2.describe()"
   ]
  },
  {
   "cell_type": "code",
   "execution_count": null,
   "metadata": {
    "vscode": {
     "languageId": "python"
    }
   },
   "outputs": [],
   "source": [
    "plt.hist2d(df2[\"height\"], df2[\"weight\"], bins=20, cmap=\"magma\")\n",
    "plt.xlabel(\"Height\")\n",
    "plt.ylabel(\"Weight\");"
   ]
  },
  {
   "attachments": {},
   "cell_type": "markdown",
   "metadata": {},
   "source": [
    "# Gráficos de contorno\n",
    "\n",
    "Un poco difícil obtener información del histograma 2Dimensiones. Demasiado ruido en la imagen. ¿Y si se intenta un diagrama de contorno? Se tendra que almacenar.  [Vea aquí la API](https://matplotlib.org/api/_as_gen/matplotlib.pyplot.contour.html)"
   ]
  },
  {
   "cell_type": "code",
   "execution_count": null,
   "metadata": {
    "vscode": {
     "languageId": "python"
    }
   },
   "outputs": [],
   "source": [
    "hist, x_edge, y_edge = np.histogram2d(df2[\"height\"], df2[\"weight\"], bins=20)\n",
    "x_center = 0.5 * (x_edge[1:] + x_edge[:-1])\n",
    "y_center = 0.5 * (y_edge[1:] + y_edge[:-1])\n",
    "\n",
    "plt.contour(x_center, y_center, hist, levels=4)\n",
    "plt.xlabel(\"Height\")\n",
    "plt.ylabel(\"Weight\");"
   ]
  },
  {
   "attachments": {},
   "cell_type": "markdown",
   "metadata": {},
   "source": [
    "¡Parece que es igual de ruidoso con el gráfico de contorno! En general, para histogramas 2D y gráficos de contorno, tenga una gran cantidad de datos. ¡Simplemente no se tiene suficientes datos para obtener resultados fluidos!\n",
    "\n",
    "# Parcelas KDE\n",
    "\n",
    "Si tan solo pudiéramos suavizar los datos nosotros mismos. [Seaborn](https://seaborn.pydata.org/generated/seaborn.kdeplot.html)"
   ]
  },
  {
   "cell_type": "code",
   "execution_count": null,
   "metadata": {
    "vscode": {
     "languageId": "python"
    }
   },
   "outputs": [],
   "source": [
    "sb.kdeplot(df2[\"height\"], df2[\"weight\"], cmap=\"viridis\", bw=(2, 20));\n",
    "plt.hist2d(df2[\"height\"], df2[\"weight\"], bins=20, cmap=\"magma\", alpha=0.3);"
   ]
  },
  {
   "cell_type": "code",
   "execution_count": null,
   "metadata": {
    "vscode": {
     "languageId": "python"
    }
   },
   "outputs": [],
   "source": [
    "sb.kdeplot(df2[\"height\"], df2[\"weight\"], cmap=\"magma\", shade=True);"
   ]
  },
  {
   "attachments": {},
   "cell_type": "markdown",
   "metadata": {},
   "source": [
    "# En defensa de la simplicidad\n",
    "\n",
    "A veces no se necesita ir de lujo. Al hacer una pausa, hacer un balance de lo que se quiere ver, un diagrama de dispersión normalmente es bastante informativo y muy rápido de trazar."
   ]
  },
  {
   "cell_type": "code",
   "execution_count": null,
   "metadata": {
    "vscode": {
     "languageId": "python"
    }
   },
   "outputs": [],
   "source": [
    "m = df2[\"sex\"] == 1\n",
    "plt.scatter(df2.loc[m, \"height\"], df2.loc[m, \"weight\"], c=\"#16c6f7\", s=1, label=\"Male\")\n",
    "plt.scatter(df2.loc[~m, \"height\"], df2.loc[~m, \"weight\"], c=\"#ff8b87\", s=1, label=\"Female\")\n",
    "plt.xlabel(\"Height\")\n",
    "plt.ylabel(\"Weight\")\n",
    "plt.legend(loc=2);"
   ]
  },
  {
   "attachments": {},
   "cell_type": "markdown",
   "metadata": {},
   "source": [
    "## Recuerda \n",
    "![Recuerda](https://t4.ftcdn.net/jpg/00/28/30/47/240_F_28304775_VQ4dh7jHcwQOV3cUREVjAmhMkddJV9hr.jpg)\n",
    "\n",
    "* Cuando se está visualizando datos, comienza de manera simple y agregue complejidad según parezcan indicar los datos. No tiene sentido perder el tiempo profundizando mucho cuando no es necesario.\n",
    "\n",
    "* **Los gráficos no demuestran nada pero ayudan a entender los datos**"
   ]
  },
  {
   "attachments": {},
   "cell_type": "markdown",
   "metadata": {},
   "source": [
    "# Tratamiento de puntos con probabilidad\n",
    "\n",
    "Usando la biblioteca ChainConsumer ([ejemplos aquí](https://samreay.github.io/ChainConsumer/examples/index.html)). \n",
    "\n",
    "ChainConsumer no es un paquete estándar de anaconda, por lo que deberá ejecutar lo siguiente para instalarlo.\n",
    "\n",
    "`pip install chainconsumer`"
   ]
  },
  {
   "cell_type": "code",
   "execution_count": null,
   "metadata": {
    "vscode": {
     "languageId": "python"
    }
   },
   "outputs": [],
   "source": [
    "params = [\"height\", \"weight\"]\n",
    "male = df2.loc[m, params].values\n",
    "female = df2.loc[~m, params].values\n",
    "male.shape"
   ]
  },
  {
   "cell_type": "code",
   "execution_count": null,
   "metadata": {
    "vscode": {
     "languageId": "python"
    }
   },
   "outputs": [],
   "source": [
    "from chainconsumer import ChainConsumer\n",
    "c = ChainConsumer()\n",
    "c.add_chain(male, parameters=params, name=\"Male\", kde=1.0, color=\"b\")\n",
    "c.add_chain(female, parameters=params, name=\"Female\", kde=1.0, color=\"r\")\n",
    "c.configure(contour_labels=\"confidence\", usetex=False)\n",
    "c.plotter.plot(figsize=2.0);"
   ]
  },
  {
   "cell_type": "code",
   "execution_count": null,
   "metadata": {
    "vscode": {
     "languageId": "python"
    }
   },
   "outputs": [],
   "source": [
    "c.plotter.plot_summary(figsize=2.0);"
   ]
  }
 ],
 "metadata": {
  "kernelspec": {
   "display_name": "Python 3",
   "language": "python",
   "name": "python3"
  }
 },
 "nbformat": 4,
 "nbformat_minor": 2
}
