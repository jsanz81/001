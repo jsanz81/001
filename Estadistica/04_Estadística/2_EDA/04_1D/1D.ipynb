{
 "cells": [
  {
   "attachments": {},
   "cell_type": "markdown",
   "metadata": {},
   "source": [
    "# Unidimensional\n",
    "### Representaciones"
   ]
  },
  {
   "cell_type": "code",
   "execution_count": null,
   "metadata": {},
   "outputs": [],
   "source": [
    "import numpy as np\n",
    "import matplotlib.pyplot as plt\n",
    "import seaborn as sb\n",
    "import pandas as pd"
   ]
  },
  {
   "cell_type": "code",
   "execution_count": null,
   "metadata": {},
   "outputs": [],
   "source": [
    "d1 = np.loadtxt(\"example_1.txt\")\n",
    "d2 = np.loadtxt(\"example_2.txt\")\n",
    "print(d1.shape, d2.shape)"
   ]
  },
  {
   "attachments": {},
   "cell_type": "markdown",
   "metadata": {},
   "source": [
    "# Histogramas"
   ]
  },
  {
   "cell_type": "code",
   "execution_count": null,
   "metadata": {},
   "outputs": [],
   "source": [
    "plt.hist(d1, label=\"D1\")\n",
    "plt.hist(d2, label=\"D2\")\n",
    "plt.legend()\n",
    "plt.ylabel(\"Counts\");"
   ]
  },
  {
   "cell_type": "code",
   "execution_count": null,
   "metadata": {},
   "outputs": [],
   "source": [
    "bins = np.linspace(min(d1.min(), d2.min()), max(d1.max(), d2.max()), 50)\n",
    "counts1, _, _ = plt.hist(d1, bins=bins, label=\"D1\")\n",
    "plt.hist(d2, bins=bins, label=\"D2\")\n",
    "plt.legend()\n",
    "plt.ylabel(\"Counts\");"
   ]
  },
  {
   "cell_type": "code",
   "execution_count": null,
   "metadata": {},
   "outputs": [],
   "source": [
    "bins = np.linspace(min(d1.min(), d2.min()), max(d1.max(), d2.max()), 50)\n",
    "counts1, _, _ = plt.hist(d1, bins=bins, label=\"D1\", density=True)\n",
    "plt.hist(d2, bins=bins, label=\"D2\", density=True)\n",
    "plt.legend()\n",
    "plt.ylabel(\"Probability\");"
   ]
  },
  {
   "cell_type": "code",
   "execution_count": null,
   "metadata": {},
   "outputs": [],
   "source": [
    "bins = np.linspace(min(d1.min(), d2.min()), max(d1.max(), d2.max()), 50)\n",
    "plt.hist([d1, d2], bins=bins, label=\"Stacked\", density=True, histtype=\"barstacked\", alpha=0.5)\n",
    "plt.hist(d1, bins=bins, label=\"D1\", density=True, histtype=\"step\", lw=1)\n",
    "plt.hist(d2, bins=bins, label=\"D2\", density=True, histtype=\"step\", ls=\":\")\n",
    "plt.legend()\n",
    "plt.ylabel(\"Probability\");"
   ]
  },
  {
   "cell_type": "code",
   "execution_count": null,
   "metadata": {},
   "outputs": [],
   "source": [
    "bins = 50\n",
    "plt.hist([d1, d2], bins=bins, label=\"Stacked\", density=True, histtype=\"barstacked\", alpha=0.5)\n",
    "plt.hist(d1, bins=bins, label=\"D1\", density=True, histtype=\"step\", lw=1)\n",
    "plt.hist(d2, bins=bins, label=\"D2\", density=True, histtype=\"step\", ls=\":\")\n",
    "plt.legend()\n",
    "plt.ylabel(\"Probability\");"
   ]
  },
  {
   "attachments": {},
   "cell_type": "markdown",
   "metadata": {},
   "source": [
    "*******\n",
    "# Gráficas de enjambre"
   ]
  },
  {
   "cell_type": "code",
   "execution_count": null,
   "metadata": {},
   "outputs": [],
   "source": [
    "dataset = pd.DataFrame({\n",
    "    \"value\": np.concatenate((d1, d2)),\n",
    "    \"type\": np.concatenate((np.ones(d1.shape), np.zeros(d2.shape)))\n",
    "})\n",
    "dataset.info()"
   ]
  },
  {
   "cell_type": "code",
   "execution_count": null,
   "metadata": {},
   "outputs": [],
   "source": [
    "sb.swarmplot(dataset[\"value\"])"
   ]
  },
  {
   "cell_type": "code",
   "execution_count": null,
   "metadata": {},
   "outputs": [],
   "source": [
    "sb.swarmplot(x=\"type\", y=\"value\", data=dataset, size=2);"
   ]
  },
  {
   "attachments": {},
   "cell_type": "markdown",
   "metadata": {},
   "source": [
    "*****\n",
    "# Box Plots o Diagrama de Caja y Bigotes"
   ]
  },
  {
   "cell_type": "code",
   "execution_count": null,
   "metadata": {},
   "outputs": [],
   "source": [
    "sb.boxplot(x=\"type\", y=\"value\", data=dataset, whis=3.0);\n",
    "sb.swarmplot(x=\"type\", y=\"value\", data=dataset, size=2, color=\"k\", alpha=0.3);"
   ]
  },
  {
   "attachments": {},
   "cell_type": "markdown",
   "metadata": {},
   "source": [
    "*****\n",
    "\n",
    "# Gráficas de Violin\n"
   ]
  },
  {
   "cell_type": "code",
   "execution_count": null,
   "metadata": {},
   "outputs": [],
   "source": [
    "sb.violinplot(x=\"type\", y=\"value\", data=dataset);\n",
    "sb.swarmplot(x=\"type\", y=\"value\", data=dataset, size=2, color=\"k\", alpha=0.3);"
   ]
  },
  {
   "cell_type": "code",
   "execution_count": null,
   "metadata": {},
   "outputs": [],
   "source": [
    "sb.violinplot(x=\"type\", y=\"value\", data=dataset, inner=\"quartile\", bw=0.2);"
   ]
  },
  {
   "attachments": {},
   "cell_type": "markdown",
   "metadata": {},
   "source": [
    "*****\n",
    "\n",
    "# Funciones de Distribución Acumulada Empírica\n",
    "\n",
    "\n",
    "Cuando forma un histograma, el hecho de que tiene que agrupar los datos significa que el aspecto puede cambiar significativamente cuando cambia el tamaño del contenedor. Y cada contenedor tiene incertidumbre estadística. Puede superar eso usando un CDF. Es más difícil, visualmente, ver las características en el PDF cuando mira el CDF, sin embargo, generalmente es más útil cuando intenta hacer comparaciones cuantitativas entre múltiples distribuciones. Nos ocuparemos de eso más tarde."
   ]
  },
  {
   "cell_type": "code",
   "execution_count": null,
   "metadata": {},
   "outputs": [],
   "source": [
    "sd1 = np.sort(d1)\n",
    "sd2 = np.sort(d2)\n",
    "cdf = np.linspace(1/d1.size, 1, d1.size)\n",
    "\n",
    "plt.plot(sd1, cdf, label=\"D1 CDF\")\n",
    "plt.plot(sd2, cdf, label=\"D2 CDF\")\n",
    "plt.hist(d1, histtype=\"step\", density=True, alpha=0.3)\n",
    "plt.hist(d2, histtype=\"step\", density=True, alpha=0.3)\n",
    "plt.legend();"
   ]
  },
  {
   "attachments": {},
   "cell_type": "markdown",
   "metadata": {},
   "source": [
    "******\n",
    "# Descriptivo\n",
    "\n",
    "Si las gráficas no son suficientes y solo quieres números, puedes utilizar de pandas la función `describe`."
   ]
  },
  {
   "cell_type": "code",
   "execution_count": null,
   "metadata": {},
   "outputs": [],
   "source": [
    "df = pd.DataFrame({\"Data1\": d1, \"Data2\": d2})\n",
    "df.describe()"
   ]
  }
 ],
 "metadata": {
  "kernelspec": {
   "display_name": "Python 3",
   "language": "python",
   "name": "python3"
  },
  "language_info": {
   "codemirror_mode": {
    "name": "ipython",
    "version": 3
   },
   "file_extension": ".py",
   "mimetype": "text/x-python",
   "name": "python",
   "nbconvert_exporter": "python",
   "pygments_lexer": "ipython3",
   "version": "3.6.8"
  }
 },
 "nbformat": 4,
 "nbformat_minor": 2
}
