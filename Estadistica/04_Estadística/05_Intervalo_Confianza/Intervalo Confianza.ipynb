{
 "cells": [
  {
   "cell_type": "code",
   "execution_count": null,
   "id": "7ff88e85",
   "metadata": {},
   "outputs": [],
   "source": [
    "## 25 de noviembre\n",
    "### Librerias\n",
    "import numpy as np\n",
    "import scipy.stats as ss\n",
    "import random \n",
    "import math\n",
    "import matplotlib.pyplot as plt "
   ]
  },
  {
   "cell_type": "code",
   "execution_count": null,
   "id": "a6f35459",
   "metadata": {},
   "outputs": [],
   "source": [
    "np.random.seed(1234)\n",
    "#Poblacion_1=ss.poisson.rvs()\n",
    "Poblacion_1=ss.poisson.rvs(loc=5,mu=35,size=15000000)\n",
    "Poblacion_2=ss.poisson.rvs(loc=18,mu=10,size=10000000)"
   ]
  },
  {
   "cell_type": "code",
   "execution_count": null,
   "id": "77bbe49b",
   "metadata": {},
   "outputs": [],
   "source": [
    "Poblacion=np.concatenate((Poblacion_1,Poblacion_2))"
   ]
  },
  {
   "cell_type": "code",
   "execution_count": null,
   "id": "8654e976",
   "metadata": {},
   "outputs": [],
   "source": [
    "len(Poblacion)"
   ]
  },
  {
   "cell_type": "code",
   "execution_count": null,
   "id": "3bb624fb",
   "metadata": {},
   "outputs": [],
   "source": [
    "Poblacion.mean()"
   ]
  },
  {
   "cell_type": "code",
   "execution_count": null,
   "id": "a870da8b",
   "metadata": {},
   "outputs": [],
   "source": [
    "Poblacion_1.mean()"
   ]
  },
  {
   "cell_type": "code",
   "execution_count": null,
   "id": "6bd67260",
   "metadata": {},
   "outputs": [],
   "source": [
    "Poblacion_2.mean()"
   ]
  },
  {
   "cell_type": "code",
   "execution_count": null,
   "id": "c356e466",
   "metadata": {},
   "outputs": [],
   "source": [
    "## seleccionamos una muestra\n",
    "muestra_edades=np.random.choice(a=Poblacion,size=50000)"
   ]
  },
  {
   "cell_type": "code",
   "execution_count": null,
   "id": "788ef320",
   "metadata": {},
   "outputs": [],
   "source": [
    "muestra_edades.mean()"
   ]
  },
  {
   "cell_type": "code",
   "execution_count": null,
   "id": "84df88cf",
   "metadata": {},
   "outputs": [],
   "source": [
    "### Frecuencia Absoluta\n",
    "Poblacion.mean()-muestra_edades.mean()"
   ]
  },
  {
   "cell_type": "code",
   "execution_count": null,
   "id": "bbd770fe",
   "metadata": {},
   "outputs": [],
   "source": [
    "### Frecuencia relativa\n",
    "abs((Poblacion.mean()-muestra_edades.mean())/Poblacion.mean())*100"
   ]
  },
  {
   "cell_type": "code",
   "execution_count": null,
   "id": "33f02f03",
   "metadata": {},
   "outputs": [],
   "source": [
    "### Proporción \n",
    "poblacion_color_ojos=([\"marron\"]*137215 + [\"azul\"]*50025+[\"verde\"]*80132+[\"negro\"]*20200)"
   ]
  },
  {
   "cell_type": "code",
   "execution_count": null,
   "id": "e28718d1",
   "metadata": {},
   "outputs": [],
   "source": [
    "len(poblacion_color_ojos)"
   ]
  },
  {
   "cell_type": "code",
   "execution_count": null,
   "id": "a5b5307d",
   "metadata": {},
   "outputs": [],
   "source": [
    "## Muestra\n",
    "muestra_color_ojos=random.sample(poblacion_color_ojos,2300)"
   ]
  },
  {
   "cell_type": "code",
   "execution_count": null,
   "id": "ffa8e06f",
   "metadata": {},
   "outputs": [],
   "source": [
    "for color in set(poblacion_color_ojos):\n",
    "    print(\"proporcion estimada del {color} será: {resultado}\".format(color=color,resultado=muestra_color_ojos.count(color)/len(muestra_color_ojos)))"
   ]
  },
  {
   "cell_type": "code",
   "execution_count": null,
   "id": "6c9e6ce7",
   "metadata": {},
   "outputs": [],
   "source": [
    "import pandas as pd"
   ]
  },
  {
   "cell_type": "code",
   "execution_count": null,
   "id": "9a86f487",
   "metadata": {},
   "outputs": [],
   "source": [
    "pd.DataFrame(poblacion_color_ojos)#.values_count()"
   ]
  },
  {
   "cell_type": "code",
   "execution_count": null,
   "id": "9e449631",
   "metadata": {},
   "outputs": [],
   "source": [
    "a=pd.DataFrame(poblacion_color_ojos)"
   ]
  },
  {
   "cell_type": "code",
   "execution_count": null,
   "id": "6ae6aa51",
   "metadata": {},
   "outputs": [],
   "source": [
    "a[0].value_counts(normalize=True)"
   ]
  },
  {
   "cell_type": "code",
   "execution_count": null,
   "id": "bd734d08",
   "metadata": {},
   "outputs": [],
   "source": [
    "pd.DataFrame(Poblacion).hist(bins=50,range=(17.5,70));"
   ]
  },
  {
   "cell_type": "code",
   "execution_count": null,
   "id": "366425fb",
   "metadata": {},
   "outputs": [],
   "source": [
    "ss.kurtosis(Poblacion)"
   ]
  },
  {
   "cell_type": "code",
   "execution_count": null,
   "id": "56f99077",
   "metadata": {},
   "outputs": [],
   "source": [
    "ss.skew(Poblacion)"
   ]
  },
  {
   "cell_type": "code",
   "execution_count": null,
   "id": "149819ac",
   "metadata": {},
   "outputs": [],
   "source": [
    "np.random.seed(125)\n",
    "estimacion_puntual=[]\n",
    "for x in range(200):\n",
    "    muestra=np.random.choice(a=Poblacion,size=1000)\n",
    "    estimacion_puntual.append(muestra.mean())"
   ]
  },
  {
   "cell_type": "code",
   "execution_count": null,
   "id": "83e9f515",
   "metadata": {},
   "outputs": [],
   "source": [
    "pd.DataFrame(estimacion_puntual).plot(kind=\"density\");"
   ]
  },
  {
   "cell_type": "code",
   "execution_count": null,
   "id": "970f6bb7",
   "metadata": {},
   "outputs": [],
   "source": [
    "np.array(estimacion_puntual).mean()"
   ]
  },
  {
   "cell_type": "code",
   "execution_count": null,
   "id": "cb3aea5a",
   "metadata": {},
   "outputs": [],
   "source": [
    "Poblacion.mean()"
   ]
  },
  {
   "cell_type": "code",
   "execution_count": null,
   "id": "83b86bcb",
   "metadata": {},
   "outputs": [],
   "source": [
    "### Intervalos de Confianza"
   ]
  },
  {
   "cell_type": "code",
   "execution_count": null,
   "id": "31db85a5",
   "metadata": {},
   "outputs": [],
   "source": [
    "n=100\n",
    "muestra=np.random.choice(a=Poblacion,size=n)\n",
    "media_muestral=muestra.mean()"
   ]
  },
  {
   "cell_type": "code",
   "execution_count": null,
   "id": "3f5c59b8",
   "metadata": {},
   "outputs": [],
   "source": [
    "## Conociendo la varianza"
   ]
  },
  {
   "cell_type": "code",
   "execution_count": null,
   "id": "da63e67b",
   "metadata": {},
   "outputs": [],
   "source": [
    "alpha=0.05"
   ]
  },
  {
   "cell_type": "code",
   "execution_count": null,
   "id": "529d84d0",
   "metadata": {},
   "outputs": [],
   "source": [
    "z_alpha_2=alpha/2"
   ]
  },
  {
   "cell_type": "markdown",
   "id": "80d8e39c",
   "metadata": {},
   "source": [
    "$$\\bar{x}\\pm Z_{\\cfrac{\\alpha}{2}}\\cfrac{\\sigma}{\\sqrt{n}}$$"
   ]
  },
  {
   "cell_type": "code",
   "execution_count": null,
   "id": "84bb8e50",
   "metadata": {},
   "outputs": [],
   "source": [
    "z_critico=ss.norm.ppf(z_alpha_2)"
   ]
  },
  {
   "cell_type": "code",
   "execution_count": null,
   "id": "05faa99c",
   "metadata": {},
   "outputs": [],
   "source": [
    "z_critico"
   ]
  },
  {
   "cell_type": "code",
   "execution_count": null,
   "id": "b6aed229",
   "metadata": {},
   "outputs": [],
   "source": [
    "desviacion=Poblacion.std()"
   ]
  },
  {
   "cell_type": "code",
   "execution_count": null,
   "id": "6714e2dd",
   "metadata": {},
   "outputs": [],
   "source": [
    "Error=z_critico*(desviacion/n)"
   ]
  },
  {
   "cell_type": "code",
   "execution_count": null,
   "id": "182c9598",
   "metadata": {},
   "outputs": [],
   "source": [
    "print(\"Mi intervalo de confianza para la media es de [{0},{1}]\".format(media_muestral+Error,media_muestral-Error))"
   ]
  },
  {
   "cell_type": "code",
   "execution_count": null,
   "id": "d4ee7f62",
   "metadata": {},
   "outputs": [],
   "source": [
    "Intervalo=[]\n",
    "muestra_medias=[]\n",
    "for i in range(30):\n",
    "    muestra=np.random.choice(a=Poblacion,size=n)\n",
    "    muestra_medias.append(muestra.mean())\n",
    "    z_critico=ss.norm.ppf(0.975)\n",
    "    desviacion=Poblacion.std()\n",
    "    error=z_critico*(desviacion/n)\n",
    "    Intervalo_confianza=(muestra.mean()-error,muestra.mean()+error)\n",
    "    Intervalo.append(Intervalo_confianza)\n"
   ]
  },
  {
   "cell_type": "code",
   "execution_count": null,
   "id": "f53f1b76",
   "metadata": {},
   "outputs": [],
   "source": [
    "plt.errorbar(x=np.arange(0.1,30,1),\n",
    "            y=muestra_medias,\n",
    "            yerr=[(max-min)/2 for max, min in Intervalo],\n",
    "            fmt='o');"
   ]
  },
  {
   "cell_type": "code",
   "execution_count": null,
   "id": "9988260c",
   "metadata": {},
   "outputs": [],
   "source": [
    "### La varianza población es desconocida"
   ]
  },
  {
   "cell_type": "code",
   "execution_count": null,
   "id": "a5755a57",
   "metadata": {},
   "outputs": [],
   "source": [
    "n=23\n",
    "muestra=np.random.choice(a=Poblacion,size=n)"
   ]
  },
  {
   "cell_type": "code",
   "execution_count": null,
   "id": "cfd7c4c5",
   "metadata": {},
   "outputs": [],
   "source": [
    "media_muestral=muestra.mean()\n",
    "t_critico=ss.t.ppf(0.975,df=n-1)\n",
    "cuasi_desviacion_muestral=muestra.std(ddof=1)\n"
   ]
  },
  {
   "cell_type": "code",
   "execution_count": null,
   "id": "64708e6a",
   "metadata": {},
   "outputs": [],
   "source": [
    "intervalo_confianza=(media_muestral-t_critico*cuasi_desviacion_muestral/math.sqrt(n),media_muestral+t_critico*cuasi_desviacion_muestral/math.sqrt(n))"
   ]
  },
  {
   "cell_type": "code",
   "execution_count": null,
   "id": "099c0687",
   "metadata": {},
   "outputs": [],
   "source": [
    "intervalo_confianza"
   ]
  }
 ],
 "metadata": {
  "kernelspec": {
   "display_name": "base",
   "language": "python",
   "name": "python3"
  },
  "language_info": {
   "codemirror_mode": {
    "name": "ipython",
    "version": 3
   },
   "file_extension": ".py",
   "mimetype": "text/x-python",
   "name": "python",
   "nbconvert_exporter": "python",
   "pygments_lexer": "ipython3",
   "version": "3.9.12"
  },
  "vscode": {
   "interpreter": {
    "hash": "93b270aff94e38196a98effae74ed121e7c4be36a010106ff9b6f6d47d6f1709"
   }
  }
 },
 "nbformat": 4,
 "nbformat_minor": 5
}
